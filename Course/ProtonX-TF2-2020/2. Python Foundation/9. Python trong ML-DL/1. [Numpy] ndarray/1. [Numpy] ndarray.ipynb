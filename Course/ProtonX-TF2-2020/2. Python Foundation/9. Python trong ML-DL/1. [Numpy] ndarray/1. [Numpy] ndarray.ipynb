{
  "nbformat": 4,
  "nbformat_minor": 0,
  "metadata": {
    "kernelspec": {
      "display_name": "Python 3",
      "name": "python3"
    },
    "language_info": {
      "name": "python"
    },
    "colab": {
      "name": "ndarray.ipynb",
      "provenance": []
    }
  },
  "cells": [
    {
      "cell_type": "markdown",
      "metadata": {
        "id": "rLE142IsnMdb"
      },
      "source": [
        "Cần có các thư viện bổ sung sau để chạy Notebook này."
      ]
    },
    {
      "cell_type": "code",
      "metadata": {
        "id": "nFJgGiF-nMdc"
      },
      "source": [
        "!pip install -U mxnet-cu101==1.7.0"
      ],
      "execution_count": null,
      "outputs": []
    },
    {
      "cell_type": "markdown",
      "metadata": {
        "origin_pos": 0,
        "id": "7KIt8MvZnMdh"
      },
      "source": [
        "# Thao tác với Dữ liệu\n",
        "\n",
        "Muốn thực hiện bất cứ điều gì, chúng ta đều cần một cách nào đó để lưu trữ và thao tác với dữ liệu. Thường sẽ có hai điều quan trọng chúng ta cần làm với dữ liệu: \n",
        "1. thu thập dữ liệu.\n",
        "2. xử lý sau khi đã có dữ liệu trên máy tính.\n",
        "\n",
        "Sẽ thật vô nghĩa khi thu thập dữ liệu mà không có cách để lưu trữ nó, vậy nên trước tiên hãy cùng làm quen với dữ liệu tổng hợp. Để bắt đầu, chúng ta sẽ tìm hiểu về  mảng $n$ chiều (ndarray) – công cụ chính trong `MXNET` để lưu trữ và biến đổi dữ liệu. Trong `MXNet`, ndarray là một lớp và mỗi thực thể của lớp đó là “một ndarray” (còn gọi khác là *tensor*).\n",
        "\n",
        "Nếu bạn từng làm việc với `NumPy`, gói tính toán phổ biến nhất trong `Python`, bạn sẽ thấy mục này quen thuộc. Việc này là có chủ đích. Việc thiết kế `ndarray` trong `MXNet` là một dạng mở rộng của ndarray trong NumPy với một vài tính năng đặc biệt. Thứ nhất, ndarray trong MXNet hỗ trợ tính toán phi đồng bộ trên CPU, GPU, và các kiến trúc phân tán đám mây, trong khi NumPy chỉ hỗ trợ tính toán trên CPU. Thứ hai, ndaray trong MXNet hỗ trợ tính vi phân tự động. Những tính chất này khiến ndarray của MXNet phù hợp với Deep Learning. \n",
        "\n",
        "## Bắt đầu \n",
        "\n",
        "Trong mục này, mục tiêu là trang bị cho bạn các kiến thức toán cơ bản và cài đặt các công cụ tính toán thường dùng trong Machine Learning. \n"
      ]
    },
    {
      "cell_type": "markdown",
      "metadata": {
        "origin_pos": 1,
        "tab": [
          "mxnet"
        ],
        "id": "xb1Am-GxnMdi"
      },
      "source": [
        "Để bắt đầu, ta cần khai báo modul `np` (numpy) và `npx` (numpy_extension) từ MXNet. Ở đây, modul `np` bao gồm các hàm hỗ trợ bởi NumPy, trong khi modul `npx` chứa một tập các hàm mở rộng được phát triển để hỗ trợ học sâu trong một môi trường giống với NumPy. \n",
        "\n",
        "Khi sử dụng ndarray, ta luôn cần gọi hàm `set_np`: điều này nhằm đảm bảo sự tương thích của việc xử lý ndarray bằng các thành phần khác của MXNet."
      ]
    },
    {
      "cell_type": "code",
      "metadata": {
        "origin_pos": 4,
        "tab": [
          "mxnet"
        ],
        "id": "yPQqB1KJnMdk"
      },
      "source": [
        "from mxnet import np, npx\n",
        "npx.set_np()"
      ],
      "execution_count": null,
      "outputs": []
    },
    {
      "cell_type": "markdown",
      "metadata": {
        "origin_pos": 7,
        "id": "oioW7Zt-nMdp"
      },
      "source": [
        "Một ndarray biểu diễn một mảng (có thể đa chiều) các giá trị số. \n",
        "\n",
        "- Với một trục, một ndarray tương ứng (trong toán) với một vector. \n",
        "- Với hai trục, một ndarray tương ứng với một ma trận. \n",
        "- Các mảng với nhiều hơn hai trục không có tên toán học cụ thể – chúng được gọi chung là **tensor**.\n",
        "\n",
        "Để bắt đầu, chúng ta sử dụng `arange` để tạo một vector hàng `x` chứa  12  số nguyên đầu tiên bắt đầu từ  0, nhưng được khởi tạo mặc định dưới dạng số thực. Mỗi giá trị trong một ndarray được gọi là một phần tử của ndarray đó. Như vậy, có 12 phần tử trong ndarray x. Nếu không nói gì thêm, một ndarray mới sẽ được lưu trong bộ nhớ chính và được tính toán trên CPU.\n",
        "\n"
      ]
    },
    {
      "cell_type": "code",
      "metadata": {
        "origin_pos": 8,
        "tab": [
          "mxnet"
        ],
        "id": "Sb1FOFivnMdq",
        "colab": {
          "base_uri": "https://localhost:8080/",
          "height": 34
        },
        "outputId": "7c198401-edfb-4c5f-df8f-2b571778b42d"
      },
      "source": [
        "x = np.arange(12)\n",
        "x"
      ],
      "execution_count": null,
      "outputs": [
        {
          "output_type": "execute_result",
          "data": {
            "text/plain": [
              "array([ 0.,  1.,  2.,  3.,  4.,  5.,  6.,  7.,  8.,  9., 10., 11.])"
            ]
          },
          "metadata": {
            "tags": []
          },
          "execution_count": 3
        }
      ]
    },
    {
      "cell_type": "markdown",
      "metadata": {
        "origin_pos": 11,
        "id": "y6w4OFJonMdu"
      },
      "source": [
        "Chúng ta có thể lấy kích thước (độ dài theo mỗi trục) của ndarray bằng thuộc tính `shape`."
      ]
    },
    {
      "cell_type": "code",
      "metadata": {
        "origin_pos": 12,
        "tab": [
          "mxnet"
        ],
        "id": "Z6huo5_VnMdv",
        "colab": {
          "base_uri": "https://localhost:8080/",
          "height": 34
        },
        "outputId": "1152606c-0feb-4f69-f735-e8edffa750fe"
      },
      "source": [
        "x.shape"
      ],
      "execution_count": null,
      "outputs": [
        {
          "output_type": "execute_result",
          "data": {
            "text/plain": [
              "(12,)"
            ]
          },
          "metadata": {
            "tags": []
          },
          "execution_count": 4
        }
      ]
    },
    {
      "cell_type": "markdown",
      "metadata": {
        "origin_pos": 13,
        "id": "578m33gknMdy"
      },
      "source": [
        "Nếu chỉ muốn biết tổng số phần tử của một ndarray, nghĩa là tích của tất cả các thành phần trong `shape`, ta có thể sử dụng thuộc tính `size`. Vì ta đang làm việc với một vector, cả shape và size của nó đều chứa cùng một phần tử duy nhất."
      ]
    },
    {
      "cell_type": "code",
      "metadata": {
        "origin_pos": 14,
        "tab": [
          "mxnet"
        ],
        "id": "hVzMdzcFnMdy",
        "colab": {
          "base_uri": "https://localhost:8080/",
          "height": 34
        },
        "outputId": "1f4d3add-088f-432b-8a63-2b0baf006aaa"
      },
      "source": [
        "x.size"
      ],
      "execution_count": null,
      "outputs": [
        {
          "output_type": "execute_result",
          "data": {
            "text/plain": [
              "12"
            ]
          },
          "metadata": {
            "tags": []
          },
          "execution_count": 5
        }
      ]
    },
    {
      "cell_type": "markdown",
      "metadata": {
        "origin_pos": 17,
        "id": "agWgssqwnMd5"
      },
      "source": [
        "Để thay đổi kích thước của một ndarray mà không làm thay đổi số lượng phần tử cũng như giá trị của chúng, ta có thể gọi hàm `reshape`. \n",
        "\n",
        "Ví dụ, ta có thể biến đổi ndarray x trong ví dụ trên, từ một vector hàng với kích thước `( 12 ,)` sang một ma trận với kích thước `( 3 ,  4 )`. ndarray mới này chứa  12  phần tử y hệt, nhưng được xem như một ma trận với  3  hàng và  4  cột. Mặc dù kích thước thay đổi, các phần tử của x vẫn giữ nguyên. Chú ý rằng size giữ nguyên khi thay đổi kích thước.\n"
      ]
    },
    {
      "cell_type": "code",
      "metadata": {
        "origin_pos": 18,
        "tab": [
          "mxnet"
        ],
        "id": "neDDR4JgnMd8",
        "colab": {
          "base_uri": "https://localhost:8080/",
          "height": 68
        },
        "outputId": "4ab87dde-5961-4087-db33-d4c951029edb"
      },
      "source": [
        "X = x.reshape(3, 4)\n",
        "X"
      ],
      "execution_count": null,
      "outputs": [
        {
          "output_type": "execute_result",
          "data": {
            "text/plain": [
              "array([[ 0.,  1.,  2.,  3.],\n",
              "       [ 4.,  5.,  6.,  7.],\n",
              "       [ 8.,  9., 10., 11.]])"
            ]
          },
          "metadata": {
            "tags": []
          },
          "execution_count": 6
        }
      ]
    },
    {
      "cell_type": "markdown",
      "metadata": {
        "origin_pos": 20,
        "id": "1cbQi2aJnMeF"
      },
      "source": [
        "Việc chỉ định cụ thể mọi chiều khi thay đổi kích thước là không cần thiết. Nếu kích thước mong muốn là một ma trận với kích thước (chiều_cao, chiều_rộng), thì sau khi biết chiều_rộng thì chiều_cao có thể được ngầm suy ra. \n",
        "\n",
        "Tại sao ta lại cần phải tự làm phép tính chia? Trong ví dụ trên, để có được một ma trận với  3  hàng, chúng ta phải chỉ định rõ rằng nó có  3  hàng và  4  cột. May mắn thay, ndarray có thể tự động tính một chiều từ các chiều còn lại. Ta có thể dùng chức năng này bằng cách đặt `-1` cho chiều mà ta muốn ndarray tự suy ra. Trong trường hợp vừa rồi, thay vì gọi `x.reshape(3, 4)`, ta có thể gọi `x.reshape(-1, 4)` hoặc `x.reshape(3, -1)`.\n",
        "\n",
        "\n",
        "\n"
      ]
    },
    {
      "cell_type": "code",
      "metadata": {
        "id": "Rb9nJ6vkqlmR",
        "colab": {
          "base_uri": "https://localhost:8080/",
          "height": 68
        },
        "outputId": "9f17c74b-c871-4a16-fd94-b8bd3b58d2d8"
      },
      "source": [
        "X = x.reshape(-1, 4)\n",
        "X"
      ],
      "execution_count": null,
      "outputs": [
        {
          "output_type": "execute_result",
          "data": {
            "text/plain": [
              "array([[ 0.,  1.,  2.,  3.],\n",
              "       [ 4.,  5.,  6.,  7.],\n",
              "       [ 8.,  9., 10., 11.]])"
            ]
          },
          "metadata": {
            "tags": []
          },
          "execution_count": 7
        }
      ]
    },
    {
      "cell_type": "markdown",
      "metadata": {
        "id": "-dSFIN4oqko9"
      },
      "source": [
        "Thông thường ta muốn khởi tạo các ma trận với các giá trị bằng không, bằng một, bằng hằng số nào đó hoặc bằng các mẫu ngẫu nhiên lấy từ một phân phối cụ thể. Ta có thể tạo một ndarray biểu diễn một tensor với tất cả các phần tử bằng  0  và có kích thước ( 2 ,  3 ,  4 ) như sau:"
      ]
    },
    {
      "cell_type": "code",
      "metadata": {
        "origin_pos": 21,
        "tab": [
          "mxnet"
        ],
        "id": "wDBSCkSAnMeH",
        "colab": {
          "base_uri": "https://localhost:8080/",
          "height": 136
        },
        "outputId": "abeb6c90-2049-42bc-8f87-5b922b25ccdc"
      },
      "source": [
        "np.zeros((2, 3, 4))"
      ],
      "execution_count": null,
      "outputs": [
        {
          "output_type": "execute_result",
          "data": {
            "text/plain": [
              "array([[[0., 0., 0., 0.],\n",
              "        [0., 0., 0., 0.],\n",
              "        [0., 0., 0., 0.]],\n",
              "\n",
              "       [[0., 0., 0., 0.],\n",
              "        [0., 0., 0., 0.],\n",
              "        [0., 0., 0., 0.]]])"
            ]
          },
          "metadata": {
            "tags": []
          },
          "execution_count": 8
        }
      ]
    },
    {
      "cell_type": "markdown",
      "metadata": {
        "origin_pos": 24,
        "id": "DavjveZsnMeK"
      },
      "source": [
        "Tương tự, ta có thể tạo các tensor với các phần tử bằng 1 như sau:"
      ]
    },
    {
      "cell_type": "code",
      "metadata": {
        "origin_pos": 25,
        "tab": [
          "mxnet"
        ],
        "id": "iIOcINI3nMeL",
        "colab": {
          "base_uri": "https://localhost:8080/",
          "height": 136
        },
        "outputId": "cf775525-dbb8-4c54-8fe5-00e625b23875"
      },
      "source": [
        "np.ones((2, 3, 4))"
      ],
      "execution_count": null,
      "outputs": [
        {
          "output_type": "execute_result",
          "data": {
            "text/plain": [
              "array([[[1., 1., 1., 1.],\n",
              "        [1., 1., 1., 1.],\n",
              "        [1., 1., 1., 1.]],\n",
              "\n",
              "       [[1., 1., 1., 1.],\n",
              "        [1., 1., 1., 1.],\n",
              "        [1., 1., 1., 1.]]])"
            ]
          },
          "metadata": {
            "tags": []
          },
          "execution_count": 9
        }
      ]
    },
    {
      "cell_type": "markdown",
      "metadata": {
        "origin_pos": 28,
        "id": "wqWZcJG1nMeO"
      },
      "source": [
        "\n",
        "\n",
        "Ta thường muốn lấy mẫu ngẫu nhiên cho mỗi phần tử trong một ndarray từ một phân phối xác suất. Ví dụ, khi xây dựng các mảng để chứa các tham số của một mạng nơ-ron, ta thường khởi tạo chúng với các giá trị ngẫu nhiên. Đoạn mã dưới đây tạo một ndarray có kích thước ( 3 ,  4 ) với các phần tử được lấy mẫu ngẫu nhiên từ một phân phối Gauss (phân phối chuẩn) với trung bình bằng  0  và độ lệch chuẩn  1 .\n"
      ]
    },
    {
      "cell_type": "code",
      "metadata": {
        "origin_pos": 29,
        "tab": [
          "mxnet"
        ],
        "id": "ZfHefziLnMeP",
        "colab": {
          "base_uri": "https://localhost:8080/",
          "height": 68
        },
        "outputId": "74ede376-ab0d-4094-da86-ff1e0478ae85"
      },
      "source": [
        "np.random.normal(0, 1, size=(3, 4))"
      ],
      "execution_count": null,
      "outputs": [
        {
          "output_type": "execute_result",
          "data": {
            "text/plain": [
              "array([[ 2.2122064 ,  1.1630787 ,  0.7740038 ,  0.4838046 ],\n",
              "       [ 1.0434403 ,  0.29956347,  1.1839255 ,  0.15302546],\n",
              "       [ 1.8917114 , -1.1688148 , -1.2347414 ,  1.5580711 ]])"
            ]
          },
          "metadata": {
            "tags": []
          },
          "execution_count": 10
        }
      ]
    },
    {
      "cell_type": "markdown",
      "metadata": {
        "origin_pos": 32,
        "id": "ThFUKiWEnMeS"
      },
      "source": [
        "Ta cũng có thể khởi tạo giá trị cụ thể cho mỗi phần tử trong ndarray mong muốn bằng cách đưa vào một mảng Python (hoặc mảng của mảng) chứa các giá trị số. Ở đây, mảng ngoài cùng tương ứng với trục  0 , và mảng bên trong tương ứng với trục  1 .\n"
      ]
    },
    {
      "cell_type": "code",
      "metadata": {
        "origin_pos": 33,
        "tab": [
          "mxnet"
        ],
        "id": "LcJ3y5nCnMeT",
        "outputId": "d8eb90a0-f263-4167-8d62-b3c9c71ea790"
      },
      "source": [
        "np.array([[2, 1, 4, 3], [1, 2, 3, 4], [4, 3, 2, 1]])"
      ],
      "execution_count": null,
      "outputs": [
        {
          "output_type": "execute_result",
          "data": {
            "text/plain": [
              "array([[2., 1., 4., 3.],\n",
              "       [1., 2., 3., 4.],\n",
              "       [4., 3., 2., 1.]])"
            ]
          },
          "metadata": {
            "tags": []
          },
          "execution_count": 9
        }
      ]
    },
    {
      "cell_type": "markdown",
      "metadata": {
        "origin_pos": 36,
        "id": "5gqhHjxSnMeY"
      },
      "source": [
        "## Phép toán\n",
        "\n",
        "Trong MXNet, các phép toán tiêu chuẩn (`+`, `-`, `*`, `/`, và `**`) là các phép toán theo từng phần tử trên các tensor đồng kích thước bất kỳ. Ta có thể gọi những phép toán theo từng phần tử lên hai tensor đồng kích thước. Trong ví dụ dưới đây, các dấu phẩy được sử dụng để tạo một tuple  5  phần tử với mỗi phần tử là kết quả của một phép toán theo từng phần tử.\n"
      ]
    },
    {
      "cell_type": "code",
      "metadata": {
        "origin_pos": 37,
        "tab": [
          "mxnet"
        ],
        "id": "1X0mKFNJnMeZ",
        "colab": {
          "base_uri": "https://localhost:8080/",
          "height": 102
        },
        "outputId": "5f8fa9c5-8820-46f5-ee4c-d5e50ab957c9"
      },
      "source": [
        "x = np.array([1, 2, 4, 8])\n",
        "y = np.array([2, 2, 2, 2])\n",
        "x + y, x - y, x * y, x / y, x ** y  # The ** operator is exponentiation"
      ],
      "execution_count": null,
      "outputs": [
        {
          "output_type": "execute_result",
          "data": {
            "text/plain": [
              "(array([ 3.,  4.,  6., 10.]),\n",
              " array([-1.,  0.,  2.,  6.]),\n",
              " array([ 2.,  4.,  8., 16.]),\n",
              " array([0.5, 1. , 2. , 4. ]),\n",
              " array([ 1.,  4., 16., 64.]))"
            ]
          },
          "metadata": {
            "tags": []
          },
          "execution_count": 11
        }
      ]
    },
    {
      "cell_type": "markdown",
      "metadata": {
        "origin_pos": 40,
        "id": "oHYWOwTsnMec"
      },
      "source": [
        "\n",
        "Rất nhiều các phép toán khác có thể được áp dụng theo từng phần tử, bao gồm các phép toán đơn ngôi như hàm mũ cơ số  𝑒 ."
      ]
    },
    {
      "cell_type": "code",
      "metadata": {
        "origin_pos": 41,
        "tab": [
          "mxnet"
        ],
        "id": "ymIyWaiknMed",
        "colab": {
          "base_uri": "https://localhost:8080/",
          "height": 34
        },
        "outputId": "6d3d8d8c-262b-454b-b39c-6efce4db1410"
      },
      "source": [
        "np.exp(x)"
      ],
      "execution_count": null,
      "outputs": [
        {
          "output_type": "execute_result",
          "data": {
            "text/plain": [
              "array([2.7182817e+00, 7.3890562e+00, 5.4598148e+01, 2.9809580e+03])"
            ]
          },
          "metadata": {
            "tags": []
          },
          "execution_count": 12
        }
      ]
    },
    {
      "cell_type": "markdown",
      "metadata": {
        "origin_pos": 44,
        "id": "6gcAs-f3nMeg"
      },
      "source": [
        "\n",
        "\n",
        "Ta cũng có thể nối nhiều `ndarray` với nhau, xếp chồng chúng lên nhau để tạo ra một `ndarray` lớn hơn. Ta chỉ cần cung cấp một danh sách các ndarray và khai báo chúng được nối theo trục nào. \n",
        "\n",
        "Ví dụ dưới đây thể hiện cách nối hai ma trận theo hàng (trục  0 , phần tử đầu tiên của kích thước) và theo cột (trục  1 , phần tử thứ hai của kích thước). \n",
        "\n",
        "Ta có thể thấy rằng:\n",
        "- Cách thứ nhất tạo một ndarray với độ dài trục  0  ( 6 ) bằng tổng các độ dài trục  0  của hai ndarray đầu vào ( 3+3 )\n",
        "- Cách thứ hai tạo một ndarray với độ dài trục  1  ( 8 ) bằng tổng các độ dài trục  1  của hai ndarray đầu vào ( 4+4 ).\n"
      ]
    },
    {
      "cell_type": "code",
      "metadata": {
        "origin_pos": 45,
        "tab": [
          "mxnet"
        ],
        "id": "GZu_AfSQnMeh",
        "colab": {
          "base_uri": "https://localhost:8080/",
          "height": 119
        },
        "outputId": "19bdbd37-0a40-4fd8-9dd5-4d7933305bb7"
      },
      "source": [
        "X = np.arange(12).reshape(3, 4)\n",
        "Y = np.array([[2, 1, 4, 3], [1, 2, 3, 4], [4, 3, 2, 1]])\n",
        "\n",
        "# Cách 1\n",
        "np.concatenate([X, Y], axis=0)"
      ],
      "execution_count": null,
      "outputs": [
        {
          "output_type": "execute_result",
          "data": {
            "text/plain": [
              "array([[ 0.,  1.,  2.,  3.],\n",
              "       [ 4.,  5.,  6.,  7.],\n",
              "       [ 8.,  9., 10., 11.],\n",
              "       [ 2.,  1.,  4.,  3.],\n",
              "       [ 1.,  2.,  3.,  4.],\n",
              "       [ 4.,  3.,  2.,  1.]])"
            ]
          },
          "metadata": {
            "tags": []
          },
          "execution_count": 15
        }
      ]
    },
    {
      "cell_type": "code",
      "metadata": {
        "id": "vyfsNF8osQud",
        "colab": {
          "base_uri": "https://localhost:8080/",
          "height": 68
        },
        "outputId": "80143184-c869-40d6-f698-a4b841f0c9ce"
      },
      "source": [
        "# Cách 2 \n",
        "np.concatenate([X, Y], axis=1)"
      ],
      "execution_count": null,
      "outputs": [
        {
          "output_type": "execute_result",
          "data": {
            "text/plain": [
              "array([[ 0.,  1.,  2.,  3.,  2.,  1.,  4.,  3.],\n",
              "       [ 4.,  5.,  6.,  7.,  1.,  2.,  3.,  4.],\n",
              "       [ 8.,  9., 10., 11.,  4.,  3.,  2.,  1.]])"
            ]
          },
          "metadata": {
            "tags": []
          },
          "execution_count": 14
        }
      ]
    },
    {
      "cell_type": "markdown",
      "metadata": {
        "origin_pos": 48,
        "id": "B-cMXUVFnMem"
      },
      "source": [
        "\n",
        "Đôi khi, ta muốn tạo một ndarray nhị phân thông qua các mệnh đề logic. Lấy `x == y` làm ví dụ. Với mỗi vị trí, nếu giá trị của x và y tại vị trí đó bằng nhau thì phần tử tương ứng trong ndarray mới lấy giá trị  `1` , nghĩa là mệnh đề logic x == y là đúng tại vị trí đó; ngược lại vị trí đó lấy giá trị  `0` ."
      ]
    },
    {
      "cell_type": "code",
      "metadata": {
        "origin_pos": 49,
        "tab": [
          "mxnet"
        ],
        "id": "1GRhUCyonMeo",
        "colab": {
          "base_uri": "https://localhost:8080/",
          "height": 68
        },
        "outputId": "e0a1ce5b-ed02-446c-c3f6-6b35fadf04db"
      },
      "source": [
        "X == Y"
      ],
      "execution_count": null,
      "outputs": [
        {
          "output_type": "execute_result",
          "data": {
            "text/plain": [
              "array([[False,  True, False,  True],\n",
              "       [False, False, False, False],\n",
              "       [False, False, False, False]])"
            ]
          },
          "metadata": {
            "tags": []
          },
          "execution_count": 16
        }
      ]
    },
    {
      "cell_type": "markdown",
      "metadata": {
        "origin_pos": 50,
        "id": "f3c_qmNynMer"
      },
      "source": [
        "Lấy tổng mọi phần tử trong một ndarray tạo ra một ndarray với chỉ một phần tử."
      ]
    },
    {
      "cell_type": "code",
      "metadata": {
        "origin_pos": 51,
        "tab": [
          "mxnet"
        ],
        "id": "iqH8-petnMer",
        "colab": {
          "base_uri": "https://localhost:8080/",
          "height": 34
        },
        "outputId": "3a3d41b3-7322-453e-dc5c-00cfd9586798"
      },
      "source": [
        "X.sum()"
      ],
      "execution_count": null,
      "outputs": [
        {
          "output_type": "execute_result",
          "data": {
            "text/plain": [
              "array(66.)"
            ]
          },
          "metadata": {
            "tags": []
          },
          "execution_count": 17
        }
      ]
    },
    {
      "cell_type": "markdown",
      "metadata": {
        "origin_pos": 53,
        "id": "--E5avBHnMex"
      },
      "source": [
        "## Cơ chế Lan truyền (Broadcasting Mechanism)\n",
        "\n",
        "Trong mục trên, ta đã thấy cách thực hiện các phép toán theo từng phần tử với hai ndarray đồng kích thước. Trong những điều kiện nhất định, thậm chí khi kích thước khác nhau, ta vẫn có thể thực hiện các phép toán theo từng phần tử bằng cách sử dụng cơ chế lan truyền (broadcasting mechanism). Cơ chế này hoạt động như sau: \n",
        "- Thứ nhất, mở rộng một hoặc cả hai mảng bằng cách lặp lại các phần tử một cách hợp lý sao cho sau phép biến đổi này, hai ndarray có cùng kích thước. \n",
        "- Thứ hai, thực hiện các phép toán theo từng phần tử với hai mảng mới này.\n",
        "\n",
        "Trong hầu hết các trường hợp, chúng ta lan truyền một mảng theo trục có độ dài ban đầu là  1 , như ví dụ dưới đây:\n"
      ]
    },
    {
      "cell_type": "code",
      "metadata": {
        "origin_pos": 54,
        "tab": [
          "mxnet"
        ],
        "id": "O9oJKSUinMex",
        "colab": {
          "base_uri": "https://localhost:8080/",
          "height": 68
        },
        "outputId": "c93b3ff2-258f-43f3-b6ff-694061637ab9"
      },
      "source": [
        "a = np.arange(3).reshape(3, 1)\n",
        "b = np.arange(2).reshape(1, 2)\n",
        "a, b"
      ],
      "execution_count": null,
      "outputs": [
        {
          "output_type": "execute_result",
          "data": {
            "text/plain": [
              "(array([[0.],\n",
              "        [1.],\n",
              "        [2.]]), array([[0., 1.]]))"
            ]
          },
          "metadata": {
            "tags": []
          },
          "execution_count": 18
        }
      ]
    },
    {
      "cell_type": "markdown",
      "metadata": {
        "origin_pos": 57,
        "id": "EvON4YODnMe0"
      },
      "source": [
        "\n",
        "Vì `a` và `b` là các ma trận có kích thước lần lượt là  `3×1`  và  `1×2` , kích thước của chúng không khớp nếu ta muốn thực hiện phép cộng. Ta lan truyền các phần tử của cả hai ma trận thành các ma trận  `3×2`  như sau: lặp lại các cột trong ma trận `a` và các hàng trong ma trận `b` trước khi cộng chúng theo từng phần tử.\n"
      ]
    },
    {
      "cell_type": "code",
      "metadata": {
        "origin_pos": 58,
        "tab": [
          "mxnet"
        ],
        "id": "g0p2UT-fnMe0",
        "colab": {
          "base_uri": "https://localhost:8080/",
          "height": 68
        },
        "outputId": "b9dfd7bf-dc4a-4ce7-c503-ddb5d3aa231c"
      },
      "source": [
        "a + b"
      ],
      "execution_count": null,
      "outputs": [
        {
          "output_type": "execute_result",
          "data": {
            "text/plain": [
              "array([[0., 1.],\n",
              "       [1., 2.],\n",
              "       [2., 3.]])"
            ]
          },
          "metadata": {
            "tags": []
          },
          "execution_count": 19
        }
      ]
    },
    {
      "cell_type": "markdown",
      "metadata": {
        "origin_pos": 59,
        "id": "75wwrEKPnMe4"
      },
      "source": [
        "## Chỉ số và Cắt chọn mảng\n",
        "\n",
        "Cũng giống như trong bất kỳ mảng Python khác, các phần tử trong một ndarray có thể được truy cập theo chỉ số. Tương tự, phần tử đầu tiên có chỉ số  0  và khoảng được cắt chọn bao gồm phần tử đầu tiên nhưng không tính phần tử cuối cùng. Và trong các danh sách Python tiêu chuẩn, chúng ta có thể truy cập các phần tử theo vị trí đếm ngược từ cuối danh sách bằng cách sử dụng các chỉ số âm.\n",
        "\n",
        "Vì vậy, `[-1]` chọn phần tử cuối cùng và `[1:3]` chọn phần tử thứ hai và phần tử thứ ba như sau:\n"
      ]
    },
    {
      "cell_type": "code",
      "metadata": {
        "origin_pos": 60,
        "tab": [
          "mxnet"
        ],
        "id": "k_2WhxVenMe4",
        "colab": {
          "base_uri": "https://localhost:8080/",
          "height": 51
        },
        "outputId": "9201c786-a986-4ae0-bf21-1947ce7e0653"
      },
      "source": [
        "X[-1], X[1:3]"
      ],
      "execution_count": null,
      "outputs": [
        {
          "output_type": "execute_result",
          "data": {
            "text/plain": [
              "(array([ 8.,  9., 10., 11.]), array([[ 4.,  5.,  6.,  7.],\n",
              "        [ 8.,  9., 10., 11.]]))"
            ]
          },
          "metadata": {
            "tags": []
          },
          "execution_count": 20
        }
      ]
    },
    {
      "cell_type": "markdown",
      "metadata": {
        "origin_pos": 61,
        "tab": [
          "mxnet"
        ],
        "id": "1IunjS0XnMe7"
      },
      "source": [
        "Ngoài việc đọc, chúng ta cũng có thể viết các phần tử của ma trận bằng cách chỉ định các chỉ số."
      ]
    },
    {
      "cell_type": "code",
      "metadata": {
        "origin_pos": 63,
        "tab": [
          "mxnet"
        ],
        "id": "1m-YIAzlnMe7",
        "colab": {
          "base_uri": "https://localhost:8080/",
          "height": 68
        },
        "outputId": "8eb3c577-fc8a-4449-a25d-e9736e5cb456"
      },
      "source": [
        "X[1, 2] = 9\n",
        "X"
      ],
      "execution_count": null,
      "outputs": [
        {
          "output_type": "execute_result",
          "data": {
            "text/plain": [
              "array([[ 0.,  1.,  2.,  3.],\n",
              "       [ 4.,  5.,  9.,  7.],\n",
              "       [ 8.,  9., 10., 11.]])"
            ]
          },
          "metadata": {
            "tags": []
          },
          "execution_count": 21
        }
      ]
    },
    {
      "cell_type": "markdown",
      "metadata": {
        "origin_pos": 65,
        "id": "OtaiJi1SnMe-"
      },
      "source": [
        "Nếu chúng ta muốn gán cùng một giá trị cho nhiều phần tử, chúng ta chỉ cần trỏ đến tất cả các phần tử đó và gán giá trị cho chúng. Chẳng hạn, `[0:2 ,:]` truy cập vào hàng thứ nhất và thứ hai, trong đó `:` lấy tất cả các phần tử dọc theo trục  1  (cột). Ở đây chúng ta đã thảo luận về cách truy cập vào ma trận, nhưng tất nhiên phương thức này cũng áp dụng cho các vector và tensor với nhiều hơn  2  chiều.\n"
      ]
    },
    {
      "cell_type": "code",
      "metadata": {
        "origin_pos": 66,
        "tab": [
          "mxnet"
        ],
        "id": "9SXQHcQKnMe-",
        "colab": {
          "base_uri": "https://localhost:8080/",
          "height": 68
        },
        "outputId": "7e14fec7-15c7-4ba1-e883-ea466c2eadd6"
      },
      "source": [
        "X[0:2, :] = 12\n",
        "X"
      ],
      "execution_count": null,
      "outputs": [
        {
          "output_type": "execute_result",
          "data": {
            "text/plain": [
              "array([[12., 12., 12., 12.],\n",
              "       [12., 12., 12., 12.],\n",
              "       [ 8.,  9., 10., 11.]])"
            ]
          },
          "metadata": {
            "tags": []
          },
          "execution_count": 22
        }
      ]
    },
    {
      "cell_type": "markdown",
      "metadata": {
        "origin_pos": 68,
        "id": "Ooqej5E-nMfB"
      },
      "source": [
        "## Tiết kiệm Bộ nhớ\n",
        "\n",
        "Ở ví dụ trước, mỗi khi chạy một phép tính, chúng ta sẽ cấp phát bộ nhớ mới để lưu trữ kết quả của lượt chạy đó. Cụ thể hơn, nếu viết `y = x + y`, ta sẽ ngừng tham chiếu đến ndarray mà `y` đã chỉ đến trước đó và thay vào đó gán `y` vào bộ nhớ được cấp phát mới. Trong ví dụ tiếp theo, chúng ta sẽ minh họa việc này với hàm `id()` của Python - hàm cung cấp địa chỉ chính xác của một đối tượng được tham chiếu trong bộ nhớ. Sau khi chạy `y = y + x`, chúng ta nhận ra rằng `id(y)` chỉ đến một địa chỉ khác. Đó là bởi vì Python trước hết sẽ tính `y + x`, cấp phát bộ nhớ mới cho kết quả trả về và gán `y` vào địa chỉ mới này trong bộ nhớ.\n"
      ]
    },
    {
      "cell_type": "code",
      "metadata": {
        "origin_pos": 69,
        "tab": [
          "mxnet"
        ],
        "id": "so2y1MbVnMfB",
        "colab": {
          "base_uri": "https://localhost:8080/",
          "height": 34
        },
        "outputId": "1d47e33d-be9a-4334-f86a-314b1314e48c"
      },
      "source": [
        "before = id(Y)\n",
        "Y = Y + X\n",
        "id(Y) == before"
      ],
      "execution_count": null,
      "outputs": [
        {
          "output_type": "execute_result",
          "data": {
            "text/plain": [
              "False"
            ]
          },
          "metadata": {
            "tags": []
          },
          "execution_count": 23
        }
      ]
    },
    {
      "cell_type": "markdown",
      "metadata": {
        "origin_pos": 70,
        "id": "AeFiBJ8VnMfE"
      },
      "source": [
        "Đây có thể là điều không mong muốn vì hai lý do. \n",
        "- Thứ nhất, không phải lúc nào chúng ta cũng muốn cấp phát bộ nhớ không cần thiết. Trong học máy, ta có thể có đến hàng trăm megabytes tham số và cập nhật tất cả chúng nhiều lần mỗi giây, và thường thì ta muốn thực thi các cập nhật này tại chỗ. \n",
        "- Thứ hai, chúng ta có thể trỏ đến cùng tham số từ nhiều biến khác nhau. Nếu không cập nhật tại chỗ, các bộ nhớ đã bị loại bỏ sẽ không được giải phóng, dẫn đến khả năng một số chỗ trong mã nguồn sẽ vô tình tham chiếu lại các tham số cũ."
      ]
    },
    {
      "cell_type": "markdown",
      "metadata": {
        "origin_pos": 71,
        "tab": [
          "mxnet"
        ],
        "id": "sRE3sGZynMfE"
      },
      "source": [
        "May mắn thay, ta có thể dễ dàng thực hiện các phép tính tại chỗ với MXNet. Chúng ta có thể gán kết quả của một phép tính cho một mảng đã được cấp phát trước đó bằng ký hiệu cắt chọn (slice notation).\n",
        "\n",
        "Ví dụ, `y[:] = <expression>`. \n",
        "\n",
        "Để minh họa khái niệm này, đầu tiên chúng ta tạo một ma trận mới z có cùng kích thước với ma trận y, sử dụng zeros_like để gán giá trị khởi tạo bằng  0 .\n"
      ]
    },
    {
      "cell_type": "code",
      "metadata": {
        "origin_pos": 73,
        "tab": [
          "mxnet"
        ],
        "id": "CNMa5r08nMfF",
        "colab": {
          "base_uri": "https://localhost:8080/",
          "height": 51
        },
        "outputId": "d460aadc-4262-4491-e4f2-8261d5d5e536"
      },
      "source": [
        "Z = np.zeros_like(Y)\n",
        "print('id(Z):', id(Z))\n",
        "Z[:] = X + Y\n",
        "print('id(Z):', id(Z))"
      ],
      "execution_count": null,
      "outputs": [
        {
          "output_type": "stream",
          "text": [
            "id(Z): 140257831962664\n",
            "id(Z): 140257831962664\n"
          ],
          "name": "stdout"
        }
      ]
    },
    {
      "cell_type": "markdown",
      "metadata": {
        "origin_pos": 76,
        "tab": [
          "mxnet"
        ],
        "id": "hI1ECGQGnMfI"
      },
      "source": [
        "Nếu các tính toán tiếp theo không tái sử dụng giá trị của `x`, chúng ta có thể viết `x[:] = x + y` hoặc `x += y` để giảm thiểu việc sử dụng bộ nhớ không cần thiết trong quá trình tính toán.\n"
      ]
    },
    {
      "cell_type": "code",
      "metadata": {
        "origin_pos": 78,
        "tab": [
          "mxnet"
        ],
        "id": "5KinbBdunMfJ",
        "colab": {
          "base_uri": "https://localhost:8080/",
          "height": 34
        },
        "outputId": "6ade94a9-a64d-464f-a6e3-de4bb23765e9"
      },
      "source": [
        "before = id(X)\n",
        "X += Y\n",
        "id(X) == before"
      ],
      "execution_count": null,
      "outputs": [
        {
          "output_type": "execute_result",
          "data": {
            "text/plain": [
              "True"
            ]
          },
          "metadata": {
            "tags": []
          },
          "execution_count": 25
        }
      ]
    },
    {
      "cell_type": "markdown",
      "metadata": {
        "origin_pos": 80,
        "id": "WVil3zS5nMfL"
      },
      "source": [
        "## Chuyển đổi sang các Đối Tượng Python Khác\n",
        "\n",
        "Chuyển đổi một MXNet ndarray sang NumPy ndarray hoặc ngược lại là khá đơn giản. Tuy nhiên, kết quả của phép chuyển đổi này không chia sẻ bộ nhớ với đối tượng cũ. Điểm bất tiện này tuy nhỏ nhưng lại khá quan trọng: khi bạn thực hiện các phép tính trên CPU hoặc GPUs, bạn không muốn MXNet dừng việc tính toán để chờ xem liệu gói Numpy của Python có sử dụng cùng bộ nhớ đó để làm việc khác không. Hàm array và asnumpy sẽ giúp bạn giải quyết vấn đề này.\n"
      ]
    },
    {
      "cell_type": "code",
      "metadata": {
        "origin_pos": 81,
        "tab": [
          "mxnet"
        ],
        "id": "ngWhGkcenMfM",
        "colab": {
          "base_uri": "https://localhost:8080/",
          "height": 34
        },
        "outputId": "d4c07fb6-aa3c-4542-e55c-c4dcd4974743"
      },
      "source": [
        "A = X.asnumpy()\n",
        "B = np.array(A)\n",
        "type(A), type(B)"
      ],
      "execution_count": null,
      "outputs": [
        {
          "output_type": "execute_result",
          "data": {
            "text/plain": [
              "(numpy.ndarray, mxnet.numpy.ndarray)"
            ]
          },
          "metadata": {
            "tags": []
          },
          "execution_count": 26
        }
      ]
    },
    {
      "cell_type": "markdown",
      "metadata": {
        "origin_pos": 84,
        "id": "C1pOK-nDnMfO"
      },
      "source": [
        "Để chuyển đổi một mảng ndarray chứa một phần tử sang số vô hướng Python, ta có thể gọi hàm `item` hoặc các hàm có sẵn trong Python."
      ]
    },
    {
      "cell_type": "code",
      "metadata": {
        "origin_pos": 85,
        "tab": [
          "mxnet"
        ],
        "id": "fyuPUFr7nMfP",
        "colab": {
          "base_uri": "https://localhost:8080/",
          "height": 34
        },
        "outputId": "916bcf04-2864-4306-cf84-03fee5071dca"
      },
      "source": [
        "a = np.array([3.5])\n",
        "a, a.item(), float(a), int(a)"
      ],
      "execution_count": null,
      "outputs": [
        {
          "output_type": "execute_result",
          "data": {
            "text/plain": [
              "(array([3.5]), 3.5, 3.5, 3)"
            ]
          },
          "metadata": {
            "tags": []
          },
          "execution_count": 27
        }
      ]
    },
    {
      "cell_type": "markdown",
      "metadata": {
        "origin_pos": 88,
        "id": "q5eyN-l2nMfT"
      },
      "source": [
        "## Tổng kết \n",
        "\n",
        "* MXNet ndarray là phần mở rộng của NumPy ndarray với một số ưu thế vượt trội giúp cho nó phù hợp với học sâu.\n",
        "* MXNet ndarray cung cấp nhiều chức năng bao gồm các phép toán cơ bản, cơ chế lan truyền (broadcasting), chỉ số (indexing), cắt chọn (slicing), tiết kiệm bộ nhớ và khả năng chuyển đổi sang các đối tượng Python khác.\n",
        "\n"
      ]
    }
  ]
}