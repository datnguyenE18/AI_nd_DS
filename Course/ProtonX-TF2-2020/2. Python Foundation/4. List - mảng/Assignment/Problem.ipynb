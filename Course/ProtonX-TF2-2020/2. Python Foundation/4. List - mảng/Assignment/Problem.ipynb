{
 "cells": [
  {
   "cell_type": "markdown",
   "metadata": {
    "id": "Itwk-wdXM2fI"
   },
   "source": [
    "## Bài tập mảng"
   ]
  },
  {
   "cell_type": "markdown",
   "metadata": {
    "id": "Im4ibtfbM6jX"
   },
   "source": [
    "1. Khai báo mảng `tulanh` bao gồm 6 phần tử 'thịt gà',  'thịt heo',  'thịt bò',  'rau cải',  'trứng gà',  'cà chua'"
   ]
  },
  {
   "cell_type": "code",
   "execution_count": 1,
   "metadata": {
    "id": "06KeMJbFGJnP"
   },
   "outputs": [],
   "source": [
    "# Lập trình tại đây\n",
    "\n",
    "\n"
   ]
  },
  {
   "cell_type": "markdown",
   "metadata": {
    "id": "r8IJq-vgTiSw"
   },
   "source": [
    "2. Truy cập phần tử `thịt bò` theo 2 cách: từ trái qua phải và từ phải qua trái"
   ]
  },
  {
   "cell_type": "code",
   "execution_count": 2,
   "metadata": {
    "colab": {
     "base_uri": "https://localhost:8080/"
    },
    "executionInfo": {
     "elapsed": 1269,
     "status": "ok",
     "timestamp": 1608198136669,
     "user": {
      "displayName": "Đạt Nguyễn",
      "photoUrl": "https://lh3.googleusercontent.com/a-/AOh14GiH2GNeLjkJcDvAuW2ZuxJK2P_VinLMeayeKbSA=s64",
      "userId": "17582648534448546623"
     },
     "user_tz": -420
    },
    "id": "Ga3tlUfAPm-Y",
    "outputId": "52cea368-9f6b-4eb7-98ff-fe47ab79b25d"
   },
   "outputs": [],
   "source": [
    "# Lập trình tại đây\n"
   ]
  },
  {
   "cell_type": "markdown",
   "metadata": {
    "id": "cxfhu00ZTw3x"
   },
   "source": [
    "3. Truy cập phần tử `cà chua`(phần tử cuối cùng của mảng) theo cách sử dụng chỉ mục có chứa hàm len()"
   ]
  },
  {
   "cell_type": "code",
   "execution_count": 3,
   "metadata": {
    "colab": {
     "base_uri": "https://localhost:8080/",
     "height": 35
    },
    "executionInfo": {
     "elapsed": 1198,
     "status": "ok",
     "timestamp": 1608198136671,
     "user": {
      "displayName": "Đạt Nguyễn",
      "photoUrl": "https://lh3.googleusercontent.com/a-/AOh14GiH2GNeLjkJcDvAuW2ZuxJK2P_VinLMeayeKbSA=s64",
      "userId": "17582648534448546623"
     },
     "user_tz": -420
    },
    "id": "bPfB-1ivThDi",
    "outputId": "191dc5cf-511c-40fc-e954-72e1fc8ee2d6"
   },
   "outputs": [],
   "source": [
    "# Lập trình tại đây\n",
    "\n"
   ]
  },
  {
   "cell_type": "markdown",
   "metadata": {
    "id": "XmJ0cT21WB-v"
   },
   "source": [
    "4. In hết các phần tử trong tủ lạnh bằng cách dùng vòng lặp while"
   ]
  },
  {
   "cell_type": "code",
   "execution_count": 4,
   "metadata": {
    "colab": {
     "base_uri": "https://localhost:8080/"
    },
    "executionInfo": {
     "elapsed": 1169,
     "status": "ok",
     "timestamp": 1608198136672,
     "user": {
      "displayName": "Đạt Nguyễn",
      "photoUrl": "https://lh3.googleusercontent.com/a-/AOh14GiH2GNeLjkJcDvAuW2ZuxJK2P_VinLMeayeKbSA=s64",
      "userId": "17582648534448546623"
     },
     "user_tz": -420
    },
    "id": "2C1sHTXWWBEo",
    "outputId": "0454425b-f5c4-42ef-d52f-dede20659489"
   },
   "outputs": [],
   "source": [
    "# Lập trình tại đây\n",
    "\n"
   ]
  },
  {
   "cell_type": "markdown",
   "metadata": {
    "id": "NNQvxDyzW7a_"
   },
   "source": [
    "5. In hết các phần tử trong tủ lạnh bằng vòng lặp for theo cách duyệt qua các phần tử trong mảng\n",
    "\n",
    "> Cấu trúc: for ... in ... :\n"
   ]
  },
  {
   "cell_type": "code",
   "execution_count": 5,
   "metadata": {
    "colab": {
     "base_uri": "https://localhost:8080/"
    },
    "executionInfo": {
     "elapsed": 1150,
     "status": "ok",
     "timestamp": 1608198136673,
     "user": {
      "displayName": "Đạt Nguyễn",
      "photoUrl": "https://lh3.googleusercontent.com/a-/AOh14GiH2GNeLjkJcDvAuW2ZuxJK2P_VinLMeayeKbSA=s64",
      "userId": "17582648534448546623"
     },
     "user_tz": -420
    },
    "id": "doo1Jw4gWWkv",
    "outputId": "589957ca-ff52-45fe-aa7f-2d41d066b3d7"
   },
   "outputs": [],
   "source": [
    "# Lập trình tại đây\n",
    "\n",
    "\n"
   ]
  },
  {
   "cell_type": "markdown",
   "metadata": {
    "id": "qXWulBjZW_CX"
   },
   "source": [
    "6. In hết các phần tử trong tủ lạnh kèm theo STT bằng vòng lặp for theo cách duyệt qua các chỉ mục trong hàm range() (VD: 1. Thịt gà)\n",
    "\n",
    "> Cấu trúc: for ... in range(...) :"
   ]
  },
  {
   "cell_type": "code",
   "execution_count": 6,
   "metadata": {
    "colab": {
     "base_uri": "https://localhost:8080/"
    },
    "executionInfo": {
     "elapsed": 1133,
     "status": "ok",
     "timestamp": 1608198136674,
     "user": {
      "displayName": "Đạt Nguyễn",
      "photoUrl": "https://lh3.googleusercontent.com/a-/AOh14GiH2GNeLjkJcDvAuW2ZuxJK2P_VinLMeayeKbSA=s64",
      "userId": "17582648534448546623"
     },
     "user_tz": -420
    },
    "id": "9aV5m1s3W6lN",
    "outputId": "0c86b231-ce2e-484d-9e1c-aab0319947fb"
   },
   "outputs": [],
   "source": [
    "# Lập trình tại đây\n",
    "\n",
    "\n"
   ]
  },
  {
   "cell_type": "markdown",
   "metadata": {
    "id": "yIQWR8TVY-sR"
   },
   "source": [
    "7. Thêm phần tử 'mì tôm' vào mảng `tulanh` và in ra chiều dài của mảng"
   ]
  },
  {
   "cell_type": "code",
   "execution_count": 7,
   "metadata": {
    "colab": {
     "base_uri": "https://localhost:8080/"
    },
    "executionInfo": {
     "elapsed": 1116,
     "status": "ok",
     "timestamp": 1608198136675,
     "user": {
      "displayName": "Đạt Nguyễn",
      "photoUrl": "https://lh3.googleusercontent.com/a-/AOh14GiH2GNeLjkJcDvAuW2ZuxJK2P_VinLMeayeKbSA=s64",
      "userId": "17582648534448546623"
     },
     "user_tz": -420
    },
    "id": "LjxmwINoZ2_N",
    "outputId": "8b3e4796-094e-4e39-c861-66f95b394708"
   },
   "outputs": [],
   "source": [
    "# Lập trình tại đây\n",
    "\n"
   ]
  },
  {
   "cell_type": "markdown",
   "metadata": {
    "id": "8vB0PehOZ5Do"
   },
   "source": [
    "8. Thay đổi phần tử có chỉ mục 3 thành 'sữa tươi'"
   ]
  },
  {
   "cell_type": "code",
   "execution_count": 8,
   "metadata": {
    "colab": {
     "base_uri": "https://localhost:8080/"
    },
    "executionInfo": {
     "elapsed": 1106,
     "status": "ok",
     "timestamp": 1608198136676,
     "user": {
      "displayName": "Đạt Nguyễn",
      "photoUrl": "https://lh3.googleusercontent.com/a-/AOh14GiH2GNeLjkJcDvAuW2ZuxJK2P_VinLMeayeKbSA=s64",
      "userId": "17582648534448546623"
     },
     "user_tz": -420
    },
    "id": "ciAyGnzMa1E3",
    "outputId": "c89b37d7-d6d2-4c57-ff8f-be3f85c8514e"
   },
   "outputs": [],
   "source": [
    "# Lập trình tại đây\n",
    "\n"
   ]
  },
  {
   "cell_type": "markdown",
   "metadata": {
    "id": "j1J5W6y0bXzv"
   },
   "source": [
    "9. Thay đổi một phần tử trong tủ lạnh bằng cách nhập input chỉ mục bị thay thế và tên của thực phẩm thay thế, và in ra \"Đã thay thế ... bằng ...\"\n",
    "\n",
    "> Sử dụng cả khối try và except để phòng trường hợp bị lỗi"
   ]
  },
  {
   "cell_type": "code",
   "execution_count": 9,
   "metadata": {
    "colab": {
     "base_uri": "https://localhost:8080/"
    },
    "executionInfo": {
     "elapsed": 77558,
     "status": "ok",
     "timestamp": 1608198213143,
     "user": {
      "displayName": "Đạt Nguyễn",
      "photoUrl": "https://lh3.googleusercontent.com/a-/AOh14GiH2GNeLjkJcDvAuW2ZuxJK2P_VinLMeayeKbSA=s64",
      "userId": "17582648534448546623"
     },
     "user_tz": -420
    },
    "id": "yVQIBIiTcIQl",
    "outputId": "b920c8bf-a6c6-44d8-e393-ee1a92b9ec88"
   },
   "outputs": [],
   "source": [
    "# Lập trình tại đây\n",
    "\n"
   ]
  },
  {
   "cell_type": "markdown",
   "metadata": {
    "id": "NSpYWiZRcOjA"
   },
   "source": [
    "10. Xóa bỏ một phần tử trong tủ lạnh bằng cách nhập input chỉ mục hoặc tên thực phẩm bị thay thế (sử dụng hàm pop hoặc remove), và in ra \"Đã cho ra đi ...\"\n",
    "\n",
    "> Sử dụng cả khối try và except để phòng trường hợp bị lỗi"
   ]
  },
  {
   "cell_type": "code",
   "execution_count": 10,
   "metadata": {
    "colab": {
     "base_uri": "https://localhost:8080/"
    },
    "executionInfo": {
     "elapsed": 80249,
     "status": "ok",
     "timestamp": 1608198215862,
     "user": {
      "displayName": "Đạt Nguyễn",
      "photoUrl": "https://lh3.googleusercontent.com/a-/AOh14GiH2GNeLjkJcDvAuW2ZuxJK2P_VinLMeayeKbSA=s64",
      "userId": "17582648534448546623"
     },
     "user_tz": -420
    },
    "id": "llylEK4Vv4b2",
    "outputId": "e1821aa8-c079-4c59-904e-679f72ddc059"
   },
   "outputs": [],
   "source": [
    "# Lập trình tại đây\n",
    "\n"
   ]
  },
  {
   "cell_type": "code",
   "execution_count": null,
   "metadata": {
    "id": "wVTyAkPQEcV5"
   },
   "outputs": [],
   "source": []
  }
 ],
 "metadata": {
  "accelerator": "GPU",
  "colab": {
   "collapsed_sections": [],
   "name": "Đạt Nguyễn - 1. Array.ipynb",
   "provenance": []
  },
  "kernelspec": {
   "display_name": "Python 3",
   "language": "python",
   "name": "python3"
  },
  "language_info": {
   "codemirror_mode": {
    "name": "ipython",
    "version": 3
   },
   "file_extension": ".py",
   "mimetype": "text/x-python",
   "name": "python",
   "nbconvert_exporter": "python",
   "pygments_lexer": "ipython3",
   "version": "3.8.3"
  }
 },
 "nbformat": 4,
 "nbformat_minor": 1
}
