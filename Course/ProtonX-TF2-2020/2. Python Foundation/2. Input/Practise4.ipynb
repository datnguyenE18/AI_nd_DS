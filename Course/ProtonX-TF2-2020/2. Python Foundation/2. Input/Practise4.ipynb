{
  "nbformat": 4,
  "nbformat_minor": 0,
  "metadata": {
    "colab": {
      "name": "Practise.ipynb",
      "provenance": [],
      "collapsed_sections": []
    },
    "kernelspec": {
      "name": "python3",
      "display_name": "Python 3"
    },
    "accelerator": "GPU"
  },
  "cells": [
    {
      "cell_type": "code",
      "metadata": {
        "id": "9aD6tlI7J9Um",
        "outputId": "0eed79bd-ccca-4455-80bb-9d2cf13620bc",
        "colab": {
          "base_uri": "https://localhost:8080/"
        }
      },
      "source": [
        "a = input('a = ')\n",
        "b = input('b = ')\n",
        "print('Bản chất là nối chuỗi: a + b = {}'.format(a + b))"
      ],
      "execution_count": 1,
      "outputs": [
        {
          "output_type": "stream",
          "text": [
            "a = 2\n",
            "b = 5\n",
            "Bản chất là nối chuỗi: a + b = 25\n"
          ],
          "name": "stdout"
        }
      ]
    },
    {
      "cell_type": "code",
      "metadata": {
        "id": "5rRoobK9KL3U",
        "outputId": "fd00da01-c2d9-4c7c-fc1f-797a6cfae397",
        "colab": {
          "base_uri": "https://localhost:8080/"
        }
      },
      "source": [
        "a = int(input('a = '))\n",
        "b = int(input('b = '))\n",
        "print('Là phép cộng 2 số nguyên: a + b = {}'.format(a + b))"
      ],
      "execution_count": 2,
      "outputs": [
        {
          "output_type": "stream",
          "text": [
            "a = 2\n",
            "b = 5\n",
            "Là phép cộng 2 số nguyên: a + b = 7\n"
          ],
          "name": "stdout"
        }
      ]
    }
  ]
}