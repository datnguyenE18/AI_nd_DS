{
  "nbformat": 4,
  "nbformat_minor": 0,
  "metadata": {
    "colab": {
      "name": "Practise.ipynb",
      "provenance": [],
      "collapsed_sections": []
    },
    "kernelspec": {
      "name": "python3",
      "display_name": "Python 3"
    },
    "accelerator": "GPU"
  },
  "cells": [
    {
      "cell_type": "code",
      "metadata": {
        "id": "t6LzlW51HSDR",
        "outputId": "df044d34-5a6b-40d9-8cbd-c72581837612",
        "colab": {
          "base_uri": "https://localhost:8080/"
        }
      },
      "source": [
        "name = input('Bạn tên là gì? ')\n",
        "film = input('{} thích xem phim gì? '.format(name))\n",
        "print('{} thích xem phim {}'.format(name, film))"
      ],
      "execution_count": 1,
      "outputs": [
        {
          "output_type": "stream",
          "text": [
            "Bạn tên là gì? Đông\n",
            "Đông thích xem phim gì? hành động\n",
            "Đông thích xem phim hành động\n"
          ],
          "name": "stdout"
        }
      ]
    },
    {
      "cell_type": "code",
      "metadata": {
        "id": "nF1WpFmcIX5h"
      },
      "source": [
        ""
      ],
      "execution_count": 1,
      "outputs": []
    }
  ]
}