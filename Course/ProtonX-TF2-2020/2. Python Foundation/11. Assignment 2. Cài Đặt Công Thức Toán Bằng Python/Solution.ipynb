{
  "nbformat": 4,
  "nbformat_minor": 0,
  "metadata": {
    "kernelspec": {
      "display_name": "Python 3",
      "language": "python",
      "name": "python3"
    },
    "language_info": {
      "codemirror_mode": {
        "name": "ipython",
        "version": 3
      },
      "file_extension": ".py",
      "mimetype": "text/x-python",
      "name": "python",
      "nbconvert_exporter": "python",
      "pygments_lexer": "ipython3",
      "version": "3.7.3"
    },
    "colab": {
      "name": "Đạt Nguyễn - [ProtonX] - Cài đặt công thức toán bằng Python",
      "provenance": [],
      "collapsed_sections": []
    },
    "accelerator": "GPU"
  },
  "cells": [
    {
      "cell_type": "code",
      "metadata": {
        "id": "XoCYRmje-ezu"
      },
      "source": [
        "# Complete!"
      ],
      "execution_count": 1,
      "outputs": []
    },
    {
      "cell_type": "markdown",
      "metadata": {
        "id": "MG3y4oanpvfp"
      },
      "source": [
        "## Bài Tập Lập Trình: Cài Đặt Công Thức Toán Bằng Python \n",
        "\n",
        "```\n",
        "ProtonX - Learn to change \n",
        "Ver: 1.1\n",
        "```\n",
        "\n",
        "### Hướng dẫn làm bài \n",
        "- Trong bài tập này bạn sẽ sử dụng Python 3.\n",
        "- Sau khi bạn viết Code của mình xong, hãy chạy dòng Code đó để xem kết quả bên dưới. \n",
        "\n",
        "Các bạn sẽ bắt đầu Code trong phần `### START CODE HERE ###` và `### END CODE HERE ###`. Các bạn nhớ đừng sửa bất kỳ dòng Code nào bên ngoài những câu lệnh này. \n",
        "\n",
        "Sau khi viết xong Code của bạn, bạn hãy ấn \"SHIFT\"+\"ENTER\" để thực hiện chạy lệnh của Cell đó. \n",
        "\n",
        "Trong phần Code: các bạn hãy cố gắng thực hiện ít dòng Code nhất theo chỉ định \"(≈ X lines of code)\". Mặc dù đây không phải là hạn chế về số dòng Code của bạn, nhưng hãy tối ưu sao cho ít nhất có thể."
      ]
    },
    {
      "cell_type": "markdown",
      "metadata": {
        "id": "bjBI0R4Jpvf0"
      },
      "source": [
        "**Bài tập 1:** Chuyển góc từ độ sang radian. Công thức chuyển từ góc với đơn vị là độ $A_d$ sang góc với đơn vị là radian $A_r$ như sau:\n",
        "\n",
        "<center> $A_r = A_d$ x $ \\frac{\\pi}{180}$ </center>\n",
        "\n",
        "*Gợi ý:* lấy số `pi` bằng hàm `math.pi`"
      ]
    },
    {
      "cell_type": "code",
      "metadata": {
        "id": "Z6CknEiYpvf0",
        "colab": {
          "base_uri": "https://localhost:8080/"
        },
        "outputId": "b3fffa2f-6a14-4ba1-8863-fc084a89eb34"
      },
      "source": [
        "import math \n",
        "\n",
        "# Độ\n",
        "degree = 40\n",
        "\n",
        "# tính góc theo radian\n",
        "### START CODE HERE ### (≈ 1 line of code)\n",
        "radian = degree / 180 * math.pi\n",
        "### END CODE HERE ###\n",
        "\n",
        "print(radian)"
      ],
      "execution_count": 2,
      "outputs": [
        {
          "output_type": "stream",
          "text": [
            "0.6981317007977318\n"
          ],
          "name": "stdout"
        }
      ]
    },
    {
      "cell_type": "markdown",
      "metadata": {
        "id": "UGoBUZTZpvf3"
      },
      "source": [
        "**Đầu ra kỳ vọng**:\n",
        "\n",
        "```python3\n",
        "40 độ sang radian: 0.6981317007977318\n",
        "```"
      ]
    },
    {
      "cell_type": "markdown",
      "metadata": {
        "id": "eukLxGrapvf4"
      },
      "source": [
        "**Bài tập 2:** Kiểm tra có phải tam giác vuông dựa vào công thức $a^2 + b^2 = c^2$\n",
        "\n",
        "<img src=\"https://github.com/thanhhff/AIVN-Machine-Learning/blob/master/Week%201/Assignment/images/tam-giac-vuong.png?raw=1\">"
      ]
    },
    {
      "cell_type": "markdown",
      "metadata": {
        "id": "NlNDw-u6pvf5"
      },
      "source": [
        "Chúng ta sẽ nhận các giá trị từ bàn phím."
      ]
    },
    {
      "cell_type": "code",
      "metadata": {
        "id": "G11DJ1CVpvf6",
        "colab": {
          "base_uri": "https://localhost:8080/"
        },
        "outputId": "4e686cad-e000-4a0b-d8bd-fa214eeedf89"
      },
      "source": [
        "# yêu cầu user nhập giá trị a\n",
        "a = int(input(\"Hãy nhập giá trị a: \"))\n",
        "# yêu cầu user nhập giá trị b\n",
        "b = int(input(\"Hãy nhập giá trị b: \"))\n",
        "# yêu cầu user nhập giá trị c\n",
        "c = int(input(\"Hãy nhập giá trị c: \"))"
      ],
      "execution_count": 3,
      "outputs": [
        {
          "output_type": "stream",
          "text": [
            "Hãy nhập giá trị a: 3\n",
            "Hãy nhập giá trị b: 4\n",
            "Hãy nhập giá trị c: 5\n"
          ],
          "name": "stdout"
        }
      ]
    },
    {
      "cell_type": "code",
      "metadata": {
        "id": "10yjAxi6pvgA"
      },
      "source": [
        "# Kiểm tra giá trị nhập vào có dương hay không?\n",
        "\n",
        "### START CODE HERE ### \n",
        "def check(a, b, c):\n",
        "  if(a <= 0 | b <= 0 | c <= 0):\n",
        "    return False\n",
        "  elif((a**2 + b**2 == c**2) | (b**2 + c**2 == a**2) | (a**2 + c**2 == b**2)):\n",
        "    return True\n",
        "  return False\n",
        "### END CODE HERE ###"
      ],
      "execution_count": 4,
      "outputs": []
    },
    {
      "cell_type": "markdown",
      "metadata": {
        "id": "9L_xf5bbpvgD"
      },
      "source": [
        "Các bạn hãy cố gắng sử dụng 1 dòng Code. "
      ]
    },
    {
      "cell_type": "code",
      "metadata": {
        "id": "fUY1jMSmpvgE"
      },
      "source": [
        "### START CODE HERE ### (≈ 1 line of code)\n",
        "answer = check(a, b, c)\n",
        "### END CODE HERE ###"
      ],
      "execution_count": 5,
      "outputs": []
    },
    {
      "cell_type": "code",
      "metadata": {
        "id": "cC0zzEIFpvgI",
        "colab": {
          "base_uri": "https://localhost:8080/"
        },
        "outputId": "13e12037-738b-4359-9856-8e4551b10043"
      },
      "source": [
        "print('Tam giác trên có phải là tam giác vuông không? ', answer)"
      ],
      "execution_count": 6,
      "outputs": [
        {
          "output_type": "stream",
          "text": [
            "Tam giác trên có phải là tam giác vuông không?  True\n"
          ],
          "name": "stdout"
        }
      ]
    },
    {
      "cell_type": "markdown",
      "metadata": {
        "id": "s7wzFFSepvgM"
      },
      "source": [
        "**Đầu ra kỳ vọng**:\n",
        "\n",
        "```python3\n",
        "Với bộ tham số (a, b, c) = (3, 4, 5) - Đáp án: True\n",
        "Với bộ tham số (a, b, c) = (3, 4, 6) - Đáp án: False\n",
        "```"
      ]
    },
    {
      "cell_type": "markdown",
      "metadata": {
        "id": "kYyUbn7HpvgM"
      },
      "source": [
        "**Bài tập 3:** Tính chu vi và diện tích cho các hình cơ bản. Dựa vào các công thức, các bạn xác định input cần thiết của chương trình để yêu cầu user nhập vào từ bàn phím.\n",
        "\n",
        "<img src=\"https://github.com/thanhhff/AIVN-Machine-Learning/blob/master/Week%201/Assignment/images/toan.png?raw=1\" style=\"width:50%;height:50%;\">\n",
        "\n",
        "Chương trình sau tính diện tích tam giác dựa vào 2 tham số b và h (các bạn tham khảo công thức nếu chưa biết ý nghĩa của 2 tham số này)"
      ]
    },
    {
      "cell_type": "code",
      "metadata": {
        "id": "fP3dYOZjpvgN",
        "colab": {
          "base_uri": "https://localhost:8080/"
        },
        "outputId": "0105f322-cab5-4c7c-b71d-ee716b6b1338"
      },
      "source": [
        "print('Chương trình tính diện tích tam giác')\n",
        "\n",
        "#input\n",
        "# Chú ý ép kiểu sang Float \n",
        "### START CODE HERE ### (≈ 2 line of code)\n",
        "h = float(input(\"h = \"))\n",
        "b = float(input(\"b = \"))\n",
        "### END CODE HERE ###\n",
        "\n",
        "# process\n",
        "### START CODE HERE ### (≈ 1 line of code)\n",
        "result = 1/2 * b * h\n",
        "### END CODE HERE ###\n",
        "\n",
        "#output\n",
        "print('Diện tích tam giác với h và b đã cho là', result)"
      ],
      "execution_count": 7,
      "outputs": [
        {
          "output_type": "stream",
          "text": [
            "Chương trình tính diện tích tam giác\n",
            "h = 3\n",
            "b = 3\n",
            "Diện tích tam giác với h và b đã cho là 4.5\n"
          ],
          "name": "stdout"
        }
      ]
    },
    {
      "cell_type": "markdown",
      "metadata": {
        "id": "XRJexD0SpvgT"
      },
      "source": [
        "**Đầu ra kỳ vọng**:\n",
        "\n",
        "```\n",
        "Với h = 3, b = 3\n",
        "Diện tích tam giác: 4.5\n",
        "```"
      ]
    },
    {
      "cell_type": "markdown",
      "metadata": {
        "id": "WXEvqDSRpvgU"
      },
      "source": [
        "**Bài tập 4:** Ước lượng số PI bằng các số ngẫu nhiên. \n",
        "\n",
        "Chúng ta sẽ cài đặt chương trình để ước lượng số PI dùng các số ngẫu nhiên có phân bố đều (uniform distribution). Các bước cài đặt chương trình như sau:\n",
        "\n",
        "1. Cho trước hình vuông $V$ có cạnh $s = 2$ và hình tròn $T$ có bán kính $r = 1$. Cả $V$ và $T$ có tâm tại điểm (0, 0).\n",
        "\n",
        "\n",
        "2. Sinh ra $N$ điểm $p$ có tọa độ $(x, y)$, trong đó $x, y$ là các số ngẫu nhiên và thuộc đoạn [-1, 1].\n",
        "\n",
        "\n",
        "<img src=\"https://github.com/thanhhff/AIVN-Machine-Learning/blob/master/Week%201/Assignment/images/pi_estimation.png?raw=1\" style=\"width:30%;height:30%;\">\n",
        "\n"
      ]
    },
    {
      "cell_type": "markdown",
      "metadata": {
        "id": "hgZdZZmwpvgV"
      },
      "source": [
        "3. Đếm số điểm $p$ thuộc $T$, gọi là $N_T$\n",
        "\n",
        "\n",
        "4. Cuối cùng, số PI được ước lượng như sau:\n",
        "\n",
        "<center>$ \\pi \\approx 4 \\times \\frac{N_T}{N} $ </center>"
      ]
    },
    {
      "cell_type": "code",
      "metadata": {
        "id": "gnH11owCpvgW"
      },
      "source": [
        "import random\n",
        "import math\n",
        "# Tổng số điểm p được sinh ra\n",
        "N = 100000\n",
        "# số điểm thuộc tình tròn\n",
        "N_T = 0"
      ],
      "execution_count": 8,
      "outputs": []
    },
    {
      "cell_type": "code",
      "metadata": {
        "id": "VZ6xtsCMpvgZ"
      },
      "source": [
        "# Sinh ra N điểm ngẫu nhiên\n",
        "for i in range(N):\n",
        "    \n",
        "    # sinh ra x, y thuộc [-1, 1].\n",
        "    # Hướng dẫn sử dụng hàm `random.random()`\n",
        "    ### START CODE HERE ### (≈ 1 line of code) \n",
        "    x = random.random()\n",
        "    y = random.random()\n",
        "    ### END CODE HERE ###\n",
        "    \n",
        "    \n",
        "    # Thực hiện viết công thức đường tròn \n",
        "    ### START CODE HERE ### (≈ 1 line of code) \n",
        "    x2 = x**2\n",
        "    y2 = y**2\n",
        "    ### END CODE HERE ###\n",
        "    \n",
        "    # kiểm tra p có nằm trong đường tròn\n",
        "    if math.sqrt(x2 + y2) <= 1.0:\n",
        "        ### START CODE HERE ### (≈ 1 line of code)\n",
        "        N_T += 1\n",
        "        ### END CODE HERE ### "
      ],
      "execution_count": 9,
      "outputs": []
    },
    {
      "cell_type": "code",
      "metadata": {
        "id": "DWeDOJJapvgc",
        "colab": {
          "base_uri": "https://localhost:8080/"
        },
        "outputId": "6f2af637-0df9-453c-e937-acfc707a312c"
      },
      "source": [
        "# tính PI\n",
        "### START CODE HERE ### (≈ 1 line of code)\n",
        "pi = 4 * N_T / N\n",
        "### END CODE HERE ###\n",
        "\n",
        "print(pi)"
      ],
      "execution_count": 10,
      "outputs": [
        {
          "output_type": "stream",
          "text": [
            "3.1532\n"
          ],
          "name": "stdout"
        }
      ]
    },
    {
      "cell_type": "markdown",
      "metadata": {
        "id": "0T2Vic_opvge"
      },
      "source": [
        "**Đầu ra kỳ vọng**:\n",
        "\n",
        "```python\n",
        "3.14552\n",
        "```"
      ]
    },
    {
      "cell_type": "markdown",
      "metadata": {
        "id": "YRpIIbRBpvgf"
      },
      "source": [
        "**Bài tập 5:**\n",
        "\n",
        "Số e được ước lượng dựa vào công thức sau:\n",
        "\n",
        "<center>$e \\approx 1 + \\frac{1}{1!} + \\frac{1}{2!} + ... + \\frac{1}{n!}$</center>\n",
        "\n",
        "trong đó, n là số cho trước. n càng lớn thì độ chính xác càng cao.\n",
        "\n",
        "**Gợi ý:** Các bạn hãy dùng vòng lặp for để tính giai thừa và tính xấp xỉ số e !"
      ]
    },
    {
      "cell_type": "code",
      "metadata": {
        "id": "FoiqNraopvgg",
        "colab": {
          "base_uri": "https://localhost:8080/"
        },
        "outputId": "45cd3b90-0f1b-4541-842d-a8473fd13b91"
      },
      "source": [
        "# hàm tính giai thừa\n",
        "def factorial(n):\n",
        "\n",
        "    ### START CODE HERE ### (≈ 3 line of code)\n",
        "    result = 1\n",
        "    for i in range(1, n + 1):\n",
        "      result *= i\n",
        "    ### END CODE HERE ###\n",
        "    return result\n",
        "\n",
        "# hàm ước lượng số e\n",
        "def estimate_e(n):\n",
        "    \n",
        "    ### START CODE HERE ### (≈ 3 line of code)\n",
        "    result = 1\n",
        "    for i in range(1, n + 1):\n",
        "      result += (1/factorial(i))\n",
        "    ### END CODE HERE ###\n",
        "    \n",
        "    return result    \n",
        "\n",
        "# ước lượng số e với n = 10\n",
        "print(estimate_e(10))"
      ],
      "execution_count": 11,
      "outputs": [
        {
          "output_type": "stream",
          "text": [
            "2.7182818011463845\n"
          ],
          "name": "stdout"
        }
      ]
    },
    {
      "cell_type": "markdown",
      "metadata": {
        "id": "F5h2g71vpvgj"
      },
      "source": [
        "**Đầu ra kỳ vọng**:\n",
        "\n",
        "```python\n",
        "2.7182818011463845\n",
        "```"
      ]
    },
    {
      "cell_type": "markdown",
      "metadata": {
        "id": "28WtTPa-pvgj"
      },
      "source": [
        "### Tổng kết\n",
        "\n",
        "Thông qua bài tập này, các bạn đã nắm vững một số kiến thức cơ bản về lập trình Python.\n",
        "\n",
        "- Nhập và xuất giá trị\n",
        "- Một số thư viện như Math, Random, ...\n",
        "- Định nghĩa hàm \n",
        "- Vòng lặp \n"
      ]
    }
  ]
}