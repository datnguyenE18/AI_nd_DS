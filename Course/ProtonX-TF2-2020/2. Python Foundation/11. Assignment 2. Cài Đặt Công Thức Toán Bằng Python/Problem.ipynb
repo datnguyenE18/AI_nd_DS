{
  "nbformat": 4,
  "nbformat_minor": 0,
  "metadata": {
    "kernelspec": {
      "display_name": "Python 3",
      "language": "python",
      "name": "python3"
    },
    "language_info": {
      "codemirror_mode": {
        "name": "ipython",
        "version": 3
      },
      "file_extension": ".py",
      "mimetype": "text/x-python",
      "name": "python",
      "nbconvert_exporter": "python",
      "pygments_lexer": "ipython3",
      "version": "3.7.3"
    },
    "colab": {
      "name": "Problem.ipynb",
      "provenance": [],
      "collapsed_sections": []
    }
  },
  "cells": [
    {
      "cell_type": "markdown",
      "metadata": {
        "id": "MG3y4oanpvfp"
      },
      "source": [
        "## Bài Tập Lập Trình: Cài Đặt Công Thức Toán Bằng Python \n",
        "\n",
        "\n",
        "### Hướng dẫn làm bài \n",
        "- Trong bài tập này bạn sẽ sử dụng Python 3.\n",
        "- Sau khi bạn viết Code của mình xong, hãy chạy dòng Code đó để xem kết quả bên dưới. \n",
        "\n",
        "Các bạn sẽ bắt đầu Code trong phần `### START CODE HERE ###` và `### END CODE HERE ###`. Các bạn nhớ đừng sửa bất kỳ dòng Code nào bên ngoài những câu lệnh này. \n",
        "\n",
        "Sau khi viết xong Code của bạn, bạn hãy ấn \"SHIFT\"+\"ENTER\" để thực hiện chạy lệnh của Cell đó. \n",
        "\n",
        "Trong phần Code: các bạn hãy cố gắng thực hiện ít dòng Code nhất theo chỉ định \"(≈ X lines of code)\". Mặc dù đây không phải là hạn chế về số dòng Code của bạn, nhưng hãy tối ưu sao cho ít nhất có thể."
      ]
    },
    {
      "cell_type": "markdown",
      "metadata": {
        "id": "bjBI0R4Jpvf0"
      },
      "source": [
        "**Bài tập 1:** Chuyển góc từ độ sang radian. Công thức chuyển từ góc với đơn vị là độ $A_d$ sang góc với đơn vị là radian $A_r$ như sau:\n",
        "\n",
        "<center> $A_r = A_d$ x $ \\frac{\\pi}{180}$ </center>\n",
        "\n",
        "*Gợi ý:* lấy số `pi` bằng hàm `math.pi`"
      ]
    },
    {
      "cell_type": "code",
      "metadata": {
        "id": "Z6CknEiYpvf0"
      },
      "source": [
        "import math \n",
        "\n",
        "# Độ\n",
        "degree = 40\n",
        "\n",
        "# tính góc theo radian\n",
        "### START CODE HERE ### (≈ 1 line of code)\n",
        "radian = None\n",
        "### END CODE HERE ###\n",
        "\n",
        "print(radian)"
      ],
      "execution_count": null,
      "outputs": []
    },
    {
      "cell_type": "markdown",
      "metadata": {
        "id": "UGoBUZTZpvf3"
      },
      "source": [
        "**Đầu ra kỳ vọng**:\n",
        "\n",
        "```python3\n",
        "40 độ sang radian: 0.6981317007977318\n",
        "```"
      ]
    },
    {
      "cell_type": "markdown",
      "metadata": {
        "id": "eukLxGrapvf4"
      },
      "source": [
        "**Bài tập 2:** Kiểm tra có phải tam giác vuông dựa vào công thức $a^2 + b^2 = c^2$\n",
        "\n",
        "<img src=\"https://github.com/thanhhff/AIVN-Machine-Learning/blob/master/Week%201/Assignment/images/tam-giac-vuong.png?raw=1\">"
      ]
    },
    {
      "cell_type": "markdown",
      "metadata": {
        "id": "NlNDw-u6pvf5"
      },
      "source": [
        "Chúng ta sẽ nhận các giá trị từ bàn phím."
      ]
    },
    {
      "cell_type": "code",
      "metadata": {
        "id": "G11DJ1CVpvf6"
      },
      "source": [
        "# yêu cầu user nhập giá trị a\n",
        "a = int(input(\"Hãy nhập giá trị a: \"))\n",
        "# yêu cầu user nhập giá trị b\n",
        "b = int(input(\"Hãy nhập giá trị b: \"))\n",
        "# yêu cầu user nhập giá trị c\n",
        "c = int(input(\"Hãy nhập giá trị c: \"))"
      ],
      "execution_count": null,
      "outputs": []
    },
    {
      "cell_type": "code",
      "metadata": {
        "id": "10yjAxi6pvgA"
      },
      "source": [
        "# Kiểm tra giá trị nhập vào có dương hay không?\n",
        "\n",
        "### START CODE HERE ### \n",
        "None\n",
        "### END CODE HERE ###"
      ],
      "execution_count": null,
      "outputs": []
    },
    {
      "cell_type": "markdown",
      "metadata": {
        "id": "9L_xf5bbpvgD"
      },
      "source": [
        "Các bạn hãy cố gắng sử dụng 1 dòng Code. "
      ]
    },
    {
      "cell_type": "code",
      "metadata": {
        "id": "fUY1jMSmpvgE"
      },
      "source": [
        "### START CODE HERE ### (≈ 1 line of code)\n",
        "answer = None\n",
        "### END CODE HERE ###"
      ],
      "execution_count": null,
      "outputs": []
    },
    {
      "cell_type": "code",
      "metadata": {
        "id": "cC0zzEIFpvgI"
      },
      "source": [
        "print('Tam giác trên có phải là tam giác vuông không? ', answer)"
      ],
      "execution_count": null,
      "outputs": []
    },
    {
      "cell_type": "markdown",
      "metadata": {
        "id": "s7wzFFSepvgM"
      },
      "source": [
        "**Đầu ra kỳ vọng**:\n",
        "\n",
        "```python3\n",
        "Với bộ tham số (a, b, c) = (3, 4, 5) - Đáp án: True\n",
        "Với bộ tham số (a, b, c) = (3, 4, 6) - Đáp án: False\n",
        "```"
      ]
    },
    {
      "cell_type": "markdown",
      "metadata": {
        "id": "kYyUbn7HpvgM"
      },
      "source": [
        "**Bài tập 3:** Tính chu vi và diện tích cho các hình cơ bản. Dựa vào các công thức, các bạn xác định input cần thiết của chương trình để yêu cầu user nhập vào từ bàn phím.\n",
        "\n",
        "<img src=\"https://github.com/thanhhff/AIVN-Machine-Learning/blob/master/Week%201/Assignment/images/toan.png?raw=1\" style=\"width:50%;height:50%;\">\n",
        "\n",
        "Chương trình sau tính diện tích tam giác dựa vào 2 tham số b và h (các bạn tham khảo công thức nếu chưa biết ý nghĩa của 2 tham số này)"
      ]
    },
    {
      "cell_type": "code",
      "metadata": {
        "id": "fP3dYOZjpvgN"
      },
      "source": [
        "print('Chương trình tính diện tích tam giác')\n",
        "\n",
        "#input\n",
        "# Chú ý ép kiểu sang Float \n",
        "### START CODE HERE ### (≈ 2 line of code)\n",
        "h = None\n",
        "b = None\n",
        "### END CODE HERE ###\n",
        "\n",
        "# process\n",
        "### START CODE HERE ### (≈ 1 line of code)\n",
        "result = None\n",
        "### END CODE HERE ###\n",
        "\n",
        "#output\n",
        "print('Diện tích tam giác với h và b đã cho là', result)"
      ],
      "execution_count": null,
      "outputs": []
    },
    {
      "cell_type": "markdown",
      "metadata": {
        "id": "XRJexD0SpvgT"
      },
      "source": [
        "**Đầu ra kỳ vọng**:\n",
        "\n",
        "```\n",
        "Với h = 3, b = 3\n",
        "Diện tích tam giác: 4.5\n",
        "```"
      ]
    },
    {
      "cell_type": "markdown",
      "metadata": {
        "id": "WXEvqDSRpvgU"
      },
      "source": [
        "**Bài tập 4:** Ước lượng số PI bằng các số ngẫu nhiên. \n",
        "\n",
        "Chúng ta sẽ cài đặt chương trình để ước lượng số PI dùng các số ngẫu nhiên có phân bố đều (uniform distribution). Các bước cài đặt chương trình như sau:\n",
        "\n",
        "1. Cho trước hình vuông $V$ có cạnh $s = 2$ và hình tròn $T$ có bán kính $r = 1$. Cả $V$ và $T$ có tâm tại điểm (0, 0).\n",
        "\n",
        "\n",
        "2. Sinh ra $N$ điểm $p$ có tọa độ $(x, y)$, trong đó $x, y$ là các số ngẫu nhiên và thuộc đoạn [-1, 1].\n",
        "\n",
        "\n",
        "<img src=\"https://github.com/thanhhff/AIVN-Machine-Learning/blob/master/Week%201/Assignment/images/pi_estimation.png?raw=1\" style=\"width:30%;height:30%;\">\n",
        "\n"
      ]
    },
    {
      "cell_type": "markdown",
      "metadata": {
        "id": "hgZdZZmwpvgV"
      },
      "source": [
        "3. Đếm số điểm $p$ thuộc $T$, gọi là $N_T$\n",
        "\n",
        "\n",
        "4. Cuối cùng, số PI được ước lượng như sau:\n",
        "\n",
        "<center>$ \\pi \\approx 4 \\times \\frac{N_T}{N} $ </center>"
      ]
    },
    {
      "cell_type": "code",
      "metadata": {
        "id": "gnH11owCpvgW"
      },
      "source": [
        "import random\n",
        "import math\n",
        "# Tổng số điểm p được sinh ra\n",
        "N = 100000\n",
        "# số điểm thuộc tình tròn\n",
        "N_T = 0"
      ],
      "execution_count": null,
      "outputs": []
    },
    {
      "cell_type": "code",
      "metadata": {
        "id": "VZ6xtsCMpvgZ"
      },
      "source": [
        "# Sinh ra N điểm ngẫu nhiên\n",
        "for i in range(N):\n",
        "    \n",
        "    # sinh ra x, y thuộc [-1, 1].\n",
        "    # Hướng dẫn sử dụng hàm `random.random()`\n",
        "    ### START CODE HERE ### (≈ 1 line of code) \n",
        "    x = None\n",
        "    y = None\n",
        "    ### END CODE HERE ###\n",
        "    \n",
        "    \n",
        "    # Thực hiện viết công thức đường tròn \n",
        "    ### START CODE HERE ### (≈ 1 line of code) \n",
        "    x2 = None\n",
        "    y2 = None\n",
        "    ### END CODE HERE ###\n",
        "    \n",
        "    # kiểm tra p có nằm trong đường tròn\n",
        "    if math.sqrt(x2 + y2) <= 1.0:\n",
        "        ### START CODE HERE ### (≈ 1 line of code)\n",
        "        N_T = None\n",
        "        ### END CODE HERE ### "
      ],
      "execution_count": null,
      "outputs": []
    },
    {
      "cell_type": "code",
      "metadata": {
        "id": "DWeDOJJapvgc"
      },
      "source": [
        "# tính PI\n",
        "### START CODE HERE ### (≈ 1 line of code)\n",
        "pi = None\n",
        "### END CODE HERE ###\n",
        "\n",
        "print(pi)"
      ],
      "execution_count": null,
      "outputs": []
    },
    {
      "cell_type": "markdown",
      "metadata": {
        "id": "0T2Vic_opvge"
      },
      "source": [
        "**Đầu ra kỳ vọng**:\n",
        "\n",
        "```python\n",
        "3.14552\n",
        "```"
      ]
    },
    {
      "cell_type": "markdown",
      "metadata": {
        "id": "YRpIIbRBpvgf"
      },
      "source": [
        "**Bài tập 5:**\n",
        "\n",
        "Số e được ước lượng dựa vào công thức sau:\n",
        "\n",
        "<center>$e \\approx 1 + \\frac{1}{1!} + \\frac{1}{2!} + ... + \\frac{1}{n!}$</center>\n",
        "\n",
        "trong đó, n là số cho trước. n càng lớn thì độ chính xác càng cao.\n",
        "\n",
        "**Gợi ý:** Các bạn hãy dùng vòng lặp for để tính giai thừa và tính xấp xỉ số e !"
      ]
    },
    {
      "cell_type": "code",
      "metadata": {
        "id": "FoiqNraopvgg"
      },
      "source": [
        "# hàm tính giai thừa\n",
        "def factorial(n):\n",
        "\n",
        "    ### START CODE HERE ### (≈ 3 line of code)\n",
        "    None\n",
        "    ### END CODE HERE ###\n",
        "        \n",
        "    return result\n",
        "\n",
        "# hàm ước lượng số e\n",
        "def estimate_e(n):\n",
        "    \n",
        "    ### START CODE HERE ### (≈ 3 line of code)\n",
        "    None\n",
        "    ### END CODE HERE ###\n",
        "    \n",
        "    return result    \n",
        "\n",
        "# ước lượng số e với n = 10\n",
        "print(estimate_e(10))"
      ],
      "execution_count": null,
      "outputs": []
    },
    {
      "cell_type": "markdown",
      "metadata": {
        "id": "F5h2g71vpvgj"
      },
      "source": [
        "**Đầu ra kỳ vọng**:\n",
        "\n",
        "```python\n",
        "2.7182818011463845\n",
        "```"
      ]
    },
    {
      "cell_type": "markdown",
      "metadata": {
        "id": "28WtTPa-pvgj"
      },
      "source": [
        "### Tổng kết\n",
        "\n",
        "Thông qua bài tập này, các bạn đã nắm vững một số kiến thức cơ bản về lập trình Python.\n",
        "\n",
        "- Nhập và xuất giá trị\n",
        "- Một số thư viện như Math, Random, ...\n",
        "- Định nghĩa hàm \n",
        "- Vòng lặp \n"
      ]
    }
  ]
}