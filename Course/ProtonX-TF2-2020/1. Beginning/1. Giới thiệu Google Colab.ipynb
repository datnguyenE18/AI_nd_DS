{
 "cells": [
  {
   "cell_type": "markdown",
   "metadata": {
    "id": "A1afka7rqYxU"
   },
   "source": [
    "# Thực hành sử dụng Google Colab\n",
    "\n",
    "**Một số chú ý:**\n",
    "- Trong bài tập này bạn sẽ sử dụng Python 3.\n",
    "- Cố gắng không sử dụng các vòng lặp (for, while). \n",
    "- Không chỉnh sửa các tên hàm. \n",
    "- Sau khi bạn viết Code của mình xong, hãy chạy dòng Code đó để xem kết quả bên dưới. \n",
    "\n",
    "Hãy bắt đầu nào!"
   ]
  },
  {
   "cell_type": "markdown",
   "metadata": {
    "id": "UKcapl77qq4r"
   },
   "source": [
    "## Hướng dẫn làm bài ##\n",
    "\n",
    "Các bạn sẽ bắt đầu Code trong phần `### START CODE HERE ###` và `### END CODE HERE ###`. Các bạn hãy nhớ đừng sửa bất kỳ tên hàm nào ngoài phần Code này. \n",
    "\n",
    "Sau khi viết xong Code của bạn, bạn hãy ấn \"SHIFT\"+\"ENTER\" để thực hiện chạy lệnh của Cell đó. Sau đó kiểm tra với kết quả có sẵn bên dưới để xem đã thực hiện đúng hay sai, nếu sai hãy thử lại !\n",
    "\n",
    "Trong phần Code: các bạn hãy cố gắng thực hiện ít dòng Code nhất theo chỉ định \"(≈ X lines of code)\". Mặc dù đây không phải là hạn chế về số dòng Code của bạn, nhưng hãy tối ưu sao cho ít nhất có thể.\n",
    "\n",
    "**Bài tập**: Hãy bắt đầu thử dòng Code đầu tiên - thực hiện in ra màn hình dòng chữ `\"Hello World\"`."
   ]
  },
  {
   "cell_type": "code",
   "execution_count": 1,
   "metadata": {
    "id": "Tpn-9aS-qn5i"
   },
   "outputs": [],
   "source": [
    "### START CODE HERE ### (≈ 1 line of code)\n",
    "test = \"Hello World\"\n",
    "### END CODE HERE ###"
   ]
  },
  {
   "cell_type": "code",
   "execution_count": 2,
   "metadata": {
    "colab": {
     "base_uri": "https://localhost:8080/"
    },
    "id": "CrXF5oRrqx8t",
    "outputId": "0a8ea3c9-5429-4045-a6b9-f3d3d8ca00da"
   },
   "outputs": [
    {
     "name": "stdout",
     "output_type": "stream",
     "text": [
      "ProtonX: Hello World\n"
     ]
    }
   ],
   "source": [
    "print (\"ProtonX: \" + test)"
   ]
  },
  {
   "cell_type": "markdown",
   "metadata": {
    "id": "gWbVU-NCq0mr"
   },
   "source": [
    "**Đầu ra kỳ vọng**:\n",
    "\n",
    "```python\n",
    "ProtonX: Hello World\n",
    "```"
   ]
  }
 ],
 "metadata": {
  "colab": {
   "collapsed_sections": [],
   "name": "Đạt Nguyễn - [ProtonX] Làm quen với hệ thống Google Classroom và Google Colab",
   "provenance": [],
   "toc_visible": true
  },
  "kernelspec": {
   "display_name": "Python 3",
   "language": "python",
   "name": "python3"
  },
  "language_info": {
   "codemirror_mode": {
    "name": "ipython",
    "version": 3
   },
   "file_extension": ".py",
   "mimetype": "text/x-python",
   "name": "python",
   "nbconvert_exporter": "python",
   "pygments_lexer": "ipython3",
   "version": "3.8.3"
  }
 },
 "nbformat": 4,
 "nbformat_minor": 1
}
