{
  "nbformat": 4,
  "nbformat_minor": 0,
  "metadata": {
    "colab": {
      "name": "P1.ipynb",
      "provenance": [],
      "collapsed_sections": []
    },
    "kernelspec": {
      "name": "python3",
      "display_name": "Python 3"
    },
    "accelerator": "GPU"
  },
  "cells": [
    {
      "cell_type": "code",
      "metadata": {
        "id": "jr-jiVDQLU-9"
      },
      "source": [
        "import numpy as np\r\n",
        "#import random\r\n",
        "#import os\r\n",
        "#import pandas as pd\r\n",
        "import tensorflow as tf\r\n",
        "#import matplotlib.pyplot as plt\r\n",
        "#!pip install mitdeeplearning\r\n",
        "#import mitdeeplearning as mdl\r\n",
        "#!pip install -U mxnet-cu101==1.7.0\r\n"
      ],
      "execution_count": 1,
      "outputs": []
    },
    {
      "cell_type": "markdown",
      "metadata": {
        "id": "sQ9uVzhTPqmY"
      },
      "source": [
        "**Cách dùng khác của GradientTape**"
      ]
    },
    {
      "cell_type": "code",
      "metadata": {
        "colab": {
          "base_uri": "https://localhost:8080/"
        },
        "id": "72ffbKnAPsjM",
        "outputId": "d50082b9-66fd-4701-89f7-5e323224ed47"
      },
      "source": [
        "@tf.function\r\n",
        "def example():\r\n",
        "  x = tf.constant([[1, 2], [3, 4]], dtype=np.float32)\r\n",
        "  y = tf.constant([[5, 6], [7, 8]], dtype=np.float32)\r\n",
        "  z = tf.matmul(x, y)\r\n",
        "  return tf.gradients(z, [x, y])\r\n",
        "example()"
      ],
      "execution_count": 2,
      "outputs": [
        {
          "output_type": "execute_result",
          "data": {
            "text/plain": [
              "[<tf.Tensor: shape=(2, 2), dtype=float32, numpy=\n",
              " array([[11., 15.],\n",
              "        [11., 15.]], dtype=float32)>,\n",
              " <tf.Tensor: shape=(2, 2), dtype=float32, numpy=\n",
              " array([[4., 4.],\n",
              "        [6., 6.]], dtype=float32)>]"
            ]
          },
          "metadata": {
            "tags": []
          },
          "execution_count": 2
        }
      ]
    },
    {
      "cell_type": "code",
      "metadata": {
        "colab": {
          "base_uri": "https://localhost:8080/"
        },
        "id": "31fjuOwpPuFg",
        "outputId": "7b62b412-ffeb-4039-8075-d72820a30d5e"
      },
      "source": [
        "@tf.function\r\n",
        "def example():\r\n",
        "  a = tf.constant(0.)\r\n",
        "  b = 2 * a\r\n",
        "  return tf.gradients(a + b, [a, b], stop_gradients=[a, b])\r\n",
        "example()"
      ],
      "execution_count": 3,
      "outputs": [
        {
          "output_type": "execute_result",
          "data": {
            "text/plain": [
              "[<tf.Tensor: shape=(), dtype=float32, numpy=1.0>,\n",
              " <tf.Tensor: shape=(), dtype=float32, numpy=1.0>]"
            ]
          },
          "metadata": {
            "tags": []
          },
          "execution_count": 3
        }
      ]
    },
    {
      "cell_type": "markdown",
      "metadata": {
        "id": "iwVADTi8Pxny"
      },
      "source": [
        "![APP_SCRIPT_DOCS_IMAGE (6).png](data:image/png;base64,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)"
      ]
    },
    {
      "cell_type": "code",
      "metadata": {
        "id": "F5TiMLe_PyEc"
      },
      "source": [
        "W = tf.constant([[1.0, 2.0, 3.0], [-1.0, 3.0, 2.0], [2.0, 3.0, 1.0]], dtype=np.float32)\r\n",
        "A = tf.constant([[1.0, 2.0, 3.0], [-1.0, 3.0, 2.0], [2.0, 3.0, 1.0]], dtype=np.float32)\r\n",
        "x = tf.constant([[4.0], [5.0], [6.0]], dtype=np.float32)\r\n",
        "with tf.GradientTape(persistent=True) as g:\r\n",
        "  g.watch(W)\r\n",
        "  g.watch(x)\r\n",
        "  y = tf.matmul(tf.matmul(tf.transpose(x), A), x)\r\n",
        "Gradient_x = g.gradient(y, x)\r\n"
      ],
      "execution_count": 4,
      "outputs": []
    },
    {
      "cell_type": "code",
      "metadata": {
        "colab": {
          "base_uri": "https://localhost:8080/"
        },
        "id": "OeusDNaOP0dF",
        "outputId": "7233582a-2c41-4b61-be76-91c97432ed96"
      },
      "source": [
        "Gradient_x"
      ],
      "execution_count": 5,
      "outputs": [
        {
          "output_type": "execute_result",
          "data": {
            "text/plain": [
              "<tf.Tensor: shape=(3, 1), dtype=float32, numpy=\n",
              "array([[43.],\n",
              "       [64.],\n",
              "       [57.]], dtype=float32)>"
            ]
          },
          "metadata": {
            "tags": []
          },
          "execution_count": 5
        }
      ]
    },
    {
      "cell_type": "code",
      "metadata": {
        "colab": {
          "base_uri": "https://localhost:8080/"
        },
        "id": "-BFTP3ETP4Vq",
        "outputId": "722eec44-605b-470b-fad1-ca3d90b47e63"
      },
      "source": [
        "tf.matmul(tf.transpose(x), (tf.transpose(A) + A))"
      ],
      "execution_count": 6,
      "outputs": [
        {
          "output_type": "execute_result",
          "data": {
            "text/plain": [
              "<tf.Tensor: shape=(1, 3), dtype=float32, numpy=array([[43., 64., 57.]], dtype=float32)>"
            ]
          },
          "metadata": {
            "tags": []
          },
          "execution_count": 6
        }
      ]
    }
  ]
}