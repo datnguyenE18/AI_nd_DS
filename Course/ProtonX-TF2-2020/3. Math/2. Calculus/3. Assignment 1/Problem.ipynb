{
  "nbformat": 4,
  "nbformat_minor": 0,
  "metadata": {
    "colab": {
      "name": "Problem.ipynb",
      "provenance": [],
      "collapsed_sections": []
    },
    "kernelspec": {
      "name": "python3",
      "display_name": "Python 3"
    },
    "accelerator": "GPU"
  },
  "cells": [
    {
      "cell_type": "code",
      "metadata": {
        "id": "2mt1phbg1dqR"
      },
      "source": [
        "import tensorflow as tf"
      ],
      "execution_count": 1,
      "outputs": []
    },
    {
      "cell_type": "markdown",
      "metadata": {
        "id": "oOCyIHUOyCtV"
      },
      "source": [
        "**Câu 1** Viết công thức đạo hàm của $f(x) = 3\\sqrt{x}$ xuống dưới đây"
      ]
    },
    {
      "cell_type": "code",
      "metadata": {
        "id": "68TQziEpxvpx"
      },
      "source": [
        "# Ví dụ công thức căn viết là x ** (1/2)\r\n",
        "\r\n"
      ],
      "execution_count": 2,
      "outputs": []
    },
    {
      "cell_type": "markdown",
      "metadata": {
        "id": "zCJMMDCXye3N"
      },
      "source": [
        "**Câu 2** Lập trình tính đạo hàm của $f(x)$ bên trên tại $x = 2.0$ bằng Gradient Tape. In giá trị này."
      ]
    },
    {
      "cell_type": "code",
      "metadata": {
        "id": "DlUJ_G2Qyl2k"
      },
      "source": [
        "# Lập trình tại đây\r\n"
      ],
      "execution_count": 3,
      "outputs": []
    },
    {
      "cell_type": "markdown",
      "metadata": {
        "id": "zS84t4UAyrm0"
      },
      "source": [
        "**Câu 3** Lập trình tính đạo hàm của hàm \r\n",
        "\\\r\n",
        "$f(x) =sin(x)^3cos(x)$ tại $x$ = $30^0$ bằng GradientTape.\r\n",
        "\r\n",
        "Chú ý phải chuyển $x$ về radian thông qua công thức\r\n",
        "\r\n",
        "$ \\text{radiants} = \\text{degrees} * \\frac{\\pi}{180}$ \\\r\n",
        "\r\n",
        "In giá trị đạo hàm này."
      ]
    },
    {
      "cell_type": "code",
      "metadata": {
        "id": "FHPuPBLb7YcI"
      },
      "source": [
        "import numpy as np"
      ],
      "execution_count": 4,
      "outputs": []
    },
    {
      "cell_type": "code",
      "metadata": {
        "id": "W33KtfF3z25W"
      },
      "source": [
        "# Lập trình tại đây\r\n"
      ],
      "execution_count": 5,
      "outputs": []
    },
    {
      "cell_type": "markdown",
      "metadata": {
        "id": "-Pbw6tJu0cgY"
      },
      "source": [
        "**Câu 4** Lập trình tính đạo hàm của hàm \r\n",
        "\\\r\n",
        "$f(x) = \\frac{\\sqrt{x}}{\\ln(x^2)}$ tại $x$ = $2.0$ bằng GradientTape. \\\r\n",
        "\r\n",
        "In giá trị này.\r\n"
      ]
    },
    {
      "cell_type": "code",
      "metadata": {
        "id": "dBrLYezx0rbm"
      },
      "source": [
        "# Lập trình tại đây\r\n"
      ],
      "execution_count": 6,
      "outputs": []
    },
    {
      "cell_type": "markdown",
      "metadata": {
        "id": "7xwf7EGx2VEA"
      },
      "source": [
        "**Câu 5** Viết công thức Gradient của $\\nabla{f}$ với $f(x, y) = 2x^2 + 6y - 30$ \\\r\n",
        "Gradient là tập hợp các đạo hàm riêng. \\\r\n",
        "$\r\n",
        "\\nabla{f} = \\begin{bmatrix}\r\n",
        "\\frac{\\partial{f(x, y)}}{\\partial{x}} & \\frac{\\partial{f(x, y)}}{\\partial{y}}\r\n",
        "\\end{bmatrix}\r\n",
        "$\r\n"
      ]
    },
    {
      "cell_type": "code",
      "metadata": {
        "id": "VGNjHdxT2yOG"
      },
      "source": [
        "# [ ______, _______ ]"
      ],
      "execution_count": 7,
      "outputs": []
    },
    {
      "cell_type": "markdown",
      "metadata": {
        "id": "hSTeTs7D0uYh"
      },
      "source": [
        "**Câu 6** Lập trình tính đạo hàm riêng của $f(x)$: $\\frac{\\partial{f(x_1, x_2, x_3)}}{\\partial{x_1}}$; $\\frac{\\partial{f(x_1, x_2, x_3)}}{\\partial{x_2}}$; $\\frac{\\partial{f(x_1, x_2, x_3)}}{\\partial{x_3}}$  \r\n",
        "\\\r\n",
        "$f(x_1, x_2, x_3) = x_1^2x_2^3x_3, + 2x_1^2x_2$ tại $x_1$ = $2.0$; $x_2=4.0$ và  $x_3=-2.0$ bằng GradientTape. \\\r\n",
        "In 3 giá trị này.\r\n"
      ]
    },
    {
      "cell_type": "code",
      "metadata": {
        "id": "cIoQ7jNE1HzM"
      },
      "source": [
        "# Lập trình tại đây\r\n"
      ],
      "execution_count": 8,
      "outputs": []
    },
    {
      "cell_type": "markdown",
      "metadata": {
        "id": "FlfY2Tly3RFR"
      },
      "source": [
        "\r\n",
        "\r\n",
        "**Câu 7** Lập trình tính đạo hàm riêng của của $f(\\textbf{x},\\textbf{y},\\textbf{z})$ trên các vector $\\textbf{x},\\textbf{y},\\textbf{z}$ \\\r\n",
        "\r\n",
        "$\r\n",
        "\r\n",
        "\\textbf{x} = \\begin{bmatrix}\r\n",
        "1\\\\ \r\n",
        "2\\\\ \r\n",
        "3\r\n",
        "\\end{bmatrix}\r\n",
        "\r\n",
        "\\textbf{y} = \\begin{bmatrix}\r\n",
        "4\\\\ \r\n",
        "-5\\\\ \r\n",
        "6\r\n",
        "\\end{bmatrix}\r\n",
        "\r\n",
        "\\textbf{z} = \\begin{bmatrix}\r\n",
        "-1\\\\ \r\n",
        "2\\\\ \r\n",
        "-4\r\n",
        "\\end{bmatrix}\r\n",
        "\\\\\r\n",
        "\r\n",
        "f(\\textbf{x},\\textbf{y},\\textbf{z}) = (\\textbf{x} \\bigodot \\textbf{y})\\cdot \\textbf{z}\r\n",
        "\r\n",
        "\r\n",
        "$ \\\r\n",
        "\r\n",
        "In 3 giá trị đạo hàm riêng này.\r\n",
        "\r\n",
        "\r\n",
        "\r\n"
      ]
    },
    {
      "cell_type": "code",
      "metadata": {
        "id": "mPfDZydi3hGb"
      },
      "source": [
        "# Lập trình tại đây\r\n",
        "\r\n"
      ],
      "execution_count": 9,
      "outputs": []
    }
  ]
}