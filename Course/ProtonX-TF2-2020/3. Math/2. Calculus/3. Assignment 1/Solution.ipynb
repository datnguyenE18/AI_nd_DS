{
  "nbformat": 4,
  "nbformat_minor": 0,
  "metadata": {
    "colab": {
      "name": "Solution.ipynb",
      "provenance": [],
      "collapsed_sections": []
    },
    "kernelspec": {
      "name": "python3",
      "display_name": "Python 3"
    },
    "accelerator": "GPU"
  },
  "cells": [
    {
      "cell_type": "markdown",
      "metadata": {
        "id": "DNskF-vZx2cy"
      },
      "source": [
        "Tiêu chí chấm điểm:\r\n",
        "\r\n",
        "*   Kết quả đúng với yêu cầu đề bài: 9 điểm\r\n",
        "*   Lời giải ngắn gọn xúc tích: 1 điểm\r\n"
      ]
    },
    {
      "cell_type": "code",
      "metadata": {
        "id": "2mt1phbg1dqR"
      },
      "source": [
        "import tensorflow as tf"
      ],
      "execution_count": null,
      "outputs": []
    },
    {
      "cell_type": "markdown",
      "metadata": {
        "id": "oOCyIHUOyCtV"
      },
      "source": [
        "**Câu 1** Viết công thức đạo hàm của $f(x) = 3\\sqrt{x}$ xuống dưới đây"
      ]
    },
    {
      "cell_type": "code",
      "metadata": {
        "id": "68TQziEpxvpx"
      },
      "source": [
        "# Ví dụ công thức căn viết là x ** (1/2)\r\n",
        "\r\n",
        "### Ans: 3/2 * x**(-1/2)"
      ],
      "execution_count": null,
      "outputs": []
    },
    {
      "cell_type": "markdown",
      "metadata": {
        "id": "zCJMMDCXye3N"
      },
      "source": [
        "**Câu 2** Lập trình tính đạo hàm của $f(x)$ bên trên tại $x = 2.0$ bằng Gradient Tape. In giá trị này."
      ]
    },
    {
      "cell_type": "code",
      "metadata": {
        "id": "DlUJ_G2Qyl2k",
        "colab": {
          "base_uri": "https://localhost:8080/"
        },
        "outputId": "303d112c-d3d1-4e4f-c128-cd58d028cee0"
      },
      "source": [
        "# Lập trình tại đây\r\n",
        "x = tf.constant(2.)\r\n",
        "with tf.GradientTape() as g:\r\n",
        "  g.watch(x)\r\n",
        "  f = 3 * x**(1/2)\r\n",
        "\r\n",
        "df_dx = g.gradient(f, x)\r\n",
        "df_dx.numpy()"
      ],
      "execution_count": null,
      "outputs": [
        {
          "output_type": "execute_result",
          "data": {
            "text/plain": [
              "1.0606601"
            ]
          },
          "metadata": {
            "tags": []
          },
          "execution_count": 3
        }
      ]
    },
    {
      "cell_type": "markdown",
      "metadata": {
        "id": "zS84t4UAyrm0"
      },
      "source": [
        "**Câu 3** Lập trình tính đạo hàm của hàm \r\n",
        "\\\r\n",
        "$f(x) =sin(x)^3cos(x)$ tại $x$ = $30^0$ bằng GradientTape.\r\n",
        "\r\n",
        "Chú ý phải chuyển $x$ về radian thông qua công thức\r\n",
        "\r\n",
        "$ \\text{radiants} = \\text{degrees} * \\frac{\\pi}{180}$ \\\r\n",
        "\r\n",
        "In giá trị đạo hàm này."
      ]
    },
    {
      "cell_type": "code",
      "metadata": {
        "id": "FHPuPBLb7YcI"
      },
      "source": [
        "import numpy as np"
      ],
      "execution_count": null,
      "outputs": []
    },
    {
      "cell_type": "code",
      "metadata": {
        "id": "W33KtfF3z25W",
        "colab": {
          "base_uri": "https://localhost:8080/"
        },
        "outputId": "6b6981be-6f99-4c8e-de2a-f88f365beced"
      },
      "source": [
        "# Lập trình tại đây\r\n",
        "x = tf.constant(30. * np.pi / 180.)\r\n",
        "with tf.GradientTape() as g:\r\n",
        "  g.watch(x)\r\n",
        "  f = (tf.math.sin(x))**3 * tf.math.cos(x)\r\n",
        "\r\n",
        "df_dx = g.gradient(f, x)\r\n",
        "df_dx.numpy()"
      ],
      "execution_count": null,
      "outputs": [
        {
          "output_type": "execute_result",
          "data": {
            "text/plain": [
              "0.49999994"
            ]
          },
          "metadata": {
            "tags": []
          },
          "execution_count": 5
        }
      ]
    },
    {
      "cell_type": "markdown",
      "metadata": {
        "id": "-Pbw6tJu0cgY"
      },
      "source": [
        "**Câu 4** Lập trình tính đạo hàm của hàm \r\n",
        "\\\r\n",
        "$f(x) = \\frac{\\sqrt{x}}{\\ln(x^2)}$ tại $x$ = $2.0$ bằng GradientTape. \\\r\n",
        "\r\n",
        "In giá trị này.\r\n"
      ]
    },
    {
      "cell_type": "code",
      "metadata": {
        "id": "dBrLYezx0rbm",
        "colab": {
          "base_uri": "https://localhost:8080/"
        },
        "outputId": "96285a7a-8d10-43b8-8a9d-94d04c5b4570"
      },
      "source": [
        "# Lập trình tại đây\r\n",
        "x = tf.constant(2.)\r\n",
        "with tf.GradientTape() as g:\r\n",
        "  g.watch(x)\r\n",
        "  f = (x**(1/2)) / (tf.math.log(x**2))\r\n",
        "\r\n",
        "df_dx = g.gradient(f, x)\r\n",
        "df_dx.numpy()"
      ],
      "execution_count": null,
      "outputs": [
        {
          "output_type": "execute_result",
          "data": {
            "text/plain": [
              "-0.48084024"
            ]
          },
          "metadata": {
            "tags": []
          },
          "execution_count": 6
        }
      ]
    },
    {
      "cell_type": "markdown",
      "metadata": {
        "id": "7xwf7EGx2VEA"
      },
      "source": [
        "**Câu 5** Viết công thức Gradient của $\\nabla{f}$ với $f(x, y) = 2x^2 + 6y - 30$ \\\r\n",
        "Gradient là tập hợp các đạo hàm riêng. \\\r\n",
        "$\r\n",
        "\\nabla{f} = \\begin{bmatrix}\r\n",
        "\\frac{\\partial{f(x, y)}}{\\partial{x}} & \\frac{\\partial{f(x, y)}}{\\partial{y}}\r\n",
        "\\end{bmatrix}\r\n",
        "$\r\n"
      ]
    },
    {
      "cell_type": "code",
      "metadata": {
        "id": "VGNjHdxT2yOG"
      },
      "source": [
        "# Ans [ 4x, 6 ]"
      ],
      "execution_count": null,
      "outputs": []
    },
    {
      "cell_type": "markdown",
      "metadata": {
        "id": "hSTeTs7D0uYh"
      },
      "source": [
        "**Câu 6** Lập trình tính đạo hàm riêng của $f(x)$: $\\frac{\\partial{f(x_1, x_2, x_3)}}{\\partial{x_1}}$; $\\frac{\\partial{f(x_1, x_2, x_3)}}{\\partial{x_2}}$; $\\frac{\\partial{f(x_1, x_2, x_3)}}{\\partial{x_3}}$  \r\n",
        "\\\r\n",
        "$f(x_1, x_2, x_3) = x_1^2x_2^3x_3, + 2x_1^2x_2$ tại $x_1$ = $2.0$; $x_2=4.0$ và  $x_3=-2.0$ bằng GradientTape. \\\r\n",
        "In 3 giá trị này.\r\n"
      ]
    },
    {
      "cell_type": "code",
      "metadata": {
        "id": "cIoQ7jNE1HzM",
        "colab": {
          "base_uri": "https://localhost:8080/"
        },
        "outputId": "dfa3d3ea-9a86-45ba-eb42-5311cc534a98"
      },
      "source": [
        "# Lập trình tại đây\r\n",
        "x1 = tf.constant(2.)\r\n",
        "x2 = tf.constant(4.)\r\n",
        "x3 = tf.constant(-2.)\r\n",
        "\r\n",
        "def cal(x):\r\n",
        "  with tf.GradientTape() as g:\r\n",
        "    g.watch(x)\r\n",
        "    f1 = (x**2) * (x2**3) * x3 + 2 * (x**2) * x2\r\n",
        "    f2 = (x1**2) * (x**3) * x3 + 2 * (x1**2) * x\r\n",
        "    f3 = (x1**2) * (x2**3) * x + 2 * (x1**2) * x2\r\n",
        "  if(x == x1):\r\n",
        "    return g.gradient(f1, x)\r\n",
        "  elif(x == x2): \r\n",
        "    return g.gradient(f2, x)\r\n",
        "  else:\r\n",
        "    return g.gradient(f3, x)\r\n",
        "\r\n",
        "print(cal(x1).numpy())\r\n",
        "print(cal(x2).numpy())\r\n",
        "print(cal(x3).numpy())"
      ],
      "execution_count": null,
      "outputs": [
        {
          "output_type": "stream",
          "text": [
            "-480.0\n",
            "-376.0\n",
            "256.0\n"
          ],
          "name": "stdout"
        }
      ]
    },
    {
      "cell_type": "markdown",
      "metadata": {
        "id": "FlfY2Tly3RFR"
      },
      "source": [
        "\r\n",
        "\r\n",
        "**Câu 7** Lập trình tính đạo hàm riêng của của $f(\\textbf{x},\\textbf{y},\\textbf{z})$ trên các vector $\\textbf{x},\\textbf{y},\\textbf{z}$ \\\r\n",
        "\r\n",
        "$\r\n",
        "\r\n",
        "\\textbf{x} = \\begin{bmatrix}\r\n",
        "1\\\\ \r\n",
        "2\\\\ \r\n",
        "3\r\n",
        "\\end{bmatrix}\r\n",
        "\r\n",
        "\\textbf{y} = \\begin{bmatrix}\r\n",
        "4\\\\ \r\n",
        "-5\\\\ \r\n",
        "6\r\n",
        "\\end{bmatrix}\r\n",
        "\r\n",
        "\\textbf{z} = \\begin{bmatrix}\r\n",
        "-1\\\\ \r\n",
        "2\\\\ \r\n",
        "-4\r\n",
        "\\end{bmatrix}\r\n",
        "\\\\\r\n",
        "\r\n",
        "f(\\textbf{x},\\textbf{y},\\textbf{z}) = (\\textbf{x} \\bigodot \\textbf{y})\\cdot \\textbf{z}\r\n",
        "\r\n",
        "\r\n",
        "$ \\\r\n",
        "\r\n",
        "In 3 giá trị đạo hàm riêng này.\r\n",
        "\r\n",
        "\r\n",
        "\r\n"
      ]
    },
    {
      "cell_type": "code",
      "metadata": {
        "id": "mPfDZydi3hGb",
        "colab": {
          "base_uri": "https://localhost:8080/"
        },
        "outputId": "4b0a20bf-54f0-44ec-a86a-0d7167d7508c"
      },
      "source": [
        "# Lập trình tại đây\r\n",
        "x = tf.constant([[1.], [2.], [3.]], dtype = np.float32)\r\n",
        "y = tf.constant([[4.], [-5.], [6.]], dtype = np.float32)\r\n",
        "z = tf.constant([[-1.], [2.], [-4.]], dtype = np.float32)\r\n",
        "\r\n",
        "def cal(t):\r\n",
        "  with tf.GradientTape() as g:\r\n",
        "    g.watch(t)\r\n",
        "    f = tf.matmul(t*y, z, transpose_a=True)\r\n",
        "    f1 = tf.matmul(x*t, z, transpose_a=True)\r\n",
        "    f2 = tf.matmul(x*y, t, transpose_a=True)\r\n",
        "  if((t == x).numpy()[0][0]):\r\n",
        "    return g.gradient(f, t)\r\n",
        "  elif((t == y).numpy()[0][0]):\r\n",
        "    return g.gradient(f1, t)\r\n",
        "  else:\r\n",
        "    return g.gradient(f2, t)\r\n",
        "\r\n",
        "print(cal(x))\r\n",
        "print(cal(y))\r\n",
        "print(cal(z))\r\n"
      ],
      "execution_count": null,
      "outputs": [
        {
          "output_type": "stream",
          "text": [
            "tf.Tensor(\n",
            "[[ -4.]\n",
            " [-10.]\n",
            " [-24.]], shape=(3, 1), dtype=float32)\n",
            "tf.Tensor(\n",
            "[[ -1.]\n",
            " [  4.]\n",
            " [-12.]], shape=(3, 1), dtype=float32)\n",
            "tf.Tensor(\n",
            "[[  4.]\n",
            " [-10.]\n",
            " [ 18.]], shape=(3, 1), dtype=float32)\n"
          ],
          "name": "stdout"
        }
      ]
    }
  ]
}