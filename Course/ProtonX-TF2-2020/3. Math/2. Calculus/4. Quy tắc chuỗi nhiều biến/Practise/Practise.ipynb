{
  "nbformat": 4,
  "nbformat_minor": 0,
  "metadata": {
    "colab": {
      "name": "Practise2.ipynb",
      "provenance": [],
      "collapsed_sections": []
    },
    "kernelspec": {
      "name": "python3",
      "display_name": "Python 3"
    },
    "accelerator": "GPU"
  },
  "cells": [
    {
      "cell_type": "code",
      "metadata": {
        "id": "JiBJO0KU4bdC"
      },
      "source": [
        "import numpy as np\r\n",
        "#import random\r\n",
        "#import os\r\n",
        "#import pandas as pd\r\n",
        "import tensorflow as tf\r\n",
        "#import matplotlib.pyplot as plt\r\n",
        "#!pip install mitdeeplearning\r\n",
        "#import mitdeeplearning as mdl\r\n",
        "#!pip install -U mxnet-cu101==1.7.0"
      ],
      "execution_count": 1,
      "outputs": []
    },
    {
      "cell_type": "markdown",
      "metadata": {
        "id": "0l2g9WqxiIBr"
      },
      "source": [
        "# **I. Đạo hàm Một chiều**"
      ]
    },
    {
      "cell_type": "markdown",
      "metadata": {
        "id": "oA-SnxNHjKiG"
      },
      "source": [
        "### *Hàm trị tuyệt đối $y=|x|$*"
      ]
    },
    {
      "cell_type": "code",
      "metadata": {
        "id": "FgqXpInAqXqU",
        "colab": {
          "base_uri": "https://localhost:8080/"
        },
        "outputId": "cd992b83-6b72-41c4-fa80-00504285f36d"
      },
      "source": [
        "x = tf.constant(3.)\n",
        "with tf.GradientTape() as g:\n",
        "  y = tf.math.abs(x)\n",
        "dy_dx = g.gradient(y, x) \n",
        "print(dy_dx)"
      ],
      "execution_count": 2,
      "outputs": [
        {
          "output_type": "stream",
          "text": [
            "None\n"
          ],
          "name": "stdout"
        }
      ]
    },
    {
      "cell_type": "code",
      "metadata": {
        "id": "_eJ2NuDuj96d",
        "colab": {
          "base_uri": "https://localhost:8080/"
        },
        "outputId": "4decc070-cd79-40ba-bd1d-66a38ce45a16"
      },
      "source": [
        "x = tf.constant(0.)\n",
        "with tf.GradientTape() as g:\n",
        "  g.watch(x)\n",
        "  y = tf.math.log(x**3 * tf.sin(x))\n",
        "dy_dx = g.gradient(y, x) \n",
        "dy_dx.numpy()"
      ],
      "execution_count": 3,
      "outputs": [
        {
          "output_type": "execute_result",
          "data": {
            "text/plain": [
              "nan"
            ]
          },
          "metadata": {
            "tags": []
          },
          "execution_count": 3
        }
      ]
    },
    {
      "cell_type": "markdown",
      "metadata": {
        "id": "deRa8jBxiomD"
      },
      "source": [
        "### *Hàm sin(x)*\r\n",
        "\r\n",
        "Đạo hàm của $sin(x)$ là $cos(x)$"
      ]
    },
    {
      "cell_type": "code",
      "metadata": {
        "id": "Kpkb3bdHjS4Y",
        "colab": {
          "base_uri": "https://localhost:8080/"
        },
        "outputId": "4cf46954-ce4e-43fa-bbf8-67dce0c9ffc8"
      },
      "source": [
        "x = tf.constant(0.)\r\n",
        "with tf.GradientTape() as g:\r\n",
        "  g.watch(x)\r\n",
        "  y = tf.math.sin(x)\r\n",
        "dy_dx = g.gradient(y, x)\r\n",
        "dy_dx"
      ],
      "execution_count": 4,
      "outputs": [
        {
          "output_type": "execute_result",
          "data": {
            "text/plain": [
              "<tf.Tensor: shape=(), dtype=float32, numpy=1.0>"
            ]
          },
          "metadata": {
            "tags": []
          },
          "execution_count": 4
        }
      ]
    },
    {
      "cell_type": "markdown",
      "metadata": {
        "id": "XivzC7NlZnpM"
      },
      "source": [
        "### *Hàm cos(x)*\r\n",
        "Đạo hàm của $cos(x)$ là $-sin(x)$"
      ]
    },
    {
      "cell_type": "code",
      "metadata": {
        "id": "Z6jv1Xw2ZxE5",
        "colab": {
          "base_uri": "https://localhost:8080/"
        },
        "outputId": "fdfc4aad-2bec-4340-d08b-9159dbe71aa0"
      },
      "source": [
        "x = tf.constant(30. * np.pi / 180.)\r\n",
        "with tf.GradientTape() as g:\r\n",
        "  g.watch(x)\r\n",
        "  y = tf.math.cos(x)\r\n",
        "dy_dx = g.gradient(y, x)\r\n",
        "dy_dx"
      ],
      "execution_count": 5,
      "outputs": [
        {
          "output_type": "execute_result",
          "data": {
            "text/plain": [
              "<tf.Tensor: shape=(), dtype=float32, numpy=-0.5>"
            ]
          },
          "metadata": {
            "tags": []
          },
          "execution_count": 5
        }
      ]
    },
    {
      "cell_type": "code",
      "metadata": {
        "colab": {
          "base_uri": "https://localhost:8080/"
        },
        "id": "aVT7HvIjb_Zv",
        "outputId": "2e0df49b-aede-4516-d9a9-c0ec059f79ce"
      },
      "source": [
        "# Test\r\n",
        "-tf.math.sin(30.0 * np.pi / 180.)"
      ],
      "execution_count": 6,
      "outputs": [
        {
          "output_type": "execute_result",
          "data": {
            "text/plain": [
              "<tf.Tensor: shape=(), dtype=float32, numpy=-0.5>"
            ]
          },
          "metadata": {
            "tags": []
          },
          "execution_count": 6
        }
      ]
    },
    {
      "cell_type": "markdown",
      "metadata": {
        "id": "yLj6Qy4CdERi"
      },
      "source": [
        "### *Hàm ln(x)*\r\n",
        "Đạo hàm của $\\ln(x)$ là $\\frac{1}{x}$"
      ]
    },
    {
      "cell_type": "code",
      "metadata": {
        "id": "weMsgCP-dRax",
        "colab": {
          "base_uri": "https://localhost:8080/"
        },
        "outputId": "9a1c6a3e-4b51-4eac-f6cf-376263368d97"
      },
      "source": [
        "x = tf.constant(10.0)\r\n",
        "with tf.GradientTape() as g:\r\n",
        "  g.watch(x)\r\n",
        "  y = tf.math.log(x)\r\n",
        "dy_dx = g.gradient(y, x)\r\n",
        "dy_dx"
      ],
      "execution_count": 7,
      "outputs": [
        {
          "output_type": "execute_result",
          "data": {
            "text/plain": [
              "<tf.Tensor: shape=(), dtype=float32, numpy=0.1>"
            ]
          },
          "metadata": {
            "tags": []
          },
          "execution_count": 7
        }
      ]
    },
    {
      "cell_type": "code",
      "metadata": {
        "colab": {
          "base_uri": "https://localhost:8080/"
        },
        "id": "MvvcrEVTdZpr",
        "outputId": "7fc7c12e-4ce6-4bb3-e5f6-fd7840143177"
      },
      "source": [
        "# Test:\r\n",
        "1/10"
      ],
      "execution_count": 8,
      "outputs": [
        {
          "output_type": "execute_result",
          "data": {
            "text/plain": [
              "0.1"
            ]
          },
          "metadata": {
            "tags": []
          },
          "execution_count": 8
        }
      ]
    },
    {
      "cell_type": "markdown",
      "metadata": {
        "id": "V7aO6lObdc0t"
      },
      "source": [
        "### Đạo hàm của hàm $e^x$ là chính nó"
      ]
    },
    {
      "cell_type": "code",
      "metadata": {
        "id": "uFSIztHkdhqg",
        "colab": {
          "base_uri": "https://localhost:8080/"
        },
        "outputId": "64f3c548-b6c5-42c3-d434-1ea69d55c7c9"
      },
      "source": [
        "x = tf.constant(5.0)\r\n",
        "with tf.GradientTape() as g:\r\n",
        "  g.watch(x)\r\n",
        "  y = tf.math.exp(x)\r\n",
        "dy_dx = g.gradient(y, x)\r\n",
        "dy_dx"
      ],
      "execution_count": 9,
      "outputs": [
        {
          "output_type": "execute_result",
          "data": {
            "text/plain": [
              "<tf.Tensor: shape=(), dtype=float32, numpy=148.41316>"
            ]
          },
          "metadata": {
            "tags": []
          },
          "execution_count": 9
        }
      ]
    },
    {
      "cell_type": "code",
      "metadata": {
        "colab": {
          "base_uri": "https://localhost:8080/"
        },
        "id": "C-RMa__jdoGi",
        "outputId": "c12bf5b4-9b19-4227-e308-9bea7558e0a7"
      },
      "source": [
        "# Test\r\n",
        "tf.math.exp(x)"
      ],
      "execution_count": 10,
      "outputs": [
        {
          "output_type": "execute_result",
          "data": {
            "text/plain": [
              "<tf.Tensor: shape=(), dtype=float32, numpy=148.41316>"
            ]
          },
          "metadata": {
            "tags": []
          },
          "execution_count": 10
        }
      ]
    },
    {
      "cell_type": "markdown",
      "metadata": {
        "id": "cIWowQq6du2x"
      },
      "source": [
        "### *Đạo hàm của $\\sqrt{x}$ là $\\frac{1}{2\\sqrt{x}}$*"
      ]
    },
    {
      "cell_type": "code",
      "metadata": {
        "id": "zTvMyJ3id4WF",
        "colab": {
          "base_uri": "https://localhost:8080/"
        },
        "outputId": "7683fd29-77a9-4d91-e69b-380596722424"
      },
      "source": [
        "x = tf.constant(4.0)\r\n",
        "with tf.GradientTape() as g:\r\n",
        "  g.watch(x)\r\n",
        "  y = tf.math.sqrt(x)\r\n",
        "dy_dx = g.gradient(y, x)\r\n",
        "dy_dx"
      ],
      "execution_count": 11,
      "outputs": [
        {
          "output_type": "execute_result",
          "data": {
            "text/plain": [
              "<tf.Tensor: shape=(), dtype=float32, numpy=0.25>"
            ]
          },
          "metadata": {
            "tags": []
          },
          "execution_count": 11
        }
      ]
    },
    {
      "cell_type": "code",
      "metadata": {
        "colab": {
          "base_uri": "https://localhost:8080/"
        },
        "id": "gjzyzi2Ld8K2",
        "outputId": "c286204c-fe3c-4717-a4e5-de1501bd335e"
      },
      "source": [
        "# Test:\r\n",
        "1 / (2 * tf.math.sqrt(x))"
      ],
      "execution_count": 12,
      "outputs": [
        {
          "output_type": "execute_result",
          "data": {
            "text/plain": [
              "<tf.Tensor: shape=(), dtype=float32, numpy=0.25>"
            ]
          },
          "metadata": {
            "tags": []
          },
          "execution_count": 12
        }
      ]
    },
    {
      "cell_type": "markdown",
      "metadata": {
        "id": "K9ngJO-AeE_l"
      },
      "source": [
        "### *Đạo hàm của $\\frac{1}{x}$ là $-\\frac{1}{x^2}$*"
      ]
    },
    {
      "cell_type": "code",
      "metadata": {
        "id": "sXzjyv5yeMYX",
        "colab": {
          "base_uri": "https://localhost:8080/"
        },
        "outputId": "63122d65-c70a-4150-925c-90a0303da6b9"
      },
      "source": [
        "x = tf.constant(4.0)\r\n",
        "with tf.GradientTape() as g:\r\n",
        "  g.watch(x)\r\n",
        "  y = 1 / x\r\n",
        "dy_dx = g.gradient(y, x)\r\n",
        "dy_dx"
      ],
      "execution_count": 13,
      "outputs": [
        {
          "output_type": "execute_result",
          "data": {
            "text/plain": [
              "<tf.Tensor: shape=(), dtype=float32, numpy=-0.0625>"
            ]
          },
          "metadata": {
            "tags": []
          },
          "execution_count": 13
        }
      ]
    },
    {
      "cell_type": "code",
      "metadata": {
        "colab": {
          "base_uri": "https://localhost:8080/"
        },
        "id": "LKTSUo8weQao",
        "outputId": "ddf18feb-87e5-49cd-d4ec-4e3bde7c4cb4"
      },
      "source": [
        "# Test:\r\n",
        "-1/(x**2)"
      ],
      "execution_count": 14,
      "outputs": [
        {
          "output_type": "execute_result",
          "data": {
            "text/plain": [
              "<tf.Tensor: shape=(), dtype=float32, numpy=-0.0625>"
            ]
          },
          "metadata": {
            "tags": []
          },
          "execution_count": 14
        }
      ]
    },
    {
      "cell_type": "markdown",
      "metadata": {
        "id": "LDXWsck5fIO-"
      },
      "source": [
        "# **II. Quy tắc chuỗi**\r\n",
        "\r\n",
        "![Capture5.PNG](data:image/png;base64,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)"
      ]
    },
    {
      "cell_type": "code",
      "metadata": {
        "id": "Ej3FuEYsfcog",
        "colab": {
          "base_uri": "https://localhost:8080/"
        },
        "outputId": "c8a1a07b-802a-477f-89f2-0c581cf87738"
      },
      "source": [
        "x = tf.constant(4.0)\r\n",
        "with tf.GradientTape() as g:\r\n",
        "  g.watch(x)\r\n",
        "  g1 = x ** 3\r\n",
        "  g2 = tf.math.sin(g1)\r\n",
        "dy_dx = g.gradient(g2, x)\r\n",
        "dy_dx"
      ],
      "execution_count": 15,
      "outputs": [
        {
          "output_type": "execute_result",
          "data": {
            "text/plain": [
              "<tf.Tensor: shape=(), dtype=float32, numpy=18.809147>"
            ]
          },
          "metadata": {
            "tags": []
          },
          "execution_count": 15
        }
      ]
    },
    {
      "cell_type": "markdown",
      "metadata": {
        "id": "b81jFxjtgCW0"
      },
      "source": [
        "![Capture10.PNG](data:image/png;base64,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)"
      ]
    },
    {
      "cell_type": "code",
      "metadata": {
        "id": "gI973raJgET9",
        "colab": {
          "base_uri": "https://localhost:8080/"
        },
        "outputId": "301128c2-bb8a-4792-9718-297c9e8b05d6"
      },
      "source": [
        "x = tf.constant(4.0)\r\n",
        "with tf.GradientTape() as g:\r\n",
        "  g.watch(x)\r\n",
        "  g1 = x ** 3\r\n",
        "  g2 = tf.math.sin(g1)\r\n",
        "  g3 = g2 ** 2\r\n",
        "  g4 = tf.math.log(g3)\r\n",
        "dy_dx = g.gradient(g4, x)\r\n",
        "dy_dx"
      ],
      "execution_count": 16,
      "outputs": [
        {
          "output_type": "execute_result",
          "data": {
            "text/plain": [
              "<tf.Tensor: shape=(), dtype=float32, numpy=40.88829>"
            ]
          },
          "metadata": {
            "tags": []
          },
          "execution_count": 16
        }
      ]
    },
    {
      "cell_type": "markdown",
      "metadata": {
        "id": "Ux7qpPjdgKnh"
      },
      "source": [
        "![Capture.PNG](data:image/png;base64,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)"
      ]
    },
    {
      "cell_type": "code",
      "metadata": {
        "colab": {
          "base_uri": "https://localhost:8080/"
        },
        "id": "ridi4YKjgPLr",
        "outputId": "d0185ece-a0a4-4c91-ec70-8fc9c5623b74"
      },
      "source": [
        "# Test:\r\n",
        "6 * x**2 * tf.math.cos(x**3)/ tf.math.sin(x**3)"
      ],
      "execution_count": 17,
      "outputs": [
        {
          "output_type": "execute_result",
          "data": {
            "text/plain": [
              "<tf.Tensor: shape=(), dtype=float32, numpy=40.88829>"
            ]
          },
          "metadata": {
            "tags": []
          },
          "execution_count": 17
        }
      ]
    },
    {
      "cell_type": "markdown",
      "metadata": {
        "id": "sQ-cLU72Ztqw"
      },
      "source": [
        "# **III. Đạo hàm hai chiều**"
      ]
    },
    {
      "cell_type": "markdown",
      "metadata": {
        "id": "ATvAsYtvh8qF"
      },
      "source": [
        "#### *Quy tắc chuỗi nhiều biến*"
      ]
    },
    {
      "cell_type": "markdown",
      "metadata": {
        "id": "oBlImaXOgdRC"
      },
      "source": [
        "![Capture4.PNG](data:image/png;base64,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)"
      ]
    },
    {
      "cell_type": "code",
      "metadata": {
        "id": "9Reh-gdcgis8",
        "colab": {
          "base_uri": "https://localhost:8080/"
        },
        "outputId": "dabfaf98-9948-46fa-95c3-cfad31e2846d"
      },
      "source": [
        "t = tf.constant(5.0)\r\n",
        "with tf.GradientTape() as g:\r\n",
        "  g.watch(t)\r\n",
        "  x = tf.math.sin(t)\r\n",
        "  y = tf.math.cos(t)\r\n",
        "  f = x**3 * y\r\n",
        "dy_dt = g.gradient(f, t)\r\n",
        "dy_dt"
      ],
      "execution_count": 18,
      "outputs": [
        {
          "output_type": "execute_result",
          "data": {
            "text/plain": [
              "<tf.Tensor: shape=(), dtype=float32, numpy=-0.6235769>"
            ]
          },
          "metadata": {
            "tags": []
          },
          "execution_count": 18
        }
      ]
    },
    {
      "cell_type": "markdown",
      "metadata": {
        "id": "DAFjjTTyhDam"
      },
      "source": [
        "![APP_SCRIPT_DOCS_IMAGE.png](data:image/png;base64,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)"
      ]
    },
    {
      "cell_type": "code",
      "metadata": {
        "colab": {
          "base_uri": "https://localhost:8080/"
        },
        "id": "R5CvUvDmg8Er",
        "outputId": "ac8797ef-2a7d-4efa-a2d4-d7a2f8c9748e"
      },
      "source": [
        "# Test\r\n",
        "def cal(t):\r\n",
        "  x = tf.math.sin(t)\r\n",
        "  y = tf.math.cos(t)\r\n",
        "  return 3 * x**2 * y * tf.math.cos(t) - x**3 * tf.math.sin(t)\r\n",
        "cal(5.0)"
      ],
      "execution_count": 19,
      "outputs": [
        {
          "output_type": "execute_result",
          "data": {
            "text/plain": [
              "<tf.Tensor: shape=(), dtype=float32, numpy=-0.6235769>"
            ]
          },
          "metadata": {
            "tags": []
          },
          "execution_count": 19
        }
      ]
    }
  ]
}