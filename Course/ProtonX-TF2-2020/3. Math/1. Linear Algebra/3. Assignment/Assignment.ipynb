{
 "cells": [
  {
   "cell_type": "markdown",
   "metadata": {
    "id": "GauFvDmtZaig"
   },
   "source": [
    "**Câu 1** Thêm thư viện numpy và gán thành **np**"
   ]
  },
  {
   "cell_type": "code",
   "execution_count": 1,
   "metadata": {
    "id": "hdeAUYLhZOGX"
   },
   "outputs": [],
   "source": [
    "# Lập trình tại đây\n",
    "import numpy as np\n",
    "\n",
    "\n",
    "\n",
    "\n",
    "\n"
   ]
  },
  {
   "cell_type": "markdown",
   "metadata": {
    "id": "jYOCZdLLaBCq"
   },
   "source": [
    "**Câu 2** Định nghĩa Vector bằng numpy\n",
    "\n",
    "Có nhiều cách ký hiệu vectors khác nhau, hình ảnh bên dưới miêu tả một số cách ký hiệu thường gặp:\n",
    "\n",
    "<img src=\"https://github.com/thanhhff/AIVN-Machine-Learning/blob/master/Week%201/images/Linear-Algebra/la_0.png?raw=1\" style=\"width:30%;height:30%;\"> \n",
    "\n",
    "Hãy định nghĩa vector  $\u001d",
    "\\textbf{v}$ với giá trị phía trên:"
   ]
  },
  {
   "cell_type": "code",
   "execution_count": 2,
   "metadata": {
    "id": "6qt5di_faJCu"
   },
   "outputs": [],
   "source": [
    "# Lập trình tại đây\n",
    "v = np.array([1, 2, 3])\n",
    "\n",
    "\n",
    "\n",
    "\n",
    "\n",
    "\n"
   ]
  },
  {
   "cell_type": "markdown",
   "metadata": {
    "id": "plEI3jybbIQh"
   },
   "source": [
    "Cho 2 vector $\\textbf{\u001d",
    "x}$ và $\\textbf{\u001d",
    "y}$\n",
    "\n",
    "![\u001d",
    "img](https://latex.codecogs.com/gif.latex?%5Cdpi%7B300%7D%20%24%5Ctextbf%7B%1Dx%7D%24%20%3D%20%5Cbegin%7Bbmatrix%7D%201%5C%5C%202%5C%5C%203%20%5Cend%7Bbmatrix%7D%20%24%5Ctextbf%7B%1Dy%7D%24%20%3D%20%5Cbegin%7Bbmatrix%7D%202%5C%5C%203%5C%5C%204%20%5Cend%7Bbmatrix%7D)\n",
    "\n",
    "\n"
   ]
  },
  {
   "cell_type": "markdown",
   "metadata": {
    "id": "Oiti0wXecXi2"
   },
   "source": [
    "**Câu 3** Tính $\\textbf{x} + \\textbf{y}$"
   ]
  },
  {
   "cell_type": "code",
   "execution_count": 3,
   "metadata": {
    "colab": {
     "base_uri": "https://localhost:8080/"
    },
    "id": "5Vm8KBsPbs1N",
    "outputId": "58524481-e04b-4dfd-8bf0-9f47f199c1fc"
   },
   "outputs": [
    {
     "data": {
      "text/plain": [
       "array([3, 5, 7])"
      ]
     },
     "execution_count": 3,
     "metadata": {},
     "output_type": "execute_result"
    }
   ],
   "source": [
    "# Lập trình tại đây\n",
    "x = np.array([1, 2, 3])\n",
    "y = np.array([2, 3, 4])\n",
    "x + y \n",
    "\n",
    "\n",
    "\n",
    "\n",
    "\n",
    "\n",
    "\n"
   ]
  },
  {
   "cell_type": "markdown",
   "metadata": {
    "id": "wUtmloiIcnnD"
   },
   "source": [
    "**Câu 4** Tính $\\textbf{x} - \\textbf{y}$"
   ]
  },
  {
   "cell_type": "code",
   "execution_count": 4,
   "metadata": {
    "colab": {
     "base_uri": "https://localhost:8080/"
    },
    "id": "yt_njGh1cp2d",
    "outputId": "aa875a82-ddd9-4958-ae1b-0daf12380ee1"
   },
   "outputs": [
    {
     "data": {
      "text/plain": [
       "array([-1, -1, -1])"
      ]
     },
     "execution_count": 4,
     "metadata": {},
     "output_type": "execute_result"
    }
   ],
   "source": [
    "# Lập trình tại đây\n",
    "x - y\n",
    "\n",
    "\n",
    "\n",
    "\n",
    "\n",
    "\n",
    "\n"
   ]
  },
  {
   "cell_type": "markdown",
   "metadata": {
    "id": "C2ILkuQLc0GT"
   },
   "source": [
    "**Câu 5** Tính $\\textbf{x} / \\textbf{y}$"
   ]
  },
  {
   "cell_type": "code",
   "execution_count": 5,
   "metadata": {
    "colab": {
     "base_uri": "https://localhost:8080/"
    },
    "id": "RP7ACNqudD9R",
    "outputId": "f26a598c-0e22-4959-b814-e7a6858d969b"
   },
   "outputs": [
    {
     "data": {
      "text/plain": [
       "array([0.5       , 0.66666667, 0.75      ])"
      ]
     },
     "execution_count": 5,
     "metadata": {},
     "output_type": "execute_result"
    }
   ],
   "source": [
    "# Lập trình tại đây\n",
    "x / y\n",
    "\n",
    "\n",
    "\n",
    "\n",
    "\n",
    "\n",
    "\n"
   ]
  },
  {
   "cell_type": "markdown",
   "metadata": {
    "id": "-vAKKnULcyqY"
   },
   "source": [
    "**Câu 6** Tính 2$\\textbf{x} - 3\\textbf{y}$"
   ]
  },
  {
   "cell_type": "code",
   "execution_count": 6,
   "metadata": {
    "colab": {
     "base_uri": "https://localhost:8080/"
    },
    "id": "32a915aHdCYH",
    "outputId": "4069217c-9b65-4c21-9d4c-73ac5b954f73"
   },
   "outputs": [
    {
     "data": {
      "text/plain": [
       "array([-4, -5, -6])"
      ]
     },
     "execution_count": 6,
     "metadata": {},
     "output_type": "execute_result"
    }
   ],
   "source": [
    "# Lập trình tại đây\n",
    "2*x - 3*y\n",
    "\n",
    "\n",
    "\n",
    "\n",
    "\n",
    "\n",
    "\n"
   ]
  },
  {
   "cell_type": "markdown",
   "metadata": {
    "id": "-_FtzED0dTNH"
   },
   "source": [
    "**Câu 7** Tính tích vô hướng 2 vector $\\textbf{x}\\cdot\\textbf{y}$\n",
    "\n"
   ]
  },
  {
   "cell_type": "code",
   "execution_count": 7,
   "metadata": {
    "colab": {
     "base_uri": "https://localhost:8080/"
    },
    "id": "INOi6kqRdq0J",
    "outputId": "d806def7-e9f7-43b5-d295-e3a1d37847bd"
   },
   "outputs": [
    {
     "data": {
      "text/plain": [
       "20"
      ]
     },
     "execution_count": 7,
     "metadata": {},
     "output_type": "execute_result"
    }
   ],
   "source": [
    "# Lập trình tại đây\n",
    "x.dot(y)\n",
    "\n",
    "\n",
    "\n",
    "\n",
    "\n",
    "\n"
   ]
  },
  {
   "cell_type": "markdown",
   "metadata": {
    "id": "P5I9LNTbdt_u"
   },
   "source": [
    "**Câu 8** Tính tích Hadamard product 2 vector $\\textbf{x}\\bigodot\\textbf{y}$\n",
    "\n",
    "\n",
    "Công thức nhân Hadamard:\n",
    "\n",
    "<img src=\"https://github.com/thanhhff/AIVN-Machine-Learning/blob/master/Week%201/images/Linear-Algebra/la_5.png?raw=1\" style=\"width:30%;height:30%;\"> \n"
   ]
  },
  {
   "cell_type": "code",
   "execution_count": 8,
   "metadata": {
    "colab": {
     "base_uri": "https://localhost:8080/"
    },
    "id": "4vw0jupRd71k",
    "outputId": "48a954ba-102c-4b9a-e1e4-bbe728447b27"
   },
   "outputs": [
    {
     "data": {
      "text/plain": [
       "array([ 2,  6, 12])"
      ]
     },
     "execution_count": 8,
     "metadata": {},
     "output_type": "execute_result"
    }
   ],
   "source": [
    "# Lập trình tại đây\n",
    "x * y\n",
    "\n",
    "\n",
    "\n",
    "\n",
    "\n"
   ]
  },
  {
   "cell_type": "markdown",
   "metadata": {
    "id": "AdQUCm0beBuL"
   },
   "source": [
    "**Câu 9**: Lập trình tính giá trị biểu thức sau\n",
    "\n",
    "$4||\\textbf{x}||^2_2 - 2||\\textbf{y}||_1 + 1$\n",
    "\n"
   ]
  },
  {
   "cell_type": "code",
   "execution_count": 9,
   "metadata": {
    "colab": {
     "base_uri": "https://localhost:8080/"
    },
    "id": "dPu1thjBeaWT",
    "outputId": "6c6a64d5-4c9f-44aa-ba10-945044c112be"
   },
   "outputs": [
    {
     "data": {
      "text/plain": [
       "39.0"
      ]
     },
     "execution_count": 9,
     "metadata": {},
     "output_type": "execute_result"
    }
   ],
   "source": [
    "# Lập trình tại đây\n",
    "from numpy.linalg import norm\n",
    "4*(norm(x, 2) ** 2) - 2*norm(y, 1) + 1\n",
    "\n",
    "\n",
    "\n",
    "\n",
    "\n",
    "\n",
    "\n",
    "\n"
   ]
  },
  {
   "cell_type": "markdown",
   "metadata": {
    "id": "wt6bdnQPe7Xl"
   },
   "source": [
    "Cho 2 ma trận\n",
    "\n",
    "\u001d",
    "A = \\begin{bmatrix}\n",
    "1 & - 1 & 2 \\\\ \n",
    "2 & 3 & 4 \\\\\n",
    "4 & 1 & 5\n",
    "\\end{bmatrix}\n",
    "\n",
    "\u001d",
    "B = \\begin{bmatrix}\n",
    "2 & -1 \\\\\n",
    "3 & -4 \\\\\n",
    "4 & -5 \\\\\n",
    "\\end{bmatrix}"
   ]
  },
  {
   "cell_type": "markdown",
   "metadata": {
    "id": "yPMbaZREejEq"
   },
   "source": [
    "**Câu 10:** Lập trình tính $A \\cdot B$"
   ]
  },
  {
   "cell_type": "code",
   "execution_count": 10,
   "metadata": {
    "colab": {
     "base_uri": "https://localhost:8080/"
    },
    "id": "rTvOUWS7fd28",
    "outputId": "90a0fc04-6633-4ecf-9cdd-9b618f53eac5"
   },
   "outputs": [
    {
     "data": {
      "text/plain": [
       "array([[  7,  -7],\n",
       "       [ 29, -34],\n",
       "       [ 31, -33]])"
      ]
     },
     "execution_count": 10,
     "metadata": {},
     "output_type": "execute_result"
    }
   ],
   "source": [
    "# Lập trình tại đây\n",
    "A = np.array([\n",
    "             [1, -1, 2],\n",
    "             [2, 3, 4],\n",
    "             [4, 1, 5]\n",
    "             ])\n",
    "\n",
    "B = np.array([\n",
    "             [2, -1],\n",
    "             [3, -4],\n",
    "             [4, -5]\n",
    "             ])\n",
    "\n",
    "A.dot(B)\n",
    "\n",
    "\n"
   ]
  },
  {
   "cell_type": "markdown",
   "metadata": {
    "id": "OXlTwodLfkFR"
   },
   "source": [
    "**Câu 11** Lập trình tính $A^TB$\n",
    "\n",
    "[Cách chuyển vị](https://numpy.org/doc/stable/reference/generated/numpy.matrix.transpose.html) trong numpy"
   ]
  },
  {
   "cell_type": "code",
   "execution_count": 11,
   "metadata": {
    "colab": {
     "base_uri": "https://localhost:8080/"
    },
    "id": "jo2bLppLfhfm",
    "outputId": "2a1116a5-6b8f-4be3-f059-415061194498"
   },
   "outputs": [
    {
     "data": {
      "text/plain": [
       "array([[ 24, -29],\n",
       "       [ 11, -16],\n",
       "       [ 36, -43]])"
      ]
     },
     "execution_count": 11,
     "metadata": {},
     "output_type": "execute_result"
    }
   ],
   "source": [
    "# Lập trình tại đây\n",
    "np.transpose(A).dot(B)\n",
    "\n",
    "\n",
    "\n",
    "\n",
    "\n",
    "\n",
    "\n"
   ]
  },
  {
   "cell_type": "markdown",
   "metadata": {
    "id": "6i20f6ongASh"
   },
   "source": [
    "**Câu 12** Lập trình in ra chiều của 2 ma trận $A$ và $B$"
   ]
  },
  {
   "cell_type": "code",
   "execution_count": 12,
   "metadata": {
    "colab": {
     "base_uri": "https://localhost:8080/"
    },
    "id": "lhogV5PtgG43",
    "outputId": "ff7b45b8-7637-40af-b18f-012fe9965ff1"
   },
   "outputs": [
    {
     "name": "stdout",
     "output_type": "stream",
     "text": [
      "(3, 3)\n"
     ]
    },
    {
     "data": {
      "text/plain": [
       "(3, 2)"
      ]
     },
     "execution_count": 12,
     "metadata": {},
     "output_type": "execute_result"
    }
   ],
   "source": [
    "# Lập trình tại đây\n",
    "print(A.shape)\n",
    "B.shape\n",
    "\n",
    "\n",
    "\n",
    "\n",
    "\n"
   ]
  },
  {
   "cell_type": "markdown",
   "metadata": {
    "id": "q05nB1OSgL92"
   },
   "source": [
    "**Câu 13** Lập trình tính $A^2$\n",
    "\n",
    "Gợi ý: $A^2$ = $A \\bigodot A$"
   ]
  },
  {
   "cell_type": "code",
   "execution_count": 13,
   "metadata": {
    "colab": {
     "base_uri": "https://localhost:8080/"
    },
    "id": "xcVKkF3AgvuJ",
    "outputId": "1499e3df-1aa4-4aa5-b3a3-bd781980a79d"
   },
   "outputs": [
    {
     "data": {
      "text/plain": [
       "array([[ 1,  1,  4],\n",
       "       [ 4,  9, 16],\n",
       "       [16,  1, 25]], dtype=int32)"
      ]
     },
     "execution_count": 13,
     "metadata": {},
     "output_type": "execute_result"
    }
   ],
   "source": [
    "# Lập trình tại đây\n",
    "A**2\n",
    "\n",
    "\n",
    "\n",
    "\n"
   ]
  },
  {
   "cell_type": "markdown",
   "metadata": {
    "id": "OAAm2xOng3Lq"
   },
   "source": [
    "**Câu 14** Lập trình tính $A^TAA(BB^T)$"
   ]
  },
  {
   "cell_type": "code",
   "execution_count": 14,
   "metadata": {
    "colab": {
     "base_uri": "https://localhost:8080/"
    },
    "id": "P6W6Ev-yhFqB",
    "outputId": "afe7744b-0320-49f8-cc3c-bb6289ebfae7"
   },
   "outputs": [
    {
     "data": {
      "text/plain": [
       "array([[ 4119,  9786, 12567],\n",
       "       [ 2626,  6269,  8048],\n",
       "       [ 6285, 14940, 19185]])"
      ]
     },
     "execution_count": 14,
     "metadata": {},
     "output_type": "execute_result"
    }
   ],
   "source": [
    "# Lập trình tại đây\n",
    "(np.transpose(A).dot(A.dot(A))).dot(B.dot(np.transpose(B)))\n",
    "\n",
    "\n",
    "\n",
    "\n",
    "\n"
   ]
  },
  {
   "cell_type": "markdown",
   "metadata": {
    "id": "1ftGXwj6hvds"
   },
   "source": [
    "**Câu 15** Khám phá việc thay đổi chiều của ma trận \n",
    "\n",
    "\n",
    "\n",
    "\n"
   ]
  },
  {
   "cell_type": "markdown",
   "metadata": {
    "id": "I2wbmnO8iHGi"
   },
   "source": [
    "X là ma trận có chiều (5, 4) với tất cả những giá trị bằng 1"
   ]
  },
  {
   "cell_type": "code",
   "execution_count": 15,
   "metadata": {
    "id": "spUu-BKQiHjk"
   },
   "outputs": [],
   "source": [
    "X = np.ones((5, 4))"
   ]
  },
  {
   "cell_type": "markdown",
   "metadata": {
    "id": "mviZhDRniaih"
   },
   "source": [
    "Chuyển chiều ma trận này từ (5, 4) thành ma trận (10, 2)\n",
    "\n",
    "Tham khảo [cách dùng](https://numpy.org/doc/stable/reference/generated/numpy.reshape.html) và thực hành ở dưới:\n",
    "\n"
   ]
  },
  {
   "cell_type": "code",
   "execution_count": 16,
   "metadata": {
    "colab": {
     "base_uri": "https://localhost:8080/"
    },
    "id": "zVq9pjqnia31",
    "outputId": "436f37d8-b9d3-492b-8cee-6d8422b09cf6"
   },
   "outputs": [
    {
     "data": {
      "text/plain": [
       "array([[1., 1.],\n",
       "       [1., 1.],\n",
       "       [1., 1.],\n",
       "       [1., 1.],\n",
       "       [1., 1.],\n",
       "       [1., 1.],\n",
       "       [1., 1.],\n",
       "       [1., 1.],\n",
       "       [1., 1.],\n",
       "       [1., 1.]])"
      ]
     },
     "execution_count": 16,
     "metadata": {},
     "output_type": "execute_result"
    }
   ],
   "source": [
    "# Lập trình tại đây\n",
    "X = X.reshape(10, 2)\n",
    "X\n",
    "\n",
    "\n",
    "\n",
    "\n",
    "\n",
    "\n"
   ]
  },
  {
   "cell_type": "code",
   "execution_count": null,
   "metadata": {
    "id": "j8lMJ_zhbOzk"
   },
   "outputs": [],
   "source": []
  }
 ],
 "metadata": {
  "accelerator": "GPU",
  "colab": {
   "collapsed_sections": [],
   "name": "Đạt Nguyễn - 1. Day 1  - Linear Algebra.ipynb",
   "provenance": []
  },
  "kernelspec": {
   "display_name": "Python 3",
   "language": "python",
   "name": "python3"
  },
  "language_info": {
   "codemirror_mode": {
    "name": "ipython",
    "version": 3
   },
   "file_extension": ".py",
   "mimetype": "text/x-python",
   "name": "python",
   "nbconvert_exporter": "python",
   "pygments_lexer": "ipython3",
   "version": "3.8.3"
  }
 },
 "nbformat": 4,
 "nbformat_minor": 1
}
