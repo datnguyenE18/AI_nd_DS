{
  "nbformat": 4,
  "nbformat_minor": 0,
  "metadata": {
    "colab": {
      "name": "Practise.ipynb",
      "provenance": [],
      "collapsed_sections": []
    },
    "kernelspec": {
      "name": "python3",
      "display_name": "Python 3"
    },
    "accelerator": "GPU"
  },
  "cells": [
    {
      "cell_type": "code",
      "metadata": {
        "id": "DOLkvgenizQB"
      },
      "source": [
        "import numpy as np"
      ],
      "execution_count": 1,
      "outputs": []
    },
    {
      "cell_type": "code",
      "metadata": {
        "id": "0kmQmIR8i7p4"
      },
      "source": [
        "# tạo ra 1 vector (-1, 2)\n",
        "x = np.array([-1, 2])\n",
        "y = np.array([2, -3])"
      ],
      "execution_count": 2,
      "outputs": []
    },
    {
      "cell_type": "code",
      "metadata": {
        "colab": {
          "base_uri": "https://localhost:8080/"
        },
        "id": "kW13wZsjjXsr",
        "outputId": "a23a8957-9f77-4a4a-bbcf-44867daf751d"
      },
      "source": [
        "# Tích vô hướng\n",
        "x.dot(y)"
      ],
      "execution_count": 3,
      "outputs": [
        {
          "output_type": "execute_result",
          "data": {
            "text/plain": [
              "-8"
            ]
          },
          "metadata": {
            "tags": []
          },
          "execution_count": 3
        }
      ]
    },
    {
      "cell_type": "code",
      "metadata": {
        "id": "P4dPYm6bj0on"
      },
      "source": [
        "x = np.array([1, 0, -1])\n",
        "y = np.array([-1, -1, 0])"
      ],
      "execution_count": 4,
      "outputs": []
    },
    {
      "cell_type": "code",
      "metadata": {
        "id": "OJjqhEZ6kTcy"
      },
      "source": [
        "from numpy.linalg import norm"
      ],
      "execution_count": 5,
      "outputs": []
    },
    {
      "cell_type": "code",
      "metadata": {
        "colab": {
          "base_uri": "https://localhost:8080/"
        },
        "id": "DW-NCTD-kZ4P",
        "outputId": "d3e947d7-fa6b-4023-bf99-8830e84554d6"
      },
      "source": [
        "# Tính norm 2:\n",
        "print(norm(x, 2))\n",
        "print(norm(y, 2))"
      ],
      "execution_count": 6,
      "outputs": [
        {
          "output_type": "stream",
          "text": [
            "1.4142135623730951\n",
            "1.4142135623730951\n"
          ],
          "name": "stdout"
        }
      ]
    },
    {
      "cell_type": "code",
      "metadata": {
        "colab": {
          "base_uri": "https://localhost:8080/"
        },
        "id": "h48R_GHikftD",
        "outputId": "32202e23-bb7f-4b6b-eaed-0acc5b82f034"
      },
      "source": [
        "# Tính cosin góc theta\n",
        "cosin = x.dot(y) / (norm(x, 2) * norm(y, 2))\n",
        "cosin"
      ],
      "execution_count": 7,
      "outputs": [
        {
          "output_type": "execute_result",
          "data": {
            "text/plain": [
              "-0.4999999999999999"
            ]
          },
          "metadata": {
            "tags": []
          },
          "execution_count": 7
        }
      ]
    },
    {
      "cell_type": "code",
      "metadata": {
        "id": "db6iv1-ckwsU"
      },
      "source": [
        "x = np.array([1, 0, -1])\n",
        "a = 3"
      ],
      "execution_count": 8,
      "outputs": []
    },
    {
      "cell_type": "code",
      "metadata": {
        "colab": {
          "base_uri": "https://localhost:8080/"
        },
        "id": "Qbp032x5l7cT",
        "outputId": "a67ebb1c-ace6-4a48-d126-40e247d9fd34"
      },
      "source": [
        "# Nhân một số với một vector:\n",
        "a*x"
      ],
      "execution_count": 9,
      "outputs": [
        {
          "output_type": "execute_result",
          "data": {
            "text/plain": [
              "array([ 3,  0, -3])"
            ]
          },
          "metadata": {
            "tags": []
          },
          "execution_count": 9
        }
      ]
    },
    {
      "cell_type": "code",
      "metadata": {
        "id": "wsuYZ7Sml-eH"
      },
      "source": [
        "# Ma trận X:\n",
        "X = np.array([\n",
        "        [1, 7],\n",
        "        [2, 4]\n",
        "        ])"
      ],
      "execution_count": 10,
      "outputs": []
    },
    {
      "cell_type": "code",
      "metadata": {
        "colab": {
          "base_uri": "https://localhost:8080/"
        },
        "id": "TnAkDRLq_Kzs",
        "outputId": "28487f98-9ae9-4288-f93d-5992282d89fe"
      },
      "source": [
        "X.shape"
      ],
      "execution_count": 11,
      "outputs": [
        {
          "output_type": "execute_result",
          "data": {
            "text/plain": [
              "(2, 2)"
            ]
          },
          "metadata": {
            "tags": []
          },
          "execution_count": 11
        }
      ]
    },
    {
      "cell_type": "code",
      "metadata": {
        "id": "zKo3iBZz_WMX"
      },
      "source": [
        "# Một ma trận Y khác:\n",
        "Y = np.array([[3, 3], [5, 2]])"
      ],
      "execution_count": 12,
      "outputs": []
    },
    {
      "cell_type": "code",
      "metadata": {
        "id": "kYGZID5b_hGo"
      },
      "source": [
        "# Nhân hai ma trận:\n",
        "Z = X.dot(Y)"
      ],
      "execution_count": 13,
      "outputs": []
    },
    {
      "cell_type": "code",
      "metadata": {
        "colab": {
          "base_uri": "https://localhost:8080/"
        },
        "id": "wPe2iTCoAFFI",
        "outputId": "30afc690-e3b0-4493-ef0b-dc585abfd23c"
      },
      "source": [
        "Z.shape"
      ],
      "execution_count": 14,
      "outputs": [
        {
          "output_type": "execute_result",
          "data": {
            "text/plain": [
              "(2, 2)"
            ]
          },
          "metadata": {
            "tags": []
          },
          "execution_count": 14
        }
      ]
    },
    {
      "cell_type": "code",
      "metadata": {
        "colab": {
          "base_uri": "https://localhost:8080/"
        },
        "id": "2rCLsOOZ_zTx",
        "outputId": "fc89d797-d130-480b-87a5-a3d73063f94f"
      },
      "source": [
        "# Nhân Hadamard:\n",
        "X*Y"
      ],
      "execution_count": 15,
      "outputs": [
        {
          "output_type": "execute_result",
          "data": {
            "text/plain": [
              "array([[ 3, 21],\n",
              "       [10,  8]])"
            ]
          },
          "metadata": {
            "tags": []
          },
          "execution_count": 15
        }
      ]
    },
    {
      "cell_type": "code",
      "metadata": {
        "id": "ArldK9YCAi10"
      },
      "source": [
        ""
      ],
      "execution_count": 15,
      "outputs": []
    }
  ]
}