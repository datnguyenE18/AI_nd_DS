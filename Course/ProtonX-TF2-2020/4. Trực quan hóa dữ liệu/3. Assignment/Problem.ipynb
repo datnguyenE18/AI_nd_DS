{
 "cells": [
  {
   "cell_type": "markdown",
   "metadata": {
    "id": "hCIiSyhCgmBh"
   },
   "source": [
    "## Programming Exercise: Matplotlib\n",
    "\n",
    "Chào mừng các bạn đến với bài tập lập trình về Python - Matplotlib. Trước khi thực hiện bài tập này, các bạn nên đọc kỹ các kiến thức lý thuyết. \n",
    "\n",
    "> Matplotlib và Seaborn là những thư viện trực quan phổ biến nhất khi nói đến trực quan hóa tập dữ liệu của bạn bằng python. Matplotlib cho phép bạn kiểm soát ở mức độ thấp đối với mọi thành phần của biểu đồ, trong khi seaborn cho phép bạn tạo các biểu đồ tinh vi với một vài dòng mã.\n",
    "\n",
    "Tài liệu:\n",
    "- [Matplotlib](https://github.com/ProtonX-AI/machine-learning-with-tensorflow-and-pytorch/blob/master/04-Library/Matplotlib_General_Concepts.ipynb) \n",
    "- [Seaborn (Đọc thêm)](https://github.com/ProtonX-AI/machine-learning-with-tensorflow-and-pytorch/blob/master/04-Library/Seaborn.ipynb)\n",
    "\n",
    "### Hướng dẫn làm bài \n",
    "- Trong bài tập này bạn sẽ sử dụng Python 3.\n",
    "- Hãy sử dụng các hàm của thư viện `Matplotlib`.\n",
    "- Sau khi bạn viết Code của mình xong, hãy chạy dòng Code đó để xem kết quả bên dưới. \n",
    "\n",
    "Các bạn sẽ bắt đầu Code trong phần `### START CODE HERE ###` và `### END CODE HERE ###`. Các bạn nhớ đừng sửa bất kỳ dòng Code nào bên ngoài những câu lệnh này. \n",
    "\n",
    "Sau khi viết xong Code của bạn, bạn hãy ấn \"SHIFT\"+\"ENTER\" để thực hiện chạy lệnh của Cell đó. \n",
    "\n",
    "Trong phần Code: các bạn hãy cố gắng thực hiện ít dòng Code nhất theo chỉ định \"(≈ X lines of code)\". Mặc dù đây không phải là hạn chế về số dòng Code của bạn, nhưng hãy tối ưu sao cho ít nhất có thể."
   ]
  },
  {
   "cell_type": "code",
   "execution_count": null,
   "metadata": {
    "id": "6n9IKyymgmBj"
   },
   "outputs": [],
   "source": [
    "# Import thư viện \n",
    "%matplotlib inline\n",
    "import numpy as np\n",
    "import matplotlib.pyplot as plt\n",
    "import matplotlib.image as mpimg "
   ]
  },
  {
   "cell_type": "markdown",
   "metadata": {
    "id": "FJA3jC_JgmBp"
   },
   "source": [
    "**Bài tập 1:** Vẽ đồ thị đường thẳng `y = 4*x + 3`"
   ]
  },
  {
   "cell_type": "code",
   "execution_count": null,
   "metadata": {
    "id": "tQJsZYyHgmBq"
   },
   "outputs": [],
   "source": [
    "x = np.arange(3, 10)\n",
    "y = 4*x + 3"
   ]
  },
  {
   "cell_type": "code",
   "execution_count": null,
   "metadata": {
    "id": "kSyWvQb9gmBw"
   },
   "outputs": [],
   "source": [
    "### Đặt tiêu đề cho hình: 'Linear Function'\n",
    "### Đặt tiêu đề cho trục x: 'x axis'\n",
    "### Đặt tiêu đề cho trục y: 'y axis'\n",
    "### Vẽ hình\n",
    "\n",
    "### START CODE HERE ### (≈ 4 line of code)\n",
    "\n",
    "None\n",
    "\n",
    "### END CODE HERE ###\n",
    "\n",
    "\n",
    "plt.show()"
   ]
  },
  {
   "cell_type": "markdown",
   "metadata": {
    "id": "zPqutEZTgmB0"
   },
   "source": [
    "**Đầu ra kỳ vọng:**\n",
    "\n",
    "<img src=\"https://github.com/thanhhff/AIVN-Machine-Learning/blob/master/Week%203/Assignment/images/bai-tap-1.png?raw=1\">"
   ]
  },
  {
   "cell_type": "markdown",
   "metadata": {
    "id": "VtXdsWCAgmB0"
   },
   "source": [
    "**Bài tập 2:** Vẽ đồ thị hàm `tanh`\n",
    "\n",
    "Công thức hàm `tanh`: $tanh(x) = \\frac{e^x - e^{-x}}{e^x + e^{-x}}$\n",
    "\n",
    "Đạo hàm: $dx = 1 - {tanh(x)}^2$"
   ]
  },
  {
   "cell_type": "code",
   "execution_count": null,
   "metadata": {
    "id": "E4RiAHBlgmB1"
   },
   "outputs": [],
   "source": [
    "def tanh(x):\n",
    "    ex = np.exp(x)\n",
    "    emx = np.exp(-x)\n",
    "    return (ex - emx) / (ex + emx)\n",
    "\n",
    "# Calculate plot points\n",
    "x = np.arange(-5., 5., 0.1)\n",
    "a = tanh(x)\n",
    "dx = 1 - a**2"
   ]
  },
  {
   "cell_type": "code",
   "execution_count": null,
   "metadata": {
    "id": "bGhhqSOpgmB5"
   },
   "outputs": [],
   "source": [
    "# Setup centered axes\n",
    "\n",
    "# Setup subplots với figsize = (10 , 5)\n",
    "\n",
    "### START CODE HERE ### (≈ 1 line of code)\n",
    "fig, ax = None\n",
    "### END CODE HERE ###\n",
    "\n",
    "ax.spines['left'].set_position('center')\n",
    "ax.spines['bottom'].set_position('center')\n",
    "ax.spines['right'].set_color('none')\n",
    "ax.spines['top'].set_color('none')\n",
    "ax.xaxis.set_ticks_position('bottom')\n",
    "ax.yaxis.set_ticks_position('left')\n",
    "\n",
    "# Vẽ hàm tanh với:\n",
    "# - color = '#d35400'\n",
    "# - linewidth = 3\n",
    "# - label = 'tanh'\n",
    "\n",
    "### START CODE HERE ### (≈ 1 line of code)\n",
    "None\n",
    "### END CODE HERE ###\n",
    "\n",
    "\n",
    "# Vẽ đạo hàm của hàm tanh với:\n",
    "# - color = '#1abd15'\n",
    "# - linewidth = 3\n",
    "# - label = 'derivative'\n",
    "\n",
    "### START CODE HERE ### (≈ 1 line of code)\n",
    "None\n",
    "### END CODE HERE ###\n",
    "\n",
    "# Hiển thị chú thích cho đồ thị\n",
    "# - loc='upper left'\n",
    "# - frameon=False\n",
    "\n",
    "### START CODE HERE ### (≈ 1 line of code)\n",
    "None\n",
    "### END CODE HERE ###\n",
    "\n",
    "plt.show()"
   ]
  },
  {
   "cell_type": "markdown",
   "metadata": {
    "id": "WyEktrBAgmCC"
   },
   "source": [
    "**Đầu ra kỳ vọng:**\n",
    "\n",
    "<img src=\"https://github.com/thanhhff/AIVN-Machine-Learning/blob/master/Week%203/Assignment/images/bai-tap-2.png?raw=1\">"
   ]
  },
  {
   "cell_type": "markdown",
   "metadata": {
    "id": "nEB8D6m3gmCC"
   },
   "source": [
    "**Bài tập 3**: Cùng với những hướng dẫn như trong bài tập 2, các bạn hãy tự xây dựng từ đầu vẽ hàm: `ReLU`\n",
    "\n",
    "Công thức hàm `ReLU`:\n",
    "\n",
    "$f(x) = 0$ nếu $x < 0$\n",
    "\n",
    "$f(x) = x$ nếu $x >= 0$\n",
    "\n",
    "Đạo hàm `ReLU`:\n",
    "\n",
    "$f'(x) = 0$ nếu $x < 0$\n",
    "\n",
    "$f'(x) = 1$ nếu $x >= 0$\n"
   ]
  },
  {
   "cell_type": "code",
   "execution_count": null,
   "metadata": {
    "id": "TOJCI7RsgmCD"
   },
   "outputs": [],
   "source": [
    "### START CODE HERE ### \n",
    "\n",
    "None\n",
    "\n",
    "### END CODE HERE ###"
   ]
  },
  {
   "cell_type": "markdown",
   "metadata": {
    "id": "1aCRn0NegmCM"
   },
   "source": [
    "**Đầu ra kỳ vọng:**\n",
    "\n",
    "<img src=\"https://github.com/thanhhff/AIVN-Machine-Learning/blob/master/Week%203/Assignment/images/bai-tap-3.png?raw=1\">"
   ]
  },
  {
   "cell_type": "markdown",
   "metadata": {
    "id": "lQzRhqhmgmCM"
   },
   "source": [
    "**Bài tập 4**: Thực hiện vẽ dữ liệu kiểu điểm "
   ]
  },
  {
   "cell_type": "code",
   "execution_count": null,
   "metadata": {
    "id": "_3sBMtwtgmCN"
   },
   "outputs": [],
   "source": [
    "x = [1, 2, 5, 6, 8, 10, 12, 3.4, 3.6, 8]\n",
    "y = [-1, 3, 5, 9, 8, 0, -3, 10, 9, 8]"
   ]
  },
  {
   "cell_type": "code",
   "execution_count": null,
   "metadata": {
    "id": "DdA40buHgmCR"
   },
   "outputs": [],
   "source": [
    "# Thực hiện vẽ dữ liệu kiểu điểm với các thông số như sau:\n",
    "# - marker='x'\n",
    "# - c = 'r'\n",
    "# - s = 20\n",
    "\n",
    "### START CODE HERE ### (≈ 1 line of code)\n",
    "None\n",
    "### END CODE HERE ###\n",
    "\n",
    "plt.title('Bài tập 4')\n",
    "plt.xlabel(\"Trục x\")\n",
    "plt.ylabel(\"Trục y\");\n",
    "plt.show()"
   ]
  },
  {
   "cell_type": "markdown",
   "metadata": {
    "id": "lXOtVdsugmCU"
   },
   "source": [
    "**Đầu ra kỳ vọng:**\n",
    "\n",
    "<img src=\"https://github.com/thanhhff/AIVN-Machine-Learning/blob/master/Week%203/Assignment/images/bai-tap-4.png?raw=1\" style=\"width:40%;height:40%;\">"
   ]
  },
  {
   "cell_type": "markdown",
   "metadata": {
    "id": "huTprx0ugmCU"
   },
   "source": [
    "### Tổng kết\n",
    "Thông qua bài tập lập trình này, các bạn đã thành thục một số kỹ năng vẽ dữ liệu cơ bản. Trực quan hoá dữ liệu rất quan trọng để chúng ta có thể phần nào hình dung được dữ liệu như thế nào."
   ]
  }
 ],
 "metadata": {
  "colab": {
   "collapsed_sections": [],
   "name": "Đạt Nguyễn - [ProtonX] Assignment-Matplotlib.ipynb",
   "provenance": []
  },
  "kernelspec": {
   "display_name": "Python 3",
   "language": "python",
   "name": "python3"
  },
  "language_info": {
   "codemirror_mode": {
    "name": "ipython",
    "version": 3
   },
   "file_extension": ".py",
   "mimetype": "text/x-python",
   "name": "python",
   "nbconvert_exporter": "python",
   "pygments_lexer": "ipython3",
   "version": "3.8.3"
  }
 },
 "nbformat": 4,
 "nbformat_minor": 1
}
