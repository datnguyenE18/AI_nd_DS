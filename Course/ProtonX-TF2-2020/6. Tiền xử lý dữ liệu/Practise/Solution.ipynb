{
  "nbformat": 4,
  "nbformat_minor": 0,
  "metadata": {
    "anaconda-cloud": {},
    "coursera": {
      "course_slug": "python-data-analysis",
      "graded_item_id": "tHmgx",
      "launcher_item_id": "Um6Bz",
      "part_id": "OQsnr"
    },
    "kernelspec": {
      "display_name": "Python 3",
      "language": "python",
      "name": "python3"
    },
    "language_info": {
      "codemirror_mode": {
        "name": "ipython",
        "version": 3
      },
      "file_extension": ".py",
      "mimetype": "text/x-python",
      "name": "python",
      "nbconvert_exporter": "python",
      "pygments_lexer": "ipython3",
      "version": "3.6.8"
    },
    "umich": {
      "id": "Assignment 2",
      "version": "1.2"
    },
    "colab": {
      "name": "Solution.ipynb",
      "provenance": [],
      "collapsed_sections": []
    },
    "accelerator": "GPU"
  },
  "cells": [
    {
      "cell_type": "markdown",
      "metadata": {
        "id": "S-DcO3mmpJOr"
      },
      "source": [
        "# Programming Exercise: Pandas Introduction \n",
        "\n",
        "\n",
        "### Hướng dẫn làm bài \n",
        "- Trong bài tập này bạn sẽ sử dụng Python 3.\n",
        "- Hãy sử dụng các hàm của thư viện `Pandas`.\n",
        "- Sau khi bạn viết Code của mình xong, hãy chạy dòng Code đó để xem kết quả bên dưới. \n",
        "\n",
        "Các bạn sẽ bắt đầu Code trong phần `### START CODE HERE ###` và `### END CODE HERE ###`. Các bạn nhớ đừng sửa bất kỳ dòng Code nào bên ngoài những câu lệnh này. \n",
        "\n",
        "Sau khi viết xong Code của bạn, bạn hãy ấn \"SHIFT\"+\"ENTER\" để thực hiện chạy lệnh của Cell đó. \n",
        "\n",
        "Trong phần Code: các bạn hãy cố gắng thực hiện ít dòng Code nhất theo chỉ định \"(≈ X lines of code)\". Mặc dù đây không phải là hạn chế về số dòng Code của bạn, nhưng hãy tối ưu sao cho ít nhất có thể.\n"
      ]
    },
    {
      "cell_type": "markdown",
      "metadata": {
        "id": "C23eNf9JpiVs"
      },
      "source": [
        "## Phân tích bộ dữ liệu `olympics`\n",
        "\n",
        "Đoạn mã bên dưới sẽ tải bộ dữ liệu olympics (olympics.csv) được trích xuất từ Wikipedia trong bài [All Time Olympic Games Medals](https://en.wikipedia.org/wiki/All-time_Olympic_Games_medal_table), và đã được làm sạch 1 phần dữ liệu.\n",
        "\n",
        "Các cột được sắp xếp thành:\n",
        " - `# of Summer games, Summer medals`\n",
        " - `# of Winter games, Winter medals, total `\n",
        " - `# number of games, total `\n",
        " - `# of medals. Use this dataset to answer the questions below`"
      ]
    },
    {
      "cell_type": "code",
      "metadata": {
        "id": "HiTo_1K8qvMn",
        "colab": {
          "base_uri": "https://localhost:8080/"
        },
        "outputId": "eb272972-746f-4400-8951-824fab5ca2eb"
      },
      "source": [
        "# Download Dataset\n",
        "!wget https://gist.githubusercontent.com/thanhhff/e22f74ca95ee95e8887301779c5292fb/raw/b85cdacd684f6f9641a964df3d6dd161ad4df26e/olympics.csv"
      ],
      "execution_count": 1,
      "outputs": [
        {
          "output_type": "stream",
          "text": [
            "--2020-12-26 21:17:05--  https://gist.githubusercontent.com/thanhhff/e22f74ca95ee95e8887301779c5292fb/raw/b85cdacd684f6f9641a964df3d6dd161ad4df26e/olympics.csv\n",
            "Resolving gist.githubusercontent.com (gist.githubusercontent.com)... 151.101.0.133, 151.101.64.133, 151.101.128.133, ...\n",
            "Connecting to gist.githubusercontent.com (gist.githubusercontent.com)|151.101.0.133|:443... connected.\n",
            "HTTP request sent, awaiting response... 200 OK\n",
            "Length: 8272 (8.1K) [text/plain]\n",
            "Saving to: ‘olympics.csv’\n",
            "\n",
            "\rolympics.csv          0%[                    ]       0  --.-KB/s               \rolympics.csv        100%[===================>]   8.08K  --.-KB/s    in 0s      \n",
            "\n",
            "2020-12-26 21:17:05 (115 MB/s) - ‘olympics.csv’ saved [8272/8272]\n",
            "\n"
          ],
          "name": "stdout"
        }
      ]
    },
    {
      "cell_type": "code",
      "metadata": {
        "nbgrader": {
          "grade": false,
          "grade_id": "1",
          "locked": false,
          "solution": false
        },
        "umich_question": "prolog-000",
        "id": "2637zsGCpJOs",
        "colab": {
          "base_uri": "https://localhost:8080/",
          "height": 195
        },
        "outputId": "5fb3134d-9e90-42a3-bf6b-f9151b32a85c"
      },
      "source": [
        "import pandas as pd\n",
        "\n",
        "df = pd.read_csv('olympics.csv', index_col=0, skiprows=1)\n",
        "\n",
        "for col in df.columns:\n",
        "    if col[:2]=='01':\n",
        "        df.rename(columns={col:'Gold'+col[4:]}, inplace=True)\n",
        "    if col[:2]=='02':\n",
        "        df.rename(columns={col:'Silver'+col[4:]}, inplace=True)\n",
        "    if col[:2]=='03':\n",
        "        df.rename(columns={col:'Bronze'+col[4:]}, inplace=True)\n",
        "    if col[:1]=='№':\n",
        "        df.rename(columns={col:'#'+col[1:]}, inplace=True)\n",
        "\n",
        "names_ids = df.index.str.split('\\s\\(') # split the index by '('\n",
        "\n",
        "df.index = names_ids.str[0] # the [0] element is the country name (new index) \n",
        "df['ID'] = names_ids.str[1].str[:3] # the [1] element is the abbreviation or ID (take first 3 characters from that)\n",
        "\n",
        "df = df.drop('Totals')\n",
        "df.head()"
      ],
      "execution_count": 2,
      "outputs": [
        {
          "output_type": "execute_result",
          "data": {
            "text/html": [
              "<div>\n",
              "<style scoped>\n",
              "    .dataframe tbody tr th:only-of-type {\n",
              "        vertical-align: middle;\n",
              "    }\n",
              "\n",
              "    .dataframe tbody tr th {\n",
              "        vertical-align: top;\n",
              "    }\n",
              "\n",
              "    .dataframe thead th {\n",
              "        text-align: right;\n",
              "    }\n",
              "</style>\n",
              "<table border=\"1\" class=\"dataframe\">\n",
              "  <thead>\n",
              "    <tr style=\"text-align: right;\">\n",
              "      <th></th>\n",
              "      <th># Summer</th>\n",
              "      <th>Gold</th>\n",
              "      <th>Silver</th>\n",
              "      <th>Bronze</th>\n",
              "      <th>Total</th>\n",
              "      <th># Winter</th>\n",
              "      <th>Gold.1</th>\n",
              "      <th>Silver.1</th>\n",
              "      <th>Bronze.1</th>\n",
              "      <th>Total.1</th>\n",
              "      <th># Games</th>\n",
              "      <th>Gold.2</th>\n",
              "      <th>Silver.2</th>\n",
              "      <th>Bronze.2</th>\n",
              "      <th>Combined total</th>\n",
              "      <th>ID</th>\n",
              "    </tr>\n",
              "  </thead>\n",
              "  <tbody>\n",
              "    <tr>\n",
              "      <th>Afghanistan</th>\n",
              "      <td>13</td>\n",
              "      <td>0</td>\n",
              "      <td>0</td>\n",
              "      <td>2</td>\n",
              "      <td>2</td>\n",
              "      <td>0</td>\n",
              "      <td>0</td>\n",
              "      <td>0</td>\n",
              "      <td>0</td>\n",
              "      <td>0</td>\n",
              "      <td>13</td>\n",
              "      <td>0</td>\n",
              "      <td>0</td>\n",
              "      <td>2</td>\n",
              "      <td>2</td>\n",
              "      <td>AFG</td>\n",
              "    </tr>\n",
              "    <tr>\n",
              "      <th>Algeria</th>\n",
              "      <td>12</td>\n",
              "      <td>5</td>\n",
              "      <td>2</td>\n",
              "      <td>8</td>\n",
              "      <td>15</td>\n",
              "      <td>3</td>\n",
              "      <td>0</td>\n",
              "      <td>0</td>\n",
              "      <td>0</td>\n",
              "      <td>0</td>\n",
              "      <td>15</td>\n",
              "      <td>5</td>\n",
              "      <td>2</td>\n",
              "      <td>8</td>\n",
              "      <td>15</td>\n",
              "      <td>ALG</td>\n",
              "    </tr>\n",
              "    <tr>\n",
              "      <th>Argentina</th>\n",
              "      <td>23</td>\n",
              "      <td>18</td>\n",
              "      <td>24</td>\n",
              "      <td>28</td>\n",
              "      <td>70</td>\n",
              "      <td>18</td>\n",
              "      <td>0</td>\n",
              "      <td>0</td>\n",
              "      <td>0</td>\n",
              "      <td>0</td>\n",
              "      <td>41</td>\n",
              "      <td>18</td>\n",
              "      <td>24</td>\n",
              "      <td>28</td>\n",
              "      <td>70</td>\n",
              "      <td>ARG</td>\n",
              "    </tr>\n",
              "    <tr>\n",
              "      <th>Armenia</th>\n",
              "      <td>5</td>\n",
              "      <td>1</td>\n",
              "      <td>2</td>\n",
              "      <td>9</td>\n",
              "      <td>12</td>\n",
              "      <td>6</td>\n",
              "      <td>0</td>\n",
              "      <td>0</td>\n",
              "      <td>0</td>\n",
              "      <td>0</td>\n",
              "      <td>11</td>\n",
              "      <td>1</td>\n",
              "      <td>2</td>\n",
              "      <td>9</td>\n",
              "      <td>12</td>\n",
              "      <td>ARM</td>\n",
              "    </tr>\n",
              "    <tr>\n",
              "      <th>Australasia</th>\n",
              "      <td>2</td>\n",
              "      <td>3</td>\n",
              "      <td>4</td>\n",
              "      <td>5</td>\n",
              "      <td>12</td>\n",
              "      <td>0</td>\n",
              "      <td>0</td>\n",
              "      <td>0</td>\n",
              "      <td>0</td>\n",
              "      <td>0</td>\n",
              "      <td>2</td>\n",
              "      <td>3</td>\n",
              "      <td>4</td>\n",
              "      <td>5</td>\n",
              "      <td>12</td>\n",
              "      <td>ANZ</td>\n",
              "    </tr>\n",
              "  </tbody>\n",
              "</table>\n",
              "</div>"
            ],
            "text/plain": [
              "             # Summer  Gold  Silver  ...  Bronze.2  Combined total   ID\n",
              "Afghanistan        13     0       0  ...         2               2  AFG\n",
              "Algeria            12     5       2  ...         8              15  ALG\n",
              "Argentina          23    18      24  ...        28              70  ARG\n",
              "Armenia             5     1       2  ...         9              12  ARM\n",
              "Australasia         2     3       4  ...         5              12  ANZ\n",
              "\n",
              "[5 rows x 16 columns]"
            ]
          },
          "metadata": {
            "tags": []
          },
          "execution_count": 2
        }
      ]
    },
    {
      "cell_type": "markdown",
      "metadata": {
        "id": "_LsBwdoBpJOw"
      },
      "source": [
        "### Câu hỏi 0 (Mẫu)\n",
        "\n",
        "Thông tin của quốc gia đầu tiên trong df?\n",
        "\n",
        "*Các hàm cần được trả về là 1 Series.*"
      ]
    },
    {
      "cell_type": "code",
      "metadata": {
        "umich_question": "000",
        "id": "qQ1F38HdpJOx",
        "colab": {
          "base_uri": "https://localhost:8080/"
        },
        "outputId": "00021c3d-6657-499f-97d2-7761523d273d"
      },
      "source": [
        "def answer_zero():\n",
        "  # This function returns the row for Afghanistan, which is a Series object. \n",
        "  return df.iloc[0]\n",
        "\n",
        "answer_zero() "
      ],
      "execution_count": 3,
      "outputs": [
        {
          "output_type": "execute_result",
          "data": {
            "text/plain": [
              "# Summer           13\n",
              "Gold                0\n",
              "Silver              0\n",
              "Bronze              2\n",
              "Total               2\n",
              "# Winter            0\n",
              "Gold.1              0\n",
              "Silver.1            0\n",
              "Bronze.1            0\n",
              "Total.1             0\n",
              "# Games            13\n",
              "Gold.2              0\n",
              "Silver.2            0\n",
              "Bronze.2            2\n",
              "Combined total      2\n",
              "ID                AFG\n",
              "Name: Afghanistan, dtype: object"
            ]
          },
          "metadata": {
            "tags": []
          },
          "execution_count": 3
        }
      ]
    },
    {
      "cell_type": "markdown",
      "metadata": {
        "id": "ulyPSrSMpJO0"
      },
      "source": [
        "### Câu hỏi 1\n",
        "\n",
        "Quốc gia nào dành được nhiều huy chương vàng nhất trong giải mùa hè?\n",
        "\n",
        "*Giá trị trả về của hàm là string.*\n",
        "\n",
        "\n",
        "<details>    \n",
        "<summary>\n",
        "    <font size=\"3\" color=\"darkgreen\"><b>Hints</b></font>\n",
        "</summary>\n",
        "<p>\n",
        "Gợi ý sử dụng .idxmax().\n",
        "</p>\n",
        "\n"
      ]
    },
    {
      "cell_type": "code",
      "metadata": {
        "nbgrader": {
          "grade": false,
          "locked": false,
          "solution": false
        },
        "umich_part_id": "001",
        "umich_partlist_id": "001",
        "id": "T6JEgli6pJO1",
        "colab": {
          "base_uri": "https://localhost:8080/",
          "height": 35
        },
        "outputId": "4bc48ebe-ae8c-4845-bf39-f56185812218"
      },
      "source": [
        "def answer_one():\n",
        "  ### START CODE HERE ###\n",
        "  return df[df['Gold'] == df['Gold'].max()].index[0]\n",
        "  ### END CODE HERE ###\n",
        "\n",
        "answer_one()"
      ],
      "execution_count": 4,
      "outputs": [
        {
          "output_type": "execute_result",
          "data": {
            "application/vnd.google.colaboratory.intrinsic+json": {
              "type": "string"
            },
            "text/plain": [
              "'United States'"
            ]
          },
          "metadata": {
            "tags": []
          },
          "execution_count": 4
        }
      ]
    },
    {
      "cell_type": "markdown",
      "metadata": {
        "id": "bWP05YqYsZd8"
      },
      "source": [
        "**Kỳ vọng:**\n",
        "```python3\n",
        "'United States'\n",
        "```"
      ]
    },
    {
      "cell_type": "markdown",
      "metadata": {
        "id": "73kEWlvOpJO7"
      },
      "source": [
        "### Câu hỏi 2\n",
        "\n",
        "Quốc gia nào có sự khác biệt lớn nhất giữa số huy chương vàng vào mùa hè và vào mùa đông của họ?\n",
        "\n",
        "*Giá trị trả về của hàm là string.*"
      ]
    },
    {
      "cell_type": "code",
      "metadata": {
        "umich_part_id": "002",
        "umich_partlist_id": "001",
        "id": "kvHvKWE1pJO8",
        "colab": {
          "base_uri": "https://localhost:8080/",
          "height": 35
        },
        "outputId": "c6fc451a-ee97-4d36-8555-c046c155d3fd"
      },
      "source": [
        "def answer_two():\n",
        "  ### START CODE HERE ### \n",
        "  return (df['Gold'] - df['Gold.1'])[(df['Gold'] - df['Gold.1']) == (df['Gold'] - df['Gold.1']).abs().max()].index[0]\n",
        "  ### END CODE HERE ###\n",
        "\n",
        "answer_two()"
      ],
      "execution_count": 5,
      "outputs": [
        {
          "output_type": "execute_result",
          "data": {
            "application/vnd.google.colaboratory.intrinsic+json": {
              "type": "string"
            },
            "text/plain": [
              "'United States'"
            ]
          },
          "metadata": {
            "tags": []
          },
          "execution_count": 5
        }
      ]
    },
    {
      "cell_type": "markdown",
      "metadata": {
        "id": "E5u42_kes-Hi"
      },
      "source": [
        "**Kỳ vọng:**\n",
        "```python3\n",
        "'United States'\n",
        "```"
      ]
    },
    {
      "cell_type": "markdown",
      "metadata": {
        "id": "760EiNxWpJO_"
      },
      "source": [
        "### Câu hỏi 3\n",
        "Quốc gia nào có sự khác biệt lớn nhất giữa số huy chương vàng mùa hè và số huy chương vàng mùa đông so với tổng số huy chương vàng của họ?\n",
        "\n",
        "Điều kiện: Quốc gia đó phải có ít nhất 1 huy chương vàng vào cả mùa hè và mùa đông.\n",
        "\n",
        "$$\\frac{Summer~Gold - Winter~Gold}{Total~Gold}$$\n",
        "\n",
        "*Giá trị trả về của hàm là string.*\n",
        "\n",
        "<details>    \n",
        "<summary>\n",
        "    <font size=\"3\" color=\"darkgreen\"><b>Hints</b></font>\n",
        "</summary>\n",
        "<p>\n",
        "Gợi ý sử dụng `.where` để lọc.\n",
        "</p>\n"
      ]
    },
    {
      "cell_type": "code",
      "metadata": {
        "umich_part_id": "003",
        "umich_partlist_id": "001",
        "id": "JU2IGBp_pJPA",
        "colab": {
          "base_uri": "https://localhost:8080/",
          "height": 35
        },
        "outputId": "66ab0097-9645-465e-a9f6-9d28aa719a5d"
      },
      "source": [
        "def answer_three():\n",
        "  ### START CODE HERE ###\n",
        "  t = df.where((df['Gold'] >= 1) & (df['Gold.1'] >= 1))\n",
        "  a = ((t['Gold'] - t['Gold.1']) / (t['Gold'] + t['Gold.1'] + t['Gold.2'])).abs()\n",
        "  return a[a == a.max()].index[0]\n",
        "  ### END CODE HERE ###\n",
        "\n",
        "answer_three()"
      ],
      "execution_count": 6,
      "outputs": [
        {
          "output_type": "execute_result",
          "data": {
            "application/vnd.google.colaboratory.intrinsic+json": {
              "type": "string"
            },
            "text/plain": [
              "'Bulgaria'"
            ]
          },
          "metadata": {
            "tags": []
          },
          "execution_count": 6
        }
      ]
    },
    {
      "cell_type": "markdown",
      "metadata": {
        "id": "8yi_v9n4tV8f"
      },
      "source": [
        "**Kỳ vọng:**\n",
        "```\n",
        "'Bulgaria'\n",
        "```"
      ]
    },
    {
      "cell_type": "markdown",
      "metadata": {
        "id": "hfAzu9tjpJPD"
      },
      "source": [
        "### Câu hỏi 4\n",
        "\n",
        "Viết hàm tạo 1 Series đặt tên là \"**Points**\", trong **Points** giá trị được tính như sau: mỗi huy chương vàng (`Gold.2`) được tính cho 3 điểm, huy chương bạc (` Silver.2`) cho 2 điểm và huy chương đồng (`Bronze.2`) cho 1 điểm. Hàm sẽ chỉ trả về cột (a Series Object) mà bạn đã tạo, với tên quốc gia làm chỉ số.\n",
        "\n",
        "*Hàm sẽ trẻ về 1 Series tên là `Points` có chiều dài 146 dòng*"
      ]
    },
    {
      "cell_type": "code",
      "metadata": {
        "umich_part_id": "004",
        "umich_partlist_id": "001",
        "id": "AJcxFpEkpJPE",
        "colab": {
          "base_uri": "https://localhost:8080/"
        },
        "outputId": "20dad9c0-ea2a-4743-a915-2ce563c96eda"
      },
      "source": [
        "def answer_four():\n",
        "  ### START CODE HERE ### \n",
        "  return pd.Series(df['Gold.2'] * 3 + df['Silver.2'] * 2 + df['Bronze.2'], name = 'Points')\n",
        "  ### END CODE HERE ###\n",
        "                       \n",
        "answer_four()"
      ],
      "execution_count": 7,
      "outputs": [
        {
          "output_type": "execute_result",
          "data": {
            "text/plain": [
              "Afghanistan                           2\n",
              "Algeria                              27\n",
              "Argentina                           130\n",
              "Armenia                              16\n",
              "Australasia                          22\n",
              "                                   ... \n",
              "Yugoslavia                          171\n",
              "Independent Olympic Participants      4\n",
              "Zambia                                3\n",
              "Zimbabwe                             18\n",
              "Mixed team                           38\n",
              "Name: Points, Length: 146, dtype: int64"
            ]
          },
          "metadata": {
            "tags": []
          },
          "execution_count": 7
        }
      ]
    },
    {
      "cell_type": "markdown",
      "metadata": {
        "id": "ZVfc_L40unRX"
      },
      "source": [
        "**Kỳ vọng:**\n",
        "```python3 \n",
        "Afghanistan                           2\n",
        "Algeria                              27\n",
        "Argentina                           130\n",
        "Armenia                              16\n",
        "Australasia                          22\n",
        "                                   ... \n",
        "Yugoslavia                          171\n",
        "Independent Olympic Participants      4\n",
        "Zambia                                3\n",
        "Zimbabwe                             18\n",
        "Mixed team                           38\n",
        "Name: Points, Length: 146, dtype: int64\n",
        "```"
      ]
    }
  ]
}