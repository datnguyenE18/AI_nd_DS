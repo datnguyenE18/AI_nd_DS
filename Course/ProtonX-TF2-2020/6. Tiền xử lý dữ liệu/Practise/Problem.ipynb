{
  "nbformat": 4,
  "nbformat_minor": 0,
  "metadata": {
    "anaconda-cloud": {},
    "coursera": {
      "course_slug": "python-data-analysis",
      "graded_item_id": "tHmgx",
      "launcher_item_id": "Um6Bz",
      "part_id": "OQsnr"
    },
    "kernelspec": {
      "display_name": "Python 3",
      "language": "python",
      "name": "python3"
    },
    "language_info": {
      "codemirror_mode": {
        "name": "ipython",
        "version": 3
      },
      "file_extension": ".py",
      "mimetype": "text/x-python",
      "name": "python",
      "nbconvert_exporter": "python",
      "pygments_lexer": "ipython3",
      "version": "3.6.8"
    },
    "umich": {
      "id": "Assignment 2",
      "version": "1.2"
    },
    "colab": {
      "name": "Problem.ipynb",
      "provenance": [],
      "collapsed_sections": []
    }
  },
  "cells": [
    {
      "cell_type": "markdown",
      "metadata": {
        "id": "S-DcO3mmpJOr"
      },
      "source": [
        "# Programming Exercise: Pandas Introduction \n",
        "\n",
        "### Hướng dẫn làm bài \n",
        "- Trong bài tập này bạn sẽ sử dụng Python 3.\n",
        "- Hãy sử dụng các hàm của thư viện `Pandas`.\n",
        "- Sau khi bạn viết Code của mình xong, hãy chạy dòng Code đó để xem kết quả bên dưới. \n",
        "\n",
        "Các bạn sẽ bắt đầu Code trong phần `### START CODE HERE ###` và `### END CODE HERE ###`. Các bạn nhớ đừng sửa bất kỳ dòng Code nào bên ngoài những câu lệnh này. \n",
        "\n",
        "Sau khi viết xong Code của bạn, bạn hãy ấn \"SHIFT\"+\"ENTER\" để thực hiện chạy lệnh của Cell đó. \n",
        "\n",
        "Trong phần Code: các bạn hãy cố gắng thực hiện ít dòng Code nhất theo chỉ định \"(≈ X lines of code)\". Mặc dù đây không phải là hạn chế về số dòng Code của bạn, nhưng hãy tối ưu sao cho ít nhất có thể.\n"
      ]
    },
    {
      "cell_type": "markdown",
      "metadata": {
        "id": "C23eNf9JpiVs"
      },
      "source": [
        "## Phân tích bộ dữ liệu `olympics`\n",
        "\n",
        "Đoạn mã bên dưới sẽ tải bộ dữ liệu olympics (olympics.csv) được trích xuất từ Wikipedia trong bài [All Time Olympic Games Medals](https://en.wikipedia.org/wiki/All-time_Olympic_Games_medal_table), và đã được làm sạch 1 phần dữ liệu.\n",
        "\n",
        "Các cột được sắp xếp thành:\n",
        " - `# of Summer games, Summer medals`\n",
        " - `# of Winter games, Winter medals, total `\n",
        " - `# number of games, total `\n",
        " - `# of medals. Use this dataset to answer the questions below`"
      ]
    },
    {
      "cell_type": "code",
      "metadata": {
        "id": "HiTo_1K8qvMn"
      },
      "source": [
        "# Download Dataset\n",
        "!wget https://gist.githubusercontent.com/thanhhff/e22f74ca95ee95e8887301779c5292fb/raw/b85cdacd684f6f9641a964df3d6dd161ad4df26e/olympics.csv"
      ],
      "execution_count": null,
      "outputs": []
    },
    {
      "cell_type": "code",
      "metadata": {
        "nbgrader": {
          "grade": false,
          "grade_id": "1",
          "locked": false,
          "solution": false
        },
        "umich_question": "prolog-000",
        "id": "2637zsGCpJOs"
      },
      "source": [
        "import pandas as pd\n",
        "\n",
        "df = pd.read_csv('olympics.csv', index_col=0, skiprows=1)\n",
        "\n",
        "for col in df.columns:\n",
        "    if col[:2]=='01':\n",
        "        df.rename(columns={col:'Gold'+col[4:]}, inplace=True)\n",
        "    if col[:2]=='02':\n",
        "        df.rename(columns={col:'Silver'+col[4:]}, inplace=True)\n",
        "    if col[:2]=='03':\n",
        "        df.rename(columns={col:'Bronze'+col[4:]}, inplace=True)\n",
        "    if col[:1]=='№':\n",
        "        df.rename(columns={col:'#'+col[1:]}, inplace=True)\n",
        "\n",
        "names_ids = df.index.str.split('\\s\\(') # split the index by '('\n",
        "\n",
        "df.index = names_ids.str[0] # the [0] element is the country name (new index) \n",
        "df['ID'] = names_ids.str[1].str[:3] # the [1] element is the abbreviation or ID (take first 3 characters from that)\n",
        "\n",
        "df = df.drop('Totals')\n",
        "df.head()"
      ],
      "execution_count": null,
      "outputs": []
    },
    {
      "cell_type": "markdown",
      "metadata": {
        "id": "_LsBwdoBpJOw"
      },
      "source": [
        "### Câu hỏi 0 (Mẫu)\n",
        "\n",
        "Thông tin của quốc gia đầu tiên trong df?\n",
        "\n",
        "*Các hàm cần được trả về là 1 Series.*"
      ]
    },
    {
      "cell_type": "code",
      "metadata": {
        "umich_question": "000",
        "id": "qQ1F38HdpJOx"
      },
      "source": [
        "def answer_zero():\n",
        "  # This function returns the row for Afghanistan, which is a Series object. \n",
        "  return df.iloc[0]\n",
        "\n",
        "answer_zero() "
      ],
      "execution_count": null,
      "outputs": []
    },
    {
      "cell_type": "markdown",
      "metadata": {
        "id": "ulyPSrSMpJO0"
      },
      "source": [
        "### Câu hỏi 1\n",
        "\n",
        "Quốc gia nào dành được nhiều huy chương vàng nhất trong giải mùa hè?\n",
        "\n",
        "*Giá trị trả về của hàm là string.*\n",
        "\n",
        "\n",
        "<details>    \n",
        "<summary>\n",
        "    <font size=\"3\" color=\"darkgreen\"><b>Hints</b></font>\n",
        "</summary>\n",
        "<p>\n",
        "Gợi ý sử dụng .idxmax().\n",
        "</p>\n",
        "\n"
      ]
    },
    {
      "cell_type": "code",
      "metadata": {
        "nbgrader": {
          "grade": false,
          "locked": false,
          "solution": false
        },
        "umich_part_id": "001",
        "umich_partlist_id": "001",
        "id": "T6JEgli6pJO1"
      },
      "source": [
        "def answer_one():\n",
        "  ### START CODE HERE ###\n",
        "  return None\n",
        "  ### END CODE HERE ###\n",
        "\n",
        "answer_one()"
      ],
      "execution_count": null,
      "outputs": []
    },
    {
      "cell_type": "markdown",
      "metadata": {
        "id": "bWP05YqYsZd8"
      },
      "source": [
        "**Kỳ vọng:**\n",
        "```python3\n",
        "'United States'\n",
        "```"
      ]
    },
    {
      "cell_type": "markdown",
      "metadata": {
        "id": "73kEWlvOpJO7"
      },
      "source": [
        "### Câu hỏi 2\n",
        "\n",
        "Quốc gia nào có sự khác biệt lớn nhất giữa số huy chương vàng vào mùa hè và vào mùa đông của họ?\n",
        "\n",
        "*Giá trị trả về của hàm là string.*"
      ]
    },
    {
      "cell_type": "code",
      "metadata": {
        "umich_part_id": "002",
        "umich_partlist_id": "001",
        "id": "kvHvKWE1pJO8"
      },
      "source": [
        "def answer_two():\n",
        "  ### START CODE HERE ### \n",
        "  return None\n",
        "  ### END CODE HERE ###\n",
        "\n",
        "answer_two()"
      ],
      "execution_count": null,
      "outputs": []
    },
    {
      "cell_type": "markdown",
      "metadata": {
        "id": "E5u42_kes-Hi"
      },
      "source": [
        "**Kỳ vọng:**\n",
        "```python3\n",
        "'United States'\n",
        "```"
      ]
    },
    {
      "cell_type": "markdown",
      "metadata": {
        "id": "760EiNxWpJO_"
      },
      "source": [
        "### Câu hỏi 3\n",
        "Quốc gia nào có sự khác biệt lớn nhất giữa số huy chương vàng mùa hè và số huy chương vàng mùa đông so với tổng số huy chương vàng của họ?\n",
        "\n",
        "Điều kiện: Quốc gia đó phải có ít nhất 1 huy chương vàng vào cả mùa hè và mùa đông.\n",
        "\n",
        "$$\\frac{Summer~Gold - Winter~Gold}{Total~Gold}$$\n",
        "\n",
        "*Giá trị trả về của hàm là string.*\n",
        "\n",
        "<details>    \n",
        "<summary>\n",
        "    <font size=\"3\" color=\"darkgreen\"><b>Hints</b></font>\n",
        "</summary>\n",
        "<p>\n",
        "Gợi ý sử dụng `.where` để lọc.\n",
        "</p>\n"
      ]
    },
    {
      "cell_type": "code",
      "metadata": {
        "umich_part_id": "003",
        "umich_partlist_id": "001",
        "id": "JU2IGBp_pJPA"
      },
      "source": [
        "def answer_three():\n",
        "  ### START CODE HERE ###\n",
        "  return None \n",
        "  ### END CODE HERE ###\n",
        "\n",
        "answer_three()"
      ],
      "execution_count": null,
      "outputs": []
    },
    {
      "cell_type": "markdown",
      "metadata": {
        "id": "8yi_v9n4tV8f"
      },
      "source": [
        "**Kỳ vọng:**\n",
        "```\n",
        "'Bulgaria'\n",
        "```"
      ]
    },
    {
      "cell_type": "markdown",
      "metadata": {
        "id": "hfAzu9tjpJPD"
      },
      "source": [
        "### Câu hỏi 4\n",
        "\n",
        "Viết hàm tạo 1 Series đặt tên là \"**Points**\", trong **Points** giá trị được tính như sau: mỗi huy chương vàng (`Gold.2`) được tính cho 3 điểm, huy chương bạc (` Silver.2`) cho 2 điểm và huy chương đồng (`Bronze.2`) cho 1 điểm. Hàm sẽ chỉ trả về cột (a Series Object) mà bạn đã tạo, với tên quốc gia làm chỉ số.\n",
        "\n",
        "*Hàm sẽ trẻ về 1 Series tên là `Points` có chiều dài 146 dòng*"
      ]
    },
    {
      "cell_type": "code",
      "metadata": {
        "umich_part_id": "004",
        "umich_partlist_id": "001",
        "id": "AJcxFpEkpJPE"
      },
      "source": [
        "def answer_four():\n",
        "  ### START CODE HERE ### \n",
        "  return None\n",
        "  ### END CODE HERE ###\n",
        "                       \n",
        "answer_four()"
      ],
      "execution_count": null,
      "outputs": []
    },
    {
      "cell_type": "markdown",
      "metadata": {
        "id": "ZVfc_L40unRX"
      },
      "source": [
        "**Kỳ vọng:**\n",
        "```python3 \n",
        "Afghanistan                           2\n",
        "Algeria                              27\n",
        "Argentina                           130\n",
        "Armenia                              16\n",
        "Australasia                          22\n",
        "                                   ... \n",
        "Yugoslavia                          171\n",
        "Independent Olympic Participants      4\n",
        "Zambia                                3\n",
        "Zimbabwe                             18\n",
        "Mixed team                           38\n",
        "Name: Points, Length: 146, dtype: int64\n",
        "```"
      ]
    }
  ]
}