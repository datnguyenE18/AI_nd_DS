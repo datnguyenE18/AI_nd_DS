{
 "cells": [
  {
   "cell_type": "code",
   "execution_count": 1,
   "metadata": {},
   "outputs": [],
   "source": [
    "from sklearn.datasets import load_digits\n",
    "from sklearn.model_selection import train_test_split\n",
    "from sklearn.linear_model import LogisticRegression\n",
    "from sklearn import metrics\n",
    "import cv2\n",
    "import matplotlib.pyplot as plt\n",
    "from fun import tpTnFpFn\n",
    "from Buoi13_LogisticRegression import read_ex2data1"
   ]
  },
  {
   "cell_type": "code",
   "execution_count": 2,
   "metadata": {},
   "outputs": [],
   "source": [
    "X, Y = read_ex2data1()"
   ]
  },
  {
   "cell_type": "code",
   "execution_count": 3,
   "metadata": {},
   "outputs": [],
   "source": [
    "x_train, x_test, y_train, y_test = train_test_split(X, Y)"
   ]
  },
  {
   "cell_type": "code",
   "execution_count": 4,
   "metadata": {},
   "outputs": [],
   "source": [
    "regr = LogisticRegression()\n",
    "regr.fit(x_train, y_train)\n",
    "y_pred = regr.predict(x_test)"
   ]
  },
  {
   "cell_type": "code",
   "execution_count": 5,
   "metadata": {},
   "outputs": [
    {
     "name": "stdout",
     "output_type": "stream",
     "text": [
      "truePositive 14\n",
      "trueNegative 9\n",
      "falsePositive 1\n",
      "falseNegative 1\n"
     ]
    },
    {
     "data": {
      "image/png": "[encoded data removed]",
      "text/plain": [
       "<Figure size 432x288 with 2 Axes>"
      ]
     },
     "metadata": {
      "needs_background": "light"
     },
     "output_type": "display_data"
    }
   ],
   "source": [
    "# Coi giá trị 1 là positive, 0 là negative\n",
    "positiveLabel = 1\n",
    "truePositive, trueNegative, falsePositive, falseNegative = tpTnFpFn(y_test, y_pred, positiveLabel)\n",
    "print(\"truePositive\", truePositive)\n",
    "print(\"trueNegative\", trueNegative)\n",
    "print(\"falsePositive\", falsePositive)\n",
    "print(\"falseNegative\", falseNegative)\n",
    "\n",
    "disp = metrics.plot_confusion_matrix(regr, x_test, y_test)\n",
    "disp.figure_.suptitle(\"Confusion Matrix\")\n",
    "plt.show()"
   ]
  },
  {
   "cell_type": "code",
   "execution_count": 6,
   "metadata": {},
   "outputs": [
    {
     "name": "stdout",
     "output_type": "stream",
     "text": [
      "precision 0.9333333333333333\n"
     ]
    }
   ],
   "source": [
    "# precision\n",
    "precision = 1.0*truePositive/(truePositive+falsePositive)\n",
    "print(\"precision\", precision)"
   ]
  },
  {
   "cell_type": "code",
   "execution_count": 7,
   "metadata": {},
   "outputs": [
    {
     "name": "stdout",
     "output_type": "stream",
     "text": [
      "recall 0.9333333333333333\n"
     ]
    }
   ],
   "source": [
    "# recall\n",
    "recall = 1.0*truePositive/(truePositive+falseNegative)\n",
    "print(\"recall\", recall)"
   ]
  },
  {
   "cell_type": "code",
   "execution_count": 8,
   "metadata": {},
   "outputs": [
    {
     "name": "stdout",
     "output_type": "stream",
     "text": [
      "f1_score 0.9333333333333333\n"
     ]
    }
   ],
   "source": [
    "# f1 score\n",
    "f1_score = 2*precision*recall/(precision+recall)\n",
    "print(\"f1_score\", f1_score)"
   ]
  },
  {
   "cell_type": "code",
   "execution_count": 9,
   "metadata": {},
   "outputs": [
    {
     "name": "stdout",
     "output_type": "stream",
     "text": [
      "precision1 0.9333333333333333\n",
      "recall1 0.9333333333333333\n",
      "fs1core1 0.9333333333333333\n"
     ]
    }
   ],
   "source": [
    "precision1, recall1, fscore1, _ = metrics.precision_recall_fscore_support(y_test, y_pred, pos_label=1, average='binary')\n",
    "print(\"precision1\", precision1)\n",
    "print(\"recall1\", recall1)\n",
    "print(\"fs1core1\", fscore1)"
   ]
  },
  {
   "cell_type": "code",
   "execution_count": 10,
   "metadata": {},
   "outputs": [
    {
     "name": "stdout",
     "output_type": "stream",
     "text": [
      "sensitivity 0.9333333333333333\n"
     ]
    }
   ],
   "source": [
    "# sensitivity\n",
    "sensitivity = 1.0*truePositive/(truePositive+falseNegative)\n",
    "print(\"sensitivity\", sensitivity)"
   ]
  },
  {
   "cell_type": "code",
   "execution_count": 11,
   "metadata": {},
   "outputs": [
    {
     "name": "stdout",
     "output_type": "stream",
     "text": [
      "specificity 0.6\n"
     ]
    }
   ],
   "source": [
    "# specificity\n",
    "specificity = 1.0*trueNegative/(truePositive+falsePositive)\n",
    "print(\"specificity\", specificity)"
   ]
  },
  {
   "cell_type": "code",
   "execution_count": null,
   "metadata": {},
   "outputs": [],
   "source": []
  }
 ],
 "metadata": {
  "kernelspec": {
   "display_name": "Python 3",
   "language": "python",
   "name": "python3"
  },
  "language_info": {
   "codemirror_mode": {
    "name": "ipython",
    "version": 3
   },
   "file_extension": ".py",
   "mimetype": "text/x-python",
   "name": "python",
   "nbconvert_exporter": "python",
   "pygments_lexer": "ipython3",
   "version": "3.8.3"
  }
 },
 "nbformat": 4,
 "nbformat_minor": 4
}
