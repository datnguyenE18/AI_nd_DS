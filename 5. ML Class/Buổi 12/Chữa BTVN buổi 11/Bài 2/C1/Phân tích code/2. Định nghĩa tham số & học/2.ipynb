{
 "cells": [
  {
   "cell_type": "code",
   "execution_count": 1,
   "metadata": {},
   "outputs": [],
   "source": [
    "import numpy as np\n",
    "import random\n",
    "import matplotlib.pyplot as plt\n",
    "from sklearn import linear_model\n",
    "from sklearn.metrics import mean_squared_error\n",
    "import csv"
   ]
  },
  {
   "cell_type": "code",
   "execution_count": 2,
   "metadata": {},
   "outputs": [],
   "source": [
    "def readForestFiresCsv():\n",
    "    X = []\n",
    "    Y = []\n",
    "    with open( 'forestfires.csv', mode='r' ) as csv_file:\n",
    "        csv_reader = csv.DictReader( csv_file )\n",
    "        for row in csv_reader:\n",
    "            Y.append( float( row[\"area\"] ) )\n",
    "            X.append( [float( row[\"X\"] ),float( row[\"Y\"] ), \n",
    "                       float( row[\"FFMC\"] ),float( row[\"DMC\"] ),float( row[\"DC\"] ),float( row[\"ISI\"] ), \n",
    "                       float( row[\"temp\"] ),float( row[\"RH\"] ),float( row[\"wind\"] ),float( row[\"rain\"] )] )\n",
    "    return np.array( X ), np.array( Y )"
   ]
  },
  {
   "cell_type": "code",
   "execution_count": 3,
   "metadata": {},
   "outputs": [
    {
     "data": {
      "text/plain": [
       "LinearRegression()"
      ]
     },
     "execution_count": 3,
     "metadata": {},
     "output_type": "execute_result"
    }
   ],
   "source": [
    "X, Y = readForestFiresCsv()\n",
    "\n",
    "x_train = X[:-20]\n",
    "x_test = X[-20:]\n",
    "\n",
    "y_train = Y[:-20]\n",
    "y_test = Y[-20:]\n",
    "\n",
    "regr = linear_model.LinearRegression()\n",
    "regr.fit(x_train, y_train)"
   ]
  },
  {
   "cell_type": "code",
   "execution_count": 4,
   "metadata": {},
   "outputs": [
    {
     "name": "stdout",
     "output_type": "stream",
     "text": [
      "coef_ = [ 1.97720473e+00  5.08312968e-01 -3.09645621e-02  7.91899961e-02\n",
      " -3.49526205e-03 -7.72553317e-01  8.66503255e-01 -2.13017326e-01\n",
      "  1.65428553e+00 -2.09569883e+01] \n",
      "\n",
      "intercept_ = -8.863779530240935 \n",
      "\n",
      "Mean squared error: 1038.882196\n"
     ]
    }
   ],
   "source": [
    "print( \"coef_ =\", regr.coef_, \"\\n\" )\n",
    "print( \"intercept_ =\", regr.intercept_, \"\\n\" )\n",
    "y_pred = regr.predict( x_test )\n",
    "print( 'Mean squared error: %f' % mean_squared_error( y_test, y_pred ) )"
   ]
  },
  {
   "cell_type": "code",
   "execution_count": null,
   "metadata": {},
   "outputs": [],
   "source": []
  }
 ],
 "metadata": {
  "kernelspec": {
   "display_name": "Python 3",
   "language": "python",
   "name": "python3"
  },
  "language_info": {
   "codemirror_mode": {
    "name": "ipython",
    "version": 3
   },
   "file_extension": ".py",
   "mimetype": "text/x-python",
   "name": "python",
   "nbconvert_exporter": "python",
   "pygments_lexer": "ipython3",
   "version": "3.8.3"
  }
 },
 "nbformat": 4,
 "nbformat_minor": 4
}
