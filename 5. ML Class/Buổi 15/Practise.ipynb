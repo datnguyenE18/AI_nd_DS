{
 "cells": [
  {
   "cell_type": "markdown",
   "metadata": {},
   "source": [
    "Import:"
   ]
  },
  {
   "cell_type": "code",
   "execution_count": 1,
   "metadata": {},
   "outputs": [],
   "source": [
    "import pandas as pd\n",
    "import random\n",
    "import numpy as np\n",
    "from sklearn.linear_model import LogisticRegression\n",
    "from sklearn import metrics\n",
    "from sklearn.metrics import accuracy_score"
   ]
  },
  {
   "cell_type": "markdown",
   "metadata": {},
   "source": [
    "Đọc dữ liệu:"
   ]
  },
  {
   "cell_type": "code",
   "execution_count": 2,
   "metadata": {},
   "outputs": [],
   "source": [
    "df = pd.read_csv(\"ex2data1.csv\")\n",
    "X = df[['x1', 'x2']].values#.reshape(-1, 2)\n",
    "Y = df['y'].values#.reshape(-1)"
   ]
  },
  {
   "cell_type": "markdown",
   "metadata": {},
   "source": [
    "### Manual:"
   ]
  },
  {
   "cell_type": "code",
   "execution_count": 3,
   "metadata": {},
   "outputs": [
    {
     "name": "stdout",
     "output_type": "stream",
     "text": [
      "[[34.62365962 78.02469282]\n",
      " [30.28671077 43.89499752]\n",
      " [35.84740877 72.90219803]\n",
      " [60.18259939 86.3085521 ]\n",
      " [79.03273605 75.34437644]]\n"
     ]
    }
   ],
   "source": [
    "k = 5 # thiết lập giá trị K\n",
    "print(X[0:5])"
   ]
  },
  {
   "cell_type": "markdown",
   "metadata": {},
   "source": [
    "Xáo trộn:"
   ]
  },
  {
   "cell_type": "code",
   "execution_count": 4,
   "metadata": {},
   "outputs": [],
   "source": [
    "nSamples = X.shape[0]\n",
    "for i in range(nSamples):\n",
    "    j = random.randint(0, nSamples - 1)\n",
    "    t = X[i]\n",
    "    X[i] = X[j]\n",
    "    X[j] = t\n",
    "    u = Y[i]\n",
    "    Y[i] = Y[j]\n",
    "    Y[j] = u"
   ]
  },
  {
   "cell_type": "code",
   "execution_count": 5,
   "metadata": {},
   "outputs": [
    {
     "data": {
      "text/plain": [
       "20"
      ]
     },
     "execution_count": 5,
     "metadata": {},
     "output_type": "execute_result"
    }
   ],
   "source": [
    "foldSize = round(nSamples/k) # Chia phần tử cho K fold\n",
    "foldSize # kích thước 1 fold"
   ]
  },
  {
   "cell_type": "code",
   "execution_count": 6,
   "metadata": {},
   "outputs": [
    {
     "name": "stdout",
     "output_type": "stream",
     "text": [
      "fold 1/5-----------------------\n",
      "test set in [0,19]\n",
      "fold 2/5-----------------------\n",
      "test set in [20,39]\n",
      "fold 3/5-----------------------\n",
      "test set in [40,59]\n",
      "fold 4/5-----------------------\n",
      "test set in [60,79]\n",
      "fold 5/5-----------------------\n",
      "test set in [80,99]\n"
     ]
    }
   ],
   "source": [
    "for step in range(k): # Lặp từng Fold, đầu tiên step = 0\n",
    "    print(\"fold {}/{}-----------------------\".format(step + 1, k))\n",
    "    \n",
    "    # Tại bước step (0 <= step < k), xác định tập huấn luyện và tập test:\n",
    "    start = step*foldSize\n",
    "    if step == k-1:\n",
    "        stop = nSamples-1\n",
    "    else:\n",
    "        stop = (step+1)*foldSize - 1\n",
    "\n",
    "    print(\"test set in [{},{}]\".format(start, stop))\n",
    "\n",
    "    X_test = X[start:stop]\n",
    "    y_test = Y[start:stop]\n",
    "\n",
    "    if step==0:\n",
    "        X_train = X[stop:nSamples-1]\n",
    "        y_train = Y[stop:nSamples-1]\n",
    "    elif step==(k-1):\n",
    "        X_train = X[0:start-1]\n",
    "        y_train = Y[0:start-1]\n",
    "    else:\n",
    "        X_train = np.concatenate((X[0:start-1], X[stop:nSamples-1]))\n",
    "        y_train = np.concatenate((Y[0:start-1], Y[stop:nSamples-1]))"
   ]
  },
  {
   "cell_type": "markdown",
   "metadata": {},
   "source": [
    "Thực hiện học:"
   ]
  },
  {
   "cell_type": "code",
   "execution_count": 7,
   "metadata": {},
   "outputs": [
    {
     "data": {
      "text/plain": [
       "LogisticRegression()"
      ]
     },
     "execution_count": 7,
     "metadata": {},
     "output_type": "execute_result"
    }
   ],
   "source": [
    "regr = LogisticRegression()\n",
    "regr.fit(X_train, y_train)"
   ]
  },
  {
   "cell_type": "markdown",
   "metadata": {},
   "source": [
    "Đánh giá kết quả tại mỗi bước:"
   ]
  },
  {
   "cell_type": "code",
   "execution_count": 8,
   "metadata": {},
   "outputs": [
    {
     "name": "stdout",
     "output_type": "stream",
     "text": [
      "[[ 2  3]\n",
      " [ 3 11]]\n",
      "accuracy 0.6842105263157895\n"
     ]
    }
   ],
   "source": [
    "y_pred = regr.predict(X_test)\n",
    "cm = metrics.confusion_matrix(y_test, y_pred)\n",
    "print(cm)\n",
    "print(\"accuracy\", accuracy_score(y_test, y_pred))"
   ]
  },
  {
   "cell_type": "markdown",
   "metadata": {},
   "source": [
    "#### ================================================================"
   ]
  },
  {
   "cell_type": "markdown",
   "metadata": {},
   "source": [
    "### Buil-in:"
   ]
  },
  {
   "cell_type": "code",
   "execution_count": 9,
   "metadata": {},
   "outputs": [],
   "source": [
    "from sklearn.model_selection import KFold"
   ]
  },
  {
   "cell_type": "markdown",
   "metadata": {},
   "source": [
    "Tạo đối tượng KFold:"
   ]
  },
  {
   "cell_type": "code",
   "execution_count": 10,
   "metadata": {},
   "outputs": [],
   "source": [
    "kf = KFold(n_splits = 5)"
   ]
  },
  {
   "attachments": {},
   "cell_type": "markdown",
   "metadata": {},
   "source": [
    "Thiết lập vòng lặp từng fold:"
   ]
  },
  {
   "cell_type": "code",
   "execution_count": 11,
   "metadata": {},
   "outputs": [
    {
     "name": "stdout",
     "output_type": "stream",
     "text": [
      "[[ 3  4]\n",
      " [ 1 12]]\n",
      "accuracy 0.75\n",
      "[[3 7]\n",
      " [4 6]]\n",
      "accuracy 0.45\n",
      "[[ 4  6]\n",
      " [ 0 10]]\n",
      "accuracy 0.7\n",
      "[[ 1  6]\n",
      " [ 3 10]]\n",
      "accuracy 0.55\n",
      "[[ 2  4]\n",
      " [ 3 11]]\n",
      "accuracy 0.65\n"
     ]
    }
   ],
   "source": [
    "for train_index, test_index in kf.split(X):\n",
    "    #print(\"TRAIN:\", train_index, \"TEST:\", test_index)\n",
    "    X_train, X_test = X[train_index], X[test_index]\n",
    "    y_train, y_test = Y[train_index], Y[test_index]\n",
    "\n",
    "    regr = LogisticRegression()\n",
    "    regr.fit(X_train, y_train)\n",
    "\n",
    "    y_pred = regr.predict(X_test)\n",
    "    cm = metrics.confusion_matrix(y_test, y_pred)\n",
    "    print(cm)\n",
    "    print(\"accuracy\", accuracy_score(y_test, y_pred))"
   ]
  },
  {
   "cell_type": "code",
   "execution_count": null,
   "metadata": {},
   "outputs": [],
   "source": []
  }
 ],
 "metadata": {
  "kernelspec": {
   "display_name": "Python 3",
   "language": "python",
   "name": "python3"
  },
  "language_info": {
   "codemirror_mode": {
    "name": "ipython",
    "version": 3
   },
   "file_extension": ".py",
   "mimetype": "text/x-python",
   "name": "python",
   "nbconvert_exporter": "python",
   "pygments_lexer": "ipython3",
   "version": "3.8.3"
  }
 },
 "nbformat": 4,
 "nbformat_minor": 4
}
