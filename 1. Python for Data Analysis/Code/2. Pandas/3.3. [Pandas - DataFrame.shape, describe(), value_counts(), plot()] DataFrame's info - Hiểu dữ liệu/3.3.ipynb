{
 "cells": [
  {
   "cell_type": "code",
   "execution_count": 1,
   "metadata": {},
   "outputs": [
    {
     "data": {
      "text/html": [
       "<div>\n",
       "<style scoped>\n",
       "    .dataframe tbody tr th:only-of-type {\n",
       "        vertical-align: middle;\n",
       "    }\n",
       "\n",
       "    .dataframe tbody tr th {\n",
       "        vertical-align: top;\n",
       "    }\n",
       "\n",
       "    .dataframe thead th {\n",
       "        text-align: right;\n",
       "    }\n",
       "</style>\n",
       "<table border=\"1\" class=\"dataframe\">\n",
       "  <thead>\n",
       "    <tr style=\"text-align: right;\">\n",
       "      <th></th>\n",
       "      <th>person_ID</th>\n",
       "      <th>name</th>\n",
       "      <th>email</th>\n",
       "      <th>phone</th>\n",
       "      <th>fax</th>\n",
       "      <th>title</th>\n",
       "      <th>age</th>\n",
       "      <th>maths</th>\n",
       "      <th>physics</th>\n",
       "    </tr>\n",
       "  </thead>\n",
       "  <tbody>\n",
       "    <tr>\n",
       "      <th>0</th>\n",
       "      <td>3130</td>\n",
       "      <td>Burks, Rosella</td>\n",
       "      <td>BurksR@univ.edu</td>\n",
       "      <td>963.555.1253</td>\n",
       "      <td>963.777.4065</td>\n",
       "      <td>Professor</td>\n",
       "      <td>25</td>\n",
       "      <td>10</td>\n",
       "      <td>10</td>\n",
       "    </tr>\n",
       "    <tr>\n",
       "      <th>1</th>\n",
       "      <td>3297</td>\n",
       "      <td>Avila, Damien</td>\n",
       "      <td>AvilaD@univ.edu</td>\n",
       "      <td>963.555.1352</td>\n",
       "      <td>963.777.7914</td>\n",
       "      <td>Professor</td>\n",
       "      <td>23</td>\n",
       "      <td>9</td>\n",
       "      <td>10</td>\n",
       "    </tr>\n",
       "    <tr>\n",
       "      <th>2</th>\n",
       "      <td>3547</td>\n",
       "      <td>Olsen, Robin</td>\n",
       "      <td>OlsenR@univ.edu</td>\n",
       "      <td>963.555.1378</td>\n",
       "      <td>963.777.9262</td>\n",
       "      <td>Assistant Professor</td>\n",
       "      <td>21</td>\n",
       "      <td>7</td>\n",
       "      <td>10</td>\n",
       "    </tr>\n",
       "    <tr>\n",
       "      <th>3</th>\n",
       "      <td>1538</td>\n",
       "      <td>Moises, Edgar Estes</td>\n",
       "      <td>MoisesE@univ.edu</td>\n",
       "      <td>963.555.2731x3565</td>\n",
       "      <td>963.777.8264</td>\n",
       "      <td>Professor</td>\n",
       "      <td>18</td>\n",
       "      <td>8</td>\n",
       "      <td>9</td>\n",
       "    </tr>\n",
       "    <tr>\n",
       "      <th>4</th>\n",
       "      <td>2941</td>\n",
       "      <td>Brian, Heath Pruitt</td>\n",
       "      <td>BrianH@univ.edu</td>\n",
       "      <td>963.555.2800</td>\n",
       "      <td>963.777.7249</td>\n",
       "      <td>Associate Curator</td>\n",
       "      <td>30</td>\n",
       "      <td>9</td>\n",
       "      <td>8</td>\n",
       "    </tr>\n",
       "    <tr>\n",
       "      <th>5</th>\n",
       "      <td>2401</td>\n",
       "      <td>Claude, Elvin Haney</td>\n",
       "      <td>ClaudeE@univ.edu</td>\n",
       "      <td>963.555.2902</td>\n",
       "      <td>963.777.9730</td>\n",
       "      <td>Curator</td>\n",
       "      <td>35</td>\n",
       "      <td>10</td>\n",
       "      <td>9</td>\n",
       "    </tr>\n",
       "    <tr>\n",
       "      <th>6</th>\n",
       "      <td>2070</td>\n",
       "      <td>Mosley, Edmund</td>\n",
       "      <td>MosleyE@univ.edu</td>\n",
       "      <td>963.555.2945</td>\n",
       "      <td>963.777.9285</td>\n",
       "      <td>Assistant Professor</td>\n",
       "      <td>35</td>\n",
       "      <td>7</td>\n",
       "      <td>8</td>\n",
       "    </tr>\n",
       "    <tr>\n",
       "      <th>7</th>\n",
       "      <td>2561</td>\n",
       "      <td>Derek, Antoine Mccoy</td>\n",
       "      <td>DerekA@univ.edu</td>\n",
       "      <td>963.555.2992</td>\n",
       "      <td>963.777.5454</td>\n",
       "      <td>Curator</td>\n",
       "      <td>35</td>\n",
       "      <td>8</td>\n",
       "      <td>10</td>\n",
       "    </tr>\n",
       "    <tr>\n",
       "      <th>8</th>\n",
       "      <td>1625</td>\n",
       "      <td>Hawkins, Callie</td>\n",
       "      <td>HawkinsC@univ.edu</td>\n",
       "      <td>963.555.3350x6480</td>\n",
       "      <td>963.777.4949</td>\n",
       "      <td>Professor</td>\n",
       "      <td>29</td>\n",
       "      <td>9</td>\n",
       "      <td>10</td>\n",
       "    </tr>\n",
       "    <tr>\n",
       "      <th>9</th>\n",
       "      <td>1307</td>\n",
       "      <td>Pate, Andrea</td>\n",
       "      <td>PateA@univ.edu</td>\n",
       "      <td>963.555.3723</td>\n",
       "      <td>963.777.5049</td>\n",
       "      <td>Professor</td>\n",
       "      <td>29</td>\n",
       "      <td>10</td>\n",
       "      <td>10</td>\n",
       "    </tr>\n",
       "    <tr>\n",
       "      <th>10</th>\n",
       "      <td>2342</td>\n",
       "      <td>Austin, Liz</td>\n",
       "      <td>AustinL@univ.edu</td>\n",
       "      <td>963.555.4305</td>\n",
       "      <td>963.777.6143</td>\n",
       "      <td>Assistant Professor</td>\n",
       "      <td>28</td>\n",
       "      <td>9</td>\n",
       "      <td>9</td>\n",
       "    </tr>\n",
       "    <tr>\n",
       "      <th>11</th>\n",
       "      <td>2755</td>\n",
       "      <td>Kendrick, Reba Alford</td>\n",
       "      <td>KendrickR@univ.edu</td>\n",
       "      <td>963.555.4618x7744</td>\n",
       "      <td>963.777.4371</td>\n",
       "      <td>Associate Curator</td>\n",
       "      <td>23</td>\n",
       "      <td>10</td>\n",
       "      <td>10</td>\n",
       "    </tr>\n",
       "    <tr>\n",
       "      <th>12</th>\n",
       "      <td>4150</td>\n",
       "      <td>Sims, Angelina</td>\n",
       "      <td>SimsA@univ.edu</td>\n",
       "      <td>963.555.5278</td>\n",
       "      <td>963.777.4400</td>\n",
       "      <td>Professor</td>\n",
       "      <td>22</td>\n",
       "      <td>10</td>\n",
       "      <td>10</td>\n",
       "    </tr>\n",
       "    <tr>\n",
       "      <th>13</th>\n",
       "      <td>3544</td>\n",
       "      <td>Mullins, Kimberly</td>\n",
       "      <td>MullinsK@univ.edu</td>\n",
       "      <td>963.555.5471x1017</td>\n",
       "      <td>963.777.9783</td>\n",
       "      <td>Assistant Professor</td>\n",
       "      <td>22</td>\n",
       "      <td>10</td>\n",
       "      <td>9</td>\n",
       "    </tr>\n",
       "    <tr>\n",
       "      <th>14</th>\n",
       "      <td>2096</td>\n",
       "      <td>Chuck, Lloyd Haney</td>\n",
       "      <td>ChuckL@univ.edu</td>\n",
       "      <td>963.555.5568x2652</td>\n",
       "      <td>963.777.9290</td>\n",
       "      <td>Assistant Professor</td>\n",
       "      <td>25</td>\n",
       "      <td>8</td>\n",
       "      <td>10</td>\n",
       "    </tr>\n",
       "    <tr>\n",
       "      <th>15</th>\n",
       "      <td>1089</td>\n",
       "      <td>Payne, Ladonna</td>\n",
       "      <td>PayneL@univ.edu</td>\n",
       "      <td>963.555.5639</td>\n",
       "      <td>963.777.6469</td>\n",
       "      <td>Professor</td>\n",
       "      <td>24</td>\n",
       "      <td>9</td>\n",
       "      <td>10</td>\n",
       "    </tr>\n",
       "    <tr>\n",
       "      <th>16</th>\n",
       "      <td>2948</td>\n",
       "      <td>Baxter, Johnathan Browning</td>\n",
       "      <td>BaxterJ@univ.edu</td>\n",
       "      <td>963.555.5902</td>\n",
       "      <td>963.777.8336</td>\n",
       "      <td>Research Professor</td>\n",
       "      <td>25</td>\n",
       "      <td>7</td>\n",
       "      <td>10</td>\n",
       "    </tr>\n",
       "    <tr>\n",
       "      <th>17</th>\n",
       "      <td>4539</td>\n",
       "      <td>Weiss, Gilbert</td>\n",
       "      <td>WeissG@univ.edu</td>\n",
       "      <td>963.555.5969</td>\n",
       "      <td>963.777.4975</td>\n",
       "      <td>Professor</td>\n",
       "      <td>25</td>\n",
       "      <td>8</td>\n",
       "      <td>10</td>\n",
       "    </tr>\n",
       "  </tbody>\n",
       "</table>\n",
       "</div>"
      ],
      "text/plain": [
       "    person_ID                        name               email  \\\n",
       "0        3130             Burks, Rosella      BurksR@univ.edu   \n",
       "1        3297              Avila, Damien      AvilaD@univ.edu   \n",
       "2        3547               Olsen, Robin      OlsenR@univ.edu   \n",
       "3        1538         Moises, Edgar Estes    MoisesE@univ.edu   \n",
       "4        2941         Brian, Heath Pruitt     BrianH@univ.edu   \n",
       "5        2401         Claude, Elvin Haney    ClaudeE@univ.edu   \n",
       "6        2070             Mosley, Edmund     MosleyE@univ.edu   \n",
       "7        2561        Derek, Antoine Mccoy     DerekA@univ.edu   \n",
       "8        1625            Hawkins, Callie    HawkinsC@univ.edu   \n",
       "9        1307               Pate, Andrea       PateA@univ.edu   \n",
       "10       2342                Austin, Liz     AustinL@univ.edu   \n",
       "11       2755       Kendrick, Reba Alford  KendrickR@univ.edu   \n",
       "12       4150             Sims, Angelina       SimsA@univ.edu   \n",
       "13       3544          Mullins, Kimberly    MullinsK@univ.edu   \n",
       "14       2096          Chuck, Lloyd Haney     ChuckL@univ.edu   \n",
       "15       1089             Payne, Ladonna      PayneL@univ.edu   \n",
       "16       2948  Baxter, Johnathan Browning    BaxterJ@univ.edu   \n",
       "17       4539             Weiss, Gilbert      WeissG@univ.edu   \n",
       "\n",
       "                phone           fax                title  age  maths  physics  \n",
       "0        963.555.1253  963.777.4065            Professor   25     10       10  \n",
       "1        963.555.1352  963.777.7914           Professor    23      9       10  \n",
       "2        963.555.1378  963.777.9262  Assistant Professor   21      7       10  \n",
       "3   963.555.2731x3565  963.777.8264            Professor   18      8        9  \n",
       "4        963.555.2800  963.777.7249   Associate Curator    30      9        8  \n",
       "5        963.555.2902  963.777.9730              Curator   35     10        9  \n",
       "6        963.555.2945  963.777.9285  Assistant Professor   35      7        8  \n",
       "7        963.555.2992  963.777.5454              Curator   35      8       10  \n",
       "8   963.555.3350x6480  963.777.4949            Professor   29      9       10  \n",
       "9        963.555.3723  963.777.5049            Professor   29     10       10  \n",
       "10       963.555.4305  963.777.6143  Assistant Professor   28      9        9  \n",
       "11  963.555.4618x7744  963.777.4371   Associate Curator    23     10       10  \n",
       "12       963.555.5278  963.777.4400            Professor   22     10       10  \n",
       "13  963.555.5471x1017  963.777.9783  Assistant Professor   22     10        9  \n",
       "14  963.555.5568x2652  963.777.9290  Assistant Professor   25      8       10  \n",
       "15       963.555.5639  963.777.6469            Professor   24      9       10  \n",
       "16       963.555.5902  963.777.8336   Research Professor   25      7       10  \n",
       "17       963.555.5969  963.777.4975            Professor   25      8       10  "
      ]
     },
     "execution_count": 1,
     "metadata": {},
     "output_type": "execute_result"
    }
   ],
   "source": [
    "import pandas as pd\n",
    "import random\n",
    "df = pd.read_csv('pp.csv') \n",
    "df"
   ]
  },
  {
   "cell_type": "code",
   "execution_count": 2,
   "metadata": {},
   "outputs": [
    {
     "data": {
      "text/plain": [
       "18"
      ]
     },
     "execution_count": 2,
     "metadata": {},
     "output_type": "execute_result"
    }
   ],
   "source": [
    "# Chiều dài của df:\n",
    "len(df) # = people_df.shape[0]"
   ]
  },
  {
   "cell_type": "code",
   "execution_count": 3,
   "metadata": {},
   "outputs": [
    {
     "name": "stdout",
     "output_type": "stream",
     "text": [
      "<class 'pandas.core.frame.DataFrame'>\n",
      "RangeIndex: 18 entries, 0 to 17\n",
      "Data columns (total 9 columns):\n",
      " #   Column     Non-Null Count  Dtype \n",
      "---  ------     --------------  ----- \n",
      " 0   person_ID  18 non-null     int64 \n",
      " 1   name       18 non-null     object\n",
      " 2   email      18 non-null     object\n",
      " 3   phone      18 non-null     object\n",
      " 4   fax        18 non-null     object\n",
      " 5   title      18 non-null     object\n",
      " 6   age        18 non-null     int64 \n",
      " 7   maths      18 non-null     int64 \n",
      " 8   physics    18 non-null     int64 \n",
      "dtypes: int64(4), object(5)\n",
      "memory usage: 1.4+ KB\n"
     ]
    }
   ],
   "source": [
    "# Xem thông tin:\n",
    "df.info()"
   ]
  },
  {
   "cell_type": "code",
   "execution_count": 4,
   "metadata": {},
   "outputs": [
    {
     "data": {
      "text/plain": [
       "(18, 9)"
      ]
     },
     "execution_count": 4,
     "metadata": {},
     "output_type": "execute_result"
    }
   ],
   "source": [
    "# Kích thước của df:\n",
    "df.shape"
   ]
  },
  {
   "cell_type": "markdown",
   "metadata": {},
   "source": [
    "*Thư viện pandas python cung cấp một số hàm giúp hiểu về cấu trúc, phân bố của dữ liệu.*"
   ]
  },
  {
   "cell_type": "code",
   "execution_count": 5,
   "metadata": {},
   "outputs": [
    {
     "data": {
      "text/plain": [
       "0     25\n",
       "1     23\n",
       "2     21\n",
       "3     18\n",
       "4     30\n",
       "5     35\n",
       "6     35\n",
       "7     35\n",
       "8     29\n",
       "9     29\n",
       "10    28\n",
       "11    23\n",
       "12    22\n",
       "13    22\n",
       "14    25\n",
       "15    24\n",
       "16    25\n",
       "17    25\n",
       "Name: age, dtype: int64"
      ]
     },
     "execution_count": 5,
     "metadata": {},
     "output_type": "execute_result"
    }
   ],
   "source": [
    "df['age']"
   ]
  },
  {
   "cell_type": "markdown",
   "metadata": {},
   "source": [
    "*Sử dụng hàm describe() cho các thống kê cơ bản về dữ liệu:*"
   ]
  },
  {
   "cell_type": "code",
   "execution_count": 6,
   "metadata": {},
   "outputs": [
    {
     "data": {
      "text/html": [
       "<div>\n",
       "<style scoped>\n",
       "    .dataframe tbody tr th:only-of-type {\n",
       "        vertical-align: middle;\n",
       "    }\n",
       "\n",
       "    .dataframe tbody tr th {\n",
       "        vertical-align: top;\n",
       "    }\n",
       "\n",
       "    .dataframe thead th {\n",
       "        text-align: right;\n",
       "    }\n",
       "</style>\n",
       "<table border=\"1\" class=\"dataframe\">\n",
       "  <thead>\n",
       "    <tr style=\"text-align: right;\">\n",
       "      <th></th>\n",
       "      <th>person_ID</th>\n",
       "      <th>age</th>\n",
       "      <th>maths</th>\n",
       "      <th>physics</th>\n",
       "    </tr>\n",
       "  </thead>\n",
       "  <tbody>\n",
       "    <tr>\n",
       "      <th>count</th>\n",
       "      <td>18.000000</td>\n",
       "      <td>18.000000</td>\n",
       "      <td>18.000000</td>\n",
       "      <td>18.000000</td>\n",
       "    </tr>\n",
       "    <tr>\n",
       "      <th>mean</th>\n",
       "      <td>2660.000000</td>\n",
       "      <td>26.333333</td>\n",
       "      <td>8.777778</td>\n",
       "      <td>9.555556</td>\n",
       "    </tr>\n",
       "    <tr>\n",
       "      <th>std</th>\n",
       "      <td>957.617325</td>\n",
       "      <td>5.005879</td>\n",
       "      <td>1.114374</td>\n",
       "      <td>0.704792</td>\n",
       "    </tr>\n",
       "    <tr>\n",
       "      <th>min</th>\n",
       "      <td>1089.000000</td>\n",
       "      <td>18.000000</td>\n",
       "      <td>7.000000</td>\n",
       "      <td>8.000000</td>\n",
       "    </tr>\n",
       "    <tr>\n",
       "      <th>25%</th>\n",
       "      <td>2076.500000</td>\n",
       "      <td>23.000000</td>\n",
       "      <td>8.000000</td>\n",
       "      <td>9.000000</td>\n",
       "    </tr>\n",
       "    <tr>\n",
       "      <th>50%</th>\n",
       "      <td>2658.000000</td>\n",
       "      <td>25.000000</td>\n",
       "      <td>9.000000</td>\n",
       "      <td>10.000000</td>\n",
       "    </tr>\n",
       "    <tr>\n",
       "      <th>75%</th>\n",
       "      <td>3255.250000</td>\n",
       "      <td>29.000000</td>\n",
       "      <td>10.000000</td>\n",
       "      <td>10.000000</td>\n",
       "    </tr>\n",
       "    <tr>\n",
       "      <th>max</th>\n",
       "      <td>4539.000000</td>\n",
       "      <td>35.000000</td>\n",
       "      <td>10.000000</td>\n",
       "      <td>10.000000</td>\n",
       "    </tr>\n",
       "  </tbody>\n",
       "</table>\n",
       "</div>"
      ],
      "text/plain": [
       "         person_ID        age      maths    physics\n",
       "count    18.000000  18.000000  18.000000  18.000000\n",
       "mean   2660.000000  26.333333   8.777778   9.555556\n",
       "std     957.617325   5.005879   1.114374   0.704792\n",
       "min    1089.000000  18.000000   7.000000   8.000000\n",
       "25%    2076.500000  23.000000   8.000000   9.000000\n",
       "50%    2658.000000  25.000000   9.000000  10.000000\n",
       "75%    3255.250000  29.000000  10.000000  10.000000\n",
       "max    4539.000000  35.000000  10.000000  10.000000"
      ]
     },
     "execution_count": 6,
     "metadata": {},
     "output_type": "execute_result"
    }
   ],
   "source": [
    "df.describe()"
   ]
  },
  {
   "cell_type": "markdown",
   "metadata": {},
   "source": [
    "*Xem cụ thể hơn trên từng cột:*"
   ]
  },
  {
   "cell_type": "code",
   "execution_count": 7,
   "metadata": {},
   "outputs": [
    {
     "data": {
      "text/plain": [
       "25    4\n",
       "35    3\n",
       "29    2\n",
       "23    2\n",
       "22    2\n",
       "30    1\n",
       "28    1\n",
       "24    1\n",
       "21    1\n",
       "18    1\n",
       "Name: age, dtype: int64"
      ]
     },
     "execution_count": 7,
     "metadata": {},
     "output_type": "execute_result"
    }
   ],
   "source": [
    "df['age'].value_counts()\n"
   ]
  },
  {
   "cell_type": "markdown",
   "metadata": {},
   "source": [
    "*Vẽ đồ thị xem phân bố giá trị của một trường trong dataframe:* "
   ]
  },
  {
   "cell_type": "code",
   "execution_count": 8,
   "metadata": {},
   "outputs": [
    {
     "data": {
      "text/plain": [
       "<matplotlib.axes._subplots.AxesSubplot at 0x20deb2cc608>"
      ]
     },
     "execution_count": 8,
     "metadata": {},
     "output_type": "execute_result"
    },
    {
     "data": {
      "image/png": "[encoded data removed]",
      "text/plain": [
       "<Figure size 432x288 with 1 Axes>"
      ]
     },
     "metadata": {
      "needs_background": "light"
     },
     "output_type": "display_data"
    }
   ],
   "source": [
    "df['age'].value_counts().plot(kind='bar')"
   ]
  },
  {
   "cell_type": "code",
   "execution_count": null,
   "metadata": {},
   "outputs": [],
   "source": []
  }
 ],
 "metadata": {
  "kernelspec": {
   "display_name": "Python 3",
   "language": "python",
   "name": "python3"
  },
  "language_info": {
   "codemirror_mode": {
    "name": "ipython",
    "version": 3
   },
   "file_extension": ".py",
   "mimetype": "text/x-python",
   "name": "python",
   "nbconvert_exporter": "python",
   "pygments_lexer": "ipython3",
   "version": "3.7.7"
  }
 },
 "nbformat": 4,
 "nbformat_minor": 4
}
