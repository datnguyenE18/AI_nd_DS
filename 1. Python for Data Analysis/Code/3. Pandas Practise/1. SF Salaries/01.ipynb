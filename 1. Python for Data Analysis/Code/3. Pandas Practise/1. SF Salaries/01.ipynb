{
 "cells": [
  {
   "cell_type": "markdown",
   "metadata": {},
   "source": [
    "# SF Salaries"
   ]
  },
  {
   "cell_type": "markdown",
   "metadata": {},
   "source": [
    "**Data:**\n",
    "* CSV: https://drive.google.com/file/d/11y7Qs8PuDdCo4tbAT5hiAjaGAJGMbMyr/view\n",
    "* Kaggle: https://www.kaggle.com/kaggle/sf-salaries"
   ]
  },
  {
   "cell_type": "markdown",
   "metadata": {},
   "source": [
    "**Import pandas**"
   ]
  },
  {
   "cell_type": "code",
   "execution_count": 1,
   "metadata": {},
   "outputs": [],
   "source": [
    "import pandas as pd"
   ]
  },
  {
   "cell_type": "markdown",
   "metadata": {},
   "source": [
    "**Read Salaries.csv as a dataframe called *'sal'***"
   ]
  },
  {
   "cell_type": "code",
   "execution_count": 2,
   "metadata": {},
   "outputs": [],
   "source": [
    "sal = pd.read_csv('Salaries.csv')"
   ]
  },
  {
   "cell_type": "markdown",
   "metadata": {},
   "source": [
    "**Check the head of the DataFrame.**"
   ]
  },
  {
   "cell_type": "code",
   "execution_count": 3,
   "metadata": {},
   "outputs": [
    {
     "data": {
      "text/html": [
       "<div>\n",
       "<style scoped>\n",
       "    .dataframe tbody tr th:only-of-type {\n",
       "        vertical-align: middle;\n",
       "    }\n",
       "\n",
       "    .dataframe tbody tr th {\n",
       "        vertical-align: top;\n",
       "    }\n",
       "\n",
       "    .dataframe thead th {\n",
       "        text-align: right;\n",
       "    }\n",
       "</style>\n",
       "<table border=\"1\" class=\"dataframe\">\n",
       "  <thead>\n",
       "    <tr style=\"text-align: right;\">\n",
       "      <th></th>\n",
       "      <th>Id</th>\n",
       "      <th>EmployeeName</th>\n",
       "      <th>JobTitle</th>\n",
       "      <th>BasePay</th>\n",
       "      <th>OvertimePay</th>\n",
       "      <th>OtherPay</th>\n",
       "      <th>Benefits</th>\n",
       "      <th>TotalPay</th>\n",
       "      <th>TotalPayBenefits</th>\n",
       "      <th>Year</th>\n",
       "      <th>Notes</th>\n",
       "      <th>Agency</th>\n",
       "      <th>Status</th>\n",
       "    </tr>\n",
       "  </thead>\n",
       "  <tbody>\n",
       "    <tr>\n",
       "      <th>0</th>\n",
       "      <td>1</td>\n",
       "      <td>NATHANIEL FORD</td>\n",
       "      <td>GENERAL MANAGER-METROPOLITAN TRANSIT AUTHORITY</td>\n",
       "      <td>167411.18</td>\n",
       "      <td>0.00</td>\n",
       "      <td>400184.25</td>\n",
       "      <td>NaN</td>\n",
       "      <td>567595.43</td>\n",
       "      <td>567595.43</td>\n",
       "      <td>2011</td>\n",
       "      <td>NaN</td>\n",
       "      <td>San Francisco</td>\n",
       "      <td>NaN</td>\n",
       "    </tr>\n",
       "    <tr>\n",
       "      <th>1</th>\n",
       "      <td>2</td>\n",
       "      <td>GARY JIMENEZ</td>\n",
       "      <td>CAPTAIN III (POLICE DEPARTMENT)</td>\n",
       "      <td>155966.02</td>\n",
       "      <td>245131.88</td>\n",
       "      <td>137811.38</td>\n",
       "      <td>NaN</td>\n",
       "      <td>538909.28</td>\n",
       "      <td>538909.28</td>\n",
       "      <td>2011</td>\n",
       "      <td>NaN</td>\n",
       "      <td>San Francisco</td>\n",
       "      <td>NaN</td>\n",
       "    </tr>\n",
       "    <tr>\n",
       "      <th>2</th>\n",
       "      <td>3</td>\n",
       "      <td>ALBERT PARDINI</td>\n",
       "      <td>CAPTAIN III (POLICE DEPARTMENT)</td>\n",
       "      <td>212739.13</td>\n",
       "      <td>106088.18</td>\n",
       "      <td>16452.60</td>\n",
       "      <td>NaN</td>\n",
       "      <td>335279.91</td>\n",
       "      <td>335279.91</td>\n",
       "      <td>2011</td>\n",
       "      <td>NaN</td>\n",
       "      <td>San Francisco</td>\n",
       "      <td>NaN</td>\n",
       "    </tr>\n",
       "    <tr>\n",
       "      <th>3</th>\n",
       "      <td>4</td>\n",
       "      <td>CHRISTOPHER CHONG</td>\n",
       "      <td>WIRE ROPE CABLE MAINTENANCE MECHANIC</td>\n",
       "      <td>77916.00</td>\n",
       "      <td>56120.71</td>\n",
       "      <td>198306.90</td>\n",
       "      <td>NaN</td>\n",
       "      <td>332343.61</td>\n",
       "      <td>332343.61</td>\n",
       "      <td>2011</td>\n",
       "      <td>NaN</td>\n",
       "      <td>San Francisco</td>\n",
       "      <td>NaN</td>\n",
       "    </tr>\n",
       "    <tr>\n",
       "      <th>4</th>\n",
       "      <td>5</td>\n",
       "      <td>PATRICK GARDNER</td>\n",
       "      <td>DEPUTY CHIEF OF DEPARTMENT,(FIRE DEPARTMENT)</td>\n",
       "      <td>134401.60</td>\n",
       "      <td>9737.00</td>\n",
       "      <td>182234.59</td>\n",
       "      <td>NaN</td>\n",
       "      <td>326373.19</td>\n",
       "      <td>326373.19</td>\n",
       "      <td>2011</td>\n",
       "      <td>NaN</td>\n",
       "      <td>San Francisco</td>\n",
       "      <td>NaN</td>\n",
       "    </tr>\n",
       "  </tbody>\n",
       "</table>\n",
       "</div>"
      ],
      "text/plain": [
       "   Id       EmployeeName                                        JobTitle  \\\n",
       "0   1     NATHANIEL FORD  GENERAL MANAGER-METROPOLITAN TRANSIT AUTHORITY   \n",
       "1   2       GARY JIMENEZ                 CAPTAIN III (POLICE DEPARTMENT)   \n",
       "2   3     ALBERT PARDINI                 CAPTAIN III (POLICE DEPARTMENT)   \n",
       "3   4  CHRISTOPHER CHONG            WIRE ROPE CABLE MAINTENANCE MECHANIC   \n",
       "4   5    PATRICK GARDNER    DEPUTY CHIEF OF DEPARTMENT,(FIRE DEPARTMENT)   \n",
       "\n",
       "     BasePay  OvertimePay   OtherPay  Benefits   TotalPay  TotalPayBenefits  \\\n",
       "0  167411.18         0.00  400184.25       NaN  567595.43         567595.43   \n",
       "1  155966.02    245131.88  137811.38       NaN  538909.28         538909.28   \n",
       "2  212739.13    106088.18   16452.60       NaN  335279.91         335279.91   \n",
       "3   77916.00     56120.71  198306.90       NaN  332343.61         332343.61   \n",
       "4  134401.60      9737.00  182234.59       NaN  326373.19         326373.19   \n",
       "\n",
       "   Year  Notes         Agency  Status  \n",
       "0  2011    NaN  San Francisco     NaN  \n",
       "1  2011    NaN  San Francisco     NaN  \n",
       "2  2011    NaN  San Francisco     NaN  \n",
       "3  2011    NaN  San Francisco     NaN  \n",
       "4  2011    NaN  San Francisco     NaN  "
      ]
     },
     "execution_count": 3,
     "metadata": {},
     "output_type": "execute_result"
    }
   ],
   "source": [
    "sal.head()"
   ]
  },
  {
   "cell_type": "markdown",
   "metadata": {},
   "source": [
    "**Chech info to find out how many entries there are**"
   ]
  },
  {
   "cell_type": "code",
   "execution_count": 4,
   "metadata": {},
   "outputs": [
    {
     "name": "stdout",
     "output_type": "stream",
     "text": [
      "<class 'pandas.core.frame.DataFrame'>\n",
      "RangeIndex: 148654 entries, 0 to 148653\n",
      "Data columns (total 13 columns):\n",
      " #   Column            Non-Null Count   Dtype  \n",
      "---  ------            --------------   -----  \n",
      " 0   Id                148654 non-null  int64  \n",
      " 1   EmployeeName      148654 non-null  object \n",
      " 2   JobTitle          148654 non-null  object \n",
      " 3   BasePay           148045 non-null  float64\n",
      " 4   OvertimePay       148650 non-null  float64\n",
      " 5   OtherPay          148650 non-null  float64\n",
      " 6   Benefits          112491 non-null  float64\n",
      " 7   TotalPay          148654 non-null  float64\n",
      " 8   TotalPayBenefits  148654 non-null  float64\n",
      " 9   Year              148654 non-null  int64  \n",
      " 10  Notes             0 non-null       float64\n",
      " 11  Agency            148654 non-null  object \n",
      " 12  Status            0 non-null       float64\n",
      "dtypes: float64(8), int64(2), object(3)\n",
      "memory usage: 14.7+ MB\n"
     ]
    }
   ],
   "source": [
    "sal.info()"
   ]
  },
  {
   "cell_type": "markdown",
   "metadata": {},
   "source": [
    "**What is the average BasePay ?**"
   ]
  },
  {
   "cell_type": "code",
   "execution_count": 5,
   "metadata": {},
   "outputs": [
    {
     "data": {
      "text/plain": [
       "66325.44884050643"
      ]
     },
     "execution_count": 5,
     "metadata": {},
     "output_type": "execute_result"
    }
   ],
   "source": [
    "sal['BasePay'].mean()"
   ]
  },
  {
   "cell_type": "markdown",
   "metadata": {},
   "source": [
    "**What is the highest amount of OvertimePay in the dataset ?**"
   ]
  },
  {
   "cell_type": "code",
   "execution_count": 6,
   "metadata": {},
   "outputs": [
    {
     "data": {
      "text/plain": [
       "245131.88"
      ]
     },
     "execution_count": 6,
     "metadata": {},
     "output_type": "execute_result"
    }
   ],
   "source": [
    "sal['OvertimePay'].max()"
   ]
  },
  {
   "cell_type": "markdown",
   "metadata": {},
   "source": [
    "**What is the job title of  JOSEPH DRISCOLL ?** \n",
    "\n",
    "**Note: Use all caps, otherwise you may get an answer that doesn't match up (there is also a lowercase Joseph Driscoll).**"
   ]
  },
  {
   "cell_type": "code",
   "execution_count": 7,
   "metadata": {},
   "outputs": [
    {
     "data": {
      "text/plain": [
       "24    CAPTAIN, FIRE SUPPRESSION\n",
       "Name: JobTitle, dtype: object"
      ]
     },
     "execution_count": 7,
     "metadata": {},
     "output_type": "execute_result"
    }
   ],
   "source": [
    "sal[sal['EmployeeName'] == 'JOSEPH DRISCOLL'].JobTitle\n",
    "# = sal[sal['EmployeeName'] == 'JOSEPH DRISCOLL']['JobTitle']"
   ]
  },
  {
   "cell_type": "markdown",
   "metadata": {},
   "source": [
    "**How much does JOSEPH DRISCOLL make (including benefits)?**"
   ]
  },
  {
   "cell_type": "code",
   "execution_count": 8,
   "metadata": {},
   "outputs": [
    {
     "data": {
      "text/plain": [
       "24    270324.91\n",
       "Name: TotalPayBenefits, dtype: float64"
      ]
     },
     "execution_count": 8,
     "metadata": {},
     "output_type": "execute_result"
    }
   ],
   "source": [
    "sal[sal['EmployeeName'] == 'JOSEPH DRISCOLL'].TotalPayBenefits\n",
    "# = sal[sal['EmployeeName'] == 'JOSEPH DRISCOLL']['TotalPayBenefits']"
   ]
  },
  {
   "cell_type": "markdown",
   "metadata": {},
   "source": [
    "**What is the name of highest paid person (including benefits)?**"
   ]
  },
  {
   "cell_type": "code",
   "execution_count": 9,
   "metadata": {},
   "outputs": [
    {
     "data": {
      "text/plain": [
       "0    NATHANIEL FORD\n",
       "Name: EmployeeName, dtype: object"
      ]
     },
     "execution_count": 9,
     "metadata": {},
     "output_type": "execute_result"
    }
   ],
   "source": [
    "sal[sal['TotalPayBenefits'] == sal['TotalPayBenefits'].max()].EmployeeName\n",
    "# = sal[sal['TotalPayBenefits'] == sal['TotalPayBenefits'].max()]['EmployeeName']"
   ]
  },
  {
   "cell_type": "code",
   "execution_count": 10,
   "metadata": {},
   "outputs": [
    {
     "data": {
      "text/plain": [
       "'NATHANIEL FORD'"
      ]
     },
     "execution_count": 10,
     "metadata": {},
     "output_type": "execute_result"
    }
   ],
   "source": [
    "# or:\n",
    "sal.loc[sal['TotalPayBenefits'].idxmax()]['EmployeeName']"
   ]
  },
  {
   "cell_type": "markdown",
   "metadata": {},
   "source": [
    "**What is the name of lowest paid person (including benefits)?** \n",
    "\n",
    "**Do you notice something strange about how much he or she is paid?**"
   ]
  },
  {
   "cell_type": "code",
   "execution_count": 11,
   "metadata": {},
   "outputs": [
    {
     "data": {
      "text/html": [
       "<div>\n",
       "<style scoped>\n",
       "    .dataframe tbody tr th:only-of-type {\n",
       "        vertical-align: middle;\n",
       "    }\n",
       "\n",
       "    .dataframe tbody tr th {\n",
       "        vertical-align: top;\n",
       "    }\n",
       "\n",
       "    .dataframe thead th {\n",
       "        text-align: right;\n",
       "    }\n",
       "</style>\n",
       "<table border=\"1\" class=\"dataframe\">\n",
       "  <thead>\n",
       "    <tr style=\"text-align: right;\">\n",
       "      <th></th>\n",
       "      <th>Id</th>\n",
       "      <th>EmployeeName</th>\n",
       "      <th>JobTitle</th>\n",
       "      <th>BasePay</th>\n",
       "      <th>OvertimePay</th>\n",
       "      <th>OtherPay</th>\n",
       "      <th>Benefits</th>\n",
       "      <th>TotalPay</th>\n",
       "      <th>TotalPayBenefits</th>\n",
       "      <th>Year</th>\n",
       "      <th>Notes</th>\n",
       "      <th>Agency</th>\n",
       "      <th>Status</th>\n",
       "    </tr>\n",
       "  </thead>\n",
       "  <tbody>\n",
       "    <tr>\n",
       "      <th>148653</th>\n",
       "      <td>148654</td>\n",
       "      <td>Joe Lopez</td>\n",
       "      <td>Counselor, Log Cabin Ranch</td>\n",
       "      <td>0.0</td>\n",
       "      <td>0.0</td>\n",
       "      <td>-618.13</td>\n",
       "      <td>0.0</td>\n",
       "      <td>-618.13</td>\n",
       "      <td>-618.13</td>\n",
       "      <td>2014</td>\n",
       "      <td>NaN</td>\n",
       "      <td>San Francisco</td>\n",
       "      <td>NaN</td>\n",
       "    </tr>\n",
       "  </tbody>\n",
       "</table>\n",
       "</div>"
      ],
      "text/plain": [
       "            Id EmployeeName                    JobTitle  BasePay  OvertimePay  \\\n",
       "148653  148654    Joe Lopez  Counselor, Log Cabin Ranch      0.0          0.0   \n",
       "\n",
       "        OtherPay  Benefits  TotalPay  TotalPayBenefits  Year  Notes  \\\n",
       "148653   -618.13       0.0   -618.13           -618.13  2014    NaN   \n",
       "\n",
       "               Agency  Status  \n",
       "148653  San Francisco     NaN  "
      ]
     },
     "execution_count": 11,
     "metadata": {},
     "output_type": "execute_result"
    }
   ],
   "source": [
    "sal[sal['TotalPayBenefits'] == sal['TotalPayBenefits'].min()]"
   ]
  },
  {
   "cell_type": "code",
   "execution_count": 12,
   "metadata": {},
   "outputs": [
    {
     "data": {
      "text/html": [
       "<div>\n",
       "<style scoped>\n",
       "    .dataframe tbody tr th:only-of-type {\n",
       "        vertical-align: middle;\n",
       "    }\n",
       "\n",
       "    .dataframe tbody tr th {\n",
       "        vertical-align: top;\n",
       "    }\n",
       "\n",
       "    .dataframe thead th {\n",
       "        text-align: right;\n",
       "    }\n",
       "</style>\n",
       "<table border=\"1\" class=\"dataframe\">\n",
       "  <thead>\n",
       "    <tr style=\"text-align: right;\">\n",
       "      <th></th>\n",
       "      <th>0</th>\n",
       "    </tr>\n",
       "  </thead>\n",
       "  <tbody>\n",
       "    <tr>\n",
       "      <th>Id</th>\n",
       "      <td>1</td>\n",
       "    </tr>\n",
       "    <tr>\n",
       "      <th>EmployeeName</th>\n",
       "      <td>NATHANIEL FORD</td>\n",
       "    </tr>\n",
       "    <tr>\n",
       "      <th>JobTitle</th>\n",
       "      <td>GENERAL MANAGER-METROPOLITAN TRANSIT AUTHORITY</td>\n",
       "    </tr>\n",
       "    <tr>\n",
       "      <th>BasePay</th>\n",
       "      <td>167411</td>\n",
       "    </tr>\n",
       "    <tr>\n",
       "      <th>OvertimePay</th>\n",
       "      <td>0</td>\n",
       "    </tr>\n",
       "    <tr>\n",
       "      <th>OtherPay</th>\n",
       "      <td>400184</td>\n",
       "    </tr>\n",
       "    <tr>\n",
       "      <th>Benefits</th>\n",
       "      <td>NaN</td>\n",
       "    </tr>\n",
       "    <tr>\n",
       "      <th>TotalPay</th>\n",
       "      <td>567595</td>\n",
       "    </tr>\n",
       "    <tr>\n",
       "      <th>TotalPayBenefits</th>\n",
       "      <td>567595</td>\n",
       "    </tr>\n",
       "    <tr>\n",
       "      <th>Year</th>\n",
       "      <td>2011</td>\n",
       "    </tr>\n",
       "    <tr>\n",
       "      <th>Notes</th>\n",
       "      <td>NaN</td>\n",
       "    </tr>\n",
       "    <tr>\n",
       "      <th>Agency</th>\n",
       "      <td>San Francisco</td>\n",
       "    </tr>\n",
       "    <tr>\n",
       "      <th>Status</th>\n",
       "      <td>NaN</td>\n",
       "    </tr>\n",
       "  </tbody>\n",
       "</table>\n",
       "</div>"
      ],
      "text/plain": [
       "                                                               0\n",
       "Id                                                             1\n",
       "EmployeeName                                      NATHANIEL FORD\n",
       "JobTitle          GENERAL MANAGER-METROPOLITAN TRANSIT AUTHORITY\n",
       "BasePay                                                   167411\n",
       "OvertimePay                                                    0\n",
       "OtherPay                                                  400184\n",
       "Benefits                                                     NaN\n",
       "TotalPay                                                  567595\n",
       "TotalPayBenefits                                          567595\n",
       "Year                                                        2011\n",
       "Notes                                                        NaN\n",
       "Agency                                             San Francisco\n",
       "Status                                                       NaN"
      ]
     },
     "execution_count": 12,
     "metadata": {},
     "output_type": "execute_result"
    }
   ],
   "source": [
    "# or:\n",
    "pd.DataFrame(sal.loc[sal['TotalPayBenefits'].idxmax()])"
   ]
  },
  {
   "cell_type": "markdown",
   "metadata": {},
   "source": [
    "**What was the average (mean) BasePay of all employees per year? (2011-2014) ?**"
   ]
  },
  {
   "cell_type": "code",
   "execution_count": 13,
   "metadata": {},
   "outputs": [
    {
     "data": {
      "text/plain": [
       "((2011,\n",
       "            Id        EmployeeName  \\\n",
       "  0          1      NATHANIEL FORD   \n",
       "  1          2        GARY JIMENEZ   \n",
       "  2          3      ALBERT PARDINI   \n",
       "  3          4   CHRISTOPHER CHONG   \n",
       "  4          5     PATRICK GARDNER   \n",
       "  ...      ...                 ...   \n",
       "  36154  36155       SERENA HUGHES   \n",
       "  36155  36156        JOE BROWN JR   \n",
       "  36156  36157      PAULETTE ADAMS   \n",
       "  36157  36158       KAUKAB MOHSIN   \n",
       "  36158  36159  JOSEPHINE MCCREARY   \n",
       "  \n",
       "                                               JobTitle    BasePay  OvertimePay  \\\n",
       "  0      GENERAL MANAGER-METROPOLITAN TRANSIT AUTHORITY  167411.18         0.00   \n",
       "  1                     CAPTAIN III (POLICE DEPARTMENT)  155966.02    245131.88   \n",
       "  2                     CAPTAIN III (POLICE DEPARTMENT)  212739.13    106088.18   \n",
       "  3                WIRE ROPE CABLE MAINTENANCE MECHANIC   77916.00     56120.71   \n",
       "  4        DEPUTY CHIEF OF DEPARTMENT,(FIRE DEPARTMENT)  134401.60      9737.00   \n",
       "  ...                                               ...        ...          ...   \n",
       "  36154              SWIMMING INSTRUCTOR/POOL LIFEGUARD       0.00         0.00   \n",
       "  36155                                TRANSIT OPERATOR       0.00         0.00   \n",
       "  36156      STATIONARY ENGINEER, WATER TREATMENT PLANT       0.00         0.00   \n",
       "  36157                                TRANSIT OPERATOR       0.00         0.00   \n",
       "  36158                                      MANAGER IV       0.00         0.00   \n",
       "  \n",
       "          OtherPay  Benefits   TotalPay  TotalPayBenefits  Year  Notes  \\\n",
       "  0      400184.25       NaN  567595.43         567595.43  2011    NaN   \n",
       "  1      137811.38       NaN  538909.28         538909.28  2011    NaN   \n",
       "  2       16452.60       NaN  335279.91         335279.91  2011    NaN   \n",
       "  3      198306.90       NaN  332343.61         332343.61  2011    NaN   \n",
       "  4      182234.59       NaN  326373.19         326373.19  2011    NaN   \n",
       "  ...          ...       ...        ...               ...   ...    ...   \n",
       "  36154       4.17       NaN       4.17              4.17  2011    NaN   \n",
       "  36155       0.30       NaN       0.30              0.30  2011    NaN   \n",
       "  36156       0.00       NaN       0.00              0.00  2011    NaN   \n",
       "  36157       0.00       NaN       0.00              0.00  2011    NaN   \n",
       "  36158       0.00       NaN       0.00              0.00  2011    NaN   \n",
       "  \n",
       "                Agency  Status  \n",
       "  0      San Francisco     NaN  \n",
       "  1      San Francisco     NaN  \n",
       "  2      San Francisco     NaN  \n",
       "  3      San Francisco     NaN  \n",
       "  4      San Francisco     NaN  \n",
       "  ...              ...     ...  \n",
       "  36154  San Francisco     NaN  \n",
       "  36155  San Francisco     NaN  \n",
       "  36156  San Francisco     NaN  \n",
       "  36157  San Francisco     NaN  \n",
       "  36158  San Francisco     NaN  \n",
       "  \n",
       "  [36159 rows x 13 columns]),\n",
       " (2012,\n",
       "            Id        EmployeeName                      JobTitle    BasePay  \\\n",
       "  36159  36160      Gary Altenberg  Lieutenant, Fire Suppression  128808.87   \n",
       "  36160  36161        Gregory Suhr               Chief of Police  302578.00   \n",
       "  36161  36162          Khoa Trinh   Electronic Maintenance Tech  111921.00   \n",
       "  36162  36163  Joanne Hayes-White        Chief, Fire Department  296943.01   \n",
       "  36163  36164   Frederick Binkley     EMT/Paramedic/Firefighter  126863.19   \n",
       "  ...      ...                 ...                           ...        ...   \n",
       "  72920  72921    Charles Williams                  Junior Clerk     -30.58   \n",
       "  72921  72922        John Carajan               General Laborer       0.00   \n",
       "  72922  72923         John Draper                         Clerk      -9.50   \n",
       "  72923  72924        Cherise Wong                 Special Nurse       0.00   \n",
       "  72924  72925        Donald Clark              Transit Operator       0.00   \n",
       "  \n",
       "         OvertimePay  OtherPay  Benefits   TotalPay  TotalPayBenefits  Year  \\\n",
       "  36159    220909.48  13126.31  44430.12  362844.66         407274.78  2012   \n",
       "  36160         0.00  18974.11  69810.19  321552.11         391362.30  2012   \n",
       "  36161    146415.32  78057.41  53102.29  336393.73         389496.02  2012   \n",
       "  36162         0.00  17816.59  72047.88  314759.60         386807.48  2012   \n",
       "  36163    192424.49  17917.18  44438.25  337204.86         381643.11  2012   \n",
       "  ...            ...       ...       ...        ...               ...   ...   \n",
       "  72920        45.87      0.00      1.36      15.29             16.65  2012   \n",
       "  72921         0.00      0.00     12.90       0.00             12.90  2012   \n",
       "  72922        14.25      0.00      0.42       4.75              5.17  2012   \n",
       "  72923         0.00      3.28      0.88       3.28              4.16  2012   \n",
       "  72924         0.00      1.77      0.14       1.77              1.91  2012   \n",
       "  \n",
       "         Notes         Agency  Status  \n",
       "  36159    NaN  San Francisco     NaN  \n",
       "  36160    NaN  San Francisco     NaN  \n",
       "  36161    NaN  San Francisco     NaN  \n",
       "  36162    NaN  San Francisco     NaN  \n",
       "  36163    NaN  San Francisco     NaN  \n",
       "  ...      ...            ...     ...  \n",
       "  72920    NaN  San Francisco     NaN  \n",
       "  72921    NaN  San Francisco     NaN  \n",
       "  72922    NaN  San Francisco     NaN  \n",
       "  72923    NaN  San Francisco     NaN  \n",
       "  72924    NaN  San Francisco     NaN  \n",
       "  \n",
       "  [36766 rows x 13 columns]),\n",
       " (2013,\n",
       "              Id          EmployeeName                        JobTitle  \\\n",
       "  72925    72926        Gregory P Suhr                 Chief of Police   \n",
       "  72926    72927  Joanne M Hayes-White          Chief, Fire Department   \n",
       "  72927    72928           Samson  Lai  Battalion Chief, Fire Suppress   \n",
       "  72928    72929       Ellen G Moffatt               Asst Med Examiner   \n",
       "  72929    72930         Robert L Shaw    Dep Dir for Investments, Ret   \n",
       "  ...        ...                   ...                             ...   \n",
       "  110526  110527        Arthur L Curry         PS Aide Health Services   \n",
       "  110527  110528         Nereida  Vega                    Senior Clerk   \n",
       "  110528  110529      Timothy E Gibson                Police Officer 3   \n",
       "  110529  110530        Mark E Laherty                Police Officer 3   \n",
       "  110530  110531         David P Kucia                Police Officer 3   \n",
       "  \n",
       "            BasePay  OvertimePay  OtherPay  Benefits   TotalPay  \\\n",
       "  72925   319275.01         0.00  20007.06  86533.21  339282.07   \n",
       "  72926   313686.01         0.00  23236.00  85431.39  336922.01   \n",
       "  72927   186236.42    131217.63  29648.27  57064.95  347102.32   \n",
       "  72928   272855.51     23727.91  38954.54  66198.92  335537.96   \n",
       "  72929   315572.01         0.00      0.00  82849.66  315572.01   \n",
       "  ...           ...          ...       ...       ...        ...   \n",
       "  110526        NaN         0.00     10.67      0.00      10.67   \n",
       "  110527        NaN         0.00      5.56      0.00       5.56   \n",
       "  110528        NaN         0.00      0.00     -2.73       0.00   \n",
       "  110529        NaN         0.00      0.00     -8.20       0.00   \n",
       "  110530        NaN         0.00      0.00    -33.89       0.00   \n",
       "  \n",
       "          TotalPayBenefits  Year  Notes         Agency  Status  \n",
       "  72925          425815.28  2013    NaN  San Francisco     NaN  \n",
       "  72926          422353.40  2013    NaN  San Francisco     NaN  \n",
       "  72927          404167.27  2013    NaN  San Francisco     NaN  \n",
       "  72928          401736.88  2013    NaN  San Francisco     NaN  \n",
       "  72929          398421.67  2013    NaN  San Francisco     NaN  \n",
       "  ...                  ...   ...    ...            ...     ...  \n",
       "  110526             10.67  2013    NaN  San Francisco     NaN  \n",
       "  110527              5.56  2013    NaN  San Francisco     NaN  \n",
       "  110528             -2.73  2013    NaN  San Francisco     NaN  \n",
       "  110529             -8.20  2013    NaN  San Francisco     NaN  \n",
       "  110530            -33.89  2013    NaN  San Francisco     NaN  \n",
       "  \n",
       "  [37606 rows x 13 columns]),\n",
       " (2014,\n",
       "              Id          EmployeeName                    JobTitle    BasePay  \\\n",
       "  110531  110532           David Shinn              Deputy Chief 3  129150.01   \n",
       "  110532  110533            Amy P Hart           Asst Med Examiner  318835.49   \n",
       "  110533  110534  William J Coaker Jr.    Chief Investment Officer  257340.00   \n",
       "  110534  110535        Gregory P Suhr             Chief of Police  307450.04   \n",
       "  110535  110536  Joanne M Hayes-White      Chief, Fire Department  302068.00   \n",
       "  ...        ...                   ...                         ...        ...   \n",
       "  148649  148650         Roy I Tillery                   Custodian       0.00   \n",
       "  148650  148651          Not provided                Not provided        NaN   \n",
       "  148651  148652          Not provided                Not provided        NaN   \n",
       "  148652  148653          Not provided                Not provided        NaN   \n",
       "  148653  148654             Joe Lopez  Counselor, Log Cabin Ranch       0.00   \n",
       "  \n",
       "          OvertimePay   OtherPay  Benefits   TotalPay  TotalPayBenefits  Year  \\\n",
       "  110531         0.00  342802.63  38780.04  471952.64         510732.68  2014   \n",
       "  110532     10712.95   60563.54  89540.23  390111.98         479652.21  2014   \n",
       "  110533         0.00   82313.70  96570.66  339653.70         436224.36  2014   \n",
       "  110534         0.00   19266.72  91302.46  326716.76         418019.22  2014   \n",
       "  110535         0.00   24165.44  91201.66  326233.44         417435.10  2014   \n",
       "  ...             ...        ...       ...        ...               ...   ...   \n",
       "  148649         0.00       0.00      0.00       0.00              0.00  2014   \n",
       "  148650          NaN        NaN       NaN       0.00              0.00  2014   \n",
       "  148651          NaN        NaN       NaN       0.00              0.00  2014   \n",
       "  148652          NaN        NaN       NaN       0.00              0.00  2014   \n",
       "  148653         0.00    -618.13      0.00    -618.13           -618.13  2014   \n",
       "  \n",
       "          Notes         Agency  Status  \n",
       "  110531    NaN  San Francisco     NaN  \n",
       "  110532    NaN  San Francisco     NaN  \n",
       "  110533    NaN  San Francisco     NaN  \n",
       "  110534    NaN  San Francisco     NaN  \n",
       "  110535    NaN  San Francisco     NaN  \n",
       "  ...       ...            ...     ...  \n",
       "  148649    NaN  San Francisco     NaN  \n",
       "  148650    NaN  San Francisco     NaN  \n",
       "  148651    NaN  San Francisco     NaN  \n",
       "  148652    NaN  San Francisco     NaN  \n",
       "  148653    NaN  San Francisco     NaN  \n",
       "  \n",
       "  [38123 rows x 13 columns]))"
      ]
     },
     "execution_count": 13,
     "metadata": {},
     "output_type": "execute_result"
    }
   ],
   "source": [
    "ser = sal.groupby('Year')\n",
    "tuple(ser)"
   ]
  },
  {
   "cell_type": "code",
   "execution_count": 14,
   "metadata": {},
   "outputs": [
    {
     "data": {
      "text/plain": [
       "Year\n",
       "2011    63595.956517\n",
       "2012    65436.406857\n",
       "2013    69630.030216\n",
       "2014    66564.421924\n",
       "Name: BasePay, dtype: float64"
      ]
     },
     "execution_count": 14,
     "metadata": {},
     "output_type": "execute_result"
    }
   ],
   "source": [
    "ser.mean().BasePay\n",
    "# = ser.mean()['BasePay']"
   ]
  },
  {
   "cell_type": "markdown",
   "metadata": {},
   "source": [
    "**How many unique job titles are there?**"
   ]
  },
  {
   "cell_type": "code",
   "execution_count": 15,
   "metadata": {},
   "outputs": [
    {
     "data": {
      "text/plain": [
       "2159"
      ]
     },
     "execution_count": 15,
     "metadata": {},
     "output_type": "execute_result"
    }
   ],
   "source": [
    "sal['JobTitle'].nunique()"
   ]
  },
  {
   "cell_type": "markdown",
   "metadata": {},
   "source": [
    "**What are the top 5 most common jobs?**"
   ]
  },
  {
   "cell_type": "code",
   "execution_count": 16,
   "metadata": {},
   "outputs": [
    {
     "data": {
      "text/plain": [
       "Transit Operator                7036\n",
       "Special Nurse                   4389\n",
       "Registered Nurse                3736\n",
       "Public Svc Aide-Public Works    2518\n",
       "Police Officer 3                2421\n",
       "Name: JobTitle, dtype: int64"
      ]
     },
     "execution_count": 16,
     "metadata": {},
     "output_type": "execute_result"
    }
   ],
   "source": [
    "sal['JobTitle'].value_counts().head()"
   ]
  },
  {
   "cell_type": "markdown",
   "metadata": {},
   "source": [
    "**How many Job Titles were represented by only one person in 2013? (e.g. Job Titles with only one occurence in 2013?)**"
   ]
  },
  {
   "cell_type": "code",
   "execution_count": 17,
   "metadata": {},
   "outputs": [
    {
     "data": {
      "text/plain": [
       "202"
      ]
     },
     "execution_count": 17,
     "metadata": {},
     "output_type": "execute_result"
    }
   ],
   "source": [
    "sum(sal[sal['Year'] == 2013].JobTitle.value_counts() == 1)"
   ]
  },
  {
   "cell_type": "markdown",
   "metadata": {},
   "source": [
    "**How many people have the word Chief in their job title?**"
   ]
  },
  {
   "cell_type": "code",
   "execution_count": 18,
   "metadata": {},
   "outputs": [
    {
     "data": {
      "text/plain": [
       "627"
      ]
     },
     "execution_count": 18,
     "metadata": {},
     "output_type": "execute_result"
    }
   ],
   "source": [
    "def chief_string(title):\n",
    "    if 'chief' in title.lower():\n",
    "        return True\n",
    "    else:\n",
    "        return False\n",
    "sum(sal['JobTitle'].apply(lambda x: chief_string(x)))"
   ]
  },
  {
   "cell_type": "markdown",
   "metadata": {},
   "source": [
    "**Bonus: Is there a correlation between length of the Job Title string and Salary?**"
   ]
  },
  {
   "cell_type": "code",
   "execution_count": 19,
   "metadata": {},
   "outputs": [
    {
     "data": {
      "text/html": [
       "<div>\n",
       "<style scoped>\n",
       "    .dataframe tbody tr th:only-of-type {\n",
       "        vertical-align: middle;\n",
       "    }\n",
       "\n",
       "    .dataframe tbody tr th {\n",
       "        vertical-align: top;\n",
       "    }\n",
       "\n",
       "    .dataframe thead th {\n",
       "        text-align: right;\n",
       "    }\n",
       "</style>\n",
       "<table border=\"1\" class=\"dataframe\">\n",
       "  <thead>\n",
       "    <tr style=\"text-align: right;\">\n",
       "      <th></th>\n",
       "      <th>title_len</th>\n",
       "      <th>TotalPayBenefits</th>\n",
       "    </tr>\n",
       "  </thead>\n",
       "  <tbody>\n",
       "    <tr>\n",
       "      <th>title_len</th>\n",
       "      <td>1.000000</td>\n",
       "      <td>-0.036878</td>\n",
       "    </tr>\n",
       "    <tr>\n",
       "      <th>TotalPayBenefits</th>\n",
       "      <td>-0.036878</td>\n",
       "      <td>1.000000</td>\n",
       "    </tr>\n",
       "  </tbody>\n",
       "</table>\n",
       "</div>"
      ],
      "text/plain": [
       "                  title_len  TotalPayBenefits\n",
       "title_len          1.000000         -0.036878\n",
       "TotalPayBenefits  -0.036878          1.000000"
      ]
     },
     "execution_count": 19,
     "metadata": {},
     "output_type": "execute_result"
    }
   ],
   "source": [
    "sal['title_len'] = sal['JobTitle'].apply(len)\n",
    "sal[['title_len','TotalPayBenefits']].corr() # No correlation."
   ]
  }
 ],
 "metadata": {
  "kernelspec": {
   "display_name": "Python 3",
   "language": "python",
   "name": "python3"
  },
  "language_info": {
   "codemirror_mode": {
    "name": "ipython",
    "version": 3
   },
   "file_extension": ".py",
   "mimetype": "text/x-python",
   "name": "python",
   "nbconvert_exporter": "python",
   "pygments_lexer": "ipython3",
   "version": "3.8.3"
  }
 },
 "nbformat": 4,
 "nbformat_minor": 1
}
