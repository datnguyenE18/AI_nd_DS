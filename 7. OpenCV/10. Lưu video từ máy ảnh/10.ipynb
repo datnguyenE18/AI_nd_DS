{
 "cells": [
  {
   "cell_type": "markdown",
   "metadata": {},
   "source": [
    "## Saving a video"
   ]
  },
  {
   "cell_type": "markdown",
   "metadata": {},
   "source": [
    "To save a video in OpenCV cv.VideoWriter() method is used"
   ]
  },
  {
   "cell_type": "markdown",
   "metadata": {},
   "source": [
    "Syntax: **cv2.VideoWriter(filename, fourcc, fps, frameSize)**\n",
    "\n",
    "Parameters:\n",
    "\n",
    "* filename: Input video file\n",
    "* fourcc: 4-character code of codec used to compress the frames\n",
    "* fps: framerate of videostream\n",
    "* framesize: Height and width of frame"
   ]
  },
  {
   "cell_type": "markdown",
   "metadata": {},
   "source": [
    "* **In Fedora:** DIVX, XVID, MJPG, X264, WMV1, WMV2. (XVID is more preferable. MJPG results in high size video. X264 gives very small size video)\n",
    "\n",
    "\n",
    "* **In Windows:** DIVX (More to be tested and added)\n",
    "\n",
    "\n",
    "* **In OSX:** (I don’t have access to OSX. Can some one fill this?)"
   ]
  },
  {
   "cell_type": "markdown",
   "metadata": {},
   "source": [
    "FourCC code is passed as **cv2.VideoWriter_fourcc('M','J','P','G')** or **cv2.VideoWriter_fourcc(*'MJPG')** for MJPG."
   ]
  },
  {
   "cell_type": "code",
   "execution_count": 1,
   "metadata": {},
   "outputs": [],
   "source": [
    "import cv2"
   ]
  },
  {
   "cell_type": "code",
   "execution_count": 2,
   "metadata": {},
   "outputs": [],
   "source": [
    "# Create an object to read from camera \n",
    "vid = cv2.VideoCapture(0)"
   ]
  },
  {
   "cell_type": "code",
   "execution_count": 3,
   "metadata": {},
   "outputs": [],
   "source": [
    "# We need to check if camera is opened previously or not \n",
    "if (vid.isOpened() == False):\n",
    "    print(\"Error reading video file\")"
   ]
  },
  {
   "cell_type": "code",
   "execution_count": 4,
   "metadata": {},
   "outputs": [],
   "source": [
    "# We need to set resolutions. \n",
    "# so, convert them from float to integer.\n",
    "width = int(vid.get(3)) \n",
    "height = int(vid.get(4))\n",
    "\n",
    "size = (width, height) "
   ]
  },
  {
   "cell_type": "code",
   "execution_count": 5,
   "metadata": {},
   "outputs": [],
   "source": [
    "# Below VideoWriter object will create a frame of above defined The output is stored in 'output.mp4' file:\n",
    "res = cv2.VideoWriter('output.mp4', \n",
    "                      cv2.VideoWriter_fourcc(*'DIVX'),\n",
    "                      20, size) "
   ]
  },
  {
   "cell_type": "code",
   "execution_count": 6,
   "metadata": {},
   "outputs": [
    {
     "name": "stdout",
     "output_type": "stream",
     "text": [
      "The video was successfully saved\n"
     ]
    }
   ],
   "source": [
    "while(True): \n",
    "    ret, frame = vid.read()\n",
    "    if ret:\n",
    "        # Write the frame into the file 'output.mp4'\n",
    "        res.write(frame)\n",
    "        \n",
    "        # Display the frame saved in the file \n",
    "        cv2.imshow('Frame', frame)\n",
    "        \n",
    "        # Press 'q' on keyboard to stop the process\n",
    "        if cv2.waitKey(1) & 0xFF == ord('s'): \n",
    "            break\n",
    "\n",
    "# When everything done, release the video capture and video write objects\n",
    "vid.release() \n",
    "res.release()\n",
    "\n",
    "# Closes all the frames \n",
    "cv2.destroyAllWindows() \n",
    "\n",
    "print(\"The video was successfully saved\") "
   ]
  },
  {
   "cell_type": "code",
   "execution_count": null,
   "metadata": {},
   "outputs": [],
   "source": []
  }
 ],
 "metadata": {
  "kernelspec": {
   "display_name": "Python 3",
   "language": "python",
   "name": "python3"
  },
  "language_info": {
   "codemirror_mode": {
    "name": "ipython",
    "version": 3
   },
   "file_extension": ".py",
   "mimetype": "text/x-python",
   "name": "python",
   "nbconvert_exporter": "python",
   "pygments_lexer": "ipython3",
   "version": "3.8.3"
  }
 },
 "nbformat": 4,
 "nbformat_minor": 4
}
