{
 "cells": [
  {
   "cell_type": "code",
   "execution_count": 1,
   "metadata": {},
   "outputs": [],
   "source": [
    "import numpy as np\n",
    "from sklearn.model_selection import train_test_split\n",
    "from sklearn.linear_model import LogisticRegression\n",
    "from sklearn import metrics\n",
    "import matplotlib.pyplot as plt\n",
    "from sklearn.datasets import load_digits\n",
    "import cv2"
   ]
  },
  {
   "cell_type": "code",
   "execution_count": 2,
   "metadata": {},
   "outputs": [],
   "source": [
    "def showDigit(digits, i):\n",
    "    print(digits.data[i])\n",
    "    m = np.reshape(digits.data[i] / 16, (8, 8))\n",
    "    m2 = cv2.resize(m, (320, 320), interpolation=cv2.INTER_NEAREST)\n",
    "    cv2.imshow('digit', m2)\n",
    "    cv2.waitKey(0)"
   ]
  },
  {
   "cell_type": "code",
   "execution_count": 3,
   "metadata": {},
   "outputs": [],
   "source": [
    "digits = load_digits()"
   ]
  },
  {
   "cell_type": "code",
   "execution_count": 4,
   "metadata": {},
   "outputs": [
    {
     "name": "stdout",
     "output_type": "stream",
     "text": [
      "Image Data Shape (1797, 64)\n",
      "Label Data Shape (1797,)\n",
      "[ 0.  0.  5. 13.  9.  1.  0.  0.  0.  0. 13. 15. 10. 15.  5.  0.  0.  3.\n",
      " 15.  2.  0. 11.  8.  0.  0.  4. 12.  0.  0.  8.  8.  0.  0.  5.  8.  0.\n",
      "  0.  9.  8.  0.  0.  4. 11.  0.  1. 12.  7.  0.  0.  2. 14.  5. 10. 12.\n",
      "  0.  0.  0.  0.  6. 13. 10.  0.  0.  0.]\n"
     ]
    }
   ],
   "source": [
    "# Print to show there are 1797 images (8 by 8 images for a dimensionality of 64)\n",
    "print('Image Data Shape', digits.data.shape)\n",
    "# Print to show there are 1797 labels (integers from 0–9)\n",
    "print(\"Label Data Shape\", digits.target.shape)\n",
    "print(digits.data[0])"
   ]
  },
  {
   "cell_type": "code",
   "execution_count": 5,
   "metadata": {},
   "outputs": [
    {
     "name": "stdout",
     "output_type": "stream",
     "text": [
      "[ 0.  0.  5. 13.  9.  1.  0.  0.  0.  0. 13. 15. 10. 15.  5.  0.  0.  3.\n",
      " 15.  2.  0. 11.  8.  0.  0.  4. 12.  0.  0.  8.  8.  0.  0.  5.  8.  0.\n",
      "  0.  9.  8.  0.  0.  4. 11.  0.  1. 12.  7.  0.  0.  2. 14.  5. 10. 12.\n",
      "  0.  0.  0.  0.  6. 13. 10.  0.  0.  0.]\n",
      "[ 0.  0. 11. 12.  0.  0.  0.  0.  0.  2. 16. 16. 16. 13.  0.  0.  0.  3.\n",
      " 16. 12. 10. 14.  0.  0.  0.  1. 16.  1. 12. 15.  0.  0.  0.  0. 13. 16.\n",
      "  9. 15.  2.  0.  0.  0.  0.  3.  0.  9. 11.  0.  0.  0.  0.  0.  9. 15.\n",
      "  4.  0.  0.  0.  9. 12. 13.  3.  0.  0.]\n",
      "[ 0.  0. 12. 10.  0.  0.  0.  0.  0.  0. 14. 16. 16. 14.  0.  0.  0.  0.\n",
      " 13. 16. 15. 10.  1.  0.  0.  0. 11. 16. 16.  7.  0.  0.  0.  0.  0.  4.\n",
      "  7. 16.  7.  0.  0.  0.  0.  0.  4. 16.  9.  0.  0.  0.  5.  4. 12. 16.\n",
      "  4.  0.  0.  0.  9. 16. 16. 10.  0.  0.]\n",
      "[ 0.  0.  7. 15. 13.  1.  0.  0.  0.  8. 13.  6. 15.  4.  0.  0.  0.  2.\n",
      "  1. 13. 13.  0.  0.  0.  0.  0.  2. 15. 11.  1.  0.  0.  0.  0.  0.  1.\n",
      " 12. 12.  1.  0.  0.  0.  0.  0.  1. 10.  8.  0.  0.  0.  8.  4.  5. 14.\n",
      "  9.  0.  0.  0.  7. 13. 13.  9.  0.  0.]\n"
     ]
    }
   ],
   "source": [
    "showDigit(digits, 0)\n",
    "showDigit(digits, 9)\n",
    "showDigit(digits, 5)\n",
    "showDigit(digits, 3)"
   ]
  },
  {
   "cell_type": "code",
   "execution_count": 6,
   "metadata": {},
   "outputs": [
    {
     "name": "stdout",
     "output_type": "stream",
     "text": [
      "[[ 0.00000000e+00 -5.67134713e-03 -1.01777168e-02  9.86724406e-03\n",
      "   5.85835730e-02 -1.01437935e-01 -1.13214204e-01 -1.09919949e-02\n",
      "  -1.18563247e-04 -3.03932923e-02  5.79740708e-02  1.57002516e-01\n",
      "   2.61442238e-02  1.13376699e-01 -7.42652789e-02 -1.59057412e-02\n",
      "  -8.27727709e-05  2.38764239e-02  1.52012246e-01 -7.84663531e-02\n",
      "  -2.96849233e-01  1.32465125e-01  3.87318922e-02 -1.43945363e-03\n",
      "  -4.86180575e-05  1.02330493e-01  1.73745134e-01 -2.63403566e-01\n",
      "  -4.02202218e-01 -2.37822450e-02  1.75064142e-01 -2.49771329e-04\n",
      "   0.00000000e+00  1.54698804e-01  1.15426176e-01 -2.15114291e-01\n",
      "  -3.39509905e-01  3.27132987e-02  1.27008068e-01  0.00000000e+00\n",
      "  -5.87670961e-04  3.13359248e-02  1.96663826e-01 -1.60029835e-01\n",
      "  -1.49671416e-01  1.08519848e-01  5.28023181e-02 -4.82221177e-04\n",
      "  -1.68657191e-03 -2.67647383e-02  8.11462403e-02 -5.63070093e-03\n",
      "   1.43606196e-01  6.80767314e-02 -8.24074802e-03 -8.03189566e-03\n",
      "   0.00000000e+00 -9.33247161e-03 -2.65146642e-02  1.09654798e-01\n",
      "   1.14513898e-02 -6.12608017e-02 -5.48972248e-02 -1.22260896e-02]\n",
      " [ 0.00000000e+00 -6.13553914e-03 -1.46467503e-01  1.25248528e-01\n",
      "  -7.22263291e-01  2.77776310e-01  2.63454715e-02 -1.37697952e-02\n",
      "  -1.48559350e-03 -3.60830576e-01 -3.11593311e-01 -2.85684795e-01\n",
      "   2.48333155e-01 -2.05848592e-01 -1.87757287e-01 -1.62718564e-02\n",
      "   7.41638967e-02  2.17912207e-01 -1.06939912e-02  7.28881160e-01\n",
      "   2.59740216e-01 -2.54655109e-02  1.42506663e-02 -2.58190962e-03\n",
      "   2.21265650e-02 -4.15220658e-02  5.07411133e-02  1.25229323e-01\n",
      "   1.64978124e-01  5.19641351e-02 -2.26045070e-02 -9.67244486e-05\n",
      "   0.00000000e+00  4.67960204e-02  9.19410132e-02 -2.56388949e-01\n",
      "   1.57408700e-01  1.23943463e-01 -2.22307202e-01  0.00000000e+00\n",
      "  -2.16708154e-04 -2.35732763e-01  1.43563078e-01  1.71274760e-01\n",
      "   5.68229626e-02 -2.31014398e-01 -4.04962406e-01 -1.00542958e-03\n",
      "  -1.74856477e-04 -7.17873370e-02 -1.73606938e-01  1.25771669e-01\n",
      "   2.45221133e-01 -7.86547578e-02 -1.28527943e-01  2.05819964e-01\n",
      "   0.00000000e+00  8.80153082e-03 -1.22544877e-01 -5.10620962e-02\n",
      "   1.22980163e-01  8.47319517e-02  5.46599470e-02  2.20803596e-01]\n",
      " [ 0.00000000e+00  1.89208136e-02  2.42928702e-02  5.52196745e-02\n",
      "   8.33095294e-02 -7.10470179e-02 -4.13161313e-03 -3.12553466e-03\n",
      "  -8.08910425e-03  1.91601700e-01  1.21845215e-01 -1.87711813e-01\n",
      "   2.58392357e-01  3.11641030e-02  3.57930015e-02 -3.80301049e-03\n",
      "  -4.11792763e-03 -3.37799613e-02 -9.39386510e-02 -2.44548018e-01\n",
      "   2.56858091e-01 -7.72884741e-02  1.52588753e-01 -1.20781400e-03\n",
      "  -5.30069673e-05 -2.19857028e-01 -5.40439225e-01 -3.96364436e-01\n",
      "  -2.11463855e-01 -1.44900250e-02  3.35839225e-02 -5.81584684e-05\n",
      "   0.00000000e+00 -1.42390681e-01 -3.79779250e-01 -1.46723620e-01\n",
      "  -7.66349038e-03 -2.19768508e-01 -2.24467574e-01  0.00000000e+00\n",
      "  -2.03475432e-04  1.01022249e-01  4.39090557e-02  4.28354702e-01\n",
      "  -3.42170003e-01 -2.96316618e-01 -7.00408763e-02 -1.81094328e-05\n",
      "  -1.46080281e-04  5.76188781e-02  3.52822736e-02  4.83781580e-01\n",
      "   2.76771086e-01  2.35960472e-01  1.21230056e-01  8.62856884e-04\n",
      "   0.00000000e+00  3.05908675e-02  1.75182869e-01  1.08317634e-01\n",
      "   3.86444528e-02  2.80801448e-01  3.87833918e-01  1.47252844e-01]\n",
      " [ 0.00000000e+00  8.47352078e-02 -3.40681626e-02  4.78217697e-02\n",
      "   4.60165962e-01  9.86026133e-02  3.01159707e-03 -6.03052676e-04\n",
      "  -4.95042818e-03  1.12972807e-01  1.29735690e-01  9.92129456e-02\n",
      "   2.96810795e-01  2.64532180e-01  2.29157801e-01 -1.52598701e-02\n",
      "  -2.45151513e-03 -1.24379773e-01 -3.87685880e-01 -4.40704093e-01\n",
      "   4.31153940e-02 -2.74551863e-01 -5.22168375e-02 -1.78082007e-03\n",
      "  -2.90917258e-05 -9.25462163e-02 -3.55909834e-01 -7.93204557e-02\n",
      "   2.89787514e-01 -3.53826803e-01 -2.92133479e-01 -5.81296155e-05\n",
      "   0.00000000e+00 -1.08932720e-01 -1.61339113e-01  5.42766402e-02\n",
      "   7.01324736e-03 -1.75163012e-01  5.54086795e-02  0.00000000e+00\n",
      "  -2.03417266e-04 -5.79189528e-02 -3.26018711e-01 -3.61986541e-01\n",
      "   8.39274198e-02  2.97330151e-01  2.15818382e-01 -5.12185409e-04\n",
      "  -1.45349923e-04 -2.81661970e-02  7.05341264e-02 -1.84310018e-01\n",
      "  -3.62230865e-02  2.00701633e-01  3.75852998e-01 -2.82370033e-02\n",
      "   0.00000000e+00  3.20360988e-02  1.72027880e-01  1.25910058e-02\n",
      "  -1.06314937e-02 -1.22897660e-03  7.82985892e-02 -2.02095916e-01]\n",
      " [ 0.00000000e+00 -1.71708067e-02 -1.34236780e-01 -3.73625564e-01\n",
      "  -1.95176979e-01 -3.70010588e-01 -2.63977916e-01  6.43783156e-02\n",
      "  -3.45988382e-04  8.27896898e-02 -1.96512099e-01 -2.12569672e-01\n",
      "  -3.62283863e-01 -1.73646882e-01 -6.98273954e-02  4.24780650e-02\n",
      "  -3.91720411e-03  2.41600478e-01  7.42633944e-02  6.31231790e-02\n",
      "   8.24055564e-02  5.46679469e-03 -3.56978321e-02  5.08199181e-02\n",
      "   1.33274997e-02  4.95933815e-02  4.64216970e-01  1.28006695e-01\n",
      "   2.78976313e-02  8.28020743e-02  2.70989389e-01  4.98088585e-03\n",
      "   0.00000000e+00  1.69109695e-01  1.27428524e-01 -5.80563891e-02\n",
      "   2.76050799e-01  2.67436856e-01  3.31726251e-01  0.00000000e+00\n",
      "   2.64024083e-03  4.48367614e-01  1.68090778e-02  5.74798892e-01\n",
      "   3.59034118e-01  1.53598793e-01  1.31373381e-01 -5.64647644e-04\n",
      "   4.11626431e-03  1.80213514e-01 -1.70010974e-01  8.95218411e-02\n",
      "   1.12413446e-01 -2.64996270e-01 -2.53174187e-01 -1.08130694e-02\n",
      "   0.00000000e+00 -4.67106889e-02 -7.30880506e-02 -1.47295935e-01\n",
      "  -1.40722033e-01 -1.72350625e-01 -7.27477655e-02 -7.91028625e-03]\n",
      " [ 0.00000000e+00  9.36898500e-02  4.32772997e-01 -1.52618059e-01\n",
      "  -3.58801793e-02  3.47100414e-01  3.92430925e-01 -3.23500820e-02\n",
      "  -1.67037249e-05  4.91996285e-03  1.16935433e-01  2.02341543e-01\n",
      "   6.47925666e-03  5.32224809e-03 -4.68020449e-02 -2.22713376e-02\n",
      "  -1.84385311e-03 -2.44660375e-02  4.90122389e-02  4.68403986e-02\n",
      "  -5.19394509e-01 -2.78728019e-01 -4.53861429e-01 -4.79931253e-03\n",
      "  -9.28955942e-04  1.31546763e-01  1.59150042e-01 -4.18937163e-02\n",
      "   2.26178508e-01 -1.87533742e-01 -1.97972729e-01 -7.40044740e-05\n",
      "   0.00000000e+00  5.56914287e-02  1.05451061e-01 -1.89842149e-01\n",
      "  -2.58145004e-01  7.13089284e-02  2.40950888e-01  0.00000000e+00\n",
      "  -2.03772827e-04 -2.21526337e-01 -2.47235899e-01 -2.25382625e-01\n",
      "   3.32946983e-02  2.30272339e-01 -8.24963207e-02 -4.91826917e-04\n",
      "  -1.46087347e-04 -1.41172435e-01 -8.07460791e-02 -9.59528979e-02\n",
      "  -5.32396148e-03 -4.91288647e-02 -2.13319208e-01 -5.25308024e-03\n",
      "   0.00000000e+00  5.33226377e-02  3.82350789e-01  2.49814949e-01\n",
      "   6.79312612e-02  1.48199446e-02 -2.65866408e-01 -1.20539155e-02]\n",
      " [ 0.00000000e+00 -1.36575185e-02 -1.61499415e-01 -1.29120067e-01\n",
      "  -6.06207086e-02 -1.74638696e-01 -1.15211248e-01 -2.72159710e-03\n",
      "  -1.49288420e-04 -1.34200050e-01 -9.24501148e-02  1.20684428e-02\n",
      "  -3.67399164e-01 -7.17802673e-02 -1.32999362e-02 -2.64205005e-03\n",
      "  -7.70967947e-03 -9.35919614e-02  1.46516979e-01  3.04077880e-02\n",
      "  -2.82298730e-01 -3.07699876e-01 -1.07303106e-01 -1.55332578e-03\n",
      "  -3.85774900e-03  1.09767065e-01  1.29469845e-01  1.40360489e-01\n",
      "  -1.00326124e-01  2.16580296e-02 -1.85598530e-01 -2.09963224e-04\n",
      "   0.00000000e+00  1.73121436e-01  1.61365449e-01  2.85820389e-01\n",
      "  -1.48174628e-02 -7.14046466e-02  1.04069826e-01  0.00000000e+00\n",
      "  -6.10979536e-04 -6.96536827e-02  4.68619091e-01  1.18919037e-01\n",
      "   1.55469131e-01  3.14205166e-02  2.57779018e-01  5.90843173e-03\n",
      "  -1.34939456e-03 -9.23289215e-02  7.91366465e-02 -7.38043182e-03\n",
      "  -2.48990472e-02  2.46677113e-01  7.19612136e-02 -1.41489980e-01\n",
      "   0.00000000e+00 -1.50869407e-02 -1.78634137e-01 -1.35124186e-01\n",
      "   2.51658159e-02  1.13186331e-01  1.99426314e-02 -7.44459506e-02]\n",
      " [ 0.00000000e+00  1.78621098e-02  3.01015239e-02  2.04920435e-01\n",
      "   1.93877727e-01  4.11108358e-02  1.42177577e-01  5.23590275e-02\n",
      "  -1.17974869e-04  4.91763060e-02  9.10383513e-02  7.31191092e-02\n",
      "   2.79052511e-01 -7.41217830e-02  1.47051967e-02  9.10891689e-02\n",
      "  -4.51861589e-05 -2.38878126e-01 -2.18376144e-01 -1.00985953e-01\n",
      "   1.78422852e-01  1.26632766e-01  1.99196974e-01  2.00408855e-03\n",
      "  -3.17843987e-05 -1.62573932e-01 -9.39232558e-02 -3.13984143e-01\n",
      "   7.34520393e-02  2.04760325e-01  2.02300232e-01 -2.65895096e-03\n",
      "   0.00000000e+00  1.31820698e-01  7.62262249e-02 -5.79616477e-03\n",
      "   1.70566446e-01  2.69206191e-01  1.83800703e-01  0.00000000e+00\n",
      "  -2.03459765e-04 -1.38236610e-02  1.01342282e-02  1.30633175e-01\n",
      "   7.14517419e-02 -6.22089696e-02 -1.67256030e-03 -4.79523923e-04\n",
      "  -1.46866948e-04 -3.85902422e-02 -2.33154749e-02  4.67563442e-02\n",
      "  -2.66446599e-01 -3.28933921e-01 -1.00496965e-01 -4.37138831e-03\n",
      "   0.00000000e+00 -4.46314392e-03  4.69163028e-02 -1.50044570e-01\n",
      "  -4.30517176e-01 -2.63942415e-01 -8.17878581e-02 -8.36011442e-03]\n",
      " [ 0.00000000e+00 -8.81747702e-02  1.08928756e-01 -8.47673378e-02\n",
      "   1.44278383e-01 -1.08192536e-02 -2.28112222e-01 -8.96148566e-03\n",
      "   1.55160560e-02 -5.82910636e-02 -2.66551376e-03  9.87557803e-02\n",
      "  -2.89909184e-01  1.51673037e-01 -1.00888887e-02 -9.24504874e-03\n",
      "  -5.35621483e-02  1.06676251e-01  2.47795003e-01 -8.45506565e-02\n",
      "   9.74726013e-02  1.11891261e-01  1.66533462e-01 -2.30271667e-03\n",
      "  -3.02816004e-02 -1.16475875e-01 -1.86619808e-01  3.56791487e-01\n",
      "  -9.93860481e-02  1.97455964e-02 -1.14613431e-03 -1.36919694e-04\n",
      "   0.00000000e+00 -6.57658212e-02  9.41640102e-03  3.79827156e-01\n",
      "   1.14739181e-01 -2.75693016e-01 -3.43127832e-01  0.00000000e+00\n",
      "  -2.07321837e-04  5.89269545e-02  8.00855912e-02  1.55655779e-01\n",
      "   1.54198233e-01  7.93553083e-02  1.71466011e-01 -1.87153774e-03\n",
      "  -1.75581509e-04  1.18352880e-01  1.90087851e-01 -4.21728833e-01\n",
      "  -3.06814323e-01  1.47775730e-01  9.21119805e-02 -2.25064548e-02\n",
      "   0.00000000e+00 -2.19819709e-03 -4.12497441e-01  1.70551443e-02\n",
      "   1.33635466e-01 -4.36855040e-02 -3.56930876e-02 -2.46609279e-02]\n",
      " [ 0.00000000e+00 -8.43979995e-02 -1.09646569e-01  2.97053378e-01\n",
      "   7.37259830e-02 -3.66366818e-02  1.60681632e-01 -4.42138008e-02\n",
      "  -2.42411391e-04  1.42254517e-01  8.56922786e-02  4.34659417e-02\n",
      "  -9.56200877e-02 -4.06707427e-02  1.22384832e-01 -4.81683194e-02\n",
      "  -4.33610047e-04 -7.49695014e-02  4.10948038e-02  8.00025478e-02\n",
      "   1.80527761e-01  5.87277796e-01  7.77774560e-02 -3.71586544e-02\n",
      "  -2.23258310e-04  2.39737414e-01  1.99569019e-01  3.44578322e-01\n",
      "   3.10844292e-02  1.98702656e-01  1.75176941e-02 -1.43826364e-03\n",
      "   0.00000000e+00 -4.14148860e-01 -1.46136487e-01  1.51997376e-01\n",
      "  -1.05642512e-01 -2.25795563e-02 -2.53061808e-01  0.00000000e+00\n",
      "  -2.03435054e-04 -4.09973463e-02 -3.86529339e-01 -8.32237345e-01\n",
      "  -4.22356885e-01 -3.10956972e-01 -2.70066947e-01 -4.82949903e-04\n",
      "  -1.45475355e-04  4.26245994e-02 -8.50767135e-03 -3.08285531e-02\n",
      "  -1.38304843e-01 -1.77477867e-01  4.26028042e-02  1.40200503e-02\n",
      "   0.00000000e+00 -4.69596926e-02  3.68013282e-02 -1.39067432e-02\n",
      "   1.82062155e-01  4.89286463e-02 -2.97427416e-02 -2.63032400e-02]] [ 0.00094676 -0.06318431  0.00082013  0.00369241  0.03911017 -0.0146255\n",
      " -0.00290853  0.00853281  0.05000735 -0.02239129]\n"
     ]
    },
    {
     "name": "stderr",
     "output_type": "stream",
     "text": [
      "C:\\Users\\Dell\\anaconda3\\lib\\site-packages\\sklearn\\linear_model\\_logistic.py:762: ConvergenceWarning: lbfgs failed to converge (status=1):\n",
      "STOP: TOTAL NO. of ITERATIONS REACHED LIMIT.\n",
      "\n",
      "Increase the number of iterations (max_iter) or scale the data as shown in:\n",
      "    https://scikit-learn.org/stable/modules/preprocessing.html\n",
      "Please also refer to the documentation for alternative solver options:\n",
      "    https://scikit-learn.org/stable/modules/linear_model.html#logistic-regression\n",
      "  n_iter_i = _check_optimize_result(\n"
     ]
    }
   ],
   "source": [
    "x_train, x_test, y_train, y_test = train_test_split(digits.data, digits.target)\n",
    "regr = LogisticRegression()\n",
    "regr.fit(x_train, y_train)\n",
    "print(regr.coef_, regr.intercept_)"
   ]
  },
  {
   "cell_type": "code",
   "execution_count": 7,
   "metadata": {},
   "outputs": [
    {
     "name": "stdout",
     "output_type": "stream",
     "text": [
      "95.77777777777777 %\n"
     ]
    }
   ],
   "source": [
    "# Dự đoán\n",
    "y_pred = regr.predict(x_test)\n",
    "\n",
    "# Đánh giá độ chính xác:\n",
    "scr = regr.score(x_test, y_test)\n",
    "print(scr*100, '%')"
   ]
  },
  {
   "cell_type": "code",
   "execution_count": 8,
   "metadata": {},
   "outputs": [
    {
     "data": {
      "image/png": "[encoded data removed]",
      "text/plain": [
       "<Figure size 432x288 with 2 Axes>"
      ]
     },
     "metadata": {
      "needs_background": "light"
     },
     "output_type": "display_data"
    }
   ],
   "source": [
    "disp = metrics.plot_confusion_matrix(regr, x_test, y_test)\n",
    "disp.figure_.suptitle(\"Confusion Matrix\")\n",
    "plt.show()"
   ]
  },
  {
   "cell_type": "code",
   "execution_count": null,
   "metadata": {},
   "outputs": [],
   "source": []
  }
 ],
 "metadata": {
  "kernelspec": {
   "display_name": "Python 3",
   "language": "python",
   "name": "python3"
  },
  "language_info": {
   "codemirror_mode": {
    "name": "ipython",
    "version": 3
   },
   "file_extension": ".py",
   "mimetype": "text/x-python",
   "name": "python",
   "nbconvert_exporter": "python",
   "pygments_lexer": "ipython3",
   "version": "3.8.3"
  }
 },
 "nbformat": 4,
 "nbformat_minor": 4
}
