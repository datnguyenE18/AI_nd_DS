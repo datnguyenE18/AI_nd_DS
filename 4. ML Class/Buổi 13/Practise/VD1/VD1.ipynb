{
 "cells": [
  {
   "cell_type": "code",
   "execution_count": 1,
   "metadata": {},
   "outputs": [],
   "source": [
    "import numpy as np\n",
    "from sklearn.model_selection import train_test_split\n",
    "from sklearn.linear_model import LogisticRegression\n",
    "from sklearn import metrics\n",
    "import matplotlib.pyplot as plt\n",
    "from sklearn.datasets import load_digits\n",
    "import cv2\n",
    "import pandas as pd\n",
    "import csv"
   ]
  },
  {
   "cell_type": "code",
   "execution_count": 2,
   "metadata": {},
   "outputs": [],
   "source": [
    "# Lấy dữ liệu từ file:\n",
    "df = pd.read_csv('ex2data1.csv')\n",
    "X = df[['x1','x2']].values.reshape(-1, 2)\n",
    "Y = df['y'].values.reshape(-1)"
   ]
  },
  {
   "cell_type": "code",
   "execution_count": 3,
   "metadata": {},
   "outputs": [],
   "source": [
    "# Phân chia tập học và tập test \n",
    "x_train, x_test, y_train, y_test = train_test_split(X, Y)\n",
    "\n",
    "#* Mặc định 25% số mẫu là tập test, thay đổi bằng tham số test_size\n",
    "#* o Mặc định là có đảo thứ tự các mẫu khi chia, thay đổi bằng tham số shuffle"
   ]
  },
  {
   "cell_type": "code",
   "execution_count": 4,
   "metadata": {},
   "outputs": [
    {
     "name": "stdout",
     "output_type": "stream",
     "text": [
      "[[0.18195871 0.18718407]] [-22.88362036]\n"
     ]
    }
   ],
   "source": [
    "# Học:\n",
    "regr = LogisticRegression()\n",
    "\n",
    "regr.fit(x_train, y_train)\n",
    "print(regr.coef_, regr.intercept_)"
   ]
  },
  {
   "cell_type": "code",
   "execution_count": 5,
   "metadata": {},
   "outputs": [
    {
     "name": "stdout",
     "output_type": "stream",
     "text": [
      "[[10  0]\n",
      " [ 2 13]]\n"
     ]
    }
   ],
   "source": [
    "# Sử dụng confusion matrix để minh họa kết quả:\n",
    "y_pred = regr.predict(x_test)\n",
    "cm = metrics.confusion_matrix(y_test, y_pred)\n",
    "print(cm)"
   ]
  },
  {
   "cell_type": "code",
   "execution_count": 6,
   "metadata": {},
   "outputs": [
    {
     "data": {
      "image/png": "[encoded data removed]",
      "text/plain": [
       "<Figure size 432x288 with 2 Axes>"
      ]
     },
     "metadata": {
      "needs_background": "light"
     },
     "output_type": "display_data"
    }
   ],
   "source": [
    "# Hiển thị trực quan hình ảnh của confusion matrix:\n",
    "disp = metrics.plot_confusion_matrix(regr, x_test, y_test)\n",
    "disp.figure_.suptitle(\"Confusion Matrix\")\n",
    "plt.show()"
   ]
  },
  {
   "cell_type": "code",
   "execution_count": null,
   "metadata": {},
   "outputs": [],
   "source": []
  }
 ],
 "metadata": {
  "kernelspec": {
   "display_name": "Python 3",
   "language": "python",
   "name": "python3"
  },
  "language_info": {
   "codemirror_mode": {
    "name": "ipython",
    "version": 3
   },
   "file_extension": ".py",
   "mimetype": "text/x-python",
   "name": "python",
   "nbconvert_exporter": "python",
   "pygments_lexer": "ipython3",
   "version": "3.8.3"
  }
 },
 "nbformat": 4,
 "nbformat_minor": 4
}
