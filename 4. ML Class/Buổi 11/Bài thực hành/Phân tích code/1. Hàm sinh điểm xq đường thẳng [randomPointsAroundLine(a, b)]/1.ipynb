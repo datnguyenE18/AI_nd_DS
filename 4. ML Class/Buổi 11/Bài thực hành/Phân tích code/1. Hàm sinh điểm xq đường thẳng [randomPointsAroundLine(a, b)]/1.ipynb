{
 "cells": [
  {
   "cell_type": "code",
   "execution_count": 1,
   "metadata": {},
   "outputs": [],
   "source": [
    "import numpy as np\n",
    "import random"
   ]
  },
  {
   "cell_type": "code",
   "execution_count": 2,
   "metadata": {},
   "outputs": [],
   "source": [
    "# y = ax + b\n",
    "a = 1\n",
    "b = 0 \n",
    "# Ở đây ta lấy pt: y = x ( là một đường thẳng đi qua góc phần tư thứ I)"
   ]
  },
  {
   "cell_type": "code",
   "execution_count": 3,
   "metadata": {},
   "outputs": [
    {
     "data": {
      "text/plain": [
       "(array([[ 0.25858698],\n",
       "        [ 0.22896277],\n",
       "        [-0.58720143],\n",
       "        [ 0.10222646],\n",
       "        [ 0.68833462],\n",
       "        [ 0.62117538],\n",
       "        [ 0.43128333],\n",
       "        [-0.45354113],\n",
       "        [ 0.77548532],\n",
       "        [ 0.11411618],\n",
       "        [ 0.26776035],\n",
       "        [-0.58338454],\n",
       "        [-1.1443034 ],\n",
       "        [-0.50178267],\n",
       "        [-0.16600268],\n",
       "        [ 0.8308092 ],\n",
       "        [-0.64114428],\n",
       "        [-0.21649162],\n",
       "        [ 0.6954573 ],\n",
       "        [ 0.34382733],\n",
       "        [-0.51051318],\n",
       "        [ 0.43274971],\n",
       "        [-0.46057866],\n",
       "        [-0.87694642],\n",
       "        [ 0.27252993],\n",
       "        [ 0.07996263],\n",
       "        [-0.62129843],\n",
       "        [-0.27240106],\n",
       "        [ 0.09379615],\n",
       "        [-0.69509127],\n",
       "        [-0.04290849],\n",
       "        [ 0.11033461],\n",
       "        [-0.23578677],\n",
       "        [ 0.10496393],\n",
       "        [ 0.67949249],\n",
       "        [-0.7704659 ],\n",
       "        [-0.23972969],\n",
       "        [-0.54486038],\n",
       "        [-0.08231825],\n",
       "        [-0.89850942],\n",
       "        [-0.5351779 ],\n",
       "        [-0.35481726],\n",
       "        [-0.77157607],\n",
       "        [ 0.36496854],\n",
       "        [ 0.76214104],\n",
       "        [ 0.53749357],\n",
       "        [ 0.49235321],\n",
       "        [ 0.6290649 ],\n",
       "        [ 0.83968309],\n",
       "        [-0.83021086]]),\n",
       " array([ 0.42994264,  0.10053379, -0.75769724,  0.28247099,  0.45962325,\n",
       "         0.31476876,  0.59820507, -0.51163377,  0.82826306,  0.09638341,\n",
       "         0.35821607, -0.22537094, -1.1617536 , -0.47548231,  0.08227768,\n",
       "         0.95119366, -0.69156621, -0.18521133,  0.93867831,  0.54199513,\n",
       "        -0.40862819,  0.43731986, -0.39089705, -0.55012943,  0.32732142,\n",
       "        -0.29328158, -0.62001092, -0.25706896,  0.13140427, -0.53233126,\n",
       "         0.01294181,  0.13618841, -0.10503685,  0.12336175,  0.93891464,\n",
       "        -0.49469675, -0.24825255, -0.72601077,  0.13441081, -0.87298449,\n",
       "        -0.3870719 , -0.35401116, -0.73215795,  0.06647699,  0.89103086,\n",
       "         0.37427982,  0.46603678,  0.72310765,  0.89329722, -0.95202283]))"
      ]
     },
     "execution_count": 3,
     "metadata": {},
     "output_type": "execute_result"
    }
   ],
   "source": [
    "# Bộ các điểm (Xi, Yi) nằm xung quanh đường thẳng y = ax + b:\n",
    "X = []\n",
    "Y = []\n",
    "\n",
    "for i in range(50): \n",
    "    # Sinh ngẫu nhiên các điểm nằm trên đường thẳng y = ax + b\n",
    "    x = random.uniform(-1, 1) # lấy ngẫu nhiên điểm x trong khoảng -1 -> 1\n",
    "    y = a*x + b # Tính y theo x đã sinh ngẫu nhiên ở trên\n",
    "    \n",
    "    # Lấy ngẫu nhiên các điểm nằm xung quanh đường thẳng y = ax + b dựa theo các điểm \n",
    "    # năm trên đường thẳng đã sinh ở trên bằng cách Cộng/Trừ đi một số ngẫu nhiên:\n",
    "    X.append(x + random.uniform(-0.2, 0.2))\n",
    "    Y.append(y + random.uniform(-0.2, 0.2))\n",
    "\n",
    "np.array(X).reshape((-1, 1)), np.array(Y)"
   ]
  },
  {
   "cell_type": "code",
   "execution_count": null,
   "metadata": {},
   "outputs": [],
   "source": []
  }
 ],
 "metadata": {
  "kernelspec": {
   "display_name": "Python 3",
   "language": "python",
   "name": "python3"
  },
  "language_info": {
   "codemirror_mode": {
    "name": "ipython",
    "version": 3
   },
   "file_extension": ".py",
   "mimetype": "text/x-python",
   "name": "python",
   "nbconvert_exporter": "python",
   "pygments_lexer": "ipython3",
   "version": "3.8.3"
  }
 },
 "nbformat": 4,
 "nbformat_minor": 4
}
