{
 "cells": [
  {
   "cell_type": "code",
   "execution_count": 1,
   "metadata": {},
   "outputs": [],
   "source": [
    "import numpy as np\n",
    "import random\n",
    "import matplotlib.pyplot as plt\n",
    "from sklearn import linear_model"
   ]
  },
  {
   "cell_type": "code",
   "execution_count": 2,
   "metadata": {},
   "outputs": [],
   "source": [
    "def randomPointsAroundLine(a, b):\n",
    "    X = []\n",
    "    Y = []\n",
    "    for i in range(50):\n",
    "        x = random.uniform(-1, 1)\n",
    "        y = a*x + b\n",
    "        X.append(x + random.uniform(-0.2, 0.2))\n",
    "        Y.append(y + random.uniform(-0.2, 0.2))\n",
    "    return np.array(X).reshape((-1, 1)), np.array(Y)"
   ]
  },
  {
   "cell_type": "code",
   "execution_count": 3,
   "metadata": {},
   "outputs": [],
   "source": [
    "# Sinh tập dữ liệu:\n",
    "X, Y = randomPointsAroundLine(1, 0)"
   ]
  },
  {
   "cell_type": "code",
   "execution_count": 4,
   "metadata": {},
   "outputs": [
    {
     "data": {
      "text/plain": [
       "array([[ 0.95795913],\n",
       "       [-0.76904397],\n",
       "       [-1.02902744],\n",
       "       [ 0.15107142],\n",
       "       [-0.36038891],\n",
       "       [-1.0989583 ],\n",
       "       [-0.79239611],\n",
       "       [-0.80101004],\n",
       "       [ 0.87190236],\n",
       "       [-0.33505682],\n",
       "       [-1.0210343 ],\n",
       "       [ 0.58102746],\n",
       "       [ 0.12329661],\n",
       "       [ 0.69432196],\n",
       "       [ 0.2412707 ],\n",
       "       [ 0.03313894],\n",
       "       [ 0.90320345],\n",
       "       [-0.41982641],\n",
       "       [ 0.64415072],\n",
       "       [ 0.58210206],\n",
       "       [ 0.02546557],\n",
       "       [-0.70459361],\n",
       "       [-0.0948182 ],\n",
       "       [ 0.21966023],\n",
       "       [-0.14904596],\n",
       "       [-0.17200678],\n",
       "       [ 0.82272737],\n",
       "       [ 0.72129133],\n",
       "       [-0.28816066],\n",
       "       [ 0.93270211],\n",
       "       [ 0.77786703],\n",
       "       [-0.10995913],\n",
       "       [-0.86765392],\n",
       "       [ 0.292585  ],\n",
       "       [-0.40945253],\n",
       "       [ 0.04581661],\n",
       "       [ 0.49054766],\n",
       "       [-0.76738407],\n",
       "       [-0.51406236],\n",
       "       [-0.62568654],\n",
       "       [-0.37539475],\n",
       "       [ 0.38610385],\n",
       "       [-0.81607459],\n",
       "       [-0.31686292],\n",
       "       [-0.26914533],\n",
       "       [ 0.25334428],\n",
       "       [-1.01552497],\n",
       "       [-0.84996846],\n",
       "       [ 0.38829597],\n",
       "       [-0.56776033]])"
      ]
     },
     "execution_count": 4,
     "metadata": {},
     "output_type": "execute_result"
    }
   ],
   "source": [
    "X"
   ]
  },
  {
   "cell_type": "code",
   "execution_count": 5,
   "metadata": {},
   "outputs": [
    {
     "data": {
      "text/plain": [
       "array([ 1.08440927, -0.88842693, -1.00241801,  0.2529525 , -0.37974649,\n",
       "       -0.86860495, -0.99384692, -0.80417245,  0.84725365, -0.17180249,\n",
       "       -0.83758748,  0.42923883,  0.41890479,  0.88823203,  0.32586347,\n",
       "        0.13545932,  0.94850742, -0.51551108,  0.59953878,  0.80788484,\n",
       "        0.24345728, -0.65199272, -0.08445745,  0.34750855, -0.27490369,\n",
       "       -0.17884729,  0.79859968,  0.43853085, -0.44459344,  0.73451068,\n",
       "        0.85933383, -0.1896798 , -0.59761981,  0.13702687, -0.44371196,\n",
       "       -0.01249293,  0.49362425, -0.62046177, -0.16552994, -0.45121424,\n",
       "       -0.15026112,  0.43190536, -0.75517337, -0.31185227, -0.20838694,\n",
       "        0.2789711 , -1.02801984, -0.97436443,  0.37150187, -0.70716319])"
      ]
     },
     "execution_count": 5,
     "metadata": {},
     "output_type": "execute_result"
    }
   ],
   "source": [
    "Y"
   ]
  },
  {
   "cell_type": "code",
   "execution_count": 6,
   "metadata": {},
   "outputs": [],
   "source": [
    "# Phân chia thành tập học và tập test (Split the data into training/testing sets)\n",
    "x_train = X[:-20] # 20 dữ liệu đầu tiên trong tổng số 50\n",
    "x_test = X[-20:] # 20 dữ liệu cuối trong tổng số 50\n",
    "\n",
    "y_train = Y[:-20] # tương tự như x\n",
    "y_test = Y[-20:]"
   ]
  },
  {
   "cell_type": "code",
   "execution_count": 7,
   "metadata": {},
   "outputs": [
    {
     "data": {
      "text/plain": [
       "array([[ 0.95795913],\n",
       "       [-0.76904397],\n",
       "       [-1.02902744],\n",
       "       [ 0.15107142],\n",
       "       [-0.36038891],\n",
       "       [-1.0989583 ],\n",
       "       [-0.79239611],\n",
       "       [-0.80101004],\n",
       "       [ 0.87190236],\n",
       "       [-0.33505682],\n",
       "       [-1.0210343 ],\n",
       "       [ 0.58102746],\n",
       "       [ 0.12329661],\n",
       "       [ 0.69432196],\n",
       "       [ 0.2412707 ],\n",
       "       [ 0.03313894],\n",
       "       [ 0.90320345],\n",
       "       [-0.41982641],\n",
       "       [ 0.64415072],\n",
       "       [ 0.58210206],\n",
       "       [ 0.02546557],\n",
       "       [-0.70459361],\n",
       "       [-0.0948182 ],\n",
       "       [ 0.21966023],\n",
       "       [-0.14904596],\n",
       "       [-0.17200678],\n",
       "       [ 0.82272737],\n",
       "       [ 0.72129133],\n",
       "       [-0.28816066],\n",
       "       [ 0.93270211]])"
      ]
     },
     "execution_count": 7,
     "metadata": {},
     "output_type": "execute_result"
    }
   ],
   "source": [
    "x_train"
   ]
  },
  {
   "cell_type": "code",
   "execution_count": 8,
   "metadata": {},
   "outputs": [
    {
     "data": {
      "text/plain": [
       "array([[ 0.77786703],\n",
       "       [-0.10995913],\n",
       "       [-0.86765392],\n",
       "       [ 0.292585  ],\n",
       "       [-0.40945253],\n",
       "       [ 0.04581661],\n",
       "       [ 0.49054766],\n",
       "       [-0.76738407],\n",
       "       [-0.51406236],\n",
       "       [-0.62568654],\n",
       "       [-0.37539475],\n",
       "       [ 0.38610385],\n",
       "       [-0.81607459],\n",
       "       [-0.31686292],\n",
       "       [-0.26914533],\n",
       "       [ 0.25334428],\n",
       "       [-1.01552497],\n",
       "       [-0.84996846],\n",
       "       [ 0.38829597],\n",
       "       [-0.56776033]])"
      ]
     },
     "execution_count": 8,
     "metadata": {},
     "output_type": "execute_result"
    }
   ],
   "source": [
    "x_test"
   ]
  },
  {
   "cell_type": "code",
   "execution_count": 9,
   "metadata": {},
   "outputs": [
    {
     "data": {
      "image/png": "[encoded data removed]",
      "text/plain": [
       "<Figure size 432x288 with 1 Axes>"
      ]
     },
     "metadata": {
      "needs_background": "light"
     },
     "output_type": "display_data"
    }
   ],
   "source": [
    "# Vẽ minh họa với matplotlib\n",
    "plt.scatter(x_train, y_train, color='green') # bộ học\n",
    "plt.scatter(x_test, y_test, color='black') # bộ test\n",
    "\n",
    "# plt.xticks(())\n",
    "# plt.yticks(())\n",
    "\n",
    "plt.show()"
   ]
  },
  {
   "cell_type": "code",
   "execution_count": 10,
   "metadata": {},
   "outputs": [],
   "source": [
    "# Tạo đối tượng LinearRegression (Create linear regression object)\n",
    "regr = linear_model.LinearRegression()"
   ]
  },
  {
   "cell_type": "code",
   "execution_count": 11,
   "metadata": {},
   "outputs": [
    {
     "data": {
      "text/plain": [
       "LinearRegression()"
      ]
     },
     "execution_count": 11,
     "metadata": {},
     "output_type": "execute_result"
    }
   ],
   "source": [
    "# Học mô hình (Train the model using the training sets):\n",
    "regr.fit(x_train, y_train)"
   ]
  },
  {
   "cell_type": "code",
   "execution_count": 12,
   "metadata": {},
   "outputs": [
    {
     "name": "stdout",
     "output_type": "stream",
     "text": [
      "[0.98275193] 0.02473739865172364\n"
     ]
    }
   ],
   "source": [
    "# In tham số đã học được:\n",
    "# f(x1,..,xn) = a0 + a1*x1 + a2*x2 + … +  an*xn (y = ax + b)\n",
    "    # coef_ là [a1, a2,..,an] (~ a)\n",
    "    # intercept_ là a0        (~ b)\n",
    "print(regr.coef_, regr.intercept_)"
   ]
  },
  {
   "cell_type": "code",
   "execution_count": null,
   "metadata": {},
   "outputs": [],
   "source": []
  }
 ],
 "metadata": {
  "kernelspec": {
   "display_name": "Python 3",
   "language": "python",
   "name": "python3"
  },
  "language_info": {
   "codemirror_mode": {
    "name": "ipython",
    "version": 3
   },
   "file_extension": ".py",
   "mimetype": "text/x-python",
   "name": "python",
   "nbconvert_exporter": "python",
   "pygments_lexer": "ipython3",
   "version": "3.8.3"
  }
 },
 "nbformat": 4,
 "nbformat_minor": 4
}
