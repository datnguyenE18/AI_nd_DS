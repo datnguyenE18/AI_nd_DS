{
 "cells": [
  {
   "cell_type": "code",
   "execution_count": 1,
   "metadata": {},
   "outputs": [],
   "source": [
    "import numpy as np\n",
    "import random\n",
    "import matplotlib.pyplot as plt\n",
    "from sklearn import linear_model\n",
    "from sklearn.metrics import mean_squared_error, r2_score"
   ]
  },
  {
   "cell_type": "code",
   "execution_count": 2,
   "metadata": {},
   "outputs": [
    {
     "data": {
      "image/png": "[encoded data removed]",
      "text/plain": [
       "<Figure size 432x288 with 1 Axes>"
      ]
     },
     "metadata": {
      "needs_background": "light"
     },
     "output_type": "display_data"
    },
    {
     "name": "stdout",
     "output_type": "stream",
     "text": [
      "[0.88894891] 0.02634933034364268\n"
     ]
    }
   ],
   "source": [
    "def randomPointsAroundLine(a, b):\n",
    "    X = []\n",
    "    Y = []\n",
    "    for i in range(50):\n",
    "        x = random.uniform(-1, 1)\n",
    "        y = a*x + b\n",
    "        X.append(x + random.uniform(-0.2, 0.2))\n",
    "        Y.append(y + random.uniform(-0.2, 0.2))\n",
    "    return np.array(X).reshape((-1, 1)), np.array(Y)\n",
    "\n",
    "X, Y = randomPointsAroundLine(1, 0)\n",
    "x_train = X[:-20]\n",
    "x_test = X[-20:]\n",
    "\n",
    "y_train = Y[:-20]\n",
    "y_test = Y[-20:]\n",
    "\n",
    "plt.scatter(x_train, y_train, color='blue')\n",
    "plt.scatter(x_test, y_test, color='black')\n",
    "plt.show()\n",
    "\n",
    "regr = linear_model.LinearRegression()\n",
    "regr.fit(x_train, y_train)\n",
    "print(regr.coef_, regr.intercept_)"
   ]
  },
  {
   "cell_type": "markdown",
   "metadata": {},
   "source": [
    "**Thực hiện đánh giá kết quả:**"
   ]
  },
  {
   "cell_type": "code",
   "execution_count": 3,
   "metadata": {},
   "outputs": [],
   "source": [
    "# Tính các giá trị y ước lượng:\n",
    "y_pred = regr.predict(x_test)"
   ]
  },
  {
   "cell_type": "markdown",
   "metadata": {},
   "source": [
    "y_test là đầu ra chính xác của x_test.\n",
    "y_pred là giá trị ước lượng của x_test. (Nếu y_pred càng giống y_test thì KQ càng chính xác )"
   ]
  },
  {
   "cell_type": "code",
   "execution_count": 4,
   "metadata": {},
   "outputs": [
    {
     "name": "stdout",
     "output_type": "stream",
     "text": [
      "Mean squared error: 0.034238\n"
     ]
    }
   ],
   "source": [
    "# Việc đánh giá chất lượng chính là so sánh y_pred với y_test\n",
    "# Tính sai số:\n",
    "print('Mean squared error: %2f' % mean_squared_error(y_test, y_pred))"
   ]
  },
  {
   "cell_type": "code",
   "execution_count": 5,
   "metadata": {},
   "outputs": [
    {
     "name": "stdout",
     "output_type": "stream",
     "text": [
      "Coefficient of determination: 0.91\n"
     ]
    }
   ],
   "source": [
    "# Hệ số xác định (The coefficient of determination- 1 is perfect prediction):\n",
    "print('Coefficient of determination: %.2f' % r2_score(y_test, y_pred))"
   ]
  },
  {
   "cell_type": "code",
   "execution_count": 6,
   "metadata": {},
   "outputs": [
    {
     "data": {
      "image/png": "[encoded data removed]",
      "text/plain": [
       "<Figure size 432x288 with 1 Axes>"
      ]
     },
     "metadata": {
      "needs_background": "light"
     },
     "output_type": "display_data"
    }
   ],
   "source": [
    "plt.scatter(x_train, y_train, color='green') # Bộ học\n",
    "plt.scatter(x_test, y_test, color='black') # Bộ test\n",
    "plt.scatter(x_test, y_pred, color='blue') \n",
    "plt.plot(x_test, y_pred, color='blue', linewidth = 3)\n",
    "\n",
    "# plt.xticks(())\n",
    "# plt.yticks(())\n",
    "\n",
    "plt.show()"
   ]
  },
  {
   "cell_type": "code",
   "execution_count": null,
   "metadata": {},
   "outputs": [],
   "source": []
  }
 ],
 "metadata": {
  "kernelspec": {
   "display_name": "Python 3",
   "language": "python",
   "name": "python3"
  },
  "language_info": {
   "codemirror_mode": {
    "name": "ipython",
    "version": 3
   },
   "file_extension": ".py",
   "mimetype": "text/x-python",
   "name": "python",
   "nbconvert_exporter": "python",
   "pygments_lexer": "ipython3",
   "version": "3.8.3"
  }
 },
 "nbformat": 4,
 "nbformat_minor": 4
}
