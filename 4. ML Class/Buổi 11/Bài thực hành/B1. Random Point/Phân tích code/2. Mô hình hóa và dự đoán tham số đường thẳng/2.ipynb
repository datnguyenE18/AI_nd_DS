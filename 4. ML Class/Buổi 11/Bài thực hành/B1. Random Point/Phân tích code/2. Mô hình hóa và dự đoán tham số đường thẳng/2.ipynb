{
 "cells": [
  {
   "cell_type": "code",
   "execution_count": 1,
   "metadata": {},
   "outputs": [],
   "source": [
    "import numpy as np\n",
    "import random\n",
    "import matplotlib.pyplot as plt\n",
    "from sklearn import linear_model"
   ]
  },
  {
   "cell_type": "code",
   "execution_count": 2,
   "metadata": {},
   "outputs": [],
   "source": [
    "def randomPointsAroundLine(a, b):\n",
    "    X = []\n",
    "    Y = []\n",
    "    for i in range(50):\n",
    "        x = random.uniform(-1, 1)\n",
    "        y = a*x + b\n",
    "        X.append(x + random.uniform(-0.2, 0.2))\n",
    "        Y.append(y + random.uniform(-0.2, 0.2))\n",
    "    return np.array(X).reshape((-1, 1)), np.array(Y)"
   ]
  },
  {
   "cell_type": "markdown",
   "metadata": {},
   "source": [
    "**Vì sao phải np.array(X).reshape((-1, 1))**\n",
    "\n",
    "**Python**_ _ _ _ _ _ _ _ _**numpy**\n",
    "\n",
    "[1, 2, 3, 4, 5]_ _ _ _ _[1, 2, 3, 4, 5]\n",
    "\n",
    "mà để thực hiện hồi quy thì x phải là các vector, nghĩa là:\n",
    "\n",
    "**numpy:**\n",
    "\n",
    "[[1], [2], [3], [4], [5]]\n",
    "\n",
    "\n",
    "còn với nhiều chiều thì không cần nữa vì nó sẵn là các vector rồi\n",
    "Ví dụ:\n",
    "\n",
    "**Python**_ _ _ _ _ _ _ _ __ _ _ __ _ _ _**numpy**\n",
    "\n",
    "[[1,2], [3,4], [5, 6]]_ _ _ _ _ _ _ _ _[[1,2], [3,4], [5, 6]]"
   ]
  },
  {
   "cell_type": "code",
   "execution_count": 3,
   "metadata": {},
   "outputs": [],
   "source": [
    "# Sinh tập dữ liệu:\n",
    "X, Y = randomPointsAroundLine(1, 0)"
   ]
  },
  {
   "cell_type": "code",
   "execution_count": 4,
   "metadata": {},
   "outputs": [
    {
     "data": {
      "text/plain": [
       "array([[ 0.99229142],\n",
       "       [-0.72642598],\n",
       "       [-0.91432892],\n",
       "       [ 0.57890283],\n",
       "       [-0.37538798],\n",
       "       [-0.17188183],\n",
       "       [-0.07503869],\n",
       "       [-0.67253516],\n",
       "       [ 0.2345144 ],\n",
       "       [-0.19645802],\n",
       "       [ 0.08025688],\n",
       "       [-0.08814449],\n",
       "       [ 0.80220595],\n",
       "       [-0.10673386],\n",
       "       [ 0.70791685],\n",
       "       [ 0.13034281],\n",
       "       [-0.82260968],\n",
       "       [-0.35788437],\n",
       "       [ 0.74018077],\n",
       "       [-0.53575371],\n",
       "       [-0.37150063],\n",
       "       [ 0.58284883],\n",
       "       [ 0.55083526],\n",
       "       [-0.5280582 ],\n",
       "       [-0.06521505],\n",
       "       [ 0.07401086],\n",
       "       [ 0.33458955],\n",
       "       [ 0.31200886],\n",
       "       [-0.42944838],\n",
       "       [-0.56168754],\n",
       "       [ 0.67074989],\n",
       "       [ 0.87722557],\n",
       "       [ 0.03904771],\n",
       "       [-0.15494138],\n",
       "       [-0.74065147],\n",
       "       [-0.90292853],\n",
       "       [-0.36719385],\n",
       "       [-1.03533138],\n",
       "       [-0.48588486],\n",
       "       [-0.10823495],\n",
       "       [ 1.01290385],\n",
       "       [-0.34141576],\n",
       "       [-0.1754514 ],\n",
       "       [ 0.54353509],\n",
       "       [-0.15659981],\n",
       "       [ 0.46670772],\n",
       "       [ 0.24185404],\n",
       "       [-0.21051871],\n",
       "       [-0.20425806],\n",
       "       [ 0.01499353]])"
      ]
     },
     "execution_count": 4,
     "metadata": {},
     "output_type": "execute_result"
    }
   ],
   "source": [
    "X"
   ]
  },
  {
   "cell_type": "code",
   "execution_count": 5,
   "metadata": {},
   "outputs": [
    {
     "data": {
      "text/plain": [
       "array([ 0.77769284, -0.56819186, -0.88990742,  0.54198951, -0.31211003,\n",
       "       -0.04583538,  0.01845338, -0.79264161,  0.2083467 , -0.13095335,\n",
       "        0.10824447, -0.130601  ,  0.73415261, -0.28075698,  0.50511923,\n",
       "        0.38905187, -0.61244205, -0.47886865,  0.6892864 , -0.43446494,\n",
       "       -0.5409956 ,  0.66866509,  0.67274135, -0.72017958, -0.14576056,\n",
       "        0.1355826 ,  0.36314132,  0.04342384, -0.3437937 , -0.45227836,\n",
       "        0.42846846,  0.66159777,  0.03851416, -0.43344317, -0.40603723,\n",
       "       -0.90521044, -0.48404102, -0.85523379, -0.36239124, -0.22307858,\n",
       "        0.72269522, -0.46850277, -0.2995582 ,  0.54993607, -0.10563081,\n",
       "        0.53311911,  0.08961165, -0.15733072, -0.48238803,  0.01455507])"
      ]
     },
     "execution_count": 5,
     "metadata": {},
     "output_type": "execute_result"
    }
   ],
   "source": [
    "Y"
   ]
  },
  {
   "cell_type": "code",
   "execution_count": 6,
   "metadata": {},
   "outputs": [],
   "source": [
    "# Phân chia thành tập học và tập test (Split the data into training/testing sets)\n",
    "x_train = X[:-20] # 20 dữ liệu đầu tiên trong tổng số 50\n",
    "x_test = X[-20:] # 20 dữ liệu cuối trong tổng số 50\n",
    "\n",
    "y_train = Y[:-20] # tương tự như x\n",
    "y_test = Y[-20:]"
   ]
  },
  {
   "cell_type": "code",
   "execution_count": 7,
   "metadata": {},
   "outputs": [
    {
     "data": {
      "text/plain": [
       "array([[ 0.99229142],\n",
       "       [-0.72642598],\n",
       "       [-0.91432892],\n",
       "       [ 0.57890283],\n",
       "       [-0.37538798],\n",
       "       [-0.17188183],\n",
       "       [-0.07503869],\n",
       "       [-0.67253516],\n",
       "       [ 0.2345144 ],\n",
       "       [-0.19645802],\n",
       "       [ 0.08025688],\n",
       "       [-0.08814449],\n",
       "       [ 0.80220595],\n",
       "       [-0.10673386],\n",
       "       [ 0.70791685],\n",
       "       [ 0.13034281],\n",
       "       [-0.82260968],\n",
       "       [-0.35788437],\n",
       "       [ 0.74018077],\n",
       "       [-0.53575371],\n",
       "       [-0.37150063],\n",
       "       [ 0.58284883],\n",
       "       [ 0.55083526],\n",
       "       [-0.5280582 ],\n",
       "       [-0.06521505],\n",
       "       [ 0.07401086],\n",
       "       [ 0.33458955],\n",
       "       [ 0.31200886],\n",
       "       [-0.42944838],\n",
       "       [-0.56168754]])"
      ]
     },
     "execution_count": 7,
     "metadata": {},
     "output_type": "execute_result"
    }
   ],
   "source": [
    "x_train"
   ]
  },
  {
   "cell_type": "code",
   "execution_count": 8,
   "metadata": {},
   "outputs": [
    {
     "data": {
      "text/plain": [
       "array([[ 0.67074989],\n",
       "       [ 0.87722557],\n",
       "       [ 0.03904771],\n",
       "       [-0.15494138],\n",
       "       [-0.74065147],\n",
       "       [-0.90292853],\n",
       "       [-0.36719385],\n",
       "       [-1.03533138],\n",
       "       [-0.48588486],\n",
       "       [-0.10823495],\n",
       "       [ 1.01290385],\n",
       "       [-0.34141576],\n",
       "       [-0.1754514 ],\n",
       "       [ 0.54353509],\n",
       "       [-0.15659981],\n",
       "       [ 0.46670772],\n",
       "       [ 0.24185404],\n",
       "       [-0.21051871],\n",
       "       [-0.20425806],\n",
       "       [ 0.01499353]])"
      ]
     },
     "execution_count": 8,
     "metadata": {},
     "output_type": "execute_result"
    }
   ],
   "source": [
    "x_test"
   ]
  },
  {
   "cell_type": "code",
   "execution_count": 9,
   "metadata": {},
   "outputs": [
    {
     "data": {
      "image/png": "[encoded data removed]",
      "text/plain": [
       "<Figure size 432x288 with 1 Axes>"
      ]
     },
     "metadata": {
      "needs_background": "light"
     },
     "output_type": "display_data"
    }
   ],
   "source": [
    "# Vẽ minh họa với matplotlib\n",
    "plt.scatter(x_train, y_train, color='green') # bộ học\n",
    "plt.scatter(x_test, y_test, color='black') # bộ test\n",
    "\n",
    "# plt.xticks(())\n",
    "# plt.yticks(())\n",
    "\n",
    "plt.show()"
   ]
  },
  {
   "cell_type": "code",
   "execution_count": 10,
   "metadata": {},
   "outputs": [],
   "source": [
    "# Tạo đối tượng LinearRegression (Create linear regression object)\n",
    "regr = linear_model.LinearRegression()"
   ]
  },
  {
   "cell_type": "code",
   "execution_count": 11,
   "metadata": {},
   "outputs": [
    {
     "data": {
      "text/plain": [
       "LinearRegression()"
      ]
     },
     "execution_count": 11,
     "metadata": {},
     "output_type": "execute_result"
    }
   ],
   "source": [
    "# Học mô hình (Train the model using the training sets):\n",
    "regr.fit(x_train, y_train)"
   ]
  },
  {
   "cell_type": "code",
   "execution_count": 12,
   "metadata": {},
   "outputs": [
    {
     "name": "stdout",
     "output_type": "stream",
     "text": [
      "[0.9237374] -0.007089181757012102\n"
     ]
    }
   ],
   "source": [
    "# In tham số đã học được:\n",
    "# f(x1,..,xn) = a0 + a1*x1 + a2*x2 + … +  an*xn (y = ax + b)\n",
    "    # coef_ là [a1, a2,..,an] (~ a)\n",
    "    # intercept_ là a0        (~ b)\n",
    "print(regr.coef_, regr.intercept_)"
   ]
  },
  {
   "cell_type": "code",
   "execution_count": null,
   "metadata": {},
   "outputs": [],
   "source": []
  }
 ],
 "metadata": {
  "kernelspec": {
   "display_name": "Python 3",
   "language": "python",
   "name": "python3"
  },
  "language_info": {
   "codemirror_mode": {
    "name": "ipython",
    "version": 3
   },
   "file_extension": ".py",
   "mimetype": "text/x-python",
   "name": "python",
   "nbconvert_exporter": "python",
   "pygments_lexer": "ipython3",
   "version": "3.8.3"
  }
 },
 "nbformat": 4,
 "nbformat_minor": 4
}
