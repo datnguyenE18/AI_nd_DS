{
 "cells": [
  {
   "cell_type": "markdown",
   "metadata": {},
   "source": [
    "**Import thư viện:**"
   ]
  },
  {
   "cell_type": "code",
   "execution_count": 1,
   "metadata": {},
   "outputs": [],
   "source": [
    "import random\n",
    "import math"
   ]
  },
  {
   "cell_type": "markdown",
   "metadata": {},
   "source": [
    "**Các biến:**"
   ]
  },
  {
   "cell_type": "code",
   "execution_count": 2,
   "metadata": {},
   "outputs": [],
   "source": [
    "# Giả sử giao điểm giữa 2 đường chéo của hình vuông có tọa độ (0, 0)\n",
    "d = 20 # Cạnh hình vuông\n",
    "R = 3 # Bán kính hình tròn\n",
    "tries = 1000000 # Số lần thử\n",
    "inside = 0 \n",
    "x = 5 # Hoành độ tâm hình tròn\n",
    "y = -3 # Tung độ tâm hình tròn\n",
    "lmt = d / 2"
   ]
  },
  {
   "cell_type": "markdown",
   "metadata": {},
   "source": [
    "**Tìm số điểm trong hình tròn:**"
   ]
  },
  {
   "cell_type": "code",
   "execution_count": 3,
   "metadata": {},
   "outputs": [],
   "source": [
    "for i in range(tries):\n",
    "    rand_x = random.uniform(-lmt, lmt) \n",
    "    rand_y = random.uniform(-lmt, lmt) \n",
    "    \n",
    "    if (math.sqrt((rand_x - x)**2 + (rand_y - y)**2) <= R):\n",
    "        inside += 1"
   ]
  },
  {
   "cell_type": "markdown",
   "metadata": {},
   "source": [
    "**Tìm Pi và Show kết quả:**"
   ]
  },
  {
   "cell_type": "code",
   "execution_count": 4,
   "metadata": {},
   "outputs": [
    {
     "name": "stdout",
     "output_type": "stream",
     "text": [
      "3.1568444444444443\n"
     ]
    }
   ],
   "source": [
    "pi = (d**2 * inside / tries) / (R**2)\n",
    "print (pi)"
   ]
  },
  {
   "cell_type": "code",
   "execution_count": null,
   "metadata": {},
   "outputs": [],
   "source": []
  }
 ],
 "metadata": {
  "kernelspec": {
   "display_name": "Python 3",
   "language": "python",
   "name": "python3"
  },
  "language_info": {
   "codemirror_mode": {
    "name": "ipython",
    "version": 3
   },
   "file_extension": ".py",
   "mimetype": "text/x-python",
   "name": "python",
   "nbconvert_exporter": "python",
   "pygments_lexer": "ipython3",
   "version": "3.8.3"
  }
 },
 "nbformat": 4,
 "nbformat_minor": 4
}
