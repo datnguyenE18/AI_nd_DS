{
 "cells": [
  {
   "cell_type": "code",
   "execution_count": 1,
   "metadata": {},
   "outputs": [],
   "source": [
    "import numpy as np\n",
    "import random\n",
    "import matplotlib.pyplot as plt\n",
    "from sklearn import linear_model\n",
    "from sklearn.metrics import mean_squared_error, r2_score\n",
    "import csv"
   ]
  },
  {
   "cell_type": "markdown",
   "metadata": {},
   "source": [
    "**Hàm sinh ngẫu nhiên tập dữ liệu:**"
   ]
  },
  {
   "cell_type": "code",
   "execution_count": 2,
   "metadata": {},
   "outputs": [],
   "source": [
    "# w ~ vector a1*x1 + a2*x2 + … +  an*xn\n",
    "# b ~ a0\n",
    "# n là chính nó\n",
    "def randomPointsAroundHyperlane( w, b, n ):\n",
    "    X = []\n",
    "    Y = []\n",
    "    for i in range( n ):\n",
    "        x = np.random.uniform( -1.0, 1.0, size = w.shape )\n",
    "        y = np.dot( x, w ) + b\n",
    "        \n",
    "        X.append( x + np.random.uniform( -0.1, 0.1, size = x.shape ) )\n",
    "        Y.append( y + np.random.uniform( -0.1, 0.1 ) )\n",
    "    return np.array( X ), np.array( Y )               "
   ]
  },
  {
   "cell_type": "code",
   "execution_count": 3,
   "metadata": {},
   "outputs": [],
   "source": [
    "X = []\n",
    "Y = []\n",
    "w = np.random.uniform( -1.0, 1.0, size=(5) )\n",
    "b = random.uniform( -1, 1 )\n",
    "for i in range( 5 ):\n",
    "    x = np.random.uniform( -1.0, 1.0, size = w.shape ) # len(x) = len(w)\n",
    "    y = np.dot( x, w ) + b\n",
    "        \n",
    "    X.append( x + np.random.uniform( -0.1, 0.1, size = x.shape ) )\n",
    "    Y.append( y + np.random.uniform( -0.1, 0.1 ) )\n",
    "#return np.array( X ), np.array( Y )"
   ]
  },
  {
   "cell_type": "markdown",
   "metadata": {},
   "source": [
    "### w, b, random:"
   ]
  },
  {
   "cell_type": "code",
   "execution_count": 4,
   "metadata": {},
   "outputs": [
    {
     "data": {
      "text/plain": [
       "array([ 0.03432983,  0.47207459, -0.37913693,  0.53006817, -0.28865257])"
      ]
     },
     "execution_count": 4,
     "metadata": {},
     "output_type": "execute_result"
    }
   ],
   "source": [
    "w"
   ]
  },
  {
   "cell_type": "code",
   "execution_count": 5,
   "metadata": {},
   "outputs": [
    {
     "data": {
      "text/plain": [
       "array([-0.87940218, -0.81156039,  0.35291678, -0.73848375,  0.70574113])"
      ]
     },
     "execution_count": 5,
     "metadata": {},
     "output_type": "execute_result"
    }
   ],
   "source": [
    "np.random.uniform( -1.0, 1.0, size=(5) )"
   ]
  },
  {
   "cell_type": "code",
   "execution_count": 6,
   "metadata": {},
   "outputs": [
    {
     "data": {
      "text/plain": [
       "array([ 0.93790034, -0.38554505,  0.06014434,  0.53187297,  0.75966422])"
      ]
     },
     "execution_count": 6,
     "metadata": {},
     "output_type": "execute_result"
    }
   ],
   "source": [
    "np.random.uniform( -1.0, 1.0, size=5 )"
   ]
  },
  {
   "cell_type": "code",
   "execution_count": 7,
   "metadata": {},
   "outputs": [
    {
     "data": {
      "text/plain": [
       "-0.7282691882378132"
      ]
     },
     "execution_count": 7,
     "metadata": {},
     "output_type": "execute_result"
    }
   ],
   "source": [
    "b"
   ]
  },
  {
   "cell_type": "markdown",
   "metadata": {},
   "source": [
    "### x, y, np.dot:"
   ]
  },
  {
   "cell_type": "code",
   "execution_count": 8,
   "metadata": {},
   "outputs": [
    {
     "data": {
      "text/plain": [
       "array([ 0.62371176,  0.61649333,  0.31478752, -0.22845781,  0.83228431])"
      ]
     },
     "execution_count": 8,
     "metadata": {},
     "output_type": "execute_result"
    }
   ],
   "source": [
    "x"
   ]
  },
  {
   "cell_type": "code",
   "execution_count": 9,
   "metadata": {},
   "outputs": [
    {
     "data": {
      "text/plain": [
       "-0.8965132304659896"
      ]
     },
     "execution_count": 9,
     "metadata": {},
     "output_type": "execute_result"
    }
   ],
   "source": [
    "y"
   ]
  },
  {
   "cell_type": "code",
   "execution_count": 10,
   "metadata": {},
   "outputs": [
    {
     "data": {
      "text/plain": [
       "-0.16824404222817646"
      ]
     },
     "execution_count": 10,
     "metadata": {},
     "output_type": "execute_result"
    }
   ],
   "source": [
    "np.dot(w, x)"
   ]
  },
  {
   "cell_type": "code",
   "execution_count": 11,
   "metadata": {},
   "outputs": [],
   "source": [
    "y = w*x + b"
   ]
  },
  {
   "cell_type": "code",
   "execution_count": 12,
   "metadata": {},
   "outputs": [
    {
     "data": {
      "text/plain": [
       "array([-0.70685727, -0.43723835, -0.84761676, -0.8493674 , -0.9685102 ])"
      ]
     },
     "execution_count": 12,
     "metadata": {},
     "output_type": "execute_result"
    }
   ],
   "source": [
    "y"
   ]
  },
  {
   "cell_type": "code",
   "execution_count": 13,
   "metadata": {},
   "outputs": [
    {
     "name": "stdout",
     "output_type": "stream",
     "text": [
      "5\n",
      "5\n"
     ]
    }
   ],
   "source": [
    "print( len( x ) )\n",
    "print( len( w ) )"
   ]
  },
  {
   "cell_type": "markdown",
   "metadata": {},
   "source": [
    "### Vì sao bài này không cần :\n",
    "```np.array( X ).reshape( ( -1, x.shape[0] ) )```"
   ]
  },
  {
   "cell_type": "code",
   "execution_count": 14,
   "metadata": {},
   "outputs": [
    {
     "data": {
      "text/plain": [
       "[array([ 0.96726869,  0.77022536,  0.92658646, -0.27569232,  0.70700188]),\n",
       " array([ 0.85567924, -0.19508866, -0.78563006, -0.42563096,  0.77932777]),\n",
       " array([-0.9082825 , -0.89142886, -0.31691295, -0.02221358, -0.61354491]),\n",
       " array([ 0.07174275,  0.59361297,  0.84853871,  0.62747928, -0.59278773]),\n",
       " array([ 0.57537187,  0.52948936,  0.40296636, -0.1778066 ,  0.7441175 ])]"
      ]
     },
     "execution_count": 14,
     "metadata": {},
     "output_type": "execute_result"
    }
   ],
   "source": [
    "X"
   ]
  },
  {
   "cell_type": "code",
   "execution_count": 15,
   "metadata": {},
   "outputs": [
    {
     "data": {
      "text/plain": [
       "array([[ 0.96726869,  0.77022536,  0.92658646, -0.27569232,  0.70700188],\n",
       "       [ 0.85567924, -0.19508866, -0.78563006, -0.42563096,  0.77932777],\n",
       "       [-0.9082825 , -0.89142886, -0.31691295, -0.02221358, -0.61354491],\n",
       "       [ 0.07174275,  0.59361297,  0.84853871,  0.62747928, -0.59278773],\n",
       "       [ 0.57537187,  0.52948936,  0.40296636, -0.1778066 ,  0.7441175 ]])"
      ]
     },
     "execution_count": 15,
     "metadata": {},
     "output_type": "execute_result"
    }
   ],
   "source": [
    "X_arr = np.array( X )\n",
    "X_arr"
   ]
  },
  {
   "cell_type": "code",
   "execution_count": 16,
   "metadata": {},
   "outputs": [
    {
     "data": {
      "text/plain": [
       "array([ 0.96726869,  0.77022536,  0.92658646, -0.27569232,  0.70700188])"
      ]
     },
     "execution_count": 16,
     "metadata": {},
     "output_type": "execute_result"
    }
   ],
   "source": [
    "X[0]"
   ]
  },
  {
   "cell_type": "code",
   "execution_count": 17,
   "metadata": {},
   "outputs": [
    {
     "data": {
      "text/plain": [
       "array([ 0.96726869,  0.77022536,  0.92658646, -0.27569232,  0.70700188])"
      ]
     },
     "execution_count": 17,
     "metadata": {},
     "output_type": "execute_result"
    }
   ],
   "source": [
    "X_arr[0]"
   ]
  },
  {
   "cell_type": "code",
   "execution_count": null,
   "metadata": {},
   "outputs": [],
   "source": []
  }
 ],
 "metadata": {
  "kernelspec": {
   "display_name": "Python 3",
   "language": "python",
   "name": "python3"
  },
  "language_info": {
   "codemirror_mode": {
    "name": "ipython",
    "version": 3
   },
   "file_extension": ".py",
   "mimetype": "text/x-python",
   "name": "python",
   "nbconvert_exporter": "python",
   "pygments_lexer": "ipython3",
   "version": "3.8.3"
  }
 },
 "nbformat": 4,
 "nbformat_minor": 4
}
