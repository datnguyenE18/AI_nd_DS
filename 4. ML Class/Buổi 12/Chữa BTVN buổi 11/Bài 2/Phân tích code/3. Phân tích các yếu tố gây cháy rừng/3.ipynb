{
 "cells": [
  {
   "cell_type": "markdown",
   "metadata": {},
   "source": [
    "### TH1: Không bỏ qua điều kiện nào:"
   ]
  },
  {
   "cell_type": "code",
   "execution_count": 1,
   "metadata": {},
   "outputs": [
    {
     "name": "stdout",
     "output_type": "stream",
     "text": [
      "coef_ = [ 1.97720473e+00  5.08312968e-01 -3.09645621e-02  7.91899961e-02\n",
      " -3.49526205e-03 -7.72553317e-01  8.66503255e-01 -2.13017326e-01\n",
      "  1.65428553e+00 -2.09569883e+01] \n",
      "\n",
      "intercept_ = -8.863779530240935 \n",
      "\n",
      "Mean squared error: 1038.882196\n"
     ]
    }
   ],
   "source": [
    "import numpy as np\n",
    "import random\n",
    "import matplotlib.pyplot as plt\n",
    "from sklearn import linear_model\n",
    "from sklearn.metrics import mean_squared_error, r2_score\n",
    "import csv\n",
    "\n",
    "def readForestFiresCsv():\n",
    "    X = []\n",
    "    Y = []\n",
    "    with open( 'forestfires.csv', mode='r' ) as csv_file:\n",
    "        csv_reader = csv.DictReader( csv_file )\n",
    "        for row in csv_reader:\n",
    "            Y.append( float( row[\"area\"] ) )\n",
    "            X.append( [float( row[\"X\"] ),float( row[\"Y\"] ), \n",
    "                       float( row[\"FFMC\"] ),float( row[\"DMC\"] ),float( row[\"DC\"] ),float( row[\"ISI\"] ), \n",
    "                       float( row[\"temp\"] ),float( row[\"RH\"] ),float( row[\"wind\"] ),float( row[\"rain\"] )] )\n",
    "    return np.array( X ), np.array( Y )\n",
    "\n",
    "X, Y = readForestFiresCsv()\n",
    "\n",
    "x_train = X[:-20]\n",
    "x_test = X[-20:]\n",
    "\n",
    "y_train = Y[:-20]\n",
    "y_test = Y[-20:]\n",
    "\n",
    "regr = linear_model.LinearRegression()\n",
    "\n",
    "regr.fit( x_train, y_train )\n",
    "print( \"coef_ =\", regr.coef_, \"\\n\" )\n",
    "print( \"intercept_ =\", regr.intercept_, \"\\n\" )\n",
    "y_pred = regr.predict( x_test )\n",
    "print( 'Mean squared error: %f' % mean_squared_error( y_test, y_pred ) )"
   ]
  },
  {
   "cell_type": "markdown",
   "metadata": {},
   "source": [
    "### Tạm bỏ qua tọa độ X, Y:"
   ]
  },
  {
   "cell_type": "code",
   "execution_count": 2,
   "metadata": {},
   "outputs": [
    {
     "name": "stdout",
     "output_type": "stream",
     "text": [
      "coef_ = [-1.37385126e-02  7.81893034e-02 -5.85461507e-03 -7.61220305e-01\n",
      "  9.35079094e-01 -1.75506663e-01  1.64524629e+00 -1.60497524e+01] \n",
      "\n",
      "intercept_ = -0.5897084182957162 \n",
      "\n",
      "Mean squared error: 758.811842\n"
     ]
    }
   ],
   "source": [
    "import numpy as np\n",
    "import random\n",
    "import matplotlib.pyplot as plt\n",
    "from sklearn import linear_model\n",
    "from sklearn.metrics import mean_squared_error, r2_score\n",
    "import csv\n",
    "\n",
    "def readForestFiresCsv():\n",
    "    X = []\n",
    "    Y = []\n",
    "    with open( 'forestfires.csv', mode='r' ) as csv_file:\n",
    "        csv_reader = csv.DictReader( csv_file )\n",
    "        for row in csv_reader:\n",
    "            Y.append( float( row[\"area\"] ) )\n",
    "            X.append( [#float( row[\"X\"] ),float( row[\"Y\"] ), \n",
    "                       float( row[\"FFMC\"] ),float( row[\"DMC\"] ),float( row[\"DC\"] ),float( row[\"ISI\"] ), \n",
    "                       float( row[\"temp\"] ),float( row[\"RH\"] ),float( row[\"wind\"] ),float( row[\"rain\"] )] )\n",
    "    return np.array( X ), np.array( Y )\n",
    "\n",
    "X, Y = readForestFiresCsv()\n",
    "\n",
    "x_train = X[:-20]\n",
    "x_test = X[-20:]\n",
    "\n",
    "y_train = Y[:-20]\n",
    "y_test = Y[-20:]\n",
    "\n",
    "regr = linear_model.LinearRegression()\n",
    "\n",
    "regr.fit( x_train, y_train )\n",
    "print( \"coef_ =\", regr.coef_, \"\\n\" )\n",
    "print( \"intercept_ =\", regr.intercept_, \"\\n\" )\n",
    "y_pred = regr.predict( x_test )\n",
    "print( 'Mean squared error: %f' % mean_squared_error( y_test, y_pred ) )"
   ]
  },
  {
   "cell_type": "markdown",
   "metadata": {},
   "source": [
    "### Tạm bỏ qua các chỉ số FFMC, DMC, DC, ISI:"
   ]
  },
  {
   "cell_type": "code",
   "execution_count": 3,
   "metadata": {},
   "outputs": [
    {
     "name": "stdout",
     "output_type": "stream",
     "text": [
      "coef_ = [  1.77637598   0.84787471   1.08669704  -0.11266276   1.35615317\n",
      " -23.13232905] \n",
      "\n",
      "intercept_ = -19.688123135706533 \n",
      "\n",
      "Mean squared error: 1154.820147\n"
     ]
    }
   ],
   "source": [
    "import numpy as np\n",
    "import random\n",
    "import matplotlib.pyplot as plt\n",
    "from sklearn import linear_model\n",
    "from sklearn.metrics import mean_squared_error, r2_score\n",
    "import csv\n",
    "\n",
    "def readForestFiresCsv():\n",
    "    X = []\n",
    "    Y = []\n",
    "    with open( 'forestfires.csv', mode='r' ) as csv_file:\n",
    "        csv_reader = csv.DictReader( csv_file )\n",
    "        for row in csv_reader:\n",
    "            Y.append( float( row[\"area\"] ) )\n",
    "            X.append( [float( row[\"X\"] ),float( row[\"Y\"] ), \n",
    "                       # float( row[\"FFMC\"] ),float( row[\"DMC\"] ),float( row[\"DC\"] ),float( row[\"ISI\"] ), \n",
    "                       float( row[\"temp\"] ),float( row[\"RH\"] ),float( row[\"wind\"] ),float( row[\"rain\"] )] )\n",
    "    return np.array( X ), np.array( Y )\n",
    "\n",
    "X, Y = readForestFiresCsv()\n",
    "\n",
    "x_train = X[:-20]\n",
    "x_test = X[-20:]\n",
    "\n",
    "y_train = Y[:-20]\n",
    "y_test = Y[-20:]\n",
    "\n",
    "regr = linear_model.LinearRegression()\n",
    "\n",
    "regr.fit( x_train, y_train )\n",
    "print( \"coef_ =\", regr.coef_, \"\\n\" )\n",
    "print( \"intercept_ =\", regr.intercept_, \"\\n\" )\n",
    "y_pred = regr.predict( x_test )\n",
    "print( 'Mean squared error: %f' % mean_squared_error( y_test, y_pred ) )"
   ]
  },
  {
   "cell_type": "markdown",
   "metadata": {},
   "source": [
    "### Tạm bỏ qua điều kiện Nhiệt độ, độ ẩm, gió và mưa"
   ]
  },
  {
   "cell_type": "code",
   "execution_count": 4,
   "metadata": {},
   "outputs": [
    {
     "name": "stdout",
     "output_type": "stream",
     "text": [
      "coef_ = [ 1.76587162e+00  6.51209130e-01  3.70203680e-01  7.55502146e-02\n",
      "  6.78900528e-04 -4.58101360e-01] \n",
      "\n",
      "intercept_ = -36.21913538639589 \n",
      "\n",
      "Mean squared error: 378.727147\n"
     ]
    }
   ],
   "source": [
    "import numpy as np\n",
    "import random\n",
    "import matplotlib.pyplot as plt\n",
    "from sklearn import linear_model\n",
    "from sklearn.metrics import mean_squared_error, r2_score\n",
    "import csv\n",
    "\n",
    "def readForestFiresCsv():\n",
    "    X = []\n",
    "    Y = []\n",
    "    with open( 'forestfires.csv', mode='r' ) as csv_file:\n",
    "        csv_reader = csv.DictReader( csv_file )\n",
    "        for row in csv_reader:\n",
    "            Y.append( float( row[\"area\"] ) )\n",
    "            X.append( [float( row[\"X\"] ),float( row[\"Y\"] ), \n",
    "                       float( row[\"FFMC\"] ),float( row[\"DMC\"] ),float( row[\"DC\"] ),float( row[\"ISI\"] )] ) \n",
    "                       #float( row[\"temp\"] ),float( row[\"RH\"] ),float( row[\"wind\"] ),float( row[\"rain\"] )] )\n",
    "    return np.array( X ), np.array( Y )\n",
    "\n",
    "X, Y = readForestFiresCsv()\n",
    "\n",
    "x_train = X[:-20]\n",
    "x_test = X[-20:]\n",
    "\n",
    "y_train = Y[:-20]\n",
    "y_test = Y[-20:]\n",
    "\n",
    "regr = linear_model.LinearRegression()\n",
    "\n",
    "regr.fit( x_train, y_train )\n",
    "print( \"coef_ =\", regr.coef_, \"\\n\" )\n",
    "print( \"intercept_ =\", regr.intercept_, \"\\n\" )\n",
    "y_pred = regr.predict( x_test )\n",
    "print( 'Mean squared error: %f' % mean_squared_error( y_test, y_pred ) )"
   ]
  },
  {
   "cell_type": "markdown",
   "metadata": {},
   "source": [
    "# => Từ đây ta có thể biết được bộ những yếu tố gây ảnh hưởng nhất đến các vụ cháy rừng và nguyên nhân cháy rừng"
   ]
  },
  {
   "cell_type": "code",
   "execution_count": null,
   "metadata": {},
   "outputs": [],
   "source": []
  }
 ],
 "metadata": {
  "kernelspec": {
   "display_name": "Python 3",
   "language": "python",
   "name": "python3"
  },
  "language_info": {
   "codemirror_mode": {
    "name": "ipython",
    "version": 3
   },
   "file_extension": ".py",
   "mimetype": "text/x-python",
   "name": "python",
   "nbconvert_exporter": "python",
   "pygments_lexer": "ipython3",
   "version": "3.8.3"
  }
 },
 "nbformat": 4,
 "nbformat_minor": 4
}
