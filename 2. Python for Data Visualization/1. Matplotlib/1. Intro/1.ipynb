{
 "cells": [
  {
   "cell_type": "markdown",
   "metadata": {},
   "source": [
    "# Intro"
   ]
  },
  {
   "cell_type": "markdown",
   "metadata": {},
   "source": [
    "### Introduction\n",
    "\n",
    "Matplotlib is the \"grandfather\" library of data visualization with Python. It was created by John Hunter. He created it to try to replicate MatLab's (another programming language) plotting capabilities in Python. So if you happen to be familiar with matlab, matplotlib will feel natural to you.\n",
    "\n",
    "It is an excellent 2D and 3D graphics library for generating scientific figures. \n",
    "\n",
    "Some of the major Pros of Matplotlib are:\n",
    "\n",
    "* Generally easy to get started for simple plots\n",
    "* Support for custom labels and texts\n",
    "* Great control of every element in a figure\n",
    "* High-quality output in many formats\n",
    "* Very customizable in general\n",
    "\n",
    "Matplotlib allows you to create reproducible figures programmatically. Let's learn how to use it! Before continuing this lecture, I encourage you just to explore the official Matplotlib web page: http://matplotlib.org/"
   ]
  },
  {
   "cell_type": "markdown",
   "metadata": {},
   "source": [
    "### Installation \n",
    "\n",
    "    conda install matplotlib\n",
    "or\n",
    "\n",
    "    pip install matplotlib"
   ]
  },
  {
   "cell_type": "markdown",
   "metadata": {},
   "source": [
    "### Importing\n",
    "Import the **matplotlib.pyplot** module under the name **plt** (the tidy way):"
   ]
  },
  {
   "cell_type": "code",
   "execution_count": 1,
   "metadata": {},
   "outputs": [],
   "source": [
    "import matplotlib.pyplot as plt"
   ]
  },
  {
   "cell_type": "markdown",
   "metadata": {},
   "source": [
    "You'll also need to use this line to see plots in the notebook:"
   ]
  },
  {
   "cell_type": "code",
   "execution_count": 2,
   "metadata": {},
   "outputs": [],
   "source": [
    "%matplotlib inline"
   ]
  },
  {
   "cell_type": "markdown",
   "metadata": {},
   "source": [
    "That line is only for jupyter notebooks, if you are using another editor, you'll use: **plt.show()** at the end of all your plotting commands to have the figure pop up in another window."
   ]
  },
  {
   "cell_type": "markdown",
   "metadata": {},
   "source": [
    "### General Concepts\n",
    "A Matplotlib figure can be categorized into several parts as below:\n",
    "\n",
    "* **Figure**: It is a whole figure which may contain one or more than one axes (plots). You can think of a Figure as a canvas which contains plots.\n",
    "\n",
    "\n",
    "* **Axes**: It is what we generally think of as a plot. A Figure can contain many Axes. It contains two or three (in the case of 3D) Axis objects. Each Axes has a title, an x-label and a y-label.\n",
    "\n",
    "\n",
    "* **Axis**: They are the number line like objects and take care of generating the graph limits.\n",
    "\n",
    "\n",
    "* **Artist**: Everything which one can see on the figure is an artist like Text objects, Line2D objects, collection objects. Most Artists are tied to Axes."
   ]
  },
  {
   "cell_type": "markdown",
   "metadata": {},
   "source": [
    "### Các loại Matplotlib figure:\n",
    "* **Figure**: Như một cái cửa sổ chứa tất cả những gì bạn sẽ vẽ trên đó.\n",
    "\n",
    "\n",
    "* **Axes**: Thành phần chính của một **figure** là các **axes** (những khung nhỏ hơn để vẽ hình lên đó). Một **figure** có thể chứa một hoặc nhiều **axes**. Nói cách khác, **figure** chỉ là khung chứa, chính các **axes** mới thật sự là nơi các hình vẽ được vẽ lên.\n",
    "\n",
    "\n",
    "* **Axis**: Chúng là dòng số giống như các đối tượng và đảm nhiệm việc tạo các giới hạn biểu đồ.\n",
    "\n",
    "\n",
    "* **Artist**: Mọi thứ mà bạn có thể nhìn thấy trên **figure** là một **artist** như **Textobjects, Line2D objects, collection objects**. Hầu hết các **Artists** được gắn với **Axes**."
   ]
  },
  {
   "cell_type": "markdown",
   "metadata": {},
   "source": [
    "### Some methods:\n",
    "\n",
    "* plot(x-axis values, y-axis values) — plots a simple line graph with x-axis values against y-axis values show() — displays the graph\n",
    "\n",
    "\n",
    "* title(“string”) — set the title of the plot as specified by the string\n",
    "\n",
    "\n",
    "* xlabel(“string”) — set the label for x-axis as specified by the string\n",
    "\n",
    "\n",
    "* ylabel(“string”) — set the label for y-axis as specified by the string\n",
    "\n",
    "\n",
    "* figure() — used to control a figure level attributes\n",
    "\n",
    "\n",
    "* subplot(nrows, ncols, index) — Add a subplot to the current figure\n",
    "\n",
    "\n",
    "* suptitle(“string”) — It adds a common title to the figure specified by the string\n",
    "\n",
    "\n",
    "* subplots(nrows, ncols, figsize) — a convenient way to create subplots, in a single call. It returns a tuple of a figure and number of axes.\n",
    "\n",
    "\n",
    "* set_title(“string”) — an axes level method used to set the title of subplots in a figure\n",
    "\n",
    "\n",
    "* bar(categorical variables, values, color) — used to create vertical bar graphs\n",
    "\n",
    "\n",
    "* barh(categorical variables, values, color) — used to create horizontal bar graphs\n",
    "\n",
    "\n",
    "* legend(loc) — used to make legend of the graph\n",
    "\n",
    "\n",
    "* xticks(index, categorical variables) — Get or set the current tick locations and labels of the x-axis\n",
    "\n",
    "\n",
    "* pie(value, categorical variables) — used to create a pie chart\n",
    "\n",
    "\n",
    "* hist(values, number of bins) — used to create a histogram\n",
    "\n",
    "\n",
    "* xlim(start value, end value) — used to set the limit of values of the x-axis\n",
    "\n",
    "\n",
    "* ylim(start value, end value) — used to set the limit of values of the y-axis\n",
    "\n",
    "\n",
    "* scatter(x-axis values, y-axis values) — plots a scatter plot with x-axis values against y-axis values\n",
    "\n",
    "\n",
    "* axes() — adds an axes to the current figure\n",
    "\n",
    "\n",
    "* set_xlabel(“string”) — axes level method used to set the x-label of the plot specified as a string\n",
    "\n",
    "\n",
    "* set_ylabel(“string”) — axes level method used to set the y-label of the plot specified as a string\n",
    "\n",
    "\n",
    "* scatter3D(x-axis values, y-axis values) — plots a three-dimensional scatter plot with x-axis values against y-axis values\n",
    "\n",
    "\n",
    "* plot3D(x-axis values, y-axis values) — plots a three-dimensional line graph with x-axis values against y-axis values"
   ]
  },
  {
   "cell_type": "markdown",
   "metadata": {},
   "source": [
    "### Một số phương thức:\n",
    "* plot(x-axis values, y-axis values) —đồ thị đường đơn giản với các giá trị trục x so với giá trị trục y.\n",
    "\n",
    "\n",
    "* show() – hiển thị biểu đồ.\n",
    "\n",
    "\n",
    "* title(“string”) – đặt tiêu đề.\n",
    "\n",
    "\n",
    "* xlabel(“string”) – đặt nhãn cho trục x.\n",
    "\n",
    "\n",
    "* ylabel(“string”) – đặt nhãn cho trục y.\n",
    "\n",
    "\n",
    "* figure() – dùng để control các thuộc tính của mức hình.\n",
    "\n",
    "\n",
    "* subplot(nrows, ncols, index) – thêm một subplot vào figure hiện tại.\n",
    "\n",
    "\n",
    "* suptitle(“string”) – thêm một tiêu đề chung vào hình.\n",
    "\n",
    "\n",
    "* subplots(nrows, ncols, figsize) – một cách thuận tiện để tạo các subplots. Nó trả về một tuple của figure và số lượng axes.\n",
    "\n",
    "\n",
    "* set_title(“string”) – dùng để đặt tiêu đề cho các ô con.\n",
    "\n",
    "\n",
    "* bar(categorical variables, values, color) – được sử dụng để tạo đồ thị thanh dọc.\n",
    "\n",
    "\n",
    "* barh(categorical variables, values, color) – dùng để tạo biểu đồ thanh ngang.\n",
    "\n",
    "\n",
    "* legend(loc) – dùng để tạo chú thích của đồ thị.\n",
    "\n",
    "\n",
    "* xticks(index, categorical variables) – get hoặc set vị trí đánh dấu hiện tại và nhãn của trục x.\n",
    "\n",
    "\n",
    "* pie(value, categorical variables) – dùng để tạo biểu đồ hình tròn.\n",
    "\n",
    "\n",
    "* hist(values, number of bins) – được sử dụng để tạo histogram.\n",
    "\n",
    "\n",
    "* xlim(start value, end value) – được sử dụng để đặt giới hạn giá trị của trục x.\n",
    "\n",
    "\n",
    "* ylim(start value, end value) – được sử dụng để đặt giới hạn giá trị của trục y.\n",
    "\n",
    "\n",
    "* scatter(x-axis values, y-axis values) – vẽ sơ đồ phân tán với các giá trị trục x so với giá trị trục y.\n",
    "\n",
    "\n",
    "* axes() – thêm một axes vào hình hiện tại.\n",
    "\n",
    "\n",
    "* set_xlabel(“string”) – được sử dụng đễ set nhãn x cho plot được chỉ định.\n",
    "\n",
    "\n",
    "* set_ylabel(“string”) – được sử dụng đễ set nhãn y cho plot được chỉ định.\n",
    "\n",
    "\n",
    "* scatter3D(x-axis values, y-axis values) – vẽ sơ đồ phân tán ba chiều với các giá trị trục x so với giá trị trục y.\n",
    "\n",
    "\n",
    "* plot3D(x-axis values, y-axis values) – vẽ đồ thị đường ba chiều với các giá trị trục x so với giá trị trục y."
   ]
  },
  {
   "cell_type": "markdown",
   "metadata": {},
   "source": [
    "### Further reading\n",
    "* http://www.matplotlib.org - The project web page for matplotlib.\n",
    "* https://github.com/matplotlib/matplotlib - The source code for matplotlib.\n",
    "* http://matplotlib.org/gallery.html - A large gallery showcaseing various types of plots matplotlib can create. Highly recommended! \n",
    "* http://www.loria.fr/~rougier/teaching/matplotlib - A good matplotlib tutorial.\n",
    "* http://scipy-lectures.github.io/matplotlib/matplotlib.html - Another good matplotlib reference.\n"
   ]
  },
  {
   "cell_type": "code",
   "execution_count": null,
   "metadata": {},
   "outputs": [],
   "source": []
  }
 ],
 "metadata": {
  "kernelspec": {
   "display_name": "Python 3",
   "language": "python",
   "name": "python3"
  },
  "language_info": {
   "codemirror_mode": {
    "name": "ipython",
    "version": 3
   },
   "file_extension": ".py",
   "mimetype": "text/x-python",
   "name": "python",
   "nbconvert_exporter": "python",
   "pygments_lexer": "ipython3",
   "version": "3.8.3"
  }
 },
 "nbformat": 4,
 "nbformat_minor": 4
}
