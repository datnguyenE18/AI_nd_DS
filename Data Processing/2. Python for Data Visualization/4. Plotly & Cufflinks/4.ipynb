{
 "cells": [
  {
   "cell_type": "markdown",
   "metadata": {},
   "source": [
    "# Plotly and Cufflinks"
   ]
  },
  {
   "cell_type": "markdown",
   "metadata": {},
   "source": [
    "Plotly is a library that allows you to create interactive plots that you can use in dashboards or websites (you can save them as html files or static images).\n",
    "\n",
    "## Installation\n",
    "\n",
    "In order for this all to work, you'll need to install plotly and cufflinks to call plots directly off of a pandas dataframe.\n",
    "To install 'plotly', you can:\n",
    "* `conda install plotly`\n",
    "\n",
    "\n",
    "* `pip install plotly`\n",
    "    \n",
    "\n",
    "'cufflinks' and 'chart-studio' are not currently available through **conda** but are available through **pip**. Install the libraries at your command line/terminal using:\n",
    "\n",
    "* `pip install cufflinks`\n",
    "\n",
    "\n",
    "* `pip install chart-studio`\n",
    "\n",
    "**NOTE: Make sure you only have one installation of Python on your computer when you do this, otherwise the installation may not work.**\n",
    "\n"
   ]
  },
  {
   "cell_type": "markdown",
   "metadata": {},
   "source": [
    "## Some Problems:\n",
    "\n",
    "**1.** Possible Import Error 1: You need to install a new package. In your command line type and run:\n",
    "\n",
    "* `pip install chart-studio`\n",
    "\n",
    "    Then in jupyter make sure you import it by running the code:\n",
    "    \n",
    "\n",
    "* `import chart_studio.plotly as py`\n",
    "\n",
    "\n",
    "**2.** Possible Colorscale Error 2: In the \"Real Data US Map Choropleth\", when you are creating the data dictionary, make sure the colorscale line is = 'ylorbr', not 'YIOrbr'... so like this:\n",
    "\n",
    "* `colorscale='ylorbr'`\n",
    "\n",
    "\n",
    "**3.** Possible projection Error 3: In the \"World Map Choropleth\", when you are creating the layout, ensure that your projection line is = {'type':'mercator'} not Mercator with a capital...so like this:\n",
    "\n",
    "* `projection={'type':'mercator'}`"
   ]
  },
  {
   "cell_type": "markdown",
   "metadata": {},
   "source": [
    "## Imports and Set-up"
   ]
  },
  {
   "cell_type": "code",
   "execution_count": 1,
   "metadata": {},
   "outputs": [],
   "source": [
    "import pandas as pd\n",
    "import numpy as np\n",
    "%matplotlib inline"
   ]
  },
  {
   "cell_type": "code",
   "execution_count": 2,
   "metadata": {},
   "outputs": [
    {
     "name": "stdout",
     "output_type": "stream",
     "text": [
      "4.8.2\n"
     ]
    }
   ],
   "source": [
    "from plotly import __version__\n",
    "from plotly.offline import download_plotlyjs, init_notebook_mode, plot, iplot\n",
    "\n",
    "print(__version__) # requires version >= 1.9.0"
   ]
  },
  {
   "cell_type": "code",
   "execution_count": 3,
   "metadata": {},
   "outputs": [],
   "source": [
    "import cufflinks as cf"
   ]
  },
  {
   "cell_type": "code",
   "execution_count": 4,
   "metadata": {},
   "outputs": [
    {
     "data": {
      "text/html": [
       "        <script type=\"text/javascript\">\n",
       "        window.PlotlyConfig = {MathJaxConfig: 'local'};\n",
       "        if (window.MathJax) {MathJax.Hub.Config({SVG: {font: \"STIX-Web\"}});}\n",
       "        if (typeof require !== 'undefined') {\n",
       "        require.undef(\"plotly\");\n",
       "        requirejs.config({\n",
       "            paths: {\n",
       "                'plotly': ['https://cdn.plot.ly/plotly-latest.min']\n",
       "            }\n",
       "        });\n",
       "        require(['plotly'], function(Plotly) {\n",
       "            window._Plotly = Plotly;\n",
       "        });\n",
       "        }\n",
       "        </script>\n",
       "        "
      ]
     },
     "metadata": {},
     "output_type": "display_data"
    }
   ],
   "source": [
    "# For Notebooks\n",
    "init_notebook_mode(connected=True)"
   ]
  },
  {
   "cell_type": "code",
   "execution_count": 5,
   "metadata": {},
   "outputs": [
    {
     "data": {
      "text/html": [
       "        <script type=\"text/javascript\">\n",
       "        window.PlotlyConfig = {MathJaxConfig: 'local'};\n",
       "        if (window.MathJax) {MathJax.Hub.Config({SVG: {font: \"STIX-Web\"}});}\n",
       "        if (typeof require !== 'undefined') {\n",
       "        require.undef(\"plotly\");\n",
       "        requirejs.config({\n",
       "            paths: {\n",
       "                'plotly': ['https://cdn.plot.ly/plotly-latest.min']\n",
       "            }\n",
       "        });\n",
       "        require(['plotly'], function(Plotly) {\n",
       "            window._Plotly = Plotly;\n",
       "        });\n",
       "        }\n",
       "        </script>\n",
       "        "
      ]
     },
     "metadata": {},
     "output_type": "display_data"
    }
   ],
   "source": [
    "# For offline use\n",
    "cf.go_offline()"
   ]
  },
  {
   "cell_type": "markdown",
   "metadata": {},
   "source": [
    "### Fake Data"
   ]
  },
  {
   "cell_type": "code",
   "execution_count": 6,
   "metadata": {},
   "outputs": [],
   "source": [
    "df = pd.DataFrame(np.random.randn(100,4),columns='A B C D'.split())"
   ]
  },
  {
   "cell_type": "code",
   "execution_count": 7,
   "metadata": {},
   "outputs": [
    {
     "data": {
      "text/html": [
       "<div>\n",
       "<style scoped>\n",
       "    .dataframe tbody tr th:only-of-type {\n",
       "        vertical-align: middle;\n",
       "    }\n",
       "\n",
       "    .dataframe tbody tr th {\n",
       "        vertical-align: top;\n",
       "    }\n",
       "\n",
       "    .dataframe thead th {\n",
       "        text-align: right;\n",
       "    }\n",
       "</style>\n",
       "<table border=\"1\" class=\"dataframe\">\n",
       "  <thead>\n",
       "    <tr style=\"text-align: right;\">\n",
       "      <th></th>\n",
       "      <th>A</th>\n",
       "      <th>B</th>\n",
       "      <th>C</th>\n",
       "      <th>D</th>\n",
       "    </tr>\n",
       "  </thead>\n",
       "  <tbody>\n",
       "    <tr>\n",
       "      <th>0</th>\n",
       "      <td>-0.286581</td>\n",
       "      <td>1.574073</td>\n",
       "      <td>-1.459604</td>\n",
       "      <td>-0.368437</td>\n",
       "    </tr>\n",
       "    <tr>\n",
       "      <th>1</th>\n",
       "      <td>2.871381</td>\n",
       "      <td>-0.520496</td>\n",
       "      <td>0.360847</td>\n",
       "      <td>1.573664</td>\n",
       "    </tr>\n",
       "    <tr>\n",
       "      <th>2</th>\n",
       "      <td>-0.835606</td>\n",
       "      <td>0.378488</td>\n",
       "      <td>-0.508794</td>\n",
       "      <td>0.021382</td>\n",
       "    </tr>\n",
       "    <tr>\n",
       "      <th>3</th>\n",
       "      <td>0.015124</td>\n",
       "      <td>0.566583</td>\n",
       "      <td>-0.662588</td>\n",
       "      <td>0.096547</td>\n",
       "    </tr>\n",
       "    <tr>\n",
       "      <th>4</th>\n",
       "      <td>-0.363933</td>\n",
       "      <td>1.830753</td>\n",
       "      <td>0.045857</td>\n",
       "      <td>-0.047453</td>\n",
       "    </tr>\n",
       "  </tbody>\n",
       "</table>\n",
       "</div>"
      ],
      "text/plain": [
       "          A         B         C         D\n",
       "0 -0.286581  1.574073 -1.459604 -0.368437\n",
       "1  2.871381 -0.520496  0.360847  1.573664\n",
       "2 -0.835606  0.378488 -0.508794  0.021382\n",
       "3  0.015124  0.566583 -0.662588  0.096547\n",
       "4 -0.363933  1.830753  0.045857 -0.047453"
      ]
     },
     "execution_count": 7,
     "metadata": {},
     "output_type": "execute_result"
    }
   ],
   "source": [
    "df.head()"
   ]
  },
  {
   "cell_type": "code",
   "execution_count": 8,
   "metadata": {},
   "outputs": [],
   "source": [
    "df2 = pd.DataFrame({'Category':['A','B','C'],'Values':[32,43,50]})"
   ]
  },
  {
   "cell_type": "code",
   "execution_count": 9,
   "metadata": {},
   "outputs": [
    {
     "data": {
      "text/html": [
       "<div>\n",
       "<style scoped>\n",
       "    .dataframe tbody tr th:only-of-type {\n",
       "        vertical-align: middle;\n",
       "    }\n",
       "\n",
       "    .dataframe tbody tr th {\n",
       "        vertical-align: top;\n",
       "    }\n",
       "\n",
       "    .dataframe thead th {\n",
       "        text-align: right;\n",
       "    }\n",
       "</style>\n",
       "<table border=\"1\" class=\"dataframe\">\n",
       "  <thead>\n",
       "    <tr style=\"text-align: right;\">\n",
       "      <th></th>\n",
       "      <th>Category</th>\n",
       "      <th>Values</th>\n",
       "    </tr>\n",
       "  </thead>\n",
       "  <tbody>\n",
       "    <tr>\n",
       "      <th>0</th>\n",
       "      <td>A</td>\n",
       "      <td>32</td>\n",
       "    </tr>\n",
       "    <tr>\n",
       "      <th>1</th>\n",
       "      <td>B</td>\n",
       "      <td>43</td>\n",
       "    </tr>\n",
       "    <tr>\n",
       "      <th>2</th>\n",
       "      <td>C</td>\n",
       "      <td>50</td>\n",
       "    </tr>\n",
       "  </tbody>\n",
       "</table>\n",
       "</div>"
      ],
      "text/plain": [
       "  Category  Values\n",
       "0        A      32\n",
       "1        B      43\n",
       "2        C      50"
      ]
     },
     "execution_count": 9,
     "metadata": {},
     "output_type": "execute_result"
    }
   ],
   "source": [
    "df2.head()"
   ]
  },
  {
   "cell_type": "markdown",
   "metadata": {},
   "source": [
    "## Using Cufflinks and iplot()\n",
    "\n",
    "* scatter\n",
    "* bar\n",
    "* box\n",
    "* spread\n",
    "* ratio\n",
    "* heatmap\n",
    "* surface\n",
    "* histogram\n",
    "* bubble"
   ]
  },
  {
   "cell_type": "markdown",
   "metadata": {},
   "source": [
    "## Scatter"
   ]
  },
  {
   "cell_type": "code",
   "execution_count": 10,
   "metadata": {},
   "outputs": [
    {
     "data": {
      "application/vnd.plotly.v1+json": {
       "config": {
        "linkText": "Export to plot.ly",
        "plotlyServerURL": "https://plot.ly",
        "showLink": true
       },
       "data": [
        {
         "line": {
          "color": "rgba(255, 153, 51, 1.0)",
          "dash": "solid",
          "shape": "linear",
          "width": 1.3
         },
         "marker": {
          "size": 10,
          "symbol": "circle"
         },
         "mode": "markers",
         "name": "B",
         "text": "",
         "type": "scatter",
         "x": [
          -0.28658062289161507,
          2.8713810642415774,
          -0.8356058485756809,
          0.015123707936464765,
          -0.36393332536263484,
          2.341958955914593,
          0.026375334658533516,
          -0.8912079656500846,
          1.5259075076059636,
          -0.7251464655554153,
          -2.208567554152265,
          0.8160362211716472,
          0.1352305382758277,
          -0.07773618163611463,
          -1.6218256058133913,
          -1.4461184112948848,
          -0.9432178303375855,
          0.11042142518952364,
          0.22210119025882,
          0.29314536564232757,
          -1.3667737782574663,
          2.1170959584160776,
          -1.9885300360304687,
          0.3009043264085271,
          1.4900545862313435,
          0.16707632821401622,
          0.9089693366488185,
          -0.5309538275682677,
          -0.5645450618475066,
          1.6180166982761703,
          0.7121765540358281,
          -0.7133586311906459,
          0.5262454614186426,
          -0.6978902815960228,
          0.6315922215150983,
          1.0230806194359456,
          0.3552860393922047,
          -0.5659277005265211,
          -0.04418343728629043,
          0.28347053779399023,
          2.0322264650736446,
          -0.7523401320867622,
          -0.8403470210799748,
          0.27784684716034863,
          0.1822850299791254,
          -0.3697102441389198,
          -0.021692284748169602,
          -2.108941307116421,
          0.31163343692776824,
          2.283327532521014,
          -0.21171012089409746,
          -0.14660748153512856,
          0.9344186636741401,
          -0.6106330572294365,
          -1.5392174683883328,
          -1.0058035991732786,
          2.207169422150619,
          -1.9791714166370522,
          -0.7716556864796765,
          0.42222551730076235,
          -0.790403471570592,
          0.4827492291330723,
          1.25811273044089,
          -0.4173142231933926,
          -1.683138705155208,
          -1.34399245571848,
          0.4625126996712462,
          1.2210567254188085,
          0.07491053801766187,
          1.6386682454467674,
          -0.5700560828390816,
          -1.200150895129222,
          -0.4816388445980546,
          -1.2599499551980429,
          0.12748578860097046,
          -0.5886401471762375,
          1.5612153234010075,
          0.883110723570033,
          -0.6793443992951693,
          -1.7579488291595078,
          -0.6262305193938559,
          -0.597589289924199,
          0.5975570794231981,
          -0.8338945349348488,
          0.8538301101490644,
          -1.228745130925553,
          -0.07970988512138309,
          -1.5924974279353095,
          0.9272268562201983,
          -0.14144485985252866,
          0.6360884600335864,
          -0.6850117004071394,
          -0.3733130217574712,
          -1.6315284967377977,
          0.7805667618604121,
          -0.5193183640984484,
          -0.7885902824548963,
          -0.23556747027558908,
          1.1819720205400592,
          0.5899214406180822
         ],
         "y": [
          1.5740728987236858,
          -0.5204962324025592,
          0.3784879080197764,
          0.5665830926250587,
          1.8307528761381824,
          1.496398337103953,
          0.319114278020899,
          1.3241804073809924,
          -2.2199737044173027,
          0.4069568095734938,
          0.14826216989882013,
          -0.994303336633359,
          -0.36208520713052306,
          1.7495268971863218,
          -0.4261065698300166,
          -1.7270517273707098,
          -2.357261283307402,
          2.403928501039504,
          0.6251246787404335,
          -0.004245790921073416,
          1.6803335896006206,
          -0.7740097921221676,
          -0.17455728219713768,
          0.5346934292088612,
          -0.16299832133350473,
          -1.6430005512614236,
          0.1874046982263252,
          0.3062098943756686,
          -1.075078115834331,
          -1.2214886703038546,
          -0.14724209756744944,
          0.2429769271893512,
          -0.23269608358220994,
          0.36352732895139045,
          0.7934071373939708,
          -2.5011489951532644,
          -0.18797315258982397,
          0.38603232777514507,
          2.045463743570114,
          -0.26097071764894264,
          0.550200525982311,
          -1.0767578575594094,
          0.5983416714319514,
          -0.6321645924326897,
          -0.2766778496970904,
          0.6695187229527138,
          1.0353017178297368,
          0.5761075611725717,
          1.4718017958919445,
          -0.4896305364712738,
          1.1538261951756705,
          1.158823447440352,
          -0.8732216047844114,
          1.520045712919522,
          0.5910070115791487,
          -0.7236162689815163,
          -1.2718512751459379,
          0.4412226470368304,
          0.6634561156688739,
          -0.4577892833900473,
          0.1318589819788368,
          -1.4368522046631298,
          -1.8395329503791198,
          -1.6492182544058702,
          -2.4797759739644487,
          0.03894320353626314,
          -0.35092509075247313,
          1.388297843133826,
          0.11573851710811286,
          0.3062732272678091,
          -0.46590267674086555,
          0.5456442466695953,
          -0.5304629942227559,
          -0.4313314370468433,
          -0.08957726082416721,
          1.1264734945274768,
          -0.9290255244862805,
          -1.7314167216950984,
          -0.30353773563327374,
          -0.4913771831551384,
          1.1019884388012529,
          -1.1006777820996694,
          0.02889859416952101,
          0.7844200346560151,
          0.4196265261180495,
          -0.6473364753369074,
          0.42737665263402697,
          -1.5403520115571134,
          0.425865498394857,
          -0.17886127476218783,
          -0.4685216389506663,
          -1.155388110493677,
          0.46525913637554894,
          0.9437691551712757,
          -0.744522351346594,
          -0.5107890860366717,
          -1.3104476513425958,
          -0.3659836777369112,
          -0.218182149822733,
          0.5665569826426838
         ]
        }
       ],
       "layout": {
        "legend": {
         "bgcolor": "#F5F6F9",
         "font": {
          "color": "#4D5663"
         }
        },
        "paper_bgcolor": "#F5F6F9",
        "plot_bgcolor": "#F5F6F9",
        "template": {
         "data": {
          "bar": [
           {
            "error_x": {
             "color": "#2a3f5f"
            },
            "error_y": {
             "color": "#2a3f5f"
            },
            "marker": {
             "line": {
              "color": "#E5ECF6",
              "width": 0.5
             }
            },
            "type": "bar"
           }
          ],
          "barpolar": [
           {
            "marker": {
             "line": {
              "color": "#E5ECF6",
              "width": 0.5
             }
            },
            "type": "barpolar"
           }
          ],
          "carpet": [
           {
            "aaxis": {
             "endlinecolor": "#2a3f5f",
             "gridcolor": "white",
             "linecolor": "white",
             "minorgridcolor": "white",
             "startlinecolor": "#2a3f5f"
            },
            "baxis": {
             "endlinecolor": "#2a3f5f",
             "gridcolor": "white",
             "linecolor": "white",
             "minorgridcolor": "white",
             "startlinecolor": "#2a3f5f"
            },
            "type": "carpet"
           }
          ],
          "choropleth": [
           {
            "colorbar": {
             "outlinewidth": 0,
             "ticks": ""
            },
            "type": "choropleth"
           }
          ],
          "contour": [
           {
            "colorbar": {
             "outlinewidth": 0,
             "ticks": ""
            },
            "colorscale": [
             [
              0,
              "#0d0887"
             ],
             [
              0.1111111111111111,
              "#46039f"
             ],
             [
              0.2222222222222222,
              "#7201a8"
             ],
             [
              0.3333333333333333,
              "#9c179e"
             ],
             [
              0.4444444444444444,
              "#bd3786"
             ],
             [
              0.5555555555555556,
              "#d8576b"
             ],
             [
              0.6666666666666666,
              "#ed7953"
             ],
             [
              0.7777777777777778,
              "#fb9f3a"
             ],
             [
              0.8888888888888888,
              "#fdca26"
             ],
             [
              1,
              "#f0f921"
             ]
            ],
            "type": "contour"
           }
          ],
          "contourcarpet": [
           {
            "colorbar": {
             "outlinewidth": 0,
             "ticks": ""
            },
            "type": "contourcarpet"
           }
          ],
          "heatmap": [
           {
            "colorbar": {
             "outlinewidth": 0,
             "ticks": ""
            },
            "colorscale": [
             [
              0,
              "#0d0887"
             ],
             [
              0.1111111111111111,
              "#46039f"
             ],
             [
              0.2222222222222222,
              "#7201a8"
             ],
             [
              0.3333333333333333,
              "#9c179e"
             ],
             [
              0.4444444444444444,
              "#bd3786"
             ],
             [
              0.5555555555555556,
              "#d8576b"
             ],
             [
              0.6666666666666666,
              "#ed7953"
             ],
             [
              0.7777777777777778,
              "#fb9f3a"
             ],
             [
              0.8888888888888888,
              "#fdca26"
             ],
             [
              1,
              "#f0f921"
             ]
            ],
            "type": "heatmap"
           }
          ],
          "heatmapgl": [
           {
            "colorbar": {
             "outlinewidth": 0,
             "ticks": ""
            },
            "colorscale": [
             [
              0,
              "#0d0887"
             ],
             [
              0.1111111111111111,
              "#46039f"
             ],
             [
              0.2222222222222222,
              "#7201a8"
             ],
             [
              0.3333333333333333,
              "#9c179e"
             ],
             [
              0.4444444444444444,
              "#bd3786"
             ],
             [
              0.5555555555555556,
              "#d8576b"
             ],
             [
              0.6666666666666666,
              "#ed7953"
             ],
             [
              0.7777777777777778,
              "#fb9f3a"
             ],
             [
              0.8888888888888888,
              "#fdca26"
             ],
             [
              1,
              "#f0f921"
             ]
            ],
            "type": "heatmapgl"
           }
          ],
          "histogram": [
           {
            "marker": {
             "colorbar": {
              "outlinewidth": 0,
              "ticks": ""
             }
            },
            "type": "histogram"
           }
          ],
          "histogram2d": [
           {
            "colorbar": {
             "outlinewidth": 0,
             "ticks": ""
            },
            "colorscale": [
             [
              0,
              "#0d0887"
             ],
             [
              0.1111111111111111,
              "#46039f"
             ],
             [
              0.2222222222222222,
              "#7201a8"
             ],
             [
              0.3333333333333333,
              "#9c179e"
             ],
             [
              0.4444444444444444,
              "#bd3786"
             ],
             [
              0.5555555555555556,
              "#d8576b"
             ],
             [
              0.6666666666666666,
              "#ed7953"
             ],
             [
              0.7777777777777778,
              "#fb9f3a"
             ],
             [
              0.8888888888888888,
              "#fdca26"
             ],
             [
              1,
              "#f0f921"
             ]
            ],
            "type": "histogram2d"
           }
          ],
          "histogram2dcontour": [
           {
            "colorbar": {
             "outlinewidth": 0,
             "ticks": ""
            },
            "colorscale": [
             [
              0,
              "#0d0887"
             ],
             [
              0.1111111111111111,
              "#46039f"
             ],
             [
              0.2222222222222222,
              "#7201a8"
             ],
             [
              0.3333333333333333,
              "#9c179e"
             ],
             [
              0.4444444444444444,
              "#bd3786"
             ],
             [
              0.5555555555555556,
              "#d8576b"
             ],
             [
              0.6666666666666666,
              "#ed7953"
             ],
             [
              0.7777777777777778,
              "#fb9f3a"
             ],
             [
              0.8888888888888888,
              "#fdca26"
             ],
             [
              1,
              "#f0f921"
             ]
            ],
            "type": "histogram2dcontour"
           }
          ],
          "mesh3d": [
           {
            "colorbar": {
             "outlinewidth": 0,
             "ticks": ""
            },
            "type": "mesh3d"
           }
          ],
          "parcoords": [
           {
            "line": {
             "colorbar": {
              "outlinewidth": 0,
              "ticks": ""
             }
            },
            "type": "parcoords"
           }
          ],
          "pie": [
           {
            "automargin": true,
            "type": "pie"
           }
          ],
          "scatter": [
           {
            "marker": {
             "colorbar": {
              "outlinewidth": 0,
              "ticks": ""
             }
            },
            "type": "scatter"
           }
          ],
          "scatter3d": [
           {
            "line": {
             "colorbar": {
              "outlinewidth": 0,
              "ticks": ""
             }
            },
            "marker": {
             "colorbar": {
              "outlinewidth": 0,
              "ticks": ""
             }
            },
            "type": "scatter3d"
           }
          ],
          "scattercarpet": [
           {
            "marker": {
             "colorbar": {
              "outlinewidth": 0,
              "ticks": ""
             }
            },
            "type": "scattercarpet"
           }
          ],
          "scattergeo": [
           {
            "marker": {
             "colorbar": {
              "outlinewidth": 0,
              "ticks": ""
             }
            },
            "type": "scattergeo"
           }
          ],
          "scattergl": [
           {
            "marker": {
             "colorbar": {
              "outlinewidth": 0,
              "ticks": ""
             }
            },
            "type": "scattergl"
           }
          ],
          "scattermapbox": [
           {
            "marker": {
             "colorbar": {
              "outlinewidth": 0,
              "ticks": ""
             }
            },
            "type": "scattermapbox"
           }
          ],
          "scatterpolar": [
           {
            "marker": {
             "colorbar": {
              "outlinewidth": 0,
              "ticks": ""
             }
            },
            "type": "scatterpolar"
           }
          ],
          "scatterpolargl": [
           {
            "marker": {
             "colorbar": {
              "outlinewidth": 0,
              "ticks": ""
             }
            },
            "type": "scatterpolargl"
           }
          ],
          "scatterternary": [
           {
            "marker": {
             "colorbar": {
              "outlinewidth": 0,
              "ticks": ""
             }
            },
            "type": "scatterternary"
           }
          ],
          "surface": [
           {
            "colorbar": {
             "outlinewidth": 0,
             "ticks": ""
            },
            "colorscale": [
             [
              0,
              "#0d0887"
             ],
             [
              0.1111111111111111,
              "#46039f"
             ],
             [
              0.2222222222222222,
              "#7201a8"
             ],
             [
              0.3333333333333333,
              "#9c179e"
             ],
             [
              0.4444444444444444,
              "#bd3786"
             ],
             [
              0.5555555555555556,
              "#d8576b"
             ],
             [
              0.6666666666666666,
              "#ed7953"
             ],
             [
              0.7777777777777778,
              "#fb9f3a"
             ],
             [
              0.8888888888888888,
              "#fdca26"
             ],
             [
              1,
              "#f0f921"
             ]
            ],
            "type": "surface"
           }
          ],
          "table": [
           {
            "cells": {
             "fill": {
              "color": "#EBF0F8"
             },
             "line": {
              "color": "white"
             }
            },
            "header": {
             "fill": {
              "color": "#C8D4E3"
             },
             "line": {
              "color": "white"
             }
            },
            "type": "table"
           }
          ]
         },
         "layout": {
          "annotationdefaults": {
           "arrowcolor": "#2a3f5f",
           "arrowhead": 0,
           "arrowwidth": 1
          },
          "coloraxis": {
           "colorbar": {
            "outlinewidth": 0,
            "ticks": ""
           }
          },
          "colorscale": {
           "diverging": [
            [
             0,
             "#8e0152"
            ],
            [
             0.1,
             "#c51b7d"
            ],
            [
             0.2,
             "#de77ae"
            ],
            [
             0.3,
             "#f1b6da"
            ],
            [
             0.4,
             "#fde0ef"
            ],
            [
             0.5,
             "#f7f7f7"
            ],
            [
             0.6,
             "#e6f5d0"
            ],
            [
             0.7,
             "#b8e186"
            ],
            [
             0.8,
             "#7fbc41"
            ],
            [
             0.9,
             "#4d9221"
            ],
            [
             1,
             "#276419"
            ]
           ],
           "sequential": [
            [
             0,
             "#0d0887"
            ],
            [
             0.1111111111111111,
             "#46039f"
            ],
            [
             0.2222222222222222,
             "#7201a8"
            ],
            [
             0.3333333333333333,
             "#9c179e"
            ],
            [
             0.4444444444444444,
             "#bd3786"
            ],
            [
             0.5555555555555556,
             "#d8576b"
            ],
            [
             0.6666666666666666,
             "#ed7953"
            ],
            [
             0.7777777777777778,
             "#fb9f3a"
            ],
            [
             0.8888888888888888,
             "#fdca26"
            ],
            [
             1,
             "#f0f921"
            ]
           ],
           "sequentialminus": [
            [
             0,
             "#0d0887"
            ],
            [
             0.1111111111111111,
             "#46039f"
            ],
            [
             0.2222222222222222,
             "#7201a8"
            ],
            [
             0.3333333333333333,
             "#9c179e"
            ],
            [
             0.4444444444444444,
             "#bd3786"
            ],
            [
             0.5555555555555556,
             "#d8576b"
            ],
            [
             0.6666666666666666,
             "#ed7953"
            ],
            [
             0.7777777777777778,
             "#fb9f3a"
            ],
            [
             0.8888888888888888,
             "#fdca26"
            ],
            [
             1,
             "#f0f921"
            ]
           ]
          },
          "colorway": [
           "#636efa",
           "#EF553B",
           "#00cc96",
           "#ab63fa",
           "#FFA15A",
           "#19d3f3",
           "#FF6692",
           "#B6E880",
           "#FF97FF",
           "#FECB52"
          ],
          "font": {
           "color": "#2a3f5f"
          },
          "geo": {
           "bgcolor": "white",
           "lakecolor": "white",
           "landcolor": "#E5ECF6",
           "showlakes": true,
           "showland": true,
           "subunitcolor": "white"
          },
          "hoverlabel": {
           "align": "left"
          },
          "hovermode": "closest",
          "mapbox": {
           "style": "light"
          },
          "paper_bgcolor": "white",
          "plot_bgcolor": "#E5ECF6",
          "polar": {
           "angularaxis": {
            "gridcolor": "white",
            "linecolor": "white",
            "ticks": ""
           },
           "bgcolor": "#E5ECF6",
           "radialaxis": {
            "gridcolor": "white",
            "linecolor": "white",
            "ticks": ""
           }
          },
          "scene": {
           "xaxis": {
            "backgroundcolor": "#E5ECF6",
            "gridcolor": "white",
            "gridwidth": 2,
            "linecolor": "white",
            "showbackground": true,
            "ticks": "",
            "zerolinecolor": "white"
           },
           "yaxis": {
            "backgroundcolor": "#E5ECF6",
            "gridcolor": "white",
            "gridwidth": 2,
            "linecolor": "white",
            "showbackground": true,
            "ticks": "",
            "zerolinecolor": "white"
           },
           "zaxis": {
            "backgroundcolor": "#E5ECF6",
            "gridcolor": "white",
            "gridwidth": 2,
            "linecolor": "white",
            "showbackground": true,
            "ticks": "",
            "zerolinecolor": "white"
           }
          },
          "shapedefaults": {
           "line": {
            "color": "#2a3f5f"
           }
          },
          "ternary": {
           "aaxis": {
            "gridcolor": "white",
            "linecolor": "white",
            "ticks": ""
           },
           "baxis": {
            "gridcolor": "white",
            "linecolor": "white",
            "ticks": ""
           },
           "bgcolor": "#E5ECF6",
           "caxis": {
            "gridcolor": "white",
            "linecolor": "white",
            "ticks": ""
           }
          },
          "title": {
           "x": 0.05
          },
          "xaxis": {
           "automargin": true,
           "gridcolor": "white",
           "linecolor": "white",
           "ticks": "",
           "title": {
            "standoff": 15
           },
           "zerolinecolor": "white",
           "zerolinewidth": 2
          },
          "yaxis": {
           "automargin": true,
           "gridcolor": "white",
           "linecolor": "white",
           "ticks": "",
           "title": {
            "standoff": 15
           },
           "zerolinecolor": "white",
           "zerolinewidth": 2
          }
         }
        },
        "title": {
         "font": {
          "color": "#4D5663"
         }
        },
        "xaxis": {
         "gridcolor": "#E1E5ED",
         "showgrid": true,
         "tickfont": {
          "color": "#4D5663"
         },
         "title": {
          "font": {
           "color": "#4D5663"
          },
          "text": ""
         },
         "zerolinecolor": "#E1E5ED"
        },
        "yaxis": {
         "gridcolor": "#E1E5ED",
         "showgrid": true,
         "tickfont": {
          "color": "#4D5663"
         },
         "title": {
          "font": {
           "color": "#4D5663"
          },
          "text": ""
         },
         "zerolinecolor": "#E1E5ED"
        }
       }
      },
      "text/html": [
       "<div>\n",
       "        \n",
       "        \n",
       "            <div id=\"36a43a19-6dba-43af-b537-778ab2cc8980\" class=\"plotly-graph-div\" style=\"height:525px; width:100%;\"></div>\n",
       "            <script type=\"text/javascript\">\n",
       "                require([\"plotly\"], function(Plotly) {\n",
       "                    window.PLOTLYENV=window.PLOTLYENV || {};\n",
       "                    window.PLOTLYENV.BASE_URL='https://plot.ly';\n",
       "                    \n",
       "                if (document.getElementById(\"36a43a19-6dba-43af-b537-778ab2cc8980\")) {\n",
       "                    Plotly.newPlot(\n",
       "                        '36a43a19-6dba-43af-b537-778ab2cc8980',\n",
       "                        [{\"line\": {\"color\": \"rgba(255, 153, 51, 1.0)\", \"dash\": \"solid\", \"shape\": \"linear\", \"width\": 1.3}, \"marker\": {\"size\": 10, \"symbol\": \"circle\"}, \"mode\": \"markers\", \"name\": \"B\", \"text\": \"\", \"type\": \"scatter\", \"x\": [-0.28658062289161507, 2.8713810642415774, -0.8356058485756809, 0.015123707936464765, -0.36393332536263484, 2.341958955914593, 0.026375334658533516, -0.8912079656500846, 1.5259075076059636, -0.7251464655554153, -2.208567554152265, 0.8160362211716472, 0.1352305382758277, -0.07773618163611463, -1.6218256058133913, -1.4461184112948848, -0.9432178303375855, 0.11042142518952364, 0.22210119025882, 0.29314536564232757, -1.3667737782574663, 2.1170959584160776, -1.9885300360304687, 0.3009043264085271, 1.4900545862313435, 0.16707632821401622, 0.9089693366488185, -0.5309538275682677, -0.5645450618475066, 1.6180166982761703, 0.7121765540358281, -0.7133586311906459, 0.5262454614186426, -0.6978902815960228, 0.6315922215150983, 1.0230806194359456, 0.3552860393922047, -0.5659277005265211, -0.04418343728629043, 0.28347053779399023, 2.0322264650736446, -0.7523401320867622, -0.8403470210799748, 0.27784684716034863, 0.1822850299791254, -0.3697102441389198, -0.021692284748169602, -2.108941307116421, 0.31163343692776824, 2.283327532521014, -0.21171012089409746, -0.14660748153512856, 0.9344186636741401, -0.6106330572294365, -1.5392174683883328, -1.0058035991732786, 2.207169422150619, -1.9791714166370522, -0.7716556864796765, 0.42222551730076235, -0.790403471570592, 0.4827492291330723, 1.25811273044089, -0.4173142231933926, -1.683138705155208, -1.34399245571848, 0.4625126996712462, 1.2210567254188085, 0.07491053801766187, 1.6386682454467674, -0.5700560828390816, -1.200150895129222, -0.4816388445980546, -1.2599499551980429, 0.12748578860097046, -0.5886401471762375, 1.5612153234010075, 0.883110723570033, -0.6793443992951693, -1.7579488291595078, -0.6262305193938559, -0.597589289924199, 0.5975570794231981, -0.8338945349348488, 0.8538301101490644, -1.228745130925553, -0.07970988512138309, -1.5924974279353095, 0.9272268562201983, -0.14144485985252866, 0.6360884600335864, -0.6850117004071394, -0.3733130217574712, -1.6315284967377977, 0.7805667618604121, -0.5193183640984484, -0.7885902824548963, -0.23556747027558908, 1.1819720205400592, 0.5899214406180822], \"y\": [1.5740728987236858, -0.5204962324025592, 0.3784879080197764, 0.5665830926250587, 1.8307528761381824, 1.496398337103953, 0.319114278020899, 1.3241804073809924, -2.2199737044173027, 0.4069568095734938, 0.14826216989882013, -0.994303336633359, -0.36208520713052306, 1.7495268971863218, -0.4261065698300166, -1.7270517273707098, -2.357261283307402, 2.403928501039504, 0.6251246787404335, -0.004245790921073416, 1.6803335896006206, -0.7740097921221676, -0.17455728219713768, 0.5346934292088612, -0.16299832133350473, -1.6430005512614236, 0.1874046982263252, 0.3062098943756686, -1.075078115834331, -1.2214886703038546, -0.14724209756744944, 0.2429769271893512, -0.23269608358220994, 0.36352732895139045, 0.7934071373939708, -2.5011489951532644, -0.18797315258982397, 0.38603232777514507, 2.045463743570114, -0.26097071764894264, 0.550200525982311, -1.0767578575594094, 0.5983416714319514, -0.6321645924326897, -0.2766778496970904, 0.6695187229527138, 1.0353017178297368, 0.5761075611725717, 1.4718017958919445, -0.4896305364712738, 1.1538261951756705, 1.158823447440352, -0.8732216047844114, 1.520045712919522, 0.5910070115791487, -0.7236162689815163, -1.2718512751459379, 0.4412226470368304, 0.6634561156688739, -0.4577892833900473, 0.1318589819788368, -1.4368522046631298, -1.8395329503791198, -1.6492182544058702, -2.4797759739644487, 0.03894320353626314, -0.35092509075247313, 1.388297843133826, 0.11573851710811286, 0.3062732272678091, -0.46590267674086555, 0.5456442466695953, -0.5304629942227559, -0.4313314370468433, -0.08957726082416721, 1.1264734945274768, -0.9290255244862805, -1.7314167216950984, -0.30353773563327374, -0.4913771831551384, 1.1019884388012529, -1.1006777820996694, 0.02889859416952101, 0.7844200346560151, 0.4196265261180495, -0.6473364753369074, 0.42737665263402697, -1.5403520115571134, 0.425865498394857, -0.17886127476218783, -0.4685216389506663, -1.155388110493677, 0.46525913637554894, 0.9437691551712757, -0.744522351346594, -0.5107890860366717, -1.3104476513425958, -0.3659836777369112, -0.218182149822733, 0.5665569826426838]}],\n",
       "                        {\"legend\": {\"bgcolor\": \"#F5F6F9\", \"font\": {\"color\": \"#4D5663\"}}, \"paper_bgcolor\": \"#F5F6F9\", \"plot_bgcolor\": \"#F5F6F9\", \"template\": {\"data\": {\"bar\": [{\"error_x\": {\"color\": \"#2a3f5f\"}, \"error_y\": {\"color\": \"#2a3f5f\"}, \"marker\": {\"line\": {\"color\": \"#E5ECF6\", \"width\": 0.5}}, \"type\": \"bar\"}], \"barpolar\": [{\"marker\": {\"line\": {\"color\": \"#E5ECF6\", \"width\": 0.5}}, \"type\": \"barpolar\"}], \"carpet\": [{\"aaxis\": {\"endlinecolor\": \"#2a3f5f\", \"gridcolor\": \"white\", \"linecolor\": \"white\", \"minorgridcolor\": \"white\", \"startlinecolor\": \"#2a3f5f\"}, \"baxis\": {\"endlinecolor\": \"#2a3f5f\", \"gridcolor\": \"white\", \"linecolor\": \"white\", \"minorgridcolor\": \"white\", \"startlinecolor\": \"#2a3f5f\"}, \"type\": \"carpet\"}], \"choropleth\": [{\"colorbar\": {\"outlinewidth\": 0, \"ticks\": \"\"}, \"type\": \"choropleth\"}], \"contour\": [{\"colorbar\": {\"outlinewidth\": 0, \"ticks\": \"\"}, \"colorscale\": [[0.0, \"#0d0887\"], [0.1111111111111111, \"#46039f\"], [0.2222222222222222, \"#7201a8\"], [0.3333333333333333, \"#9c179e\"], [0.4444444444444444, \"#bd3786\"], [0.5555555555555556, \"#d8576b\"], [0.6666666666666666, \"#ed7953\"], [0.7777777777777778, \"#fb9f3a\"], [0.8888888888888888, \"#fdca26\"], [1.0, \"#f0f921\"]], \"type\": \"contour\"}], \"contourcarpet\": [{\"colorbar\": {\"outlinewidth\": 0, \"ticks\": \"\"}, \"type\": \"contourcarpet\"}], \"heatmap\": [{\"colorbar\": {\"outlinewidth\": 0, \"ticks\": \"\"}, \"colorscale\": [[0.0, \"#0d0887\"], [0.1111111111111111, \"#46039f\"], [0.2222222222222222, \"#7201a8\"], [0.3333333333333333, \"#9c179e\"], [0.4444444444444444, \"#bd3786\"], [0.5555555555555556, \"#d8576b\"], [0.6666666666666666, \"#ed7953\"], [0.7777777777777778, \"#fb9f3a\"], [0.8888888888888888, \"#fdca26\"], [1.0, \"#f0f921\"]], \"type\": \"heatmap\"}], \"heatmapgl\": [{\"colorbar\": {\"outlinewidth\": 0, \"ticks\": \"\"}, \"colorscale\": [[0.0, \"#0d0887\"], [0.1111111111111111, \"#46039f\"], [0.2222222222222222, \"#7201a8\"], [0.3333333333333333, \"#9c179e\"], [0.4444444444444444, \"#bd3786\"], [0.5555555555555556, \"#d8576b\"], [0.6666666666666666, \"#ed7953\"], [0.7777777777777778, \"#fb9f3a\"], [0.8888888888888888, \"#fdca26\"], [1.0, \"#f0f921\"]], \"type\": \"heatmapgl\"}], \"histogram\": [{\"marker\": {\"colorbar\": {\"outlinewidth\": 0, \"ticks\": \"\"}}, \"type\": \"histogram\"}], \"histogram2d\": [{\"colorbar\": {\"outlinewidth\": 0, \"ticks\": \"\"}, \"colorscale\": [[0.0, \"#0d0887\"], [0.1111111111111111, \"#46039f\"], [0.2222222222222222, \"#7201a8\"], [0.3333333333333333, \"#9c179e\"], [0.4444444444444444, \"#bd3786\"], [0.5555555555555556, \"#d8576b\"], [0.6666666666666666, \"#ed7953\"], [0.7777777777777778, \"#fb9f3a\"], [0.8888888888888888, \"#fdca26\"], [1.0, \"#f0f921\"]], \"type\": \"histogram2d\"}], \"histogram2dcontour\": [{\"colorbar\": {\"outlinewidth\": 0, \"ticks\": \"\"}, \"colorscale\": [[0.0, \"#0d0887\"], [0.1111111111111111, \"#46039f\"], [0.2222222222222222, \"#7201a8\"], [0.3333333333333333, \"#9c179e\"], [0.4444444444444444, \"#bd3786\"], [0.5555555555555556, \"#d8576b\"], [0.6666666666666666, \"#ed7953\"], [0.7777777777777778, \"#fb9f3a\"], [0.8888888888888888, \"#fdca26\"], [1.0, \"#f0f921\"]], \"type\": \"histogram2dcontour\"}], \"mesh3d\": [{\"colorbar\": {\"outlinewidth\": 0, \"ticks\": \"\"}, \"type\": \"mesh3d\"}], \"parcoords\": [{\"line\": {\"colorbar\": {\"outlinewidth\": 0, \"ticks\": \"\"}}, \"type\": \"parcoords\"}], \"pie\": [{\"automargin\": true, \"type\": \"pie\"}], \"scatter\": [{\"marker\": {\"colorbar\": {\"outlinewidth\": 0, \"ticks\": \"\"}}, \"type\": \"scatter\"}], \"scatter3d\": [{\"line\": {\"colorbar\": {\"outlinewidth\": 0, \"ticks\": \"\"}}, \"marker\": {\"colorbar\": {\"outlinewidth\": 0, \"ticks\": \"\"}}, \"type\": \"scatter3d\"}], \"scattercarpet\": [{\"marker\": {\"colorbar\": {\"outlinewidth\": 0, \"ticks\": \"\"}}, \"type\": \"scattercarpet\"}], \"scattergeo\": [{\"marker\": {\"colorbar\": {\"outlinewidth\": 0, \"ticks\": \"\"}}, \"type\": \"scattergeo\"}], \"scattergl\": [{\"marker\": {\"colorbar\": {\"outlinewidth\": 0, \"ticks\": \"\"}}, \"type\": \"scattergl\"}], \"scattermapbox\": [{\"marker\": {\"colorbar\": {\"outlinewidth\": 0, \"ticks\": \"\"}}, \"type\": \"scattermapbox\"}], \"scatterpolar\": [{\"marker\": {\"colorbar\": {\"outlinewidth\": 0, \"ticks\": \"\"}}, \"type\": \"scatterpolar\"}], \"scatterpolargl\": [{\"marker\": {\"colorbar\": {\"outlinewidth\": 0, \"ticks\": \"\"}}, \"type\": \"scatterpolargl\"}], \"scatterternary\": [{\"marker\": {\"colorbar\": {\"outlinewidth\": 0, \"ticks\": \"\"}}, \"type\": \"scatterternary\"}], \"surface\": [{\"colorbar\": {\"outlinewidth\": 0, \"ticks\": \"\"}, \"colorscale\": [[0.0, \"#0d0887\"], [0.1111111111111111, \"#46039f\"], [0.2222222222222222, \"#7201a8\"], [0.3333333333333333, \"#9c179e\"], [0.4444444444444444, \"#bd3786\"], [0.5555555555555556, \"#d8576b\"], [0.6666666666666666, \"#ed7953\"], [0.7777777777777778, \"#fb9f3a\"], [0.8888888888888888, \"#fdca26\"], [1.0, \"#f0f921\"]], \"type\": \"surface\"}], \"table\": [{\"cells\": {\"fill\": {\"color\": \"#EBF0F8\"}, \"line\": {\"color\": \"white\"}}, \"header\": {\"fill\": {\"color\": \"#C8D4E3\"}, \"line\": {\"color\": \"white\"}}, \"type\": \"table\"}]}, \"layout\": {\"annotationdefaults\": {\"arrowcolor\": \"#2a3f5f\", \"arrowhead\": 0, \"arrowwidth\": 1}, \"coloraxis\": {\"colorbar\": {\"outlinewidth\": 0, \"ticks\": \"\"}}, \"colorscale\": {\"diverging\": [[0, \"#8e0152\"], [0.1, \"#c51b7d\"], [0.2, \"#de77ae\"], [0.3, \"#f1b6da\"], [0.4, \"#fde0ef\"], [0.5, \"#f7f7f7\"], [0.6, \"#e6f5d0\"], [0.7, \"#b8e186\"], [0.8, \"#7fbc41\"], [0.9, \"#4d9221\"], [1, \"#276419\"]], \"sequential\": [[0.0, \"#0d0887\"], [0.1111111111111111, \"#46039f\"], [0.2222222222222222, \"#7201a8\"], [0.3333333333333333, \"#9c179e\"], [0.4444444444444444, \"#bd3786\"], [0.5555555555555556, \"#d8576b\"], [0.6666666666666666, \"#ed7953\"], [0.7777777777777778, \"#fb9f3a\"], [0.8888888888888888, \"#fdca26\"], [1.0, \"#f0f921\"]], \"sequentialminus\": [[0.0, \"#0d0887\"], [0.1111111111111111, \"#46039f\"], [0.2222222222222222, \"#7201a8\"], [0.3333333333333333, \"#9c179e\"], [0.4444444444444444, \"#bd3786\"], [0.5555555555555556, \"#d8576b\"], [0.6666666666666666, \"#ed7953\"], [0.7777777777777778, \"#fb9f3a\"], [0.8888888888888888, \"#fdca26\"], [1.0, \"#f0f921\"]]}, \"colorway\": [\"#636efa\", \"#EF553B\", \"#00cc96\", \"#ab63fa\", \"#FFA15A\", \"#19d3f3\", \"#FF6692\", \"#B6E880\", \"#FF97FF\", \"#FECB52\"], \"font\": {\"color\": \"#2a3f5f\"}, \"geo\": {\"bgcolor\": \"white\", \"lakecolor\": \"white\", \"landcolor\": \"#E5ECF6\", \"showlakes\": true, \"showland\": true, \"subunitcolor\": \"white\"}, \"hoverlabel\": {\"align\": \"left\"}, \"hovermode\": \"closest\", \"mapbox\": {\"style\": \"light\"}, \"paper_bgcolor\": \"white\", \"plot_bgcolor\": \"#E5ECF6\", \"polar\": {\"angularaxis\": {\"gridcolor\": \"white\", \"linecolor\": \"white\", \"ticks\": \"\"}, \"bgcolor\": \"#E5ECF6\", \"radialaxis\": {\"gridcolor\": \"white\", \"linecolor\": \"white\", \"ticks\": \"\"}}, \"scene\": {\"xaxis\": {\"backgroundcolor\": \"#E5ECF6\", \"gridcolor\": \"white\", \"gridwidth\": 2, \"linecolor\": \"white\", \"showbackground\": true, \"ticks\": \"\", \"zerolinecolor\": \"white\"}, \"yaxis\": {\"backgroundcolor\": \"#E5ECF6\", \"gridcolor\": \"white\", \"gridwidth\": 2, \"linecolor\": \"white\", \"showbackground\": true, \"ticks\": \"\", \"zerolinecolor\": \"white\"}, \"zaxis\": {\"backgroundcolor\": \"#E5ECF6\", \"gridcolor\": \"white\", \"gridwidth\": 2, \"linecolor\": \"white\", \"showbackground\": true, \"ticks\": \"\", \"zerolinecolor\": \"white\"}}, \"shapedefaults\": {\"line\": {\"color\": \"#2a3f5f\"}}, \"ternary\": {\"aaxis\": {\"gridcolor\": \"white\", \"linecolor\": \"white\", \"ticks\": \"\"}, \"baxis\": {\"gridcolor\": \"white\", \"linecolor\": \"white\", \"ticks\": \"\"}, \"bgcolor\": \"#E5ECF6\", \"caxis\": {\"gridcolor\": \"white\", \"linecolor\": \"white\", \"ticks\": \"\"}}, \"title\": {\"x\": 0.05}, \"xaxis\": {\"automargin\": true, \"gridcolor\": \"white\", \"linecolor\": \"white\", \"ticks\": \"\", \"title\": {\"standoff\": 15}, \"zerolinecolor\": \"white\", \"zerolinewidth\": 2}, \"yaxis\": {\"automargin\": true, \"gridcolor\": \"white\", \"linecolor\": \"white\", \"ticks\": \"\", \"title\": {\"standoff\": 15}, \"zerolinecolor\": \"white\", \"zerolinewidth\": 2}}}, \"title\": {\"font\": {\"color\": \"#4D5663\"}}, \"xaxis\": {\"gridcolor\": \"#E1E5ED\", \"showgrid\": true, \"tickfont\": {\"color\": \"#4D5663\"}, \"title\": {\"font\": {\"color\": \"#4D5663\"}, \"text\": \"\"}, \"zerolinecolor\": \"#E1E5ED\"}, \"yaxis\": {\"gridcolor\": \"#E1E5ED\", \"showgrid\": true, \"tickfont\": {\"color\": \"#4D5663\"}, \"title\": {\"font\": {\"color\": \"#4D5663\"}, \"text\": \"\"}, \"zerolinecolor\": \"#E1E5ED\"}},\n",
       "                        {\"showLink\": true, \"linkText\": \"Export to plot.ly\", \"plotlyServerURL\": \"https://plot.ly\", \"responsive\": true}\n",
       "                    ).then(function(){\n",
       "                            \n",
       "var gd = document.getElementById('36a43a19-6dba-43af-b537-778ab2cc8980');\n",
       "var x = new MutationObserver(function (mutations, observer) {{\n",
       "        var display = window.getComputedStyle(gd).display;\n",
       "        if (!display || display === 'none') {{\n",
       "            console.log([gd, 'removed!']);\n",
       "            Plotly.purge(gd);\n",
       "            observer.disconnect();\n",
       "        }}\n",
       "}});\n",
       "\n",
       "// Listen for the removal of the full notebook cells\n",
       "var notebookContainer = gd.closest('#notebook-container');\n",
       "if (notebookContainer) {{\n",
       "    x.observe(notebookContainer, {childList: true});\n",
       "}}\n",
       "\n",
       "// Listen for the clearing of the current output cell\n",
       "var outputEl = gd.closest('.output');\n",
       "if (outputEl) {{\n",
       "    x.observe(outputEl, {childList: true});\n",
       "}}\n",
       "\n",
       "                        })\n",
       "                };\n",
       "                });\n",
       "            </script>\n",
       "        </div>"
      ]
     },
     "metadata": {},
     "output_type": "display_data"
    }
   ],
   "source": [
    "df.iplot(kind='scatter',x='A',y='B',mode='markers',size=10)"
   ]
  },
  {
   "cell_type": "markdown",
   "metadata": {},
   "source": [
    "## Bar Plots"
   ]
  },
  {
   "cell_type": "code",
   "execution_count": 11,
   "metadata": {},
   "outputs": [
    {
     "data": {
      "application/vnd.plotly.v1+json": {
       "config": {
        "linkText": "Export to plot.ly",
        "plotlyServerURL": "https://plot.ly",
        "showLink": true
       },
       "data": [
        {
         "marker": {
          "color": "rgba(255, 153, 51, 0.6)",
          "line": {
           "color": "rgba(255, 153, 51, 1.0)",
           "width": 1
          }
         },
         "name": "Values",
         "orientation": "v",
         "text": "",
         "type": "bar",
         "x": [
          "A",
          "B",
          "C"
         ],
         "y": [
          32,
          43,
          50
         ]
        }
       ],
       "layout": {
        "legend": {
         "bgcolor": "#F5F6F9",
         "font": {
          "color": "#4D5663"
         }
        },
        "paper_bgcolor": "#F5F6F9",
        "plot_bgcolor": "#F5F6F9",
        "template": {
         "data": {
          "bar": [
           {
            "error_x": {
             "color": "#2a3f5f"
            },
            "error_y": {
             "color": "#2a3f5f"
            },
            "marker": {
             "line": {
              "color": "#E5ECF6",
              "width": 0.5
             }
            },
            "type": "bar"
           }
          ],
          "barpolar": [
           {
            "marker": {
             "line": {
              "color": "#E5ECF6",
              "width": 0.5
             }
            },
            "type": "barpolar"
           }
          ],
          "carpet": [
           {
            "aaxis": {
             "endlinecolor": "#2a3f5f",
             "gridcolor": "white",
             "linecolor": "white",
             "minorgridcolor": "white",
             "startlinecolor": "#2a3f5f"
            },
            "baxis": {
             "endlinecolor": "#2a3f5f",
             "gridcolor": "white",
             "linecolor": "white",
             "minorgridcolor": "white",
             "startlinecolor": "#2a3f5f"
            },
            "type": "carpet"
           }
          ],
          "choropleth": [
           {
            "colorbar": {
             "outlinewidth": 0,
             "ticks": ""
            },
            "type": "choropleth"
           }
          ],
          "contour": [
           {
            "colorbar": {
             "outlinewidth": 0,
             "ticks": ""
            },
            "colorscale": [
             [
              0,
              "#0d0887"
             ],
             [
              0.1111111111111111,
              "#46039f"
             ],
             [
              0.2222222222222222,
              "#7201a8"
             ],
             [
              0.3333333333333333,
              "#9c179e"
             ],
             [
              0.4444444444444444,
              "#bd3786"
             ],
             [
              0.5555555555555556,
              "#d8576b"
             ],
             [
              0.6666666666666666,
              "#ed7953"
             ],
             [
              0.7777777777777778,
              "#fb9f3a"
             ],
             [
              0.8888888888888888,
              "#fdca26"
             ],
             [
              1,
              "#f0f921"
             ]
            ],
            "type": "contour"
           }
          ],
          "contourcarpet": [
           {
            "colorbar": {
             "outlinewidth": 0,
             "ticks": ""
            },
            "type": "contourcarpet"
           }
          ],
          "heatmap": [
           {
            "colorbar": {
             "outlinewidth": 0,
             "ticks": ""
            },
            "colorscale": [
             [
              0,
              "#0d0887"
             ],
             [
              0.1111111111111111,
              "#46039f"
             ],
             [
              0.2222222222222222,
              "#7201a8"
             ],
             [
              0.3333333333333333,
              "#9c179e"
             ],
             [
              0.4444444444444444,
              "#bd3786"
             ],
             [
              0.5555555555555556,
              "#d8576b"
             ],
             [
              0.6666666666666666,
              "#ed7953"
             ],
             [
              0.7777777777777778,
              "#fb9f3a"
             ],
             [
              0.8888888888888888,
              "#fdca26"
             ],
             [
              1,
              "#f0f921"
             ]
            ],
            "type": "heatmap"
           }
          ],
          "heatmapgl": [
           {
            "colorbar": {
             "outlinewidth": 0,
             "ticks": ""
            },
            "colorscale": [
             [
              0,
              "#0d0887"
             ],
             [
              0.1111111111111111,
              "#46039f"
             ],
             [
              0.2222222222222222,
              "#7201a8"
             ],
             [
              0.3333333333333333,
              "#9c179e"
             ],
             [
              0.4444444444444444,
              "#bd3786"
             ],
             [
              0.5555555555555556,
              "#d8576b"
             ],
             [
              0.6666666666666666,
              "#ed7953"
             ],
             [
              0.7777777777777778,
              "#fb9f3a"
             ],
             [
              0.8888888888888888,
              "#fdca26"
             ],
             [
              1,
              "#f0f921"
             ]
            ],
            "type": "heatmapgl"
           }
          ],
          "histogram": [
           {
            "marker": {
             "colorbar": {
              "outlinewidth": 0,
              "ticks": ""
             }
            },
            "type": "histogram"
           }
          ],
          "histogram2d": [
           {
            "colorbar": {
             "outlinewidth": 0,
             "ticks": ""
            },
            "colorscale": [
             [
              0,
              "#0d0887"
             ],
             [
              0.1111111111111111,
              "#46039f"
             ],
             [
              0.2222222222222222,
              "#7201a8"
             ],
             [
              0.3333333333333333,
              "#9c179e"
             ],
             [
              0.4444444444444444,
              "#bd3786"
             ],
             [
              0.5555555555555556,
              "#d8576b"
             ],
             [
              0.6666666666666666,
              "#ed7953"
             ],
             [
              0.7777777777777778,
              "#fb9f3a"
             ],
             [
              0.8888888888888888,
              "#fdca26"
             ],
             [
              1,
              "#f0f921"
             ]
            ],
            "type": "histogram2d"
           }
          ],
          "histogram2dcontour": [
           {
            "colorbar": {
             "outlinewidth": 0,
             "ticks": ""
            },
            "colorscale": [
             [
              0,
              "#0d0887"
             ],
             [
              0.1111111111111111,
              "#46039f"
             ],
             [
              0.2222222222222222,
              "#7201a8"
             ],
             [
              0.3333333333333333,
              "#9c179e"
             ],
             [
              0.4444444444444444,
              "#bd3786"
             ],
             [
              0.5555555555555556,
              "#d8576b"
             ],
             [
              0.6666666666666666,
              "#ed7953"
             ],
             [
              0.7777777777777778,
              "#fb9f3a"
             ],
             [
              0.8888888888888888,
              "#fdca26"
             ],
             [
              1,
              "#f0f921"
             ]
            ],
            "type": "histogram2dcontour"
           }
          ],
          "mesh3d": [
           {
            "colorbar": {
             "outlinewidth": 0,
             "ticks": ""
            },
            "type": "mesh3d"
           }
          ],
          "parcoords": [
           {
            "line": {
             "colorbar": {
              "outlinewidth": 0,
              "ticks": ""
             }
            },
            "type": "parcoords"
           }
          ],
          "pie": [
           {
            "automargin": true,
            "type": "pie"
           }
          ],
          "scatter": [
           {
            "marker": {
             "colorbar": {
              "outlinewidth": 0,
              "ticks": ""
             }
            },
            "type": "scatter"
           }
          ],
          "scatter3d": [
           {
            "line": {
             "colorbar": {
              "outlinewidth": 0,
              "ticks": ""
             }
            },
            "marker": {
             "colorbar": {
              "outlinewidth": 0,
              "ticks": ""
             }
            },
            "type": "scatter3d"
           }
          ],
          "scattercarpet": [
           {
            "marker": {
             "colorbar": {
              "outlinewidth": 0,
              "ticks": ""
             }
            },
            "type": "scattercarpet"
           }
          ],
          "scattergeo": [
           {
            "marker": {
             "colorbar": {
              "outlinewidth": 0,
              "ticks": ""
             }
            },
            "type": "scattergeo"
           }
          ],
          "scattergl": [
           {
            "marker": {
             "colorbar": {
              "outlinewidth": 0,
              "ticks": ""
             }
            },
            "type": "scattergl"
           }
          ],
          "scattermapbox": [
           {
            "marker": {
             "colorbar": {
              "outlinewidth": 0,
              "ticks": ""
             }
            },
            "type": "scattermapbox"
           }
          ],
          "scatterpolar": [
           {
            "marker": {
             "colorbar": {
              "outlinewidth": 0,
              "ticks": ""
             }
            },
            "type": "scatterpolar"
           }
          ],
          "scatterpolargl": [
           {
            "marker": {
             "colorbar": {
              "outlinewidth": 0,
              "ticks": ""
             }
            },
            "type": "scatterpolargl"
           }
          ],
          "scatterternary": [
           {
            "marker": {
             "colorbar": {
              "outlinewidth": 0,
              "ticks": ""
             }
            },
            "type": "scatterternary"
           }
          ],
          "surface": [
           {
            "colorbar": {
             "outlinewidth": 0,
             "ticks": ""
            },
            "colorscale": [
             [
              0,
              "#0d0887"
             ],
             [
              0.1111111111111111,
              "#46039f"
             ],
             [
              0.2222222222222222,
              "#7201a8"
             ],
             [
              0.3333333333333333,
              "#9c179e"
             ],
             [
              0.4444444444444444,
              "#bd3786"
             ],
             [
              0.5555555555555556,
              "#d8576b"
             ],
             [
              0.6666666666666666,
              "#ed7953"
             ],
             [
              0.7777777777777778,
              "#fb9f3a"
             ],
             [
              0.8888888888888888,
              "#fdca26"
             ],
             [
              1,
              "#f0f921"
             ]
            ],
            "type": "surface"
           }
          ],
          "table": [
           {
            "cells": {
             "fill": {
              "color": "#EBF0F8"
             },
             "line": {
              "color": "white"
             }
            },
            "header": {
             "fill": {
              "color": "#C8D4E3"
             },
             "line": {
              "color": "white"
             }
            },
            "type": "table"
           }
          ]
         },
         "layout": {
          "annotationdefaults": {
           "arrowcolor": "#2a3f5f",
           "arrowhead": 0,
           "arrowwidth": 1
          },
          "coloraxis": {
           "colorbar": {
            "outlinewidth": 0,
            "ticks": ""
           }
          },
          "colorscale": {
           "diverging": [
            [
             0,
             "#8e0152"
            ],
            [
             0.1,
             "#c51b7d"
            ],
            [
             0.2,
             "#de77ae"
            ],
            [
             0.3,
             "#f1b6da"
            ],
            [
             0.4,
             "#fde0ef"
            ],
            [
             0.5,
             "#f7f7f7"
            ],
            [
             0.6,
             "#e6f5d0"
            ],
            [
             0.7,
             "#b8e186"
            ],
            [
             0.8,
             "#7fbc41"
            ],
            [
             0.9,
             "#4d9221"
            ],
            [
             1,
             "#276419"
            ]
           ],
           "sequential": [
            [
             0,
             "#0d0887"
            ],
            [
             0.1111111111111111,
             "#46039f"
            ],
            [
             0.2222222222222222,
             "#7201a8"
            ],
            [
             0.3333333333333333,
             "#9c179e"
            ],
            [
             0.4444444444444444,
             "#bd3786"
            ],
            [
             0.5555555555555556,
             "#d8576b"
            ],
            [
             0.6666666666666666,
             "#ed7953"
            ],
            [
             0.7777777777777778,
             "#fb9f3a"
            ],
            [
             0.8888888888888888,
             "#fdca26"
            ],
            [
             1,
             "#f0f921"
            ]
           ],
           "sequentialminus": [
            [
             0,
             "#0d0887"
            ],
            [
             0.1111111111111111,
             "#46039f"
            ],
            [
             0.2222222222222222,
             "#7201a8"
            ],
            [
             0.3333333333333333,
             "#9c179e"
            ],
            [
             0.4444444444444444,
             "#bd3786"
            ],
            [
             0.5555555555555556,
             "#d8576b"
            ],
            [
             0.6666666666666666,
             "#ed7953"
            ],
            [
             0.7777777777777778,
             "#fb9f3a"
            ],
            [
             0.8888888888888888,
             "#fdca26"
            ],
            [
             1,
             "#f0f921"
            ]
           ]
          },
          "colorway": [
           "#636efa",
           "#EF553B",
           "#00cc96",
           "#ab63fa",
           "#FFA15A",
           "#19d3f3",
           "#FF6692",
           "#B6E880",
           "#FF97FF",
           "#FECB52"
          ],
          "font": {
           "color": "#2a3f5f"
          },
          "geo": {
           "bgcolor": "white",
           "lakecolor": "white",
           "landcolor": "#E5ECF6",
           "showlakes": true,
           "showland": true,
           "subunitcolor": "white"
          },
          "hoverlabel": {
           "align": "left"
          },
          "hovermode": "closest",
          "mapbox": {
           "style": "light"
          },
          "paper_bgcolor": "white",
          "plot_bgcolor": "#E5ECF6",
          "polar": {
           "angularaxis": {
            "gridcolor": "white",
            "linecolor": "white",
            "ticks": ""
           },
           "bgcolor": "#E5ECF6",
           "radialaxis": {
            "gridcolor": "white",
            "linecolor": "white",
            "ticks": ""
           }
          },
          "scene": {
           "xaxis": {
            "backgroundcolor": "#E5ECF6",
            "gridcolor": "white",
            "gridwidth": 2,
            "linecolor": "white",
            "showbackground": true,
            "ticks": "",
            "zerolinecolor": "white"
           },
           "yaxis": {
            "backgroundcolor": "#E5ECF6",
            "gridcolor": "white",
            "gridwidth": 2,
            "linecolor": "white",
            "showbackground": true,
            "ticks": "",
            "zerolinecolor": "white"
           },
           "zaxis": {
            "backgroundcolor": "#E5ECF6",
            "gridcolor": "white",
            "gridwidth": 2,
            "linecolor": "white",
            "showbackground": true,
            "ticks": "",
            "zerolinecolor": "white"
           }
          },
          "shapedefaults": {
           "line": {
            "color": "#2a3f5f"
           }
          },
          "ternary": {
           "aaxis": {
            "gridcolor": "white",
            "linecolor": "white",
            "ticks": ""
           },
           "baxis": {
            "gridcolor": "white",
            "linecolor": "white",
            "ticks": ""
           },
           "bgcolor": "#E5ECF6",
           "caxis": {
            "gridcolor": "white",
            "linecolor": "white",
            "ticks": ""
           }
          },
          "title": {
           "x": 0.05
          },
          "xaxis": {
           "automargin": true,
           "gridcolor": "white",
           "linecolor": "white",
           "ticks": "",
           "title": {
            "standoff": 15
           },
           "zerolinecolor": "white",
           "zerolinewidth": 2
          },
          "yaxis": {
           "automargin": true,
           "gridcolor": "white",
           "linecolor": "white",
           "ticks": "",
           "title": {
            "standoff": 15
           },
           "zerolinecolor": "white",
           "zerolinewidth": 2
          }
         }
        },
        "title": {
         "font": {
          "color": "#4D5663"
         }
        },
        "xaxis": {
         "gridcolor": "#E1E5ED",
         "showgrid": true,
         "tickfont": {
          "color": "#4D5663"
         },
         "title": {
          "font": {
           "color": "#4D5663"
          },
          "text": ""
         },
         "zerolinecolor": "#E1E5ED"
        },
        "yaxis": {
         "gridcolor": "#E1E5ED",
         "showgrid": true,
         "tickfont": {
          "color": "#4D5663"
         },
         "title": {
          "font": {
           "color": "#4D5663"
          },
          "text": ""
         },
         "zerolinecolor": "#E1E5ED"
        }
       }
      },
      "text/html": [
       "<div>\n",
       "        \n",
       "        \n",
       "            <div id=\"10978f64-7dad-4814-9b92-5dd397e85392\" class=\"plotly-graph-div\" style=\"height:525px; width:100%;\"></div>\n",
       "            <script type=\"text/javascript\">\n",
       "                require([\"plotly\"], function(Plotly) {\n",
       "                    window.PLOTLYENV=window.PLOTLYENV || {};\n",
       "                    window.PLOTLYENV.BASE_URL='https://plot.ly';\n",
       "                    \n",
       "                if (document.getElementById(\"10978f64-7dad-4814-9b92-5dd397e85392\")) {\n",
       "                    Plotly.newPlot(\n",
       "                        '10978f64-7dad-4814-9b92-5dd397e85392',\n",
       "                        [{\"marker\": {\"color\": \"rgba(255, 153, 51, 0.6)\", \"line\": {\"color\": \"rgba(255, 153, 51, 1.0)\", \"width\": 1}}, \"name\": \"Values\", \"orientation\": \"v\", \"text\": \"\", \"type\": \"bar\", \"x\": [\"A\", \"B\", \"C\"], \"y\": [32, 43, 50]}],\n",
       "                        {\"legend\": {\"bgcolor\": \"#F5F6F9\", \"font\": {\"color\": \"#4D5663\"}}, \"paper_bgcolor\": \"#F5F6F9\", \"plot_bgcolor\": \"#F5F6F9\", \"template\": {\"data\": {\"bar\": [{\"error_x\": {\"color\": \"#2a3f5f\"}, \"error_y\": {\"color\": \"#2a3f5f\"}, \"marker\": {\"line\": {\"color\": \"#E5ECF6\", \"width\": 0.5}}, \"type\": \"bar\"}], \"barpolar\": [{\"marker\": {\"line\": {\"color\": \"#E5ECF6\", \"width\": 0.5}}, \"type\": \"barpolar\"}], \"carpet\": [{\"aaxis\": {\"endlinecolor\": \"#2a3f5f\", \"gridcolor\": \"white\", \"linecolor\": \"white\", \"minorgridcolor\": \"white\", \"startlinecolor\": \"#2a3f5f\"}, \"baxis\": {\"endlinecolor\": \"#2a3f5f\", \"gridcolor\": \"white\", \"linecolor\": \"white\", \"minorgridcolor\": \"white\", \"startlinecolor\": \"#2a3f5f\"}, \"type\": \"carpet\"}], \"choropleth\": [{\"colorbar\": {\"outlinewidth\": 0, \"ticks\": \"\"}, \"type\": \"choropleth\"}], \"contour\": [{\"colorbar\": {\"outlinewidth\": 0, \"ticks\": \"\"}, \"colorscale\": [[0.0, \"#0d0887\"], [0.1111111111111111, \"#46039f\"], [0.2222222222222222, \"#7201a8\"], [0.3333333333333333, \"#9c179e\"], [0.4444444444444444, \"#bd3786\"], [0.5555555555555556, \"#d8576b\"], [0.6666666666666666, \"#ed7953\"], [0.7777777777777778, \"#fb9f3a\"], [0.8888888888888888, \"#fdca26\"], [1.0, \"#f0f921\"]], \"type\": \"contour\"}], \"contourcarpet\": [{\"colorbar\": {\"outlinewidth\": 0, \"ticks\": \"\"}, \"type\": \"contourcarpet\"}], \"heatmap\": [{\"colorbar\": {\"outlinewidth\": 0, \"ticks\": \"\"}, \"colorscale\": [[0.0, \"#0d0887\"], [0.1111111111111111, \"#46039f\"], [0.2222222222222222, \"#7201a8\"], [0.3333333333333333, \"#9c179e\"], [0.4444444444444444, \"#bd3786\"], [0.5555555555555556, \"#d8576b\"], [0.6666666666666666, \"#ed7953\"], [0.7777777777777778, \"#fb9f3a\"], [0.8888888888888888, \"#fdca26\"], [1.0, \"#f0f921\"]], \"type\": \"heatmap\"}], \"heatmapgl\": [{\"colorbar\": {\"outlinewidth\": 0, \"ticks\": \"\"}, \"colorscale\": [[0.0, \"#0d0887\"], [0.1111111111111111, \"#46039f\"], [0.2222222222222222, \"#7201a8\"], [0.3333333333333333, \"#9c179e\"], [0.4444444444444444, \"#bd3786\"], [0.5555555555555556, \"#d8576b\"], [0.6666666666666666, \"#ed7953\"], [0.7777777777777778, \"#fb9f3a\"], [0.8888888888888888, \"#fdca26\"], [1.0, \"#f0f921\"]], \"type\": \"heatmapgl\"}], \"histogram\": [{\"marker\": {\"colorbar\": {\"outlinewidth\": 0, \"ticks\": \"\"}}, \"type\": \"histogram\"}], \"histogram2d\": [{\"colorbar\": {\"outlinewidth\": 0, \"ticks\": \"\"}, \"colorscale\": [[0.0, \"#0d0887\"], [0.1111111111111111, \"#46039f\"], [0.2222222222222222, \"#7201a8\"], [0.3333333333333333, \"#9c179e\"], [0.4444444444444444, \"#bd3786\"], [0.5555555555555556, \"#d8576b\"], [0.6666666666666666, \"#ed7953\"], [0.7777777777777778, \"#fb9f3a\"], [0.8888888888888888, \"#fdca26\"], [1.0, \"#f0f921\"]], \"type\": \"histogram2d\"}], \"histogram2dcontour\": [{\"colorbar\": {\"outlinewidth\": 0, \"ticks\": \"\"}, \"colorscale\": [[0.0, \"#0d0887\"], [0.1111111111111111, \"#46039f\"], [0.2222222222222222, \"#7201a8\"], [0.3333333333333333, \"#9c179e\"], [0.4444444444444444, \"#bd3786\"], [0.5555555555555556, \"#d8576b\"], [0.6666666666666666, \"#ed7953\"], [0.7777777777777778, \"#fb9f3a\"], [0.8888888888888888, \"#fdca26\"], [1.0, \"#f0f921\"]], \"type\": \"histogram2dcontour\"}], \"mesh3d\": [{\"colorbar\": {\"outlinewidth\": 0, \"ticks\": \"\"}, \"type\": \"mesh3d\"}], \"parcoords\": [{\"line\": {\"colorbar\": {\"outlinewidth\": 0, \"ticks\": \"\"}}, \"type\": \"parcoords\"}], \"pie\": [{\"automargin\": true, \"type\": \"pie\"}], \"scatter\": [{\"marker\": {\"colorbar\": {\"outlinewidth\": 0, \"ticks\": \"\"}}, \"type\": \"scatter\"}], \"scatter3d\": [{\"line\": {\"colorbar\": {\"outlinewidth\": 0, \"ticks\": \"\"}}, \"marker\": {\"colorbar\": {\"outlinewidth\": 0, \"ticks\": \"\"}}, \"type\": \"scatter3d\"}], \"scattercarpet\": [{\"marker\": {\"colorbar\": {\"outlinewidth\": 0, \"ticks\": \"\"}}, \"type\": \"scattercarpet\"}], \"scattergeo\": [{\"marker\": {\"colorbar\": {\"outlinewidth\": 0, \"ticks\": \"\"}}, \"type\": \"scattergeo\"}], \"scattergl\": [{\"marker\": {\"colorbar\": {\"outlinewidth\": 0, \"ticks\": \"\"}}, \"type\": \"scattergl\"}], \"scattermapbox\": [{\"marker\": {\"colorbar\": {\"outlinewidth\": 0, \"ticks\": \"\"}}, \"type\": \"scattermapbox\"}], \"scatterpolar\": [{\"marker\": {\"colorbar\": {\"outlinewidth\": 0, \"ticks\": \"\"}}, \"type\": \"scatterpolar\"}], \"scatterpolargl\": [{\"marker\": {\"colorbar\": {\"outlinewidth\": 0, \"ticks\": \"\"}}, \"type\": \"scatterpolargl\"}], \"scatterternary\": [{\"marker\": {\"colorbar\": {\"outlinewidth\": 0, \"ticks\": \"\"}}, \"type\": \"scatterternary\"}], \"surface\": [{\"colorbar\": {\"outlinewidth\": 0, \"ticks\": \"\"}, \"colorscale\": [[0.0, \"#0d0887\"], [0.1111111111111111, \"#46039f\"], [0.2222222222222222, \"#7201a8\"], [0.3333333333333333, \"#9c179e\"], [0.4444444444444444, \"#bd3786\"], [0.5555555555555556, \"#d8576b\"], [0.6666666666666666, \"#ed7953\"], [0.7777777777777778, \"#fb9f3a\"], [0.8888888888888888, \"#fdca26\"], [1.0, \"#f0f921\"]], \"type\": \"surface\"}], \"table\": [{\"cells\": {\"fill\": {\"color\": \"#EBF0F8\"}, \"line\": {\"color\": \"white\"}}, \"header\": {\"fill\": {\"color\": \"#C8D4E3\"}, \"line\": {\"color\": \"white\"}}, \"type\": \"table\"}]}, \"layout\": {\"annotationdefaults\": {\"arrowcolor\": \"#2a3f5f\", \"arrowhead\": 0, \"arrowwidth\": 1}, \"coloraxis\": {\"colorbar\": {\"outlinewidth\": 0, \"ticks\": \"\"}}, \"colorscale\": {\"diverging\": [[0, \"#8e0152\"], [0.1, \"#c51b7d\"], [0.2, \"#de77ae\"], [0.3, \"#f1b6da\"], [0.4, \"#fde0ef\"], [0.5, \"#f7f7f7\"], [0.6, \"#e6f5d0\"], [0.7, \"#b8e186\"], [0.8, \"#7fbc41\"], [0.9, \"#4d9221\"], [1, \"#276419\"]], \"sequential\": [[0.0, \"#0d0887\"], [0.1111111111111111, \"#46039f\"], [0.2222222222222222, \"#7201a8\"], [0.3333333333333333, \"#9c179e\"], [0.4444444444444444, \"#bd3786\"], [0.5555555555555556, \"#d8576b\"], [0.6666666666666666, \"#ed7953\"], [0.7777777777777778, \"#fb9f3a\"], [0.8888888888888888, \"#fdca26\"], [1.0, \"#f0f921\"]], \"sequentialminus\": [[0.0, \"#0d0887\"], [0.1111111111111111, \"#46039f\"], [0.2222222222222222, \"#7201a8\"], [0.3333333333333333, \"#9c179e\"], [0.4444444444444444, \"#bd3786\"], [0.5555555555555556, \"#d8576b\"], [0.6666666666666666, \"#ed7953\"], [0.7777777777777778, \"#fb9f3a\"], [0.8888888888888888, \"#fdca26\"], [1.0, \"#f0f921\"]]}, \"colorway\": [\"#636efa\", \"#EF553B\", \"#00cc96\", \"#ab63fa\", \"#FFA15A\", \"#19d3f3\", \"#FF6692\", \"#B6E880\", \"#FF97FF\", \"#FECB52\"], \"font\": {\"color\": \"#2a3f5f\"}, \"geo\": {\"bgcolor\": \"white\", \"lakecolor\": \"white\", \"landcolor\": \"#E5ECF6\", \"showlakes\": true, \"showland\": true, \"subunitcolor\": \"white\"}, \"hoverlabel\": {\"align\": \"left\"}, \"hovermode\": \"closest\", \"mapbox\": {\"style\": \"light\"}, \"paper_bgcolor\": \"white\", \"plot_bgcolor\": \"#E5ECF6\", \"polar\": {\"angularaxis\": {\"gridcolor\": \"white\", \"linecolor\": \"white\", \"ticks\": \"\"}, \"bgcolor\": \"#E5ECF6\", \"radialaxis\": {\"gridcolor\": \"white\", \"linecolor\": \"white\", \"ticks\": \"\"}}, \"scene\": {\"xaxis\": {\"backgroundcolor\": \"#E5ECF6\", \"gridcolor\": \"white\", \"gridwidth\": 2, \"linecolor\": \"white\", \"showbackground\": true, \"ticks\": \"\", \"zerolinecolor\": \"white\"}, \"yaxis\": {\"backgroundcolor\": \"#E5ECF6\", \"gridcolor\": \"white\", \"gridwidth\": 2, \"linecolor\": \"white\", \"showbackground\": true, \"ticks\": \"\", \"zerolinecolor\": \"white\"}, \"zaxis\": {\"backgroundcolor\": \"#E5ECF6\", \"gridcolor\": \"white\", \"gridwidth\": 2, \"linecolor\": \"white\", \"showbackground\": true, \"ticks\": \"\", \"zerolinecolor\": \"white\"}}, \"shapedefaults\": {\"line\": {\"color\": \"#2a3f5f\"}}, \"ternary\": {\"aaxis\": {\"gridcolor\": \"white\", \"linecolor\": \"white\", \"ticks\": \"\"}, \"baxis\": {\"gridcolor\": \"white\", \"linecolor\": \"white\", \"ticks\": \"\"}, \"bgcolor\": \"#E5ECF6\", \"caxis\": {\"gridcolor\": \"white\", \"linecolor\": \"white\", \"ticks\": \"\"}}, \"title\": {\"x\": 0.05}, \"xaxis\": {\"automargin\": true, \"gridcolor\": \"white\", \"linecolor\": \"white\", \"ticks\": \"\", \"title\": {\"standoff\": 15}, \"zerolinecolor\": \"white\", \"zerolinewidth\": 2}, \"yaxis\": {\"automargin\": true, \"gridcolor\": \"white\", \"linecolor\": \"white\", \"ticks\": \"\", \"title\": {\"standoff\": 15}, \"zerolinecolor\": \"white\", \"zerolinewidth\": 2}}}, \"title\": {\"font\": {\"color\": \"#4D5663\"}}, \"xaxis\": {\"gridcolor\": \"#E1E5ED\", \"showgrid\": true, \"tickfont\": {\"color\": \"#4D5663\"}, \"title\": {\"font\": {\"color\": \"#4D5663\"}, \"text\": \"\"}, \"zerolinecolor\": \"#E1E5ED\"}, \"yaxis\": {\"gridcolor\": \"#E1E5ED\", \"showgrid\": true, \"tickfont\": {\"color\": \"#4D5663\"}, \"title\": {\"font\": {\"color\": \"#4D5663\"}, \"text\": \"\"}, \"zerolinecolor\": \"#E1E5ED\"}},\n",
       "                        {\"showLink\": true, \"linkText\": \"Export to plot.ly\", \"plotlyServerURL\": \"https://plot.ly\", \"responsive\": true}\n",
       "                    ).then(function(){\n",
       "                            \n",
       "var gd = document.getElementById('10978f64-7dad-4814-9b92-5dd397e85392');\n",
       "var x = new MutationObserver(function (mutations, observer) {{\n",
       "        var display = window.getComputedStyle(gd).display;\n",
       "        if (!display || display === 'none') {{\n",
       "            console.log([gd, 'removed!']);\n",
       "            Plotly.purge(gd);\n",
       "            observer.disconnect();\n",
       "        }}\n",
       "}});\n",
       "\n",
       "// Listen for the removal of the full notebook cells\n",
       "var notebookContainer = gd.closest('#notebook-container');\n",
       "if (notebookContainer) {{\n",
       "    x.observe(notebookContainer, {childList: true});\n",
       "}}\n",
       "\n",
       "// Listen for the clearing of the current output cell\n",
       "var outputEl = gd.closest('.output');\n",
       "if (outputEl) {{\n",
       "    x.observe(outputEl, {childList: true});\n",
       "}}\n",
       "\n",
       "                        })\n",
       "                };\n",
       "                });\n",
       "            </script>\n",
       "        </div>"
      ]
     },
     "metadata": {},
     "output_type": "display_data"
    }
   ],
   "source": [
    "df2.iplot(kind='bar',x='Category',y='Values')"
   ]
  },
  {
   "cell_type": "code",
   "execution_count": 12,
   "metadata": {},
   "outputs": [
    {
     "data": {
      "application/vnd.plotly.v1+json": {
       "config": {
        "linkText": "Export to plot.ly",
        "plotlyServerURL": "https://plot.ly",
        "showLink": true
       },
       "data": [
        {
         "marker": {
          "color": "rgba(255, 153, 51, 0.6)",
          "line": {
           "color": "rgba(255, 153, 51, 1.0)",
           "width": 1
          }
         },
         "name": "None",
         "orientation": "v",
         "text": "",
         "type": "bar",
         "x": [
          "A",
          "B",
          "C",
          "D"
         ],
         "y": [
          100,
          100,
          100,
          100
         ]
        }
       ],
       "layout": {
        "legend": {
         "bgcolor": "#F5F6F9",
         "font": {
          "color": "#4D5663"
         }
        },
        "paper_bgcolor": "#F5F6F9",
        "plot_bgcolor": "#F5F6F9",
        "template": {
         "data": {
          "bar": [
           {
            "error_x": {
             "color": "#2a3f5f"
            },
            "error_y": {
             "color": "#2a3f5f"
            },
            "marker": {
             "line": {
              "color": "#E5ECF6",
              "width": 0.5
             }
            },
            "type": "bar"
           }
          ],
          "barpolar": [
           {
            "marker": {
             "line": {
              "color": "#E5ECF6",
              "width": 0.5
             }
            },
            "type": "barpolar"
           }
          ],
          "carpet": [
           {
            "aaxis": {
             "endlinecolor": "#2a3f5f",
             "gridcolor": "white",
             "linecolor": "white",
             "minorgridcolor": "white",
             "startlinecolor": "#2a3f5f"
            },
            "baxis": {
             "endlinecolor": "#2a3f5f",
             "gridcolor": "white",
             "linecolor": "white",
             "minorgridcolor": "white",
             "startlinecolor": "#2a3f5f"
            },
            "type": "carpet"
           }
          ],
          "choropleth": [
           {
            "colorbar": {
             "outlinewidth": 0,
             "ticks": ""
            },
            "type": "choropleth"
           }
          ],
          "contour": [
           {
            "colorbar": {
             "outlinewidth": 0,
             "ticks": ""
            },
            "colorscale": [
             [
              0,
              "#0d0887"
             ],
             [
              0.1111111111111111,
              "#46039f"
             ],
             [
              0.2222222222222222,
              "#7201a8"
             ],
             [
              0.3333333333333333,
              "#9c179e"
             ],
             [
              0.4444444444444444,
              "#bd3786"
             ],
             [
              0.5555555555555556,
              "#d8576b"
             ],
             [
              0.6666666666666666,
              "#ed7953"
             ],
             [
              0.7777777777777778,
              "#fb9f3a"
             ],
             [
              0.8888888888888888,
              "#fdca26"
             ],
             [
              1,
              "#f0f921"
             ]
            ],
            "type": "contour"
           }
          ],
          "contourcarpet": [
           {
            "colorbar": {
             "outlinewidth": 0,
             "ticks": ""
            },
            "type": "contourcarpet"
           }
          ],
          "heatmap": [
           {
            "colorbar": {
             "outlinewidth": 0,
             "ticks": ""
            },
            "colorscale": [
             [
              0,
              "#0d0887"
             ],
             [
              0.1111111111111111,
              "#46039f"
             ],
             [
              0.2222222222222222,
              "#7201a8"
             ],
             [
              0.3333333333333333,
              "#9c179e"
             ],
             [
              0.4444444444444444,
              "#bd3786"
             ],
             [
              0.5555555555555556,
              "#d8576b"
             ],
             [
              0.6666666666666666,
              "#ed7953"
             ],
             [
              0.7777777777777778,
              "#fb9f3a"
             ],
             [
              0.8888888888888888,
              "#fdca26"
             ],
             [
              1,
              "#f0f921"
             ]
            ],
            "type": "heatmap"
           }
          ],
          "heatmapgl": [
           {
            "colorbar": {
             "outlinewidth": 0,
             "ticks": ""
            },
            "colorscale": [
             [
              0,
              "#0d0887"
             ],
             [
              0.1111111111111111,
              "#46039f"
             ],
             [
              0.2222222222222222,
              "#7201a8"
             ],
             [
              0.3333333333333333,
              "#9c179e"
             ],
             [
              0.4444444444444444,
              "#bd3786"
             ],
             [
              0.5555555555555556,
              "#d8576b"
             ],
             [
              0.6666666666666666,
              "#ed7953"
             ],
             [
              0.7777777777777778,
              "#fb9f3a"
             ],
             [
              0.8888888888888888,
              "#fdca26"
             ],
             [
              1,
              "#f0f921"
             ]
            ],
            "type": "heatmapgl"
           }
          ],
          "histogram": [
           {
            "marker": {
             "colorbar": {
              "outlinewidth": 0,
              "ticks": ""
             }
            },
            "type": "histogram"
           }
          ],
          "histogram2d": [
           {
            "colorbar": {
             "outlinewidth": 0,
             "ticks": ""
            },
            "colorscale": [
             [
              0,
              "#0d0887"
             ],
             [
              0.1111111111111111,
              "#46039f"
             ],
             [
              0.2222222222222222,
              "#7201a8"
             ],
             [
              0.3333333333333333,
              "#9c179e"
             ],
             [
              0.4444444444444444,
              "#bd3786"
             ],
             [
              0.5555555555555556,
              "#d8576b"
             ],
             [
              0.6666666666666666,
              "#ed7953"
             ],
             [
              0.7777777777777778,
              "#fb9f3a"
             ],
             [
              0.8888888888888888,
              "#fdca26"
             ],
             [
              1,
              "#f0f921"
             ]
            ],
            "type": "histogram2d"
           }
          ],
          "histogram2dcontour": [
           {
            "colorbar": {
             "outlinewidth": 0,
             "ticks": ""
            },
            "colorscale": [
             [
              0,
              "#0d0887"
             ],
             [
              0.1111111111111111,
              "#46039f"
             ],
             [
              0.2222222222222222,
              "#7201a8"
             ],
             [
              0.3333333333333333,
              "#9c179e"
             ],
             [
              0.4444444444444444,
              "#bd3786"
             ],
             [
              0.5555555555555556,
              "#d8576b"
             ],
             [
              0.6666666666666666,
              "#ed7953"
             ],
             [
              0.7777777777777778,
              "#fb9f3a"
             ],
             [
              0.8888888888888888,
              "#fdca26"
             ],
             [
              1,
              "#f0f921"
             ]
            ],
            "type": "histogram2dcontour"
           }
          ],
          "mesh3d": [
           {
            "colorbar": {
             "outlinewidth": 0,
             "ticks": ""
            },
            "type": "mesh3d"
           }
          ],
          "parcoords": [
           {
            "line": {
             "colorbar": {
              "outlinewidth": 0,
              "ticks": ""
             }
            },
            "type": "parcoords"
           }
          ],
          "pie": [
           {
            "automargin": true,
            "type": "pie"
           }
          ],
          "scatter": [
           {
            "marker": {
             "colorbar": {
              "outlinewidth": 0,
              "ticks": ""
             }
            },
            "type": "scatter"
           }
          ],
          "scatter3d": [
           {
            "line": {
             "colorbar": {
              "outlinewidth": 0,
              "ticks": ""
             }
            },
            "marker": {
             "colorbar": {
              "outlinewidth": 0,
              "ticks": ""
             }
            },
            "type": "scatter3d"
           }
          ],
          "scattercarpet": [
           {
            "marker": {
             "colorbar": {
              "outlinewidth": 0,
              "ticks": ""
             }
            },
            "type": "scattercarpet"
           }
          ],
          "scattergeo": [
           {
            "marker": {
             "colorbar": {
              "outlinewidth": 0,
              "ticks": ""
             }
            },
            "type": "scattergeo"
           }
          ],
          "scattergl": [
           {
            "marker": {
             "colorbar": {
              "outlinewidth": 0,
              "ticks": ""
             }
            },
            "type": "scattergl"
           }
          ],
          "scattermapbox": [
           {
            "marker": {
             "colorbar": {
              "outlinewidth": 0,
              "ticks": ""
             }
            },
            "type": "scattermapbox"
           }
          ],
          "scatterpolar": [
           {
            "marker": {
             "colorbar": {
              "outlinewidth": 0,
              "ticks": ""
             }
            },
            "type": "scatterpolar"
           }
          ],
          "scatterpolargl": [
           {
            "marker": {
             "colorbar": {
              "outlinewidth": 0,
              "ticks": ""
             }
            },
            "type": "scatterpolargl"
           }
          ],
          "scatterternary": [
           {
            "marker": {
             "colorbar": {
              "outlinewidth": 0,
              "ticks": ""
             }
            },
            "type": "scatterternary"
           }
          ],
          "surface": [
           {
            "colorbar": {
             "outlinewidth": 0,
             "ticks": ""
            },
            "colorscale": [
             [
              0,
              "#0d0887"
             ],
             [
              0.1111111111111111,
              "#46039f"
             ],
             [
              0.2222222222222222,
              "#7201a8"
             ],
             [
              0.3333333333333333,
              "#9c179e"
             ],
             [
              0.4444444444444444,
              "#bd3786"
             ],
             [
              0.5555555555555556,
              "#d8576b"
             ],
             [
              0.6666666666666666,
              "#ed7953"
             ],
             [
              0.7777777777777778,
              "#fb9f3a"
             ],
             [
              0.8888888888888888,
              "#fdca26"
             ],
             [
              1,
              "#f0f921"
             ]
            ],
            "type": "surface"
           }
          ],
          "table": [
           {
            "cells": {
             "fill": {
              "color": "#EBF0F8"
             },
             "line": {
              "color": "white"
             }
            },
            "header": {
             "fill": {
              "color": "#C8D4E3"
             },
             "line": {
              "color": "white"
             }
            },
            "type": "table"
           }
          ]
         },
         "layout": {
          "annotationdefaults": {
           "arrowcolor": "#2a3f5f",
           "arrowhead": 0,
           "arrowwidth": 1
          },
          "coloraxis": {
           "colorbar": {
            "outlinewidth": 0,
            "ticks": ""
           }
          },
          "colorscale": {
           "diverging": [
            [
             0,
             "#8e0152"
            ],
            [
             0.1,
             "#c51b7d"
            ],
            [
             0.2,
             "#de77ae"
            ],
            [
             0.3,
             "#f1b6da"
            ],
            [
             0.4,
             "#fde0ef"
            ],
            [
             0.5,
             "#f7f7f7"
            ],
            [
             0.6,
             "#e6f5d0"
            ],
            [
             0.7,
             "#b8e186"
            ],
            [
             0.8,
             "#7fbc41"
            ],
            [
             0.9,
             "#4d9221"
            ],
            [
             1,
             "#276419"
            ]
           ],
           "sequential": [
            [
             0,
             "#0d0887"
            ],
            [
             0.1111111111111111,
             "#46039f"
            ],
            [
             0.2222222222222222,
             "#7201a8"
            ],
            [
             0.3333333333333333,
             "#9c179e"
            ],
            [
             0.4444444444444444,
             "#bd3786"
            ],
            [
             0.5555555555555556,
             "#d8576b"
            ],
            [
             0.6666666666666666,
             "#ed7953"
            ],
            [
             0.7777777777777778,
             "#fb9f3a"
            ],
            [
             0.8888888888888888,
             "#fdca26"
            ],
            [
             1,
             "#f0f921"
            ]
           ],
           "sequentialminus": [
            [
             0,
             "#0d0887"
            ],
            [
             0.1111111111111111,
             "#46039f"
            ],
            [
             0.2222222222222222,
             "#7201a8"
            ],
            [
             0.3333333333333333,
             "#9c179e"
            ],
            [
             0.4444444444444444,
             "#bd3786"
            ],
            [
             0.5555555555555556,
             "#d8576b"
            ],
            [
             0.6666666666666666,
             "#ed7953"
            ],
            [
             0.7777777777777778,
             "#fb9f3a"
            ],
            [
             0.8888888888888888,
             "#fdca26"
            ],
            [
             1,
             "#f0f921"
            ]
           ]
          },
          "colorway": [
           "#636efa",
           "#EF553B",
           "#00cc96",
           "#ab63fa",
           "#FFA15A",
           "#19d3f3",
           "#FF6692",
           "#B6E880",
           "#FF97FF",
           "#FECB52"
          ],
          "font": {
           "color": "#2a3f5f"
          },
          "geo": {
           "bgcolor": "white",
           "lakecolor": "white",
           "landcolor": "#E5ECF6",
           "showlakes": true,
           "showland": true,
           "subunitcolor": "white"
          },
          "hoverlabel": {
           "align": "left"
          },
          "hovermode": "closest",
          "mapbox": {
           "style": "light"
          },
          "paper_bgcolor": "white",
          "plot_bgcolor": "#E5ECF6",
          "polar": {
           "angularaxis": {
            "gridcolor": "white",
            "linecolor": "white",
            "ticks": ""
           },
           "bgcolor": "#E5ECF6",
           "radialaxis": {
            "gridcolor": "white",
            "linecolor": "white",
            "ticks": ""
           }
          },
          "scene": {
           "xaxis": {
            "backgroundcolor": "#E5ECF6",
            "gridcolor": "white",
            "gridwidth": 2,
            "linecolor": "white",
            "showbackground": true,
            "ticks": "",
            "zerolinecolor": "white"
           },
           "yaxis": {
            "backgroundcolor": "#E5ECF6",
            "gridcolor": "white",
            "gridwidth": 2,
            "linecolor": "white",
            "showbackground": true,
            "ticks": "",
            "zerolinecolor": "white"
           },
           "zaxis": {
            "backgroundcolor": "#E5ECF6",
            "gridcolor": "white",
            "gridwidth": 2,
            "linecolor": "white",
            "showbackground": true,
            "ticks": "",
            "zerolinecolor": "white"
           }
          },
          "shapedefaults": {
           "line": {
            "color": "#2a3f5f"
           }
          },
          "ternary": {
           "aaxis": {
            "gridcolor": "white",
            "linecolor": "white",
            "ticks": ""
           },
           "baxis": {
            "gridcolor": "white",
            "linecolor": "white",
            "ticks": ""
           },
           "bgcolor": "#E5ECF6",
           "caxis": {
            "gridcolor": "white",
            "linecolor": "white",
            "ticks": ""
           }
          },
          "title": {
           "x": 0.05
          },
          "xaxis": {
           "automargin": true,
           "gridcolor": "white",
           "linecolor": "white",
           "ticks": "",
           "title": {
            "standoff": 15
           },
           "zerolinecolor": "white",
           "zerolinewidth": 2
          },
          "yaxis": {
           "automargin": true,
           "gridcolor": "white",
           "linecolor": "white",
           "ticks": "",
           "title": {
            "standoff": 15
           },
           "zerolinecolor": "white",
           "zerolinewidth": 2
          }
         }
        },
        "title": {
         "font": {
          "color": "#4D5663"
         }
        },
        "xaxis": {
         "gridcolor": "#E1E5ED",
         "showgrid": true,
         "tickfont": {
          "color": "#4D5663"
         },
         "title": {
          "font": {
           "color": "#4D5663"
          },
          "text": ""
         },
         "zerolinecolor": "#E1E5ED"
        },
        "yaxis": {
         "gridcolor": "#E1E5ED",
         "showgrid": true,
         "tickfont": {
          "color": "#4D5663"
         },
         "title": {
          "font": {
           "color": "#4D5663"
          },
          "text": ""
         },
         "zerolinecolor": "#E1E5ED"
        }
       }
      },
      "text/html": [
       "<div>\n",
       "        \n",
       "        \n",
       "            <div id=\"d14b8356-6af1-4ffb-98da-7205e51dc255\" class=\"plotly-graph-div\" style=\"height:525px; width:100%;\"></div>\n",
       "            <script type=\"text/javascript\">\n",
       "                require([\"plotly\"], function(Plotly) {\n",
       "                    window.PLOTLYENV=window.PLOTLYENV || {};\n",
       "                    window.PLOTLYENV.BASE_URL='https://plot.ly';\n",
       "                    \n",
       "                if (document.getElementById(\"d14b8356-6af1-4ffb-98da-7205e51dc255\")) {\n",
       "                    Plotly.newPlot(\n",
       "                        'd14b8356-6af1-4ffb-98da-7205e51dc255',\n",
       "                        [{\"marker\": {\"color\": \"rgba(255, 153, 51, 0.6)\", \"line\": {\"color\": \"rgba(255, 153, 51, 1.0)\", \"width\": 1}}, \"name\": \"None\", \"orientation\": \"v\", \"text\": \"\", \"type\": \"bar\", \"x\": [\"A\", \"B\", \"C\", \"D\"], \"y\": [100, 100, 100, 100]}],\n",
       "                        {\"legend\": {\"bgcolor\": \"#F5F6F9\", \"font\": {\"color\": \"#4D5663\"}}, \"paper_bgcolor\": \"#F5F6F9\", \"plot_bgcolor\": \"#F5F6F9\", \"template\": {\"data\": {\"bar\": [{\"error_x\": {\"color\": \"#2a3f5f\"}, \"error_y\": {\"color\": \"#2a3f5f\"}, \"marker\": {\"line\": {\"color\": \"#E5ECF6\", \"width\": 0.5}}, \"type\": \"bar\"}], \"barpolar\": [{\"marker\": {\"line\": {\"color\": \"#E5ECF6\", \"width\": 0.5}}, \"type\": \"barpolar\"}], \"carpet\": [{\"aaxis\": {\"endlinecolor\": \"#2a3f5f\", \"gridcolor\": \"white\", \"linecolor\": \"white\", \"minorgridcolor\": \"white\", \"startlinecolor\": \"#2a3f5f\"}, \"baxis\": {\"endlinecolor\": \"#2a3f5f\", \"gridcolor\": \"white\", \"linecolor\": \"white\", \"minorgridcolor\": \"white\", \"startlinecolor\": \"#2a3f5f\"}, \"type\": \"carpet\"}], \"choropleth\": [{\"colorbar\": {\"outlinewidth\": 0, \"ticks\": \"\"}, \"type\": \"choropleth\"}], \"contour\": [{\"colorbar\": {\"outlinewidth\": 0, \"ticks\": \"\"}, \"colorscale\": [[0.0, \"#0d0887\"], [0.1111111111111111, \"#46039f\"], [0.2222222222222222, \"#7201a8\"], [0.3333333333333333, \"#9c179e\"], [0.4444444444444444, \"#bd3786\"], [0.5555555555555556, \"#d8576b\"], [0.6666666666666666, \"#ed7953\"], [0.7777777777777778, \"#fb9f3a\"], [0.8888888888888888, \"#fdca26\"], [1.0, \"#f0f921\"]], \"type\": \"contour\"}], \"contourcarpet\": [{\"colorbar\": {\"outlinewidth\": 0, \"ticks\": \"\"}, \"type\": \"contourcarpet\"}], \"heatmap\": [{\"colorbar\": {\"outlinewidth\": 0, \"ticks\": \"\"}, \"colorscale\": [[0.0, \"#0d0887\"], [0.1111111111111111, \"#46039f\"], [0.2222222222222222, \"#7201a8\"], [0.3333333333333333, \"#9c179e\"], [0.4444444444444444, \"#bd3786\"], [0.5555555555555556, \"#d8576b\"], [0.6666666666666666, \"#ed7953\"], [0.7777777777777778, \"#fb9f3a\"], [0.8888888888888888, \"#fdca26\"], [1.0, \"#f0f921\"]], \"type\": \"heatmap\"}], \"heatmapgl\": [{\"colorbar\": {\"outlinewidth\": 0, \"ticks\": \"\"}, \"colorscale\": [[0.0, \"#0d0887\"], [0.1111111111111111, \"#46039f\"], [0.2222222222222222, \"#7201a8\"], [0.3333333333333333, \"#9c179e\"], [0.4444444444444444, \"#bd3786\"], [0.5555555555555556, \"#d8576b\"], [0.6666666666666666, \"#ed7953\"], [0.7777777777777778, \"#fb9f3a\"], [0.8888888888888888, \"#fdca26\"], [1.0, \"#f0f921\"]], \"type\": \"heatmapgl\"}], \"histogram\": [{\"marker\": {\"colorbar\": {\"outlinewidth\": 0, \"ticks\": \"\"}}, \"type\": \"histogram\"}], \"histogram2d\": [{\"colorbar\": {\"outlinewidth\": 0, \"ticks\": \"\"}, \"colorscale\": [[0.0, \"#0d0887\"], [0.1111111111111111, \"#46039f\"], [0.2222222222222222, \"#7201a8\"], [0.3333333333333333, \"#9c179e\"], [0.4444444444444444, \"#bd3786\"], [0.5555555555555556, \"#d8576b\"], [0.6666666666666666, \"#ed7953\"], [0.7777777777777778, \"#fb9f3a\"], [0.8888888888888888, \"#fdca26\"], [1.0, \"#f0f921\"]], \"type\": \"histogram2d\"}], \"histogram2dcontour\": [{\"colorbar\": {\"outlinewidth\": 0, \"ticks\": \"\"}, \"colorscale\": [[0.0, \"#0d0887\"], [0.1111111111111111, \"#46039f\"], [0.2222222222222222, \"#7201a8\"], [0.3333333333333333, \"#9c179e\"], [0.4444444444444444, \"#bd3786\"], [0.5555555555555556, \"#d8576b\"], [0.6666666666666666, \"#ed7953\"], [0.7777777777777778, \"#fb9f3a\"], [0.8888888888888888, \"#fdca26\"], [1.0, \"#f0f921\"]], \"type\": \"histogram2dcontour\"}], \"mesh3d\": [{\"colorbar\": {\"outlinewidth\": 0, \"ticks\": \"\"}, \"type\": \"mesh3d\"}], \"parcoords\": [{\"line\": {\"colorbar\": {\"outlinewidth\": 0, \"ticks\": \"\"}}, \"type\": \"parcoords\"}], \"pie\": [{\"automargin\": true, \"type\": \"pie\"}], \"scatter\": [{\"marker\": {\"colorbar\": {\"outlinewidth\": 0, \"ticks\": \"\"}}, \"type\": \"scatter\"}], \"scatter3d\": [{\"line\": {\"colorbar\": {\"outlinewidth\": 0, \"ticks\": \"\"}}, \"marker\": {\"colorbar\": {\"outlinewidth\": 0, \"ticks\": \"\"}}, \"type\": \"scatter3d\"}], \"scattercarpet\": [{\"marker\": {\"colorbar\": {\"outlinewidth\": 0, \"ticks\": \"\"}}, \"type\": \"scattercarpet\"}], \"scattergeo\": [{\"marker\": {\"colorbar\": {\"outlinewidth\": 0, \"ticks\": \"\"}}, \"type\": \"scattergeo\"}], \"scattergl\": [{\"marker\": {\"colorbar\": {\"outlinewidth\": 0, \"ticks\": \"\"}}, \"type\": \"scattergl\"}], \"scattermapbox\": [{\"marker\": {\"colorbar\": {\"outlinewidth\": 0, \"ticks\": \"\"}}, \"type\": \"scattermapbox\"}], \"scatterpolar\": [{\"marker\": {\"colorbar\": {\"outlinewidth\": 0, \"ticks\": \"\"}}, \"type\": \"scatterpolar\"}], \"scatterpolargl\": [{\"marker\": {\"colorbar\": {\"outlinewidth\": 0, \"ticks\": \"\"}}, \"type\": \"scatterpolargl\"}], \"scatterternary\": [{\"marker\": {\"colorbar\": {\"outlinewidth\": 0, \"ticks\": \"\"}}, \"type\": \"scatterternary\"}], \"surface\": [{\"colorbar\": {\"outlinewidth\": 0, \"ticks\": \"\"}, \"colorscale\": [[0.0, \"#0d0887\"], [0.1111111111111111, \"#46039f\"], [0.2222222222222222, \"#7201a8\"], [0.3333333333333333, \"#9c179e\"], [0.4444444444444444, \"#bd3786\"], [0.5555555555555556, \"#d8576b\"], [0.6666666666666666, \"#ed7953\"], [0.7777777777777778, \"#fb9f3a\"], [0.8888888888888888, \"#fdca26\"], [1.0, \"#f0f921\"]], \"type\": \"surface\"}], \"table\": [{\"cells\": {\"fill\": {\"color\": \"#EBF0F8\"}, \"line\": {\"color\": \"white\"}}, \"header\": {\"fill\": {\"color\": \"#C8D4E3\"}, \"line\": {\"color\": \"white\"}}, \"type\": \"table\"}]}, \"layout\": {\"annotationdefaults\": {\"arrowcolor\": \"#2a3f5f\", \"arrowhead\": 0, \"arrowwidth\": 1}, \"coloraxis\": {\"colorbar\": {\"outlinewidth\": 0, \"ticks\": \"\"}}, \"colorscale\": {\"diverging\": [[0, \"#8e0152\"], [0.1, \"#c51b7d\"], [0.2, \"#de77ae\"], [0.3, \"#f1b6da\"], [0.4, \"#fde0ef\"], [0.5, \"#f7f7f7\"], [0.6, \"#e6f5d0\"], [0.7, \"#b8e186\"], [0.8, \"#7fbc41\"], [0.9, \"#4d9221\"], [1, \"#276419\"]], \"sequential\": [[0.0, \"#0d0887\"], [0.1111111111111111, \"#46039f\"], [0.2222222222222222, \"#7201a8\"], [0.3333333333333333, \"#9c179e\"], [0.4444444444444444, \"#bd3786\"], [0.5555555555555556, \"#d8576b\"], [0.6666666666666666, \"#ed7953\"], [0.7777777777777778, \"#fb9f3a\"], [0.8888888888888888, \"#fdca26\"], [1.0, \"#f0f921\"]], \"sequentialminus\": [[0.0, \"#0d0887\"], [0.1111111111111111, \"#46039f\"], [0.2222222222222222, \"#7201a8\"], [0.3333333333333333, \"#9c179e\"], [0.4444444444444444, \"#bd3786\"], [0.5555555555555556, \"#d8576b\"], [0.6666666666666666, \"#ed7953\"], [0.7777777777777778, \"#fb9f3a\"], [0.8888888888888888, \"#fdca26\"], [1.0, \"#f0f921\"]]}, \"colorway\": [\"#636efa\", \"#EF553B\", \"#00cc96\", \"#ab63fa\", \"#FFA15A\", \"#19d3f3\", \"#FF6692\", \"#B6E880\", \"#FF97FF\", \"#FECB52\"], \"font\": {\"color\": \"#2a3f5f\"}, \"geo\": {\"bgcolor\": \"white\", \"lakecolor\": \"white\", \"landcolor\": \"#E5ECF6\", \"showlakes\": true, \"showland\": true, \"subunitcolor\": \"white\"}, \"hoverlabel\": {\"align\": \"left\"}, \"hovermode\": \"closest\", \"mapbox\": {\"style\": \"light\"}, \"paper_bgcolor\": \"white\", \"plot_bgcolor\": \"#E5ECF6\", \"polar\": {\"angularaxis\": {\"gridcolor\": \"white\", \"linecolor\": \"white\", \"ticks\": \"\"}, \"bgcolor\": \"#E5ECF6\", \"radialaxis\": {\"gridcolor\": \"white\", \"linecolor\": \"white\", \"ticks\": \"\"}}, \"scene\": {\"xaxis\": {\"backgroundcolor\": \"#E5ECF6\", \"gridcolor\": \"white\", \"gridwidth\": 2, \"linecolor\": \"white\", \"showbackground\": true, \"ticks\": \"\", \"zerolinecolor\": \"white\"}, \"yaxis\": {\"backgroundcolor\": \"#E5ECF6\", \"gridcolor\": \"white\", \"gridwidth\": 2, \"linecolor\": \"white\", \"showbackground\": true, \"ticks\": \"\", \"zerolinecolor\": \"white\"}, \"zaxis\": {\"backgroundcolor\": \"#E5ECF6\", \"gridcolor\": \"white\", \"gridwidth\": 2, \"linecolor\": \"white\", \"showbackground\": true, \"ticks\": \"\", \"zerolinecolor\": \"white\"}}, \"shapedefaults\": {\"line\": {\"color\": \"#2a3f5f\"}}, \"ternary\": {\"aaxis\": {\"gridcolor\": \"white\", \"linecolor\": \"white\", \"ticks\": \"\"}, \"baxis\": {\"gridcolor\": \"white\", \"linecolor\": \"white\", \"ticks\": \"\"}, \"bgcolor\": \"#E5ECF6\", \"caxis\": {\"gridcolor\": \"white\", \"linecolor\": \"white\", \"ticks\": \"\"}}, \"title\": {\"x\": 0.05}, \"xaxis\": {\"automargin\": true, \"gridcolor\": \"white\", \"linecolor\": \"white\", \"ticks\": \"\", \"title\": {\"standoff\": 15}, \"zerolinecolor\": \"white\", \"zerolinewidth\": 2}, \"yaxis\": {\"automargin\": true, \"gridcolor\": \"white\", \"linecolor\": \"white\", \"ticks\": \"\", \"title\": {\"standoff\": 15}, \"zerolinecolor\": \"white\", \"zerolinewidth\": 2}}}, \"title\": {\"font\": {\"color\": \"#4D5663\"}}, \"xaxis\": {\"gridcolor\": \"#E1E5ED\", \"showgrid\": true, \"tickfont\": {\"color\": \"#4D5663\"}, \"title\": {\"font\": {\"color\": \"#4D5663\"}, \"text\": \"\"}, \"zerolinecolor\": \"#E1E5ED\"}, \"yaxis\": {\"gridcolor\": \"#E1E5ED\", \"showgrid\": true, \"tickfont\": {\"color\": \"#4D5663\"}, \"title\": {\"font\": {\"color\": \"#4D5663\"}, \"text\": \"\"}, \"zerolinecolor\": \"#E1E5ED\"}},\n",
       "                        {\"showLink\": true, \"linkText\": \"Export to plot.ly\", \"plotlyServerURL\": \"https://plot.ly\", \"responsive\": true}\n",
       "                    ).then(function(){\n",
       "                            \n",
       "var gd = document.getElementById('d14b8356-6af1-4ffb-98da-7205e51dc255');\n",
       "var x = new MutationObserver(function (mutations, observer) {{\n",
       "        var display = window.getComputedStyle(gd).display;\n",
       "        if (!display || display === 'none') {{\n",
       "            console.log([gd, 'removed!']);\n",
       "            Plotly.purge(gd);\n",
       "            observer.disconnect();\n",
       "        }}\n",
       "}});\n",
       "\n",
       "// Listen for the removal of the full notebook cells\n",
       "var notebookContainer = gd.closest('#notebook-container');\n",
       "if (notebookContainer) {{\n",
       "    x.observe(notebookContainer, {childList: true});\n",
       "}}\n",
       "\n",
       "// Listen for the clearing of the current output cell\n",
       "var outputEl = gd.closest('.output');\n",
       "if (outputEl) {{\n",
       "    x.observe(outputEl, {childList: true});\n",
       "}}\n",
       "\n",
       "                        })\n",
       "                };\n",
       "                });\n",
       "            </script>\n",
       "        </div>"
      ]
     },
     "metadata": {},
     "output_type": "display_data"
    }
   ],
   "source": [
    "df.count().iplot(kind='bar')"
   ]
  },
  {
   "cell_type": "markdown",
   "metadata": {},
   "source": [
    "## Boxplots"
   ]
  },
  {
   "cell_type": "code",
   "execution_count": 13,
   "metadata": {},
   "outputs": [
    {
     "data": {
      "application/vnd.plotly.v1+json": {
       "config": {
        "linkText": "Export to plot.ly",
        "plotlyServerURL": "https://plot.ly",
        "showLink": true
       },
       "data": [
        {
         "boxpoints": false,
         "line": {
          "width": 1.3
         },
         "marker": {
          "color": "rgba(255, 153, 51, 1.0)"
         },
         "name": "A",
         "orientation": "v",
         "type": "box",
         "y": [
          -0.28658062289161507,
          2.8713810642415774,
          -0.8356058485756809,
          0.015123707936464765,
          -0.36393332536263484,
          2.341958955914593,
          0.026375334658533516,
          -0.8912079656500846,
          1.5259075076059636,
          -0.7251464655554153,
          -2.208567554152265,
          0.8160362211716472,
          0.1352305382758277,
          -0.07773618163611463,
          -1.6218256058133913,
          -1.4461184112948848,
          -0.9432178303375855,
          0.11042142518952364,
          0.22210119025882,
          0.29314536564232757,
          -1.3667737782574663,
          2.1170959584160776,
          -1.9885300360304687,
          0.3009043264085271,
          1.4900545862313435,
          0.16707632821401622,
          0.9089693366488185,
          -0.5309538275682677,
          -0.5645450618475066,
          1.6180166982761703,
          0.7121765540358281,
          -0.7133586311906459,
          0.5262454614186426,
          -0.6978902815960228,
          0.6315922215150983,
          1.0230806194359456,
          0.3552860393922047,
          -0.5659277005265211,
          -0.04418343728629043,
          0.28347053779399023,
          2.0322264650736446,
          -0.7523401320867622,
          -0.8403470210799748,
          0.27784684716034863,
          0.1822850299791254,
          -0.3697102441389198,
          -0.021692284748169602,
          -2.108941307116421,
          0.31163343692776824,
          2.283327532521014,
          -0.21171012089409746,
          -0.14660748153512856,
          0.9344186636741401,
          -0.6106330572294365,
          -1.5392174683883328,
          -1.0058035991732786,
          2.207169422150619,
          -1.9791714166370522,
          -0.7716556864796765,
          0.42222551730076235,
          -0.790403471570592,
          0.4827492291330723,
          1.25811273044089,
          -0.4173142231933926,
          -1.683138705155208,
          -1.34399245571848,
          0.4625126996712462,
          1.2210567254188085,
          0.07491053801766187,
          1.6386682454467674,
          -0.5700560828390816,
          -1.200150895129222,
          -0.4816388445980546,
          -1.2599499551980429,
          0.12748578860097046,
          -0.5886401471762375,
          1.5612153234010075,
          0.883110723570033,
          -0.6793443992951693,
          -1.7579488291595078,
          -0.6262305193938559,
          -0.597589289924199,
          0.5975570794231981,
          -0.8338945349348488,
          0.8538301101490644,
          -1.228745130925553,
          -0.07970988512138309,
          -1.5924974279353095,
          0.9272268562201983,
          -0.14144485985252866,
          0.6360884600335864,
          -0.6850117004071394,
          -0.3733130217574712,
          -1.6315284967377977,
          0.7805667618604121,
          -0.5193183640984484,
          -0.7885902824548963,
          -0.23556747027558908,
          1.1819720205400592,
          0.5899214406180822
         ]
        },
        {
         "boxpoints": false,
         "line": {
          "width": 1.3
         },
         "marker": {
          "color": "rgba(55, 128, 191, 1.0)"
         },
         "name": "B",
         "orientation": "v",
         "type": "box",
         "y": [
          1.5740728987236858,
          -0.5204962324025592,
          0.3784879080197764,
          0.5665830926250587,
          1.8307528761381824,
          1.496398337103953,
          0.319114278020899,
          1.3241804073809924,
          -2.2199737044173027,
          0.4069568095734938,
          0.14826216989882013,
          -0.994303336633359,
          -0.36208520713052306,
          1.7495268971863218,
          -0.4261065698300166,
          -1.7270517273707098,
          -2.357261283307402,
          2.403928501039504,
          0.6251246787404335,
          -0.004245790921073416,
          1.6803335896006206,
          -0.7740097921221676,
          -0.17455728219713768,
          0.5346934292088612,
          -0.16299832133350473,
          -1.6430005512614236,
          0.1874046982263252,
          0.3062098943756686,
          -1.075078115834331,
          -1.2214886703038546,
          -0.14724209756744944,
          0.2429769271893512,
          -0.23269608358220994,
          0.36352732895139045,
          0.7934071373939708,
          -2.5011489951532644,
          -0.18797315258982397,
          0.38603232777514507,
          2.045463743570114,
          -0.26097071764894264,
          0.550200525982311,
          -1.0767578575594094,
          0.5983416714319514,
          -0.6321645924326897,
          -0.2766778496970904,
          0.6695187229527138,
          1.0353017178297368,
          0.5761075611725717,
          1.4718017958919445,
          -0.4896305364712738,
          1.1538261951756705,
          1.158823447440352,
          -0.8732216047844114,
          1.520045712919522,
          0.5910070115791487,
          -0.7236162689815163,
          -1.2718512751459379,
          0.4412226470368304,
          0.6634561156688739,
          -0.4577892833900473,
          0.1318589819788368,
          -1.4368522046631298,
          -1.8395329503791198,
          -1.6492182544058702,
          -2.4797759739644487,
          0.03894320353626314,
          -0.35092509075247313,
          1.388297843133826,
          0.11573851710811286,
          0.3062732272678091,
          -0.46590267674086555,
          0.5456442466695953,
          -0.5304629942227559,
          -0.4313314370468433,
          -0.08957726082416721,
          1.1264734945274768,
          -0.9290255244862805,
          -1.7314167216950984,
          -0.30353773563327374,
          -0.4913771831551384,
          1.1019884388012529,
          -1.1006777820996694,
          0.02889859416952101,
          0.7844200346560151,
          0.4196265261180495,
          -0.6473364753369074,
          0.42737665263402697,
          -1.5403520115571134,
          0.425865498394857,
          -0.17886127476218783,
          -0.4685216389506663,
          -1.155388110493677,
          0.46525913637554894,
          0.9437691551712757,
          -0.744522351346594,
          -0.5107890860366717,
          -1.3104476513425958,
          -0.3659836777369112,
          -0.218182149822733,
          0.5665569826426838
         ]
        },
        {
         "boxpoints": false,
         "line": {
          "width": 1.3
         },
         "marker": {
          "color": "rgba(50, 171, 96, 1.0)"
         },
         "name": "C",
         "orientation": "v",
         "type": "box",
         "y": [
          -1.459603748949274,
          0.36084732152997506,
          -0.5087937897803205,
          -0.6625875564515807,
          0.0458571320132211,
          -0.22353172948762665,
          -0.021676901168215516,
          1.0109969799556564,
          0.1548417939707732,
          1.5246861097068372,
          0.3843073754188259,
          -0.2877351727481541,
          -0.8850510395471989,
          0.2302827746108358,
          -1.046706085000357,
          0.4903825137117322,
          -0.8882765471260752,
          -0.6635904192407448,
          -0.7849761458065712,
          0.22187755364367384,
          -0.08579259749363648,
          -0.6798487451416599,
          -0.13465838813595868,
          0.966528711550423,
          -0.8939417164300886,
          0.5092521728758914,
          1.3813890362258592,
          -0.6000915663898146,
          -0.5198908129046946,
          0.06811418698271128,
          -1.3801924853538312,
          1.4507628195644844,
          0.056975942253230986,
          1.065230071169316,
          2.2980625224378404,
          -0.5438322888356067,
          -2.1762460325655524,
          -1.4241602029776532,
          1.530180390020162,
          -0.9119662893511137,
          -0.7638120477535097,
          -0.4858369466878768,
          -0.3364749472572307,
          0.10144804129609479,
          -1.2162676038013833,
          -0.7566384634161051,
          -1.198459931518552,
          -0.8318366424691529,
          1.1237094110646053,
          -0.31324383939626116,
          -1.0631440705709407,
          -0.13236752637785063,
          2.3832147031217166,
          1.0462176836057986,
          -0.6171526303962681,
          0.2857308516819357,
          0.16104524787882576,
          -0.5319241247372348,
          -1.4777798506329485,
          -1.221479308539262,
          0.6371917427808321,
          -0.3521472610364796,
          0.3323907752437583,
          0.4690092849237108,
          -0.9787983865768881,
          2.97356807674231,
          -0.2917970357274098,
          -0.2787513946556441,
          0.08316931315076394,
          0.787785337972341,
          0.6490432539715015,
          0.44608689200473245,
          -0.8758569022651723,
          1.3879867128830092,
          1.5037583750280177,
          -0.21114615035189996,
          -0.4181473771800166,
          0.9693102074920084,
          0.2736780087250651,
          -0.48850396744306007,
          2.367476751301778,
          0.6726810623673567,
          -1.240595925016922,
          -1.5673391878627263,
          -0.6187053188840654,
          0.17192069629634585,
          0.5106228718980147,
          0.9843033390360832,
          -2.205254245222359,
          -0.9781287793982962,
          0.6504552688513575,
          0.5176419431393856,
          0.8207147676081725,
          0.19596478523855554,
          1.1095332252866947,
          -0.04085314220983656,
          -0.6129619868855157,
          0.8626754226526893,
          0.9921214949750415,
          -0.28417173462493367
         ]
        },
        {
         "boxpoints": false,
         "line": {
          "width": 1.3
         },
         "marker": {
          "color": "rgba(128, 0, 128, 1.0)"
         },
         "name": "D",
         "orientation": "v",
         "type": "box",
         "y": [
          -0.36843748489429834,
          1.573663816086213,
          0.02138200976566842,
          0.09654713224552525,
          -0.047453224701537323,
          0.19622404390633058,
          -1.4677936505717069,
          0.16847265438597325,
          0.8541469774260697,
          0.2787115744318224,
          0.2550509546971101,
          0.9738398424872442,
          0.983756412376006,
          1.772138932320897,
          0.2824125191366073,
          0.9581503693015755,
          -0.3361136095239392,
          -0.778480643711259,
          -0.9196675746383206,
          -0.4561399435716179,
          0.7041234511118704,
          0.3840654521028457,
          1.2950270337210947,
          0.6520895803806986,
          -0.0701065374551447,
          -0.3481889467794823,
          -0.6025996440367895,
          0.5835089076878452,
          -0.9173006873679831,
          -0.388789211938765,
          -0.05626037443823479,
          0.29977723032350884,
          -1.069382235219236,
          0.3661278665663814,
          -1.4716019963433775,
          1.9294763779525,
          -0.6651992094661,
          1.2431585052103853,
          -1.9778747169690416,
          0.8671612185490913,
          0.9597034807362329,
          1.0530172473875836,
          1.0865771233924328,
          -0.6892158985281919,
          -0.5111063538918155,
          -1.9983789038577662,
          0.3289294047544934,
          0.015385363824137958,
          -0.4263665325461509,
          -1.1962971179633408,
          -1.0435130317124692,
          0.14676810520402261,
          1.063304322212356,
          -0.7478226448765005,
          0.0708499838115726,
          -0.3180811548485733,
          1.1348019060076748,
          -0.7861733179740832,
          0.004055630047339287,
          -1.1346642149642945,
          -1.3326823461805832,
          -1.0040126391624085,
          -0.17188924005764283,
          0.5509683892587323,
          -0.452522836687102,
          0.0009431348771666263,
          -1.2927352123949698,
          0.5611517113309042,
          1.6200799067948002,
          0.01977779447726261,
          -0.5057438199862079,
          1.5999214592923323,
          1.2056673567899268,
          -0.1133304445461091,
          -0.25843540882497096,
          -0.49604262118574804,
          -0.5813188784086023,
          0.5369546139775898,
          -1.085308804635807,
          1.1317928950545155,
          0.7869883636718725,
          0.8669532867871689,
          0.31442152763111986,
          -0.25181868463329665,
          -0.353538895855213,
          0.6575515102646519,
          0.8844318658347354,
          0.9146142997540004,
          1.5814732505843072,
          1.0245868131797415,
          -0.20542797464316637,
          0.46519878109736074,
          1.4325880132038897,
          -0.18531066682896988,
          -0.05846328750282914,
          0.17497434563087624,
          0.4406593327552767,
          -0.8772898092345249,
          -1.5108087138812814,
          -1.041379052269372
         ]
        }
       ],
       "layout": {
        "legend": {
         "bgcolor": "#F5F6F9",
         "font": {
          "color": "#4D5663"
         }
        },
        "paper_bgcolor": "#F5F6F9",
        "plot_bgcolor": "#F5F6F9",
        "template": {
         "data": {
          "bar": [
           {
            "error_x": {
             "color": "#2a3f5f"
            },
            "error_y": {
             "color": "#2a3f5f"
            },
            "marker": {
             "line": {
              "color": "#E5ECF6",
              "width": 0.5
             }
            },
            "type": "bar"
           }
          ],
          "barpolar": [
           {
            "marker": {
             "line": {
              "color": "#E5ECF6",
              "width": 0.5
             }
            },
            "type": "barpolar"
           }
          ],
          "carpet": [
           {
            "aaxis": {
             "endlinecolor": "#2a3f5f",
             "gridcolor": "white",
             "linecolor": "white",
             "minorgridcolor": "white",
             "startlinecolor": "#2a3f5f"
            },
            "baxis": {
             "endlinecolor": "#2a3f5f",
             "gridcolor": "white",
             "linecolor": "white",
             "minorgridcolor": "white",
             "startlinecolor": "#2a3f5f"
            },
            "type": "carpet"
           }
          ],
          "choropleth": [
           {
            "colorbar": {
             "outlinewidth": 0,
             "ticks": ""
            },
            "type": "choropleth"
           }
          ],
          "contour": [
           {
            "colorbar": {
             "outlinewidth": 0,
             "ticks": ""
            },
            "colorscale": [
             [
              0,
              "#0d0887"
             ],
             [
              0.1111111111111111,
              "#46039f"
             ],
             [
              0.2222222222222222,
              "#7201a8"
             ],
             [
              0.3333333333333333,
              "#9c179e"
             ],
             [
              0.4444444444444444,
              "#bd3786"
             ],
             [
              0.5555555555555556,
              "#d8576b"
             ],
             [
              0.6666666666666666,
              "#ed7953"
             ],
             [
              0.7777777777777778,
              "#fb9f3a"
             ],
             [
              0.8888888888888888,
              "#fdca26"
             ],
             [
              1,
              "#f0f921"
             ]
            ],
            "type": "contour"
           }
          ],
          "contourcarpet": [
           {
            "colorbar": {
             "outlinewidth": 0,
             "ticks": ""
            },
            "type": "contourcarpet"
           }
          ],
          "heatmap": [
           {
            "colorbar": {
             "outlinewidth": 0,
             "ticks": ""
            },
            "colorscale": [
             [
              0,
              "#0d0887"
             ],
             [
              0.1111111111111111,
              "#46039f"
             ],
             [
              0.2222222222222222,
              "#7201a8"
             ],
             [
              0.3333333333333333,
              "#9c179e"
             ],
             [
              0.4444444444444444,
              "#bd3786"
             ],
             [
              0.5555555555555556,
              "#d8576b"
             ],
             [
              0.6666666666666666,
              "#ed7953"
             ],
             [
              0.7777777777777778,
              "#fb9f3a"
             ],
             [
              0.8888888888888888,
              "#fdca26"
             ],
             [
              1,
              "#f0f921"
             ]
            ],
            "type": "heatmap"
           }
          ],
          "heatmapgl": [
           {
            "colorbar": {
             "outlinewidth": 0,
             "ticks": ""
            },
            "colorscale": [
             [
              0,
              "#0d0887"
             ],
             [
              0.1111111111111111,
              "#46039f"
             ],
             [
              0.2222222222222222,
              "#7201a8"
             ],
             [
              0.3333333333333333,
              "#9c179e"
             ],
             [
              0.4444444444444444,
              "#bd3786"
             ],
             [
              0.5555555555555556,
              "#d8576b"
             ],
             [
              0.6666666666666666,
              "#ed7953"
             ],
             [
              0.7777777777777778,
              "#fb9f3a"
             ],
             [
              0.8888888888888888,
              "#fdca26"
             ],
             [
              1,
              "#f0f921"
             ]
            ],
            "type": "heatmapgl"
           }
          ],
          "histogram": [
           {
            "marker": {
             "colorbar": {
              "outlinewidth": 0,
              "ticks": ""
             }
            },
            "type": "histogram"
           }
          ],
          "histogram2d": [
           {
            "colorbar": {
             "outlinewidth": 0,
             "ticks": ""
            },
            "colorscale": [
             [
              0,
              "#0d0887"
             ],
             [
              0.1111111111111111,
              "#46039f"
             ],
             [
              0.2222222222222222,
              "#7201a8"
             ],
             [
              0.3333333333333333,
              "#9c179e"
             ],
             [
              0.4444444444444444,
              "#bd3786"
             ],
             [
              0.5555555555555556,
              "#d8576b"
             ],
             [
              0.6666666666666666,
              "#ed7953"
             ],
             [
              0.7777777777777778,
              "#fb9f3a"
             ],
             [
              0.8888888888888888,
              "#fdca26"
             ],
             [
              1,
              "#f0f921"
             ]
            ],
            "type": "histogram2d"
           }
          ],
          "histogram2dcontour": [
           {
            "colorbar": {
             "outlinewidth": 0,
             "ticks": ""
            },
            "colorscale": [
             [
              0,
              "#0d0887"
             ],
             [
              0.1111111111111111,
              "#46039f"
             ],
             [
              0.2222222222222222,
              "#7201a8"
             ],
             [
              0.3333333333333333,
              "#9c179e"
             ],
             [
              0.4444444444444444,
              "#bd3786"
             ],
             [
              0.5555555555555556,
              "#d8576b"
             ],
             [
              0.6666666666666666,
              "#ed7953"
             ],
             [
              0.7777777777777778,
              "#fb9f3a"
             ],
             [
              0.8888888888888888,
              "#fdca26"
             ],
             [
              1,
              "#f0f921"
             ]
            ],
            "type": "histogram2dcontour"
           }
          ],
          "mesh3d": [
           {
            "colorbar": {
             "outlinewidth": 0,
             "ticks": ""
            },
            "type": "mesh3d"
           }
          ],
          "parcoords": [
           {
            "line": {
             "colorbar": {
              "outlinewidth": 0,
              "ticks": ""
             }
            },
            "type": "parcoords"
           }
          ],
          "pie": [
           {
            "automargin": true,
            "type": "pie"
           }
          ],
          "scatter": [
           {
            "marker": {
             "colorbar": {
              "outlinewidth": 0,
              "ticks": ""
             }
            },
            "type": "scatter"
           }
          ],
          "scatter3d": [
           {
            "line": {
             "colorbar": {
              "outlinewidth": 0,
              "ticks": ""
             }
            },
            "marker": {
             "colorbar": {
              "outlinewidth": 0,
              "ticks": ""
             }
            },
            "type": "scatter3d"
           }
          ],
          "scattercarpet": [
           {
            "marker": {
             "colorbar": {
              "outlinewidth": 0,
              "ticks": ""
             }
            },
            "type": "scattercarpet"
           }
          ],
          "scattergeo": [
           {
            "marker": {
             "colorbar": {
              "outlinewidth": 0,
              "ticks": ""
             }
            },
            "type": "scattergeo"
           }
          ],
          "scattergl": [
           {
            "marker": {
             "colorbar": {
              "outlinewidth": 0,
              "ticks": ""
             }
            },
            "type": "scattergl"
           }
          ],
          "scattermapbox": [
           {
            "marker": {
             "colorbar": {
              "outlinewidth": 0,
              "ticks": ""
             }
            },
            "type": "scattermapbox"
           }
          ],
          "scatterpolar": [
           {
            "marker": {
             "colorbar": {
              "outlinewidth": 0,
              "ticks": ""
             }
            },
            "type": "scatterpolar"
           }
          ],
          "scatterpolargl": [
           {
            "marker": {
             "colorbar": {
              "outlinewidth": 0,
              "ticks": ""
             }
            },
            "type": "scatterpolargl"
           }
          ],
          "scatterternary": [
           {
            "marker": {
             "colorbar": {
              "outlinewidth": 0,
              "ticks": ""
             }
            },
            "type": "scatterternary"
           }
          ],
          "surface": [
           {
            "colorbar": {
             "outlinewidth": 0,
             "ticks": ""
            },
            "colorscale": [
             [
              0,
              "#0d0887"
             ],
             [
              0.1111111111111111,
              "#46039f"
             ],
             [
              0.2222222222222222,
              "#7201a8"
             ],
             [
              0.3333333333333333,
              "#9c179e"
             ],
             [
              0.4444444444444444,
              "#bd3786"
             ],
             [
              0.5555555555555556,
              "#d8576b"
             ],
             [
              0.6666666666666666,
              "#ed7953"
             ],
             [
              0.7777777777777778,
              "#fb9f3a"
             ],
             [
              0.8888888888888888,
              "#fdca26"
             ],
             [
              1,
              "#f0f921"
             ]
            ],
            "type": "surface"
           }
          ],
          "table": [
           {
            "cells": {
             "fill": {
              "color": "#EBF0F8"
             },
             "line": {
              "color": "white"
             }
            },
            "header": {
             "fill": {
              "color": "#C8D4E3"
             },
             "line": {
              "color": "white"
             }
            },
            "type": "table"
           }
          ]
         },
         "layout": {
          "annotationdefaults": {
           "arrowcolor": "#2a3f5f",
           "arrowhead": 0,
           "arrowwidth": 1
          },
          "coloraxis": {
           "colorbar": {
            "outlinewidth": 0,
            "ticks": ""
           }
          },
          "colorscale": {
           "diverging": [
            [
             0,
             "#8e0152"
            ],
            [
             0.1,
             "#c51b7d"
            ],
            [
             0.2,
             "#de77ae"
            ],
            [
             0.3,
             "#f1b6da"
            ],
            [
             0.4,
             "#fde0ef"
            ],
            [
             0.5,
             "#f7f7f7"
            ],
            [
             0.6,
             "#e6f5d0"
            ],
            [
             0.7,
             "#b8e186"
            ],
            [
             0.8,
             "#7fbc41"
            ],
            [
             0.9,
             "#4d9221"
            ],
            [
             1,
             "#276419"
            ]
           ],
           "sequential": [
            [
             0,
             "#0d0887"
            ],
            [
             0.1111111111111111,
             "#46039f"
            ],
            [
             0.2222222222222222,
             "#7201a8"
            ],
            [
             0.3333333333333333,
             "#9c179e"
            ],
            [
             0.4444444444444444,
             "#bd3786"
            ],
            [
             0.5555555555555556,
             "#d8576b"
            ],
            [
             0.6666666666666666,
             "#ed7953"
            ],
            [
             0.7777777777777778,
             "#fb9f3a"
            ],
            [
             0.8888888888888888,
             "#fdca26"
            ],
            [
             1,
             "#f0f921"
            ]
           ],
           "sequentialminus": [
            [
             0,
             "#0d0887"
            ],
            [
             0.1111111111111111,
             "#46039f"
            ],
            [
             0.2222222222222222,
             "#7201a8"
            ],
            [
             0.3333333333333333,
             "#9c179e"
            ],
            [
             0.4444444444444444,
             "#bd3786"
            ],
            [
             0.5555555555555556,
             "#d8576b"
            ],
            [
             0.6666666666666666,
             "#ed7953"
            ],
            [
             0.7777777777777778,
             "#fb9f3a"
            ],
            [
             0.8888888888888888,
             "#fdca26"
            ],
            [
             1,
             "#f0f921"
            ]
           ]
          },
          "colorway": [
           "#636efa",
           "#EF553B",
           "#00cc96",
           "#ab63fa",
           "#FFA15A",
           "#19d3f3",
           "#FF6692",
           "#B6E880",
           "#FF97FF",
           "#FECB52"
          ],
          "font": {
           "color": "#2a3f5f"
          },
          "geo": {
           "bgcolor": "white",
           "lakecolor": "white",
           "landcolor": "#E5ECF6",
           "showlakes": true,
           "showland": true,
           "subunitcolor": "white"
          },
          "hoverlabel": {
           "align": "left"
          },
          "hovermode": "closest",
          "mapbox": {
           "style": "light"
          },
          "paper_bgcolor": "white",
          "plot_bgcolor": "#E5ECF6",
          "polar": {
           "angularaxis": {
            "gridcolor": "white",
            "linecolor": "white",
            "ticks": ""
           },
           "bgcolor": "#E5ECF6",
           "radialaxis": {
            "gridcolor": "white",
            "linecolor": "white",
            "ticks": ""
           }
          },
          "scene": {
           "xaxis": {
            "backgroundcolor": "#E5ECF6",
            "gridcolor": "white",
            "gridwidth": 2,
            "linecolor": "white",
            "showbackground": true,
            "ticks": "",
            "zerolinecolor": "white"
           },
           "yaxis": {
            "backgroundcolor": "#E5ECF6",
            "gridcolor": "white",
            "gridwidth": 2,
            "linecolor": "white",
            "showbackground": true,
            "ticks": "",
            "zerolinecolor": "white"
           },
           "zaxis": {
            "backgroundcolor": "#E5ECF6",
            "gridcolor": "white",
            "gridwidth": 2,
            "linecolor": "white",
            "showbackground": true,
            "ticks": "",
            "zerolinecolor": "white"
           }
          },
          "shapedefaults": {
           "line": {
            "color": "#2a3f5f"
           }
          },
          "ternary": {
           "aaxis": {
            "gridcolor": "white",
            "linecolor": "white",
            "ticks": ""
           },
           "baxis": {
            "gridcolor": "white",
            "linecolor": "white",
            "ticks": ""
           },
           "bgcolor": "#E5ECF6",
           "caxis": {
            "gridcolor": "white",
            "linecolor": "white",
            "ticks": ""
           }
          },
          "title": {
           "x": 0.05
          },
          "xaxis": {
           "automargin": true,
           "gridcolor": "white",
           "linecolor": "white",
           "ticks": "",
           "title": {
            "standoff": 15
           },
           "zerolinecolor": "white",
           "zerolinewidth": 2
          },
          "yaxis": {
           "automargin": true,
           "gridcolor": "white",
           "linecolor": "white",
           "ticks": "",
           "title": {
            "standoff": 15
           },
           "zerolinecolor": "white",
           "zerolinewidth": 2
          }
         }
        },
        "title": {
         "font": {
          "color": "#4D5663"
         }
        },
        "xaxis": {
         "gridcolor": "#E1E5ED",
         "showgrid": true,
         "tickfont": {
          "color": "#4D5663"
         },
         "title": {
          "font": {
           "color": "#4D5663"
          },
          "text": ""
         },
         "zerolinecolor": "#E1E5ED"
        },
        "yaxis": {
         "gridcolor": "#E1E5ED",
         "showgrid": true,
         "tickfont": {
          "color": "#4D5663"
         },
         "title": {
          "font": {
           "color": "#4D5663"
          },
          "text": ""
         },
         "zerolinecolor": "#E1E5ED"
        }
       }
      },
      "text/html": [
       "<div>\n",
       "        \n",
       "        \n",
       "            <div id=\"93b3398b-53b6-4ff0-aedb-32c72fe22d68\" class=\"plotly-graph-div\" style=\"height:525px; width:100%;\"></div>\n",
       "            <script type=\"text/javascript\">\n",
       "                require([\"plotly\"], function(Plotly) {\n",
       "                    window.PLOTLYENV=window.PLOTLYENV || {};\n",
       "                    window.PLOTLYENV.BASE_URL='https://plot.ly';\n",
       "                    \n",
       "                if (document.getElementById(\"93b3398b-53b6-4ff0-aedb-32c72fe22d68\")) {\n",
       "                    Plotly.newPlot(\n",
       "                        '93b3398b-53b6-4ff0-aedb-32c72fe22d68',\n",
       "                        [{\"boxpoints\": false, \"line\": {\"width\": 1.3}, \"marker\": {\"color\": \"rgba(255, 153, 51, 1.0)\"}, \"name\": \"A\", \"orientation\": \"v\", \"type\": \"box\", \"y\": [-0.28658062289161507, 2.8713810642415774, -0.8356058485756809, 0.015123707936464765, -0.36393332536263484, 2.341958955914593, 0.026375334658533516, -0.8912079656500846, 1.5259075076059636, -0.7251464655554153, -2.208567554152265, 0.8160362211716472, 0.1352305382758277, -0.07773618163611463, -1.6218256058133913, -1.4461184112948848, -0.9432178303375855, 0.11042142518952364, 0.22210119025882, 0.29314536564232757, -1.3667737782574663, 2.1170959584160776, -1.9885300360304687, 0.3009043264085271, 1.4900545862313435, 0.16707632821401622, 0.9089693366488185, -0.5309538275682677, -0.5645450618475066, 1.6180166982761703, 0.7121765540358281, -0.7133586311906459, 0.5262454614186426, -0.6978902815960228, 0.6315922215150983, 1.0230806194359456, 0.3552860393922047, -0.5659277005265211, -0.04418343728629043, 0.28347053779399023, 2.0322264650736446, -0.7523401320867622, -0.8403470210799748, 0.27784684716034863, 0.1822850299791254, -0.3697102441389198, -0.021692284748169602, -2.108941307116421, 0.31163343692776824, 2.283327532521014, -0.21171012089409746, -0.14660748153512856, 0.9344186636741401, -0.6106330572294365, -1.5392174683883328, -1.0058035991732786, 2.207169422150619, -1.9791714166370522, -0.7716556864796765, 0.42222551730076235, -0.790403471570592, 0.4827492291330723, 1.25811273044089, -0.4173142231933926, -1.683138705155208, -1.34399245571848, 0.4625126996712462, 1.2210567254188085, 0.07491053801766187, 1.6386682454467674, -0.5700560828390816, -1.200150895129222, -0.4816388445980546, -1.2599499551980429, 0.12748578860097046, -0.5886401471762375, 1.5612153234010075, 0.883110723570033, -0.6793443992951693, -1.7579488291595078, -0.6262305193938559, -0.597589289924199, 0.5975570794231981, -0.8338945349348488, 0.8538301101490644, -1.228745130925553, -0.07970988512138309, -1.5924974279353095, 0.9272268562201983, -0.14144485985252866, 0.6360884600335864, -0.6850117004071394, -0.3733130217574712, -1.6315284967377977, 0.7805667618604121, -0.5193183640984484, -0.7885902824548963, -0.23556747027558908, 1.1819720205400592, 0.5899214406180822]}, {\"boxpoints\": false, \"line\": {\"width\": 1.3}, \"marker\": {\"color\": \"rgba(55, 128, 191, 1.0)\"}, \"name\": \"B\", \"orientation\": \"v\", \"type\": \"box\", \"y\": [1.5740728987236858, -0.5204962324025592, 0.3784879080197764, 0.5665830926250587, 1.8307528761381824, 1.496398337103953, 0.319114278020899, 1.3241804073809924, -2.2199737044173027, 0.4069568095734938, 0.14826216989882013, -0.994303336633359, -0.36208520713052306, 1.7495268971863218, -0.4261065698300166, -1.7270517273707098, -2.357261283307402, 2.403928501039504, 0.6251246787404335, -0.004245790921073416, 1.6803335896006206, -0.7740097921221676, -0.17455728219713768, 0.5346934292088612, -0.16299832133350473, -1.6430005512614236, 0.1874046982263252, 0.3062098943756686, -1.075078115834331, -1.2214886703038546, -0.14724209756744944, 0.2429769271893512, -0.23269608358220994, 0.36352732895139045, 0.7934071373939708, -2.5011489951532644, -0.18797315258982397, 0.38603232777514507, 2.045463743570114, -0.26097071764894264, 0.550200525982311, -1.0767578575594094, 0.5983416714319514, -0.6321645924326897, -0.2766778496970904, 0.6695187229527138, 1.0353017178297368, 0.5761075611725717, 1.4718017958919445, -0.4896305364712738, 1.1538261951756705, 1.158823447440352, -0.8732216047844114, 1.520045712919522, 0.5910070115791487, -0.7236162689815163, -1.2718512751459379, 0.4412226470368304, 0.6634561156688739, -0.4577892833900473, 0.1318589819788368, -1.4368522046631298, -1.8395329503791198, -1.6492182544058702, -2.4797759739644487, 0.03894320353626314, -0.35092509075247313, 1.388297843133826, 0.11573851710811286, 0.3062732272678091, -0.46590267674086555, 0.5456442466695953, -0.5304629942227559, -0.4313314370468433, -0.08957726082416721, 1.1264734945274768, -0.9290255244862805, -1.7314167216950984, -0.30353773563327374, -0.4913771831551384, 1.1019884388012529, -1.1006777820996694, 0.02889859416952101, 0.7844200346560151, 0.4196265261180495, -0.6473364753369074, 0.42737665263402697, -1.5403520115571134, 0.425865498394857, -0.17886127476218783, -0.4685216389506663, -1.155388110493677, 0.46525913637554894, 0.9437691551712757, -0.744522351346594, -0.5107890860366717, -1.3104476513425958, -0.3659836777369112, -0.218182149822733, 0.5665569826426838]}, {\"boxpoints\": false, \"line\": {\"width\": 1.3}, \"marker\": {\"color\": \"rgba(50, 171, 96, 1.0)\"}, \"name\": \"C\", \"orientation\": \"v\", \"type\": \"box\", \"y\": [-1.459603748949274, 0.36084732152997506, -0.5087937897803205, -0.6625875564515807, 0.0458571320132211, -0.22353172948762665, -0.021676901168215516, 1.0109969799556564, 0.1548417939707732, 1.5246861097068372, 0.3843073754188259, -0.2877351727481541, -0.8850510395471989, 0.2302827746108358, -1.046706085000357, 0.4903825137117322, -0.8882765471260752, -0.6635904192407448, -0.7849761458065712, 0.22187755364367384, -0.08579259749363648, -0.6798487451416599, -0.13465838813595868, 0.966528711550423, -0.8939417164300886, 0.5092521728758914, 1.3813890362258592, -0.6000915663898146, -0.5198908129046946, 0.06811418698271128, -1.3801924853538312, 1.4507628195644844, 0.056975942253230986, 1.065230071169316, 2.2980625224378404, -0.5438322888356067, -2.1762460325655524, -1.4241602029776532, 1.530180390020162, -0.9119662893511137, -0.7638120477535097, -0.4858369466878768, -0.3364749472572307, 0.10144804129609479, -1.2162676038013833, -0.7566384634161051, -1.198459931518552, -0.8318366424691529, 1.1237094110646053, -0.31324383939626116, -1.0631440705709407, -0.13236752637785063, 2.3832147031217166, 1.0462176836057986, -0.6171526303962681, 0.2857308516819357, 0.16104524787882576, -0.5319241247372348, -1.4777798506329485, -1.221479308539262, 0.6371917427808321, -0.3521472610364796, 0.3323907752437583, 0.4690092849237108, -0.9787983865768881, 2.97356807674231, -0.2917970357274098, -0.2787513946556441, 0.08316931315076394, 0.787785337972341, 0.6490432539715015, 0.44608689200473245, -0.8758569022651723, 1.3879867128830092, 1.5037583750280177, -0.21114615035189996, -0.4181473771800166, 0.9693102074920084, 0.2736780087250651, -0.48850396744306007, 2.367476751301778, 0.6726810623673567, -1.240595925016922, -1.5673391878627263, -0.6187053188840654, 0.17192069629634585, 0.5106228718980147, 0.9843033390360832, -2.205254245222359, -0.9781287793982962, 0.6504552688513575, 0.5176419431393856, 0.8207147676081725, 0.19596478523855554, 1.1095332252866947, -0.04085314220983656, -0.6129619868855157, 0.8626754226526893, 0.9921214949750415, -0.28417173462493367]}, {\"boxpoints\": false, \"line\": {\"width\": 1.3}, \"marker\": {\"color\": \"rgba(128, 0, 128, 1.0)\"}, \"name\": \"D\", \"orientation\": \"v\", \"type\": \"box\", \"y\": [-0.36843748489429834, 1.573663816086213, 0.02138200976566842, 0.09654713224552525, -0.047453224701537323, 0.19622404390633058, -1.4677936505717069, 0.16847265438597325, 0.8541469774260697, 0.2787115744318224, 0.2550509546971101, 0.9738398424872442, 0.983756412376006, 1.772138932320897, 0.2824125191366073, 0.9581503693015755, -0.3361136095239392, -0.778480643711259, -0.9196675746383206, -0.4561399435716179, 0.7041234511118704, 0.3840654521028457, 1.2950270337210947, 0.6520895803806986, -0.0701065374551447, -0.3481889467794823, -0.6025996440367895, 0.5835089076878452, -0.9173006873679831, -0.388789211938765, -0.05626037443823479, 0.29977723032350884, -1.069382235219236, 0.3661278665663814, -1.4716019963433775, 1.9294763779525, -0.6651992094661, 1.2431585052103853, -1.9778747169690416, 0.8671612185490913, 0.9597034807362329, 1.0530172473875836, 1.0865771233924328, -0.6892158985281919, -0.5111063538918155, -1.9983789038577662, 0.3289294047544934, 0.015385363824137958, -0.4263665325461509, -1.1962971179633408, -1.0435130317124692, 0.14676810520402261, 1.063304322212356, -0.7478226448765005, 0.0708499838115726, -0.3180811548485733, 1.1348019060076748, -0.7861733179740832, 0.004055630047339287, -1.1346642149642945, -1.3326823461805832, -1.0040126391624085, -0.17188924005764283, 0.5509683892587323, -0.452522836687102, 0.0009431348771666263, -1.2927352123949698, 0.5611517113309042, 1.6200799067948002, 0.01977779447726261, -0.5057438199862079, 1.5999214592923323, 1.2056673567899268, -0.1133304445461091, -0.25843540882497096, -0.49604262118574804, -0.5813188784086023, 0.5369546139775898, -1.085308804635807, 1.1317928950545155, 0.7869883636718725, 0.8669532867871689, 0.31442152763111986, -0.25181868463329665, -0.353538895855213, 0.6575515102646519, 0.8844318658347354, 0.9146142997540004, 1.5814732505843072, 1.0245868131797415, -0.20542797464316637, 0.46519878109736074, 1.4325880132038897, -0.18531066682896988, -0.05846328750282914, 0.17497434563087624, 0.4406593327552767, -0.8772898092345249, -1.5108087138812814, -1.041379052269372]}],\n",
       "                        {\"legend\": {\"bgcolor\": \"#F5F6F9\", \"font\": {\"color\": \"#4D5663\"}}, \"paper_bgcolor\": \"#F5F6F9\", \"plot_bgcolor\": \"#F5F6F9\", \"template\": {\"data\": {\"bar\": [{\"error_x\": {\"color\": \"#2a3f5f\"}, \"error_y\": {\"color\": \"#2a3f5f\"}, \"marker\": {\"line\": {\"color\": \"#E5ECF6\", \"width\": 0.5}}, \"type\": \"bar\"}], \"barpolar\": [{\"marker\": {\"line\": {\"color\": \"#E5ECF6\", \"width\": 0.5}}, \"type\": \"barpolar\"}], \"carpet\": [{\"aaxis\": {\"endlinecolor\": \"#2a3f5f\", \"gridcolor\": \"white\", \"linecolor\": \"white\", \"minorgridcolor\": \"white\", \"startlinecolor\": \"#2a3f5f\"}, \"baxis\": {\"endlinecolor\": \"#2a3f5f\", \"gridcolor\": \"white\", \"linecolor\": \"white\", \"minorgridcolor\": \"white\", \"startlinecolor\": \"#2a3f5f\"}, \"type\": \"carpet\"}], \"choropleth\": [{\"colorbar\": {\"outlinewidth\": 0, \"ticks\": \"\"}, \"type\": \"choropleth\"}], \"contour\": [{\"colorbar\": {\"outlinewidth\": 0, \"ticks\": \"\"}, \"colorscale\": [[0.0, \"#0d0887\"], [0.1111111111111111, \"#46039f\"], [0.2222222222222222, \"#7201a8\"], [0.3333333333333333, \"#9c179e\"], [0.4444444444444444, \"#bd3786\"], [0.5555555555555556, \"#d8576b\"], [0.6666666666666666, \"#ed7953\"], [0.7777777777777778, \"#fb9f3a\"], [0.8888888888888888, \"#fdca26\"], [1.0, \"#f0f921\"]], \"type\": \"contour\"}], \"contourcarpet\": [{\"colorbar\": {\"outlinewidth\": 0, \"ticks\": \"\"}, \"type\": \"contourcarpet\"}], \"heatmap\": [{\"colorbar\": {\"outlinewidth\": 0, \"ticks\": \"\"}, \"colorscale\": [[0.0, \"#0d0887\"], [0.1111111111111111, \"#46039f\"], [0.2222222222222222, \"#7201a8\"], [0.3333333333333333, \"#9c179e\"], [0.4444444444444444, \"#bd3786\"], [0.5555555555555556, \"#d8576b\"], [0.6666666666666666, \"#ed7953\"], [0.7777777777777778, \"#fb9f3a\"], [0.8888888888888888, \"#fdca26\"], [1.0, \"#f0f921\"]], \"type\": \"heatmap\"}], \"heatmapgl\": [{\"colorbar\": {\"outlinewidth\": 0, \"ticks\": \"\"}, \"colorscale\": [[0.0, \"#0d0887\"], [0.1111111111111111, \"#46039f\"], [0.2222222222222222, \"#7201a8\"], [0.3333333333333333, \"#9c179e\"], [0.4444444444444444, \"#bd3786\"], [0.5555555555555556, \"#d8576b\"], [0.6666666666666666, \"#ed7953\"], [0.7777777777777778, \"#fb9f3a\"], [0.8888888888888888, \"#fdca26\"], [1.0, \"#f0f921\"]], \"type\": \"heatmapgl\"}], \"histogram\": [{\"marker\": {\"colorbar\": {\"outlinewidth\": 0, \"ticks\": \"\"}}, \"type\": \"histogram\"}], \"histogram2d\": [{\"colorbar\": {\"outlinewidth\": 0, \"ticks\": \"\"}, \"colorscale\": [[0.0, \"#0d0887\"], [0.1111111111111111, \"#46039f\"], [0.2222222222222222, \"#7201a8\"], [0.3333333333333333, \"#9c179e\"], [0.4444444444444444, \"#bd3786\"], [0.5555555555555556, \"#d8576b\"], [0.6666666666666666, \"#ed7953\"], [0.7777777777777778, \"#fb9f3a\"], [0.8888888888888888, \"#fdca26\"], [1.0, \"#f0f921\"]], \"type\": \"histogram2d\"}], \"histogram2dcontour\": [{\"colorbar\": {\"outlinewidth\": 0, \"ticks\": \"\"}, \"colorscale\": [[0.0, \"#0d0887\"], [0.1111111111111111, \"#46039f\"], [0.2222222222222222, \"#7201a8\"], [0.3333333333333333, \"#9c179e\"], [0.4444444444444444, \"#bd3786\"], [0.5555555555555556, \"#d8576b\"], [0.6666666666666666, \"#ed7953\"], [0.7777777777777778, \"#fb9f3a\"], [0.8888888888888888, \"#fdca26\"], [1.0, \"#f0f921\"]], \"type\": \"histogram2dcontour\"}], \"mesh3d\": [{\"colorbar\": {\"outlinewidth\": 0, \"ticks\": \"\"}, \"type\": \"mesh3d\"}], \"parcoords\": [{\"line\": {\"colorbar\": {\"outlinewidth\": 0, \"ticks\": \"\"}}, \"type\": \"parcoords\"}], \"pie\": [{\"automargin\": true, \"type\": \"pie\"}], \"scatter\": [{\"marker\": {\"colorbar\": {\"outlinewidth\": 0, \"ticks\": \"\"}}, \"type\": \"scatter\"}], \"scatter3d\": [{\"line\": {\"colorbar\": {\"outlinewidth\": 0, \"ticks\": \"\"}}, \"marker\": {\"colorbar\": {\"outlinewidth\": 0, \"ticks\": \"\"}}, \"type\": \"scatter3d\"}], \"scattercarpet\": [{\"marker\": {\"colorbar\": {\"outlinewidth\": 0, \"ticks\": \"\"}}, \"type\": \"scattercarpet\"}], \"scattergeo\": [{\"marker\": {\"colorbar\": {\"outlinewidth\": 0, \"ticks\": \"\"}}, \"type\": \"scattergeo\"}], \"scattergl\": [{\"marker\": {\"colorbar\": {\"outlinewidth\": 0, \"ticks\": \"\"}}, \"type\": \"scattergl\"}], \"scattermapbox\": [{\"marker\": {\"colorbar\": {\"outlinewidth\": 0, \"ticks\": \"\"}}, \"type\": \"scattermapbox\"}], \"scatterpolar\": [{\"marker\": {\"colorbar\": {\"outlinewidth\": 0, \"ticks\": \"\"}}, \"type\": \"scatterpolar\"}], \"scatterpolargl\": [{\"marker\": {\"colorbar\": {\"outlinewidth\": 0, \"ticks\": \"\"}}, \"type\": \"scatterpolargl\"}], \"scatterternary\": [{\"marker\": {\"colorbar\": {\"outlinewidth\": 0, \"ticks\": \"\"}}, \"type\": \"scatterternary\"}], \"surface\": [{\"colorbar\": {\"outlinewidth\": 0, \"ticks\": \"\"}, \"colorscale\": [[0.0, \"#0d0887\"], [0.1111111111111111, \"#46039f\"], [0.2222222222222222, \"#7201a8\"], [0.3333333333333333, \"#9c179e\"], [0.4444444444444444, \"#bd3786\"], [0.5555555555555556, \"#d8576b\"], [0.6666666666666666, \"#ed7953\"], [0.7777777777777778, \"#fb9f3a\"], [0.8888888888888888, \"#fdca26\"], [1.0, \"#f0f921\"]], \"type\": \"surface\"}], \"table\": [{\"cells\": {\"fill\": {\"color\": \"#EBF0F8\"}, \"line\": {\"color\": \"white\"}}, \"header\": {\"fill\": {\"color\": \"#C8D4E3\"}, \"line\": {\"color\": \"white\"}}, \"type\": \"table\"}]}, \"layout\": {\"annotationdefaults\": {\"arrowcolor\": \"#2a3f5f\", \"arrowhead\": 0, \"arrowwidth\": 1}, \"coloraxis\": {\"colorbar\": {\"outlinewidth\": 0, \"ticks\": \"\"}}, \"colorscale\": {\"diverging\": [[0, \"#8e0152\"], [0.1, \"#c51b7d\"], [0.2, \"#de77ae\"], [0.3, \"#f1b6da\"], [0.4, \"#fde0ef\"], [0.5, \"#f7f7f7\"], [0.6, \"#e6f5d0\"], [0.7, \"#b8e186\"], [0.8, \"#7fbc41\"], [0.9, \"#4d9221\"], [1, \"#276419\"]], \"sequential\": [[0.0, \"#0d0887\"], [0.1111111111111111, \"#46039f\"], [0.2222222222222222, \"#7201a8\"], [0.3333333333333333, \"#9c179e\"], [0.4444444444444444, \"#bd3786\"], [0.5555555555555556, \"#d8576b\"], [0.6666666666666666, \"#ed7953\"], [0.7777777777777778, \"#fb9f3a\"], [0.8888888888888888, \"#fdca26\"], [1.0, \"#f0f921\"]], \"sequentialminus\": [[0.0, \"#0d0887\"], [0.1111111111111111, \"#46039f\"], [0.2222222222222222, \"#7201a8\"], [0.3333333333333333, \"#9c179e\"], [0.4444444444444444, \"#bd3786\"], [0.5555555555555556, \"#d8576b\"], [0.6666666666666666, \"#ed7953\"], [0.7777777777777778, \"#fb9f3a\"], [0.8888888888888888, \"#fdca26\"], [1.0, \"#f0f921\"]]}, \"colorway\": [\"#636efa\", \"#EF553B\", \"#00cc96\", \"#ab63fa\", \"#FFA15A\", \"#19d3f3\", \"#FF6692\", \"#B6E880\", \"#FF97FF\", \"#FECB52\"], \"font\": {\"color\": \"#2a3f5f\"}, \"geo\": {\"bgcolor\": \"white\", \"lakecolor\": \"white\", \"landcolor\": \"#E5ECF6\", \"showlakes\": true, \"showland\": true, \"subunitcolor\": \"white\"}, \"hoverlabel\": {\"align\": \"left\"}, \"hovermode\": \"closest\", \"mapbox\": {\"style\": \"light\"}, \"paper_bgcolor\": \"white\", \"plot_bgcolor\": \"#E5ECF6\", \"polar\": {\"angularaxis\": {\"gridcolor\": \"white\", \"linecolor\": \"white\", \"ticks\": \"\"}, \"bgcolor\": \"#E5ECF6\", \"radialaxis\": {\"gridcolor\": \"white\", \"linecolor\": \"white\", \"ticks\": \"\"}}, \"scene\": {\"xaxis\": {\"backgroundcolor\": \"#E5ECF6\", \"gridcolor\": \"white\", \"gridwidth\": 2, \"linecolor\": \"white\", \"showbackground\": true, \"ticks\": \"\", \"zerolinecolor\": \"white\"}, \"yaxis\": {\"backgroundcolor\": \"#E5ECF6\", \"gridcolor\": \"white\", \"gridwidth\": 2, \"linecolor\": \"white\", \"showbackground\": true, \"ticks\": \"\", \"zerolinecolor\": \"white\"}, \"zaxis\": {\"backgroundcolor\": \"#E5ECF6\", \"gridcolor\": \"white\", \"gridwidth\": 2, \"linecolor\": \"white\", \"showbackground\": true, \"ticks\": \"\", \"zerolinecolor\": \"white\"}}, \"shapedefaults\": {\"line\": {\"color\": \"#2a3f5f\"}}, \"ternary\": {\"aaxis\": {\"gridcolor\": \"white\", \"linecolor\": \"white\", \"ticks\": \"\"}, \"baxis\": {\"gridcolor\": \"white\", \"linecolor\": \"white\", \"ticks\": \"\"}, \"bgcolor\": \"#E5ECF6\", \"caxis\": {\"gridcolor\": \"white\", \"linecolor\": \"white\", \"ticks\": \"\"}}, \"title\": {\"x\": 0.05}, \"xaxis\": {\"automargin\": true, \"gridcolor\": \"white\", \"linecolor\": \"white\", \"ticks\": \"\", \"title\": {\"standoff\": 15}, \"zerolinecolor\": \"white\", \"zerolinewidth\": 2}, \"yaxis\": {\"automargin\": true, \"gridcolor\": \"white\", \"linecolor\": \"white\", \"ticks\": \"\", \"title\": {\"standoff\": 15}, \"zerolinecolor\": \"white\", \"zerolinewidth\": 2}}}, \"title\": {\"font\": {\"color\": \"#4D5663\"}}, \"xaxis\": {\"gridcolor\": \"#E1E5ED\", \"showgrid\": true, \"tickfont\": {\"color\": \"#4D5663\"}, \"title\": {\"font\": {\"color\": \"#4D5663\"}, \"text\": \"\"}, \"zerolinecolor\": \"#E1E5ED\"}, \"yaxis\": {\"gridcolor\": \"#E1E5ED\", \"showgrid\": true, \"tickfont\": {\"color\": \"#4D5663\"}, \"title\": {\"font\": {\"color\": \"#4D5663\"}, \"text\": \"\"}, \"zerolinecolor\": \"#E1E5ED\"}},\n",
       "                        {\"showLink\": true, \"linkText\": \"Export to plot.ly\", \"plotlyServerURL\": \"https://plot.ly\", \"responsive\": true}\n",
       "                    ).then(function(){\n",
       "                            \n",
       "var gd = document.getElementById('93b3398b-53b6-4ff0-aedb-32c72fe22d68');\n",
       "var x = new MutationObserver(function (mutations, observer) {{\n",
       "        var display = window.getComputedStyle(gd).display;\n",
       "        if (!display || display === 'none') {{\n",
       "            console.log([gd, 'removed!']);\n",
       "            Plotly.purge(gd);\n",
       "            observer.disconnect();\n",
       "        }}\n",
       "}});\n",
       "\n",
       "// Listen for the removal of the full notebook cells\n",
       "var notebookContainer = gd.closest('#notebook-container');\n",
       "if (notebookContainer) {{\n",
       "    x.observe(notebookContainer, {childList: true});\n",
       "}}\n",
       "\n",
       "// Listen for the clearing of the current output cell\n",
       "var outputEl = gd.closest('.output');\n",
       "if (outputEl) {{\n",
       "    x.observe(outputEl, {childList: true});\n",
       "}}\n",
       "\n",
       "                        })\n",
       "                };\n",
       "                });\n",
       "            </script>\n",
       "        </div>"
      ]
     },
     "metadata": {},
     "output_type": "display_data"
    }
   ],
   "source": [
    "df.iplot(kind='box')"
   ]
  },
  {
   "cell_type": "markdown",
   "metadata": {},
   "source": [
    "## 3d Surface"
   ]
  },
  {
   "cell_type": "code",
   "execution_count": 14,
   "metadata": {},
   "outputs": [
    {
     "data": {
      "application/vnd.plotly.v1+json": {
       "config": {
        "linkText": "Export to plot.ly",
        "plotlyServerURL": "https://plot.ly",
        "showLink": true
       },
       "data": [
        {
         "colorscale": [
          [
           0,
           "rgb(165,0,38)"
          ],
          [
           0.1,
           "rgb(215,48,39)"
          ],
          [
           0.2,
           "rgb(244,109,67)"
          ],
          [
           0.3,
           "rgb(253,174,97)"
          ],
          [
           0.4,
           "rgb(254,224,144)"
          ],
          [
           0.5,
           "rgb(255,255,191)"
          ],
          [
           0.6,
           "rgb(224,243,248)"
          ],
          [
           0.7,
           "rgb(171,217,233)"
          ],
          [
           0.8,
           "rgb(116,173,209)"
          ],
          [
           0.9,
           "rgb(69,117,180)"
          ],
          [
           1,
           "rgb(49,54,149)"
          ]
         ],
         "type": "surface",
         "x": [
          0,
          1,
          2,
          3,
          4
         ],
         "y": [
          "x",
          "y",
          "z"
         ],
         "z": [
          [
           1,
           2,
           3,
           4,
           5
          ],
          [
           10,
           20,
           30,
           20,
           10
          ],
          [
           5,
           4,
           3,
           2,
           1
          ]
         ]
        }
       ],
       "layout": {
        "legend": {
         "bgcolor": "#F5F6F9",
         "font": {
          "color": "#4D5663"
         }
        },
        "paper_bgcolor": "#F5F6F9",
        "plot_bgcolor": "#F5F6F9",
        "template": {
         "data": {
          "bar": [
           {
            "error_x": {
             "color": "#2a3f5f"
            },
            "error_y": {
             "color": "#2a3f5f"
            },
            "marker": {
             "line": {
              "color": "#E5ECF6",
              "width": 0.5
             }
            },
            "type": "bar"
           }
          ],
          "barpolar": [
           {
            "marker": {
             "line": {
              "color": "#E5ECF6",
              "width": 0.5
             }
            },
            "type": "barpolar"
           }
          ],
          "carpet": [
           {
            "aaxis": {
             "endlinecolor": "#2a3f5f",
             "gridcolor": "white",
             "linecolor": "white",
             "minorgridcolor": "white",
             "startlinecolor": "#2a3f5f"
            },
            "baxis": {
             "endlinecolor": "#2a3f5f",
             "gridcolor": "white",
             "linecolor": "white",
             "minorgridcolor": "white",
             "startlinecolor": "#2a3f5f"
            },
            "type": "carpet"
           }
          ],
          "choropleth": [
           {
            "colorbar": {
             "outlinewidth": 0,
             "ticks": ""
            },
            "type": "choropleth"
           }
          ],
          "contour": [
           {
            "colorbar": {
             "outlinewidth": 0,
             "ticks": ""
            },
            "colorscale": [
             [
              0,
              "#0d0887"
             ],
             [
              0.1111111111111111,
              "#46039f"
             ],
             [
              0.2222222222222222,
              "#7201a8"
             ],
             [
              0.3333333333333333,
              "#9c179e"
             ],
             [
              0.4444444444444444,
              "#bd3786"
             ],
             [
              0.5555555555555556,
              "#d8576b"
             ],
             [
              0.6666666666666666,
              "#ed7953"
             ],
             [
              0.7777777777777778,
              "#fb9f3a"
             ],
             [
              0.8888888888888888,
              "#fdca26"
             ],
             [
              1,
              "#f0f921"
             ]
            ],
            "type": "contour"
           }
          ],
          "contourcarpet": [
           {
            "colorbar": {
             "outlinewidth": 0,
             "ticks": ""
            },
            "type": "contourcarpet"
           }
          ],
          "heatmap": [
           {
            "colorbar": {
             "outlinewidth": 0,
             "ticks": ""
            },
            "colorscale": [
             [
              0,
              "#0d0887"
             ],
             [
              0.1111111111111111,
              "#46039f"
             ],
             [
              0.2222222222222222,
              "#7201a8"
             ],
             [
              0.3333333333333333,
              "#9c179e"
             ],
             [
              0.4444444444444444,
              "#bd3786"
             ],
             [
              0.5555555555555556,
              "#d8576b"
             ],
             [
              0.6666666666666666,
              "#ed7953"
             ],
             [
              0.7777777777777778,
              "#fb9f3a"
             ],
             [
              0.8888888888888888,
              "#fdca26"
             ],
             [
              1,
              "#f0f921"
             ]
            ],
            "type": "heatmap"
           }
          ],
          "heatmapgl": [
           {
            "colorbar": {
             "outlinewidth": 0,
             "ticks": ""
            },
            "colorscale": [
             [
              0,
              "#0d0887"
             ],
             [
              0.1111111111111111,
              "#46039f"
             ],
             [
              0.2222222222222222,
              "#7201a8"
             ],
             [
              0.3333333333333333,
              "#9c179e"
             ],
             [
              0.4444444444444444,
              "#bd3786"
             ],
             [
              0.5555555555555556,
              "#d8576b"
             ],
             [
              0.6666666666666666,
              "#ed7953"
             ],
             [
              0.7777777777777778,
              "#fb9f3a"
             ],
             [
              0.8888888888888888,
              "#fdca26"
             ],
             [
              1,
              "#f0f921"
             ]
            ],
            "type": "heatmapgl"
           }
          ],
          "histogram": [
           {
            "marker": {
             "colorbar": {
              "outlinewidth": 0,
              "ticks": ""
             }
            },
            "type": "histogram"
           }
          ],
          "histogram2d": [
           {
            "colorbar": {
             "outlinewidth": 0,
             "ticks": ""
            },
            "colorscale": [
             [
              0,
              "#0d0887"
             ],
             [
              0.1111111111111111,
              "#46039f"
             ],
             [
              0.2222222222222222,
              "#7201a8"
             ],
             [
              0.3333333333333333,
              "#9c179e"
             ],
             [
              0.4444444444444444,
              "#bd3786"
             ],
             [
              0.5555555555555556,
              "#d8576b"
             ],
             [
              0.6666666666666666,
              "#ed7953"
             ],
             [
              0.7777777777777778,
              "#fb9f3a"
             ],
             [
              0.8888888888888888,
              "#fdca26"
             ],
             [
              1,
              "#f0f921"
             ]
            ],
            "type": "histogram2d"
           }
          ],
          "histogram2dcontour": [
           {
            "colorbar": {
             "outlinewidth": 0,
             "ticks": ""
            },
            "colorscale": [
             [
              0,
              "#0d0887"
             ],
             [
              0.1111111111111111,
              "#46039f"
             ],
             [
              0.2222222222222222,
              "#7201a8"
             ],
             [
              0.3333333333333333,
              "#9c179e"
             ],
             [
              0.4444444444444444,
              "#bd3786"
             ],
             [
              0.5555555555555556,
              "#d8576b"
             ],
             [
              0.6666666666666666,
              "#ed7953"
             ],
             [
              0.7777777777777778,
              "#fb9f3a"
             ],
             [
              0.8888888888888888,
              "#fdca26"
             ],
             [
              1,
              "#f0f921"
             ]
            ],
            "type": "histogram2dcontour"
           }
          ],
          "mesh3d": [
           {
            "colorbar": {
             "outlinewidth": 0,
             "ticks": ""
            },
            "type": "mesh3d"
           }
          ],
          "parcoords": [
           {
            "line": {
             "colorbar": {
              "outlinewidth": 0,
              "ticks": ""
             }
            },
            "type": "parcoords"
           }
          ],
          "pie": [
           {
            "automargin": true,
            "type": "pie"
           }
          ],
          "scatter": [
           {
            "marker": {
             "colorbar": {
              "outlinewidth": 0,
              "ticks": ""
             }
            },
            "type": "scatter"
           }
          ],
          "scatter3d": [
           {
            "line": {
             "colorbar": {
              "outlinewidth": 0,
              "ticks": ""
             }
            },
            "marker": {
             "colorbar": {
              "outlinewidth": 0,
              "ticks": ""
             }
            },
            "type": "scatter3d"
           }
          ],
          "scattercarpet": [
           {
            "marker": {
             "colorbar": {
              "outlinewidth": 0,
              "ticks": ""
             }
            },
            "type": "scattercarpet"
           }
          ],
          "scattergeo": [
           {
            "marker": {
             "colorbar": {
              "outlinewidth": 0,
              "ticks": ""
             }
            },
            "type": "scattergeo"
           }
          ],
          "scattergl": [
           {
            "marker": {
             "colorbar": {
              "outlinewidth": 0,
              "ticks": ""
             }
            },
            "type": "scattergl"
           }
          ],
          "scattermapbox": [
           {
            "marker": {
             "colorbar": {
              "outlinewidth": 0,
              "ticks": ""
             }
            },
            "type": "scattermapbox"
           }
          ],
          "scatterpolar": [
           {
            "marker": {
             "colorbar": {
              "outlinewidth": 0,
              "ticks": ""
             }
            },
            "type": "scatterpolar"
           }
          ],
          "scatterpolargl": [
           {
            "marker": {
             "colorbar": {
              "outlinewidth": 0,
              "ticks": ""
             }
            },
            "type": "scatterpolargl"
           }
          ],
          "scatterternary": [
           {
            "marker": {
             "colorbar": {
              "outlinewidth": 0,
              "ticks": ""
             }
            },
            "type": "scatterternary"
           }
          ],
          "surface": [
           {
            "colorbar": {
             "outlinewidth": 0,
             "ticks": ""
            },
            "colorscale": [
             [
              0,
              "#0d0887"
             ],
             [
              0.1111111111111111,
              "#46039f"
             ],
             [
              0.2222222222222222,
              "#7201a8"
             ],
             [
              0.3333333333333333,
              "#9c179e"
             ],
             [
              0.4444444444444444,
              "#bd3786"
             ],
             [
              0.5555555555555556,
              "#d8576b"
             ],
             [
              0.6666666666666666,
              "#ed7953"
             ],
             [
              0.7777777777777778,
              "#fb9f3a"
             ],
             [
              0.8888888888888888,
              "#fdca26"
             ],
             [
              1,
              "#f0f921"
             ]
            ],
            "type": "surface"
           }
          ],
          "table": [
           {
            "cells": {
             "fill": {
              "color": "#EBF0F8"
             },
             "line": {
              "color": "white"
             }
            },
            "header": {
             "fill": {
              "color": "#C8D4E3"
             },
             "line": {
              "color": "white"
             }
            },
            "type": "table"
           }
          ]
         },
         "layout": {
          "annotationdefaults": {
           "arrowcolor": "#2a3f5f",
           "arrowhead": 0,
           "arrowwidth": 1
          },
          "coloraxis": {
           "colorbar": {
            "outlinewidth": 0,
            "ticks": ""
           }
          },
          "colorscale": {
           "diverging": [
            [
             0,
             "#8e0152"
            ],
            [
             0.1,
             "#c51b7d"
            ],
            [
             0.2,
             "#de77ae"
            ],
            [
             0.3,
             "#f1b6da"
            ],
            [
             0.4,
             "#fde0ef"
            ],
            [
             0.5,
             "#f7f7f7"
            ],
            [
             0.6,
             "#e6f5d0"
            ],
            [
             0.7,
             "#b8e186"
            ],
            [
             0.8,
             "#7fbc41"
            ],
            [
             0.9,
             "#4d9221"
            ],
            [
             1,
             "#276419"
            ]
           ],
           "sequential": [
            [
             0,
             "#0d0887"
            ],
            [
             0.1111111111111111,
             "#46039f"
            ],
            [
             0.2222222222222222,
             "#7201a8"
            ],
            [
             0.3333333333333333,
             "#9c179e"
            ],
            [
             0.4444444444444444,
             "#bd3786"
            ],
            [
             0.5555555555555556,
             "#d8576b"
            ],
            [
             0.6666666666666666,
             "#ed7953"
            ],
            [
             0.7777777777777778,
             "#fb9f3a"
            ],
            [
             0.8888888888888888,
             "#fdca26"
            ],
            [
             1,
             "#f0f921"
            ]
           ],
           "sequentialminus": [
            [
             0,
             "#0d0887"
            ],
            [
             0.1111111111111111,
             "#46039f"
            ],
            [
             0.2222222222222222,
             "#7201a8"
            ],
            [
             0.3333333333333333,
             "#9c179e"
            ],
            [
             0.4444444444444444,
             "#bd3786"
            ],
            [
             0.5555555555555556,
             "#d8576b"
            ],
            [
             0.6666666666666666,
             "#ed7953"
            ],
            [
             0.7777777777777778,
             "#fb9f3a"
            ],
            [
             0.8888888888888888,
             "#fdca26"
            ],
            [
             1,
             "#f0f921"
            ]
           ]
          },
          "colorway": [
           "#636efa",
           "#EF553B",
           "#00cc96",
           "#ab63fa",
           "#FFA15A",
           "#19d3f3",
           "#FF6692",
           "#B6E880",
           "#FF97FF",
           "#FECB52"
          ],
          "font": {
           "color": "#2a3f5f"
          },
          "geo": {
           "bgcolor": "white",
           "lakecolor": "white",
           "landcolor": "#E5ECF6",
           "showlakes": true,
           "showland": true,
           "subunitcolor": "white"
          },
          "hoverlabel": {
           "align": "left"
          },
          "hovermode": "closest",
          "mapbox": {
           "style": "light"
          },
          "paper_bgcolor": "white",
          "plot_bgcolor": "#E5ECF6",
          "polar": {
           "angularaxis": {
            "gridcolor": "white",
            "linecolor": "white",
            "ticks": ""
           },
           "bgcolor": "#E5ECF6",
           "radialaxis": {
            "gridcolor": "white",
            "linecolor": "white",
            "ticks": ""
           }
          },
          "scene": {
           "xaxis": {
            "backgroundcolor": "#E5ECF6",
            "gridcolor": "white",
            "gridwidth": 2,
            "linecolor": "white",
            "showbackground": true,
            "ticks": "",
            "zerolinecolor": "white"
           },
           "yaxis": {
            "backgroundcolor": "#E5ECF6",
            "gridcolor": "white",
            "gridwidth": 2,
            "linecolor": "white",
            "showbackground": true,
            "ticks": "",
            "zerolinecolor": "white"
           },
           "zaxis": {
            "backgroundcolor": "#E5ECF6",
            "gridcolor": "white",
            "gridwidth": 2,
            "linecolor": "white",
            "showbackground": true,
            "ticks": "",
            "zerolinecolor": "white"
           }
          },
          "shapedefaults": {
           "line": {
            "color": "#2a3f5f"
           }
          },
          "ternary": {
           "aaxis": {
            "gridcolor": "white",
            "linecolor": "white",
            "ticks": ""
           },
           "baxis": {
            "gridcolor": "white",
            "linecolor": "white",
            "ticks": ""
           },
           "bgcolor": "#E5ECF6",
           "caxis": {
            "gridcolor": "white",
            "linecolor": "white",
            "ticks": ""
           }
          },
          "title": {
           "x": 0.05
          },
          "xaxis": {
           "automargin": true,
           "gridcolor": "white",
           "linecolor": "white",
           "ticks": "",
           "title": {
            "standoff": 15
           },
           "zerolinecolor": "white",
           "zerolinewidth": 2
          },
          "yaxis": {
           "automargin": true,
           "gridcolor": "white",
           "linecolor": "white",
           "ticks": "",
           "title": {
            "standoff": 15
           },
           "zerolinecolor": "white",
           "zerolinewidth": 2
          }
         }
        },
        "title": {
         "font": {
          "color": "#4D5663"
         }
        },
        "xaxis": {
         "gridcolor": "#E1E5ED",
         "showgrid": true,
         "tickfont": {
          "color": "#4D5663"
         },
         "title": {
          "font": {
           "color": "#4D5663"
          },
          "text": ""
         },
         "zerolinecolor": "#E1E5ED"
        },
        "yaxis": {
         "gridcolor": "#E1E5ED",
         "showgrid": true,
         "tickfont": {
          "color": "#4D5663"
         },
         "title": {
          "font": {
           "color": "#4D5663"
          },
          "text": ""
         },
         "zerolinecolor": "#E1E5ED"
        }
       }
      },
      "text/html": [
       "<div>\n",
       "        \n",
       "        \n",
       "            <div id=\"5db4b127-c581-45e0-a9bb-251ad6ca31f7\" class=\"plotly-graph-div\" style=\"height:525px; width:100%;\"></div>\n",
       "            <script type=\"text/javascript\">\n",
       "                require([\"plotly\"], function(Plotly) {\n",
       "                    window.PLOTLYENV=window.PLOTLYENV || {};\n",
       "                    window.PLOTLYENV.BASE_URL='https://plot.ly';\n",
       "                    \n",
       "                if (document.getElementById(\"5db4b127-c581-45e0-a9bb-251ad6ca31f7\")) {\n",
       "                    Plotly.newPlot(\n",
       "                        '5db4b127-c581-45e0-a9bb-251ad6ca31f7',\n",
       "                        [{\"colorscale\": [[0.0, \"rgb(165,0,38)\"], [0.1, \"rgb(215,48,39)\"], [0.2, \"rgb(244,109,67)\"], [0.3, \"rgb(253,174,97)\"], [0.4, \"rgb(254,224,144)\"], [0.5, \"rgb(255,255,191)\"], [0.6, \"rgb(224,243,248)\"], [0.7, \"rgb(171,217,233)\"], [0.8, \"rgb(116,173,209)\"], [0.9, \"rgb(69,117,180)\"], [1.0, \"rgb(49,54,149)\"]], \"type\": \"surface\", \"x\": [0, 1, 2, 3, 4], \"y\": [\"x\", \"y\", \"z\"], \"z\": [[1, 2, 3, 4, 5], [10, 20, 30, 20, 10], [5, 4, 3, 2, 1]]}],\n",
       "                        {\"legend\": {\"bgcolor\": \"#F5F6F9\", \"font\": {\"color\": \"#4D5663\"}}, \"paper_bgcolor\": \"#F5F6F9\", \"plot_bgcolor\": \"#F5F6F9\", \"template\": {\"data\": {\"bar\": [{\"error_x\": {\"color\": \"#2a3f5f\"}, \"error_y\": {\"color\": \"#2a3f5f\"}, \"marker\": {\"line\": {\"color\": \"#E5ECF6\", \"width\": 0.5}}, \"type\": \"bar\"}], \"barpolar\": [{\"marker\": {\"line\": {\"color\": \"#E5ECF6\", \"width\": 0.5}}, \"type\": \"barpolar\"}], \"carpet\": [{\"aaxis\": {\"endlinecolor\": \"#2a3f5f\", \"gridcolor\": \"white\", \"linecolor\": \"white\", \"minorgridcolor\": \"white\", \"startlinecolor\": \"#2a3f5f\"}, \"baxis\": {\"endlinecolor\": \"#2a3f5f\", \"gridcolor\": \"white\", \"linecolor\": \"white\", \"minorgridcolor\": \"white\", \"startlinecolor\": \"#2a3f5f\"}, \"type\": \"carpet\"}], \"choropleth\": [{\"colorbar\": {\"outlinewidth\": 0, \"ticks\": \"\"}, \"type\": \"choropleth\"}], \"contour\": [{\"colorbar\": {\"outlinewidth\": 0, \"ticks\": \"\"}, \"colorscale\": [[0.0, \"#0d0887\"], [0.1111111111111111, \"#46039f\"], [0.2222222222222222, \"#7201a8\"], [0.3333333333333333, \"#9c179e\"], [0.4444444444444444, \"#bd3786\"], [0.5555555555555556, \"#d8576b\"], [0.6666666666666666, \"#ed7953\"], [0.7777777777777778, \"#fb9f3a\"], [0.8888888888888888, \"#fdca26\"], [1.0, \"#f0f921\"]], \"type\": \"contour\"}], \"contourcarpet\": [{\"colorbar\": {\"outlinewidth\": 0, \"ticks\": \"\"}, \"type\": \"contourcarpet\"}], \"heatmap\": [{\"colorbar\": {\"outlinewidth\": 0, \"ticks\": \"\"}, \"colorscale\": [[0.0, \"#0d0887\"], [0.1111111111111111, \"#46039f\"], [0.2222222222222222, \"#7201a8\"], [0.3333333333333333, \"#9c179e\"], [0.4444444444444444, \"#bd3786\"], [0.5555555555555556, \"#d8576b\"], [0.6666666666666666, \"#ed7953\"], [0.7777777777777778, \"#fb9f3a\"], [0.8888888888888888, \"#fdca26\"], [1.0, \"#f0f921\"]], \"type\": \"heatmap\"}], \"heatmapgl\": [{\"colorbar\": {\"outlinewidth\": 0, \"ticks\": \"\"}, \"colorscale\": [[0.0, \"#0d0887\"], [0.1111111111111111, \"#46039f\"], [0.2222222222222222, \"#7201a8\"], [0.3333333333333333, \"#9c179e\"], [0.4444444444444444, \"#bd3786\"], [0.5555555555555556, \"#d8576b\"], [0.6666666666666666, \"#ed7953\"], [0.7777777777777778, \"#fb9f3a\"], [0.8888888888888888, \"#fdca26\"], [1.0, \"#f0f921\"]], \"type\": \"heatmapgl\"}], \"histogram\": [{\"marker\": {\"colorbar\": {\"outlinewidth\": 0, \"ticks\": \"\"}}, \"type\": \"histogram\"}], \"histogram2d\": [{\"colorbar\": {\"outlinewidth\": 0, \"ticks\": \"\"}, \"colorscale\": [[0.0, \"#0d0887\"], [0.1111111111111111, \"#46039f\"], [0.2222222222222222, \"#7201a8\"], [0.3333333333333333, \"#9c179e\"], [0.4444444444444444, \"#bd3786\"], [0.5555555555555556, \"#d8576b\"], [0.6666666666666666, \"#ed7953\"], [0.7777777777777778, \"#fb9f3a\"], [0.8888888888888888, \"#fdca26\"], [1.0, \"#f0f921\"]], \"type\": \"histogram2d\"}], \"histogram2dcontour\": [{\"colorbar\": {\"outlinewidth\": 0, \"ticks\": \"\"}, \"colorscale\": [[0.0, \"#0d0887\"], [0.1111111111111111, \"#46039f\"], [0.2222222222222222, \"#7201a8\"], [0.3333333333333333, \"#9c179e\"], [0.4444444444444444, \"#bd3786\"], [0.5555555555555556, \"#d8576b\"], [0.6666666666666666, \"#ed7953\"], [0.7777777777777778, \"#fb9f3a\"], [0.8888888888888888, \"#fdca26\"], [1.0, \"#f0f921\"]], \"type\": \"histogram2dcontour\"}], \"mesh3d\": [{\"colorbar\": {\"outlinewidth\": 0, \"ticks\": \"\"}, \"type\": \"mesh3d\"}], \"parcoords\": [{\"line\": {\"colorbar\": {\"outlinewidth\": 0, \"ticks\": \"\"}}, \"type\": \"parcoords\"}], \"pie\": [{\"automargin\": true, \"type\": \"pie\"}], \"scatter\": [{\"marker\": {\"colorbar\": {\"outlinewidth\": 0, \"ticks\": \"\"}}, \"type\": \"scatter\"}], \"scatter3d\": [{\"line\": {\"colorbar\": {\"outlinewidth\": 0, \"ticks\": \"\"}}, \"marker\": {\"colorbar\": {\"outlinewidth\": 0, \"ticks\": \"\"}}, \"type\": \"scatter3d\"}], \"scattercarpet\": [{\"marker\": {\"colorbar\": {\"outlinewidth\": 0, \"ticks\": \"\"}}, \"type\": \"scattercarpet\"}], \"scattergeo\": [{\"marker\": {\"colorbar\": {\"outlinewidth\": 0, \"ticks\": \"\"}}, \"type\": \"scattergeo\"}], \"scattergl\": [{\"marker\": {\"colorbar\": {\"outlinewidth\": 0, \"ticks\": \"\"}}, \"type\": \"scattergl\"}], \"scattermapbox\": [{\"marker\": {\"colorbar\": {\"outlinewidth\": 0, \"ticks\": \"\"}}, \"type\": \"scattermapbox\"}], \"scatterpolar\": [{\"marker\": {\"colorbar\": {\"outlinewidth\": 0, \"ticks\": \"\"}}, \"type\": \"scatterpolar\"}], \"scatterpolargl\": [{\"marker\": {\"colorbar\": {\"outlinewidth\": 0, \"ticks\": \"\"}}, \"type\": \"scatterpolargl\"}], \"scatterternary\": [{\"marker\": {\"colorbar\": {\"outlinewidth\": 0, \"ticks\": \"\"}}, \"type\": \"scatterternary\"}], \"surface\": [{\"colorbar\": {\"outlinewidth\": 0, \"ticks\": \"\"}, \"colorscale\": [[0.0, \"#0d0887\"], [0.1111111111111111, \"#46039f\"], [0.2222222222222222, \"#7201a8\"], [0.3333333333333333, \"#9c179e\"], [0.4444444444444444, \"#bd3786\"], [0.5555555555555556, \"#d8576b\"], [0.6666666666666666, \"#ed7953\"], [0.7777777777777778, \"#fb9f3a\"], [0.8888888888888888, \"#fdca26\"], [1.0, \"#f0f921\"]], \"type\": \"surface\"}], \"table\": [{\"cells\": {\"fill\": {\"color\": \"#EBF0F8\"}, \"line\": {\"color\": \"white\"}}, \"header\": {\"fill\": {\"color\": \"#C8D4E3\"}, \"line\": {\"color\": \"white\"}}, \"type\": \"table\"}]}, \"layout\": {\"annotationdefaults\": {\"arrowcolor\": \"#2a3f5f\", \"arrowhead\": 0, \"arrowwidth\": 1}, \"coloraxis\": {\"colorbar\": {\"outlinewidth\": 0, \"ticks\": \"\"}}, \"colorscale\": {\"diverging\": [[0, \"#8e0152\"], [0.1, \"#c51b7d\"], [0.2, \"#de77ae\"], [0.3, \"#f1b6da\"], [0.4, \"#fde0ef\"], [0.5, \"#f7f7f7\"], [0.6, \"#e6f5d0\"], [0.7, \"#b8e186\"], [0.8, \"#7fbc41\"], [0.9, \"#4d9221\"], [1, \"#276419\"]], \"sequential\": [[0.0, \"#0d0887\"], [0.1111111111111111, \"#46039f\"], [0.2222222222222222, \"#7201a8\"], [0.3333333333333333, \"#9c179e\"], [0.4444444444444444, \"#bd3786\"], [0.5555555555555556, \"#d8576b\"], [0.6666666666666666, \"#ed7953\"], [0.7777777777777778, \"#fb9f3a\"], [0.8888888888888888, \"#fdca26\"], [1.0, \"#f0f921\"]], \"sequentialminus\": [[0.0, \"#0d0887\"], [0.1111111111111111, \"#46039f\"], [0.2222222222222222, \"#7201a8\"], [0.3333333333333333, \"#9c179e\"], [0.4444444444444444, \"#bd3786\"], [0.5555555555555556, \"#d8576b\"], [0.6666666666666666, \"#ed7953\"], [0.7777777777777778, \"#fb9f3a\"], [0.8888888888888888, \"#fdca26\"], [1.0, \"#f0f921\"]]}, \"colorway\": [\"#636efa\", \"#EF553B\", \"#00cc96\", \"#ab63fa\", \"#FFA15A\", \"#19d3f3\", \"#FF6692\", \"#B6E880\", \"#FF97FF\", \"#FECB52\"], \"font\": {\"color\": \"#2a3f5f\"}, \"geo\": {\"bgcolor\": \"white\", \"lakecolor\": \"white\", \"landcolor\": \"#E5ECF6\", \"showlakes\": true, \"showland\": true, \"subunitcolor\": \"white\"}, \"hoverlabel\": {\"align\": \"left\"}, \"hovermode\": \"closest\", \"mapbox\": {\"style\": \"light\"}, \"paper_bgcolor\": \"white\", \"plot_bgcolor\": \"#E5ECF6\", \"polar\": {\"angularaxis\": {\"gridcolor\": \"white\", \"linecolor\": \"white\", \"ticks\": \"\"}, \"bgcolor\": \"#E5ECF6\", \"radialaxis\": {\"gridcolor\": \"white\", \"linecolor\": \"white\", \"ticks\": \"\"}}, \"scene\": {\"xaxis\": {\"backgroundcolor\": \"#E5ECF6\", \"gridcolor\": \"white\", \"gridwidth\": 2, \"linecolor\": \"white\", \"showbackground\": true, \"ticks\": \"\", \"zerolinecolor\": \"white\"}, \"yaxis\": {\"backgroundcolor\": \"#E5ECF6\", \"gridcolor\": \"white\", \"gridwidth\": 2, \"linecolor\": \"white\", \"showbackground\": true, \"ticks\": \"\", \"zerolinecolor\": \"white\"}, \"zaxis\": {\"backgroundcolor\": \"#E5ECF6\", \"gridcolor\": \"white\", \"gridwidth\": 2, \"linecolor\": \"white\", \"showbackground\": true, \"ticks\": \"\", \"zerolinecolor\": \"white\"}}, \"shapedefaults\": {\"line\": {\"color\": \"#2a3f5f\"}}, \"ternary\": {\"aaxis\": {\"gridcolor\": \"white\", \"linecolor\": \"white\", \"ticks\": \"\"}, \"baxis\": {\"gridcolor\": \"white\", \"linecolor\": \"white\", \"ticks\": \"\"}, \"bgcolor\": \"#E5ECF6\", \"caxis\": {\"gridcolor\": \"white\", \"linecolor\": \"white\", \"ticks\": \"\"}}, \"title\": {\"x\": 0.05}, \"xaxis\": {\"automargin\": true, \"gridcolor\": \"white\", \"linecolor\": \"white\", \"ticks\": \"\", \"title\": {\"standoff\": 15}, \"zerolinecolor\": \"white\", \"zerolinewidth\": 2}, \"yaxis\": {\"automargin\": true, \"gridcolor\": \"white\", \"linecolor\": \"white\", \"ticks\": \"\", \"title\": {\"standoff\": 15}, \"zerolinecolor\": \"white\", \"zerolinewidth\": 2}}}, \"title\": {\"font\": {\"color\": \"#4D5663\"}}, \"xaxis\": {\"gridcolor\": \"#E1E5ED\", \"showgrid\": true, \"tickfont\": {\"color\": \"#4D5663\"}, \"title\": {\"font\": {\"color\": \"#4D5663\"}, \"text\": \"\"}, \"zerolinecolor\": \"#E1E5ED\"}, \"yaxis\": {\"gridcolor\": \"#E1E5ED\", \"showgrid\": true, \"tickfont\": {\"color\": \"#4D5663\"}, \"title\": {\"font\": {\"color\": \"#4D5663\"}, \"text\": \"\"}, \"zerolinecolor\": \"#E1E5ED\"}},\n",
       "                        {\"showLink\": true, \"linkText\": \"Export to plot.ly\", \"plotlyServerURL\": \"https://plot.ly\", \"responsive\": true}\n",
       "                    ).then(function(){\n",
       "                            \n",
       "var gd = document.getElementById('5db4b127-c581-45e0-a9bb-251ad6ca31f7');\n",
       "var x = new MutationObserver(function (mutations, observer) {{\n",
       "        var display = window.getComputedStyle(gd).display;\n",
       "        if (!display || display === 'none') {{\n",
       "            console.log([gd, 'removed!']);\n",
       "            Plotly.purge(gd);\n",
       "            observer.disconnect();\n",
       "        }}\n",
       "}});\n",
       "\n",
       "// Listen for the removal of the full notebook cells\n",
       "var notebookContainer = gd.closest('#notebook-container');\n",
       "if (notebookContainer) {{\n",
       "    x.observe(notebookContainer, {childList: true});\n",
       "}}\n",
       "\n",
       "// Listen for the clearing of the current output cell\n",
       "var outputEl = gd.closest('.output');\n",
       "if (outputEl) {{\n",
       "    x.observe(outputEl, {childList: true});\n",
       "}}\n",
       "\n",
       "                        })\n",
       "                };\n",
       "                });\n",
       "            </script>\n",
       "        </div>"
      ]
     },
     "metadata": {},
     "output_type": "display_data"
    }
   ],
   "source": [
    "df3 = pd.DataFrame({'x':[1,2,3,4,5],'y':[10,20,30,20,10],'z':[5,4,3,2,1]})\n",
    "df3.iplot(kind='surface',colorscale='rdylbu')"
   ]
  },
  {
   "cell_type": "markdown",
   "metadata": {},
   "source": [
    "## Spread"
   ]
  },
  {
   "cell_type": "code",
   "execution_count": 15,
   "metadata": {},
   "outputs": [
    {
     "name": "stderr",
     "output_type": "stream",
     "text": [
      "C:\\Users\\Dell\\anaconda3\\lib\\site-packages\\cufflinks\\plotlytools.py:849: FutureWarning:\n",
      "\n",
      "The pandas.np module is deprecated and will be removed from pandas in a future version. Import numpy directly instead\n",
      "\n",
      "C:\\Users\\Dell\\anaconda3\\lib\\site-packages\\cufflinks\\plotlytools.py:850: FutureWarning:\n",
      "\n",
      "The pandas.np module is deprecated and will be removed from pandas in a future version. Import numpy directly instead\n",
      "\n"
     ]
    },
    {
     "data": {
      "application/vnd.plotly.v1+json": {
       "config": {
        "linkText": "Export to plot.ly",
        "plotlyServerURL": "https://plot.ly",
        "showLink": true
       },
       "data": [
        {
         "line": {
          "color": "rgba(255, 153, 51, 1.0)",
          "dash": "solid",
          "shape": "linear",
          "width": 1.3
         },
         "mode": "lines",
         "name": "A",
         "text": "",
         "type": "scatter",
         "x": [
          0,
          1,
          2,
          3,
          4,
          5,
          6,
          7,
          8,
          9,
          10,
          11,
          12,
          13,
          14,
          15,
          16,
          17,
          18,
          19,
          20,
          21,
          22,
          23,
          24,
          25,
          26,
          27,
          28,
          29,
          30,
          31,
          32,
          33,
          34,
          35,
          36,
          37,
          38,
          39,
          40,
          41,
          42,
          43,
          44,
          45,
          46,
          47,
          48,
          49,
          50,
          51,
          52,
          53,
          54,
          55,
          56,
          57,
          58,
          59,
          60,
          61,
          62,
          63,
          64,
          65,
          66,
          67,
          68,
          69,
          70,
          71,
          72,
          73,
          74,
          75,
          76,
          77,
          78,
          79,
          80,
          81,
          82,
          83,
          84,
          85,
          86,
          87,
          88,
          89,
          90,
          91,
          92,
          93,
          94,
          95,
          96,
          97,
          98,
          99
         ],
         "y": [
          -0.28658062289161507,
          2.8713810642415774,
          -0.8356058485756809,
          0.015123707936464765,
          -0.36393332536263484,
          2.341958955914593,
          0.026375334658533516,
          -0.8912079656500846,
          1.5259075076059636,
          -0.7251464655554153,
          -2.208567554152265,
          0.8160362211716472,
          0.1352305382758277,
          -0.07773618163611463,
          -1.6218256058133913,
          -1.4461184112948848,
          -0.9432178303375855,
          0.11042142518952364,
          0.22210119025882,
          0.29314536564232757,
          -1.3667737782574663,
          2.1170959584160776,
          -1.9885300360304687,
          0.3009043264085271,
          1.4900545862313435,
          0.16707632821401622,
          0.9089693366488185,
          -0.5309538275682677,
          -0.5645450618475066,
          1.6180166982761703,
          0.7121765540358281,
          -0.7133586311906459,
          0.5262454614186426,
          -0.6978902815960228,
          0.6315922215150983,
          1.0230806194359456,
          0.3552860393922047,
          -0.5659277005265211,
          -0.04418343728629043,
          0.28347053779399023,
          2.0322264650736446,
          -0.7523401320867622,
          -0.8403470210799748,
          0.27784684716034863,
          0.1822850299791254,
          -0.3697102441389198,
          -0.021692284748169602,
          -2.108941307116421,
          0.31163343692776824,
          2.283327532521014,
          -0.21171012089409746,
          -0.14660748153512856,
          0.9344186636741401,
          -0.6106330572294365,
          -1.5392174683883328,
          -1.0058035991732786,
          2.207169422150619,
          -1.9791714166370522,
          -0.7716556864796765,
          0.42222551730076235,
          -0.790403471570592,
          0.4827492291330723,
          1.25811273044089,
          -0.4173142231933926,
          -1.683138705155208,
          -1.34399245571848,
          0.4625126996712462,
          1.2210567254188085,
          0.07491053801766187,
          1.6386682454467674,
          -0.5700560828390816,
          -1.200150895129222,
          -0.4816388445980546,
          -1.2599499551980429,
          0.12748578860097046,
          -0.5886401471762375,
          1.5612153234010075,
          0.883110723570033,
          -0.6793443992951693,
          -1.7579488291595078,
          -0.6262305193938559,
          -0.597589289924199,
          0.5975570794231981,
          -0.8338945349348488,
          0.8538301101490644,
          -1.228745130925553,
          -0.07970988512138309,
          -1.5924974279353095,
          0.9272268562201983,
          -0.14144485985252866,
          0.6360884600335864,
          -0.6850117004071394,
          -0.3733130217574712,
          -1.6315284967377977,
          0.7805667618604121,
          -0.5193183640984484,
          -0.7885902824548963,
          -0.23556747027558908,
          1.1819720205400592,
          0.5899214406180822
         ]
        },
        {
         "line": {
          "color": "rgba(55, 128, 191, 1.0)",
          "dash": "solid",
          "shape": "linear",
          "width": 1.3
         },
         "mode": "lines",
         "name": "B",
         "text": "",
         "type": "scatter",
         "x": [
          0,
          1,
          2,
          3,
          4,
          5,
          6,
          7,
          8,
          9,
          10,
          11,
          12,
          13,
          14,
          15,
          16,
          17,
          18,
          19,
          20,
          21,
          22,
          23,
          24,
          25,
          26,
          27,
          28,
          29,
          30,
          31,
          32,
          33,
          34,
          35,
          36,
          37,
          38,
          39,
          40,
          41,
          42,
          43,
          44,
          45,
          46,
          47,
          48,
          49,
          50,
          51,
          52,
          53,
          54,
          55,
          56,
          57,
          58,
          59,
          60,
          61,
          62,
          63,
          64,
          65,
          66,
          67,
          68,
          69,
          70,
          71,
          72,
          73,
          74,
          75,
          76,
          77,
          78,
          79,
          80,
          81,
          82,
          83,
          84,
          85,
          86,
          87,
          88,
          89,
          90,
          91,
          92,
          93,
          94,
          95,
          96,
          97,
          98,
          99
         ],
         "y": [
          1.5740728987236858,
          -0.5204962324025592,
          0.3784879080197764,
          0.5665830926250587,
          1.8307528761381824,
          1.496398337103953,
          0.319114278020899,
          1.3241804073809924,
          -2.2199737044173027,
          0.4069568095734938,
          0.14826216989882013,
          -0.994303336633359,
          -0.36208520713052306,
          1.7495268971863218,
          -0.4261065698300166,
          -1.7270517273707098,
          -2.357261283307402,
          2.403928501039504,
          0.6251246787404335,
          -0.004245790921073416,
          1.6803335896006206,
          -0.7740097921221676,
          -0.17455728219713768,
          0.5346934292088612,
          -0.16299832133350473,
          -1.6430005512614236,
          0.1874046982263252,
          0.3062098943756686,
          -1.075078115834331,
          -1.2214886703038546,
          -0.14724209756744944,
          0.2429769271893512,
          -0.23269608358220994,
          0.36352732895139045,
          0.7934071373939708,
          -2.5011489951532644,
          -0.18797315258982397,
          0.38603232777514507,
          2.045463743570114,
          -0.26097071764894264,
          0.550200525982311,
          -1.0767578575594094,
          0.5983416714319514,
          -0.6321645924326897,
          -0.2766778496970904,
          0.6695187229527138,
          1.0353017178297368,
          0.5761075611725717,
          1.4718017958919445,
          -0.4896305364712738,
          1.1538261951756705,
          1.158823447440352,
          -0.8732216047844114,
          1.520045712919522,
          0.5910070115791487,
          -0.7236162689815163,
          -1.2718512751459379,
          0.4412226470368304,
          0.6634561156688739,
          -0.4577892833900473,
          0.1318589819788368,
          -1.4368522046631298,
          -1.8395329503791198,
          -1.6492182544058702,
          -2.4797759739644487,
          0.03894320353626314,
          -0.35092509075247313,
          1.388297843133826,
          0.11573851710811286,
          0.3062732272678091,
          -0.46590267674086555,
          0.5456442466695953,
          -0.5304629942227559,
          -0.4313314370468433,
          -0.08957726082416721,
          1.1264734945274768,
          -0.9290255244862805,
          -1.7314167216950984,
          -0.30353773563327374,
          -0.4913771831551384,
          1.1019884388012529,
          -1.1006777820996694,
          0.02889859416952101,
          0.7844200346560151,
          0.4196265261180495,
          -0.6473364753369074,
          0.42737665263402697,
          -1.5403520115571134,
          0.425865498394857,
          -0.17886127476218783,
          -0.4685216389506663,
          -1.155388110493677,
          0.46525913637554894,
          0.9437691551712757,
          -0.744522351346594,
          -0.5107890860366717,
          -1.3104476513425958,
          -0.3659836777369112,
          -0.218182149822733,
          0.5665569826426838
         ]
        },
        {
         "connectgaps": false,
         "fill": "tozeroy",
         "line": {
          "color": "green",
          "dash": "solid",
          "shape": "linear",
          "width": 0.5
         },
         "mode": "lines",
         "name": "Spread",
         "showlegend": false,
         "type": "scatter",
         "x": [
          0,
          1,
          2,
          3,
          4,
          5,
          6,
          7,
          8,
          9,
          10,
          11,
          12,
          13,
          14,
          15,
          16,
          17,
          18,
          19,
          20,
          21,
          22,
          23,
          24,
          25,
          26,
          27,
          28,
          29,
          30,
          31,
          32,
          33,
          34,
          35,
          36,
          37,
          38,
          39,
          40,
          41,
          42,
          43,
          44,
          45,
          46,
          47,
          48,
          49,
          50,
          51,
          52,
          53,
          54,
          55,
          56,
          57,
          58,
          59,
          60,
          61,
          62,
          63,
          64,
          65,
          66,
          67,
          68,
          69,
          70,
          71,
          72,
          73,
          74,
          75,
          76,
          77,
          78,
          79,
          80,
          81,
          82,
          83,
          84,
          85,
          86,
          87,
          88,
          89,
          90,
          91,
          92,
          93,
          94,
          95,
          96,
          97,
          98,
          99
         ],
         "xaxis": "x2",
         "y": [
          "",
          3.3918772966441364,
          "",
          "",
          "",
          0.8455606188106397,
          "",
          "",
          3.7458812120232663,
          "",
          "",
          1.810339557805006,
          0.49731574540635076,
          "",
          "",
          0.28093331607582495,
          1.4140434529698163,
          "",
          "",
          0.297391156563401,
          "",
          2.8911057505382454,
          "",
          "",
          1.6530529075648481,
          1.8100768794754398,
          0.7215646384224933,
          "",
          0.5105330539868244,
          2.839505368580025,
          0.8594186516032776,
          "",
          0.7589415450008525,
          "",
          "",
          3.52422961458921,
          0.5432591919820287,
          "",
          "",
          0.5444412554429329,
          1.4820259390913337,
          0.32441772547264724,
          "",
          0.9100114395930383,
          0.45896287967621585,
          "",
          "",
          "",
          "",
          2.7729580689922875,
          "",
          "",
          1.8076402684585515,
          "",
          "",
          "",
          3.4790206972965567,
          "",
          "",
          0.8800148006908097,
          "",
          1.9196014337962022,
          3.0976456808200097,
          1.2319040312124776,
          0.7966372688092407,
          "",
          0.8134377904237193,
          "",
          "",
          1.3323950181789583,
          "",
          "",
          0.048824149624701274,
          "",
          0.21706304942513766,
          "",
          2.490240847887288,
          2.6145274452651313,
          "",
          "",
          "",
          0.5030884921754704,
          0.5686584852536771,
          "",
          0.4342035840310149,
          "",
          "",
          "",
          0.5013613578253413,
          0.03741641490965916,
          1.1046100989842527,
          0.4703764100865375,
          "",
          "",
          1.525089113207006,
          "",
          0.5218573688876995,
          0.13041620746132213,
          1.4001541703627922,
          0.023364457975398323
         ],
         "yaxis": "y2"
        },
        {
         "connectgaps": false,
         "fill": "tozeroy",
         "line": {
          "color": "red",
          "dash": "solid",
          "shape": "linear",
          "width": 0.5
         },
         "mode": "lines",
         "name": "Spread",
         "showlegend": false,
         "type": "scatter",
         "x": [
          0,
          1,
          2,
          3,
          4,
          5,
          6,
          7,
          8,
          9,
          10,
          11,
          12,
          13,
          14,
          15,
          16,
          17,
          18,
          19,
          20,
          21,
          22,
          23,
          24,
          25,
          26,
          27,
          28,
          29,
          30,
          31,
          32,
          33,
          34,
          35,
          36,
          37,
          38,
          39,
          40,
          41,
          42,
          43,
          44,
          45,
          46,
          47,
          48,
          49,
          50,
          51,
          52,
          53,
          54,
          55,
          56,
          57,
          58,
          59,
          60,
          61,
          62,
          63,
          64,
          65,
          66,
          67,
          68,
          69,
          70,
          71,
          72,
          73,
          74,
          75,
          76,
          77,
          78,
          79,
          80,
          81,
          82,
          83,
          84,
          85,
          86,
          87,
          88,
          89,
          90,
          91,
          92,
          93,
          94,
          95,
          96,
          97,
          98,
          99
         ],
         "xaxis": "x2",
         "y": [
          -1.8606535216153008,
          "",
          -1.2140937565954573,
          -0.5514593846885939,
          -2.1946862015008173,
          "",
          -0.29273894336236544,
          -2.215388373031077,
          "",
          -1.132103275128909,
          -2.356829724051085,
          "",
          "",
          -1.8272630788224364,
          -1.1957190359833747,
          "",
          "",
          -2.2935070758499805,
          -0.4030234884816135,
          "",
          -3.0471073678580867,
          "",
          -1.813972753833331,
          -0.2337891028003341,
          "",
          "",
          "",
          -0.8371637219439363,
          "",
          "",
          "",
          -0.9563355583799971,
          "",
          -1.0614176105474133,
          -0.16181491587887253,
          "",
          "",
          -0.9519600283016662,
          -2.0896471808564048,
          "",
          "",
          "",
          -1.4386886925119262,
          "",
          "",
          -1.0392289670916335,
          -1.0569940025779063,
          -2.685048868288993,
          -1.1601683589641762,
          "",
          -1.365536316069768,
          -1.3054309289754806,
          "",
          -2.1306787701489585,
          -2.1302244799674814,
          -0.28218733019176223,
          "",
          -2.4203940636738825,
          -1.4351118021485503,
          "",
          -0.9222624535494288,
          "",
          "",
          "",
          "",
          -1.382935659254743,
          "",
          -0.16724111771501748,
          -0.040827979090450994,
          "",
          -0.10415340609821605,
          -1.7457951417988173,
          "",
          -0.8286185181511996,
          "",
          -1.7151136417037143,
          "",
          "",
          -0.3758066636618956,
          -1.2665716460043694,
          -1.7282189581951086,
          "",
          "",
          -1.6183145695908638,
          "",
          -0.5814086555886456,
          -0.50708653775541,
          -0.05214541637819603,
          "",
          "",
          "",
          "",
          -0.8385721581330201,
          -2.5752976519090733,
          "",
          -0.008529278061776724,
          "",
          "",
          "",
          ""
         ],
         "yaxis": "y2"
        }
       ],
       "layout": {
        "hovermode": "x",
        "legend": {
         "bgcolor": "#F5F6F9",
         "font": {
          "color": "#4D5663"
         }
        },
        "paper_bgcolor": "#F5F6F9",
        "plot_bgcolor": "#F5F6F9",
        "template": {
         "data": {
          "bar": [
           {
            "error_x": {
             "color": "#2a3f5f"
            },
            "error_y": {
             "color": "#2a3f5f"
            },
            "marker": {
             "line": {
              "color": "#E5ECF6",
              "width": 0.5
             }
            },
            "type": "bar"
           }
          ],
          "barpolar": [
           {
            "marker": {
             "line": {
              "color": "#E5ECF6",
              "width": 0.5
             }
            },
            "type": "barpolar"
           }
          ],
          "carpet": [
           {
            "aaxis": {
             "endlinecolor": "#2a3f5f",
             "gridcolor": "white",
             "linecolor": "white",
             "minorgridcolor": "white",
             "startlinecolor": "#2a3f5f"
            },
            "baxis": {
             "endlinecolor": "#2a3f5f",
             "gridcolor": "white",
             "linecolor": "white",
             "minorgridcolor": "white",
             "startlinecolor": "#2a3f5f"
            },
            "type": "carpet"
           }
          ],
          "choropleth": [
           {
            "colorbar": {
             "outlinewidth": 0,
             "ticks": ""
            },
            "type": "choropleth"
           }
          ],
          "contour": [
           {
            "colorbar": {
             "outlinewidth": 0,
             "ticks": ""
            },
            "colorscale": [
             [
              0,
              "#0d0887"
             ],
             [
              0.1111111111111111,
              "#46039f"
             ],
             [
              0.2222222222222222,
              "#7201a8"
             ],
             [
              0.3333333333333333,
              "#9c179e"
             ],
             [
              0.4444444444444444,
              "#bd3786"
             ],
             [
              0.5555555555555556,
              "#d8576b"
             ],
             [
              0.6666666666666666,
              "#ed7953"
             ],
             [
              0.7777777777777778,
              "#fb9f3a"
             ],
             [
              0.8888888888888888,
              "#fdca26"
             ],
             [
              1,
              "#f0f921"
             ]
            ],
            "type": "contour"
           }
          ],
          "contourcarpet": [
           {
            "colorbar": {
             "outlinewidth": 0,
             "ticks": ""
            },
            "type": "contourcarpet"
           }
          ],
          "heatmap": [
           {
            "colorbar": {
             "outlinewidth": 0,
             "ticks": ""
            },
            "colorscale": [
             [
              0,
              "#0d0887"
             ],
             [
              0.1111111111111111,
              "#46039f"
             ],
             [
              0.2222222222222222,
              "#7201a8"
             ],
             [
              0.3333333333333333,
              "#9c179e"
             ],
             [
              0.4444444444444444,
              "#bd3786"
             ],
             [
              0.5555555555555556,
              "#d8576b"
             ],
             [
              0.6666666666666666,
              "#ed7953"
             ],
             [
              0.7777777777777778,
              "#fb9f3a"
             ],
             [
              0.8888888888888888,
              "#fdca26"
             ],
             [
              1,
              "#f0f921"
             ]
            ],
            "type": "heatmap"
           }
          ],
          "heatmapgl": [
           {
            "colorbar": {
             "outlinewidth": 0,
             "ticks": ""
            },
            "colorscale": [
             [
              0,
              "#0d0887"
             ],
             [
              0.1111111111111111,
              "#46039f"
             ],
             [
              0.2222222222222222,
              "#7201a8"
             ],
             [
              0.3333333333333333,
              "#9c179e"
             ],
             [
              0.4444444444444444,
              "#bd3786"
             ],
             [
              0.5555555555555556,
              "#d8576b"
             ],
             [
              0.6666666666666666,
              "#ed7953"
             ],
             [
              0.7777777777777778,
              "#fb9f3a"
             ],
             [
              0.8888888888888888,
              "#fdca26"
             ],
             [
              1,
              "#f0f921"
             ]
            ],
            "type": "heatmapgl"
           }
          ],
          "histogram": [
           {
            "marker": {
             "colorbar": {
              "outlinewidth": 0,
              "ticks": ""
             }
            },
            "type": "histogram"
           }
          ],
          "histogram2d": [
           {
            "colorbar": {
             "outlinewidth": 0,
             "ticks": ""
            },
            "colorscale": [
             [
              0,
              "#0d0887"
             ],
             [
              0.1111111111111111,
              "#46039f"
             ],
             [
              0.2222222222222222,
              "#7201a8"
             ],
             [
              0.3333333333333333,
              "#9c179e"
             ],
             [
              0.4444444444444444,
              "#bd3786"
             ],
             [
              0.5555555555555556,
              "#d8576b"
             ],
             [
              0.6666666666666666,
              "#ed7953"
             ],
             [
              0.7777777777777778,
              "#fb9f3a"
             ],
             [
              0.8888888888888888,
              "#fdca26"
             ],
             [
              1,
              "#f0f921"
             ]
            ],
            "type": "histogram2d"
           }
          ],
          "histogram2dcontour": [
           {
            "colorbar": {
             "outlinewidth": 0,
             "ticks": ""
            },
            "colorscale": [
             [
              0,
              "#0d0887"
             ],
             [
              0.1111111111111111,
              "#46039f"
             ],
             [
              0.2222222222222222,
              "#7201a8"
             ],
             [
              0.3333333333333333,
              "#9c179e"
             ],
             [
              0.4444444444444444,
              "#bd3786"
             ],
             [
              0.5555555555555556,
              "#d8576b"
             ],
             [
              0.6666666666666666,
              "#ed7953"
             ],
             [
              0.7777777777777778,
              "#fb9f3a"
             ],
             [
              0.8888888888888888,
              "#fdca26"
             ],
             [
              1,
              "#f0f921"
             ]
            ],
            "type": "histogram2dcontour"
           }
          ],
          "mesh3d": [
           {
            "colorbar": {
             "outlinewidth": 0,
             "ticks": ""
            },
            "type": "mesh3d"
           }
          ],
          "parcoords": [
           {
            "line": {
             "colorbar": {
              "outlinewidth": 0,
              "ticks": ""
             }
            },
            "type": "parcoords"
           }
          ],
          "pie": [
           {
            "automargin": true,
            "type": "pie"
           }
          ],
          "scatter": [
           {
            "marker": {
             "colorbar": {
              "outlinewidth": 0,
              "ticks": ""
             }
            },
            "type": "scatter"
           }
          ],
          "scatter3d": [
           {
            "line": {
             "colorbar": {
              "outlinewidth": 0,
              "ticks": ""
             }
            },
            "marker": {
             "colorbar": {
              "outlinewidth": 0,
              "ticks": ""
             }
            },
            "type": "scatter3d"
           }
          ],
          "scattercarpet": [
           {
            "marker": {
             "colorbar": {
              "outlinewidth": 0,
              "ticks": ""
             }
            },
            "type": "scattercarpet"
           }
          ],
          "scattergeo": [
           {
            "marker": {
             "colorbar": {
              "outlinewidth": 0,
              "ticks": ""
             }
            },
            "type": "scattergeo"
           }
          ],
          "scattergl": [
           {
            "marker": {
             "colorbar": {
              "outlinewidth": 0,
              "ticks": ""
             }
            },
            "type": "scattergl"
           }
          ],
          "scattermapbox": [
           {
            "marker": {
             "colorbar": {
              "outlinewidth": 0,
              "ticks": ""
             }
            },
            "type": "scattermapbox"
           }
          ],
          "scatterpolar": [
           {
            "marker": {
             "colorbar": {
              "outlinewidth": 0,
              "ticks": ""
             }
            },
            "type": "scatterpolar"
           }
          ],
          "scatterpolargl": [
           {
            "marker": {
             "colorbar": {
              "outlinewidth": 0,
              "ticks": ""
             }
            },
            "type": "scatterpolargl"
           }
          ],
          "scatterternary": [
           {
            "marker": {
             "colorbar": {
              "outlinewidth": 0,
              "ticks": ""
             }
            },
            "type": "scatterternary"
           }
          ],
          "surface": [
           {
            "colorbar": {
             "outlinewidth": 0,
             "ticks": ""
            },
            "colorscale": [
             [
              0,
              "#0d0887"
             ],
             [
              0.1111111111111111,
              "#46039f"
             ],
             [
              0.2222222222222222,
              "#7201a8"
             ],
             [
              0.3333333333333333,
              "#9c179e"
             ],
             [
              0.4444444444444444,
              "#bd3786"
             ],
             [
              0.5555555555555556,
              "#d8576b"
             ],
             [
              0.6666666666666666,
              "#ed7953"
             ],
             [
              0.7777777777777778,
              "#fb9f3a"
             ],
             [
              0.8888888888888888,
              "#fdca26"
             ],
             [
              1,
              "#f0f921"
             ]
            ],
            "type": "surface"
           }
          ],
          "table": [
           {
            "cells": {
             "fill": {
              "color": "#EBF0F8"
             },
             "line": {
              "color": "white"
             }
            },
            "header": {
             "fill": {
              "color": "#C8D4E3"
             },
             "line": {
              "color": "white"
             }
            },
            "type": "table"
           }
          ]
         },
         "layout": {
          "annotationdefaults": {
           "arrowcolor": "#2a3f5f",
           "arrowhead": 0,
           "arrowwidth": 1
          },
          "coloraxis": {
           "colorbar": {
            "outlinewidth": 0,
            "ticks": ""
           }
          },
          "colorscale": {
           "diverging": [
            [
             0,
             "#8e0152"
            ],
            [
             0.1,
             "#c51b7d"
            ],
            [
             0.2,
             "#de77ae"
            ],
            [
             0.3,
             "#f1b6da"
            ],
            [
             0.4,
             "#fde0ef"
            ],
            [
             0.5,
             "#f7f7f7"
            ],
            [
             0.6,
             "#e6f5d0"
            ],
            [
             0.7,
             "#b8e186"
            ],
            [
             0.8,
             "#7fbc41"
            ],
            [
             0.9,
             "#4d9221"
            ],
            [
             1,
             "#276419"
            ]
           ],
           "sequential": [
            [
             0,
             "#0d0887"
            ],
            [
             0.1111111111111111,
             "#46039f"
            ],
            [
             0.2222222222222222,
             "#7201a8"
            ],
            [
             0.3333333333333333,
             "#9c179e"
            ],
            [
             0.4444444444444444,
             "#bd3786"
            ],
            [
             0.5555555555555556,
             "#d8576b"
            ],
            [
             0.6666666666666666,
             "#ed7953"
            ],
            [
             0.7777777777777778,
             "#fb9f3a"
            ],
            [
             0.8888888888888888,
             "#fdca26"
            ],
            [
             1,
             "#f0f921"
            ]
           ],
           "sequentialminus": [
            [
             0,
             "#0d0887"
            ],
            [
             0.1111111111111111,
             "#46039f"
            ],
            [
             0.2222222222222222,
             "#7201a8"
            ],
            [
             0.3333333333333333,
             "#9c179e"
            ],
            [
             0.4444444444444444,
             "#bd3786"
            ],
            [
             0.5555555555555556,
             "#d8576b"
            ],
            [
             0.6666666666666666,
             "#ed7953"
            ],
            [
             0.7777777777777778,
             "#fb9f3a"
            ],
            [
             0.8888888888888888,
             "#fdca26"
            ],
            [
             1,
             "#f0f921"
            ]
           ]
          },
          "colorway": [
           "#636efa",
           "#EF553B",
           "#00cc96",
           "#ab63fa",
           "#FFA15A",
           "#19d3f3",
           "#FF6692",
           "#B6E880",
           "#FF97FF",
           "#FECB52"
          ],
          "font": {
           "color": "#2a3f5f"
          },
          "geo": {
           "bgcolor": "white",
           "lakecolor": "white",
           "landcolor": "#E5ECF6",
           "showlakes": true,
           "showland": true,
           "subunitcolor": "white"
          },
          "hoverlabel": {
           "align": "left"
          },
          "hovermode": "closest",
          "mapbox": {
           "style": "light"
          },
          "paper_bgcolor": "white",
          "plot_bgcolor": "#E5ECF6",
          "polar": {
           "angularaxis": {
            "gridcolor": "white",
            "linecolor": "white",
            "ticks": ""
           },
           "bgcolor": "#E5ECF6",
           "radialaxis": {
            "gridcolor": "white",
            "linecolor": "white",
            "ticks": ""
           }
          },
          "scene": {
           "xaxis": {
            "backgroundcolor": "#E5ECF6",
            "gridcolor": "white",
            "gridwidth": 2,
            "linecolor": "white",
            "showbackground": true,
            "ticks": "",
            "zerolinecolor": "white"
           },
           "yaxis": {
            "backgroundcolor": "#E5ECF6",
            "gridcolor": "white",
            "gridwidth": 2,
            "linecolor": "white",
            "showbackground": true,
            "ticks": "",
            "zerolinecolor": "white"
           },
           "zaxis": {
            "backgroundcolor": "#E5ECF6",
            "gridcolor": "white",
            "gridwidth": 2,
            "linecolor": "white",
            "showbackground": true,
            "ticks": "",
            "zerolinecolor": "white"
           }
          },
          "shapedefaults": {
           "line": {
            "color": "#2a3f5f"
           }
          },
          "ternary": {
           "aaxis": {
            "gridcolor": "white",
            "linecolor": "white",
            "ticks": ""
           },
           "baxis": {
            "gridcolor": "white",
            "linecolor": "white",
            "ticks": ""
           },
           "bgcolor": "#E5ECF6",
           "caxis": {
            "gridcolor": "white",
            "linecolor": "white",
            "ticks": ""
           }
          },
          "title": {
           "x": 0.05
          },
          "xaxis": {
           "automargin": true,
           "gridcolor": "white",
           "linecolor": "white",
           "ticks": "",
           "title": {
            "standoff": 15
           },
           "zerolinecolor": "white",
           "zerolinewidth": 2
          },
          "yaxis": {
           "automargin": true,
           "gridcolor": "white",
           "linecolor": "white",
           "ticks": "",
           "title": {
            "standoff": 15
           },
           "zerolinecolor": "white",
           "zerolinewidth": 2
          }
         }
        },
        "title": {
         "font": {
          "color": "#4D5663"
         }
        },
        "xaxis": {
         "gridcolor": "#E1E5ED",
         "showgrid": true,
         "tickfont": {
          "color": "#4D5663"
         },
         "title": {
          "font": {
           "color": "#4D5663"
          },
          "text": ""
         },
         "zerolinecolor": "#E1E5ED"
        },
        "xaxis2": {
         "anchor": "y2",
         "gridcolor": "#E1E5ED",
         "showgrid": true,
         "showticklabels": false,
         "tickfont": {
          "color": "#4D5663"
         },
         "title": {
          "font": {
           "color": "#4D5663"
          },
          "text": ""
         },
         "zerolinecolor": "#E1E5ED"
        },
        "yaxis": {
         "domain": [
          0.3,
          1
         ],
         "gridcolor": "#E1E5ED",
         "showgrid": true,
         "tickfont": {
          "color": "#4D5663"
         },
         "title": {
          "font": {
           "color": "#4D5663"
          },
          "text": ""
         },
         "zerolinecolor": "#E1E5ED"
        },
        "yaxis2": {
         "domain": [
          0,
          0.25
         ],
         "gridcolor": "#E1E5ED",
         "showgrid": true,
         "tickfont": {
          "color": "#4D5663"
         },
         "title": {
          "font": {
           "color": "#4D5663"
          },
          "text": "Spread"
         },
         "zerolinecolor": "#E1E5ED"
        }
       }
      },
      "text/html": [
       "<div>\n",
       "        \n",
       "        \n",
       "            <div id=\"51b198a7-b69f-4e09-92c6-4c2976e4454c\" class=\"plotly-graph-div\" style=\"height:525px; width:100%;\"></div>\n",
       "            <script type=\"text/javascript\">\n",
       "                require([\"plotly\"], function(Plotly) {\n",
       "                    window.PLOTLYENV=window.PLOTLYENV || {};\n",
       "                    window.PLOTLYENV.BASE_URL='https://plot.ly';\n",
       "                    \n",
       "                if (document.getElementById(\"51b198a7-b69f-4e09-92c6-4c2976e4454c\")) {\n",
       "                    Plotly.newPlot(\n",
       "                        '51b198a7-b69f-4e09-92c6-4c2976e4454c',\n",
       "                        [{\"line\": {\"color\": \"rgba(255, 153, 51, 1.0)\", \"dash\": \"solid\", \"shape\": \"linear\", \"width\": 1.3}, \"mode\": \"lines\", \"name\": \"A\", \"text\": \"\", \"type\": \"scatter\", \"x\": [0, 1, 2, 3, 4, 5, 6, 7, 8, 9, 10, 11, 12, 13, 14, 15, 16, 17, 18, 19, 20, 21, 22, 23, 24, 25, 26, 27, 28, 29, 30, 31, 32, 33, 34, 35, 36, 37, 38, 39, 40, 41, 42, 43, 44, 45, 46, 47, 48, 49, 50, 51, 52, 53, 54, 55, 56, 57, 58, 59, 60, 61, 62, 63, 64, 65, 66, 67, 68, 69, 70, 71, 72, 73, 74, 75, 76, 77, 78, 79, 80, 81, 82, 83, 84, 85, 86, 87, 88, 89, 90, 91, 92, 93, 94, 95, 96, 97, 98, 99], \"y\": [-0.28658062289161507, 2.8713810642415774, -0.8356058485756809, 0.015123707936464765, -0.36393332536263484, 2.341958955914593, 0.026375334658533516, -0.8912079656500846, 1.5259075076059636, -0.7251464655554153, -2.208567554152265, 0.8160362211716472, 0.1352305382758277, -0.07773618163611463, -1.6218256058133913, -1.4461184112948848, -0.9432178303375855, 0.11042142518952364, 0.22210119025882, 0.29314536564232757, -1.3667737782574663, 2.1170959584160776, -1.9885300360304687, 0.3009043264085271, 1.4900545862313435, 0.16707632821401622, 0.9089693366488185, -0.5309538275682677, -0.5645450618475066, 1.6180166982761703, 0.7121765540358281, -0.7133586311906459, 0.5262454614186426, -0.6978902815960228, 0.6315922215150983, 1.0230806194359456, 0.3552860393922047, -0.5659277005265211, -0.04418343728629043, 0.28347053779399023, 2.0322264650736446, -0.7523401320867622, -0.8403470210799748, 0.27784684716034863, 0.1822850299791254, -0.3697102441389198, -0.021692284748169602, -2.108941307116421, 0.31163343692776824, 2.283327532521014, -0.21171012089409746, -0.14660748153512856, 0.9344186636741401, -0.6106330572294365, -1.5392174683883328, -1.0058035991732786, 2.207169422150619, -1.9791714166370522, -0.7716556864796765, 0.42222551730076235, -0.790403471570592, 0.4827492291330723, 1.25811273044089, -0.4173142231933926, -1.683138705155208, -1.34399245571848, 0.4625126996712462, 1.2210567254188085, 0.07491053801766187, 1.6386682454467674, -0.5700560828390816, -1.200150895129222, -0.4816388445980546, -1.2599499551980429, 0.12748578860097046, -0.5886401471762375, 1.5612153234010075, 0.883110723570033, -0.6793443992951693, -1.7579488291595078, -0.6262305193938559, -0.597589289924199, 0.5975570794231981, -0.8338945349348488, 0.8538301101490644, -1.228745130925553, -0.07970988512138309, -1.5924974279353095, 0.9272268562201983, -0.14144485985252866, 0.6360884600335864, -0.6850117004071394, -0.3733130217574712, -1.6315284967377977, 0.7805667618604121, -0.5193183640984484, -0.7885902824548963, -0.23556747027558908, 1.1819720205400592, 0.5899214406180822]}, {\"line\": {\"color\": \"rgba(55, 128, 191, 1.0)\", \"dash\": \"solid\", \"shape\": \"linear\", \"width\": 1.3}, \"mode\": \"lines\", \"name\": \"B\", \"text\": \"\", \"type\": \"scatter\", \"x\": [0, 1, 2, 3, 4, 5, 6, 7, 8, 9, 10, 11, 12, 13, 14, 15, 16, 17, 18, 19, 20, 21, 22, 23, 24, 25, 26, 27, 28, 29, 30, 31, 32, 33, 34, 35, 36, 37, 38, 39, 40, 41, 42, 43, 44, 45, 46, 47, 48, 49, 50, 51, 52, 53, 54, 55, 56, 57, 58, 59, 60, 61, 62, 63, 64, 65, 66, 67, 68, 69, 70, 71, 72, 73, 74, 75, 76, 77, 78, 79, 80, 81, 82, 83, 84, 85, 86, 87, 88, 89, 90, 91, 92, 93, 94, 95, 96, 97, 98, 99], \"y\": [1.5740728987236858, -0.5204962324025592, 0.3784879080197764, 0.5665830926250587, 1.8307528761381824, 1.496398337103953, 0.319114278020899, 1.3241804073809924, -2.2199737044173027, 0.4069568095734938, 0.14826216989882013, -0.994303336633359, -0.36208520713052306, 1.7495268971863218, -0.4261065698300166, -1.7270517273707098, -2.357261283307402, 2.403928501039504, 0.6251246787404335, -0.004245790921073416, 1.6803335896006206, -0.7740097921221676, -0.17455728219713768, 0.5346934292088612, -0.16299832133350473, -1.6430005512614236, 0.1874046982263252, 0.3062098943756686, -1.075078115834331, -1.2214886703038546, -0.14724209756744944, 0.2429769271893512, -0.23269608358220994, 0.36352732895139045, 0.7934071373939708, -2.5011489951532644, -0.18797315258982397, 0.38603232777514507, 2.045463743570114, -0.26097071764894264, 0.550200525982311, -1.0767578575594094, 0.5983416714319514, -0.6321645924326897, -0.2766778496970904, 0.6695187229527138, 1.0353017178297368, 0.5761075611725717, 1.4718017958919445, -0.4896305364712738, 1.1538261951756705, 1.158823447440352, -0.8732216047844114, 1.520045712919522, 0.5910070115791487, -0.7236162689815163, -1.2718512751459379, 0.4412226470368304, 0.6634561156688739, -0.4577892833900473, 0.1318589819788368, -1.4368522046631298, -1.8395329503791198, -1.6492182544058702, -2.4797759739644487, 0.03894320353626314, -0.35092509075247313, 1.388297843133826, 0.11573851710811286, 0.3062732272678091, -0.46590267674086555, 0.5456442466695953, -0.5304629942227559, -0.4313314370468433, -0.08957726082416721, 1.1264734945274768, -0.9290255244862805, -1.7314167216950984, -0.30353773563327374, -0.4913771831551384, 1.1019884388012529, -1.1006777820996694, 0.02889859416952101, 0.7844200346560151, 0.4196265261180495, -0.6473364753369074, 0.42737665263402697, -1.5403520115571134, 0.425865498394857, -0.17886127476218783, -0.4685216389506663, -1.155388110493677, 0.46525913637554894, 0.9437691551712757, -0.744522351346594, -0.5107890860366717, -1.3104476513425958, -0.3659836777369112, -0.218182149822733, 0.5665569826426838]}, {\"connectgaps\": false, \"fill\": \"tozeroy\", \"line\": {\"color\": \"green\", \"dash\": \"solid\", \"shape\": \"linear\", \"width\": 0.5}, \"mode\": \"lines\", \"name\": \"Spread\", \"showlegend\": false, \"type\": \"scatter\", \"x\": [0, 1, 2, 3, 4, 5, 6, 7, 8, 9, 10, 11, 12, 13, 14, 15, 16, 17, 18, 19, 20, 21, 22, 23, 24, 25, 26, 27, 28, 29, 30, 31, 32, 33, 34, 35, 36, 37, 38, 39, 40, 41, 42, 43, 44, 45, 46, 47, 48, 49, 50, 51, 52, 53, 54, 55, 56, 57, 58, 59, 60, 61, 62, 63, 64, 65, 66, 67, 68, 69, 70, 71, 72, 73, 74, 75, 76, 77, 78, 79, 80, 81, 82, 83, 84, 85, 86, 87, 88, 89, 90, 91, 92, 93, 94, 95, 96, 97, 98, 99], \"xaxis\": \"x2\", \"y\": [\"\", 3.3918772966441364, \"\", \"\", \"\", 0.8455606188106397, \"\", \"\", 3.7458812120232663, \"\", \"\", 1.810339557805006, 0.49731574540635076, \"\", \"\", 0.28093331607582495, 1.4140434529698163, \"\", \"\", 0.297391156563401, \"\", 2.8911057505382454, \"\", \"\", 1.6530529075648481, 1.8100768794754398, 0.7215646384224933, \"\", 0.5105330539868244, 2.839505368580025, 0.8594186516032776, \"\", 0.7589415450008525, \"\", \"\", 3.52422961458921, 0.5432591919820287, \"\", \"\", 0.5444412554429329, 1.4820259390913337, 0.32441772547264724, \"\", 0.9100114395930383, 0.45896287967621585, \"\", \"\", \"\", \"\", 2.7729580689922875, \"\", \"\", 1.8076402684585515, \"\", \"\", \"\", 3.4790206972965567, \"\", \"\", 0.8800148006908097, \"\", 1.9196014337962022, 3.0976456808200097, 1.2319040312124776, 0.7966372688092407, \"\", 0.8134377904237193, \"\", \"\", 1.3323950181789583, \"\", \"\", 0.048824149624701274, \"\", 0.21706304942513766, \"\", 2.490240847887288, 2.6145274452651313, \"\", \"\", \"\", 0.5030884921754704, 0.5686584852536771, \"\", 0.4342035840310149, \"\", \"\", \"\", 0.5013613578253413, 0.03741641490965916, 1.1046100989842527, 0.4703764100865375, \"\", \"\", 1.525089113207006, \"\", 0.5218573688876995, 0.13041620746132213, 1.4001541703627922, 0.023364457975398323], \"yaxis\": \"y2\"}, {\"connectgaps\": false, \"fill\": \"tozeroy\", \"line\": {\"color\": \"red\", \"dash\": \"solid\", \"shape\": \"linear\", \"width\": 0.5}, \"mode\": \"lines\", \"name\": \"Spread\", \"showlegend\": false, \"type\": \"scatter\", \"x\": [0, 1, 2, 3, 4, 5, 6, 7, 8, 9, 10, 11, 12, 13, 14, 15, 16, 17, 18, 19, 20, 21, 22, 23, 24, 25, 26, 27, 28, 29, 30, 31, 32, 33, 34, 35, 36, 37, 38, 39, 40, 41, 42, 43, 44, 45, 46, 47, 48, 49, 50, 51, 52, 53, 54, 55, 56, 57, 58, 59, 60, 61, 62, 63, 64, 65, 66, 67, 68, 69, 70, 71, 72, 73, 74, 75, 76, 77, 78, 79, 80, 81, 82, 83, 84, 85, 86, 87, 88, 89, 90, 91, 92, 93, 94, 95, 96, 97, 98, 99], \"xaxis\": \"x2\", \"y\": [-1.8606535216153008, \"\", -1.2140937565954573, -0.5514593846885939, -2.1946862015008173, \"\", -0.29273894336236544, -2.215388373031077, \"\", -1.132103275128909, -2.356829724051085, \"\", \"\", -1.8272630788224364, -1.1957190359833747, \"\", \"\", -2.2935070758499805, -0.4030234884816135, \"\", -3.0471073678580867, \"\", -1.813972753833331, -0.2337891028003341, \"\", \"\", \"\", -0.8371637219439363, \"\", \"\", \"\", -0.9563355583799971, \"\", -1.0614176105474133, -0.16181491587887253, \"\", \"\", -0.9519600283016662, -2.0896471808564048, \"\", \"\", \"\", -1.4386886925119262, \"\", \"\", -1.0392289670916335, -1.0569940025779063, -2.685048868288993, -1.1601683589641762, \"\", -1.365536316069768, -1.3054309289754806, \"\", -2.1306787701489585, -2.1302244799674814, -0.28218733019176223, \"\", -2.4203940636738825, -1.4351118021485503, \"\", -0.9222624535494288, \"\", \"\", \"\", \"\", -1.382935659254743, \"\", -0.16724111771501748, -0.040827979090450994, \"\", -0.10415340609821605, -1.7457951417988173, \"\", -0.8286185181511996, \"\", -1.7151136417037143, \"\", \"\", -0.3758066636618956, -1.2665716460043694, -1.7282189581951086, \"\", \"\", -1.6183145695908638, \"\", -0.5814086555886456, -0.50708653775541, -0.05214541637819603, \"\", \"\", \"\", \"\", -0.8385721581330201, -2.5752976519090733, \"\", -0.008529278061776724, \"\", \"\", \"\", \"\"], \"yaxis\": \"y2\"}],\n",
       "                        {\"hovermode\": \"x\", \"legend\": {\"bgcolor\": \"#F5F6F9\", \"font\": {\"color\": \"#4D5663\"}}, \"paper_bgcolor\": \"#F5F6F9\", \"plot_bgcolor\": \"#F5F6F9\", \"template\": {\"data\": {\"bar\": [{\"error_x\": {\"color\": \"#2a3f5f\"}, \"error_y\": {\"color\": \"#2a3f5f\"}, \"marker\": {\"line\": {\"color\": \"#E5ECF6\", \"width\": 0.5}}, \"type\": \"bar\"}], \"barpolar\": [{\"marker\": {\"line\": {\"color\": \"#E5ECF6\", \"width\": 0.5}}, \"type\": \"barpolar\"}], \"carpet\": [{\"aaxis\": {\"endlinecolor\": \"#2a3f5f\", \"gridcolor\": \"white\", \"linecolor\": \"white\", \"minorgridcolor\": \"white\", \"startlinecolor\": \"#2a3f5f\"}, \"baxis\": {\"endlinecolor\": \"#2a3f5f\", \"gridcolor\": \"white\", \"linecolor\": \"white\", \"minorgridcolor\": \"white\", \"startlinecolor\": \"#2a3f5f\"}, \"type\": \"carpet\"}], \"choropleth\": [{\"colorbar\": {\"outlinewidth\": 0, \"ticks\": \"\"}, \"type\": \"choropleth\"}], \"contour\": [{\"colorbar\": {\"outlinewidth\": 0, \"ticks\": \"\"}, \"colorscale\": [[0.0, \"#0d0887\"], [0.1111111111111111, \"#46039f\"], [0.2222222222222222, \"#7201a8\"], [0.3333333333333333, \"#9c179e\"], [0.4444444444444444, \"#bd3786\"], [0.5555555555555556, \"#d8576b\"], [0.6666666666666666, \"#ed7953\"], [0.7777777777777778, \"#fb9f3a\"], [0.8888888888888888, \"#fdca26\"], [1.0, \"#f0f921\"]], \"type\": \"contour\"}], \"contourcarpet\": [{\"colorbar\": {\"outlinewidth\": 0, \"ticks\": \"\"}, \"type\": \"contourcarpet\"}], \"heatmap\": [{\"colorbar\": {\"outlinewidth\": 0, \"ticks\": \"\"}, \"colorscale\": [[0.0, \"#0d0887\"], [0.1111111111111111, \"#46039f\"], [0.2222222222222222, \"#7201a8\"], [0.3333333333333333, \"#9c179e\"], [0.4444444444444444, \"#bd3786\"], [0.5555555555555556, \"#d8576b\"], [0.6666666666666666, \"#ed7953\"], [0.7777777777777778, \"#fb9f3a\"], [0.8888888888888888, \"#fdca26\"], [1.0, \"#f0f921\"]], \"type\": \"heatmap\"}], \"heatmapgl\": [{\"colorbar\": {\"outlinewidth\": 0, \"ticks\": \"\"}, \"colorscale\": [[0.0, \"#0d0887\"], [0.1111111111111111, \"#46039f\"], [0.2222222222222222, \"#7201a8\"], [0.3333333333333333, \"#9c179e\"], [0.4444444444444444, \"#bd3786\"], [0.5555555555555556, \"#d8576b\"], [0.6666666666666666, \"#ed7953\"], [0.7777777777777778, \"#fb9f3a\"], [0.8888888888888888, \"#fdca26\"], [1.0, \"#f0f921\"]], \"type\": \"heatmapgl\"}], \"histogram\": [{\"marker\": {\"colorbar\": {\"outlinewidth\": 0, \"ticks\": \"\"}}, \"type\": \"histogram\"}], \"histogram2d\": [{\"colorbar\": {\"outlinewidth\": 0, \"ticks\": \"\"}, \"colorscale\": [[0.0, \"#0d0887\"], [0.1111111111111111, \"#46039f\"], [0.2222222222222222, \"#7201a8\"], [0.3333333333333333, \"#9c179e\"], [0.4444444444444444, \"#bd3786\"], [0.5555555555555556, \"#d8576b\"], [0.6666666666666666, \"#ed7953\"], [0.7777777777777778, \"#fb9f3a\"], [0.8888888888888888, \"#fdca26\"], [1.0, \"#f0f921\"]], \"type\": \"histogram2d\"}], \"histogram2dcontour\": [{\"colorbar\": {\"outlinewidth\": 0, \"ticks\": \"\"}, \"colorscale\": [[0.0, \"#0d0887\"], [0.1111111111111111, \"#46039f\"], [0.2222222222222222, \"#7201a8\"], [0.3333333333333333, \"#9c179e\"], [0.4444444444444444, \"#bd3786\"], [0.5555555555555556, \"#d8576b\"], [0.6666666666666666, \"#ed7953\"], [0.7777777777777778, \"#fb9f3a\"], [0.8888888888888888, \"#fdca26\"], [1.0, \"#f0f921\"]], \"type\": \"histogram2dcontour\"}], \"mesh3d\": [{\"colorbar\": {\"outlinewidth\": 0, \"ticks\": \"\"}, \"type\": \"mesh3d\"}], \"parcoords\": [{\"line\": {\"colorbar\": {\"outlinewidth\": 0, \"ticks\": \"\"}}, \"type\": \"parcoords\"}], \"pie\": [{\"automargin\": true, \"type\": \"pie\"}], \"scatter\": [{\"marker\": {\"colorbar\": {\"outlinewidth\": 0, \"ticks\": \"\"}}, \"type\": \"scatter\"}], \"scatter3d\": [{\"line\": {\"colorbar\": {\"outlinewidth\": 0, \"ticks\": \"\"}}, \"marker\": {\"colorbar\": {\"outlinewidth\": 0, \"ticks\": \"\"}}, \"type\": \"scatter3d\"}], \"scattercarpet\": [{\"marker\": {\"colorbar\": {\"outlinewidth\": 0, \"ticks\": \"\"}}, \"type\": \"scattercarpet\"}], \"scattergeo\": [{\"marker\": {\"colorbar\": {\"outlinewidth\": 0, \"ticks\": \"\"}}, \"type\": \"scattergeo\"}], \"scattergl\": [{\"marker\": {\"colorbar\": {\"outlinewidth\": 0, \"ticks\": \"\"}}, \"type\": \"scattergl\"}], \"scattermapbox\": [{\"marker\": {\"colorbar\": {\"outlinewidth\": 0, \"ticks\": \"\"}}, \"type\": \"scattermapbox\"}], \"scatterpolar\": [{\"marker\": {\"colorbar\": {\"outlinewidth\": 0, \"ticks\": \"\"}}, \"type\": \"scatterpolar\"}], \"scatterpolargl\": [{\"marker\": {\"colorbar\": {\"outlinewidth\": 0, \"ticks\": \"\"}}, \"type\": \"scatterpolargl\"}], \"scatterternary\": [{\"marker\": {\"colorbar\": {\"outlinewidth\": 0, \"ticks\": \"\"}}, \"type\": \"scatterternary\"}], \"surface\": [{\"colorbar\": {\"outlinewidth\": 0, \"ticks\": \"\"}, \"colorscale\": [[0.0, \"#0d0887\"], [0.1111111111111111, \"#46039f\"], [0.2222222222222222, \"#7201a8\"], [0.3333333333333333, \"#9c179e\"], [0.4444444444444444, \"#bd3786\"], [0.5555555555555556, \"#d8576b\"], [0.6666666666666666, \"#ed7953\"], [0.7777777777777778, \"#fb9f3a\"], [0.8888888888888888, \"#fdca26\"], [1.0, \"#f0f921\"]], \"type\": \"surface\"}], \"table\": [{\"cells\": {\"fill\": {\"color\": \"#EBF0F8\"}, \"line\": {\"color\": \"white\"}}, \"header\": {\"fill\": {\"color\": \"#C8D4E3\"}, \"line\": {\"color\": \"white\"}}, \"type\": \"table\"}]}, \"layout\": {\"annotationdefaults\": {\"arrowcolor\": \"#2a3f5f\", \"arrowhead\": 0, \"arrowwidth\": 1}, \"coloraxis\": {\"colorbar\": {\"outlinewidth\": 0, \"ticks\": \"\"}}, \"colorscale\": {\"diverging\": [[0, \"#8e0152\"], [0.1, \"#c51b7d\"], [0.2, \"#de77ae\"], [0.3, \"#f1b6da\"], [0.4, \"#fde0ef\"], [0.5, \"#f7f7f7\"], [0.6, \"#e6f5d0\"], [0.7, \"#b8e186\"], [0.8, \"#7fbc41\"], [0.9, \"#4d9221\"], [1, \"#276419\"]], \"sequential\": [[0.0, \"#0d0887\"], [0.1111111111111111, \"#46039f\"], [0.2222222222222222, \"#7201a8\"], [0.3333333333333333, \"#9c179e\"], [0.4444444444444444, \"#bd3786\"], [0.5555555555555556, \"#d8576b\"], [0.6666666666666666, \"#ed7953\"], [0.7777777777777778, \"#fb9f3a\"], [0.8888888888888888, \"#fdca26\"], [1.0, \"#f0f921\"]], \"sequentialminus\": [[0.0, \"#0d0887\"], [0.1111111111111111, \"#46039f\"], [0.2222222222222222, \"#7201a8\"], [0.3333333333333333, \"#9c179e\"], [0.4444444444444444, \"#bd3786\"], [0.5555555555555556, \"#d8576b\"], [0.6666666666666666, \"#ed7953\"], [0.7777777777777778, \"#fb9f3a\"], [0.8888888888888888, \"#fdca26\"], [1.0, \"#f0f921\"]]}, \"colorway\": [\"#636efa\", \"#EF553B\", \"#00cc96\", \"#ab63fa\", \"#FFA15A\", \"#19d3f3\", \"#FF6692\", \"#B6E880\", \"#FF97FF\", \"#FECB52\"], \"font\": {\"color\": \"#2a3f5f\"}, \"geo\": {\"bgcolor\": \"white\", \"lakecolor\": \"white\", \"landcolor\": \"#E5ECF6\", \"showlakes\": true, \"showland\": true, \"subunitcolor\": \"white\"}, \"hoverlabel\": {\"align\": \"left\"}, \"hovermode\": \"closest\", \"mapbox\": {\"style\": \"light\"}, \"paper_bgcolor\": \"white\", \"plot_bgcolor\": \"#E5ECF6\", \"polar\": {\"angularaxis\": {\"gridcolor\": \"white\", \"linecolor\": \"white\", \"ticks\": \"\"}, \"bgcolor\": \"#E5ECF6\", \"radialaxis\": {\"gridcolor\": \"white\", \"linecolor\": \"white\", \"ticks\": \"\"}}, \"scene\": {\"xaxis\": {\"backgroundcolor\": \"#E5ECF6\", \"gridcolor\": \"white\", \"gridwidth\": 2, \"linecolor\": \"white\", \"showbackground\": true, \"ticks\": \"\", \"zerolinecolor\": \"white\"}, \"yaxis\": {\"backgroundcolor\": \"#E5ECF6\", \"gridcolor\": \"white\", \"gridwidth\": 2, \"linecolor\": \"white\", \"showbackground\": true, \"ticks\": \"\", \"zerolinecolor\": \"white\"}, \"zaxis\": {\"backgroundcolor\": \"#E5ECF6\", \"gridcolor\": \"white\", \"gridwidth\": 2, \"linecolor\": \"white\", \"showbackground\": true, \"ticks\": \"\", \"zerolinecolor\": \"white\"}}, \"shapedefaults\": {\"line\": {\"color\": \"#2a3f5f\"}}, \"ternary\": {\"aaxis\": {\"gridcolor\": \"white\", \"linecolor\": \"white\", \"ticks\": \"\"}, \"baxis\": {\"gridcolor\": \"white\", \"linecolor\": \"white\", \"ticks\": \"\"}, \"bgcolor\": \"#E5ECF6\", \"caxis\": {\"gridcolor\": \"white\", \"linecolor\": \"white\", \"ticks\": \"\"}}, \"title\": {\"x\": 0.05}, \"xaxis\": {\"automargin\": true, \"gridcolor\": \"white\", \"linecolor\": \"white\", \"ticks\": \"\", \"title\": {\"standoff\": 15}, \"zerolinecolor\": \"white\", \"zerolinewidth\": 2}, \"yaxis\": {\"automargin\": true, \"gridcolor\": \"white\", \"linecolor\": \"white\", \"ticks\": \"\", \"title\": {\"standoff\": 15}, \"zerolinecolor\": \"white\", \"zerolinewidth\": 2}}}, \"title\": {\"font\": {\"color\": \"#4D5663\"}}, \"xaxis\": {\"gridcolor\": \"#E1E5ED\", \"showgrid\": true, \"tickfont\": {\"color\": \"#4D5663\"}, \"title\": {\"font\": {\"color\": \"#4D5663\"}, \"text\": \"\"}, \"zerolinecolor\": \"#E1E5ED\"}, \"xaxis2\": {\"anchor\": \"y2\", \"gridcolor\": \"#E1E5ED\", \"showgrid\": true, \"showticklabels\": false, \"tickfont\": {\"color\": \"#4D5663\"}, \"title\": {\"font\": {\"color\": \"#4D5663\"}, \"text\": \"\"}, \"zerolinecolor\": \"#E1E5ED\"}, \"yaxis\": {\"domain\": [0.3, 1], \"gridcolor\": \"#E1E5ED\", \"showgrid\": true, \"tickfont\": {\"color\": \"#4D5663\"}, \"title\": {\"font\": {\"color\": \"#4D5663\"}, \"text\": \"\"}, \"zerolinecolor\": \"#E1E5ED\"}, \"yaxis2\": {\"domain\": [0, 0.25], \"gridcolor\": \"#E1E5ED\", \"showgrid\": true, \"tickfont\": {\"color\": \"#4D5663\"}, \"title\": {\"font\": {\"color\": \"#4D5663\"}, \"text\": \"Spread\"}, \"zerolinecolor\": \"#E1E5ED\"}},\n",
       "                        {\"showLink\": true, \"linkText\": \"Export to plot.ly\", \"plotlyServerURL\": \"https://plot.ly\", \"responsive\": true}\n",
       "                    ).then(function(){\n",
       "                            \n",
       "var gd = document.getElementById('51b198a7-b69f-4e09-92c6-4c2976e4454c');\n",
       "var x = new MutationObserver(function (mutations, observer) {{\n",
       "        var display = window.getComputedStyle(gd).display;\n",
       "        if (!display || display === 'none') {{\n",
       "            console.log([gd, 'removed!']);\n",
       "            Plotly.purge(gd);\n",
       "            observer.disconnect();\n",
       "        }}\n",
       "}});\n",
       "\n",
       "// Listen for the removal of the full notebook cells\n",
       "var notebookContainer = gd.closest('#notebook-container');\n",
       "if (notebookContainer) {{\n",
       "    x.observe(notebookContainer, {childList: true});\n",
       "}}\n",
       "\n",
       "// Listen for the clearing of the current output cell\n",
       "var outputEl = gd.closest('.output');\n",
       "if (outputEl) {{\n",
       "    x.observe(outputEl, {childList: true});\n",
       "}}\n",
       "\n",
       "                        })\n",
       "                };\n",
       "                });\n",
       "            </script>\n",
       "        </div>"
      ]
     },
     "metadata": {},
     "output_type": "display_data"
    }
   ],
   "source": [
    "df[['A','B']].iplot(kind='spread')"
   ]
  },
  {
   "cell_type": "markdown",
   "metadata": {},
   "source": [
    "## histogram"
   ]
  },
  {
   "cell_type": "code",
   "execution_count": 16,
   "metadata": {},
   "outputs": [
    {
     "data": {
      "application/vnd.plotly.v1+json": {
       "config": {
        "linkText": "Export to plot.ly",
        "plotlyServerURL": "https://plot.ly",
        "showLink": true
       },
       "data": [
        {
         "histfunc": "count",
         "histnorm": "",
         "marker": {
          "color": "rgba(255, 153, 51, 1.0)",
          "line": {
           "color": "#4D5663",
           "width": 1.3
          }
         },
         "name": "A",
         "nbinsx": 25,
         "opacity": 0.8,
         "orientation": "v",
         "type": "histogram",
         "x": [
          -0.28658062289161507,
          2.8713810642415774,
          -0.8356058485756809,
          0.015123707936464765,
          -0.36393332536263484,
          2.341958955914593,
          0.026375334658533516,
          -0.8912079656500846,
          1.5259075076059636,
          -0.7251464655554153,
          -2.208567554152265,
          0.8160362211716472,
          0.1352305382758277,
          -0.07773618163611463,
          -1.6218256058133913,
          -1.4461184112948848,
          -0.9432178303375855,
          0.11042142518952364,
          0.22210119025882,
          0.29314536564232757,
          -1.3667737782574663,
          2.1170959584160776,
          -1.9885300360304687,
          0.3009043264085271,
          1.4900545862313435,
          0.16707632821401622,
          0.9089693366488185,
          -0.5309538275682677,
          -0.5645450618475066,
          1.6180166982761703,
          0.7121765540358281,
          -0.7133586311906459,
          0.5262454614186426,
          -0.6978902815960228,
          0.6315922215150983,
          1.0230806194359456,
          0.3552860393922047,
          -0.5659277005265211,
          -0.04418343728629043,
          0.28347053779399023,
          2.0322264650736446,
          -0.7523401320867622,
          -0.8403470210799748,
          0.27784684716034863,
          0.1822850299791254,
          -0.3697102441389198,
          -0.021692284748169602,
          -2.108941307116421,
          0.31163343692776824,
          2.283327532521014,
          -0.21171012089409746,
          -0.14660748153512856,
          0.9344186636741401,
          -0.6106330572294365,
          -1.5392174683883328,
          -1.0058035991732786,
          2.207169422150619,
          -1.9791714166370522,
          -0.7716556864796765,
          0.42222551730076235,
          -0.790403471570592,
          0.4827492291330723,
          1.25811273044089,
          -0.4173142231933926,
          -1.683138705155208,
          -1.34399245571848,
          0.4625126996712462,
          1.2210567254188085,
          0.07491053801766187,
          1.6386682454467674,
          -0.5700560828390816,
          -1.200150895129222,
          -0.4816388445980546,
          -1.2599499551980429,
          0.12748578860097046,
          -0.5886401471762375,
          1.5612153234010075,
          0.883110723570033,
          -0.6793443992951693,
          -1.7579488291595078,
          -0.6262305193938559,
          -0.597589289924199,
          0.5975570794231981,
          -0.8338945349348488,
          0.8538301101490644,
          -1.228745130925553,
          -0.07970988512138309,
          -1.5924974279353095,
          0.9272268562201983,
          -0.14144485985252866,
          0.6360884600335864,
          -0.6850117004071394,
          -0.3733130217574712,
          -1.6315284967377977,
          0.7805667618604121,
          -0.5193183640984484,
          -0.7885902824548963,
          -0.23556747027558908,
          1.1819720205400592,
          0.5899214406180822
         ]
        }
       ],
       "layout": {
        "barmode": "overlay",
        "legend": {
         "bgcolor": "#F5F6F9",
         "font": {
          "color": "#4D5663"
         }
        },
        "paper_bgcolor": "#F5F6F9",
        "plot_bgcolor": "#F5F6F9",
        "template": {
         "data": {
          "bar": [
           {
            "error_x": {
             "color": "#2a3f5f"
            },
            "error_y": {
             "color": "#2a3f5f"
            },
            "marker": {
             "line": {
              "color": "#E5ECF6",
              "width": 0.5
             }
            },
            "type": "bar"
           }
          ],
          "barpolar": [
           {
            "marker": {
             "line": {
              "color": "#E5ECF6",
              "width": 0.5
             }
            },
            "type": "barpolar"
           }
          ],
          "carpet": [
           {
            "aaxis": {
             "endlinecolor": "#2a3f5f",
             "gridcolor": "white",
             "linecolor": "white",
             "minorgridcolor": "white",
             "startlinecolor": "#2a3f5f"
            },
            "baxis": {
             "endlinecolor": "#2a3f5f",
             "gridcolor": "white",
             "linecolor": "white",
             "minorgridcolor": "white",
             "startlinecolor": "#2a3f5f"
            },
            "type": "carpet"
           }
          ],
          "choropleth": [
           {
            "colorbar": {
             "outlinewidth": 0,
             "ticks": ""
            },
            "type": "choropleth"
           }
          ],
          "contour": [
           {
            "colorbar": {
             "outlinewidth": 0,
             "ticks": ""
            },
            "colorscale": [
             [
              0,
              "#0d0887"
             ],
             [
              0.1111111111111111,
              "#46039f"
             ],
             [
              0.2222222222222222,
              "#7201a8"
             ],
             [
              0.3333333333333333,
              "#9c179e"
             ],
             [
              0.4444444444444444,
              "#bd3786"
             ],
             [
              0.5555555555555556,
              "#d8576b"
             ],
             [
              0.6666666666666666,
              "#ed7953"
             ],
             [
              0.7777777777777778,
              "#fb9f3a"
             ],
             [
              0.8888888888888888,
              "#fdca26"
             ],
             [
              1,
              "#f0f921"
             ]
            ],
            "type": "contour"
           }
          ],
          "contourcarpet": [
           {
            "colorbar": {
             "outlinewidth": 0,
             "ticks": ""
            },
            "type": "contourcarpet"
           }
          ],
          "heatmap": [
           {
            "colorbar": {
             "outlinewidth": 0,
             "ticks": ""
            },
            "colorscale": [
             [
              0,
              "#0d0887"
             ],
             [
              0.1111111111111111,
              "#46039f"
             ],
             [
              0.2222222222222222,
              "#7201a8"
             ],
             [
              0.3333333333333333,
              "#9c179e"
             ],
             [
              0.4444444444444444,
              "#bd3786"
             ],
             [
              0.5555555555555556,
              "#d8576b"
             ],
             [
              0.6666666666666666,
              "#ed7953"
             ],
             [
              0.7777777777777778,
              "#fb9f3a"
             ],
             [
              0.8888888888888888,
              "#fdca26"
             ],
             [
              1,
              "#f0f921"
             ]
            ],
            "type": "heatmap"
           }
          ],
          "heatmapgl": [
           {
            "colorbar": {
             "outlinewidth": 0,
             "ticks": ""
            },
            "colorscale": [
             [
              0,
              "#0d0887"
             ],
             [
              0.1111111111111111,
              "#46039f"
             ],
             [
              0.2222222222222222,
              "#7201a8"
             ],
             [
              0.3333333333333333,
              "#9c179e"
             ],
             [
              0.4444444444444444,
              "#bd3786"
             ],
             [
              0.5555555555555556,
              "#d8576b"
             ],
             [
              0.6666666666666666,
              "#ed7953"
             ],
             [
              0.7777777777777778,
              "#fb9f3a"
             ],
             [
              0.8888888888888888,
              "#fdca26"
             ],
             [
              1,
              "#f0f921"
             ]
            ],
            "type": "heatmapgl"
           }
          ],
          "histogram": [
           {
            "marker": {
             "colorbar": {
              "outlinewidth": 0,
              "ticks": ""
             }
            },
            "type": "histogram"
           }
          ],
          "histogram2d": [
           {
            "colorbar": {
             "outlinewidth": 0,
             "ticks": ""
            },
            "colorscale": [
             [
              0,
              "#0d0887"
             ],
             [
              0.1111111111111111,
              "#46039f"
             ],
             [
              0.2222222222222222,
              "#7201a8"
             ],
             [
              0.3333333333333333,
              "#9c179e"
             ],
             [
              0.4444444444444444,
              "#bd3786"
             ],
             [
              0.5555555555555556,
              "#d8576b"
             ],
             [
              0.6666666666666666,
              "#ed7953"
             ],
             [
              0.7777777777777778,
              "#fb9f3a"
             ],
             [
              0.8888888888888888,
              "#fdca26"
             ],
             [
              1,
              "#f0f921"
             ]
            ],
            "type": "histogram2d"
           }
          ],
          "histogram2dcontour": [
           {
            "colorbar": {
             "outlinewidth": 0,
             "ticks": ""
            },
            "colorscale": [
             [
              0,
              "#0d0887"
             ],
             [
              0.1111111111111111,
              "#46039f"
             ],
             [
              0.2222222222222222,
              "#7201a8"
             ],
             [
              0.3333333333333333,
              "#9c179e"
             ],
             [
              0.4444444444444444,
              "#bd3786"
             ],
             [
              0.5555555555555556,
              "#d8576b"
             ],
             [
              0.6666666666666666,
              "#ed7953"
             ],
             [
              0.7777777777777778,
              "#fb9f3a"
             ],
             [
              0.8888888888888888,
              "#fdca26"
             ],
             [
              1,
              "#f0f921"
             ]
            ],
            "type": "histogram2dcontour"
           }
          ],
          "mesh3d": [
           {
            "colorbar": {
             "outlinewidth": 0,
             "ticks": ""
            },
            "type": "mesh3d"
           }
          ],
          "parcoords": [
           {
            "line": {
             "colorbar": {
              "outlinewidth": 0,
              "ticks": ""
             }
            },
            "type": "parcoords"
           }
          ],
          "pie": [
           {
            "automargin": true,
            "type": "pie"
           }
          ],
          "scatter": [
           {
            "marker": {
             "colorbar": {
              "outlinewidth": 0,
              "ticks": ""
             }
            },
            "type": "scatter"
           }
          ],
          "scatter3d": [
           {
            "line": {
             "colorbar": {
              "outlinewidth": 0,
              "ticks": ""
             }
            },
            "marker": {
             "colorbar": {
              "outlinewidth": 0,
              "ticks": ""
             }
            },
            "type": "scatter3d"
           }
          ],
          "scattercarpet": [
           {
            "marker": {
             "colorbar": {
              "outlinewidth": 0,
              "ticks": ""
             }
            },
            "type": "scattercarpet"
           }
          ],
          "scattergeo": [
           {
            "marker": {
             "colorbar": {
              "outlinewidth": 0,
              "ticks": ""
             }
            },
            "type": "scattergeo"
           }
          ],
          "scattergl": [
           {
            "marker": {
             "colorbar": {
              "outlinewidth": 0,
              "ticks": ""
             }
            },
            "type": "scattergl"
           }
          ],
          "scattermapbox": [
           {
            "marker": {
             "colorbar": {
              "outlinewidth": 0,
              "ticks": ""
             }
            },
            "type": "scattermapbox"
           }
          ],
          "scatterpolar": [
           {
            "marker": {
             "colorbar": {
              "outlinewidth": 0,
              "ticks": ""
             }
            },
            "type": "scatterpolar"
           }
          ],
          "scatterpolargl": [
           {
            "marker": {
             "colorbar": {
              "outlinewidth": 0,
              "ticks": ""
             }
            },
            "type": "scatterpolargl"
           }
          ],
          "scatterternary": [
           {
            "marker": {
             "colorbar": {
              "outlinewidth": 0,
              "ticks": ""
             }
            },
            "type": "scatterternary"
           }
          ],
          "surface": [
           {
            "colorbar": {
             "outlinewidth": 0,
             "ticks": ""
            },
            "colorscale": [
             [
              0,
              "#0d0887"
             ],
             [
              0.1111111111111111,
              "#46039f"
             ],
             [
              0.2222222222222222,
              "#7201a8"
             ],
             [
              0.3333333333333333,
              "#9c179e"
             ],
             [
              0.4444444444444444,
              "#bd3786"
             ],
             [
              0.5555555555555556,
              "#d8576b"
             ],
             [
              0.6666666666666666,
              "#ed7953"
             ],
             [
              0.7777777777777778,
              "#fb9f3a"
             ],
             [
              0.8888888888888888,
              "#fdca26"
             ],
             [
              1,
              "#f0f921"
             ]
            ],
            "type": "surface"
           }
          ],
          "table": [
           {
            "cells": {
             "fill": {
              "color": "#EBF0F8"
             },
             "line": {
              "color": "white"
             }
            },
            "header": {
             "fill": {
              "color": "#C8D4E3"
             },
             "line": {
              "color": "white"
             }
            },
            "type": "table"
           }
          ]
         },
         "layout": {
          "annotationdefaults": {
           "arrowcolor": "#2a3f5f",
           "arrowhead": 0,
           "arrowwidth": 1
          },
          "coloraxis": {
           "colorbar": {
            "outlinewidth": 0,
            "ticks": ""
           }
          },
          "colorscale": {
           "diverging": [
            [
             0,
             "#8e0152"
            ],
            [
             0.1,
             "#c51b7d"
            ],
            [
             0.2,
             "#de77ae"
            ],
            [
             0.3,
             "#f1b6da"
            ],
            [
             0.4,
             "#fde0ef"
            ],
            [
             0.5,
             "#f7f7f7"
            ],
            [
             0.6,
             "#e6f5d0"
            ],
            [
             0.7,
             "#b8e186"
            ],
            [
             0.8,
             "#7fbc41"
            ],
            [
             0.9,
             "#4d9221"
            ],
            [
             1,
             "#276419"
            ]
           ],
           "sequential": [
            [
             0,
             "#0d0887"
            ],
            [
             0.1111111111111111,
             "#46039f"
            ],
            [
             0.2222222222222222,
             "#7201a8"
            ],
            [
             0.3333333333333333,
             "#9c179e"
            ],
            [
             0.4444444444444444,
             "#bd3786"
            ],
            [
             0.5555555555555556,
             "#d8576b"
            ],
            [
             0.6666666666666666,
             "#ed7953"
            ],
            [
             0.7777777777777778,
             "#fb9f3a"
            ],
            [
             0.8888888888888888,
             "#fdca26"
            ],
            [
             1,
             "#f0f921"
            ]
           ],
           "sequentialminus": [
            [
             0,
             "#0d0887"
            ],
            [
             0.1111111111111111,
             "#46039f"
            ],
            [
             0.2222222222222222,
             "#7201a8"
            ],
            [
             0.3333333333333333,
             "#9c179e"
            ],
            [
             0.4444444444444444,
             "#bd3786"
            ],
            [
             0.5555555555555556,
             "#d8576b"
            ],
            [
             0.6666666666666666,
             "#ed7953"
            ],
            [
             0.7777777777777778,
             "#fb9f3a"
            ],
            [
             0.8888888888888888,
             "#fdca26"
            ],
            [
             1,
             "#f0f921"
            ]
           ]
          },
          "colorway": [
           "#636efa",
           "#EF553B",
           "#00cc96",
           "#ab63fa",
           "#FFA15A",
           "#19d3f3",
           "#FF6692",
           "#B6E880",
           "#FF97FF",
           "#FECB52"
          ],
          "font": {
           "color": "#2a3f5f"
          },
          "geo": {
           "bgcolor": "white",
           "lakecolor": "white",
           "landcolor": "#E5ECF6",
           "showlakes": true,
           "showland": true,
           "subunitcolor": "white"
          },
          "hoverlabel": {
           "align": "left"
          },
          "hovermode": "closest",
          "mapbox": {
           "style": "light"
          },
          "paper_bgcolor": "white",
          "plot_bgcolor": "#E5ECF6",
          "polar": {
           "angularaxis": {
            "gridcolor": "white",
            "linecolor": "white",
            "ticks": ""
           },
           "bgcolor": "#E5ECF6",
           "radialaxis": {
            "gridcolor": "white",
            "linecolor": "white",
            "ticks": ""
           }
          },
          "scene": {
           "xaxis": {
            "backgroundcolor": "#E5ECF6",
            "gridcolor": "white",
            "gridwidth": 2,
            "linecolor": "white",
            "showbackground": true,
            "ticks": "",
            "zerolinecolor": "white"
           },
           "yaxis": {
            "backgroundcolor": "#E5ECF6",
            "gridcolor": "white",
            "gridwidth": 2,
            "linecolor": "white",
            "showbackground": true,
            "ticks": "",
            "zerolinecolor": "white"
           },
           "zaxis": {
            "backgroundcolor": "#E5ECF6",
            "gridcolor": "white",
            "gridwidth": 2,
            "linecolor": "white",
            "showbackground": true,
            "ticks": "",
            "zerolinecolor": "white"
           }
          },
          "shapedefaults": {
           "line": {
            "color": "#2a3f5f"
           }
          },
          "ternary": {
           "aaxis": {
            "gridcolor": "white",
            "linecolor": "white",
            "ticks": ""
           },
           "baxis": {
            "gridcolor": "white",
            "linecolor": "white",
            "ticks": ""
           },
           "bgcolor": "#E5ECF6",
           "caxis": {
            "gridcolor": "white",
            "linecolor": "white",
            "ticks": ""
           }
          },
          "title": {
           "x": 0.05
          },
          "xaxis": {
           "automargin": true,
           "gridcolor": "white",
           "linecolor": "white",
           "ticks": "",
           "title": {
            "standoff": 15
           },
           "zerolinecolor": "white",
           "zerolinewidth": 2
          },
          "yaxis": {
           "automargin": true,
           "gridcolor": "white",
           "linecolor": "white",
           "ticks": "",
           "title": {
            "standoff": 15
           },
           "zerolinecolor": "white",
           "zerolinewidth": 2
          }
         }
        },
        "title": {
         "font": {
          "color": "#4D5663"
         }
        },
        "xaxis": {
         "gridcolor": "#E1E5ED",
         "showgrid": true,
         "tickfont": {
          "color": "#4D5663"
         },
         "title": {
          "font": {
           "color": "#4D5663"
          },
          "text": ""
         },
         "zerolinecolor": "#E1E5ED"
        },
        "yaxis": {
         "gridcolor": "#E1E5ED",
         "showgrid": true,
         "tickfont": {
          "color": "#4D5663"
         },
         "title": {
          "font": {
           "color": "#4D5663"
          },
          "text": ""
         },
         "zerolinecolor": "#E1E5ED"
        }
       }
      },
      "text/html": [
       "<div>\n",
       "        \n",
       "        \n",
       "            <div id=\"cf379a12-40fd-4e7f-beb5-ce53a0067551\" class=\"plotly-graph-div\" style=\"height:525px; width:100%;\"></div>\n",
       "            <script type=\"text/javascript\">\n",
       "                require([\"plotly\"], function(Plotly) {\n",
       "                    window.PLOTLYENV=window.PLOTLYENV || {};\n",
       "                    window.PLOTLYENV.BASE_URL='https://plot.ly';\n",
       "                    \n",
       "                if (document.getElementById(\"cf379a12-40fd-4e7f-beb5-ce53a0067551\")) {\n",
       "                    Plotly.newPlot(\n",
       "                        'cf379a12-40fd-4e7f-beb5-ce53a0067551',\n",
       "                        [{\"histfunc\": \"count\", \"histnorm\": \"\", \"marker\": {\"color\": \"rgba(255, 153, 51, 1.0)\", \"line\": {\"color\": \"#4D5663\", \"width\": 1.3}}, \"name\": \"A\", \"nbinsx\": 25, \"opacity\": 0.8, \"orientation\": \"v\", \"type\": \"histogram\", \"x\": [-0.28658062289161507, 2.8713810642415774, -0.8356058485756809, 0.015123707936464765, -0.36393332536263484, 2.341958955914593, 0.026375334658533516, -0.8912079656500846, 1.5259075076059636, -0.7251464655554153, -2.208567554152265, 0.8160362211716472, 0.1352305382758277, -0.07773618163611463, -1.6218256058133913, -1.4461184112948848, -0.9432178303375855, 0.11042142518952364, 0.22210119025882, 0.29314536564232757, -1.3667737782574663, 2.1170959584160776, -1.9885300360304687, 0.3009043264085271, 1.4900545862313435, 0.16707632821401622, 0.9089693366488185, -0.5309538275682677, -0.5645450618475066, 1.6180166982761703, 0.7121765540358281, -0.7133586311906459, 0.5262454614186426, -0.6978902815960228, 0.6315922215150983, 1.0230806194359456, 0.3552860393922047, -0.5659277005265211, -0.04418343728629043, 0.28347053779399023, 2.0322264650736446, -0.7523401320867622, -0.8403470210799748, 0.27784684716034863, 0.1822850299791254, -0.3697102441389198, -0.021692284748169602, -2.108941307116421, 0.31163343692776824, 2.283327532521014, -0.21171012089409746, -0.14660748153512856, 0.9344186636741401, -0.6106330572294365, -1.5392174683883328, -1.0058035991732786, 2.207169422150619, -1.9791714166370522, -0.7716556864796765, 0.42222551730076235, -0.790403471570592, 0.4827492291330723, 1.25811273044089, -0.4173142231933926, -1.683138705155208, -1.34399245571848, 0.4625126996712462, 1.2210567254188085, 0.07491053801766187, 1.6386682454467674, -0.5700560828390816, -1.200150895129222, -0.4816388445980546, -1.2599499551980429, 0.12748578860097046, -0.5886401471762375, 1.5612153234010075, 0.883110723570033, -0.6793443992951693, -1.7579488291595078, -0.6262305193938559, -0.597589289924199, 0.5975570794231981, -0.8338945349348488, 0.8538301101490644, -1.228745130925553, -0.07970988512138309, -1.5924974279353095, 0.9272268562201983, -0.14144485985252866, 0.6360884600335864, -0.6850117004071394, -0.3733130217574712, -1.6315284967377977, 0.7805667618604121, -0.5193183640984484, -0.7885902824548963, -0.23556747027558908, 1.1819720205400592, 0.5899214406180822]}],\n",
       "                        {\"barmode\": \"overlay\", \"legend\": {\"bgcolor\": \"#F5F6F9\", \"font\": {\"color\": \"#4D5663\"}}, \"paper_bgcolor\": \"#F5F6F9\", \"plot_bgcolor\": \"#F5F6F9\", \"template\": {\"data\": {\"bar\": [{\"error_x\": {\"color\": \"#2a3f5f\"}, \"error_y\": {\"color\": \"#2a3f5f\"}, \"marker\": {\"line\": {\"color\": \"#E5ECF6\", \"width\": 0.5}}, \"type\": \"bar\"}], \"barpolar\": [{\"marker\": {\"line\": {\"color\": \"#E5ECF6\", \"width\": 0.5}}, \"type\": \"barpolar\"}], \"carpet\": [{\"aaxis\": {\"endlinecolor\": \"#2a3f5f\", \"gridcolor\": \"white\", \"linecolor\": \"white\", \"minorgridcolor\": \"white\", \"startlinecolor\": \"#2a3f5f\"}, \"baxis\": {\"endlinecolor\": \"#2a3f5f\", \"gridcolor\": \"white\", \"linecolor\": \"white\", \"minorgridcolor\": \"white\", \"startlinecolor\": \"#2a3f5f\"}, \"type\": \"carpet\"}], \"choropleth\": [{\"colorbar\": {\"outlinewidth\": 0, \"ticks\": \"\"}, \"type\": \"choropleth\"}], \"contour\": [{\"colorbar\": {\"outlinewidth\": 0, \"ticks\": \"\"}, \"colorscale\": [[0.0, \"#0d0887\"], [0.1111111111111111, \"#46039f\"], [0.2222222222222222, \"#7201a8\"], [0.3333333333333333, \"#9c179e\"], [0.4444444444444444, \"#bd3786\"], [0.5555555555555556, \"#d8576b\"], [0.6666666666666666, \"#ed7953\"], [0.7777777777777778, \"#fb9f3a\"], [0.8888888888888888, \"#fdca26\"], [1.0, \"#f0f921\"]], \"type\": \"contour\"}], \"contourcarpet\": [{\"colorbar\": {\"outlinewidth\": 0, \"ticks\": \"\"}, \"type\": \"contourcarpet\"}], \"heatmap\": [{\"colorbar\": {\"outlinewidth\": 0, \"ticks\": \"\"}, \"colorscale\": [[0.0, \"#0d0887\"], [0.1111111111111111, \"#46039f\"], [0.2222222222222222, \"#7201a8\"], [0.3333333333333333, \"#9c179e\"], [0.4444444444444444, \"#bd3786\"], [0.5555555555555556, \"#d8576b\"], [0.6666666666666666, \"#ed7953\"], [0.7777777777777778, \"#fb9f3a\"], [0.8888888888888888, \"#fdca26\"], [1.0, \"#f0f921\"]], \"type\": \"heatmap\"}], \"heatmapgl\": [{\"colorbar\": {\"outlinewidth\": 0, \"ticks\": \"\"}, \"colorscale\": [[0.0, \"#0d0887\"], [0.1111111111111111, \"#46039f\"], [0.2222222222222222, \"#7201a8\"], [0.3333333333333333, \"#9c179e\"], [0.4444444444444444, \"#bd3786\"], [0.5555555555555556, \"#d8576b\"], [0.6666666666666666, \"#ed7953\"], [0.7777777777777778, \"#fb9f3a\"], [0.8888888888888888, \"#fdca26\"], [1.0, \"#f0f921\"]], \"type\": \"heatmapgl\"}], \"histogram\": [{\"marker\": {\"colorbar\": {\"outlinewidth\": 0, \"ticks\": \"\"}}, \"type\": \"histogram\"}], \"histogram2d\": [{\"colorbar\": {\"outlinewidth\": 0, \"ticks\": \"\"}, \"colorscale\": [[0.0, \"#0d0887\"], [0.1111111111111111, \"#46039f\"], [0.2222222222222222, \"#7201a8\"], [0.3333333333333333, \"#9c179e\"], [0.4444444444444444, \"#bd3786\"], [0.5555555555555556, \"#d8576b\"], [0.6666666666666666, \"#ed7953\"], [0.7777777777777778, \"#fb9f3a\"], [0.8888888888888888, \"#fdca26\"], [1.0, \"#f0f921\"]], \"type\": \"histogram2d\"}], \"histogram2dcontour\": [{\"colorbar\": {\"outlinewidth\": 0, \"ticks\": \"\"}, \"colorscale\": [[0.0, \"#0d0887\"], [0.1111111111111111, \"#46039f\"], [0.2222222222222222, \"#7201a8\"], [0.3333333333333333, \"#9c179e\"], [0.4444444444444444, \"#bd3786\"], [0.5555555555555556, \"#d8576b\"], [0.6666666666666666, \"#ed7953\"], [0.7777777777777778, \"#fb9f3a\"], [0.8888888888888888, \"#fdca26\"], [1.0, \"#f0f921\"]], \"type\": \"histogram2dcontour\"}], \"mesh3d\": [{\"colorbar\": {\"outlinewidth\": 0, \"ticks\": \"\"}, \"type\": \"mesh3d\"}], \"parcoords\": [{\"line\": {\"colorbar\": {\"outlinewidth\": 0, \"ticks\": \"\"}}, \"type\": \"parcoords\"}], \"pie\": [{\"automargin\": true, \"type\": \"pie\"}], \"scatter\": [{\"marker\": {\"colorbar\": {\"outlinewidth\": 0, \"ticks\": \"\"}}, \"type\": \"scatter\"}], \"scatter3d\": [{\"line\": {\"colorbar\": {\"outlinewidth\": 0, \"ticks\": \"\"}}, \"marker\": {\"colorbar\": {\"outlinewidth\": 0, \"ticks\": \"\"}}, \"type\": \"scatter3d\"}], \"scattercarpet\": [{\"marker\": {\"colorbar\": {\"outlinewidth\": 0, \"ticks\": \"\"}}, \"type\": \"scattercarpet\"}], \"scattergeo\": [{\"marker\": {\"colorbar\": {\"outlinewidth\": 0, \"ticks\": \"\"}}, \"type\": \"scattergeo\"}], \"scattergl\": [{\"marker\": {\"colorbar\": {\"outlinewidth\": 0, \"ticks\": \"\"}}, \"type\": \"scattergl\"}], \"scattermapbox\": [{\"marker\": {\"colorbar\": {\"outlinewidth\": 0, \"ticks\": \"\"}}, \"type\": \"scattermapbox\"}], \"scatterpolar\": [{\"marker\": {\"colorbar\": {\"outlinewidth\": 0, \"ticks\": \"\"}}, \"type\": \"scatterpolar\"}], \"scatterpolargl\": [{\"marker\": {\"colorbar\": {\"outlinewidth\": 0, \"ticks\": \"\"}}, \"type\": \"scatterpolargl\"}], \"scatterternary\": [{\"marker\": {\"colorbar\": {\"outlinewidth\": 0, \"ticks\": \"\"}}, \"type\": \"scatterternary\"}], \"surface\": [{\"colorbar\": {\"outlinewidth\": 0, \"ticks\": \"\"}, \"colorscale\": [[0.0, \"#0d0887\"], [0.1111111111111111, \"#46039f\"], [0.2222222222222222, \"#7201a8\"], [0.3333333333333333, \"#9c179e\"], [0.4444444444444444, \"#bd3786\"], [0.5555555555555556, \"#d8576b\"], [0.6666666666666666, \"#ed7953\"], [0.7777777777777778, \"#fb9f3a\"], [0.8888888888888888, \"#fdca26\"], [1.0, \"#f0f921\"]], \"type\": \"surface\"}], \"table\": [{\"cells\": {\"fill\": {\"color\": \"#EBF0F8\"}, \"line\": {\"color\": \"white\"}}, \"header\": {\"fill\": {\"color\": \"#C8D4E3\"}, \"line\": {\"color\": \"white\"}}, \"type\": \"table\"}]}, \"layout\": {\"annotationdefaults\": {\"arrowcolor\": \"#2a3f5f\", \"arrowhead\": 0, \"arrowwidth\": 1}, \"coloraxis\": {\"colorbar\": {\"outlinewidth\": 0, \"ticks\": \"\"}}, \"colorscale\": {\"diverging\": [[0, \"#8e0152\"], [0.1, \"#c51b7d\"], [0.2, \"#de77ae\"], [0.3, \"#f1b6da\"], [0.4, \"#fde0ef\"], [0.5, \"#f7f7f7\"], [0.6, \"#e6f5d0\"], [0.7, \"#b8e186\"], [0.8, \"#7fbc41\"], [0.9, \"#4d9221\"], [1, \"#276419\"]], \"sequential\": [[0.0, \"#0d0887\"], [0.1111111111111111, \"#46039f\"], [0.2222222222222222, \"#7201a8\"], [0.3333333333333333, \"#9c179e\"], [0.4444444444444444, \"#bd3786\"], [0.5555555555555556, \"#d8576b\"], [0.6666666666666666, \"#ed7953\"], [0.7777777777777778, \"#fb9f3a\"], [0.8888888888888888, \"#fdca26\"], [1.0, \"#f0f921\"]], \"sequentialminus\": [[0.0, \"#0d0887\"], [0.1111111111111111, \"#46039f\"], [0.2222222222222222, \"#7201a8\"], [0.3333333333333333, \"#9c179e\"], [0.4444444444444444, \"#bd3786\"], [0.5555555555555556, \"#d8576b\"], [0.6666666666666666, \"#ed7953\"], [0.7777777777777778, \"#fb9f3a\"], [0.8888888888888888, \"#fdca26\"], [1.0, \"#f0f921\"]]}, \"colorway\": [\"#636efa\", \"#EF553B\", \"#00cc96\", \"#ab63fa\", \"#FFA15A\", \"#19d3f3\", \"#FF6692\", \"#B6E880\", \"#FF97FF\", \"#FECB52\"], \"font\": {\"color\": \"#2a3f5f\"}, \"geo\": {\"bgcolor\": \"white\", \"lakecolor\": \"white\", \"landcolor\": \"#E5ECF6\", \"showlakes\": true, \"showland\": true, \"subunitcolor\": \"white\"}, \"hoverlabel\": {\"align\": \"left\"}, \"hovermode\": \"closest\", \"mapbox\": {\"style\": \"light\"}, \"paper_bgcolor\": \"white\", \"plot_bgcolor\": \"#E5ECF6\", \"polar\": {\"angularaxis\": {\"gridcolor\": \"white\", \"linecolor\": \"white\", \"ticks\": \"\"}, \"bgcolor\": \"#E5ECF6\", \"radialaxis\": {\"gridcolor\": \"white\", \"linecolor\": \"white\", \"ticks\": \"\"}}, \"scene\": {\"xaxis\": {\"backgroundcolor\": \"#E5ECF6\", \"gridcolor\": \"white\", \"gridwidth\": 2, \"linecolor\": \"white\", \"showbackground\": true, \"ticks\": \"\", \"zerolinecolor\": \"white\"}, \"yaxis\": {\"backgroundcolor\": \"#E5ECF6\", \"gridcolor\": \"white\", \"gridwidth\": 2, \"linecolor\": \"white\", \"showbackground\": true, \"ticks\": \"\", \"zerolinecolor\": \"white\"}, \"zaxis\": {\"backgroundcolor\": \"#E5ECF6\", \"gridcolor\": \"white\", \"gridwidth\": 2, \"linecolor\": \"white\", \"showbackground\": true, \"ticks\": \"\", \"zerolinecolor\": \"white\"}}, \"shapedefaults\": {\"line\": {\"color\": \"#2a3f5f\"}}, \"ternary\": {\"aaxis\": {\"gridcolor\": \"white\", \"linecolor\": \"white\", \"ticks\": \"\"}, \"baxis\": {\"gridcolor\": \"white\", \"linecolor\": \"white\", \"ticks\": \"\"}, \"bgcolor\": \"#E5ECF6\", \"caxis\": {\"gridcolor\": \"white\", \"linecolor\": \"white\", \"ticks\": \"\"}}, \"title\": {\"x\": 0.05}, \"xaxis\": {\"automargin\": true, \"gridcolor\": \"white\", \"linecolor\": \"white\", \"ticks\": \"\", \"title\": {\"standoff\": 15}, \"zerolinecolor\": \"white\", \"zerolinewidth\": 2}, \"yaxis\": {\"automargin\": true, \"gridcolor\": \"white\", \"linecolor\": \"white\", \"ticks\": \"\", \"title\": {\"standoff\": 15}, \"zerolinecolor\": \"white\", \"zerolinewidth\": 2}}}, \"title\": {\"font\": {\"color\": \"#4D5663\"}}, \"xaxis\": {\"gridcolor\": \"#E1E5ED\", \"showgrid\": true, \"tickfont\": {\"color\": \"#4D5663\"}, \"title\": {\"font\": {\"color\": \"#4D5663\"}, \"text\": \"\"}, \"zerolinecolor\": \"#E1E5ED\"}, \"yaxis\": {\"gridcolor\": \"#E1E5ED\", \"showgrid\": true, \"tickfont\": {\"color\": \"#4D5663\"}, \"title\": {\"font\": {\"color\": \"#4D5663\"}, \"text\": \"\"}, \"zerolinecolor\": \"#E1E5ED\"}},\n",
       "                        {\"showLink\": true, \"linkText\": \"Export to plot.ly\", \"plotlyServerURL\": \"https://plot.ly\", \"responsive\": true}\n",
       "                    ).then(function(){\n",
       "                            \n",
       "var gd = document.getElementById('cf379a12-40fd-4e7f-beb5-ce53a0067551');\n",
       "var x = new MutationObserver(function (mutations, observer) {{\n",
       "        var display = window.getComputedStyle(gd).display;\n",
       "        if (!display || display === 'none') {{\n",
       "            console.log([gd, 'removed!']);\n",
       "            Plotly.purge(gd);\n",
       "            observer.disconnect();\n",
       "        }}\n",
       "}});\n",
       "\n",
       "// Listen for the removal of the full notebook cells\n",
       "var notebookContainer = gd.closest('#notebook-container');\n",
       "if (notebookContainer) {{\n",
       "    x.observe(notebookContainer, {childList: true});\n",
       "}}\n",
       "\n",
       "// Listen for the clearing of the current output cell\n",
       "var outputEl = gd.closest('.output');\n",
       "if (outputEl) {{\n",
       "    x.observe(outputEl, {childList: true});\n",
       "}}\n",
       "\n",
       "                        })\n",
       "                };\n",
       "                });\n",
       "            </script>\n",
       "        </div>"
      ]
     },
     "metadata": {},
     "output_type": "display_data"
    }
   ],
   "source": [
    "df['A'].iplot(kind='hist',bins=25)"
   ]
  },
  {
   "cell_type": "code",
   "execution_count": 17,
   "metadata": {},
   "outputs": [
    {
     "data": {
      "application/vnd.plotly.v1+json": {
       "config": {
        "linkText": "Export to plot.ly",
        "plotlyServerURL": "https://plot.ly",
        "showLink": true
       },
       "data": [
        {
         "marker": {
          "color": [
           "rgb(255, 153, 51)",
           "rgb(55, 128, 191)",
           "rgb(50, 171, 96)",
           "rgb(128, 0, 128)",
           "rgb(219, 64, 82)",
           "rgb(0, 128, 128)",
           "rgb(255, 255, 51)",
           "rgb(128, 128, 0)",
           "rgb(251, 128, 114)",
           "rgb(128, 177, 211)"
          ],
          "line": {
           "width": 1.3
          },
          "size": [
           26,
           61,
           44,
           41,
           55,
           50,
           54,
           74,
           57,
           84,
           62,
           49,
           37,
           59,
           34,
           64,
           37,
           41,
           39,
           58,
           52,
           41,
           51,
           73,
           37,
           64,
           81,
           42,
           44,
           55,
           27,
           82,
           55,
           75,
           98,
           44,
           12,
           27,
           84,
           36,
           39,
           45,
           48,
           56,
           31,
           39,
           31,
           38,
           76,
           48,
           34,
           52,
           100,
           74,
           42,
           60,
           57,
           44,
           26,
           30,
           66,
           47,
           61,
           63,
           35,
           112,
           48,
           49,
           56,
           69,
           67,
           63,
           37,
           81,
           83,
           50,
           46,
           73,
           59,
           45,
           100,
           67,
           30,
           24,
           42,
           57,
           64,
           73,
           12,
           35,
           67,
           64,
           70,
           58,
           76,
           53,
           42,
           71,
           73,
           49
          ],
          "symbol": "circle"
         },
         "mode": "markers",
         "text": "",
         "type": "scatter",
         "x": [
          -0.28658062289161507,
          2.8713810642415774,
          -0.8356058485756809,
          0.015123707936464765,
          -0.36393332536263484,
          2.341958955914593,
          0.026375334658533516,
          -0.8912079656500846,
          1.5259075076059636,
          -0.7251464655554153,
          -2.208567554152265,
          0.8160362211716472,
          0.1352305382758277,
          -0.07773618163611463,
          -1.6218256058133913,
          -1.4461184112948848,
          -0.9432178303375855,
          0.11042142518952364,
          0.22210119025882,
          0.29314536564232757,
          -1.3667737782574663,
          2.1170959584160776,
          -1.9885300360304687,
          0.3009043264085271,
          1.4900545862313435,
          0.16707632821401622,
          0.9089693366488185,
          -0.5309538275682677,
          -0.5645450618475066,
          1.6180166982761703,
          0.7121765540358281,
          -0.7133586311906459,
          0.5262454614186426,
          -0.6978902815960228,
          0.6315922215150983,
          1.0230806194359456,
          0.3552860393922047,
          -0.5659277005265211,
          -0.04418343728629043,
          0.28347053779399023,
          2.0322264650736446,
          -0.7523401320867622,
          -0.8403470210799748,
          0.27784684716034863,
          0.1822850299791254,
          -0.3697102441389198,
          -0.021692284748169602,
          -2.108941307116421,
          0.31163343692776824,
          2.283327532521014,
          -0.21171012089409746,
          -0.14660748153512856,
          0.9344186636741401,
          -0.6106330572294365,
          -1.5392174683883328,
          -1.0058035991732786,
          2.207169422150619,
          -1.9791714166370522,
          -0.7716556864796765,
          0.42222551730076235,
          -0.790403471570592,
          0.4827492291330723,
          1.25811273044089,
          -0.4173142231933926,
          -1.683138705155208,
          -1.34399245571848,
          0.4625126996712462,
          1.2210567254188085,
          0.07491053801766187,
          1.6386682454467674,
          -0.5700560828390816,
          -1.200150895129222,
          -0.4816388445980546,
          -1.2599499551980429,
          0.12748578860097046,
          -0.5886401471762375,
          1.5612153234010075,
          0.883110723570033,
          -0.6793443992951693,
          -1.7579488291595078,
          -0.6262305193938559,
          -0.597589289924199,
          0.5975570794231981,
          -0.8338945349348488,
          0.8538301101490644,
          -1.228745130925553,
          -0.07970988512138309,
          -1.5924974279353095,
          0.9272268562201983,
          -0.14144485985252866,
          0.6360884600335864,
          -0.6850117004071394,
          -0.3733130217574712,
          -1.6315284967377977,
          0.7805667618604121,
          -0.5193183640984484,
          -0.7885902824548963,
          -0.23556747027558908,
          1.1819720205400592,
          0.5899214406180822
         ],
         "y": [
          1.5740728987236858,
          -0.5204962324025592,
          0.3784879080197764,
          0.5665830926250587,
          1.8307528761381824,
          1.496398337103953,
          0.319114278020899,
          1.3241804073809924,
          -2.2199737044173027,
          0.4069568095734938,
          0.14826216989882013,
          -0.994303336633359,
          -0.36208520713052306,
          1.7495268971863218,
          -0.4261065698300166,
          -1.7270517273707098,
          -2.357261283307402,
          2.403928501039504,
          0.6251246787404335,
          -0.004245790921073416,
          1.6803335896006206,
          -0.7740097921221676,
          -0.17455728219713768,
          0.5346934292088612,
          -0.16299832133350473,
          -1.6430005512614236,
          0.1874046982263252,
          0.3062098943756686,
          -1.075078115834331,
          -1.2214886703038546,
          -0.14724209756744944,
          0.2429769271893512,
          -0.23269608358220994,
          0.36352732895139045,
          0.7934071373939708,
          -2.5011489951532644,
          -0.18797315258982397,
          0.38603232777514507,
          2.045463743570114,
          -0.26097071764894264,
          0.550200525982311,
          -1.0767578575594094,
          0.5983416714319514,
          -0.6321645924326897,
          -0.2766778496970904,
          0.6695187229527138,
          1.0353017178297368,
          0.5761075611725717,
          1.4718017958919445,
          -0.4896305364712738,
          1.1538261951756705,
          1.158823447440352,
          -0.8732216047844114,
          1.520045712919522,
          0.5910070115791487,
          -0.7236162689815163,
          -1.2718512751459379,
          0.4412226470368304,
          0.6634561156688739,
          -0.4577892833900473,
          0.1318589819788368,
          -1.4368522046631298,
          -1.8395329503791198,
          -1.6492182544058702,
          -2.4797759739644487,
          0.03894320353626314,
          -0.35092509075247313,
          1.388297843133826,
          0.11573851710811286,
          0.3062732272678091,
          -0.46590267674086555,
          0.5456442466695953,
          -0.5304629942227559,
          -0.4313314370468433,
          -0.08957726082416721,
          1.1264734945274768,
          -0.9290255244862805,
          -1.7314167216950984,
          -0.30353773563327374,
          -0.4913771831551384,
          1.1019884388012529,
          -1.1006777820996694,
          0.02889859416952101,
          0.7844200346560151,
          0.4196265261180495,
          -0.6473364753369074,
          0.42737665263402697,
          -1.5403520115571134,
          0.425865498394857,
          -0.17886127476218783,
          -0.4685216389506663,
          -1.155388110493677,
          0.46525913637554894,
          0.9437691551712757,
          -0.744522351346594,
          -0.5107890860366717,
          -1.3104476513425958,
          -0.3659836777369112,
          -0.218182149822733,
          0.5665569826426838
         ]
        }
       ],
       "layout": {
        "legend": {
         "bgcolor": "#F5F6F9",
         "font": {
          "color": "#4D5663"
         }
        },
        "paper_bgcolor": "#F5F6F9",
        "plot_bgcolor": "#F5F6F9",
        "template": {
         "data": {
          "bar": [
           {
            "error_x": {
             "color": "#2a3f5f"
            },
            "error_y": {
             "color": "#2a3f5f"
            },
            "marker": {
             "line": {
              "color": "#E5ECF6",
              "width": 0.5
             }
            },
            "type": "bar"
           }
          ],
          "barpolar": [
           {
            "marker": {
             "line": {
              "color": "#E5ECF6",
              "width": 0.5
             }
            },
            "type": "barpolar"
           }
          ],
          "carpet": [
           {
            "aaxis": {
             "endlinecolor": "#2a3f5f",
             "gridcolor": "white",
             "linecolor": "white",
             "minorgridcolor": "white",
             "startlinecolor": "#2a3f5f"
            },
            "baxis": {
             "endlinecolor": "#2a3f5f",
             "gridcolor": "white",
             "linecolor": "white",
             "minorgridcolor": "white",
             "startlinecolor": "#2a3f5f"
            },
            "type": "carpet"
           }
          ],
          "choropleth": [
           {
            "colorbar": {
             "outlinewidth": 0,
             "ticks": ""
            },
            "type": "choropleth"
           }
          ],
          "contour": [
           {
            "colorbar": {
             "outlinewidth": 0,
             "ticks": ""
            },
            "colorscale": [
             [
              0,
              "#0d0887"
             ],
             [
              0.1111111111111111,
              "#46039f"
             ],
             [
              0.2222222222222222,
              "#7201a8"
             ],
             [
              0.3333333333333333,
              "#9c179e"
             ],
             [
              0.4444444444444444,
              "#bd3786"
             ],
             [
              0.5555555555555556,
              "#d8576b"
             ],
             [
              0.6666666666666666,
              "#ed7953"
             ],
             [
              0.7777777777777778,
              "#fb9f3a"
             ],
             [
              0.8888888888888888,
              "#fdca26"
             ],
             [
              1,
              "#f0f921"
             ]
            ],
            "type": "contour"
           }
          ],
          "contourcarpet": [
           {
            "colorbar": {
             "outlinewidth": 0,
             "ticks": ""
            },
            "type": "contourcarpet"
           }
          ],
          "heatmap": [
           {
            "colorbar": {
             "outlinewidth": 0,
             "ticks": ""
            },
            "colorscale": [
             [
              0,
              "#0d0887"
             ],
             [
              0.1111111111111111,
              "#46039f"
             ],
             [
              0.2222222222222222,
              "#7201a8"
             ],
             [
              0.3333333333333333,
              "#9c179e"
             ],
             [
              0.4444444444444444,
              "#bd3786"
             ],
             [
              0.5555555555555556,
              "#d8576b"
             ],
             [
              0.6666666666666666,
              "#ed7953"
             ],
             [
              0.7777777777777778,
              "#fb9f3a"
             ],
             [
              0.8888888888888888,
              "#fdca26"
             ],
             [
              1,
              "#f0f921"
             ]
            ],
            "type": "heatmap"
           }
          ],
          "heatmapgl": [
           {
            "colorbar": {
             "outlinewidth": 0,
             "ticks": ""
            },
            "colorscale": [
             [
              0,
              "#0d0887"
             ],
             [
              0.1111111111111111,
              "#46039f"
             ],
             [
              0.2222222222222222,
              "#7201a8"
             ],
             [
              0.3333333333333333,
              "#9c179e"
             ],
             [
              0.4444444444444444,
              "#bd3786"
             ],
             [
              0.5555555555555556,
              "#d8576b"
             ],
             [
              0.6666666666666666,
              "#ed7953"
             ],
             [
              0.7777777777777778,
              "#fb9f3a"
             ],
             [
              0.8888888888888888,
              "#fdca26"
             ],
             [
              1,
              "#f0f921"
             ]
            ],
            "type": "heatmapgl"
           }
          ],
          "histogram": [
           {
            "marker": {
             "colorbar": {
              "outlinewidth": 0,
              "ticks": ""
             }
            },
            "type": "histogram"
           }
          ],
          "histogram2d": [
           {
            "colorbar": {
             "outlinewidth": 0,
             "ticks": ""
            },
            "colorscale": [
             [
              0,
              "#0d0887"
             ],
             [
              0.1111111111111111,
              "#46039f"
             ],
             [
              0.2222222222222222,
              "#7201a8"
             ],
             [
              0.3333333333333333,
              "#9c179e"
             ],
             [
              0.4444444444444444,
              "#bd3786"
             ],
             [
              0.5555555555555556,
              "#d8576b"
             ],
             [
              0.6666666666666666,
              "#ed7953"
             ],
             [
              0.7777777777777778,
              "#fb9f3a"
             ],
             [
              0.8888888888888888,
              "#fdca26"
             ],
             [
              1,
              "#f0f921"
             ]
            ],
            "type": "histogram2d"
           }
          ],
          "histogram2dcontour": [
           {
            "colorbar": {
             "outlinewidth": 0,
             "ticks": ""
            },
            "colorscale": [
             [
              0,
              "#0d0887"
             ],
             [
              0.1111111111111111,
              "#46039f"
             ],
             [
              0.2222222222222222,
              "#7201a8"
             ],
             [
              0.3333333333333333,
              "#9c179e"
             ],
             [
              0.4444444444444444,
              "#bd3786"
             ],
             [
              0.5555555555555556,
              "#d8576b"
             ],
             [
              0.6666666666666666,
              "#ed7953"
             ],
             [
              0.7777777777777778,
              "#fb9f3a"
             ],
             [
              0.8888888888888888,
              "#fdca26"
             ],
             [
              1,
              "#f0f921"
             ]
            ],
            "type": "histogram2dcontour"
           }
          ],
          "mesh3d": [
           {
            "colorbar": {
             "outlinewidth": 0,
             "ticks": ""
            },
            "type": "mesh3d"
           }
          ],
          "parcoords": [
           {
            "line": {
             "colorbar": {
              "outlinewidth": 0,
              "ticks": ""
             }
            },
            "type": "parcoords"
           }
          ],
          "pie": [
           {
            "automargin": true,
            "type": "pie"
           }
          ],
          "scatter": [
           {
            "marker": {
             "colorbar": {
              "outlinewidth": 0,
              "ticks": ""
             }
            },
            "type": "scatter"
           }
          ],
          "scatter3d": [
           {
            "line": {
             "colorbar": {
              "outlinewidth": 0,
              "ticks": ""
             }
            },
            "marker": {
             "colorbar": {
              "outlinewidth": 0,
              "ticks": ""
             }
            },
            "type": "scatter3d"
           }
          ],
          "scattercarpet": [
           {
            "marker": {
             "colorbar": {
              "outlinewidth": 0,
              "ticks": ""
             }
            },
            "type": "scattercarpet"
           }
          ],
          "scattergeo": [
           {
            "marker": {
             "colorbar": {
              "outlinewidth": 0,
              "ticks": ""
             }
            },
            "type": "scattergeo"
           }
          ],
          "scattergl": [
           {
            "marker": {
             "colorbar": {
              "outlinewidth": 0,
              "ticks": ""
             }
            },
            "type": "scattergl"
           }
          ],
          "scattermapbox": [
           {
            "marker": {
             "colorbar": {
              "outlinewidth": 0,
              "ticks": ""
             }
            },
            "type": "scattermapbox"
           }
          ],
          "scatterpolar": [
           {
            "marker": {
             "colorbar": {
              "outlinewidth": 0,
              "ticks": ""
             }
            },
            "type": "scatterpolar"
           }
          ],
          "scatterpolargl": [
           {
            "marker": {
             "colorbar": {
              "outlinewidth": 0,
              "ticks": ""
             }
            },
            "type": "scatterpolargl"
           }
          ],
          "scatterternary": [
           {
            "marker": {
             "colorbar": {
              "outlinewidth": 0,
              "ticks": ""
             }
            },
            "type": "scatterternary"
           }
          ],
          "surface": [
           {
            "colorbar": {
             "outlinewidth": 0,
             "ticks": ""
            },
            "colorscale": [
             [
              0,
              "#0d0887"
             ],
             [
              0.1111111111111111,
              "#46039f"
             ],
             [
              0.2222222222222222,
              "#7201a8"
             ],
             [
              0.3333333333333333,
              "#9c179e"
             ],
             [
              0.4444444444444444,
              "#bd3786"
             ],
             [
              0.5555555555555556,
              "#d8576b"
             ],
             [
              0.6666666666666666,
              "#ed7953"
             ],
             [
              0.7777777777777778,
              "#fb9f3a"
             ],
             [
              0.8888888888888888,
              "#fdca26"
             ],
             [
              1,
              "#f0f921"
             ]
            ],
            "type": "surface"
           }
          ],
          "table": [
           {
            "cells": {
             "fill": {
              "color": "#EBF0F8"
             },
             "line": {
              "color": "white"
             }
            },
            "header": {
             "fill": {
              "color": "#C8D4E3"
             },
             "line": {
              "color": "white"
             }
            },
            "type": "table"
           }
          ]
         },
         "layout": {
          "annotationdefaults": {
           "arrowcolor": "#2a3f5f",
           "arrowhead": 0,
           "arrowwidth": 1
          },
          "coloraxis": {
           "colorbar": {
            "outlinewidth": 0,
            "ticks": ""
           }
          },
          "colorscale": {
           "diverging": [
            [
             0,
             "#8e0152"
            ],
            [
             0.1,
             "#c51b7d"
            ],
            [
             0.2,
             "#de77ae"
            ],
            [
             0.3,
             "#f1b6da"
            ],
            [
             0.4,
             "#fde0ef"
            ],
            [
             0.5,
             "#f7f7f7"
            ],
            [
             0.6,
             "#e6f5d0"
            ],
            [
             0.7,
             "#b8e186"
            ],
            [
             0.8,
             "#7fbc41"
            ],
            [
             0.9,
             "#4d9221"
            ],
            [
             1,
             "#276419"
            ]
           ],
           "sequential": [
            [
             0,
             "#0d0887"
            ],
            [
             0.1111111111111111,
             "#46039f"
            ],
            [
             0.2222222222222222,
             "#7201a8"
            ],
            [
             0.3333333333333333,
             "#9c179e"
            ],
            [
             0.4444444444444444,
             "#bd3786"
            ],
            [
             0.5555555555555556,
             "#d8576b"
            ],
            [
             0.6666666666666666,
             "#ed7953"
            ],
            [
             0.7777777777777778,
             "#fb9f3a"
            ],
            [
             0.8888888888888888,
             "#fdca26"
            ],
            [
             1,
             "#f0f921"
            ]
           ],
           "sequentialminus": [
            [
             0,
             "#0d0887"
            ],
            [
             0.1111111111111111,
             "#46039f"
            ],
            [
             0.2222222222222222,
             "#7201a8"
            ],
            [
             0.3333333333333333,
             "#9c179e"
            ],
            [
             0.4444444444444444,
             "#bd3786"
            ],
            [
             0.5555555555555556,
             "#d8576b"
            ],
            [
             0.6666666666666666,
             "#ed7953"
            ],
            [
             0.7777777777777778,
             "#fb9f3a"
            ],
            [
             0.8888888888888888,
             "#fdca26"
            ],
            [
             1,
             "#f0f921"
            ]
           ]
          },
          "colorway": [
           "#636efa",
           "#EF553B",
           "#00cc96",
           "#ab63fa",
           "#FFA15A",
           "#19d3f3",
           "#FF6692",
           "#B6E880",
           "#FF97FF",
           "#FECB52"
          ],
          "font": {
           "color": "#2a3f5f"
          },
          "geo": {
           "bgcolor": "white",
           "lakecolor": "white",
           "landcolor": "#E5ECF6",
           "showlakes": true,
           "showland": true,
           "subunitcolor": "white"
          },
          "hoverlabel": {
           "align": "left"
          },
          "hovermode": "closest",
          "mapbox": {
           "style": "light"
          },
          "paper_bgcolor": "white",
          "plot_bgcolor": "#E5ECF6",
          "polar": {
           "angularaxis": {
            "gridcolor": "white",
            "linecolor": "white",
            "ticks": ""
           },
           "bgcolor": "#E5ECF6",
           "radialaxis": {
            "gridcolor": "white",
            "linecolor": "white",
            "ticks": ""
           }
          },
          "scene": {
           "xaxis": {
            "backgroundcolor": "#E5ECF6",
            "gridcolor": "white",
            "gridwidth": 2,
            "linecolor": "white",
            "showbackground": true,
            "ticks": "",
            "zerolinecolor": "white"
           },
           "yaxis": {
            "backgroundcolor": "#E5ECF6",
            "gridcolor": "white",
            "gridwidth": 2,
            "linecolor": "white",
            "showbackground": true,
            "ticks": "",
            "zerolinecolor": "white"
           },
           "zaxis": {
            "backgroundcolor": "#E5ECF6",
            "gridcolor": "white",
            "gridwidth": 2,
            "linecolor": "white",
            "showbackground": true,
            "ticks": "",
            "zerolinecolor": "white"
           }
          },
          "shapedefaults": {
           "line": {
            "color": "#2a3f5f"
           }
          },
          "ternary": {
           "aaxis": {
            "gridcolor": "white",
            "linecolor": "white",
            "ticks": ""
           },
           "baxis": {
            "gridcolor": "white",
            "linecolor": "white",
            "ticks": ""
           },
           "bgcolor": "#E5ECF6",
           "caxis": {
            "gridcolor": "white",
            "linecolor": "white",
            "ticks": ""
           }
          },
          "title": {
           "x": 0.05
          },
          "xaxis": {
           "automargin": true,
           "gridcolor": "white",
           "linecolor": "white",
           "ticks": "",
           "title": {
            "standoff": 15
           },
           "zerolinecolor": "white",
           "zerolinewidth": 2
          },
          "yaxis": {
           "automargin": true,
           "gridcolor": "white",
           "linecolor": "white",
           "ticks": "",
           "title": {
            "standoff": 15
           },
           "zerolinecolor": "white",
           "zerolinewidth": 2
          }
         }
        },
        "title": {
         "font": {
          "color": "#4D5663"
         }
        },
        "xaxis": {
         "gridcolor": "#E1E5ED",
         "showgrid": true,
         "tickfont": {
          "color": "#4D5663"
         },
         "title": {
          "font": {
           "color": "#4D5663"
          },
          "text": ""
         },
         "zerolinecolor": "#E1E5ED"
        },
        "yaxis": {
         "gridcolor": "#E1E5ED",
         "showgrid": true,
         "tickfont": {
          "color": "#4D5663"
         },
         "title": {
          "font": {
           "color": "#4D5663"
          },
          "text": ""
         },
         "zerolinecolor": "#E1E5ED"
        }
       }
      },
      "text/html": [
       "<div>\n",
       "        \n",
       "        \n",
       "            <div id=\"eece1f0d-f4f4-4a08-8466-24287ffc1c6a\" class=\"plotly-graph-div\" style=\"height:525px; width:100%;\"></div>\n",
       "            <script type=\"text/javascript\">\n",
       "                require([\"plotly\"], function(Plotly) {\n",
       "                    window.PLOTLYENV=window.PLOTLYENV || {};\n",
       "                    window.PLOTLYENV.BASE_URL='https://plot.ly';\n",
       "                    \n",
       "                if (document.getElementById(\"eece1f0d-f4f4-4a08-8466-24287ffc1c6a\")) {\n",
       "                    Plotly.newPlot(\n",
       "                        'eece1f0d-f4f4-4a08-8466-24287ffc1c6a',\n",
       "                        [{\"marker\": {\"color\": [\"rgb(255, 153, 51)\", \"rgb(55, 128, 191)\", \"rgb(50, 171, 96)\", \"rgb(128, 0, 128)\", \"rgb(219, 64, 82)\", \"rgb(0, 128, 128)\", \"rgb(255, 255, 51)\", \"rgb(128, 128, 0)\", \"rgb(251, 128, 114)\", \"rgb(128, 177, 211)\"], \"line\": {\"width\": 1.3}, \"size\": [26, 61, 44, 41, 55, 50, 54, 74, 57, 84, 62, 49, 37, 59, 34, 64, 37, 41, 39, 58, 52, 41, 51, 73, 37, 64, 81, 42, 44, 55, 27, 82, 55, 75, 98, 44, 12, 27, 84, 36, 39, 45, 48, 56, 31, 39, 31, 38, 76, 48, 34, 52, 100, 74, 42, 60, 57, 44, 26, 30, 66, 47, 61, 63, 35, 112, 48, 49, 56, 69, 67, 63, 37, 81, 83, 50, 46, 73, 59, 45, 100, 67, 30, 24, 42, 57, 64, 73, 12, 35, 67, 64, 70, 58, 76, 53, 42, 71, 73, 49], \"symbol\": \"circle\"}, \"mode\": \"markers\", \"text\": \"\", \"type\": \"scatter\", \"x\": [-0.28658062289161507, 2.8713810642415774, -0.8356058485756809, 0.015123707936464765, -0.36393332536263484, 2.341958955914593, 0.026375334658533516, -0.8912079656500846, 1.5259075076059636, -0.7251464655554153, -2.208567554152265, 0.8160362211716472, 0.1352305382758277, -0.07773618163611463, -1.6218256058133913, -1.4461184112948848, -0.9432178303375855, 0.11042142518952364, 0.22210119025882, 0.29314536564232757, -1.3667737782574663, 2.1170959584160776, -1.9885300360304687, 0.3009043264085271, 1.4900545862313435, 0.16707632821401622, 0.9089693366488185, -0.5309538275682677, -0.5645450618475066, 1.6180166982761703, 0.7121765540358281, -0.7133586311906459, 0.5262454614186426, -0.6978902815960228, 0.6315922215150983, 1.0230806194359456, 0.3552860393922047, -0.5659277005265211, -0.04418343728629043, 0.28347053779399023, 2.0322264650736446, -0.7523401320867622, -0.8403470210799748, 0.27784684716034863, 0.1822850299791254, -0.3697102441389198, -0.021692284748169602, -2.108941307116421, 0.31163343692776824, 2.283327532521014, -0.21171012089409746, -0.14660748153512856, 0.9344186636741401, -0.6106330572294365, -1.5392174683883328, -1.0058035991732786, 2.207169422150619, -1.9791714166370522, -0.7716556864796765, 0.42222551730076235, -0.790403471570592, 0.4827492291330723, 1.25811273044089, -0.4173142231933926, -1.683138705155208, -1.34399245571848, 0.4625126996712462, 1.2210567254188085, 0.07491053801766187, 1.6386682454467674, -0.5700560828390816, -1.200150895129222, -0.4816388445980546, -1.2599499551980429, 0.12748578860097046, -0.5886401471762375, 1.5612153234010075, 0.883110723570033, -0.6793443992951693, -1.7579488291595078, -0.6262305193938559, -0.597589289924199, 0.5975570794231981, -0.8338945349348488, 0.8538301101490644, -1.228745130925553, -0.07970988512138309, -1.5924974279353095, 0.9272268562201983, -0.14144485985252866, 0.6360884600335864, -0.6850117004071394, -0.3733130217574712, -1.6315284967377977, 0.7805667618604121, -0.5193183640984484, -0.7885902824548963, -0.23556747027558908, 1.1819720205400592, 0.5899214406180822], \"y\": [1.5740728987236858, -0.5204962324025592, 0.3784879080197764, 0.5665830926250587, 1.8307528761381824, 1.496398337103953, 0.319114278020899, 1.3241804073809924, -2.2199737044173027, 0.4069568095734938, 0.14826216989882013, -0.994303336633359, -0.36208520713052306, 1.7495268971863218, -0.4261065698300166, -1.7270517273707098, -2.357261283307402, 2.403928501039504, 0.6251246787404335, -0.004245790921073416, 1.6803335896006206, -0.7740097921221676, -0.17455728219713768, 0.5346934292088612, -0.16299832133350473, -1.6430005512614236, 0.1874046982263252, 0.3062098943756686, -1.075078115834331, -1.2214886703038546, -0.14724209756744944, 0.2429769271893512, -0.23269608358220994, 0.36352732895139045, 0.7934071373939708, -2.5011489951532644, -0.18797315258982397, 0.38603232777514507, 2.045463743570114, -0.26097071764894264, 0.550200525982311, -1.0767578575594094, 0.5983416714319514, -0.6321645924326897, -0.2766778496970904, 0.6695187229527138, 1.0353017178297368, 0.5761075611725717, 1.4718017958919445, -0.4896305364712738, 1.1538261951756705, 1.158823447440352, -0.8732216047844114, 1.520045712919522, 0.5910070115791487, -0.7236162689815163, -1.2718512751459379, 0.4412226470368304, 0.6634561156688739, -0.4577892833900473, 0.1318589819788368, -1.4368522046631298, -1.8395329503791198, -1.6492182544058702, -2.4797759739644487, 0.03894320353626314, -0.35092509075247313, 1.388297843133826, 0.11573851710811286, 0.3062732272678091, -0.46590267674086555, 0.5456442466695953, -0.5304629942227559, -0.4313314370468433, -0.08957726082416721, 1.1264734945274768, -0.9290255244862805, -1.7314167216950984, -0.30353773563327374, -0.4913771831551384, 1.1019884388012529, -1.1006777820996694, 0.02889859416952101, 0.7844200346560151, 0.4196265261180495, -0.6473364753369074, 0.42737665263402697, -1.5403520115571134, 0.425865498394857, -0.17886127476218783, -0.4685216389506663, -1.155388110493677, 0.46525913637554894, 0.9437691551712757, -0.744522351346594, -0.5107890860366717, -1.3104476513425958, -0.3659836777369112, -0.218182149822733, 0.5665569826426838]}],\n",
       "                        {\"legend\": {\"bgcolor\": \"#F5F6F9\", \"font\": {\"color\": \"#4D5663\"}}, \"paper_bgcolor\": \"#F5F6F9\", \"plot_bgcolor\": \"#F5F6F9\", \"template\": {\"data\": {\"bar\": [{\"error_x\": {\"color\": \"#2a3f5f\"}, \"error_y\": {\"color\": \"#2a3f5f\"}, \"marker\": {\"line\": {\"color\": \"#E5ECF6\", \"width\": 0.5}}, \"type\": \"bar\"}], \"barpolar\": [{\"marker\": {\"line\": {\"color\": \"#E5ECF6\", \"width\": 0.5}}, \"type\": \"barpolar\"}], \"carpet\": [{\"aaxis\": {\"endlinecolor\": \"#2a3f5f\", \"gridcolor\": \"white\", \"linecolor\": \"white\", \"minorgridcolor\": \"white\", \"startlinecolor\": \"#2a3f5f\"}, \"baxis\": {\"endlinecolor\": \"#2a3f5f\", \"gridcolor\": \"white\", \"linecolor\": \"white\", \"minorgridcolor\": \"white\", \"startlinecolor\": \"#2a3f5f\"}, \"type\": \"carpet\"}], \"choropleth\": [{\"colorbar\": {\"outlinewidth\": 0, \"ticks\": \"\"}, \"type\": \"choropleth\"}], \"contour\": [{\"colorbar\": {\"outlinewidth\": 0, \"ticks\": \"\"}, \"colorscale\": [[0.0, \"#0d0887\"], [0.1111111111111111, \"#46039f\"], [0.2222222222222222, \"#7201a8\"], [0.3333333333333333, \"#9c179e\"], [0.4444444444444444, \"#bd3786\"], [0.5555555555555556, \"#d8576b\"], [0.6666666666666666, \"#ed7953\"], [0.7777777777777778, \"#fb9f3a\"], [0.8888888888888888, \"#fdca26\"], [1.0, \"#f0f921\"]], \"type\": \"contour\"}], \"contourcarpet\": [{\"colorbar\": {\"outlinewidth\": 0, \"ticks\": \"\"}, \"type\": \"contourcarpet\"}], \"heatmap\": [{\"colorbar\": {\"outlinewidth\": 0, \"ticks\": \"\"}, \"colorscale\": [[0.0, \"#0d0887\"], [0.1111111111111111, \"#46039f\"], [0.2222222222222222, \"#7201a8\"], [0.3333333333333333, \"#9c179e\"], [0.4444444444444444, \"#bd3786\"], [0.5555555555555556, \"#d8576b\"], [0.6666666666666666, \"#ed7953\"], [0.7777777777777778, \"#fb9f3a\"], [0.8888888888888888, \"#fdca26\"], [1.0, \"#f0f921\"]], \"type\": \"heatmap\"}], \"heatmapgl\": [{\"colorbar\": {\"outlinewidth\": 0, \"ticks\": \"\"}, \"colorscale\": [[0.0, \"#0d0887\"], [0.1111111111111111, \"#46039f\"], [0.2222222222222222, \"#7201a8\"], [0.3333333333333333, \"#9c179e\"], [0.4444444444444444, \"#bd3786\"], [0.5555555555555556, \"#d8576b\"], [0.6666666666666666, \"#ed7953\"], [0.7777777777777778, \"#fb9f3a\"], [0.8888888888888888, \"#fdca26\"], [1.0, \"#f0f921\"]], \"type\": \"heatmapgl\"}], \"histogram\": [{\"marker\": {\"colorbar\": {\"outlinewidth\": 0, \"ticks\": \"\"}}, \"type\": \"histogram\"}], \"histogram2d\": [{\"colorbar\": {\"outlinewidth\": 0, \"ticks\": \"\"}, \"colorscale\": [[0.0, \"#0d0887\"], [0.1111111111111111, \"#46039f\"], [0.2222222222222222, \"#7201a8\"], [0.3333333333333333, \"#9c179e\"], [0.4444444444444444, \"#bd3786\"], [0.5555555555555556, \"#d8576b\"], [0.6666666666666666, \"#ed7953\"], [0.7777777777777778, \"#fb9f3a\"], [0.8888888888888888, \"#fdca26\"], [1.0, \"#f0f921\"]], \"type\": \"histogram2d\"}], \"histogram2dcontour\": [{\"colorbar\": {\"outlinewidth\": 0, \"ticks\": \"\"}, \"colorscale\": [[0.0, \"#0d0887\"], [0.1111111111111111, \"#46039f\"], [0.2222222222222222, \"#7201a8\"], [0.3333333333333333, \"#9c179e\"], [0.4444444444444444, \"#bd3786\"], [0.5555555555555556, \"#d8576b\"], [0.6666666666666666, \"#ed7953\"], [0.7777777777777778, \"#fb9f3a\"], [0.8888888888888888, \"#fdca26\"], [1.0, \"#f0f921\"]], \"type\": \"histogram2dcontour\"}], \"mesh3d\": [{\"colorbar\": {\"outlinewidth\": 0, \"ticks\": \"\"}, \"type\": \"mesh3d\"}], \"parcoords\": [{\"line\": {\"colorbar\": {\"outlinewidth\": 0, \"ticks\": \"\"}}, \"type\": \"parcoords\"}], \"pie\": [{\"automargin\": true, \"type\": \"pie\"}], \"scatter\": [{\"marker\": {\"colorbar\": {\"outlinewidth\": 0, \"ticks\": \"\"}}, \"type\": \"scatter\"}], \"scatter3d\": [{\"line\": {\"colorbar\": {\"outlinewidth\": 0, \"ticks\": \"\"}}, \"marker\": {\"colorbar\": {\"outlinewidth\": 0, \"ticks\": \"\"}}, \"type\": \"scatter3d\"}], \"scattercarpet\": [{\"marker\": {\"colorbar\": {\"outlinewidth\": 0, \"ticks\": \"\"}}, \"type\": \"scattercarpet\"}], \"scattergeo\": [{\"marker\": {\"colorbar\": {\"outlinewidth\": 0, \"ticks\": \"\"}}, \"type\": \"scattergeo\"}], \"scattergl\": [{\"marker\": {\"colorbar\": {\"outlinewidth\": 0, \"ticks\": \"\"}}, \"type\": \"scattergl\"}], \"scattermapbox\": [{\"marker\": {\"colorbar\": {\"outlinewidth\": 0, \"ticks\": \"\"}}, \"type\": \"scattermapbox\"}], \"scatterpolar\": [{\"marker\": {\"colorbar\": {\"outlinewidth\": 0, \"ticks\": \"\"}}, \"type\": \"scatterpolar\"}], \"scatterpolargl\": [{\"marker\": {\"colorbar\": {\"outlinewidth\": 0, \"ticks\": \"\"}}, \"type\": \"scatterpolargl\"}], \"scatterternary\": [{\"marker\": {\"colorbar\": {\"outlinewidth\": 0, \"ticks\": \"\"}}, \"type\": \"scatterternary\"}], \"surface\": [{\"colorbar\": {\"outlinewidth\": 0, \"ticks\": \"\"}, \"colorscale\": [[0.0, \"#0d0887\"], [0.1111111111111111, \"#46039f\"], [0.2222222222222222, \"#7201a8\"], [0.3333333333333333, \"#9c179e\"], [0.4444444444444444, \"#bd3786\"], [0.5555555555555556, \"#d8576b\"], [0.6666666666666666, \"#ed7953\"], [0.7777777777777778, \"#fb9f3a\"], [0.8888888888888888, \"#fdca26\"], [1.0, \"#f0f921\"]], \"type\": \"surface\"}], \"table\": [{\"cells\": {\"fill\": {\"color\": \"#EBF0F8\"}, \"line\": {\"color\": \"white\"}}, \"header\": {\"fill\": {\"color\": \"#C8D4E3\"}, \"line\": {\"color\": \"white\"}}, \"type\": \"table\"}]}, \"layout\": {\"annotationdefaults\": {\"arrowcolor\": \"#2a3f5f\", \"arrowhead\": 0, \"arrowwidth\": 1}, \"coloraxis\": {\"colorbar\": {\"outlinewidth\": 0, \"ticks\": \"\"}}, \"colorscale\": {\"diverging\": [[0, \"#8e0152\"], [0.1, \"#c51b7d\"], [0.2, \"#de77ae\"], [0.3, \"#f1b6da\"], [0.4, \"#fde0ef\"], [0.5, \"#f7f7f7\"], [0.6, \"#e6f5d0\"], [0.7, \"#b8e186\"], [0.8, \"#7fbc41\"], [0.9, \"#4d9221\"], [1, \"#276419\"]], \"sequential\": [[0.0, \"#0d0887\"], [0.1111111111111111, \"#46039f\"], [0.2222222222222222, \"#7201a8\"], [0.3333333333333333, \"#9c179e\"], [0.4444444444444444, \"#bd3786\"], [0.5555555555555556, \"#d8576b\"], [0.6666666666666666, \"#ed7953\"], [0.7777777777777778, \"#fb9f3a\"], [0.8888888888888888, \"#fdca26\"], [1.0, \"#f0f921\"]], \"sequentialminus\": [[0.0, \"#0d0887\"], [0.1111111111111111, \"#46039f\"], [0.2222222222222222, \"#7201a8\"], [0.3333333333333333, \"#9c179e\"], [0.4444444444444444, \"#bd3786\"], [0.5555555555555556, \"#d8576b\"], [0.6666666666666666, \"#ed7953\"], [0.7777777777777778, \"#fb9f3a\"], [0.8888888888888888, \"#fdca26\"], [1.0, \"#f0f921\"]]}, \"colorway\": [\"#636efa\", \"#EF553B\", \"#00cc96\", \"#ab63fa\", \"#FFA15A\", \"#19d3f3\", \"#FF6692\", \"#B6E880\", \"#FF97FF\", \"#FECB52\"], \"font\": {\"color\": \"#2a3f5f\"}, \"geo\": {\"bgcolor\": \"white\", \"lakecolor\": \"white\", \"landcolor\": \"#E5ECF6\", \"showlakes\": true, \"showland\": true, \"subunitcolor\": \"white\"}, \"hoverlabel\": {\"align\": \"left\"}, \"hovermode\": \"closest\", \"mapbox\": {\"style\": \"light\"}, \"paper_bgcolor\": \"white\", \"plot_bgcolor\": \"#E5ECF6\", \"polar\": {\"angularaxis\": {\"gridcolor\": \"white\", \"linecolor\": \"white\", \"ticks\": \"\"}, \"bgcolor\": \"#E5ECF6\", \"radialaxis\": {\"gridcolor\": \"white\", \"linecolor\": \"white\", \"ticks\": \"\"}}, \"scene\": {\"xaxis\": {\"backgroundcolor\": \"#E5ECF6\", \"gridcolor\": \"white\", \"gridwidth\": 2, \"linecolor\": \"white\", \"showbackground\": true, \"ticks\": \"\", \"zerolinecolor\": \"white\"}, \"yaxis\": {\"backgroundcolor\": \"#E5ECF6\", \"gridcolor\": \"white\", \"gridwidth\": 2, \"linecolor\": \"white\", \"showbackground\": true, \"ticks\": \"\", \"zerolinecolor\": \"white\"}, \"zaxis\": {\"backgroundcolor\": \"#E5ECF6\", \"gridcolor\": \"white\", \"gridwidth\": 2, \"linecolor\": \"white\", \"showbackground\": true, \"ticks\": \"\", \"zerolinecolor\": \"white\"}}, \"shapedefaults\": {\"line\": {\"color\": \"#2a3f5f\"}}, \"ternary\": {\"aaxis\": {\"gridcolor\": \"white\", \"linecolor\": \"white\", \"ticks\": \"\"}, \"baxis\": {\"gridcolor\": \"white\", \"linecolor\": \"white\", \"ticks\": \"\"}, \"bgcolor\": \"#E5ECF6\", \"caxis\": {\"gridcolor\": \"white\", \"linecolor\": \"white\", \"ticks\": \"\"}}, \"title\": {\"x\": 0.05}, \"xaxis\": {\"automargin\": true, \"gridcolor\": \"white\", \"linecolor\": \"white\", \"ticks\": \"\", \"title\": {\"standoff\": 15}, \"zerolinecolor\": \"white\", \"zerolinewidth\": 2}, \"yaxis\": {\"automargin\": true, \"gridcolor\": \"white\", \"linecolor\": \"white\", \"ticks\": \"\", \"title\": {\"standoff\": 15}, \"zerolinecolor\": \"white\", \"zerolinewidth\": 2}}}, \"title\": {\"font\": {\"color\": \"#4D5663\"}}, \"xaxis\": {\"gridcolor\": \"#E1E5ED\", \"showgrid\": true, \"tickfont\": {\"color\": \"#4D5663\"}, \"title\": {\"font\": {\"color\": \"#4D5663\"}, \"text\": \"\"}, \"zerolinecolor\": \"#E1E5ED\"}, \"yaxis\": {\"gridcolor\": \"#E1E5ED\", \"showgrid\": true, \"tickfont\": {\"color\": \"#4D5663\"}, \"title\": {\"font\": {\"color\": \"#4D5663\"}, \"text\": \"\"}, \"zerolinecolor\": \"#E1E5ED\"}},\n",
       "                        {\"showLink\": true, \"linkText\": \"Export to plot.ly\", \"plotlyServerURL\": \"https://plot.ly\", \"responsive\": true}\n",
       "                    ).then(function(){\n",
       "                            \n",
       "var gd = document.getElementById('eece1f0d-f4f4-4a08-8466-24287ffc1c6a');\n",
       "var x = new MutationObserver(function (mutations, observer) {{\n",
       "        var display = window.getComputedStyle(gd).display;\n",
       "        if (!display || display === 'none') {{\n",
       "            console.log([gd, 'removed!']);\n",
       "            Plotly.purge(gd);\n",
       "            observer.disconnect();\n",
       "        }}\n",
       "}});\n",
       "\n",
       "// Listen for the removal of the full notebook cells\n",
       "var notebookContainer = gd.closest('#notebook-container');\n",
       "if (notebookContainer) {{\n",
       "    x.observe(notebookContainer, {childList: true});\n",
       "}}\n",
       "\n",
       "// Listen for the clearing of the current output cell\n",
       "var outputEl = gd.closest('.output');\n",
       "if (outputEl) {{\n",
       "    x.observe(outputEl, {childList: true});\n",
       "}}\n",
       "\n",
       "                        })\n",
       "                };\n",
       "                });\n",
       "            </script>\n",
       "        </div>"
      ]
     },
     "metadata": {},
     "output_type": "display_data"
    }
   ],
   "source": [
    "df.iplot(kind='bubble',x='A',y='B',size='C')"
   ]
  },
  {
   "cell_type": "markdown",
   "metadata": {},
   "source": [
    "## scatter_matrix()\n",
    "\n",
    "Similar to sns.pairplot()"
   ]
  },
  {
   "cell_type": "code",
   "execution_count": 18,
   "metadata": {},
   "outputs": [
    {
     "data": {
      "application/vnd.plotly.v1+json": {
       "config": {
        "linkText": "Export to plot.ly",
        "plotlyServerURL": "https://plot.ly",
        "showLink": true
       },
       "data": [
        {
         "histfunc": "count",
         "histnorm": "",
         "marker": {
          "color": "rgba(255, 153, 51, 1.0)",
          "line": {
           "color": "#4D5663",
           "width": 1.3
          }
         },
         "name": "A",
         "nbinsx": 10,
         "opacity": 0.8,
         "orientation": "v",
         "type": "histogram",
         "x": [
          -0.28658062289161507,
          2.8713810642415774,
          -0.8356058485756809,
          0.015123707936464765,
          -0.36393332536263484,
          2.341958955914593,
          0.026375334658533516,
          -0.8912079656500846,
          1.5259075076059636,
          -0.7251464655554153,
          -2.208567554152265,
          0.8160362211716472,
          0.1352305382758277,
          -0.07773618163611463,
          -1.6218256058133913,
          -1.4461184112948848,
          -0.9432178303375855,
          0.11042142518952364,
          0.22210119025882,
          0.29314536564232757,
          -1.3667737782574663,
          2.1170959584160776,
          -1.9885300360304687,
          0.3009043264085271,
          1.4900545862313435,
          0.16707632821401622,
          0.9089693366488185,
          -0.5309538275682677,
          -0.5645450618475066,
          1.6180166982761703,
          0.7121765540358281,
          -0.7133586311906459,
          0.5262454614186426,
          -0.6978902815960228,
          0.6315922215150983,
          1.0230806194359456,
          0.3552860393922047,
          -0.5659277005265211,
          -0.04418343728629043,
          0.28347053779399023,
          2.0322264650736446,
          -0.7523401320867622,
          -0.8403470210799748,
          0.27784684716034863,
          0.1822850299791254,
          -0.3697102441389198,
          -0.021692284748169602,
          -2.108941307116421,
          0.31163343692776824,
          2.283327532521014,
          -0.21171012089409746,
          -0.14660748153512856,
          0.9344186636741401,
          -0.6106330572294365,
          -1.5392174683883328,
          -1.0058035991732786,
          2.207169422150619,
          -1.9791714166370522,
          -0.7716556864796765,
          0.42222551730076235,
          -0.790403471570592,
          0.4827492291330723,
          1.25811273044089,
          -0.4173142231933926,
          -1.683138705155208,
          -1.34399245571848,
          0.4625126996712462,
          1.2210567254188085,
          0.07491053801766187,
          1.6386682454467674,
          -0.5700560828390816,
          -1.200150895129222,
          -0.4816388445980546,
          -1.2599499551980429,
          0.12748578860097046,
          -0.5886401471762375,
          1.5612153234010075,
          0.883110723570033,
          -0.6793443992951693,
          -1.7579488291595078,
          -0.6262305193938559,
          -0.597589289924199,
          0.5975570794231981,
          -0.8338945349348488,
          0.8538301101490644,
          -1.228745130925553,
          -0.07970988512138309,
          -1.5924974279353095,
          0.9272268562201983,
          -0.14144485985252866,
          0.6360884600335864,
          -0.6850117004071394,
          -0.3733130217574712,
          -1.6315284967377977,
          0.7805667618604121,
          -0.5193183640984484,
          -0.7885902824548963,
          -0.23556747027558908,
          1.1819720205400592,
          0.5899214406180822
         ],
         "xaxis": "x",
         "yaxis": "y"
        },
        {
         "line": {
          "color": "rgba(128, 128, 128, 1.0)",
          "dash": "solid",
          "shape": "linear",
          "width": 1.3
         },
         "marker": {
          "size": 2,
          "symbol": "circle"
         },
         "mode": "markers",
         "name": "A",
         "text": "",
         "type": "scatter",
         "x": [
          1.5740728987236858,
          -0.5204962324025592,
          0.3784879080197764,
          0.5665830926250587,
          1.8307528761381824,
          1.496398337103953,
          0.319114278020899,
          1.3241804073809924,
          -2.2199737044173027,
          0.4069568095734938,
          0.14826216989882013,
          -0.994303336633359,
          -0.36208520713052306,
          1.7495268971863218,
          -0.4261065698300166,
          -1.7270517273707098,
          -2.357261283307402,
          2.403928501039504,
          0.6251246787404335,
          -0.004245790921073416,
          1.6803335896006206,
          -0.7740097921221676,
          -0.17455728219713768,
          0.5346934292088612,
          -0.16299832133350473,
          -1.6430005512614236,
          0.1874046982263252,
          0.3062098943756686,
          -1.075078115834331,
          -1.2214886703038546,
          -0.14724209756744944,
          0.2429769271893512,
          -0.23269608358220994,
          0.36352732895139045,
          0.7934071373939708,
          -2.5011489951532644,
          -0.18797315258982397,
          0.38603232777514507,
          2.045463743570114,
          -0.26097071764894264,
          0.550200525982311,
          -1.0767578575594094,
          0.5983416714319514,
          -0.6321645924326897,
          -0.2766778496970904,
          0.6695187229527138,
          1.0353017178297368,
          0.5761075611725717,
          1.4718017958919445,
          -0.4896305364712738,
          1.1538261951756705,
          1.158823447440352,
          -0.8732216047844114,
          1.520045712919522,
          0.5910070115791487,
          -0.7236162689815163,
          -1.2718512751459379,
          0.4412226470368304,
          0.6634561156688739,
          -0.4577892833900473,
          0.1318589819788368,
          -1.4368522046631298,
          -1.8395329503791198,
          -1.6492182544058702,
          -2.4797759739644487,
          0.03894320353626314,
          -0.35092509075247313,
          1.388297843133826,
          0.11573851710811286,
          0.3062732272678091,
          -0.46590267674086555,
          0.5456442466695953,
          -0.5304629942227559,
          -0.4313314370468433,
          -0.08957726082416721,
          1.1264734945274768,
          -0.9290255244862805,
          -1.7314167216950984,
          -0.30353773563327374,
          -0.4913771831551384,
          1.1019884388012529,
          -1.1006777820996694,
          0.02889859416952101,
          0.7844200346560151,
          0.4196265261180495,
          -0.6473364753369074,
          0.42737665263402697,
          -1.5403520115571134,
          0.425865498394857,
          -0.17886127476218783,
          -0.4685216389506663,
          -1.155388110493677,
          0.46525913637554894,
          0.9437691551712757,
          -0.744522351346594,
          -0.5107890860366717,
          -1.3104476513425958,
          -0.3659836777369112,
          -0.218182149822733,
          0.5665569826426838
         ],
         "xaxis": "x2",
         "y": [
          -0.28658062289161507,
          2.8713810642415774,
          -0.8356058485756809,
          0.015123707936464765,
          -0.36393332536263484,
          2.341958955914593,
          0.026375334658533516,
          -0.8912079656500846,
          1.5259075076059636,
          -0.7251464655554153,
          -2.208567554152265,
          0.8160362211716472,
          0.1352305382758277,
          -0.07773618163611463,
          -1.6218256058133913,
          -1.4461184112948848,
          -0.9432178303375855,
          0.11042142518952364,
          0.22210119025882,
          0.29314536564232757,
          -1.3667737782574663,
          2.1170959584160776,
          -1.9885300360304687,
          0.3009043264085271,
          1.4900545862313435,
          0.16707632821401622,
          0.9089693366488185,
          -0.5309538275682677,
          -0.5645450618475066,
          1.6180166982761703,
          0.7121765540358281,
          -0.7133586311906459,
          0.5262454614186426,
          -0.6978902815960228,
          0.6315922215150983,
          1.0230806194359456,
          0.3552860393922047,
          -0.5659277005265211,
          -0.04418343728629043,
          0.28347053779399023,
          2.0322264650736446,
          -0.7523401320867622,
          -0.8403470210799748,
          0.27784684716034863,
          0.1822850299791254,
          -0.3697102441389198,
          -0.021692284748169602,
          -2.108941307116421,
          0.31163343692776824,
          2.283327532521014,
          -0.21171012089409746,
          -0.14660748153512856,
          0.9344186636741401,
          -0.6106330572294365,
          -1.5392174683883328,
          -1.0058035991732786,
          2.207169422150619,
          -1.9791714166370522,
          -0.7716556864796765,
          0.42222551730076235,
          -0.790403471570592,
          0.4827492291330723,
          1.25811273044089,
          -0.4173142231933926,
          -1.683138705155208,
          -1.34399245571848,
          0.4625126996712462,
          1.2210567254188085,
          0.07491053801766187,
          1.6386682454467674,
          -0.5700560828390816,
          -1.200150895129222,
          -0.4816388445980546,
          -1.2599499551980429,
          0.12748578860097046,
          -0.5886401471762375,
          1.5612153234010075,
          0.883110723570033,
          -0.6793443992951693,
          -1.7579488291595078,
          -0.6262305193938559,
          -0.597589289924199,
          0.5975570794231981,
          -0.8338945349348488,
          0.8538301101490644,
          -1.228745130925553,
          -0.07970988512138309,
          -1.5924974279353095,
          0.9272268562201983,
          -0.14144485985252866,
          0.6360884600335864,
          -0.6850117004071394,
          -0.3733130217574712,
          -1.6315284967377977,
          0.7805667618604121,
          -0.5193183640984484,
          -0.7885902824548963,
          -0.23556747027558908,
          1.1819720205400592,
          0.5899214406180822
         ],
         "yaxis": "y2"
        },
        {
         "line": {
          "color": "rgba(128, 128, 128, 1.0)",
          "dash": "solid",
          "shape": "linear",
          "width": 1.3
         },
         "marker": {
          "size": 2,
          "symbol": "circle"
         },
         "mode": "markers",
         "name": "A",
         "text": "",
         "type": "scatter",
         "x": [
          -1.459603748949274,
          0.36084732152997506,
          -0.5087937897803205,
          -0.6625875564515807,
          0.0458571320132211,
          -0.22353172948762665,
          -0.021676901168215516,
          1.0109969799556564,
          0.1548417939707732,
          1.5246861097068372,
          0.3843073754188259,
          -0.2877351727481541,
          -0.8850510395471989,
          0.2302827746108358,
          -1.046706085000357,
          0.4903825137117322,
          -0.8882765471260752,
          -0.6635904192407448,
          -0.7849761458065712,
          0.22187755364367384,
          -0.08579259749363648,
          -0.6798487451416599,
          -0.13465838813595868,
          0.966528711550423,
          -0.8939417164300886,
          0.5092521728758914,
          1.3813890362258592,
          -0.6000915663898146,
          -0.5198908129046946,
          0.06811418698271128,
          -1.3801924853538312,
          1.4507628195644844,
          0.056975942253230986,
          1.065230071169316,
          2.2980625224378404,
          -0.5438322888356067,
          -2.1762460325655524,
          -1.4241602029776532,
          1.530180390020162,
          -0.9119662893511137,
          -0.7638120477535097,
          -0.4858369466878768,
          -0.3364749472572307,
          0.10144804129609479,
          -1.2162676038013833,
          -0.7566384634161051,
          -1.198459931518552,
          -0.8318366424691529,
          1.1237094110646053,
          -0.31324383939626116,
          -1.0631440705709407,
          -0.13236752637785063,
          2.3832147031217166,
          1.0462176836057986,
          -0.6171526303962681,
          0.2857308516819357,
          0.16104524787882576,
          -0.5319241247372348,
          -1.4777798506329485,
          -1.221479308539262,
          0.6371917427808321,
          -0.3521472610364796,
          0.3323907752437583,
          0.4690092849237108,
          -0.9787983865768881,
          2.97356807674231,
          -0.2917970357274098,
          -0.2787513946556441,
          0.08316931315076394,
          0.787785337972341,
          0.6490432539715015,
          0.44608689200473245,
          -0.8758569022651723,
          1.3879867128830092,
          1.5037583750280177,
          -0.21114615035189996,
          -0.4181473771800166,
          0.9693102074920084,
          0.2736780087250651,
          -0.48850396744306007,
          2.367476751301778,
          0.6726810623673567,
          -1.240595925016922,
          -1.5673391878627263,
          -0.6187053188840654,
          0.17192069629634585,
          0.5106228718980147,
          0.9843033390360832,
          -2.205254245222359,
          -0.9781287793982962,
          0.6504552688513575,
          0.5176419431393856,
          0.8207147676081725,
          0.19596478523855554,
          1.1095332252866947,
          -0.04085314220983656,
          -0.6129619868855157,
          0.8626754226526893,
          0.9921214949750415,
          -0.28417173462493367
         ],
         "xaxis": "x3",
         "y": [
          -0.28658062289161507,
          2.8713810642415774,
          -0.8356058485756809,
          0.015123707936464765,
          -0.36393332536263484,
          2.341958955914593,
          0.026375334658533516,
          -0.8912079656500846,
          1.5259075076059636,
          -0.7251464655554153,
          -2.208567554152265,
          0.8160362211716472,
          0.1352305382758277,
          -0.07773618163611463,
          -1.6218256058133913,
          -1.4461184112948848,
          -0.9432178303375855,
          0.11042142518952364,
          0.22210119025882,
          0.29314536564232757,
          -1.3667737782574663,
          2.1170959584160776,
          -1.9885300360304687,
          0.3009043264085271,
          1.4900545862313435,
          0.16707632821401622,
          0.9089693366488185,
          -0.5309538275682677,
          -0.5645450618475066,
          1.6180166982761703,
          0.7121765540358281,
          -0.7133586311906459,
          0.5262454614186426,
          -0.6978902815960228,
          0.6315922215150983,
          1.0230806194359456,
          0.3552860393922047,
          -0.5659277005265211,
          -0.04418343728629043,
          0.28347053779399023,
          2.0322264650736446,
          -0.7523401320867622,
          -0.8403470210799748,
          0.27784684716034863,
          0.1822850299791254,
          -0.3697102441389198,
          -0.021692284748169602,
          -2.108941307116421,
          0.31163343692776824,
          2.283327532521014,
          -0.21171012089409746,
          -0.14660748153512856,
          0.9344186636741401,
          -0.6106330572294365,
          -1.5392174683883328,
          -1.0058035991732786,
          2.207169422150619,
          -1.9791714166370522,
          -0.7716556864796765,
          0.42222551730076235,
          -0.790403471570592,
          0.4827492291330723,
          1.25811273044089,
          -0.4173142231933926,
          -1.683138705155208,
          -1.34399245571848,
          0.4625126996712462,
          1.2210567254188085,
          0.07491053801766187,
          1.6386682454467674,
          -0.5700560828390816,
          -1.200150895129222,
          -0.4816388445980546,
          -1.2599499551980429,
          0.12748578860097046,
          -0.5886401471762375,
          1.5612153234010075,
          0.883110723570033,
          -0.6793443992951693,
          -1.7579488291595078,
          -0.6262305193938559,
          -0.597589289924199,
          0.5975570794231981,
          -0.8338945349348488,
          0.8538301101490644,
          -1.228745130925553,
          -0.07970988512138309,
          -1.5924974279353095,
          0.9272268562201983,
          -0.14144485985252866,
          0.6360884600335864,
          -0.6850117004071394,
          -0.3733130217574712,
          -1.6315284967377977,
          0.7805667618604121,
          -0.5193183640984484,
          -0.7885902824548963,
          -0.23556747027558908,
          1.1819720205400592,
          0.5899214406180822
         ],
         "yaxis": "y3"
        },
        {
         "line": {
          "color": "rgba(128, 128, 128, 1.0)",
          "dash": "solid",
          "shape": "linear",
          "width": 1.3
         },
         "marker": {
          "size": 2,
          "symbol": "circle"
         },
         "mode": "markers",
         "name": "A",
         "text": "",
         "type": "scatter",
         "x": [
          -0.36843748489429834,
          1.573663816086213,
          0.02138200976566842,
          0.09654713224552525,
          -0.047453224701537323,
          0.19622404390633058,
          -1.4677936505717069,
          0.16847265438597325,
          0.8541469774260697,
          0.2787115744318224,
          0.2550509546971101,
          0.9738398424872442,
          0.983756412376006,
          1.772138932320897,
          0.2824125191366073,
          0.9581503693015755,
          -0.3361136095239392,
          -0.778480643711259,
          -0.9196675746383206,
          -0.4561399435716179,
          0.7041234511118704,
          0.3840654521028457,
          1.2950270337210947,
          0.6520895803806986,
          -0.0701065374551447,
          -0.3481889467794823,
          -0.6025996440367895,
          0.5835089076878452,
          -0.9173006873679831,
          -0.388789211938765,
          -0.05626037443823479,
          0.29977723032350884,
          -1.069382235219236,
          0.3661278665663814,
          -1.4716019963433775,
          1.9294763779525,
          -0.6651992094661,
          1.2431585052103853,
          -1.9778747169690416,
          0.8671612185490913,
          0.9597034807362329,
          1.0530172473875836,
          1.0865771233924328,
          -0.6892158985281919,
          -0.5111063538918155,
          -1.9983789038577662,
          0.3289294047544934,
          0.015385363824137958,
          -0.4263665325461509,
          -1.1962971179633408,
          -1.0435130317124692,
          0.14676810520402261,
          1.063304322212356,
          -0.7478226448765005,
          0.0708499838115726,
          -0.3180811548485733,
          1.1348019060076748,
          -0.7861733179740832,
          0.004055630047339287,
          -1.1346642149642945,
          -1.3326823461805832,
          -1.0040126391624085,
          -0.17188924005764283,
          0.5509683892587323,
          -0.452522836687102,
          0.0009431348771666263,
          -1.2927352123949698,
          0.5611517113309042,
          1.6200799067948002,
          0.01977779447726261,
          -0.5057438199862079,
          1.5999214592923323,
          1.2056673567899268,
          -0.1133304445461091,
          -0.25843540882497096,
          -0.49604262118574804,
          -0.5813188784086023,
          0.5369546139775898,
          -1.085308804635807,
          1.1317928950545155,
          0.7869883636718725,
          0.8669532867871689,
          0.31442152763111986,
          -0.25181868463329665,
          -0.353538895855213,
          0.6575515102646519,
          0.8844318658347354,
          0.9146142997540004,
          1.5814732505843072,
          1.0245868131797415,
          -0.20542797464316637,
          0.46519878109736074,
          1.4325880132038897,
          -0.18531066682896988,
          -0.05846328750282914,
          0.17497434563087624,
          0.4406593327552767,
          -0.8772898092345249,
          -1.5108087138812814,
          -1.041379052269372
         ],
         "xaxis": "x4",
         "y": [
          -0.28658062289161507,
          2.8713810642415774,
          -0.8356058485756809,
          0.015123707936464765,
          -0.36393332536263484,
          2.341958955914593,
          0.026375334658533516,
          -0.8912079656500846,
          1.5259075076059636,
          -0.7251464655554153,
          -2.208567554152265,
          0.8160362211716472,
          0.1352305382758277,
          -0.07773618163611463,
          -1.6218256058133913,
          -1.4461184112948848,
          -0.9432178303375855,
          0.11042142518952364,
          0.22210119025882,
          0.29314536564232757,
          -1.3667737782574663,
          2.1170959584160776,
          -1.9885300360304687,
          0.3009043264085271,
          1.4900545862313435,
          0.16707632821401622,
          0.9089693366488185,
          -0.5309538275682677,
          -0.5645450618475066,
          1.6180166982761703,
          0.7121765540358281,
          -0.7133586311906459,
          0.5262454614186426,
          -0.6978902815960228,
          0.6315922215150983,
          1.0230806194359456,
          0.3552860393922047,
          -0.5659277005265211,
          -0.04418343728629043,
          0.28347053779399023,
          2.0322264650736446,
          -0.7523401320867622,
          -0.8403470210799748,
          0.27784684716034863,
          0.1822850299791254,
          -0.3697102441389198,
          -0.021692284748169602,
          -2.108941307116421,
          0.31163343692776824,
          2.283327532521014,
          -0.21171012089409746,
          -0.14660748153512856,
          0.9344186636741401,
          -0.6106330572294365,
          -1.5392174683883328,
          -1.0058035991732786,
          2.207169422150619,
          -1.9791714166370522,
          -0.7716556864796765,
          0.42222551730076235,
          -0.790403471570592,
          0.4827492291330723,
          1.25811273044089,
          -0.4173142231933926,
          -1.683138705155208,
          -1.34399245571848,
          0.4625126996712462,
          1.2210567254188085,
          0.07491053801766187,
          1.6386682454467674,
          -0.5700560828390816,
          -1.200150895129222,
          -0.4816388445980546,
          -1.2599499551980429,
          0.12748578860097046,
          -0.5886401471762375,
          1.5612153234010075,
          0.883110723570033,
          -0.6793443992951693,
          -1.7579488291595078,
          -0.6262305193938559,
          -0.597589289924199,
          0.5975570794231981,
          -0.8338945349348488,
          0.8538301101490644,
          -1.228745130925553,
          -0.07970988512138309,
          -1.5924974279353095,
          0.9272268562201983,
          -0.14144485985252866,
          0.6360884600335864,
          -0.6850117004071394,
          -0.3733130217574712,
          -1.6315284967377977,
          0.7805667618604121,
          -0.5193183640984484,
          -0.7885902824548963,
          -0.23556747027558908,
          1.1819720205400592,
          0.5899214406180822
         ],
         "yaxis": "y4"
        },
        {
         "line": {
          "color": "rgba(128, 128, 128, 1.0)",
          "dash": "solid",
          "shape": "linear",
          "width": 1.3
         },
         "marker": {
          "size": 2,
          "symbol": "circle"
         },
         "mode": "markers",
         "name": "B",
         "text": "",
         "type": "scatter",
         "x": [
          -0.28658062289161507,
          2.8713810642415774,
          -0.8356058485756809,
          0.015123707936464765,
          -0.36393332536263484,
          2.341958955914593,
          0.026375334658533516,
          -0.8912079656500846,
          1.5259075076059636,
          -0.7251464655554153,
          -2.208567554152265,
          0.8160362211716472,
          0.1352305382758277,
          -0.07773618163611463,
          -1.6218256058133913,
          -1.4461184112948848,
          -0.9432178303375855,
          0.11042142518952364,
          0.22210119025882,
          0.29314536564232757,
          -1.3667737782574663,
          2.1170959584160776,
          -1.9885300360304687,
          0.3009043264085271,
          1.4900545862313435,
          0.16707632821401622,
          0.9089693366488185,
          -0.5309538275682677,
          -0.5645450618475066,
          1.6180166982761703,
          0.7121765540358281,
          -0.7133586311906459,
          0.5262454614186426,
          -0.6978902815960228,
          0.6315922215150983,
          1.0230806194359456,
          0.3552860393922047,
          -0.5659277005265211,
          -0.04418343728629043,
          0.28347053779399023,
          2.0322264650736446,
          -0.7523401320867622,
          -0.8403470210799748,
          0.27784684716034863,
          0.1822850299791254,
          -0.3697102441389198,
          -0.021692284748169602,
          -2.108941307116421,
          0.31163343692776824,
          2.283327532521014,
          -0.21171012089409746,
          -0.14660748153512856,
          0.9344186636741401,
          -0.6106330572294365,
          -1.5392174683883328,
          -1.0058035991732786,
          2.207169422150619,
          -1.9791714166370522,
          -0.7716556864796765,
          0.42222551730076235,
          -0.790403471570592,
          0.4827492291330723,
          1.25811273044089,
          -0.4173142231933926,
          -1.683138705155208,
          -1.34399245571848,
          0.4625126996712462,
          1.2210567254188085,
          0.07491053801766187,
          1.6386682454467674,
          -0.5700560828390816,
          -1.200150895129222,
          -0.4816388445980546,
          -1.2599499551980429,
          0.12748578860097046,
          -0.5886401471762375,
          1.5612153234010075,
          0.883110723570033,
          -0.6793443992951693,
          -1.7579488291595078,
          -0.6262305193938559,
          -0.597589289924199,
          0.5975570794231981,
          -0.8338945349348488,
          0.8538301101490644,
          -1.228745130925553,
          -0.07970988512138309,
          -1.5924974279353095,
          0.9272268562201983,
          -0.14144485985252866,
          0.6360884600335864,
          -0.6850117004071394,
          -0.3733130217574712,
          -1.6315284967377977,
          0.7805667618604121,
          -0.5193183640984484,
          -0.7885902824548963,
          -0.23556747027558908,
          1.1819720205400592,
          0.5899214406180822
         ],
         "xaxis": "x5",
         "y": [
          1.5740728987236858,
          -0.5204962324025592,
          0.3784879080197764,
          0.5665830926250587,
          1.8307528761381824,
          1.496398337103953,
          0.319114278020899,
          1.3241804073809924,
          -2.2199737044173027,
          0.4069568095734938,
          0.14826216989882013,
          -0.994303336633359,
          -0.36208520713052306,
          1.7495268971863218,
          -0.4261065698300166,
          -1.7270517273707098,
          -2.357261283307402,
          2.403928501039504,
          0.6251246787404335,
          -0.004245790921073416,
          1.6803335896006206,
          -0.7740097921221676,
          -0.17455728219713768,
          0.5346934292088612,
          -0.16299832133350473,
          -1.6430005512614236,
          0.1874046982263252,
          0.3062098943756686,
          -1.075078115834331,
          -1.2214886703038546,
          -0.14724209756744944,
          0.2429769271893512,
          -0.23269608358220994,
          0.36352732895139045,
          0.7934071373939708,
          -2.5011489951532644,
          -0.18797315258982397,
          0.38603232777514507,
          2.045463743570114,
          -0.26097071764894264,
          0.550200525982311,
          -1.0767578575594094,
          0.5983416714319514,
          -0.6321645924326897,
          -0.2766778496970904,
          0.6695187229527138,
          1.0353017178297368,
          0.5761075611725717,
          1.4718017958919445,
          -0.4896305364712738,
          1.1538261951756705,
          1.158823447440352,
          -0.8732216047844114,
          1.520045712919522,
          0.5910070115791487,
          -0.7236162689815163,
          -1.2718512751459379,
          0.4412226470368304,
          0.6634561156688739,
          -0.4577892833900473,
          0.1318589819788368,
          -1.4368522046631298,
          -1.8395329503791198,
          -1.6492182544058702,
          -2.4797759739644487,
          0.03894320353626314,
          -0.35092509075247313,
          1.388297843133826,
          0.11573851710811286,
          0.3062732272678091,
          -0.46590267674086555,
          0.5456442466695953,
          -0.5304629942227559,
          -0.4313314370468433,
          -0.08957726082416721,
          1.1264734945274768,
          -0.9290255244862805,
          -1.7314167216950984,
          -0.30353773563327374,
          -0.4913771831551384,
          1.1019884388012529,
          -1.1006777820996694,
          0.02889859416952101,
          0.7844200346560151,
          0.4196265261180495,
          -0.6473364753369074,
          0.42737665263402697,
          -1.5403520115571134,
          0.425865498394857,
          -0.17886127476218783,
          -0.4685216389506663,
          -1.155388110493677,
          0.46525913637554894,
          0.9437691551712757,
          -0.744522351346594,
          -0.5107890860366717,
          -1.3104476513425958,
          -0.3659836777369112,
          -0.218182149822733,
          0.5665569826426838
         ],
         "yaxis": "y5"
        },
        {
         "histfunc": "count",
         "histnorm": "",
         "marker": {
          "color": "rgba(55, 128, 191, 1.0)",
          "line": {
           "color": "#4D5663",
           "width": 1.3
          }
         },
         "name": "B",
         "nbinsx": 10,
         "opacity": 0.8,
         "orientation": "v",
         "type": "histogram",
         "x": [
          1.5740728987236858,
          -0.5204962324025592,
          0.3784879080197764,
          0.5665830926250587,
          1.8307528761381824,
          1.496398337103953,
          0.319114278020899,
          1.3241804073809924,
          -2.2199737044173027,
          0.4069568095734938,
          0.14826216989882013,
          -0.994303336633359,
          -0.36208520713052306,
          1.7495268971863218,
          -0.4261065698300166,
          -1.7270517273707098,
          -2.357261283307402,
          2.403928501039504,
          0.6251246787404335,
          -0.004245790921073416,
          1.6803335896006206,
          -0.7740097921221676,
          -0.17455728219713768,
          0.5346934292088612,
          -0.16299832133350473,
          -1.6430005512614236,
          0.1874046982263252,
          0.3062098943756686,
          -1.075078115834331,
          -1.2214886703038546,
          -0.14724209756744944,
          0.2429769271893512,
          -0.23269608358220994,
          0.36352732895139045,
          0.7934071373939708,
          -2.5011489951532644,
          -0.18797315258982397,
          0.38603232777514507,
          2.045463743570114,
          -0.26097071764894264,
          0.550200525982311,
          -1.0767578575594094,
          0.5983416714319514,
          -0.6321645924326897,
          -0.2766778496970904,
          0.6695187229527138,
          1.0353017178297368,
          0.5761075611725717,
          1.4718017958919445,
          -0.4896305364712738,
          1.1538261951756705,
          1.158823447440352,
          -0.8732216047844114,
          1.520045712919522,
          0.5910070115791487,
          -0.7236162689815163,
          -1.2718512751459379,
          0.4412226470368304,
          0.6634561156688739,
          -0.4577892833900473,
          0.1318589819788368,
          -1.4368522046631298,
          -1.8395329503791198,
          -1.6492182544058702,
          -2.4797759739644487,
          0.03894320353626314,
          -0.35092509075247313,
          1.388297843133826,
          0.11573851710811286,
          0.3062732272678091,
          -0.46590267674086555,
          0.5456442466695953,
          -0.5304629942227559,
          -0.4313314370468433,
          -0.08957726082416721,
          1.1264734945274768,
          -0.9290255244862805,
          -1.7314167216950984,
          -0.30353773563327374,
          -0.4913771831551384,
          1.1019884388012529,
          -1.1006777820996694,
          0.02889859416952101,
          0.7844200346560151,
          0.4196265261180495,
          -0.6473364753369074,
          0.42737665263402697,
          -1.5403520115571134,
          0.425865498394857,
          -0.17886127476218783,
          -0.4685216389506663,
          -1.155388110493677,
          0.46525913637554894,
          0.9437691551712757,
          -0.744522351346594,
          -0.5107890860366717,
          -1.3104476513425958,
          -0.3659836777369112,
          -0.218182149822733,
          0.5665569826426838
         ],
         "xaxis": "x6",
         "yaxis": "y6"
        },
        {
         "line": {
          "color": "rgba(128, 128, 128, 1.0)",
          "dash": "solid",
          "shape": "linear",
          "width": 1.3
         },
         "marker": {
          "size": 2,
          "symbol": "circle"
         },
         "mode": "markers",
         "name": "B",
         "text": "",
         "type": "scatter",
         "x": [
          -1.459603748949274,
          0.36084732152997506,
          -0.5087937897803205,
          -0.6625875564515807,
          0.0458571320132211,
          -0.22353172948762665,
          -0.021676901168215516,
          1.0109969799556564,
          0.1548417939707732,
          1.5246861097068372,
          0.3843073754188259,
          -0.2877351727481541,
          -0.8850510395471989,
          0.2302827746108358,
          -1.046706085000357,
          0.4903825137117322,
          -0.8882765471260752,
          -0.6635904192407448,
          -0.7849761458065712,
          0.22187755364367384,
          -0.08579259749363648,
          -0.6798487451416599,
          -0.13465838813595868,
          0.966528711550423,
          -0.8939417164300886,
          0.5092521728758914,
          1.3813890362258592,
          -0.6000915663898146,
          -0.5198908129046946,
          0.06811418698271128,
          -1.3801924853538312,
          1.4507628195644844,
          0.056975942253230986,
          1.065230071169316,
          2.2980625224378404,
          -0.5438322888356067,
          -2.1762460325655524,
          -1.4241602029776532,
          1.530180390020162,
          -0.9119662893511137,
          -0.7638120477535097,
          -0.4858369466878768,
          -0.3364749472572307,
          0.10144804129609479,
          -1.2162676038013833,
          -0.7566384634161051,
          -1.198459931518552,
          -0.8318366424691529,
          1.1237094110646053,
          -0.31324383939626116,
          -1.0631440705709407,
          -0.13236752637785063,
          2.3832147031217166,
          1.0462176836057986,
          -0.6171526303962681,
          0.2857308516819357,
          0.16104524787882576,
          -0.5319241247372348,
          -1.4777798506329485,
          -1.221479308539262,
          0.6371917427808321,
          -0.3521472610364796,
          0.3323907752437583,
          0.4690092849237108,
          -0.9787983865768881,
          2.97356807674231,
          -0.2917970357274098,
          -0.2787513946556441,
          0.08316931315076394,
          0.787785337972341,
          0.6490432539715015,
          0.44608689200473245,
          -0.8758569022651723,
          1.3879867128830092,
          1.5037583750280177,
          -0.21114615035189996,
          -0.4181473771800166,
          0.9693102074920084,
          0.2736780087250651,
          -0.48850396744306007,
          2.367476751301778,
          0.6726810623673567,
          -1.240595925016922,
          -1.5673391878627263,
          -0.6187053188840654,
          0.17192069629634585,
          0.5106228718980147,
          0.9843033390360832,
          -2.205254245222359,
          -0.9781287793982962,
          0.6504552688513575,
          0.5176419431393856,
          0.8207147676081725,
          0.19596478523855554,
          1.1095332252866947,
          -0.04085314220983656,
          -0.6129619868855157,
          0.8626754226526893,
          0.9921214949750415,
          -0.28417173462493367
         ],
         "xaxis": "x7",
         "y": [
          1.5740728987236858,
          -0.5204962324025592,
          0.3784879080197764,
          0.5665830926250587,
          1.8307528761381824,
          1.496398337103953,
          0.319114278020899,
          1.3241804073809924,
          -2.2199737044173027,
          0.4069568095734938,
          0.14826216989882013,
          -0.994303336633359,
          -0.36208520713052306,
          1.7495268971863218,
          -0.4261065698300166,
          -1.7270517273707098,
          -2.357261283307402,
          2.403928501039504,
          0.6251246787404335,
          -0.004245790921073416,
          1.6803335896006206,
          -0.7740097921221676,
          -0.17455728219713768,
          0.5346934292088612,
          -0.16299832133350473,
          -1.6430005512614236,
          0.1874046982263252,
          0.3062098943756686,
          -1.075078115834331,
          -1.2214886703038546,
          -0.14724209756744944,
          0.2429769271893512,
          -0.23269608358220994,
          0.36352732895139045,
          0.7934071373939708,
          -2.5011489951532644,
          -0.18797315258982397,
          0.38603232777514507,
          2.045463743570114,
          -0.26097071764894264,
          0.550200525982311,
          -1.0767578575594094,
          0.5983416714319514,
          -0.6321645924326897,
          -0.2766778496970904,
          0.6695187229527138,
          1.0353017178297368,
          0.5761075611725717,
          1.4718017958919445,
          -0.4896305364712738,
          1.1538261951756705,
          1.158823447440352,
          -0.8732216047844114,
          1.520045712919522,
          0.5910070115791487,
          -0.7236162689815163,
          -1.2718512751459379,
          0.4412226470368304,
          0.6634561156688739,
          -0.4577892833900473,
          0.1318589819788368,
          -1.4368522046631298,
          -1.8395329503791198,
          -1.6492182544058702,
          -2.4797759739644487,
          0.03894320353626314,
          -0.35092509075247313,
          1.388297843133826,
          0.11573851710811286,
          0.3062732272678091,
          -0.46590267674086555,
          0.5456442466695953,
          -0.5304629942227559,
          -0.4313314370468433,
          -0.08957726082416721,
          1.1264734945274768,
          -0.9290255244862805,
          -1.7314167216950984,
          -0.30353773563327374,
          -0.4913771831551384,
          1.1019884388012529,
          -1.1006777820996694,
          0.02889859416952101,
          0.7844200346560151,
          0.4196265261180495,
          -0.6473364753369074,
          0.42737665263402697,
          -1.5403520115571134,
          0.425865498394857,
          -0.17886127476218783,
          -0.4685216389506663,
          -1.155388110493677,
          0.46525913637554894,
          0.9437691551712757,
          -0.744522351346594,
          -0.5107890860366717,
          -1.3104476513425958,
          -0.3659836777369112,
          -0.218182149822733,
          0.5665569826426838
         ],
         "yaxis": "y7"
        },
        {
         "line": {
          "color": "rgba(128, 128, 128, 1.0)",
          "dash": "solid",
          "shape": "linear",
          "width": 1.3
         },
         "marker": {
          "size": 2,
          "symbol": "circle"
         },
         "mode": "markers",
         "name": "B",
         "text": "",
         "type": "scatter",
         "x": [
          -0.36843748489429834,
          1.573663816086213,
          0.02138200976566842,
          0.09654713224552525,
          -0.047453224701537323,
          0.19622404390633058,
          -1.4677936505717069,
          0.16847265438597325,
          0.8541469774260697,
          0.2787115744318224,
          0.2550509546971101,
          0.9738398424872442,
          0.983756412376006,
          1.772138932320897,
          0.2824125191366073,
          0.9581503693015755,
          -0.3361136095239392,
          -0.778480643711259,
          -0.9196675746383206,
          -0.4561399435716179,
          0.7041234511118704,
          0.3840654521028457,
          1.2950270337210947,
          0.6520895803806986,
          -0.0701065374551447,
          -0.3481889467794823,
          -0.6025996440367895,
          0.5835089076878452,
          -0.9173006873679831,
          -0.388789211938765,
          -0.05626037443823479,
          0.29977723032350884,
          -1.069382235219236,
          0.3661278665663814,
          -1.4716019963433775,
          1.9294763779525,
          -0.6651992094661,
          1.2431585052103853,
          -1.9778747169690416,
          0.8671612185490913,
          0.9597034807362329,
          1.0530172473875836,
          1.0865771233924328,
          -0.6892158985281919,
          -0.5111063538918155,
          -1.9983789038577662,
          0.3289294047544934,
          0.015385363824137958,
          -0.4263665325461509,
          -1.1962971179633408,
          -1.0435130317124692,
          0.14676810520402261,
          1.063304322212356,
          -0.7478226448765005,
          0.0708499838115726,
          -0.3180811548485733,
          1.1348019060076748,
          -0.7861733179740832,
          0.004055630047339287,
          -1.1346642149642945,
          -1.3326823461805832,
          -1.0040126391624085,
          -0.17188924005764283,
          0.5509683892587323,
          -0.452522836687102,
          0.0009431348771666263,
          -1.2927352123949698,
          0.5611517113309042,
          1.6200799067948002,
          0.01977779447726261,
          -0.5057438199862079,
          1.5999214592923323,
          1.2056673567899268,
          -0.1133304445461091,
          -0.25843540882497096,
          -0.49604262118574804,
          -0.5813188784086023,
          0.5369546139775898,
          -1.085308804635807,
          1.1317928950545155,
          0.7869883636718725,
          0.8669532867871689,
          0.31442152763111986,
          -0.25181868463329665,
          -0.353538895855213,
          0.6575515102646519,
          0.8844318658347354,
          0.9146142997540004,
          1.5814732505843072,
          1.0245868131797415,
          -0.20542797464316637,
          0.46519878109736074,
          1.4325880132038897,
          -0.18531066682896988,
          -0.05846328750282914,
          0.17497434563087624,
          0.4406593327552767,
          -0.8772898092345249,
          -1.5108087138812814,
          -1.041379052269372
         ],
         "xaxis": "x8",
         "y": [
          1.5740728987236858,
          -0.5204962324025592,
          0.3784879080197764,
          0.5665830926250587,
          1.8307528761381824,
          1.496398337103953,
          0.319114278020899,
          1.3241804073809924,
          -2.2199737044173027,
          0.4069568095734938,
          0.14826216989882013,
          -0.994303336633359,
          -0.36208520713052306,
          1.7495268971863218,
          -0.4261065698300166,
          -1.7270517273707098,
          -2.357261283307402,
          2.403928501039504,
          0.6251246787404335,
          -0.004245790921073416,
          1.6803335896006206,
          -0.7740097921221676,
          -0.17455728219713768,
          0.5346934292088612,
          -0.16299832133350473,
          -1.6430005512614236,
          0.1874046982263252,
          0.3062098943756686,
          -1.075078115834331,
          -1.2214886703038546,
          -0.14724209756744944,
          0.2429769271893512,
          -0.23269608358220994,
          0.36352732895139045,
          0.7934071373939708,
          -2.5011489951532644,
          -0.18797315258982397,
          0.38603232777514507,
          2.045463743570114,
          -0.26097071764894264,
          0.550200525982311,
          -1.0767578575594094,
          0.5983416714319514,
          -0.6321645924326897,
          -0.2766778496970904,
          0.6695187229527138,
          1.0353017178297368,
          0.5761075611725717,
          1.4718017958919445,
          -0.4896305364712738,
          1.1538261951756705,
          1.158823447440352,
          -0.8732216047844114,
          1.520045712919522,
          0.5910070115791487,
          -0.7236162689815163,
          -1.2718512751459379,
          0.4412226470368304,
          0.6634561156688739,
          -0.4577892833900473,
          0.1318589819788368,
          -1.4368522046631298,
          -1.8395329503791198,
          -1.6492182544058702,
          -2.4797759739644487,
          0.03894320353626314,
          -0.35092509075247313,
          1.388297843133826,
          0.11573851710811286,
          0.3062732272678091,
          -0.46590267674086555,
          0.5456442466695953,
          -0.5304629942227559,
          -0.4313314370468433,
          -0.08957726082416721,
          1.1264734945274768,
          -0.9290255244862805,
          -1.7314167216950984,
          -0.30353773563327374,
          -0.4913771831551384,
          1.1019884388012529,
          -1.1006777820996694,
          0.02889859416952101,
          0.7844200346560151,
          0.4196265261180495,
          -0.6473364753369074,
          0.42737665263402697,
          -1.5403520115571134,
          0.425865498394857,
          -0.17886127476218783,
          -0.4685216389506663,
          -1.155388110493677,
          0.46525913637554894,
          0.9437691551712757,
          -0.744522351346594,
          -0.5107890860366717,
          -1.3104476513425958,
          -0.3659836777369112,
          -0.218182149822733,
          0.5665569826426838
         ],
         "yaxis": "y8"
        },
        {
         "line": {
          "color": "rgba(128, 128, 128, 1.0)",
          "dash": "solid",
          "shape": "linear",
          "width": 1.3
         },
         "marker": {
          "size": 2,
          "symbol": "circle"
         },
         "mode": "markers",
         "name": "C",
         "text": "",
         "type": "scatter",
         "x": [
          -0.28658062289161507,
          2.8713810642415774,
          -0.8356058485756809,
          0.015123707936464765,
          -0.36393332536263484,
          2.341958955914593,
          0.026375334658533516,
          -0.8912079656500846,
          1.5259075076059636,
          -0.7251464655554153,
          -2.208567554152265,
          0.8160362211716472,
          0.1352305382758277,
          -0.07773618163611463,
          -1.6218256058133913,
          -1.4461184112948848,
          -0.9432178303375855,
          0.11042142518952364,
          0.22210119025882,
          0.29314536564232757,
          -1.3667737782574663,
          2.1170959584160776,
          -1.9885300360304687,
          0.3009043264085271,
          1.4900545862313435,
          0.16707632821401622,
          0.9089693366488185,
          -0.5309538275682677,
          -0.5645450618475066,
          1.6180166982761703,
          0.7121765540358281,
          -0.7133586311906459,
          0.5262454614186426,
          -0.6978902815960228,
          0.6315922215150983,
          1.0230806194359456,
          0.3552860393922047,
          -0.5659277005265211,
          -0.04418343728629043,
          0.28347053779399023,
          2.0322264650736446,
          -0.7523401320867622,
          -0.8403470210799748,
          0.27784684716034863,
          0.1822850299791254,
          -0.3697102441389198,
          -0.021692284748169602,
          -2.108941307116421,
          0.31163343692776824,
          2.283327532521014,
          -0.21171012089409746,
          -0.14660748153512856,
          0.9344186636741401,
          -0.6106330572294365,
          -1.5392174683883328,
          -1.0058035991732786,
          2.207169422150619,
          -1.9791714166370522,
          -0.7716556864796765,
          0.42222551730076235,
          -0.790403471570592,
          0.4827492291330723,
          1.25811273044089,
          -0.4173142231933926,
          -1.683138705155208,
          -1.34399245571848,
          0.4625126996712462,
          1.2210567254188085,
          0.07491053801766187,
          1.6386682454467674,
          -0.5700560828390816,
          -1.200150895129222,
          -0.4816388445980546,
          -1.2599499551980429,
          0.12748578860097046,
          -0.5886401471762375,
          1.5612153234010075,
          0.883110723570033,
          -0.6793443992951693,
          -1.7579488291595078,
          -0.6262305193938559,
          -0.597589289924199,
          0.5975570794231981,
          -0.8338945349348488,
          0.8538301101490644,
          -1.228745130925553,
          -0.07970988512138309,
          -1.5924974279353095,
          0.9272268562201983,
          -0.14144485985252866,
          0.6360884600335864,
          -0.6850117004071394,
          -0.3733130217574712,
          -1.6315284967377977,
          0.7805667618604121,
          -0.5193183640984484,
          -0.7885902824548963,
          -0.23556747027558908,
          1.1819720205400592,
          0.5899214406180822
         ],
         "xaxis": "x9",
         "y": [
          -1.459603748949274,
          0.36084732152997506,
          -0.5087937897803205,
          -0.6625875564515807,
          0.0458571320132211,
          -0.22353172948762665,
          -0.021676901168215516,
          1.0109969799556564,
          0.1548417939707732,
          1.5246861097068372,
          0.3843073754188259,
          -0.2877351727481541,
          -0.8850510395471989,
          0.2302827746108358,
          -1.046706085000357,
          0.4903825137117322,
          -0.8882765471260752,
          -0.6635904192407448,
          -0.7849761458065712,
          0.22187755364367384,
          -0.08579259749363648,
          -0.6798487451416599,
          -0.13465838813595868,
          0.966528711550423,
          -0.8939417164300886,
          0.5092521728758914,
          1.3813890362258592,
          -0.6000915663898146,
          -0.5198908129046946,
          0.06811418698271128,
          -1.3801924853538312,
          1.4507628195644844,
          0.056975942253230986,
          1.065230071169316,
          2.2980625224378404,
          -0.5438322888356067,
          -2.1762460325655524,
          -1.4241602029776532,
          1.530180390020162,
          -0.9119662893511137,
          -0.7638120477535097,
          -0.4858369466878768,
          -0.3364749472572307,
          0.10144804129609479,
          -1.2162676038013833,
          -0.7566384634161051,
          -1.198459931518552,
          -0.8318366424691529,
          1.1237094110646053,
          -0.31324383939626116,
          -1.0631440705709407,
          -0.13236752637785063,
          2.3832147031217166,
          1.0462176836057986,
          -0.6171526303962681,
          0.2857308516819357,
          0.16104524787882576,
          -0.5319241247372348,
          -1.4777798506329485,
          -1.221479308539262,
          0.6371917427808321,
          -0.3521472610364796,
          0.3323907752437583,
          0.4690092849237108,
          -0.9787983865768881,
          2.97356807674231,
          -0.2917970357274098,
          -0.2787513946556441,
          0.08316931315076394,
          0.787785337972341,
          0.6490432539715015,
          0.44608689200473245,
          -0.8758569022651723,
          1.3879867128830092,
          1.5037583750280177,
          -0.21114615035189996,
          -0.4181473771800166,
          0.9693102074920084,
          0.2736780087250651,
          -0.48850396744306007,
          2.367476751301778,
          0.6726810623673567,
          -1.240595925016922,
          -1.5673391878627263,
          -0.6187053188840654,
          0.17192069629634585,
          0.5106228718980147,
          0.9843033390360832,
          -2.205254245222359,
          -0.9781287793982962,
          0.6504552688513575,
          0.5176419431393856,
          0.8207147676081725,
          0.19596478523855554,
          1.1095332252866947,
          -0.04085314220983656,
          -0.6129619868855157,
          0.8626754226526893,
          0.9921214949750415,
          -0.28417173462493367
         ],
         "yaxis": "y9"
        },
        {
         "line": {
          "color": "rgba(128, 128, 128, 1.0)",
          "dash": "solid",
          "shape": "linear",
          "width": 1.3
         },
         "marker": {
          "size": 2,
          "symbol": "circle"
         },
         "mode": "markers",
         "name": "C",
         "text": "",
         "type": "scatter",
         "x": [
          1.5740728987236858,
          -0.5204962324025592,
          0.3784879080197764,
          0.5665830926250587,
          1.8307528761381824,
          1.496398337103953,
          0.319114278020899,
          1.3241804073809924,
          -2.2199737044173027,
          0.4069568095734938,
          0.14826216989882013,
          -0.994303336633359,
          -0.36208520713052306,
          1.7495268971863218,
          -0.4261065698300166,
          -1.7270517273707098,
          -2.357261283307402,
          2.403928501039504,
          0.6251246787404335,
          -0.004245790921073416,
          1.6803335896006206,
          -0.7740097921221676,
          -0.17455728219713768,
          0.5346934292088612,
          -0.16299832133350473,
          -1.6430005512614236,
          0.1874046982263252,
          0.3062098943756686,
          -1.075078115834331,
          -1.2214886703038546,
          -0.14724209756744944,
          0.2429769271893512,
          -0.23269608358220994,
          0.36352732895139045,
          0.7934071373939708,
          -2.5011489951532644,
          -0.18797315258982397,
          0.38603232777514507,
          2.045463743570114,
          -0.26097071764894264,
          0.550200525982311,
          -1.0767578575594094,
          0.5983416714319514,
          -0.6321645924326897,
          -0.2766778496970904,
          0.6695187229527138,
          1.0353017178297368,
          0.5761075611725717,
          1.4718017958919445,
          -0.4896305364712738,
          1.1538261951756705,
          1.158823447440352,
          -0.8732216047844114,
          1.520045712919522,
          0.5910070115791487,
          -0.7236162689815163,
          -1.2718512751459379,
          0.4412226470368304,
          0.6634561156688739,
          -0.4577892833900473,
          0.1318589819788368,
          -1.4368522046631298,
          -1.8395329503791198,
          -1.6492182544058702,
          -2.4797759739644487,
          0.03894320353626314,
          -0.35092509075247313,
          1.388297843133826,
          0.11573851710811286,
          0.3062732272678091,
          -0.46590267674086555,
          0.5456442466695953,
          -0.5304629942227559,
          -0.4313314370468433,
          -0.08957726082416721,
          1.1264734945274768,
          -0.9290255244862805,
          -1.7314167216950984,
          -0.30353773563327374,
          -0.4913771831551384,
          1.1019884388012529,
          -1.1006777820996694,
          0.02889859416952101,
          0.7844200346560151,
          0.4196265261180495,
          -0.6473364753369074,
          0.42737665263402697,
          -1.5403520115571134,
          0.425865498394857,
          -0.17886127476218783,
          -0.4685216389506663,
          -1.155388110493677,
          0.46525913637554894,
          0.9437691551712757,
          -0.744522351346594,
          -0.5107890860366717,
          -1.3104476513425958,
          -0.3659836777369112,
          -0.218182149822733,
          0.5665569826426838
         ],
         "xaxis": "x10",
         "y": [
          -1.459603748949274,
          0.36084732152997506,
          -0.5087937897803205,
          -0.6625875564515807,
          0.0458571320132211,
          -0.22353172948762665,
          -0.021676901168215516,
          1.0109969799556564,
          0.1548417939707732,
          1.5246861097068372,
          0.3843073754188259,
          -0.2877351727481541,
          -0.8850510395471989,
          0.2302827746108358,
          -1.046706085000357,
          0.4903825137117322,
          -0.8882765471260752,
          -0.6635904192407448,
          -0.7849761458065712,
          0.22187755364367384,
          -0.08579259749363648,
          -0.6798487451416599,
          -0.13465838813595868,
          0.966528711550423,
          -0.8939417164300886,
          0.5092521728758914,
          1.3813890362258592,
          -0.6000915663898146,
          -0.5198908129046946,
          0.06811418698271128,
          -1.3801924853538312,
          1.4507628195644844,
          0.056975942253230986,
          1.065230071169316,
          2.2980625224378404,
          -0.5438322888356067,
          -2.1762460325655524,
          -1.4241602029776532,
          1.530180390020162,
          -0.9119662893511137,
          -0.7638120477535097,
          -0.4858369466878768,
          -0.3364749472572307,
          0.10144804129609479,
          -1.2162676038013833,
          -0.7566384634161051,
          -1.198459931518552,
          -0.8318366424691529,
          1.1237094110646053,
          -0.31324383939626116,
          -1.0631440705709407,
          -0.13236752637785063,
          2.3832147031217166,
          1.0462176836057986,
          -0.6171526303962681,
          0.2857308516819357,
          0.16104524787882576,
          -0.5319241247372348,
          -1.4777798506329485,
          -1.221479308539262,
          0.6371917427808321,
          -0.3521472610364796,
          0.3323907752437583,
          0.4690092849237108,
          -0.9787983865768881,
          2.97356807674231,
          -0.2917970357274098,
          -0.2787513946556441,
          0.08316931315076394,
          0.787785337972341,
          0.6490432539715015,
          0.44608689200473245,
          -0.8758569022651723,
          1.3879867128830092,
          1.5037583750280177,
          -0.21114615035189996,
          -0.4181473771800166,
          0.9693102074920084,
          0.2736780087250651,
          -0.48850396744306007,
          2.367476751301778,
          0.6726810623673567,
          -1.240595925016922,
          -1.5673391878627263,
          -0.6187053188840654,
          0.17192069629634585,
          0.5106228718980147,
          0.9843033390360832,
          -2.205254245222359,
          -0.9781287793982962,
          0.6504552688513575,
          0.5176419431393856,
          0.8207147676081725,
          0.19596478523855554,
          1.1095332252866947,
          -0.04085314220983656,
          -0.6129619868855157,
          0.8626754226526893,
          0.9921214949750415,
          -0.28417173462493367
         ],
         "yaxis": "y10"
        },
        {
         "histfunc": "count",
         "histnorm": "",
         "marker": {
          "color": "rgba(50, 171, 96, 1.0)",
          "line": {
           "color": "#4D5663",
           "width": 1.3
          }
         },
         "name": "C",
         "nbinsx": 10,
         "opacity": 0.8,
         "orientation": "v",
         "type": "histogram",
         "x": [
          -1.459603748949274,
          0.36084732152997506,
          -0.5087937897803205,
          -0.6625875564515807,
          0.0458571320132211,
          -0.22353172948762665,
          -0.021676901168215516,
          1.0109969799556564,
          0.1548417939707732,
          1.5246861097068372,
          0.3843073754188259,
          -0.2877351727481541,
          -0.8850510395471989,
          0.2302827746108358,
          -1.046706085000357,
          0.4903825137117322,
          -0.8882765471260752,
          -0.6635904192407448,
          -0.7849761458065712,
          0.22187755364367384,
          -0.08579259749363648,
          -0.6798487451416599,
          -0.13465838813595868,
          0.966528711550423,
          -0.8939417164300886,
          0.5092521728758914,
          1.3813890362258592,
          -0.6000915663898146,
          -0.5198908129046946,
          0.06811418698271128,
          -1.3801924853538312,
          1.4507628195644844,
          0.056975942253230986,
          1.065230071169316,
          2.2980625224378404,
          -0.5438322888356067,
          -2.1762460325655524,
          -1.4241602029776532,
          1.530180390020162,
          -0.9119662893511137,
          -0.7638120477535097,
          -0.4858369466878768,
          -0.3364749472572307,
          0.10144804129609479,
          -1.2162676038013833,
          -0.7566384634161051,
          -1.198459931518552,
          -0.8318366424691529,
          1.1237094110646053,
          -0.31324383939626116,
          -1.0631440705709407,
          -0.13236752637785063,
          2.3832147031217166,
          1.0462176836057986,
          -0.6171526303962681,
          0.2857308516819357,
          0.16104524787882576,
          -0.5319241247372348,
          -1.4777798506329485,
          -1.221479308539262,
          0.6371917427808321,
          -0.3521472610364796,
          0.3323907752437583,
          0.4690092849237108,
          -0.9787983865768881,
          2.97356807674231,
          -0.2917970357274098,
          -0.2787513946556441,
          0.08316931315076394,
          0.787785337972341,
          0.6490432539715015,
          0.44608689200473245,
          -0.8758569022651723,
          1.3879867128830092,
          1.5037583750280177,
          -0.21114615035189996,
          -0.4181473771800166,
          0.9693102074920084,
          0.2736780087250651,
          -0.48850396744306007,
          2.367476751301778,
          0.6726810623673567,
          -1.240595925016922,
          -1.5673391878627263,
          -0.6187053188840654,
          0.17192069629634585,
          0.5106228718980147,
          0.9843033390360832,
          -2.205254245222359,
          -0.9781287793982962,
          0.6504552688513575,
          0.5176419431393856,
          0.8207147676081725,
          0.19596478523855554,
          1.1095332252866947,
          -0.04085314220983656,
          -0.6129619868855157,
          0.8626754226526893,
          0.9921214949750415,
          -0.28417173462493367
         ],
         "xaxis": "x11",
         "yaxis": "y11"
        },
        {
         "line": {
          "color": "rgba(128, 128, 128, 1.0)",
          "dash": "solid",
          "shape": "linear",
          "width": 1.3
         },
         "marker": {
          "size": 2,
          "symbol": "circle"
         },
         "mode": "markers",
         "name": "C",
         "text": "",
         "type": "scatter",
         "x": [
          -0.36843748489429834,
          1.573663816086213,
          0.02138200976566842,
          0.09654713224552525,
          -0.047453224701537323,
          0.19622404390633058,
          -1.4677936505717069,
          0.16847265438597325,
          0.8541469774260697,
          0.2787115744318224,
          0.2550509546971101,
          0.9738398424872442,
          0.983756412376006,
          1.772138932320897,
          0.2824125191366073,
          0.9581503693015755,
          -0.3361136095239392,
          -0.778480643711259,
          -0.9196675746383206,
          -0.4561399435716179,
          0.7041234511118704,
          0.3840654521028457,
          1.2950270337210947,
          0.6520895803806986,
          -0.0701065374551447,
          -0.3481889467794823,
          -0.6025996440367895,
          0.5835089076878452,
          -0.9173006873679831,
          -0.388789211938765,
          -0.05626037443823479,
          0.29977723032350884,
          -1.069382235219236,
          0.3661278665663814,
          -1.4716019963433775,
          1.9294763779525,
          -0.6651992094661,
          1.2431585052103853,
          -1.9778747169690416,
          0.8671612185490913,
          0.9597034807362329,
          1.0530172473875836,
          1.0865771233924328,
          -0.6892158985281919,
          -0.5111063538918155,
          -1.9983789038577662,
          0.3289294047544934,
          0.015385363824137958,
          -0.4263665325461509,
          -1.1962971179633408,
          -1.0435130317124692,
          0.14676810520402261,
          1.063304322212356,
          -0.7478226448765005,
          0.0708499838115726,
          -0.3180811548485733,
          1.1348019060076748,
          -0.7861733179740832,
          0.004055630047339287,
          -1.1346642149642945,
          -1.3326823461805832,
          -1.0040126391624085,
          -0.17188924005764283,
          0.5509683892587323,
          -0.452522836687102,
          0.0009431348771666263,
          -1.2927352123949698,
          0.5611517113309042,
          1.6200799067948002,
          0.01977779447726261,
          -0.5057438199862079,
          1.5999214592923323,
          1.2056673567899268,
          -0.1133304445461091,
          -0.25843540882497096,
          -0.49604262118574804,
          -0.5813188784086023,
          0.5369546139775898,
          -1.085308804635807,
          1.1317928950545155,
          0.7869883636718725,
          0.8669532867871689,
          0.31442152763111986,
          -0.25181868463329665,
          -0.353538895855213,
          0.6575515102646519,
          0.8844318658347354,
          0.9146142997540004,
          1.5814732505843072,
          1.0245868131797415,
          -0.20542797464316637,
          0.46519878109736074,
          1.4325880132038897,
          -0.18531066682896988,
          -0.05846328750282914,
          0.17497434563087624,
          0.4406593327552767,
          -0.8772898092345249,
          -1.5108087138812814,
          -1.041379052269372
         ],
         "xaxis": "x12",
         "y": [
          -1.459603748949274,
          0.36084732152997506,
          -0.5087937897803205,
          -0.6625875564515807,
          0.0458571320132211,
          -0.22353172948762665,
          -0.021676901168215516,
          1.0109969799556564,
          0.1548417939707732,
          1.5246861097068372,
          0.3843073754188259,
          -0.2877351727481541,
          -0.8850510395471989,
          0.2302827746108358,
          -1.046706085000357,
          0.4903825137117322,
          -0.8882765471260752,
          -0.6635904192407448,
          -0.7849761458065712,
          0.22187755364367384,
          -0.08579259749363648,
          -0.6798487451416599,
          -0.13465838813595868,
          0.966528711550423,
          -0.8939417164300886,
          0.5092521728758914,
          1.3813890362258592,
          -0.6000915663898146,
          -0.5198908129046946,
          0.06811418698271128,
          -1.3801924853538312,
          1.4507628195644844,
          0.056975942253230986,
          1.065230071169316,
          2.2980625224378404,
          -0.5438322888356067,
          -2.1762460325655524,
          -1.4241602029776532,
          1.530180390020162,
          -0.9119662893511137,
          -0.7638120477535097,
          -0.4858369466878768,
          -0.3364749472572307,
          0.10144804129609479,
          -1.2162676038013833,
          -0.7566384634161051,
          -1.198459931518552,
          -0.8318366424691529,
          1.1237094110646053,
          -0.31324383939626116,
          -1.0631440705709407,
          -0.13236752637785063,
          2.3832147031217166,
          1.0462176836057986,
          -0.6171526303962681,
          0.2857308516819357,
          0.16104524787882576,
          -0.5319241247372348,
          -1.4777798506329485,
          -1.221479308539262,
          0.6371917427808321,
          -0.3521472610364796,
          0.3323907752437583,
          0.4690092849237108,
          -0.9787983865768881,
          2.97356807674231,
          -0.2917970357274098,
          -0.2787513946556441,
          0.08316931315076394,
          0.787785337972341,
          0.6490432539715015,
          0.44608689200473245,
          -0.8758569022651723,
          1.3879867128830092,
          1.5037583750280177,
          -0.21114615035189996,
          -0.4181473771800166,
          0.9693102074920084,
          0.2736780087250651,
          -0.48850396744306007,
          2.367476751301778,
          0.6726810623673567,
          -1.240595925016922,
          -1.5673391878627263,
          -0.6187053188840654,
          0.17192069629634585,
          0.5106228718980147,
          0.9843033390360832,
          -2.205254245222359,
          -0.9781287793982962,
          0.6504552688513575,
          0.5176419431393856,
          0.8207147676081725,
          0.19596478523855554,
          1.1095332252866947,
          -0.04085314220983656,
          -0.6129619868855157,
          0.8626754226526893,
          0.9921214949750415,
          -0.28417173462493367
         ],
         "yaxis": "y12"
        },
        {
         "line": {
          "color": "rgba(128, 128, 128, 1.0)",
          "dash": "solid",
          "shape": "linear",
          "width": 1.3
         },
         "marker": {
          "size": 2,
          "symbol": "circle"
         },
         "mode": "markers",
         "name": "D",
         "text": "",
         "type": "scatter",
         "x": [
          -0.28658062289161507,
          2.8713810642415774,
          -0.8356058485756809,
          0.015123707936464765,
          -0.36393332536263484,
          2.341958955914593,
          0.026375334658533516,
          -0.8912079656500846,
          1.5259075076059636,
          -0.7251464655554153,
          -2.208567554152265,
          0.8160362211716472,
          0.1352305382758277,
          -0.07773618163611463,
          -1.6218256058133913,
          -1.4461184112948848,
          -0.9432178303375855,
          0.11042142518952364,
          0.22210119025882,
          0.29314536564232757,
          -1.3667737782574663,
          2.1170959584160776,
          -1.9885300360304687,
          0.3009043264085271,
          1.4900545862313435,
          0.16707632821401622,
          0.9089693366488185,
          -0.5309538275682677,
          -0.5645450618475066,
          1.6180166982761703,
          0.7121765540358281,
          -0.7133586311906459,
          0.5262454614186426,
          -0.6978902815960228,
          0.6315922215150983,
          1.0230806194359456,
          0.3552860393922047,
          -0.5659277005265211,
          -0.04418343728629043,
          0.28347053779399023,
          2.0322264650736446,
          -0.7523401320867622,
          -0.8403470210799748,
          0.27784684716034863,
          0.1822850299791254,
          -0.3697102441389198,
          -0.021692284748169602,
          -2.108941307116421,
          0.31163343692776824,
          2.283327532521014,
          -0.21171012089409746,
          -0.14660748153512856,
          0.9344186636741401,
          -0.6106330572294365,
          -1.5392174683883328,
          -1.0058035991732786,
          2.207169422150619,
          -1.9791714166370522,
          -0.7716556864796765,
          0.42222551730076235,
          -0.790403471570592,
          0.4827492291330723,
          1.25811273044089,
          -0.4173142231933926,
          -1.683138705155208,
          -1.34399245571848,
          0.4625126996712462,
          1.2210567254188085,
          0.07491053801766187,
          1.6386682454467674,
          -0.5700560828390816,
          -1.200150895129222,
          -0.4816388445980546,
          -1.2599499551980429,
          0.12748578860097046,
          -0.5886401471762375,
          1.5612153234010075,
          0.883110723570033,
          -0.6793443992951693,
          -1.7579488291595078,
          -0.6262305193938559,
          -0.597589289924199,
          0.5975570794231981,
          -0.8338945349348488,
          0.8538301101490644,
          -1.228745130925553,
          -0.07970988512138309,
          -1.5924974279353095,
          0.9272268562201983,
          -0.14144485985252866,
          0.6360884600335864,
          -0.6850117004071394,
          -0.3733130217574712,
          -1.6315284967377977,
          0.7805667618604121,
          -0.5193183640984484,
          -0.7885902824548963,
          -0.23556747027558908,
          1.1819720205400592,
          0.5899214406180822
         ],
         "xaxis": "x13",
         "y": [
          -0.36843748489429834,
          1.573663816086213,
          0.02138200976566842,
          0.09654713224552525,
          -0.047453224701537323,
          0.19622404390633058,
          -1.4677936505717069,
          0.16847265438597325,
          0.8541469774260697,
          0.2787115744318224,
          0.2550509546971101,
          0.9738398424872442,
          0.983756412376006,
          1.772138932320897,
          0.2824125191366073,
          0.9581503693015755,
          -0.3361136095239392,
          -0.778480643711259,
          -0.9196675746383206,
          -0.4561399435716179,
          0.7041234511118704,
          0.3840654521028457,
          1.2950270337210947,
          0.6520895803806986,
          -0.0701065374551447,
          -0.3481889467794823,
          -0.6025996440367895,
          0.5835089076878452,
          -0.9173006873679831,
          -0.388789211938765,
          -0.05626037443823479,
          0.29977723032350884,
          -1.069382235219236,
          0.3661278665663814,
          -1.4716019963433775,
          1.9294763779525,
          -0.6651992094661,
          1.2431585052103853,
          -1.9778747169690416,
          0.8671612185490913,
          0.9597034807362329,
          1.0530172473875836,
          1.0865771233924328,
          -0.6892158985281919,
          -0.5111063538918155,
          -1.9983789038577662,
          0.3289294047544934,
          0.015385363824137958,
          -0.4263665325461509,
          -1.1962971179633408,
          -1.0435130317124692,
          0.14676810520402261,
          1.063304322212356,
          -0.7478226448765005,
          0.0708499838115726,
          -0.3180811548485733,
          1.1348019060076748,
          -0.7861733179740832,
          0.004055630047339287,
          -1.1346642149642945,
          -1.3326823461805832,
          -1.0040126391624085,
          -0.17188924005764283,
          0.5509683892587323,
          -0.452522836687102,
          0.0009431348771666263,
          -1.2927352123949698,
          0.5611517113309042,
          1.6200799067948002,
          0.01977779447726261,
          -0.5057438199862079,
          1.5999214592923323,
          1.2056673567899268,
          -0.1133304445461091,
          -0.25843540882497096,
          -0.49604262118574804,
          -0.5813188784086023,
          0.5369546139775898,
          -1.085308804635807,
          1.1317928950545155,
          0.7869883636718725,
          0.8669532867871689,
          0.31442152763111986,
          -0.25181868463329665,
          -0.353538895855213,
          0.6575515102646519,
          0.8844318658347354,
          0.9146142997540004,
          1.5814732505843072,
          1.0245868131797415,
          -0.20542797464316637,
          0.46519878109736074,
          1.4325880132038897,
          -0.18531066682896988,
          -0.05846328750282914,
          0.17497434563087624,
          0.4406593327552767,
          -0.8772898092345249,
          -1.5108087138812814,
          -1.041379052269372
         ],
         "yaxis": "y13"
        },
        {
         "line": {
          "color": "rgba(128, 128, 128, 1.0)",
          "dash": "solid",
          "shape": "linear",
          "width": 1.3
         },
         "marker": {
          "size": 2,
          "symbol": "circle"
         },
         "mode": "markers",
         "name": "D",
         "text": "",
         "type": "scatter",
         "x": [
          1.5740728987236858,
          -0.5204962324025592,
          0.3784879080197764,
          0.5665830926250587,
          1.8307528761381824,
          1.496398337103953,
          0.319114278020899,
          1.3241804073809924,
          -2.2199737044173027,
          0.4069568095734938,
          0.14826216989882013,
          -0.994303336633359,
          -0.36208520713052306,
          1.7495268971863218,
          -0.4261065698300166,
          -1.7270517273707098,
          -2.357261283307402,
          2.403928501039504,
          0.6251246787404335,
          -0.004245790921073416,
          1.6803335896006206,
          -0.7740097921221676,
          -0.17455728219713768,
          0.5346934292088612,
          -0.16299832133350473,
          -1.6430005512614236,
          0.1874046982263252,
          0.3062098943756686,
          -1.075078115834331,
          -1.2214886703038546,
          -0.14724209756744944,
          0.2429769271893512,
          -0.23269608358220994,
          0.36352732895139045,
          0.7934071373939708,
          -2.5011489951532644,
          -0.18797315258982397,
          0.38603232777514507,
          2.045463743570114,
          -0.26097071764894264,
          0.550200525982311,
          -1.0767578575594094,
          0.5983416714319514,
          -0.6321645924326897,
          -0.2766778496970904,
          0.6695187229527138,
          1.0353017178297368,
          0.5761075611725717,
          1.4718017958919445,
          -0.4896305364712738,
          1.1538261951756705,
          1.158823447440352,
          -0.8732216047844114,
          1.520045712919522,
          0.5910070115791487,
          -0.7236162689815163,
          -1.2718512751459379,
          0.4412226470368304,
          0.6634561156688739,
          -0.4577892833900473,
          0.1318589819788368,
          -1.4368522046631298,
          -1.8395329503791198,
          -1.6492182544058702,
          -2.4797759739644487,
          0.03894320353626314,
          -0.35092509075247313,
          1.388297843133826,
          0.11573851710811286,
          0.3062732272678091,
          -0.46590267674086555,
          0.5456442466695953,
          -0.5304629942227559,
          -0.4313314370468433,
          -0.08957726082416721,
          1.1264734945274768,
          -0.9290255244862805,
          -1.7314167216950984,
          -0.30353773563327374,
          -0.4913771831551384,
          1.1019884388012529,
          -1.1006777820996694,
          0.02889859416952101,
          0.7844200346560151,
          0.4196265261180495,
          -0.6473364753369074,
          0.42737665263402697,
          -1.5403520115571134,
          0.425865498394857,
          -0.17886127476218783,
          -0.4685216389506663,
          -1.155388110493677,
          0.46525913637554894,
          0.9437691551712757,
          -0.744522351346594,
          -0.5107890860366717,
          -1.3104476513425958,
          -0.3659836777369112,
          -0.218182149822733,
          0.5665569826426838
         ],
         "xaxis": "x14",
         "y": [
          -0.36843748489429834,
          1.573663816086213,
          0.02138200976566842,
          0.09654713224552525,
          -0.047453224701537323,
          0.19622404390633058,
          -1.4677936505717069,
          0.16847265438597325,
          0.8541469774260697,
          0.2787115744318224,
          0.2550509546971101,
          0.9738398424872442,
          0.983756412376006,
          1.772138932320897,
          0.2824125191366073,
          0.9581503693015755,
          -0.3361136095239392,
          -0.778480643711259,
          -0.9196675746383206,
          -0.4561399435716179,
          0.7041234511118704,
          0.3840654521028457,
          1.2950270337210947,
          0.6520895803806986,
          -0.0701065374551447,
          -0.3481889467794823,
          -0.6025996440367895,
          0.5835089076878452,
          -0.9173006873679831,
          -0.388789211938765,
          -0.05626037443823479,
          0.29977723032350884,
          -1.069382235219236,
          0.3661278665663814,
          -1.4716019963433775,
          1.9294763779525,
          -0.6651992094661,
          1.2431585052103853,
          -1.9778747169690416,
          0.8671612185490913,
          0.9597034807362329,
          1.0530172473875836,
          1.0865771233924328,
          -0.6892158985281919,
          -0.5111063538918155,
          -1.9983789038577662,
          0.3289294047544934,
          0.015385363824137958,
          -0.4263665325461509,
          -1.1962971179633408,
          -1.0435130317124692,
          0.14676810520402261,
          1.063304322212356,
          -0.7478226448765005,
          0.0708499838115726,
          -0.3180811548485733,
          1.1348019060076748,
          -0.7861733179740832,
          0.004055630047339287,
          -1.1346642149642945,
          -1.3326823461805832,
          -1.0040126391624085,
          -0.17188924005764283,
          0.5509683892587323,
          -0.452522836687102,
          0.0009431348771666263,
          -1.2927352123949698,
          0.5611517113309042,
          1.6200799067948002,
          0.01977779447726261,
          -0.5057438199862079,
          1.5999214592923323,
          1.2056673567899268,
          -0.1133304445461091,
          -0.25843540882497096,
          -0.49604262118574804,
          -0.5813188784086023,
          0.5369546139775898,
          -1.085308804635807,
          1.1317928950545155,
          0.7869883636718725,
          0.8669532867871689,
          0.31442152763111986,
          -0.25181868463329665,
          -0.353538895855213,
          0.6575515102646519,
          0.8844318658347354,
          0.9146142997540004,
          1.5814732505843072,
          1.0245868131797415,
          -0.20542797464316637,
          0.46519878109736074,
          1.4325880132038897,
          -0.18531066682896988,
          -0.05846328750282914,
          0.17497434563087624,
          0.4406593327552767,
          -0.8772898092345249,
          -1.5108087138812814,
          -1.041379052269372
         ],
         "yaxis": "y14"
        },
        {
         "line": {
          "color": "rgba(128, 128, 128, 1.0)",
          "dash": "solid",
          "shape": "linear",
          "width": 1.3
         },
         "marker": {
          "size": 2,
          "symbol": "circle"
         },
         "mode": "markers",
         "name": "D",
         "text": "",
         "type": "scatter",
         "x": [
          -1.459603748949274,
          0.36084732152997506,
          -0.5087937897803205,
          -0.6625875564515807,
          0.0458571320132211,
          -0.22353172948762665,
          -0.021676901168215516,
          1.0109969799556564,
          0.1548417939707732,
          1.5246861097068372,
          0.3843073754188259,
          -0.2877351727481541,
          -0.8850510395471989,
          0.2302827746108358,
          -1.046706085000357,
          0.4903825137117322,
          -0.8882765471260752,
          -0.6635904192407448,
          -0.7849761458065712,
          0.22187755364367384,
          -0.08579259749363648,
          -0.6798487451416599,
          -0.13465838813595868,
          0.966528711550423,
          -0.8939417164300886,
          0.5092521728758914,
          1.3813890362258592,
          -0.6000915663898146,
          -0.5198908129046946,
          0.06811418698271128,
          -1.3801924853538312,
          1.4507628195644844,
          0.056975942253230986,
          1.065230071169316,
          2.2980625224378404,
          -0.5438322888356067,
          -2.1762460325655524,
          -1.4241602029776532,
          1.530180390020162,
          -0.9119662893511137,
          -0.7638120477535097,
          -0.4858369466878768,
          -0.3364749472572307,
          0.10144804129609479,
          -1.2162676038013833,
          -0.7566384634161051,
          -1.198459931518552,
          -0.8318366424691529,
          1.1237094110646053,
          -0.31324383939626116,
          -1.0631440705709407,
          -0.13236752637785063,
          2.3832147031217166,
          1.0462176836057986,
          -0.6171526303962681,
          0.2857308516819357,
          0.16104524787882576,
          -0.5319241247372348,
          -1.4777798506329485,
          -1.221479308539262,
          0.6371917427808321,
          -0.3521472610364796,
          0.3323907752437583,
          0.4690092849237108,
          -0.9787983865768881,
          2.97356807674231,
          -0.2917970357274098,
          -0.2787513946556441,
          0.08316931315076394,
          0.787785337972341,
          0.6490432539715015,
          0.44608689200473245,
          -0.8758569022651723,
          1.3879867128830092,
          1.5037583750280177,
          -0.21114615035189996,
          -0.4181473771800166,
          0.9693102074920084,
          0.2736780087250651,
          -0.48850396744306007,
          2.367476751301778,
          0.6726810623673567,
          -1.240595925016922,
          -1.5673391878627263,
          -0.6187053188840654,
          0.17192069629634585,
          0.5106228718980147,
          0.9843033390360832,
          -2.205254245222359,
          -0.9781287793982962,
          0.6504552688513575,
          0.5176419431393856,
          0.8207147676081725,
          0.19596478523855554,
          1.1095332252866947,
          -0.04085314220983656,
          -0.6129619868855157,
          0.8626754226526893,
          0.9921214949750415,
          -0.28417173462493367
         ],
         "xaxis": "x15",
         "y": [
          -0.36843748489429834,
          1.573663816086213,
          0.02138200976566842,
          0.09654713224552525,
          -0.047453224701537323,
          0.19622404390633058,
          -1.4677936505717069,
          0.16847265438597325,
          0.8541469774260697,
          0.2787115744318224,
          0.2550509546971101,
          0.9738398424872442,
          0.983756412376006,
          1.772138932320897,
          0.2824125191366073,
          0.9581503693015755,
          -0.3361136095239392,
          -0.778480643711259,
          -0.9196675746383206,
          -0.4561399435716179,
          0.7041234511118704,
          0.3840654521028457,
          1.2950270337210947,
          0.6520895803806986,
          -0.0701065374551447,
          -0.3481889467794823,
          -0.6025996440367895,
          0.5835089076878452,
          -0.9173006873679831,
          -0.388789211938765,
          -0.05626037443823479,
          0.29977723032350884,
          -1.069382235219236,
          0.3661278665663814,
          -1.4716019963433775,
          1.9294763779525,
          -0.6651992094661,
          1.2431585052103853,
          -1.9778747169690416,
          0.8671612185490913,
          0.9597034807362329,
          1.0530172473875836,
          1.0865771233924328,
          -0.6892158985281919,
          -0.5111063538918155,
          -1.9983789038577662,
          0.3289294047544934,
          0.015385363824137958,
          -0.4263665325461509,
          -1.1962971179633408,
          -1.0435130317124692,
          0.14676810520402261,
          1.063304322212356,
          -0.7478226448765005,
          0.0708499838115726,
          -0.3180811548485733,
          1.1348019060076748,
          -0.7861733179740832,
          0.004055630047339287,
          -1.1346642149642945,
          -1.3326823461805832,
          -1.0040126391624085,
          -0.17188924005764283,
          0.5509683892587323,
          -0.452522836687102,
          0.0009431348771666263,
          -1.2927352123949698,
          0.5611517113309042,
          1.6200799067948002,
          0.01977779447726261,
          -0.5057438199862079,
          1.5999214592923323,
          1.2056673567899268,
          -0.1133304445461091,
          -0.25843540882497096,
          -0.49604262118574804,
          -0.5813188784086023,
          0.5369546139775898,
          -1.085308804635807,
          1.1317928950545155,
          0.7869883636718725,
          0.8669532867871689,
          0.31442152763111986,
          -0.25181868463329665,
          -0.353538895855213,
          0.6575515102646519,
          0.8844318658347354,
          0.9146142997540004,
          1.5814732505843072,
          1.0245868131797415,
          -0.20542797464316637,
          0.46519878109736074,
          1.4325880132038897,
          -0.18531066682896988,
          -0.05846328750282914,
          0.17497434563087624,
          0.4406593327552767,
          -0.8772898092345249,
          -1.5108087138812814,
          -1.041379052269372
         ],
         "yaxis": "y15"
        },
        {
         "histfunc": "count",
         "histnorm": "",
         "marker": {
          "color": "rgba(128, 0, 128, 1.0)",
          "line": {
           "color": "#4D5663",
           "width": 1.3
          }
         },
         "name": "D",
         "nbinsx": 10,
         "opacity": 0.8,
         "orientation": "v",
         "type": "histogram",
         "x": [
          -0.36843748489429834,
          1.573663816086213,
          0.02138200976566842,
          0.09654713224552525,
          -0.047453224701537323,
          0.19622404390633058,
          -1.4677936505717069,
          0.16847265438597325,
          0.8541469774260697,
          0.2787115744318224,
          0.2550509546971101,
          0.9738398424872442,
          0.983756412376006,
          1.772138932320897,
          0.2824125191366073,
          0.9581503693015755,
          -0.3361136095239392,
          -0.778480643711259,
          -0.9196675746383206,
          -0.4561399435716179,
          0.7041234511118704,
          0.3840654521028457,
          1.2950270337210947,
          0.6520895803806986,
          -0.0701065374551447,
          -0.3481889467794823,
          -0.6025996440367895,
          0.5835089076878452,
          -0.9173006873679831,
          -0.388789211938765,
          -0.05626037443823479,
          0.29977723032350884,
          -1.069382235219236,
          0.3661278665663814,
          -1.4716019963433775,
          1.9294763779525,
          -0.6651992094661,
          1.2431585052103853,
          -1.9778747169690416,
          0.8671612185490913,
          0.9597034807362329,
          1.0530172473875836,
          1.0865771233924328,
          -0.6892158985281919,
          -0.5111063538918155,
          -1.9983789038577662,
          0.3289294047544934,
          0.015385363824137958,
          -0.4263665325461509,
          -1.1962971179633408,
          -1.0435130317124692,
          0.14676810520402261,
          1.063304322212356,
          -0.7478226448765005,
          0.0708499838115726,
          -0.3180811548485733,
          1.1348019060076748,
          -0.7861733179740832,
          0.004055630047339287,
          -1.1346642149642945,
          -1.3326823461805832,
          -1.0040126391624085,
          -0.17188924005764283,
          0.5509683892587323,
          -0.452522836687102,
          0.0009431348771666263,
          -1.2927352123949698,
          0.5611517113309042,
          1.6200799067948002,
          0.01977779447726261,
          -0.5057438199862079,
          1.5999214592923323,
          1.2056673567899268,
          -0.1133304445461091,
          -0.25843540882497096,
          -0.49604262118574804,
          -0.5813188784086023,
          0.5369546139775898,
          -1.085308804635807,
          1.1317928950545155,
          0.7869883636718725,
          0.8669532867871689,
          0.31442152763111986,
          -0.25181868463329665,
          -0.353538895855213,
          0.6575515102646519,
          0.8844318658347354,
          0.9146142997540004,
          1.5814732505843072,
          1.0245868131797415,
          -0.20542797464316637,
          0.46519878109736074,
          1.4325880132038897,
          -0.18531066682896988,
          -0.05846328750282914,
          0.17497434563087624,
          0.4406593327552767,
          -0.8772898092345249,
          -1.5108087138812814,
          -1.041379052269372
         ],
         "xaxis": "x16",
         "yaxis": "y16"
        }
       ],
       "layout": {
        "bargap": 0.02,
        "legend": {
         "bgcolor": "#F5F6F9",
         "font": {
          "color": "#4D5663"
         }
        },
        "paper_bgcolor": "#F5F6F9",
        "plot_bgcolor": "#F5F6F9",
        "showlegend": false,
        "template": {
         "data": {
          "bar": [
           {
            "error_x": {
             "color": "#2a3f5f"
            },
            "error_y": {
             "color": "#2a3f5f"
            },
            "marker": {
             "line": {
              "color": "#E5ECF6",
              "width": 0.5
             }
            },
            "type": "bar"
           }
          ],
          "barpolar": [
           {
            "marker": {
             "line": {
              "color": "#E5ECF6",
              "width": 0.5
             }
            },
            "type": "barpolar"
           }
          ],
          "carpet": [
           {
            "aaxis": {
             "endlinecolor": "#2a3f5f",
             "gridcolor": "white",
             "linecolor": "white",
             "minorgridcolor": "white",
             "startlinecolor": "#2a3f5f"
            },
            "baxis": {
             "endlinecolor": "#2a3f5f",
             "gridcolor": "white",
             "linecolor": "white",
             "minorgridcolor": "white",
             "startlinecolor": "#2a3f5f"
            },
            "type": "carpet"
           }
          ],
          "choropleth": [
           {
            "colorbar": {
             "outlinewidth": 0,
             "ticks": ""
            },
            "type": "choropleth"
           }
          ],
          "contour": [
           {
            "colorbar": {
             "outlinewidth": 0,
             "ticks": ""
            },
            "colorscale": [
             [
              0,
              "#0d0887"
             ],
             [
              0.1111111111111111,
              "#46039f"
             ],
             [
              0.2222222222222222,
              "#7201a8"
             ],
             [
              0.3333333333333333,
              "#9c179e"
             ],
             [
              0.4444444444444444,
              "#bd3786"
             ],
             [
              0.5555555555555556,
              "#d8576b"
             ],
             [
              0.6666666666666666,
              "#ed7953"
             ],
             [
              0.7777777777777778,
              "#fb9f3a"
             ],
             [
              0.8888888888888888,
              "#fdca26"
             ],
             [
              1,
              "#f0f921"
             ]
            ],
            "type": "contour"
           }
          ],
          "contourcarpet": [
           {
            "colorbar": {
             "outlinewidth": 0,
             "ticks": ""
            },
            "type": "contourcarpet"
           }
          ],
          "heatmap": [
           {
            "colorbar": {
             "outlinewidth": 0,
             "ticks": ""
            },
            "colorscale": [
             [
              0,
              "#0d0887"
             ],
             [
              0.1111111111111111,
              "#46039f"
             ],
             [
              0.2222222222222222,
              "#7201a8"
             ],
             [
              0.3333333333333333,
              "#9c179e"
             ],
             [
              0.4444444444444444,
              "#bd3786"
             ],
             [
              0.5555555555555556,
              "#d8576b"
             ],
             [
              0.6666666666666666,
              "#ed7953"
             ],
             [
              0.7777777777777778,
              "#fb9f3a"
             ],
             [
              0.8888888888888888,
              "#fdca26"
             ],
             [
              1,
              "#f0f921"
             ]
            ],
            "type": "heatmap"
           }
          ],
          "heatmapgl": [
           {
            "colorbar": {
             "outlinewidth": 0,
             "ticks": ""
            },
            "colorscale": [
             [
              0,
              "#0d0887"
             ],
             [
              0.1111111111111111,
              "#46039f"
             ],
             [
              0.2222222222222222,
              "#7201a8"
             ],
             [
              0.3333333333333333,
              "#9c179e"
             ],
             [
              0.4444444444444444,
              "#bd3786"
             ],
             [
              0.5555555555555556,
              "#d8576b"
             ],
             [
              0.6666666666666666,
              "#ed7953"
             ],
             [
              0.7777777777777778,
              "#fb9f3a"
             ],
             [
              0.8888888888888888,
              "#fdca26"
             ],
             [
              1,
              "#f0f921"
             ]
            ],
            "type": "heatmapgl"
           }
          ],
          "histogram": [
           {
            "marker": {
             "colorbar": {
              "outlinewidth": 0,
              "ticks": ""
             }
            },
            "type": "histogram"
           }
          ],
          "histogram2d": [
           {
            "colorbar": {
             "outlinewidth": 0,
             "ticks": ""
            },
            "colorscale": [
             [
              0,
              "#0d0887"
             ],
             [
              0.1111111111111111,
              "#46039f"
             ],
             [
              0.2222222222222222,
              "#7201a8"
             ],
             [
              0.3333333333333333,
              "#9c179e"
             ],
             [
              0.4444444444444444,
              "#bd3786"
             ],
             [
              0.5555555555555556,
              "#d8576b"
             ],
             [
              0.6666666666666666,
              "#ed7953"
             ],
             [
              0.7777777777777778,
              "#fb9f3a"
             ],
             [
              0.8888888888888888,
              "#fdca26"
             ],
             [
              1,
              "#f0f921"
             ]
            ],
            "type": "histogram2d"
           }
          ],
          "histogram2dcontour": [
           {
            "colorbar": {
             "outlinewidth": 0,
             "ticks": ""
            },
            "colorscale": [
             [
              0,
              "#0d0887"
             ],
             [
              0.1111111111111111,
              "#46039f"
             ],
             [
              0.2222222222222222,
              "#7201a8"
             ],
             [
              0.3333333333333333,
              "#9c179e"
             ],
             [
              0.4444444444444444,
              "#bd3786"
             ],
             [
              0.5555555555555556,
              "#d8576b"
             ],
             [
              0.6666666666666666,
              "#ed7953"
             ],
             [
              0.7777777777777778,
              "#fb9f3a"
             ],
             [
              0.8888888888888888,
              "#fdca26"
             ],
             [
              1,
              "#f0f921"
             ]
            ],
            "type": "histogram2dcontour"
           }
          ],
          "mesh3d": [
           {
            "colorbar": {
             "outlinewidth": 0,
             "ticks": ""
            },
            "type": "mesh3d"
           }
          ],
          "parcoords": [
           {
            "line": {
             "colorbar": {
              "outlinewidth": 0,
              "ticks": ""
             }
            },
            "type": "parcoords"
           }
          ],
          "pie": [
           {
            "automargin": true,
            "type": "pie"
           }
          ],
          "scatter": [
           {
            "marker": {
             "colorbar": {
              "outlinewidth": 0,
              "ticks": ""
             }
            },
            "type": "scatter"
           }
          ],
          "scatter3d": [
           {
            "line": {
             "colorbar": {
              "outlinewidth": 0,
              "ticks": ""
             }
            },
            "marker": {
             "colorbar": {
              "outlinewidth": 0,
              "ticks": ""
             }
            },
            "type": "scatter3d"
           }
          ],
          "scattercarpet": [
           {
            "marker": {
             "colorbar": {
              "outlinewidth": 0,
              "ticks": ""
             }
            },
            "type": "scattercarpet"
           }
          ],
          "scattergeo": [
           {
            "marker": {
             "colorbar": {
              "outlinewidth": 0,
              "ticks": ""
             }
            },
            "type": "scattergeo"
           }
          ],
          "scattergl": [
           {
            "marker": {
             "colorbar": {
              "outlinewidth": 0,
              "ticks": ""
             }
            },
            "type": "scattergl"
           }
          ],
          "scattermapbox": [
           {
            "marker": {
             "colorbar": {
              "outlinewidth": 0,
              "ticks": ""
             }
            },
            "type": "scattermapbox"
           }
          ],
          "scatterpolar": [
           {
            "marker": {
             "colorbar": {
              "outlinewidth": 0,
              "ticks": ""
             }
            },
            "type": "scatterpolar"
           }
          ],
          "scatterpolargl": [
           {
            "marker": {
             "colorbar": {
              "outlinewidth": 0,
              "ticks": ""
             }
            },
            "type": "scatterpolargl"
           }
          ],
          "scatterternary": [
           {
            "marker": {
             "colorbar": {
              "outlinewidth": 0,
              "ticks": ""
             }
            },
            "type": "scatterternary"
           }
          ],
          "surface": [
           {
            "colorbar": {
             "outlinewidth": 0,
             "ticks": ""
            },
            "colorscale": [
             [
              0,
              "#0d0887"
             ],
             [
              0.1111111111111111,
              "#46039f"
             ],
             [
              0.2222222222222222,
              "#7201a8"
             ],
             [
              0.3333333333333333,
              "#9c179e"
             ],
             [
              0.4444444444444444,
              "#bd3786"
             ],
             [
              0.5555555555555556,
              "#d8576b"
             ],
             [
              0.6666666666666666,
              "#ed7953"
             ],
             [
              0.7777777777777778,
              "#fb9f3a"
             ],
             [
              0.8888888888888888,
              "#fdca26"
             ],
             [
              1,
              "#f0f921"
             ]
            ],
            "type": "surface"
           }
          ],
          "table": [
           {
            "cells": {
             "fill": {
              "color": "#EBF0F8"
             },
             "line": {
              "color": "white"
             }
            },
            "header": {
             "fill": {
              "color": "#C8D4E3"
             },
             "line": {
              "color": "white"
             }
            },
            "type": "table"
           }
          ]
         },
         "layout": {
          "annotationdefaults": {
           "arrowcolor": "#2a3f5f",
           "arrowhead": 0,
           "arrowwidth": 1
          },
          "coloraxis": {
           "colorbar": {
            "outlinewidth": 0,
            "ticks": ""
           }
          },
          "colorscale": {
           "diverging": [
            [
             0,
             "#8e0152"
            ],
            [
             0.1,
             "#c51b7d"
            ],
            [
             0.2,
             "#de77ae"
            ],
            [
             0.3,
             "#f1b6da"
            ],
            [
             0.4,
             "#fde0ef"
            ],
            [
             0.5,
             "#f7f7f7"
            ],
            [
             0.6,
             "#e6f5d0"
            ],
            [
             0.7,
             "#b8e186"
            ],
            [
             0.8,
             "#7fbc41"
            ],
            [
             0.9,
             "#4d9221"
            ],
            [
             1,
             "#276419"
            ]
           ],
           "sequential": [
            [
             0,
             "#0d0887"
            ],
            [
             0.1111111111111111,
             "#46039f"
            ],
            [
             0.2222222222222222,
             "#7201a8"
            ],
            [
             0.3333333333333333,
             "#9c179e"
            ],
            [
             0.4444444444444444,
             "#bd3786"
            ],
            [
             0.5555555555555556,
             "#d8576b"
            ],
            [
             0.6666666666666666,
             "#ed7953"
            ],
            [
             0.7777777777777778,
             "#fb9f3a"
            ],
            [
             0.8888888888888888,
             "#fdca26"
            ],
            [
             1,
             "#f0f921"
            ]
           ],
           "sequentialminus": [
            [
             0,
             "#0d0887"
            ],
            [
             0.1111111111111111,
             "#46039f"
            ],
            [
             0.2222222222222222,
             "#7201a8"
            ],
            [
             0.3333333333333333,
             "#9c179e"
            ],
            [
             0.4444444444444444,
             "#bd3786"
            ],
            [
             0.5555555555555556,
             "#d8576b"
            ],
            [
             0.6666666666666666,
             "#ed7953"
            ],
            [
             0.7777777777777778,
             "#fb9f3a"
            ],
            [
             0.8888888888888888,
             "#fdca26"
            ],
            [
             1,
             "#f0f921"
            ]
           ]
          },
          "colorway": [
           "#636efa",
           "#EF553B",
           "#00cc96",
           "#ab63fa",
           "#FFA15A",
           "#19d3f3",
           "#FF6692",
           "#B6E880",
           "#FF97FF",
           "#FECB52"
          ],
          "font": {
           "color": "#2a3f5f"
          },
          "geo": {
           "bgcolor": "white",
           "lakecolor": "white",
           "landcolor": "#E5ECF6",
           "showlakes": true,
           "showland": true,
           "subunitcolor": "white"
          },
          "hoverlabel": {
           "align": "left"
          },
          "hovermode": "closest",
          "mapbox": {
           "style": "light"
          },
          "paper_bgcolor": "white",
          "plot_bgcolor": "#E5ECF6",
          "polar": {
           "angularaxis": {
            "gridcolor": "white",
            "linecolor": "white",
            "ticks": ""
           },
           "bgcolor": "#E5ECF6",
           "radialaxis": {
            "gridcolor": "white",
            "linecolor": "white",
            "ticks": ""
           }
          },
          "scene": {
           "xaxis": {
            "backgroundcolor": "#E5ECF6",
            "gridcolor": "white",
            "gridwidth": 2,
            "linecolor": "white",
            "showbackground": true,
            "ticks": "",
            "zerolinecolor": "white"
           },
           "yaxis": {
            "backgroundcolor": "#E5ECF6",
            "gridcolor": "white",
            "gridwidth": 2,
            "linecolor": "white",
            "showbackground": true,
            "ticks": "",
            "zerolinecolor": "white"
           },
           "zaxis": {
            "backgroundcolor": "#E5ECF6",
            "gridcolor": "white",
            "gridwidth": 2,
            "linecolor": "white",
            "showbackground": true,
            "ticks": "",
            "zerolinecolor": "white"
           }
          },
          "shapedefaults": {
           "line": {
            "color": "#2a3f5f"
           }
          },
          "ternary": {
           "aaxis": {
            "gridcolor": "white",
            "linecolor": "white",
            "ticks": ""
           },
           "baxis": {
            "gridcolor": "white",
            "linecolor": "white",
            "ticks": ""
           },
           "bgcolor": "#E5ECF6",
           "caxis": {
            "gridcolor": "white",
            "linecolor": "white",
            "ticks": ""
           }
          },
          "title": {
           "x": 0.05
          },
          "xaxis": {
           "automargin": true,
           "gridcolor": "white",
           "linecolor": "white",
           "ticks": "",
           "title": {
            "standoff": 15
           },
           "zerolinecolor": "white",
           "zerolinewidth": 2
          },
          "yaxis": {
           "automargin": true,
           "gridcolor": "white",
           "linecolor": "white",
           "ticks": "",
           "title": {
            "standoff": 15
           },
           "zerolinecolor": "white",
           "zerolinewidth": 2
          }
         }
        },
        "title": {
         "font": {
          "color": "#4D5663"
         }
        },
        "xaxis": {
         "anchor": "y",
         "domain": [
          0,
          0.2125
         ],
         "gridcolor": "#E1E5ED",
         "showgrid": false,
         "tickfont": {
          "color": "#4D5663"
         },
         "title": {
          "font": {
           "color": "#4D5663"
          },
          "text": ""
         },
         "zerolinecolor": "#E1E5ED"
        },
        "xaxis10": {
         "anchor": "y10",
         "domain": [
          0.2625,
          0.475
         ],
         "gridcolor": "#E1E5ED",
         "showgrid": false,
         "tickfont": {
          "color": "#4D5663"
         },
         "title": {
          "font": {
           "color": "#4D5663"
          },
          "text": ""
         },
         "zerolinecolor": "#E1E5ED"
        },
        "xaxis11": {
         "anchor": "y11",
         "domain": [
          0.525,
          0.7375
         ],
         "gridcolor": "#E1E5ED",
         "showgrid": false,
         "tickfont": {
          "color": "#4D5663"
         },
         "title": {
          "font": {
           "color": "#4D5663"
          },
          "text": ""
         },
         "zerolinecolor": "#E1E5ED"
        },
        "xaxis12": {
         "anchor": "y12",
         "domain": [
          0.7875,
          1
         ],
         "gridcolor": "#E1E5ED",
         "showgrid": false,
         "tickfont": {
          "color": "#4D5663"
         },
         "title": {
          "font": {
           "color": "#4D5663"
          },
          "text": ""
         },
         "zerolinecolor": "#E1E5ED"
        },
        "xaxis13": {
         "anchor": "y13",
         "domain": [
          0,
          0.2125
         ],
         "gridcolor": "#E1E5ED",
         "showgrid": false,
         "tickfont": {
          "color": "#4D5663"
         },
         "title": {
          "font": {
           "color": "#4D5663"
          },
          "text": ""
         },
         "zerolinecolor": "#E1E5ED"
        },
        "xaxis14": {
         "anchor": "y14",
         "domain": [
          0.2625,
          0.475
         ],
         "gridcolor": "#E1E5ED",
         "showgrid": false,
         "tickfont": {
          "color": "#4D5663"
         },
         "title": {
          "font": {
           "color": "#4D5663"
          },
          "text": ""
         },
         "zerolinecolor": "#E1E5ED"
        },
        "xaxis15": {
         "anchor": "y15",
         "domain": [
          0.525,
          0.7375
         ],
         "gridcolor": "#E1E5ED",
         "showgrid": false,
         "tickfont": {
          "color": "#4D5663"
         },
         "title": {
          "font": {
           "color": "#4D5663"
          },
          "text": ""
         },
         "zerolinecolor": "#E1E5ED"
        },
        "xaxis16": {
         "anchor": "y16",
         "domain": [
          0.7875,
          1
         ],
         "gridcolor": "#E1E5ED",
         "showgrid": false,
         "tickfont": {
          "color": "#4D5663"
         },
         "title": {
          "font": {
           "color": "#4D5663"
          },
          "text": ""
         },
         "zerolinecolor": "#E1E5ED"
        },
        "xaxis2": {
         "anchor": "y2",
         "domain": [
          0.2625,
          0.475
         ],
         "gridcolor": "#E1E5ED",
         "showgrid": false,
         "tickfont": {
          "color": "#4D5663"
         },
         "title": {
          "font": {
           "color": "#4D5663"
          },
          "text": ""
         },
         "zerolinecolor": "#E1E5ED"
        },
        "xaxis3": {
         "anchor": "y3",
         "domain": [
          0.525,
          0.7375
         ],
         "gridcolor": "#E1E5ED",
         "showgrid": false,
         "tickfont": {
          "color": "#4D5663"
         },
         "title": {
          "font": {
           "color": "#4D5663"
          },
          "text": ""
         },
         "zerolinecolor": "#E1E5ED"
        },
        "xaxis4": {
         "anchor": "y4",
         "domain": [
          0.7875,
          1
         ],
         "gridcolor": "#E1E5ED",
         "showgrid": false,
         "tickfont": {
          "color": "#4D5663"
         },
         "title": {
          "font": {
           "color": "#4D5663"
          },
          "text": ""
         },
         "zerolinecolor": "#E1E5ED"
        },
        "xaxis5": {
         "anchor": "y5",
         "domain": [
          0,
          0.2125
         ],
         "gridcolor": "#E1E5ED",
         "showgrid": false,
         "tickfont": {
          "color": "#4D5663"
         },
         "title": {
          "font": {
           "color": "#4D5663"
          },
          "text": ""
         },
         "zerolinecolor": "#E1E5ED"
        },
        "xaxis6": {
         "anchor": "y6",
         "domain": [
          0.2625,
          0.475
         ],
         "gridcolor": "#E1E5ED",
         "showgrid": false,
         "tickfont": {
          "color": "#4D5663"
         },
         "title": {
          "font": {
           "color": "#4D5663"
          },
          "text": ""
         },
         "zerolinecolor": "#E1E5ED"
        },
        "xaxis7": {
         "anchor": "y7",
         "domain": [
          0.525,
          0.7375
         ],
         "gridcolor": "#E1E5ED",
         "showgrid": false,
         "tickfont": {
          "color": "#4D5663"
         },
         "title": {
          "font": {
           "color": "#4D5663"
          },
          "text": ""
         },
         "zerolinecolor": "#E1E5ED"
        },
        "xaxis8": {
         "anchor": "y8",
         "domain": [
          0.7875,
          1
         ],
         "gridcolor": "#E1E5ED",
         "showgrid": false,
         "tickfont": {
          "color": "#4D5663"
         },
         "title": {
          "font": {
           "color": "#4D5663"
          },
          "text": ""
         },
         "zerolinecolor": "#E1E5ED"
        },
        "xaxis9": {
         "anchor": "y9",
         "domain": [
          0,
          0.2125
         ],
         "gridcolor": "#E1E5ED",
         "showgrid": false,
         "tickfont": {
          "color": "#4D5663"
         },
         "title": {
          "font": {
           "color": "#4D5663"
          },
          "text": ""
         },
         "zerolinecolor": "#E1E5ED"
        },
        "yaxis": {
         "anchor": "x",
         "domain": [
          0.8025,
          1
         ],
         "gridcolor": "#E1E5ED",
         "showgrid": false,
         "tickfont": {
          "color": "#4D5663"
         },
         "title": {
          "font": {
           "color": "#4D5663"
          },
          "text": ""
         },
         "zerolinecolor": "#E1E5ED"
        },
        "yaxis10": {
         "anchor": "x10",
         "domain": [
          0.2675,
          0.465
         ],
         "gridcolor": "#E1E5ED",
         "showgrid": false,
         "tickfont": {
          "color": "#4D5663"
         },
         "title": {
          "font": {
           "color": "#4D5663"
          },
          "text": ""
         },
         "zerolinecolor": "#E1E5ED"
        },
        "yaxis11": {
         "anchor": "x11",
         "domain": [
          0.2675,
          0.465
         ],
         "gridcolor": "#E1E5ED",
         "showgrid": false,
         "tickfont": {
          "color": "#4D5663"
         },
         "title": {
          "font": {
           "color": "#4D5663"
          },
          "text": ""
         },
         "zerolinecolor": "#E1E5ED"
        },
        "yaxis12": {
         "anchor": "x12",
         "domain": [
          0.2675,
          0.465
         ],
         "gridcolor": "#E1E5ED",
         "showgrid": false,
         "tickfont": {
          "color": "#4D5663"
         },
         "title": {
          "font": {
           "color": "#4D5663"
          },
          "text": ""
         },
         "zerolinecolor": "#E1E5ED"
        },
        "yaxis13": {
         "anchor": "x13",
         "domain": [
          0,
          0.1975
         ],
         "gridcolor": "#E1E5ED",
         "showgrid": false,
         "tickfont": {
          "color": "#4D5663"
         },
         "title": {
          "font": {
           "color": "#4D5663"
          },
          "text": ""
         },
         "zerolinecolor": "#E1E5ED"
        },
        "yaxis14": {
         "anchor": "x14",
         "domain": [
          0,
          0.1975
         ],
         "gridcolor": "#E1E5ED",
         "showgrid": false,
         "tickfont": {
          "color": "#4D5663"
         },
         "title": {
          "font": {
           "color": "#4D5663"
          },
          "text": ""
         },
         "zerolinecolor": "#E1E5ED"
        },
        "yaxis15": {
         "anchor": "x15",
         "domain": [
          0,
          0.1975
         ],
         "gridcolor": "#E1E5ED",
         "showgrid": false,
         "tickfont": {
          "color": "#4D5663"
         },
         "title": {
          "font": {
           "color": "#4D5663"
          },
          "text": ""
         },
         "zerolinecolor": "#E1E5ED"
        },
        "yaxis16": {
         "anchor": "x16",
         "domain": [
          0,
          0.1975
         ],
         "gridcolor": "#E1E5ED",
         "showgrid": false,
         "tickfont": {
          "color": "#4D5663"
         },
         "title": {
          "font": {
           "color": "#4D5663"
          },
          "text": ""
         },
         "zerolinecolor": "#E1E5ED"
        },
        "yaxis2": {
         "anchor": "x2",
         "domain": [
          0.8025,
          1
         ],
         "gridcolor": "#E1E5ED",
         "showgrid": false,
         "tickfont": {
          "color": "#4D5663"
         },
         "title": {
          "font": {
           "color": "#4D5663"
          },
          "text": ""
         },
         "zerolinecolor": "#E1E5ED"
        },
        "yaxis3": {
         "anchor": "x3",
         "domain": [
          0.8025,
          1
         ],
         "gridcolor": "#E1E5ED",
         "showgrid": false,
         "tickfont": {
          "color": "#4D5663"
         },
         "title": {
          "font": {
           "color": "#4D5663"
          },
          "text": ""
         },
         "zerolinecolor": "#E1E5ED"
        },
        "yaxis4": {
         "anchor": "x4",
         "domain": [
          0.8025,
          1
         ],
         "gridcolor": "#E1E5ED",
         "showgrid": false,
         "tickfont": {
          "color": "#4D5663"
         },
         "title": {
          "font": {
           "color": "#4D5663"
          },
          "text": ""
         },
         "zerolinecolor": "#E1E5ED"
        },
        "yaxis5": {
         "anchor": "x5",
         "domain": [
          0.535,
          0.7325
         ],
         "gridcolor": "#E1E5ED",
         "showgrid": false,
         "tickfont": {
          "color": "#4D5663"
         },
         "title": {
          "font": {
           "color": "#4D5663"
          },
          "text": ""
         },
         "zerolinecolor": "#E1E5ED"
        },
        "yaxis6": {
         "anchor": "x6",
         "domain": [
          0.535,
          0.7325
         ],
         "gridcolor": "#E1E5ED",
         "showgrid": false,
         "tickfont": {
          "color": "#4D5663"
         },
         "title": {
          "font": {
           "color": "#4D5663"
          },
          "text": ""
         },
         "zerolinecolor": "#E1E5ED"
        },
        "yaxis7": {
         "anchor": "x7",
         "domain": [
          0.535,
          0.7325
         ],
         "gridcolor": "#E1E5ED",
         "showgrid": false,
         "tickfont": {
          "color": "#4D5663"
         },
         "title": {
          "font": {
           "color": "#4D5663"
          },
          "text": ""
         },
         "zerolinecolor": "#E1E5ED"
        },
        "yaxis8": {
         "anchor": "x8",
         "domain": [
          0.535,
          0.7325
         ],
         "gridcolor": "#E1E5ED",
         "showgrid": false,
         "tickfont": {
          "color": "#4D5663"
         },
         "title": {
          "font": {
           "color": "#4D5663"
          },
          "text": ""
         },
         "zerolinecolor": "#E1E5ED"
        },
        "yaxis9": {
         "anchor": "x9",
         "domain": [
          0.2675,
          0.465
         ],
         "gridcolor": "#E1E5ED",
         "showgrid": false,
         "tickfont": {
          "color": "#4D5663"
         },
         "title": {
          "font": {
           "color": "#4D5663"
          },
          "text": ""
         },
         "zerolinecolor": "#E1E5ED"
        }
       }
      },
      "text/html": [
       "<div>\n",
       "        \n",
       "        \n",
       "            <div id=\"cb896967-7125-4583-9fc3-2a6bb32e1f0e\" class=\"plotly-graph-div\" style=\"height:525px; width:100%;\"></div>\n",
       "            <script type=\"text/javascript\">\n",
       "                require([\"plotly\"], function(Plotly) {\n",
       "                    window.PLOTLYENV=window.PLOTLYENV || {};\n",
       "                    window.PLOTLYENV.BASE_URL='https://plot.ly';\n",
       "                    \n",
       "                if (document.getElementById(\"cb896967-7125-4583-9fc3-2a6bb32e1f0e\")) {\n",
       "                    Plotly.newPlot(\n",
       "                        'cb896967-7125-4583-9fc3-2a6bb32e1f0e',\n",
       "                        [{\"histfunc\": \"count\", \"histnorm\": \"\", \"marker\": {\"color\": \"rgba(255, 153, 51, 1.0)\", \"line\": {\"color\": \"#4D5663\", \"width\": 1.3}}, \"name\": \"A\", \"nbinsx\": 10, \"opacity\": 0.8, \"orientation\": \"v\", \"type\": \"histogram\", \"x\": [-0.28658062289161507, 2.8713810642415774, -0.8356058485756809, 0.015123707936464765, -0.36393332536263484, 2.341958955914593, 0.026375334658533516, -0.8912079656500846, 1.5259075076059636, -0.7251464655554153, -2.208567554152265, 0.8160362211716472, 0.1352305382758277, -0.07773618163611463, -1.6218256058133913, -1.4461184112948848, -0.9432178303375855, 0.11042142518952364, 0.22210119025882, 0.29314536564232757, -1.3667737782574663, 2.1170959584160776, -1.9885300360304687, 0.3009043264085271, 1.4900545862313435, 0.16707632821401622, 0.9089693366488185, -0.5309538275682677, -0.5645450618475066, 1.6180166982761703, 0.7121765540358281, -0.7133586311906459, 0.5262454614186426, -0.6978902815960228, 0.6315922215150983, 1.0230806194359456, 0.3552860393922047, -0.5659277005265211, -0.04418343728629043, 0.28347053779399023, 2.0322264650736446, -0.7523401320867622, -0.8403470210799748, 0.27784684716034863, 0.1822850299791254, -0.3697102441389198, -0.021692284748169602, -2.108941307116421, 0.31163343692776824, 2.283327532521014, -0.21171012089409746, -0.14660748153512856, 0.9344186636741401, -0.6106330572294365, -1.5392174683883328, -1.0058035991732786, 2.207169422150619, -1.9791714166370522, -0.7716556864796765, 0.42222551730076235, -0.790403471570592, 0.4827492291330723, 1.25811273044089, -0.4173142231933926, -1.683138705155208, -1.34399245571848, 0.4625126996712462, 1.2210567254188085, 0.07491053801766187, 1.6386682454467674, -0.5700560828390816, -1.200150895129222, -0.4816388445980546, -1.2599499551980429, 0.12748578860097046, -0.5886401471762375, 1.5612153234010075, 0.883110723570033, -0.6793443992951693, -1.7579488291595078, -0.6262305193938559, -0.597589289924199, 0.5975570794231981, -0.8338945349348488, 0.8538301101490644, -1.228745130925553, -0.07970988512138309, -1.5924974279353095, 0.9272268562201983, -0.14144485985252866, 0.6360884600335864, -0.6850117004071394, -0.3733130217574712, -1.6315284967377977, 0.7805667618604121, -0.5193183640984484, -0.7885902824548963, -0.23556747027558908, 1.1819720205400592, 0.5899214406180822], \"xaxis\": \"x\", \"yaxis\": \"y\"}, {\"line\": {\"color\": \"rgba(128, 128, 128, 1.0)\", \"dash\": \"solid\", \"shape\": \"linear\", \"width\": 1.3}, \"marker\": {\"size\": 2, \"symbol\": \"circle\"}, \"mode\": \"markers\", \"name\": \"A\", \"text\": \"\", \"type\": \"scatter\", \"x\": [1.5740728987236858, -0.5204962324025592, 0.3784879080197764, 0.5665830926250587, 1.8307528761381824, 1.496398337103953, 0.319114278020899, 1.3241804073809924, -2.2199737044173027, 0.4069568095734938, 0.14826216989882013, -0.994303336633359, -0.36208520713052306, 1.7495268971863218, -0.4261065698300166, -1.7270517273707098, -2.357261283307402, 2.403928501039504, 0.6251246787404335, -0.004245790921073416, 1.6803335896006206, -0.7740097921221676, -0.17455728219713768, 0.5346934292088612, -0.16299832133350473, -1.6430005512614236, 0.1874046982263252, 0.3062098943756686, -1.075078115834331, -1.2214886703038546, -0.14724209756744944, 0.2429769271893512, -0.23269608358220994, 0.36352732895139045, 0.7934071373939708, -2.5011489951532644, -0.18797315258982397, 0.38603232777514507, 2.045463743570114, -0.26097071764894264, 0.550200525982311, -1.0767578575594094, 0.5983416714319514, -0.6321645924326897, -0.2766778496970904, 0.6695187229527138, 1.0353017178297368, 0.5761075611725717, 1.4718017958919445, -0.4896305364712738, 1.1538261951756705, 1.158823447440352, -0.8732216047844114, 1.520045712919522, 0.5910070115791487, -0.7236162689815163, -1.2718512751459379, 0.4412226470368304, 0.6634561156688739, -0.4577892833900473, 0.1318589819788368, -1.4368522046631298, -1.8395329503791198, -1.6492182544058702, -2.4797759739644487, 0.03894320353626314, -0.35092509075247313, 1.388297843133826, 0.11573851710811286, 0.3062732272678091, -0.46590267674086555, 0.5456442466695953, -0.5304629942227559, -0.4313314370468433, -0.08957726082416721, 1.1264734945274768, -0.9290255244862805, -1.7314167216950984, -0.30353773563327374, -0.4913771831551384, 1.1019884388012529, -1.1006777820996694, 0.02889859416952101, 0.7844200346560151, 0.4196265261180495, -0.6473364753369074, 0.42737665263402697, -1.5403520115571134, 0.425865498394857, -0.17886127476218783, -0.4685216389506663, -1.155388110493677, 0.46525913637554894, 0.9437691551712757, -0.744522351346594, -0.5107890860366717, -1.3104476513425958, -0.3659836777369112, -0.218182149822733, 0.5665569826426838], \"xaxis\": \"x2\", \"y\": [-0.28658062289161507, 2.8713810642415774, -0.8356058485756809, 0.015123707936464765, -0.36393332536263484, 2.341958955914593, 0.026375334658533516, -0.8912079656500846, 1.5259075076059636, -0.7251464655554153, -2.208567554152265, 0.8160362211716472, 0.1352305382758277, -0.07773618163611463, -1.6218256058133913, -1.4461184112948848, -0.9432178303375855, 0.11042142518952364, 0.22210119025882, 0.29314536564232757, -1.3667737782574663, 2.1170959584160776, -1.9885300360304687, 0.3009043264085271, 1.4900545862313435, 0.16707632821401622, 0.9089693366488185, -0.5309538275682677, -0.5645450618475066, 1.6180166982761703, 0.7121765540358281, -0.7133586311906459, 0.5262454614186426, -0.6978902815960228, 0.6315922215150983, 1.0230806194359456, 0.3552860393922047, -0.5659277005265211, -0.04418343728629043, 0.28347053779399023, 2.0322264650736446, -0.7523401320867622, -0.8403470210799748, 0.27784684716034863, 0.1822850299791254, -0.3697102441389198, -0.021692284748169602, -2.108941307116421, 0.31163343692776824, 2.283327532521014, -0.21171012089409746, -0.14660748153512856, 0.9344186636741401, -0.6106330572294365, -1.5392174683883328, -1.0058035991732786, 2.207169422150619, -1.9791714166370522, -0.7716556864796765, 0.42222551730076235, -0.790403471570592, 0.4827492291330723, 1.25811273044089, -0.4173142231933926, -1.683138705155208, -1.34399245571848, 0.4625126996712462, 1.2210567254188085, 0.07491053801766187, 1.6386682454467674, -0.5700560828390816, -1.200150895129222, -0.4816388445980546, -1.2599499551980429, 0.12748578860097046, -0.5886401471762375, 1.5612153234010075, 0.883110723570033, -0.6793443992951693, -1.7579488291595078, -0.6262305193938559, -0.597589289924199, 0.5975570794231981, -0.8338945349348488, 0.8538301101490644, -1.228745130925553, -0.07970988512138309, -1.5924974279353095, 0.9272268562201983, -0.14144485985252866, 0.6360884600335864, -0.6850117004071394, -0.3733130217574712, -1.6315284967377977, 0.7805667618604121, -0.5193183640984484, -0.7885902824548963, -0.23556747027558908, 1.1819720205400592, 0.5899214406180822], \"yaxis\": \"y2\"}, {\"line\": {\"color\": \"rgba(128, 128, 128, 1.0)\", \"dash\": \"solid\", \"shape\": \"linear\", \"width\": 1.3}, \"marker\": {\"size\": 2, \"symbol\": \"circle\"}, \"mode\": \"markers\", \"name\": \"A\", \"text\": \"\", \"type\": \"scatter\", \"x\": [-1.459603748949274, 0.36084732152997506, -0.5087937897803205, -0.6625875564515807, 0.0458571320132211, -0.22353172948762665, -0.021676901168215516, 1.0109969799556564, 0.1548417939707732, 1.5246861097068372, 0.3843073754188259, -0.2877351727481541, -0.8850510395471989, 0.2302827746108358, -1.046706085000357, 0.4903825137117322, -0.8882765471260752, -0.6635904192407448, -0.7849761458065712, 0.22187755364367384, -0.08579259749363648, -0.6798487451416599, -0.13465838813595868, 0.966528711550423, -0.8939417164300886, 0.5092521728758914, 1.3813890362258592, -0.6000915663898146, -0.5198908129046946, 0.06811418698271128, -1.3801924853538312, 1.4507628195644844, 0.056975942253230986, 1.065230071169316, 2.2980625224378404, -0.5438322888356067, -2.1762460325655524, -1.4241602029776532, 1.530180390020162, -0.9119662893511137, -0.7638120477535097, -0.4858369466878768, -0.3364749472572307, 0.10144804129609479, -1.2162676038013833, -0.7566384634161051, -1.198459931518552, -0.8318366424691529, 1.1237094110646053, -0.31324383939626116, -1.0631440705709407, -0.13236752637785063, 2.3832147031217166, 1.0462176836057986, -0.6171526303962681, 0.2857308516819357, 0.16104524787882576, -0.5319241247372348, -1.4777798506329485, -1.221479308539262, 0.6371917427808321, -0.3521472610364796, 0.3323907752437583, 0.4690092849237108, -0.9787983865768881, 2.97356807674231, -0.2917970357274098, -0.2787513946556441, 0.08316931315076394, 0.787785337972341, 0.6490432539715015, 0.44608689200473245, -0.8758569022651723, 1.3879867128830092, 1.5037583750280177, -0.21114615035189996, -0.4181473771800166, 0.9693102074920084, 0.2736780087250651, -0.48850396744306007, 2.367476751301778, 0.6726810623673567, -1.240595925016922, -1.5673391878627263, -0.6187053188840654, 0.17192069629634585, 0.5106228718980147, 0.9843033390360832, -2.205254245222359, -0.9781287793982962, 0.6504552688513575, 0.5176419431393856, 0.8207147676081725, 0.19596478523855554, 1.1095332252866947, -0.04085314220983656, -0.6129619868855157, 0.8626754226526893, 0.9921214949750415, -0.28417173462493367], \"xaxis\": \"x3\", \"y\": [-0.28658062289161507, 2.8713810642415774, -0.8356058485756809, 0.015123707936464765, -0.36393332536263484, 2.341958955914593, 0.026375334658533516, -0.8912079656500846, 1.5259075076059636, -0.7251464655554153, -2.208567554152265, 0.8160362211716472, 0.1352305382758277, -0.07773618163611463, -1.6218256058133913, -1.4461184112948848, -0.9432178303375855, 0.11042142518952364, 0.22210119025882, 0.29314536564232757, -1.3667737782574663, 2.1170959584160776, -1.9885300360304687, 0.3009043264085271, 1.4900545862313435, 0.16707632821401622, 0.9089693366488185, -0.5309538275682677, -0.5645450618475066, 1.6180166982761703, 0.7121765540358281, -0.7133586311906459, 0.5262454614186426, -0.6978902815960228, 0.6315922215150983, 1.0230806194359456, 0.3552860393922047, -0.5659277005265211, -0.04418343728629043, 0.28347053779399023, 2.0322264650736446, -0.7523401320867622, -0.8403470210799748, 0.27784684716034863, 0.1822850299791254, -0.3697102441389198, -0.021692284748169602, -2.108941307116421, 0.31163343692776824, 2.283327532521014, -0.21171012089409746, -0.14660748153512856, 0.9344186636741401, -0.6106330572294365, -1.5392174683883328, -1.0058035991732786, 2.207169422150619, -1.9791714166370522, -0.7716556864796765, 0.42222551730076235, -0.790403471570592, 0.4827492291330723, 1.25811273044089, -0.4173142231933926, -1.683138705155208, -1.34399245571848, 0.4625126996712462, 1.2210567254188085, 0.07491053801766187, 1.6386682454467674, -0.5700560828390816, -1.200150895129222, -0.4816388445980546, -1.2599499551980429, 0.12748578860097046, -0.5886401471762375, 1.5612153234010075, 0.883110723570033, -0.6793443992951693, -1.7579488291595078, -0.6262305193938559, -0.597589289924199, 0.5975570794231981, -0.8338945349348488, 0.8538301101490644, -1.228745130925553, -0.07970988512138309, -1.5924974279353095, 0.9272268562201983, -0.14144485985252866, 0.6360884600335864, -0.6850117004071394, -0.3733130217574712, -1.6315284967377977, 0.7805667618604121, -0.5193183640984484, -0.7885902824548963, -0.23556747027558908, 1.1819720205400592, 0.5899214406180822], \"yaxis\": \"y3\"}, {\"line\": {\"color\": \"rgba(128, 128, 128, 1.0)\", \"dash\": \"solid\", \"shape\": \"linear\", \"width\": 1.3}, \"marker\": {\"size\": 2, \"symbol\": \"circle\"}, \"mode\": \"markers\", \"name\": \"A\", \"text\": \"\", \"type\": \"scatter\", \"x\": [-0.36843748489429834, 1.573663816086213, 0.02138200976566842, 0.09654713224552525, -0.047453224701537323, 0.19622404390633058, -1.4677936505717069, 0.16847265438597325, 0.8541469774260697, 0.2787115744318224, 0.2550509546971101, 0.9738398424872442, 0.983756412376006, 1.772138932320897, 0.2824125191366073, 0.9581503693015755, -0.3361136095239392, -0.778480643711259, -0.9196675746383206, -0.4561399435716179, 0.7041234511118704, 0.3840654521028457, 1.2950270337210947, 0.6520895803806986, -0.0701065374551447, -0.3481889467794823, -0.6025996440367895, 0.5835089076878452, -0.9173006873679831, -0.388789211938765, -0.05626037443823479, 0.29977723032350884, -1.069382235219236, 0.3661278665663814, -1.4716019963433775, 1.9294763779525, -0.6651992094661, 1.2431585052103853, -1.9778747169690416, 0.8671612185490913, 0.9597034807362329, 1.0530172473875836, 1.0865771233924328, -0.6892158985281919, -0.5111063538918155, -1.9983789038577662, 0.3289294047544934, 0.015385363824137958, -0.4263665325461509, -1.1962971179633408, -1.0435130317124692, 0.14676810520402261, 1.063304322212356, -0.7478226448765005, 0.0708499838115726, -0.3180811548485733, 1.1348019060076748, -0.7861733179740832, 0.004055630047339287, -1.1346642149642945, -1.3326823461805832, -1.0040126391624085, -0.17188924005764283, 0.5509683892587323, -0.452522836687102, 0.0009431348771666263, -1.2927352123949698, 0.5611517113309042, 1.6200799067948002, 0.01977779447726261, -0.5057438199862079, 1.5999214592923323, 1.2056673567899268, -0.1133304445461091, -0.25843540882497096, -0.49604262118574804, -0.5813188784086023, 0.5369546139775898, -1.085308804635807, 1.1317928950545155, 0.7869883636718725, 0.8669532867871689, 0.31442152763111986, -0.25181868463329665, -0.353538895855213, 0.6575515102646519, 0.8844318658347354, 0.9146142997540004, 1.5814732505843072, 1.0245868131797415, -0.20542797464316637, 0.46519878109736074, 1.4325880132038897, -0.18531066682896988, -0.05846328750282914, 0.17497434563087624, 0.4406593327552767, -0.8772898092345249, -1.5108087138812814, -1.041379052269372], \"xaxis\": \"x4\", \"y\": [-0.28658062289161507, 2.8713810642415774, -0.8356058485756809, 0.015123707936464765, -0.36393332536263484, 2.341958955914593, 0.026375334658533516, -0.8912079656500846, 1.5259075076059636, -0.7251464655554153, -2.208567554152265, 0.8160362211716472, 0.1352305382758277, -0.07773618163611463, -1.6218256058133913, -1.4461184112948848, -0.9432178303375855, 0.11042142518952364, 0.22210119025882, 0.29314536564232757, -1.3667737782574663, 2.1170959584160776, -1.9885300360304687, 0.3009043264085271, 1.4900545862313435, 0.16707632821401622, 0.9089693366488185, -0.5309538275682677, -0.5645450618475066, 1.6180166982761703, 0.7121765540358281, -0.7133586311906459, 0.5262454614186426, -0.6978902815960228, 0.6315922215150983, 1.0230806194359456, 0.3552860393922047, -0.5659277005265211, -0.04418343728629043, 0.28347053779399023, 2.0322264650736446, -0.7523401320867622, -0.8403470210799748, 0.27784684716034863, 0.1822850299791254, -0.3697102441389198, -0.021692284748169602, -2.108941307116421, 0.31163343692776824, 2.283327532521014, -0.21171012089409746, -0.14660748153512856, 0.9344186636741401, -0.6106330572294365, -1.5392174683883328, -1.0058035991732786, 2.207169422150619, -1.9791714166370522, -0.7716556864796765, 0.42222551730076235, -0.790403471570592, 0.4827492291330723, 1.25811273044089, -0.4173142231933926, -1.683138705155208, -1.34399245571848, 0.4625126996712462, 1.2210567254188085, 0.07491053801766187, 1.6386682454467674, -0.5700560828390816, -1.200150895129222, -0.4816388445980546, -1.2599499551980429, 0.12748578860097046, -0.5886401471762375, 1.5612153234010075, 0.883110723570033, -0.6793443992951693, -1.7579488291595078, -0.6262305193938559, -0.597589289924199, 0.5975570794231981, -0.8338945349348488, 0.8538301101490644, -1.228745130925553, -0.07970988512138309, -1.5924974279353095, 0.9272268562201983, -0.14144485985252866, 0.6360884600335864, -0.6850117004071394, -0.3733130217574712, -1.6315284967377977, 0.7805667618604121, -0.5193183640984484, -0.7885902824548963, -0.23556747027558908, 1.1819720205400592, 0.5899214406180822], \"yaxis\": \"y4\"}, {\"line\": {\"color\": \"rgba(128, 128, 128, 1.0)\", \"dash\": \"solid\", \"shape\": \"linear\", \"width\": 1.3}, \"marker\": {\"size\": 2, \"symbol\": \"circle\"}, \"mode\": \"markers\", \"name\": \"B\", \"text\": \"\", \"type\": \"scatter\", \"x\": [-0.28658062289161507, 2.8713810642415774, -0.8356058485756809, 0.015123707936464765, -0.36393332536263484, 2.341958955914593, 0.026375334658533516, -0.8912079656500846, 1.5259075076059636, -0.7251464655554153, -2.208567554152265, 0.8160362211716472, 0.1352305382758277, -0.07773618163611463, -1.6218256058133913, -1.4461184112948848, -0.9432178303375855, 0.11042142518952364, 0.22210119025882, 0.29314536564232757, -1.3667737782574663, 2.1170959584160776, -1.9885300360304687, 0.3009043264085271, 1.4900545862313435, 0.16707632821401622, 0.9089693366488185, -0.5309538275682677, -0.5645450618475066, 1.6180166982761703, 0.7121765540358281, -0.7133586311906459, 0.5262454614186426, -0.6978902815960228, 0.6315922215150983, 1.0230806194359456, 0.3552860393922047, -0.5659277005265211, -0.04418343728629043, 0.28347053779399023, 2.0322264650736446, -0.7523401320867622, -0.8403470210799748, 0.27784684716034863, 0.1822850299791254, -0.3697102441389198, -0.021692284748169602, -2.108941307116421, 0.31163343692776824, 2.283327532521014, -0.21171012089409746, -0.14660748153512856, 0.9344186636741401, -0.6106330572294365, -1.5392174683883328, -1.0058035991732786, 2.207169422150619, -1.9791714166370522, -0.7716556864796765, 0.42222551730076235, -0.790403471570592, 0.4827492291330723, 1.25811273044089, -0.4173142231933926, -1.683138705155208, -1.34399245571848, 0.4625126996712462, 1.2210567254188085, 0.07491053801766187, 1.6386682454467674, -0.5700560828390816, -1.200150895129222, -0.4816388445980546, -1.2599499551980429, 0.12748578860097046, -0.5886401471762375, 1.5612153234010075, 0.883110723570033, -0.6793443992951693, -1.7579488291595078, -0.6262305193938559, -0.597589289924199, 0.5975570794231981, -0.8338945349348488, 0.8538301101490644, -1.228745130925553, -0.07970988512138309, -1.5924974279353095, 0.9272268562201983, -0.14144485985252866, 0.6360884600335864, -0.6850117004071394, -0.3733130217574712, -1.6315284967377977, 0.7805667618604121, -0.5193183640984484, -0.7885902824548963, -0.23556747027558908, 1.1819720205400592, 0.5899214406180822], \"xaxis\": \"x5\", \"y\": [1.5740728987236858, -0.5204962324025592, 0.3784879080197764, 0.5665830926250587, 1.8307528761381824, 1.496398337103953, 0.319114278020899, 1.3241804073809924, -2.2199737044173027, 0.4069568095734938, 0.14826216989882013, -0.994303336633359, -0.36208520713052306, 1.7495268971863218, -0.4261065698300166, -1.7270517273707098, -2.357261283307402, 2.403928501039504, 0.6251246787404335, -0.004245790921073416, 1.6803335896006206, -0.7740097921221676, -0.17455728219713768, 0.5346934292088612, -0.16299832133350473, -1.6430005512614236, 0.1874046982263252, 0.3062098943756686, -1.075078115834331, -1.2214886703038546, -0.14724209756744944, 0.2429769271893512, -0.23269608358220994, 0.36352732895139045, 0.7934071373939708, -2.5011489951532644, -0.18797315258982397, 0.38603232777514507, 2.045463743570114, -0.26097071764894264, 0.550200525982311, -1.0767578575594094, 0.5983416714319514, -0.6321645924326897, -0.2766778496970904, 0.6695187229527138, 1.0353017178297368, 0.5761075611725717, 1.4718017958919445, -0.4896305364712738, 1.1538261951756705, 1.158823447440352, -0.8732216047844114, 1.520045712919522, 0.5910070115791487, -0.7236162689815163, -1.2718512751459379, 0.4412226470368304, 0.6634561156688739, -0.4577892833900473, 0.1318589819788368, -1.4368522046631298, -1.8395329503791198, -1.6492182544058702, -2.4797759739644487, 0.03894320353626314, -0.35092509075247313, 1.388297843133826, 0.11573851710811286, 0.3062732272678091, -0.46590267674086555, 0.5456442466695953, -0.5304629942227559, -0.4313314370468433, -0.08957726082416721, 1.1264734945274768, -0.9290255244862805, -1.7314167216950984, -0.30353773563327374, -0.4913771831551384, 1.1019884388012529, -1.1006777820996694, 0.02889859416952101, 0.7844200346560151, 0.4196265261180495, -0.6473364753369074, 0.42737665263402697, -1.5403520115571134, 0.425865498394857, -0.17886127476218783, -0.4685216389506663, -1.155388110493677, 0.46525913637554894, 0.9437691551712757, -0.744522351346594, -0.5107890860366717, -1.3104476513425958, -0.3659836777369112, -0.218182149822733, 0.5665569826426838], \"yaxis\": \"y5\"}, {\"histfunc\": \"count\", \"histnorm\": \"\", \"marker\": {\"color\": \"rgba(55, 128, 191, 1.0)\", \"line\": {\"color\": \"#4D5663\", \"width\": 1.3}}, \"name\": \"B\", \"nbinsx\": 10, \"opacity\": 0.8, \"orientation\": \"v\", \"type\": \"histogram\", \"x\": [1.5740728987236858, -0.5204962324025592, 0.3784879080197764, 0.5665830926250587, 1.8307528761381824, 1.496398337103953, 0.319114278020899, 1.3241804073809924, -2.2199737044173027, 0.4069568095734938, 0.14826216989882013, -0.994303336633359, -0.36208520713052306, 1.7495268971863218, -0.4261065698300166, -1.7270517273707098, -2.357261283307402, 2.403928501039504, 0.6251246787404335, -0.004245790921073416, 1.6803335896006206, -0.7740097921221676, -0.17455728219713768, 0.5346934292088612, -0.16299832133350473, -1.6430005512614236, 0.1874046982263252, 0.3062098943756686, -1.075078115834331, -1.2214886703038546, -0.14724209756744944, 0.2429769271893512, -0.23269608358220994, 0.36352732895139045, 0.7934071373939708, -2.5011489951532644, -0.18797315258982397, 0.38603232777514507, 2.045463743570114, -0.26097071764894264, 0.550200525982311, -1.0767578575594094, 0.5983416714319514, -0.6321645924326897, -0.2766778496970904, 0.6695187229527138, 1.0353017178297368, 0.5761075611725717, 1.4718017958919445, -0.4896305364712738, 1.1538261951756705, 1.158823447440352, -0.8732216047844114, 1.520045712919522, 0.5910070115791487, -0.7236162689815163, -1.2718512751459379, 0.4412226470368304, 0.6634561156688739, -0.4577892833900473, 0.1318589819788368, -1.4368522046631298, -1.8395329503791198, -1.6492182544058702, -2.4797759739644487, 0.03894320353626314, -0.35092509075247313, 1.388297843133826, 0.11573851710811286, 0.3062732272678091, -0.46590267674086555, 0.5456442466695953, -0.5304629942227559, -0.4313314370468433, -0.08957726082416721, 1.1264734945274768, -0.9290255244862805, -1.7314167216950984, -0.30353773563327374, -0.4913771831551384, 1.1019884388012529, -1.1006777820996694, 0.02889859416952101, 0.7844200346560151, 0.4196265261180495, -0.6473364753369074, 0.42737665263402697, -1.5403520115571134, 0.425865498394857, -0.17886127476218783, -0.4685216389506663, -1.155388110493677, 0.46525913637554894, 0.9437691551712757, -0.744522351346594, -0.5107890860366717, -1.3104476513425958, -0.3659836777369112, -0.218182149822733, 0.5665569826426838], \"xaxis\": \"x6\", \"yaxis\": \"y6\"}, {\"line\": {\"color\": \"rgba(128, 128, 128, 1.0)\", \"dash\": \"solid\", \"shape\": \"linear\", \"width\": 1.3}, \"marker\": {\"size\": 2, \"symbol\": \"circle\"}, \"mode\": \"markers\", \"name\": \"B\", \"text\": \"\", \"type\": \"scatter\", \"x\": [-1.459603748949274, 0.36084732152997506, -0.5087937897803205, -0.6625875564515807, 0.0458571320132211, -0.22353172948762665, -0.021676901168215516, 1.0109969799556564, 0.1548417939707732, 1.5246861097068372, 0.3843073754188259, -0.2877351727481541, -0.8850510395471989, 0.2302827746108358, -1.046706085000357, 0.4903825137117322, -0.8882765471260752, -0.6635904192407448, -0.7849761458065712, 0.22187755364367384, -0.08579259749363648, -0.6798487451416599, -0.13465838813595868, 0.966528711550423, -0.8939417164300886, 0.5092521728758914, 1.3813890362258592, -0.6000915663898146, -0.5198908129046946, 0.06811418698271128, -1.3801924853538312, 1.4507628195644844, 0.056975942253230986, 1.065230071169316, 2.2980625224378404, -0.5438322888356067, -2.1762460325655524, -1.4241602029776532, 1.530180390020162, -0.9119662893511137, -0.7638120477535097, -0.4858369466878768, -0.3364749472572307, 0.10144804129609479, -1.2162676038013833, -0.7566384634161051, -1.198459931518552, -0.8318366424691529, 1.1237094110646053, -0.31324383939626116, -1.0631440705709407, -0.13236752637785063, 2.3832147031217166, 1.0462176836057986, -0.6171526303962681, 0.2857308516819357, 0.16104524787882576, -0.5319241247372348, -1.4777798506329485, -1.221479308539262, 0.6371917427808321, -0.3521472610364796, 0.3323907752437583, 0.4690092849237108, -0.9787983865768881, 2.97356807674231, -0.2917970357274098, -0.2787513946556441, 0.08316931315076394, 0.787785337972341, 0.6490432539715015, 0.44608689200473245, -0.8758569022651723, 1.3879867128830092, 1.5037583750280177, -0.21114615035189996, -0.4181473771800166, 0.9693102074920084, 0.2736780087250651, -0.48850396744306007, 2.367476751301778, 0.6726810623673567, -1.240595925016922, -1.5673391878627263, -0.6187053188840654, 0.17192069629634585, 0.5106228718980147, 0.9843033390360832, -2.205254245222359, -0.9781287793982962, 0.6504552688513575, 0.5176419431393856, 0.8207147676081725, 0.19596478523855554, 1.1095332252866947, -0.04085314220983656, -0.6129619868855157, 0.8626754226526893, 0.9921214949750415, -0.28417173462493367], \"xaxis\": \"x7\", \"y\": [1.5740728987236858, -0.5204962324025592, 0.3784879080197764, 0.5665830926250587, 1.8307528761381824, 1.496398337103953, 0.319114278020899, 1.3241804073809924, -2.2199737044173027, 0.4069568095734938, 0.14826216989882013, -0.994303336633359, -0.36208520713052306, 1.7495268971863218, -0.4261065698300166, -1.7270517273707098, -2.357261283307402, 2.403928501039504, 0.6251246787404335, -0.004245790921073416, 1.6803335896006206, -0.7740097921221676, -0.17455728219713768, 0.5346934292088612, -0.16299832133350473, -1.6430005512614236, 0.1874046982263252, 0.3062098943756686, -1.075078115834331, -1.2214886703038546, -0.14724209756744944, 0.2429769271893512, -0.23269608358220994, 0.36352732895139045, 0.7934071373939708, -2.5011489951532644, -0.18797315258982397, 0.38603232777514507, 2.045463743570114, -0.26097071764894264, 0.550200525982311, -1.0767578575594094, 0.5983416714319514, -0.6321645924326897, -0.2766778496970904, 0.6695187229527138, 1.0353017178297368, 0.5761075611725717, 1.4718017958919445, -0.4896305364712738, 1.1538261951756705, 1.158823447440352, -0.8732216047844114, 1.520045712919522, 0.5910070115791487, -0.7236162689815163, -1.2718512751459379, 0.4412226470368304, 0.6634561156688739, -0.4577892833900473, 0.1318589819788368, -1.4368522046631298, -1.8395329503791198, -1.6492182544058702, -2.4797759739644487, 0.03894320353626314, -0.35092509075247313, 1.388297843133826, 0.11573851710811286, 0.3062732272678091, -0.46590267674086555, 0.5456442466695953, -0.5304629942227559, -0.4313314370468433, -0.08957726082416721, 1.1264734945274768, -0.9290255244862805, -1.7314167216950984, -0.30353773563327374, -0.4913771831551384, 1.1019884388012529, -1.1006777820996694, 0.02889859416952101, 0.7844200346560151, 0.4196265261180495, -0.6473364753369074, 0.42737665263402697, -1.5403520115571134, 0.425865498394857, -0.17886127476218783, -0.4685216389506663, -1.155388110493677, 0.46525913637554894, 0.9437691551712757, -0.744522351346594, -0.5107890860366717, -1.3104476513425958, -0.3659836777369112, -0.218182149822733, 0.5665569826426838], \"yaxis\": \"y7\"}, {\"line\": {\"color\": \"rgba(128, 128, 128, 1.0)\", \"dash\": \"solid\", \"shape\": \"linear\", \"width\": 1.3}, \"marker\": {\"size\": 2, \"symbol\": \"circle\"}, \"mode\": \"markers\", \"name\": \"B\", \"text\": \"\", \"type\": \"scatter\", \"x\": [-0.36843748489429834, 1.573663816086213, 0.02138200976566842, 0.09654713224552525, -0.047453224701537323, 0.19622404390633058, -1.4677936505717069, 0.16847265438597325, 0.8541469774260697, 0.2787115744318224, 0.2550509546971101, 0.9738398424872442, 0.983756412376006, 1.772138932320897, 0.2824125191366073, 0.9581503693015755, -0.3361136095239392, -0.778480643711259, -0.9196675746383206, -0.4561399435716179, 0.7041234511118704, 0.3840654521028457, 1.2950270337210947, 0.6520895803806986, -0.0701065374551447, -0.3481889467794823, -0.6025996440367895, 0.5835089076878452, -0.9173006873679831, -0.388789211938765, -0.05626037443823479, 0.29977723032350884, -1.069382235219236, 0.3661278665663814, -1.4716019963433775, 1.9294763779525, -0.6651992094661, 1.2431585052103853, -1.9778747169690416, 0.8671612185490913, 0.9597034807362329, 1.0530172473875836, 1.0865771233924328, -0.6892158985281919, -0.5111063538918155, -1.9983789038577662, 0.3289294047544934, 0.015385363824137958, -0.4263665325461509, -1.1962971179633408, -1.0435130317124692, 0.14676810520402261, 1.063304322212356, -0.7478226448765005, 0.0708499838115726, -0.3180811548485733, 1.1348019060076748, -0.7861733179740832, 0.004055630047339287, -1.1346642149642945, -1.3326823461805832, -1.0040126391624085, -0.17188924005764283, 0.5509683892587323, -0.452522836687102, 0.0009431348771666263, -1.2927352123949698, 0.5611517113309042, 1.6200799067948002, 0.01977779447726261, -0.5057438199862079, 1.5999214592923323, 1.2056673567899268, -0.1133304445461091, -0.25843540882497096, -0.49604262118574804, -0.5813188784086023, 0.5369546139775898, -1.085308804635807, 1.1317928950545155, 0.7869883636718725, 0.8669532867871689, 0.31442152763111986, -0.25181868463329665, -0.353538895855213, 0.6575515102646519, 0.8844318658347354, 0.9146142997540004, 1.5814732505843072, 1.0245868131797415, -0.20542797464316637, 0.46519878109736074, 1.4325880132038897, -0.18531066682896988, -0.05846328750282914, 0.17497434563087624, 0.4406593327552767, -0.8772898092345249, -1.5108087138812814, -1.041379052269372], \"xaxis\": \"x8\", \"y\": [1.5740728987236858, -0.5204962324025592, 0.3784879080197764, 0.5665830926250587, 1.8307528761381824, 1.496398337103953, 0.319114278020899, 1.3241804073809924, -2.2199737044173027, 0.4069568095734938, 0.14826216989882013, -0.994303336633359, -0.36208520713052306, 1.7495268971863218, -0.4261065698300166, -1.7270517273707098, -2.357261283307402, 2.403928501039504, 0.6251246787404335, -0.004245790921073416, 1.6803335896006206, -0.7740097921221676, -0.17455728219713768, 0.5346934292088612, -0.16299832133350473, -1.6430005512614236, 0.1874046982263252, 0.3062098943756686, -1.075078115834331, -1.2214886703038546, -0.14724209756744944, 0.2429769271893512, -0.23269608358220994, 0.36352732895139045, 0.7934071373939708, -2.5011489951532644, -0.18797315258982397, 0.38603232777514507, 2.045463743570114, -0.26097071764894264, 0.550200525982311, -1.0767578575594094, 0.5983416714319514, -0.6321645924326897, -0.2766778496970904, 0.6695187229527138, 1.0353017178297368, 0.5761075611725717, 1.4718017958919445, -0.4896305364712738, 1.1538261951756705, 1.158823447440352, -0.8732216047844114, 1.520045712919522, 0.5910070115791487, -0.7236162689815163, -1.2718512751459379, 0.4412226470368304, 0.6634561156688739, -0.4577892833900473, 0.1318589819788368, -1.4368522046631298, -1.8395329503791198, -1.6492182544058702, -2.4797759739644487, 0.03894320353626314, -0.35092509075247313, 1.388297843133826, 0.11573851710811286, 0.3062732272678091, -0.46590267674086555, 0.5456442466695953, -0.5304629942227559, -0.4313314370468433, -0.08957726082416721, 1.1264734945274768, -0.9290255244862805, -1.7314167216950984, -0.30353773563327374, -0.4913771831551384, 1.1019884388012529, -1.1006777820996694, 0.02889859416952101, 0.7844200346560151, 0.4196265261180495, -0.6473364753369074, 0.42737665263402697, -1.5403520115571134, 0.425865498394857, -0.17886127476218783, -0.4685216389506663, -1.155388110493677, 0.46525913637554894, 0.9437691551712757, -0.744522351346594, -0.5107890860366717, -1.3104476513425958, -0.3659836777369112, -0.218182149822733, 0.5665569826426838], \"yaxis\": \"y8\"}, {\"line\": {\"color\": \"rgba(128, 128, 128, 1.0)\", \"dash\": \"solid\", \"shape\": \"linear\", \"width\": 1.3}, \"marker\": {\"size\": 2, \"symbol\": \"circle\"}, \"mode\": \"markers\", \"name\": \"C\", \"text\": \"\", \"type\": \"scatter\", \"x\": [-0.28658062289161507, 2.8713810642415774, -0.8356058485756809, 0.015123707936464765, -0.36393332536263484, 2.341958955914593, 0.026375334658533516, -0.8912079656500846, 1.5259075076059636, -0.7251464655554153, -2.208567554152265, 0.8160362211716472, 0.1352305382758277, -0.07773618163611463, -1.6218256058133913, -1.4461184112948848, -0.9432178303375855, 0.11042142518952364, 0.22210119025882, 0.29314536564232757, -1.3667737782574663, 2.1170959584160776, -1.9885300360304687, 0.3009043264085271, 1.4900545862313435, 0.16707632821401622, 0.9089693366488185, -0.5309538275682677, -0.5645450618475066, 1.6180166982761703, 0.7121765540358281, -0.7133586311906459, 0.5262454614186426, -0.6978902815960228, 0.6315922215150983, 1.0230806194359456, 0.3552860393922047, -0.5659277005265211, -0.04418343728629043, 0.28347053779399023, 2.0322264650736446, -0.7523401320867622, -0.8403470210799748, 0.27784684716034863, 0.1822850299791254, -0.3697102441389198, -0.021692284748169602, -2.108941307116421, 0.31163343692776824, 2.283327532521014, -0.21171012089409746, -0.14660748153512856, 0.9344186636741401, -0.6106330572294365, -1.5392174683883328, -1.0058035991732786, 2.207169422150619, -1.9791714166370522, -0.7716556864796765, 0.42222551730076235, -0.790403471570592, 0.4827492291330723, 1.25811273044089, -0.4173142231933926, -1.683138705155208, -1.34399245571848, 0.4625126996712462, 1.2210567254188085, 0.07491053801766187, 1.6386682454467674, -0.5700560828390816, -1.200150895129222, -0.4816388445980546, -1.2599499551980429, 0.12748578860097046, -0.5886401471762375, 1.5612153234010075, 0.883110723570033, -0.6793443992951693, -1.7579488291595078, -0.6262305193938559, -0.597589289924199, 0.5975570794231981, -0.8338945349348488, 0.8538301101490644, -1.228745130925553, -0.07970988512138309, -1.5924974279353095, 0.9272268562201983, -0.14144485985252866, 0.6360884600335864, -0.6850117004071394, -0.3733130217574712, -1.6315284967377977, 0.7805667618604121, -0.5193183640984484, -0.7885902824548963, -0.23556747027558908, 1.1819720205400592, 0.5899214406180822], \"xaxis\": \"x9\", \"y\": [-1.459603748949274, 0.36084732152997506, -0.5087937897803205, -0.6625875564515807, 0.0458571320132211, -0.22353172948762665, -0.021676901168215516, 1.0109969799556564, 0.1548417939707732, 1.5246861097068372, 0.3843073754188259, -0.2877351727481541, -0.8850510395471989, 0.2302827746108358, -1.046706085000357, 0.4903825137117322, -0.8882765471260752, -0.6635904192407448, -0.7849761458065712, 0.22187755364367384, -0.08579259749363648, -0.6798487451416599, -0.13465838813595868, 0.966528711550423, -0.8939417164300886, 0.5092521728758914, 1.3813890362258592, -0.6000915663898146, -0.5198908129046946, 0.06811418698271128, -1.3801924853538312, 1.4507628195644844, 0.056975942253230986, 1.065230071169316, 2.2980625224378404, -0.5438322888356067, -2.1762460325655524, -1.4241602029776532, 1.530180390020162, -0.9119662893511137, -0.7638120477535097, -0.4858369466878768, -0.3364749472572307, 0.10144804129609479, -1.2162676038013833, -0.7566384634161051, -1.198459931518552, -0.8318366424691529, 1.1237094110646053, -0.31324383939626116, -1.0631440705709407, -0.13236752637785063, 2.3832147031217166, 1.0462176836057986, -0.6171526303962681, 0.2857308516819357, 0.16104524787882576, -0.5319241247372348, -1.4777798506329485, -1.221479308539262, 0.6371917427808321, -0.3521472610364796, 0.3323907752437583, 0.4690092849237108, -0.9787983865768881, 2.97356807674231, -0.2917970357274098, -0.2787513946556441, 0.08316931315076394, 0.787785337972341, 0.6490432539715015, 0.44608689200473245, -0.8758569022651723, 1.3879867128830092, 1.5037583750280177, -0.21114615035189996, -0.4181473771800166, 0.9693102074920084, 0.2736780087250651, -0.48850396744306007, 2.367476751301778, 0.6726810623673567, -1.240595925016922, -1.5673391878627263, -0.6187053188840654, 0.17192069629634585, 0.5106228718980147, 0.9843033390360832, -2.205254245222359, -0.9781287793982962, 0.6504552688513575, 0.5176419431393856, 0.8207147676081725, 0.19596478523855554, 1.1095332252866947, -0.04085314220983656, -0.6129619868855157, 0.8626754226526893, 0.9921214949750415, -0.28417173462493367], \"yaxis\": \"y9\"}, {\"line\": {\"color\": \"rgba(128, 128, 128, 1.0)\", \"dash\": \"solid\", \"shape\": \"linear\", \"width\": 1.3}, \"marker\": {\"size\": 2, \"symbol\": \"circle\"}, \"mode\": \"markers\", \"name\": \"C\", \"text\": \"\", \"type\": \"scatter\", \"x\": [1.5740728987236858, -0.5204962324025592, 0.3784879080197764, 0.5665830926250587, 1.8307528761381824, 1.496398337103953, 0.319114278020899, 1.3241804073809924, -2.2199737044173027, 0.4069568095734938, 0.14826216989882013, -0.994303336633359, -0.36208520713052306, 1.7495268971863218, -0.4261065698300166, -1.7270517273707098, -2.357261283307402, 2.403928501039504, 0.6251246787404335, -0.004245790921073416, 1.6803335896006206, -0.7740097921221676, -0.17455728219713768, 0.5346934292088612, -0.16299832133350473, -1.6430005512614236, 0.1874046982263252, 0.3062098943756686, -1.075078115834331, -1.2214886703038546, -0.14724209756744944, 0.2429769271893512, -0.23269608358220994, 0.36352732895139045, 0.7934071373939708, -2.5011489951532644, -0.18797315258982397, 0.38603232777514507, 2.045463743570114, -0.26097071764894264, 0.550200525982311, -1.0767578575594094, 0.5983416714319514, -0.6321645924326897, -0.2766778496970904, 0.6695187229527138, 1.0353017178297368, 0.5761075611725717, 1.4718017958919445, -0.4896305364712738, 1.1538261951756705, 1.158823447440352, -0.8732216047844114, 1.520045712919522, 0.5910070115791487, -0.7236162689815163, -1.2718512751459379, 0.4412226470368304, 0.6634561156688739, -0.4577892833900473, 0.1318589819788368, -1.4368522046631298, -1.8395329503791198, -1.6492182544058702, -2.4797759739644487, 0.03894320353626314, -0.35092509075247313, 1.388297843133826, 0.11573851710811286, 0.3062732272678091, -0.46590267674086555, 0.5456442466695953, -0.5304629942227559, -0.4313314370468433, -0.08957726082416721, 1.1264734945274768, -0.9290255244862805, -1.7314167216950984, -0.30353773563327374, -0.4913771831551384, 1.1019884388012529, -1.1006777820996694, 0.02889859416952101, 0.7844200346560151, 0.4196265261180495, -0.6473364753369074, 0.42737665263402697, -1.5403520115571134, 0.425865498394857, -0.17886127476218783, -0.4685216389506663, -1.155388110493677, 0.46525913637554894, 0.9437691551712757, -0.744522351346594, -0.5107890860366717, -1.3104476513425958, -0.3659836777369112, -0.218182149822733, 0.5665569826426838], \"xaxis\": \"x10\", \"y\": [-1.459603748949274, 0.36084732152997506, -0.5087937897803205, -0.6625875564515807, 0.0458571320132211, -0.22353172948762665, -0.021676901168215516, 1.0109969799556564, 0.1548417939707732, 1.5246861097068372, 0.3843073754188259, -0.2877351727481541, -0.8850510395471989, 0.2302827746108358, -1.046706085000357, 0.4903825137117322, -0.8882765471260752, -0.6635904192407448, -0.7849761458065712, 0.22187755364367384, -0.08579259749363648, -0.6798487451416599, -0.13465838813595868, 0.966528711550423, -0.8939417164300886, 0.5092521728758914, 1.3813890362258592, -0.6000915663898146, -0.5198908129046946, 0.06811418698271128, -1.3801924853538312, 1.4507628195644844, 0.056975942253230986, 1.065230071169316, 2.2980625224378404, -0.5438322888356067, -2.1762460325655524, -1.4241602029776532, 1.530180390020162, -0.9119662893511137, -0.7638120477535097, -0.4858369466878768, -0.3364749472572307, 0.10144804129609479, -1.2162676038013833, -0.7566384634161051, -1.198459931518552, -0.8318366424691529, 1.1237094110646053, -0.31324383939626116, -1.0631440705709407, -0.13236752637785063, 2.3832147031217166, 1.0462176836057986, -0.6171526303962681, 0.2857308516819357, 0.16104524787882576, -0.5319241247372348, -1.4777798506329485, -1.221479308539262, 0.6371917427808321, -0.3521472610364796, 0.3323907752437583, 0.4690092849237108, -0.9787983865768881, 2.97356807674231, -0.2917970357274098, -0.2787513946556441, 0.08316931315076394, 0.787785337972341, 0.6490432539715015, 0.44608689200473245, -0.8758569022651723, 1.3879867128830092, 1.5037583750280177, -0.21114615035189996, -0.4181473771800166, 0.9693102074920084, 0.2736780087250651, -0.48850396744306007, 2.367476751301778, 0.6726810623673567, -1.240595925016922, -1.5673391878627263, -0.6187053188840654, 0.17192069629634585, 0.5106228718980147, 0.9843033390360832, -2.205254245222359, -0.9781287793982962, 0.6504552688513575, 0.5176419431393856, 0.8207147676081725, 0.19596478523855554, 1.1095332252866947, -0.04085314220983656, -0.6129619868855157, 0.8626754226526893, 0.9921214949750415, -0.28417173462493367], \"yaxis\": \"y10\"}, {\"histfunc\": \"count\", \"histnorm\": \"\", \"marker\": {\"color\": \"rgba(50, 171, 96, 1.0)\", \"line\": {\"color\": \"#4D5663\", \"width\": 1.3}}, \"name\": \"C\", \"nbinsx\": 10, \"opacity\": 0.8, \"orientation\": \"v\", \"type\": \"histogram\", \"x\": [-1.459603748949274, 0.36084732152997506, -0.5087937897803205, -0.6625875564515807, 0.0458571320132211, -0.22353172948762665, -0.021676901168215516, 1.0109969799556564, 0.1548417939707732, 1.5246861097068372, 0.3843073754188259, -0.2877351727481541, -0.8850510395471989, 0.2302827746108358, -1.046706085000357, 0.4903825137117322, -0.8882765471260752, -0.6635904192407448, -0.7849761458065712, 0.22187755364367384, -0.08579259749363648, -0.6798487451416599, -0.13465838813595868, 0.966528711550423, -0.8939417164300886, 0.5092521728758914, 1.3813890362258592, -0.6000915663898146, -0.5198908129046946, 0.06811418698271128, -1.3801924853538312, 1.4507628195644844, 0.056975942253230986, 1.065230071169316, 2.2980625224378404, -0.5438322888356067, -2.1762460325655524, -1.4241602029776532, 1.530180390020162, -0.9119662893511137, -0.7638120477535097, -0.4858369466878768, -0.3364749472572307, 0.10144804129609479, -1.2162676038013833, -0.7566384634161051, -1.198459931518552, -0.8318366424691529, 1.1237094110646053, -0.31324383939626116, -1.0631440705709407, -0.13236752637785063, 2.3832147031217166, 1.0462176836057986, -0.6171526303962681, 0.2857308516819357, 0.16104524787882576, -0.5319241247372348, -1.4777798506329485, -1.221479308539262, 0.6371917427808321, -0.3521472610364796, 0.3323907752437583, 0.4690092849237108, -0.9787983865768881, 2.97356807674231, -0.2917970357274098, -0.2787513946556441, 0.08316931315076394, 0.787785337972341, 0.6490432539715015, 0.44608689200473245, -0.8758569022651723, 1.3879867128830092, 1.5037583750280177, -0.21114615035189996, -0.4181473771800166, 0.9693102074920084, 0.2736780087250651, -0.48850396744306007, 2.367476751301778, 0.6726810623673567, -1.240595925016922, -1.5673391878627263, -0.6187053188840654, 0.17192069629634585, 0.5106228718980147, 0.9843033390360832, -2.205254245222359, -0.9781287793982962, 0.6504552688513575, 0.5176419431393856, 0.8207147676081725, 0.19596478523855554, 1.1095332252866947, -0.04085314220983656, -0.6129619868855157, 0.8626754226526893, 0.9921214949750415, -0.28417173462493367], \"xaxis\": \"x11\", \"yaxis\": \"y11\"}, {\"line\": {\"color\": \"rgba(128, 128, 128, 1.0)\", \"dash\": \"solid\", \"shape\": \"linear\", \"width\": 1.3}, \"marker\": {\"size\": 2, \"symbol\": \"circle\"}, \"mode\": \"markers\", \"name\": \"C\", \"text\": \"\", \"type\": \"scatter\", \"x\": [-0.36843748489429834, 1.573663816086213, 0.02138200976566842, 0.09654713224552525, -0.047453224701537323, 0.19622404390633058, -1.4677936505717069, 0.16847265438597325, 0.8541469774260697, 0.2787115744318224, 0.2550509546971101, 0.9738398424872442, 0.983756412376006, 1.772138932320897, 0.2824125191366073, 0.9581503693015755, -0.3361136095239392, -0.778480643711259, -0.9196675746383206, -0.4561399435716179, 0.7041234511118704, 0.3840654521028457, 1.2950270337210947, 0.6520895803806986, -0.0701065374551447, -0.3481889467794823, -0.6025996440367895, 0.5835089076878452, -0.9173006873679831, -0.388789211938765, -0.05626037443823479, 0.29977723032350884, -1.069382235219236, 0.3661278665663814, -1.4716019963433775, 1.9294763779525, -0.6651992094661, 1.2431585052103853, -1.9778747169690416, 0.8671612185490913, 0.9597034807362329, 1.0530172473875836, 1.0865771233924328, -0.6892158985281919, -0.5111063538918155, -1.9983789038577662, 0.3289294047544934, 0.015385363824137958, -0.4263665325461509, -1.1962971179633408, -1.0435130317124692, 0.14676810520402261, 1.063304322212356, -0.7478226448765005, 0.0708499838115726, -0.3180811548485733, 1.1348019060076748, -0.7861733179740832, 0.004055630047339287, -1.1346642149642945, -1.3326823461805832, -1.0040126391624085, -0.17188924005764283, 0.5509683892587323, -0.452522836687102, 0.0009431348771666263, -1.2927352123949698, 0.5611517113309042, 1.6200799067948002, 0.01977779447726261, -0.5057438199862079, 1.5999214592923323, 1.2056673567899268, -0.1133304445461091, -0.25843540882497096, -0.49604262118574804, -0.5813188784086023, 0.5369546139775898, -1.085308804635807, 1.1317928950545155, 0.7869883636718725, 0.8669532867871689, 0.31442152763111986, -0.25181868463329665, -0.353538895855213, 0.6575515102646519, 0.8844318658347354, 0.9146142997540004, 1.5814732505843072, 1.0245868131797415, -0.20542797464316637, 0.46519878109736074, 1.4325880132038897, -0.18531066682896988, -0.05846328750282914, 0.17497434563087624, 0.4406593327552767, -0.8772898092345249, -1.5108087138812814, -1.041379052269372], \"xaxis\": \"x12\", \"y\": [-1.459603748949274, 0.36084732152997506, -0.5087937897803205, -0.6625875564515807, 0.0458571320132211, -0.22353172948762665, -0.021676901168215516, 1.0109969799556564, 0.1548417939707732, 1.5246861097068372, 0.3843073754188259, -0.2877351727481541, -0.8850510395471989, 0.2302827746108358, -1.046706085000357, 0.4903825137117322, -0.8882765471260752, -0.6635904192407448, -0.7849761458065712, 0.22187755364367384, -0.08579259749363648, -0.6798487451416599, -0.13465838813595868, 0.966528711550423, -0.8939417164300886, 0.5092521728758914, 1.3813890362258592, -0.6000915663898146, -0.5198908129046946, 0.06811418698271128, -1.3801924853538312, 1.4507628195644844, 0.056975942253230986, 1.065230071169316, 2.2980625224378404, -0.5438322888356067, -2.1762460325655524, -1.4241602029776532, 1.530180390020162, -0.9119662893511137, -0.7638120477535097, -0.4858369466878768, -0.3364749472572307, 0.10144804129609479, -1.2162676038013833, -0.7566384634161051, -1.198459931518552, -0.8318366424691529, 1.1237094110646053, -0.31324383939626116, -1.0631440705709407, -0.13236752637785063, 2.3832147031217166, 1.0462176836057986, -0.6171526303962681, 0.2857308516819357, 0.16104524787882576, -0.5319241247372348, -1.4777798506329485, -1.221479308539262, 0.6371917427808321, -0.3521472610364796, 0.3323907752437583, 0.4690092849237108, -0.9787983865768881, 2.97356807674231, -0.2917970357274098, -0.2787513946556441, 0.08316931315076394, 0.787785337972341, 0.6490432539715015, 0.44608689200473245, -0.8758569022651723, 1.3879867128830092, 1.5037583750280177, -0.21114615035189996, -0.4181473771800166, 0.9693102074920084, 0.2736780087250651, -0.48850396744306007, 2.367476751301778, 0.6726810623673567, -1.240595925016922, -1.5673391878627263, -0.6187053188840654, 0.17192069629634585, 0.5106228718980147, 0.9843033390360832, -2.205254245222359, -0.9781287793982962, 0.6504552688513575, 0.5176419431393856, 0.8207147676081725, 0.19596478523855554, 1.1095332252866947, -0.04085314220983656, -0.6129619868855157, 0.8626754226526893, 0.9921214949750415, -0.28417173462493367], \"yaxis\": \"y12\"}, {\"line\": {\"color\": \"rgba(128, 128, 128, 1.0)\", \"dash\": \"solid\", \"shape\": \"linear\", \"width\": 1.3}, \"marker\": {\"size\": 2, \"symbol\": \"circle\"}, \"mode\": \"markers\", \"name\": \"D\", \"text\": \"\", \"type\": \"scatter\", \"x\": [-0.28658062289161507, 2.8713810642415774, -0.8356058485756809, 0.015123707936464765, -0.36393332536263484, 2.341958955914593, 0.026375334658533516, -0.8912079656500846, 1.5259075076059636, -0.7251464655554153, -2.208567554152265, 0.8160362211716472, 0.1352305382758277, -0.07773618163611463, -1.6218256058133913, -1.4461184112948848, -0.9432178303375855, 0.11042142518952364, 0.22210119025882, 0.29314536564232757, -1.3667737782574663, 2.1170959584160776, -1.9885300360304687, 0.3009043264085271, 1.4900545862313435, 0.16707632821401622, 0.9089693366488185, -0.5309538275682677, -0.5645450618475066, 1.6180166982761703, 0.7121765540358281, -0.7133586311906459, 0.5262454614186426, -0.6978902815960228, 0.6315922215150983, 1.0230806194359456, 0.3552860393922047, -0.5659277005265211, -0.04418343728629043, 0.28347053779399023, 2.0322264650736446, -0.7523401320867622, -0.8403470210799748, 0.27784684716034863, 0.1822850299791254, -0.3697102441389198, -0.021692284748169602, -2.108941307116421, 0.31163343692776824, 2.283327532521014, -0.21171012089409746, -0.14660748153512856, 0.9344186636741401, -0.6106330572294365, -1.5392174683883328, -1.0058035991732786, 2.207169422150619, -1.9791714166370522, -0.7716556864796765, 0.42222551730076235, -0.790403471570592, 0.4827492291330723, 1.25811273044089, -0.4173142231933926, -1.683138705155208, -1.34399245571848, 0.4625126996712462, 1.2210567254188085, 0.07491053801766187, 1.6386682454467674, -0.5700560828390816, -1.200150895129222, -0.4816388445980546, -1.2599499551980429, 0.12748578860097046, -0.5886401471762375, 1.5612153234010075, 0.883110723570033, -0.6793443992951693, -1.7579488291595078, -0.6262305193938559, -0.597589289924199, 0.5975570794231981, -0.8338945349348488, 0.8538301101490644, -1.228745130925553, -0.07970988512138309, -1.5924974279353095, 0.9272268562201983, -0.14144485985252866, 0.6360884600335864, -0.6850117004071394, -0.3733130217574712, -1.6315284967377977, 0.7805667618604121, -0.5193183640984484, -0.7885902824548963, -0.23556747027558908, 1.1819720205400592, 0.5899214406180822], \"xaxis\": \"x13\", \"y\": [-0.36843748489429834, 1.573663816086213, 0.02138200976566842, 0.09654713224552525, -0.047453224701537323, 0.19622404390633058, -1.4677936505717069, 0.16847265438597325, 0.8541469774260697, 0.2787115744318224, 0.2550509546971101, 0.9738398424872442, 0.983756412376006, 1.772138932320897, 0.2824125191366073, 0.9581503693015755, -0.3361136095239392, -0.778480643711259, -0.9196675746383206, -0.4561399435716179, 0.7041234511118704, 0.3840654521028457, 1.2950270337210947, 0.6520895803806986, -0.0701065374551447, -0.3481889467794823, -0.6025996440367895, 0.5835089076878452, -0.9173006873679831, -0.388789211938765, -0.05626037443823479, 0.29977723032350884, -1.069382235219236, 0.3661278665663814, -1.4716019963433775, 1.9294763779525, -0.6651992094661, 1.2431585052103853, -1.9778747169690416, 0.8671612185490913, 0.9597034807362329, 1.0530172473875836, 1.0865771233924328, -0.6892158985281919, -0.5111063538918155, -1.9983789038577662, 0.3289294047544934, 0.015385363824137958, -0.4263665325461509, -1.1962971179633408, -1.0435130317124692, 0.14676810520402261, 1.063304322212356, -0.7478226448765005, 0.0708499838115726, -0.3180811548485733, 1.1348019060076748, -0.7861733179740832, 0.004055630047339287, -1.1346642149642945, -1.3326823461805832, -1.0040126391624085, -0.17188924005764283, 0.5509683892587323, -0.452522836687102, 0.0009431348771666263, -1.2927352123949698, 0.5611517113309042, 1.6200799067948002, 0.01977779447726261, -0.5057438199862079, 1.5999214592923323, 1.2056673567899268, -0.1133304445461091, -0.25843540882497096, -0.49604262118574804, -0.5813188784086023, 0.5369546139775898, -1.085308804635807, 1.1317928950545155, 0.7869883636718725, 0.8669532867871689, 0.31442152763111986, -0.25181868463329665, -0.353538895855213, 0.6575515102646519, 0.8844318658347354, 0.9146142997540004, 1.5814732505843072, 1.0245868131797415, -0.20542797464316637, 0.46519878109736074, 1.4325880132038897, -0.18531066682896988, -0.05846328750282914, 0.17497434563087624, 0.4406593327552767, -0.8772898092345249, -1.5108087138812814, -1.041379052269372], \"yaxis\": \"y13\"}, {\"line\": {\"color\": \"rgba(128, 128, 128, 1.0)\", \"dash\": \"solid\", \"shape\": \"linear\", \"width\": 1.3}, \"marker\": {\"size\": 2, \"symbol\": \"circle\"}, \"mode\": \"markers\", \"name\": \"D\", \"text\": \"\", \"type\": \"scatter\", \"x\": [1.5740728987236858, -0.5204962324025592, 0.3784879080197764, 0.5665830926250587, 1.8307528761381824, 1.496398337103953, 0.319114278020899, 1.3241804073809924, -2.2199737044173027, 0.4069568095734938, 0.14826216989882013, -0.994303336633359, -0.36208520713052306, 1.7495268971863218, -0.4261065698300166, -1.7270517273707098, -2.357261283307402, 2.403928501039504, 0.6251246787404335, -0.004245790921073416, 1.6803335896006206, -0.7740097921221676, -0.17455728219713768, 0.5346934292088612, -0.16299832133350473, -1.6430005512614236, 0.1874046982263252, 0.3062098943756686, -1.075078115834331, -1.2214886703038546, -0.14724209756744944, 0.2429769271893512, -0.23269608358220994, 0.36352732895139045, 0.7934071373939708, -2.5011489951532644, -0.18797315258982397, 0.38603232777514507, 2.045463743570114, -0.26097071764894264, 0.550200525982311, -1.0767578575594094, 0.5983416714319514, -0.6321645924326897, -0.2766778496970904, 0.6695187229527138, 1.0353017178297368, 0.5761075611725717, 1.4718017958919445, -0.4896305364712738, 1.1538261951756705, 1.158823447440352, -0.8732216047844114, 1.520045712919522, 0.5910070115791487, -0.7236162689815163, -1.2718512751459379, 0.4412226470368304, 0.6634561156688739, -0.4577892833900473, 0.1318589819788368, -1.4368522046631298, -1.8395329503791198, -1.6492182544058702, -2.4797759739644487, 0.03894320353626314, -0.35092509075247313, 1.388297843133826, 0.11573851710811286, 0.3062732272678091, -0.46590267674086555, 0.5456442466695953, -0.5304629942227559, -0.4313314370468433, -0.08957726082416721, 1.1264734945274768, -0.9290255244862805, -1.7314167216950984, -0.30353773563327374, -0.4913771831551384, 1.1019884388012529, -1.1006777820996694, 0.02889859416952101, 0.7844200346560151, 0.4196265261180495, -0.6473364753369074, 0.42737665263402697, -1.5403520115571134, 0.425865498394857, -0.17886127476218783, -0.4685216389506663, -1.155388110493677, 0.46525913637554894, 0.9437691551712757, -0.744522351346594, -0.5107890860366717, -1.3104476513425958, -0.3659836777369112, -0.218182149822733, 0.5665569826426838], \"xaxis\": \"x14\", \"y\": [-0.36843748489429834, 1.573663816086213, 0.02138200976566842, 0.09654713224552525, -0.047453224701537323, 0.19622404390633058, -1.4677936505717069, 0.16847265438597325, 0.8541469774260697, 0.2787115744318224, 0.2550509546971101, 0.9738398424872442, 0.983756412376006, 1.772138932320897, 0.2824125191366073, 0.9581503693015755, -0.3361136095239392, -0.778480643711259, -0.9196675746383206, -0.4561399435716179, 0.7041234511118704, 0.3840654521028457, 1.2950270337210947, 0.6520895803806986, -0.0701065374551447, -0.3481889467794823, -0.6025996440367895, 0.5835089076878452, -0.9173006873679831, -0.388789211938765, -0.05626037443823479, 0.29977723032350884, -1.069382235219236, 0.3661278665663814, -1.4716019963433775, 1.9294763779525, -0.6651992094661, 1.2431585052103853, -1.9778747169690416, 0.8671612185490913, 0.9597034807362329, 1.0530172473875836, 1.0865771233924328, -0.6892158985281919, -0.5111063538918155, -1.9983789038577662, 0.3289294047544934, 0.015385363824137958, -0.4263665325461509, -1.1962971179633408, -1.0435130317124692, 0.14676810520402261, 1.063304322212356, -0.7478226448765005, 0.0708499838115726, -0.3180811548485733, 1.1348019060076748, -0.7861733179740832, 0.004055630047339287, -1.1346642149642945, -1.3326823461805832, -1.0040126391624085, -0.17188924005764283, 0.5509683892587323, -0.452522836687102, 0.0009431348771666263, -1.2927352123949698, 0.5611517113309042, 1.6200799067948002, 0.01977779447726261, -0.5057438199862079, 1.5999214592923323, 1.2056673567899268, -0.1133304445461091, -0.25843540882497096, -0.49604262118574804, -0.5813188784086023, 0.5369546139775898, -1.085308804635807, 1.1317928950545155, 0.7869883636718725, 0.8669532867871689, 0.31442152763111986, -0.25181868463329665, -0.353538895855213, 0.6575515102646519, 0.8844318658347354, 0.9146142997540004, 1.5814732505843072, 1.0245868131797415, -0.20542797464316637, 0.46519878109736074, 1.4325880132038897, -0.18531066682896988, -0.05846328750282914, 0.17497434563087624, 0.4406593327552767, -0.8772898092345249, -1.5108087138812814, -1.041379052269372], \"yaxis\": \"y14\"}, {\"line\": {\"color\": \"rgba(128, 128, 128, 1.0)\", \"dash\": \"solid\", \"shape\": \"linear\", \"width\": 1.3}, \"marker\": {\"size\": 2, \"symbol\": \"circle\"}, \"mode\": \"markers\", \"name\": \"D\", \"text\": \"\", \"type\": \"scatter\", \"x\": [-1.459603748949274, 0.36084732152997506, -0.5087937897803205, -0.6625875564515807, 0.0458571320132211, -0.22353172948762665, -0.021676901168215516, 1.0109969799556564, 0.1548417939707732, 1.5246861097068372, 0.3843073754188259, -0.2877351727481541, -0.8850510395471989, 0.2302827746108358, -1.046706085000357, 0.4903825137117322, -0.8882765471260752, -0.6635904192407448, -0.7849761458065712, 0.22187755364367384, -0.08579259749363648, -0.6798487451416599, -0.13465838813595868, 0.966528711550423, -0.8939417164300886, 0.5092521728758914, 1.3813890362258592, -0.6000915663898146, -0.5198908129046946, 0.06811418698271128, -1.3801924853538312, 1.4507628195644844, 0.056975942253230986, 1.065230071169316, 2.2980625224378404, -0.5438322888356067, -2.1762460325655524, -1.4241602029776532, 1.530180390020162, -0.9119662893511137, -0.7638120477535097, -0.4858369466878768, -0.3364749472572307, 0.10144804129609479, -1.2162676038013833, -0.7566384634161051, -1.198459931518552, -0.8318366424691529, 1.1237094110646053, -0.31324383939626116, -1.0631440705709407, -0.13236752637785063, 2.3832147031217166, 1.0462176836057986, -0.6171526303962681, 0.2857308516819357, 0.16104524787882576, -0.5319241247372348, -1.4777798506329485, -1.221479308539262, 0.6371917427808321, -0.3521472610364796, 0.3323907752437583, 0.4690092849237108, -0.9787983865768881, 2.97356807674231, -0.2917970357274098, -0.2787513946556441, 0.08316931315076394, 0.787785337972341, 0.6490432539715015, 0.44608689200473245, -0.8758569022651723, 1.3879867128830092, 1.5037583750280177, -0.21114615035189996, -0.4181473771800166, 0.9693102074920084, 0.2736780087250651, -0.48850396744306007, 2.367476751301778, 0.6726810623673567, -1.240595925016922, -1.5673391878627263, -0.6187053188840654, 0.17192069629634585, 0.5106228718980147, 0.9843033390360832, -2.205254245222359, -0.9781287793982962, 0.6504552688513575, 0.5176419431393856, 0.8207147676081725, 0.19596478523855554, 1.1095332252866947, -0.04085314220983656, -0.6129619868855157, 0.8626754226526893, 0.9921214949750415, -0.28417173462493367], \"xaxis\": \"x15\", \"y\": [-0.36843748489429834, 1.573663816086213, 0.02138200976566842, 0.09654713224552525, -0.047453224701537323, 0.19622404390633058, -1.4677936505717069, 0.16847265438597325, 0.8541469774260697, 0.2787115744318224, 0.2550509546971101, 0.9738398424872442, 0.983756412376006, 1.772138932320897, 0.2824125191366073, 0.9581503693015755, -0.3361136095239392, -0.778480643711259, -0.9196675746383206, -0.4561399435716179, 0.7041234511118704, 0.3840654521028457, 1.2950270337210947, 0.6520895803806986, -0.0701065374551447, -0.3481889467794823, -0.6025996440367895, 0.5835089076878452, -0.9173006873679831, -0.388789211938765, -0.05626037443823479, 0.29977723032350884, -1.069382235219236, 0.3661278665663814, -1.4716019963433775, 1.9294763779525, -0.6651992094661, 1.2431585052103853, -1.9778747169690416, 0.8671612185490913, 0.9597034807362329, 1.0530172473875836, 1.0865771233924328, -0.6892158985281919, -0.5111063538918155, -1.9983789038577662, 0.3289294047544934, 0.015385363824137958, -0.4263665325461509, -1.1962971179633408, -1.0435130317124692, 0.14676810520402261, 1.063304322212356, -0.7478226448765005, 0.0708499838115726, -0.3180811548485733, 1.1348019060076748, -0.7861733179740832, 0.004055630047339287, -1.1346642149642945, -1.3326823461805832, -1.0040126391624085, -0.17188924005764283, 0.5509683892587323, -0.452522836687102, 0.0009431348771666263, -1.2927352123949698, 0.5611517113309042, 1.6200799067948002, 0.01977779447726261, -0.5057438199862079, 1.5999214592923323, 1.2056673567899268, -0.1133304445461091, -0.25843540882497096, -0.49604262118574804, -0.5813188784086023, 0.5369546139775898, -1.085308804635807, 1.1317928950545155, 0.7869883636718725, 0.8669532867871689, 0.31442152763111986, -0.25181868463329665, -0.353538895855213, 0.6575515102646519, 0.8844318658347354, 0.9146142997540004, 1.5814732505843072, 1.0245868131797415, -0.20542797464316637, 0.46519878109736074, 1.4325880132038897, -0.18531066682896988, -0.05846328750282914, 0.17497434563087624, 0.4406593327552767, -0.8772898092345249, -1.5108087138812814, -1.041379052269372], \"yaxis\": \"y15\"}, {\"histfunc\": \"count\", \"histnorm\": \"\", \"marker\": {\"color\": \"rgba(128, 0, 128, 1.0)\", \"line\": {\"color\": \"#4D5663\", \"width\": 1.3}}, \"name\": \"D\", \"nbinsx\": 10, \"opacity\": 0.8, \"orientation\": \"v\", \"type\": \"histogram\", \"x\": [-0.36843748489429834, 1.573663816086213, 0.02138200976566842, 0.09654713224552525, -0.047453224701537323, 0.19622404390633058, -1.4677936505717069, 0.16847265438597325, 0.8541469774260697, 0.2787115744318224, 0.2550509546971101, 0.9738398424872442, 0.983756412376006, 1.772138932320897, 0.2824125191366073, 0.9581503693015755, -0.3361136095239392, -0.778480643711259, -0.9196675746383206, -0.4561399435716179, 0.7041234511118704, 0.3840654521028457, 1.2950270337210947, 0.6520895803806986, -0.0701065374551447, -0.3481889467794823, -0.6025996440367895, 0.5835089076878452, -0.9173006873679831, -0.388789211938765, -0.05626037443823479, 0.29977723032350884, -1.069382235219236, 0.3661278665663814, -1.4716019963433775, 1.9294763779525, -0.6651992094661, 1.2431585052103853, -1.9778747169690416, 0.8671612185490913, 0.9597034807362329, 1.0530172473875836, 1.0865771233924328, -0.6892158985281919, -0.5111063538918155, -1.9983789038577662, 0.3289294047544934, 0.015385363824137958, -0.4263665325461509, -1.1962971179633408, -1.0435130317124692, 0.14676810520402261, 1.063304322212356, -0.7478226448765005, 0.0708499838115726, -0.3180811548485733, 1.1348019060076748, -0.7861733179740832, 0.004055630047339287, -1.1346642149642945, -1.3326823461805832, -1.0040126391624085, -0.17188924005764283, 0.5509683892587323, -0.452522836687102, 0.0009431348771666263, -1.2927352123949698, 0.5611517113309042, 1.6200799067948002, 0.01977779447726261, -0.5057438199862079, 1.5999214592923323, 1.2056673567899268, -0.1133304445461091, -0.25843540882497096, -0.49604262118574804, -0.5813188784086023, 0.5369546139775898, -1.085308804635807, 1.1317928950545155, 0.7869883636718725, 0.8669532867871689, 0.31442152763111986, -0.25181868463329665, -0.353538895855213, 0.6575515102646519, 0.8844318658347354, 0.9146142997540004, 1.5814732505843072, 1.0245868131797415, -0.20542797464316637, 0.46519878109736074, 1.4325880132038897, -0.18531066682896988, -0.05846328750282914, 0.17497434563087624, 0.4406593327552767, -0.8772898092345249, -1.5108087138812814, -1.041379052269372], \"xaxis\": \"x16\", \"yaxis\": \"y16\"}],\n",
       "                        {\"bargap\": 0.02, \"legend\": {\"bgcolor\": \"#F5F6F9\", \"font\": {\"color\": \"#4D5663\"}}, \"paper_bgcolor\": \"#F5F6F9\", \"plot_bgcolor\": \"#F5F6F9\", \"showlegend\": false, \"template\": {\"data\": {\"bar\": [{\"error_x\": {\"color\": \"#2a3f5f\"}, \"error_y\": {\"color\": \"#2a3f5f\"}, \"marker\": {\"line\": {\"color\": \"#E5ECF6\", \"width\": 0.5}}, \"type\": \"bar\"}], \"barpolar\": [{\"marker\": {\"line\": {\"color\": \"#E5ECF6\", \"width\": 0.5}}, \"type\": \"barpolar\"}], \"carpet\": [{\"aaxis\": {\"endlinecolor\": \"#2a3f5f\", \"gridcolor\": \"white\", \"linecolor\": \"white\", \"minorgridcolor\": \"white\", \"startlinecolor\": \"#2a3f5f\"}, \"baxis\": {\"endlinecolor\": \"#2a3f5f\", \"gridcolor\": \"white\", \"linecolor\": \"white\", \"minorgridcolor\": \"white\", \"startlinecolor\": \"#2a3f5f\"}, \"type\": \"carpet\"}], \"choropleth\": [{\"colorbar\": {\"outlinewidth\": 0, \"ticks\": \"\"}, \"type\": \"choropleth\"}], \"contour\": [{\"colorbar\": {\"outlinewidth\": 0, \"ticks\": \"\"}, \"colorscale\": [[0.0, \"#0d0887\"], [0.1111111111111111, \"#46039f\"], [0.2222222222222222, \"#7201a8\"], [0.3333333333333333, \"#9c179e\"], [0.4444444444444444, \"#bd3786\"], [0.5555555555555556, \"#d8576b\"], [0.6666666666666666, \"#ed7953\"], [0.7777777777777778, \"#fb9f3a\"], [0.8888888888888888, \"#fdca26\"], [1.0, \"#f0f921\"]], \"type\": \"contour\"}], \"contourcarpet\": [{\"colorbar\": {\"outlinewidth\": 0, \"ticks\": \"\"}, \"type\": \"contourcarpet\"}], \"heatmap\": [{\"colorbar\": {\"outlinewidth\": 0, \"ticks\": \"\"}, \"colorscale\": [[0.0, \"#0d0887\"], [0.1111111111111111, \"#46039f\"], [0.2222222222222222, \"#7201a8\"], [0.3333333333333333, \"#9c179e\"], [0.4444444444444444, \"#bd3786\"], [0.5555555555555556, \"#d8576b\"], [0.6666666666666666, \"#ed7953\"], [0.7777777777777778, \"#fb9f3a\"], [0.8888888888888888, \"#fdca26\"], [1.0, \"#f0f921\"]], \"type\": \"heatmap\"}], \"heatmapgl\": [{\"colorbar\": {\"outlinewidth\": 0, \"ticks\": \"\"}, \"colorscale\": [[0.0, \"#0d0887\"], [0.1111111111111111, \"#46039f\"], [0.2222222222222222, \"#7201a8\"], [0.3333333333333333, \"#9c179e\"], [0.4444444444444444, \"#bd3786\"], [0.5555555555555556, \"#d8576b\"], [0.6666666666666666, \"#ed7953\"], [0.7777777777777778, \"#fb9f3a\"], [0.8888888888888888, \"#fdca26\"], [1.0, \"#f0f921\"]], \"type\": \"heatmapgl\"}], \"histogram\": [{\"marker\": {\"colorbar\": {\"outlinewidth\": 0, \"ticks\": \"\"}}, \"type\": \"histogram\"}], \"histogram2d\": [{\"colorbar\": {\"outlinewidth\": 0, \"ticks\": \"\"}, \"colorscale\": [[0.0, \"#0d0887\"], [0.1111111111111111, \"#46039f\"], [0.2222222222222222, \"#7201a8\"], [0.3333333333333333, \"#9c179e\"], [0.4444444444444444, \"#bd3786\"], [0.5555555555555556, \"#d8576b\"], [0.6666666666666666, \"#ed7953\"], [0.7777777777777778, \"#fb9f3a\"], [0.8888888888888888, \"#fdca26\"], [1.0, \"#f0f921\"]], \"type\": \"histogram2d\"}], \"histogram2dcontour\": [{\"colorbar\": {\"outlinewidth\": 0, \"ticks\": \"\"}, \"colorscale\": [[0.0, \"#0d0887\"], [0.1111111111111111, \"#46039f\"], [0.2222222222222222, \"#7201a8\"], [0.3333333333333333, \"#9c179e\"], [0.4444444444444444, \"#bd3786\"], [0.5555555555555556, \"#d8576b\"], [0.6666666666666666, \"#ed7953\"], [0.7777777777777778, \"#fb9f3a\"], [0.8888888888888888, \"#fdca26\"], [1.0, \"#f0f921\"]], \"type\": \"histogram2dcontour\"}], \"mesh3d\": [{\"colorbar\": {\"outlinewidth\": 0, \"ticks\": \"\"}, \"type\": \"mesh3d\"}], \"parcoords\": [{\"line\": {\"colorbar\": {\"outlinewidth\": 0, \"ticks\": \"\"}}, \"type\": \"parcoords\"}], \"pie\": [{\"automargin\": true, \"type\": \"pie\"}], \"scatter\": [{\"marker\": {\"colorbar\": {\"outlinewidth\": 0, \"ticks\": \"\"}}, \"type\": \"scatter\"}], \"scatter3d\": [{\"line\": {\"colorbar\": {\"outlinewidth\": 0, \"ticks\": \"\"}}, \"marker\": {\"colorbar\": {\"outlinewidth\": 0, \"ticks\": \"\"}}, \"type\": \"scatter3d\"}], \"scattercarpet\": [{\"marker\": {\"colorbar\": {\"outlinewidth\": 0, \"ticks\": \"\"}}, \"type\": \"scattercarpet\"}], \"scattergeo\": [{\"marker\": {\"colorbar\": {\"outlinewidth\": 0, \"ticks\": \"\"}}, \"type\": \"scattergeo\"}], \"scattergl\": [{\"marker\": {\"colorbar\": {\"outlinewidth\": 0, \"ticks\": \"\"}}, \"type\": \"scattergl\"}], \"scattermapbox\": [{\"marker\": {\"colorbar\": {\"outlinewidth\": 0, \"ticks\": \"\"}}, \"type\": \"scattermapbox\"}], \"scatterpolar\": [{\"marker\": {\"colorbar\": {\"outlinewidth\": 0, \"ticks\": \"\"}}, \"type\": \"scatterpolar\"}], \"scatterpolargl\": [{\"marker\": {\"colorbar\": {\"outlinewidth\": 0, \"ticks\": \"\"}}, \"type\": \"scatterpolargl\"}], \"scatterternary\": [{\"marker\": {\"colorbar\": {\"outlinewidth\": 0, \"ticks\": \"\"}}, \"type\": \"scatterternary\"}], \"surface\": [{\"colorbar\": {\"outlinewidth\": 0, \"ticks\": \"\"}, \"colorscale\": [[0.0, \"#0d0887\"], [0.1111111111111111, \"#46039f\"], [0.2222222222222222, \"#7201a8\"], [0.3333333333333333, \"#9c179e\"], [0.4444444444444444, \"#bd3786\"], [0.5555555555555556, \"#d8576b\"], [0.6666666666666666, \"#ed7953\"], [0.7777777777777778, \"#fb9f3a\"], [0.8888888888888888, \"#fdca26\"], [1.0, \"#f0f921\"]], \"type\": \"surface\"}], \"table\": [{\"cells\": {\"fill\": {\"color\": \"#EBF0F8\"}, \"line\": {\"color\": \"white\"}}, \"header\": {\"fill\": {\"color\": \"#C8D4E3\"}, \"line\": {\"color\": \"white\"}}, \"type\": \"table\"}]}, \"layout\": {\"annotationdefaults\": {\"arrowcolor\": \"#2a3f5f\", \"arrowhead\": 0, \"arrowwidth\": 1}, \"coloraxis\": {\"colorbar\": {\"outlinewidth\": 0, \"ticks\": \"\"}}, \"colorscale\": {\"diverging\": [[0, \"#8e0152\"], [0.1, \"#c51b7d\"], [0.2, \"#de77ae\"], [0.3, \"#f1b6da\"], [0.4, \"#fde0ef\"], [0.5, \"#f7f7f7\"], [0.6, \"#e6f5d0\"], [0.7, \"#b8e186\"], [0.8, \"#7fbc41\"], [0.9, \"#4d9221\"], [1, \"#276419\"]], \"sequential\": [[0.0, \"#0d0887\"], [0.1111111111111111, \"#46039f\"], [0.2222222222222222, \"#7201a8\"], [0.3333333333333333, \"#9c179e\"], [0.4444444444444444, \"#bd3786\"], [0.5555555555555556, \"#d8576b\"], [0.6666666666666666, \"#ed7953\"], [0.7777777777777778, \"#fb9f3a\"], [0.8888888888888888, \"#fdca26\"], [1.0, \"#f0f921\"]], \"sequentialminus\": [[0.0, \"#0d0887\"], [0.1111111111111111, \"#46039f\"], [0.2222222222222222, \"#7201a8\"], [0.3333333333333333, \"#9c179e\"], [0.4444444444444444, \"#bd3786\"], [0.5555555555555556, \"#d8576b\"], [0.6666666666666666, \"#ed7953\"], [0.7777777777777778, \"#fb9f3a\"], [0.8888888888888888, \"#fdca26\"], [1.0, \"#f0f921\"]]}, \"colorway\": [\"#636efa\", \"#EF553B\", \"#00cc96\", \"#ab63fa\", \"#FFA15A\", \"#19d3f3\", \"#FF6692\", \"#B6E880\", \"#FF97FF\", \"#FECB52\"], \"font\": {\"color\": \"#2a3f5f\"}, \"geo\": {\"bgcolor\": \"white\", \"lakecolor\": \"white\", \"landcolor\": \"#E5ECF6\", \"showlakes\": true, \"showland\": true, \"subunitcolor\": \"white\"}, \"hoverlabel\": {\"align\": \"left\"}, \"hovermode\": \"closest\", \"mapbox\": {\"style\": \"light\"}, \"paper_bgcolor\": \"white\", \"plot_bgcolor\": \"#E5ECF6\", \"polar\": {\"angularaxis\": {\"gridcolor\": \"white\", \"linecolor\": \"white\", \"ticks\": \"\"}, \"bgcolor\": \"#E5ECF6\", \"radialaxis\": {\"gridcolor\": \"white\", \"linecolor\": \"white\", \"ticks\": \"\"}}, \"scene\": {\"xaxis\": {\"backgroundcolor\": \"#E5ECF6\", \"gridcolor\": \"white\", \"gridwidth\": 2, \"linecolor\": \"white\", \"showbackground\": true, \"ticks\": \"\", \"zerolinecolor\": \"white\"}, \"yaxis\": {\"backgroundcolor\": \"#E5ECF6\", \"gridcolor\": \"white\", \"gridwidth\": 2, \"linecolor\": \"white\", \"showbackground\": true, \"ticks\": \"\", \"zerolinecolor\": \"white\"}, \"zaxis\": {\"backgroundcolor\": \"#E5ECF6\", \"gridcolor\": \"white\", \"gridwidth\": 2, \"linecolor\": \"white\", \"showbackground\": true, \"ticks\": \"\", \"zerolinecolor\": \"white\"}}, \"shapedefaults\": {\"line\": {\"color\": \"#2a3f5f\"}}, \"ternary\": {\"aaxis\": {\"gridcolor\": \"white\", \"linecolor\": \"white\", \"ticks\": \"\"}, \"baxis\": {\"gridcolor\": \"white\", \"linecolor\": \"white\", \"ticks\": \"\"}, \"bgcolor\": \"#E5ECF6\", \"caxis\": {\"gridcolor\": \"white\", \"linecolor\": \"white\", \"ticks\": \"\"}}, \"title\": {\"x\": 0.05}, \"xaxis\": {\"automargin\": true, \"gridcolor\": \"white\", \"linecolor\": \"white\", \"ticks\": \"\", \"title\": {\"standoff\": 15}, \"zerolinecolor\": \"white\", \"zerolinewidth\": 2}, \"yaxis\": {\"automargin\": true, \"gridcolor\": \"white\", \"linecolor\": \"white\", \"ticks\": \"\", \"title\": {\"standoff\": 15}, \"zerolinecolor\": \"white\", \"zerolinewidth\": 2}}}, \"title\": {\"font\": {\"color\": \"#4D5663\"}}, \"xaxis\": {\"anchor\": \"y\", \"domain\": [0.0, 0.2125], \"gridcolor\": \"#E1E5ED\", \"showgrid\": false, \"tickfont\": {\"color\": \"#4D5663\"}, \"title\": {\"font\": {\"color\": \"#4D5663\"}, \"text\": \"\"}, \"zerolinecolor\": \"#E1E5ED\"}, \"xaxis10\": {\"anchor\": \"y10\", \"domain\": [0.2625, 0.475], \"gridcolor\": \"#E1E5ED\", \"showgrid\": false, \"tickfont\": {\"color\": \"#4D5663\"}, \"title\": {\"font\": {\"color\": \"#4D5663\"}, \"text\": \"\"}, \"zerolinecolor\": \"#E1E5ED\"}, \"xaxis11\": {\"anchor\": \"y11\", \"domain\": [0.525, 0.7375], \"gridcolor\": \"#E1E5ED\", \"showgrid\": false, \"tickfont\": {\"color\": \"#4D5663\"}, \"title\": {\"font\": {\"color\": \"#4D5663\"}, \"text\": \"\"}, \"zerolinecolor\": \"#E1E5ED\"}, \"xaxis12\": {\"anchor\": \"y12\", \"domain\": [0.7875, 1.0], \"gridcolor\": \"#E1E5ED\", \"showgrid\": false, \"tickfont\": {\"color\": \"#4D5663\"}, \"title\": {\"font\": {\"color\": \"#4D5663\"}, \"text\": \"\"}, \"zerolinecolor\": \"#E1E5ED\"}, \"xaxis13\": {\"anchor\": \"y13\", \"domain\": [0.0, 0.2125], \"gridcolor\": \"#E1E5ED\", \"showgrid\": false, \"tickfont\": {\"color\": \"#4D5663\"}, \"title\": {\"font\": {\"color\": \"#4D5663\"}, \"text\": \"\"}, \"zerolinecolor\": \"#E1E5ED\"}, \"xaxis14\": {\"anchor\": \"y14\", \"domain\": [0.2625, 0.475], \"gridcolor\": \"#E1E5ED\", \"showgrid\": false, \"tickfont\": {\"color\": \"#4D5663\"}, \"title\": {\"font\": {\"color\": \"#4D5663\"}, \"text\": \"\"}, \"zerolinecolor\": \"#E1E5ED\"}, \"xaxis15\": {\"anchor\": \"y15\", \"domain\": [0.525, 0.7375], \"gridcolor\": \"#E1E5ED\", \"showgrid\": false, \"tickfont\": {\"color\": \"#4D5663\"}, \"title\": {\"font\": {\"color\": \"#4D5663\"}, \"text\": \"\"}, \"zerolinecolor\": \"#E1E5ED\"}, \"xaxis16\": {\"anchor\": \"y16\", \"domain\": [0.7875, 1.0], \"gridcolor\": \"#E1E5ED\", \"showgrid\": false, \"tickfont\": {\"color\": \"#4D5663\"}, \"title\": {\"font\": {\"color\": \"#4D5663\"}, \"text\": \"\"}, \"zerolinecolor\": \"#E1E5ED\"}, \"xaxis2\": {\"anchor\": \"y2\", \"domain\": [0.2625, 0.475], \"gridcolor\": \"#E1E5ED\", \"showgrid\": false, \"tickfont\": {\"color\": \"#4D5663\"}, \"title\": {\"font\": {\"color\": \"#4D5663\"}, \"text\": \"\"}, \"zerolinecolor\": \"#E1E5ED\"}, \"xaxis3\": {\"anchor\": \"y3\", \"domain\": [0.525, 0.7375], \"gridcolor\": \"#E1E5ED\", \"showgrid\": false, \"tickfont\": {\"color\": \"#4D5663\"}, \"title\": {\"font\": {\"color\": \"#4D5663\"}, \"text\": \"\"}, \"zerolinecolor\": \"#E1E5ED\"}, \"xaxis4\": {\"anchor\": \"y4\", \"domain\": [0.7875, 1.0], \"gridcolor\": \"#E1E5ED\", \"showgrid\": false, \"tickfont\": {\"color\": \"#4D5663\"}, \"title\": {\"font\": {\"color\": \"#4D5663\"}, \"text\": \"\"}, \"zerolinecolor\": \"#E1E5ED\"}, \"xaxis5\": {\"anchor\": \"y5\", \"domain\": [0.0, 0.2125], \"gridcolor\": \"#E1E5ED\", \"showgrid\": false, \"tickfont\": {\"color\": \"#4D5663\"}, \"title\": {\"font\": {\"color\": \"#4D5663\"}, \"text\": \"\"}, \"zerolinecolor\": \"#E1E5ED\"}, \"xaxis6\": {\"anchor\": \"y6\", \"domain\": [0.2625, 0.475], \"gridcolor\": \"#E1E5ED\", \"showgrid\": false, \"tickfont\": {\"color\": \"#4D5663\"}, \"title\": {\"font\": {\"color\": \"#4D5663\"}, \"text\": \"\"}, \"zerolinecolor\": \"#E1E5ED\"}, \"xaxis7\": {\"anchor\": \"y7\", \"domain\": [0.525, 0.7375], \"gridcolor\": \"#E1E5ED\", \"showgrid\": false, \"tickfont\": {\"color\": \"#4D5663\"}, \"title\": {\"font\": {\"color\": \"#4D5663\"}, \"text\": \"\"}, \"zerolinecolor\": \"#E1E5ED\"}, \"xaxis8\": {\"anchor\": \"y8\", \"domain\": [0.7875, 1.0], \"gridcolor\": \"#E1E5ED\", \"showgrid\": false, \"tickfont\": {\"color\": \"#4D5663\"}, \"title\": {\"font\": {\"color\": \"#4D5663\"}, \"text\": \"\"}, \"zerolinecolor\": \"#E1E5ED\"}, \"xaxis9\": {\"anchor\": \"y9\", \"domain\": [0.0, 0.2125], \"gridcolor\": \"#E1E5ED\", \"showgrid\": false, \"tickfont\": {\"color\": \"#4D5663\"}, \"title\": {\"font\": {\"color\": \"#4D5663\"}, \"text\": \"\"}, \"zerolinecolor\": \"#E1E5ED\"}, \"yaxis\": {\"anchor\": \"x\", \"domain\": [0.8025, 1.0], \"gridcolor\": \"#E1E5ED\", \"showgrid\": false, \"tickfont\": {\"color\": \"#4D5663\"}, \"title\": {\"font\": {\"color\": \"#4D5663\"}, \"text\": \"\"}, \"zerolinecolor\": \"#E1E5ED\"}, \"yaxis10\": {\"anchor\": \"x10\", \"domain\": [0.2675, 0.465], \"gridcolor\": \"#E1E5ED\", \"showgrid\": false, \"tickfont\": {\"color\": \"#4D5663\"}, \"title\": {\"font\": {\"color\": \"#4D5663\"}, \"text\": \"\"}, \"zerolinecolor\": \"#E1E5ED\"}, \"yaxis11\": {\"anchor\": \"x11\", \"domain\": [0.2675, 0.465], \"gridcolor\": \"#E1E5ED\", \"showgrid\": false, \"tickfont\": {\"color\": \"#4D5663\"}, \"title\": {\"font\": {\"color\": \"#4D5663\"}, \"text\": \"\"}, \"zerolinecolor\": \"#E1E5ED\"}, \"yaxis12\": {\"anchor\": \"x12\", \"domain\": [0.2675, 0.465], \"gridcolor\": \"#E1E5ED\", \"showgrid\": false, \"tickfont\": {\"color\": \"#4D5663\"}, \"title\": {\"font\": {\"color\": \"#4D5663\"}, \"text\": \"\"}, \"zerolinecolor\": \"#E1E5ED\"}, \"yaxis13\": {\"anchor\": \"x13\", \"domain\": [0.0, 0.1975], \"gridcolor\": \"#E1E5ED\", \"showgrid\": false, \"tickfont\": {\"color\": \"#4D5663\"}, \"title\": {\"font\": {\"color\": \"#4D5663\"}, \"text\": \"\"}, \"zerolinecolor\": \"#E1E5ED\"}, \"yaxis14\": {\"anchor\": \"x14\", \"domain\": [0.0, 0.1975], \"gridcolor\": \"#E1E5ED\", \"showgrid\": false, \"tickfont\": {\"color\": \"#4D5663\"}, \"title\": {\"font\": {\"color\": \"#4D5663\"}, \"text\": \"\"}, \"zerolinecolor\": \"#E1E5ED\"}, \"yaxis15\": {\"anchor\": \"x15\", \"domain\": [0.0, 0.1975], \"gridcolor\": \"#E1E5ED\", \"showgrid\": false, \"tickfont\": {\"color\": \"#4D5663\"}, \"title\": {\"font\": {\"color\": \"#4D5663\"}, \"text\": \"\"}, \"zerolinecolor\": \"#E1E5ED\"}, \"yaxis16\": {\"anchor\": \"x16\", \"domain\": [0.0, 0.1975], \"gridcolor\": \"#E1E5ED\", \"showgrid\": false, \"tickfont\": {\"color\": \"#4D5663\"}, \"title\": {\"font\": {\"color\": \"#4D5663\"}, \"text\": \"\"}, \"zerolinecolor\": \"#E1E5ED\"}, \"yaxis2\": {\"anchor\": \"x2\", \"domain\": [0.8025, 1.0], \"gridcolor\": \"#E1E5ED\", \"showgrid\": false, \"tickfont\": {\"color\": \"#4D5663\"}, \"title\": {\"font\": {\"color\": \"#4D5663\"}, \"text\": \"\"}, \"zerolinecolor\": \"#E1E5ED\"}, \"yaxis3\": {\"anchor\": \"x3\", \"domain\": [0.8025, 1.0], \"gridcolor\": \"#E1E5ED\", \"showgrid\": false, \"tickfont\": {\"color\": \"#4D5663\"}, \"title\": {\"font\": {\"color\": \"#4D5663\"}, \"text\": \"\"}, \"zerolinecolor\": \"#E1E5ED\"}, \"yaxis4\": {\"anchor\": \"x4\", \"domain\": [0.8025, 1.0], \"gridcolor\": \"#E1E5ED\", \"showgrid\": false, \"tickfont\": {\"color\": \"#4D5663\"}, \"title\": {\"font\": {\"color\": \"#4D5663\"}, \"text\": \"\"}, \"zerolinecolor\": \"#E1E5ED\"}, \"yaxis5\": {\"anchor\": \"x5\", \"domain\": [0.535, 0.7325], \"gridcolor\": \"#E1E5ED\", \"showgrid\": false, \"tickfont\": {\"color\": \"#4D5663\"}, \"title\": {\"font\": {\"color\": \"#4D5663\"}, \"text\": \"\"}, \"zerolinecolor\": \"#E1E5ED\"}, \"yaxis6\": {\"anchor\": \"x6\", \"domain\": [0.535, 0.7325], \"gridcolor\": \"#E1E5ED\", \"showgrid\": false, \"tickfont\": {\"color\": \"#4D5663\"}, \"title\": {\"font\": {\"color\": \"#4D5663\"}, \"text\": \"\"}, \"zerolinecolor\": \"#E1E5ED\"}, \"yaxis7\": {\"anchor\": \"x7\", \"domain\": [0.535, 0.7325], \"gridcolor\": \"#E1E5ED\", \"showgrid\": false, \"tickfont\": {\"color\": \"#4D5663\"}, \"title\": {\"font\": {\"color\": \"#4D5663\"}, \"text\": \"\"}, \"zerolinecolor\": \"#E1E5ED\"}, \"yaxis8\": {\"anchor\": \"x8\", \"domain\": [0.535, 0.7325], \"gridcolor\": \"#E1E5ED\", \"showgrid\": false, \"tickfont\": {\"color\": \"#4D5663\"}, \"title\": {\"font\": {\"color\": \"#4D5663\"}, \"text\": \"\"}, \"zerolinecolor\": \"#E1E5ED\"}, \"yaxis9\": {\"anchor\": \"x9\", \"domain\": [0.2675, 0.465], \"gridcolor\": \"#E1E5ED\", \"showgrid\": false, \"tickfont\": {\"color\": \"#4D5663\"}, \"title\": {\"font\": {\"color\": \"#4D5663\"}, \"text\": \"\"}, \"zerolinecolor\": \"#E1E5ED\"}},\n",
       "                        {\"showLink\": true, \"linkText\": \"Export to plot.ly\", \"plotlyServerURL\": \"https://plot.ly\", \"responsive\": true}\n",
       "                    ).then(function(){\n",
       "                            \n",
       "var gd = document.getElementById('cb896967-7125-4583-9fc3-2a6bb32e1f0e');\n",
       "var x = new MutationObserver(function (mutations, observer) {{\n",
       "        var display = window.getComputedStyle(gd).display;\n",
       "        if (!display || display === 'none') {{\n",
       "            console.log([gd, 'removed!']);\n",
       "            Plotly.purge(gd);\n",
       "            observer.disconnect();\n",
       "        }}\n",
       "}});\n",
       "\n",
       "// Listen for the removal of the full notebook cells\n",
       "var notebookContainer = gd.closest('#notebook-container');\n",
       "if (notebookContainer) {{\n",
       "    x.observe(notebookContainer, {childList: true});\n",
       "}}\n",
       "\n",
       "// Listen for the clearing of the current output cell\n",
       "var outputEl = gd.closest('.output');\n",
       "if (outputEl) {{\n",
       "    x.observe(outputEl, {childList: true});\n",
       "}}\n",
       "\n",
       "                        })\n",
       "                };\n",
       "                });\n",
       "            </script>\n",
       "        </div>"
      ]
     },
     "metadata": {},
     "output_type": "display_data"
    }
   ],
   "source": [
    "df.scatter_matrix()"
   ]
  }
 ],
 "metadata": {
  "kernelspec": {
   "display_name": "Python 3",
   "language": "python",
   "name": "python3"
  },
  "language_info": {
   "codemirror_mode": {
    "name": "ipython",
    "version": 3
   },
   "file_extension": ".py",
   "mimetype": "text/x-python",
   "name": "python",
   "nbconvert_exporter": "python",
   "pygments_lexer": "ipython3",
   "version": "3.8.3"
  }
 },
 "nbformat": 4,
 "nbformat_minor": 1
}
