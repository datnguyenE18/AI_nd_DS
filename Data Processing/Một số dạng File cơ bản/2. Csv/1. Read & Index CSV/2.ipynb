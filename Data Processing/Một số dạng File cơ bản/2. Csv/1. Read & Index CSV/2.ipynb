{
 "cells": [
  {
   "cell_type": "code",
   "execution_count": 1,
   "metadata": {},
   "outputs": [],
   "source": [
    "import csv"
   ]
  },
  {
   "cell_type": "code",
   "execution_count": 2,
   "metadata": {},
   "outputs": [
    {
     "name": "stdout",
     "output_type": "stream",
     "text": [
      "1\n",
      "6\n",
      "8\n",
      "10\n",
      "11\n",
      "15\n",
      "16\n",
      "17\n",
      "18\n",
      "20\n",
      "28\n",
      "29\n",
      "32\n",
      "37\n",
      "38\n",
      "39\n",
      "40\n",
      "41\n",
      "42\n",
      "45\n",
      "54\n",
      "55\n",
      "57\n",
      "58\n",
      "63\n",
      "66\n",
      "69\n",
      "71\n",
      "74\n",
      "77\n",
      "80\n",
      "81\n",
      "82\n",
      "84\n",
      "86\n",
      "87\n",
      "89\n",
      "91\n",
      "92\n",
      "94\n",
      "96\n",
      "98\n",
      "99\n"
     ]
    }
   ],
   "source": [
    "with open('patient.csv', mode='r') as csv_file:\n",
    "    csv_reader = csv.DictReader(csv_file)\n",
    "\n",
    "    for row in csv_reader:\n",
    "        if float(row[\"Nhiet do\"])>40:\n",
    "            print(row[\"ID\"])"
   ]
  },
  {
   "cell_type": "code",
   "execution_count": null,
   "metadata": {},
   "outputs": [],
   "source": []
  }
 ],
 "metadata": {
  "kernelspec": {
   "display_name": "Python 3",
   "language": "python",
   "name": "python3"
  },
  "language_info": {
   "codemirror_mode": {
    "name": "ipython",
    "version": 3
   },
   "file_extension": ".py",
   "mimetype": "text/x-python",
   "name": "python",
   "nbconvert_exporter": "python",
   "pygments_lexer": "ipython3",
   "version": "3.8.3"
  }
 },
 "nbformat": 4,
 "nbformat_minor": 4
}
