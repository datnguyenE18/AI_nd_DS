{
 "cells": [
  {
   "cell_type": "code",
   "execution_count": 1,
   "metadata": {},
   "outputs": [],
   "source": [
    "import numpy as np "
   ]
  },
  {
   "cell_type": "markdown",
   "metadata": {},
   "source": [
    "##### Number List:"
   ]
  },
  {
   "cell_type": "code",
   "execution_count": 2,
   "metadata": {},
   "outputs": [
    {
     "name": "stdout",
     "output_type": "stream",
     "text": [
      "[70, 60, 10]\n",
      "[70 60 10]\n",
      "[-5, 5, 6, 8, 10]\n",
      "[-5  5  6  8 10]\n"
     ]
    }
   ],
   "source": [
    "nums = [6, 8, 10, 5, 70, -5, 60]\n",
    "# 3 largest numbers:\n",
    "print (sorted(nums, reverse = True)[:3])\n",
    "print (np.array(nums)[np.argsort(nums)[::-1][:3]])\n",
    "\n",
    "# 5 smallest numbers:\n",
    "print (sorted(nums)[:5])\n",
    "print (np.array(nums)[np.argsort(nums)[:5]])"
   ]
  },
  {
   "cell_type": "markdown",
   "metadata": {},
   "source": [
    "#### Car Price List (billion dongs):"
   ]
  },
  {
   "cell_type": "code",
   "execution_count": 3,
   "metadata": {},
   "outputs": [
    {
     "data": {
      "text/plain": [
       "[{'Name': 'Rolls Royce Dawn Black Badge', 'Price': 41},\n",
       " {'Name': 'Lamborghini Aventador LP700-4', 'Price': 26},\n",
       " {'Name': 'Bentley Continental GT', 'Price': 25},\n",
       " {'Name': 'Maserati Granturismo', 'Price': 15.623},\n",
       " {'Name': 'Mercedes-Maybach S 650 4MATIC', 'Price': 14.899},\n",
       " {'Name': 'Porsche 911 Carrera S Cabriolet', 'Price': 7.77},\n",
       " {'Name': 'Audi A8L', 'Price': 5.6},\n",
       " {'Name': 'BMW Z4 sDrive30i', 'Price': 3.099}]"
      ]
     },
     "execution_count": 3,
     "metadata": {},
     "output_type": "execute_result"
    }
   ],
   "source": [
    "car = [\n",
    "    {'Name' : 'BMW Z4 sDrive30i', 'Price' : 3.099 },\n",
    "    {'Name' : 'Mercedes-Maybach S 650 4MATIC', 'Price' : 14.899 },\n",
    "    {'Name' : 'Porsche 911 Carrera S Cabriolet', 'Price' : 7.770 },\n",
    "    {'Name' : 'Lamborghini Aventador LP700-4', 'Price' : 26 },\n",
    "    {'Name' : 'Bentley Continental GT', 'Price' : 25 },\n",
    "    {'Name' : 'Audi A8L', 'Price' : 5.6 },\n",
    "    {'Name' : 'Rolls Royce Dawn Black Badge', 'Price' : 41 },\n",
    "    {'Name' : 'Maserati Granturismo', 'Price' : 15.623 }\n",
    "]\n",
    "\n",
    "sorted(car, reverse = True, key = lambda x: x['Price'])"
   ]
  },
  {
   "cell_type": "code",
   "execution_count": null,
   "metadata": {},
   "outputs": [],
   "source": []
  }
 ],
 "metadata": {
  "kernelspec": {
   "display_name": "Python 3",
   "language": "python",
   "name": "python3"
  },
  "language_info": {
   "codemirror_mode": {
    "name": "ipython",
    "version": 3
   },
   "file_extension": ".py",
   "mimetype": "text/x-python",
   "name": "python",
   "nbconvert_exporter": "python",
   "pygments_lexer": "ipython3",
   "version": "3.7.7"
  }
 },
 "nbformat": 4,
 "nbformat_minor": 4
}
