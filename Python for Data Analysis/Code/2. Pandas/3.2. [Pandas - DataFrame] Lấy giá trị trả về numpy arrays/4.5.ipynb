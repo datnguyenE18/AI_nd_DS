{
 "cells": [
  {
   "cell_type": "code",
   "execution_count": 1,
   "metadata": {},
   "outputs": [
    {
     "data": {
      "text/html": [
       "<div>\n",
       "<style scoped>\n",
       "    .dataframe tbody tr th:only-of-type {\n",
       "        vertical-align: middle;\n",
       "    }\n",
       "\n",
       "    .dataframe tbody tr th {\n",
       "        vertical-align: top;\n",
       "    }\n",
       "\n",
       "    .dataframe thead th {\n",
       "        text-align: right;\n",
       "    }\n",
       "</style>\n",
       "<table border=\"1\" class=\"dataframe\">\n",
       "  <thead>\n",
       "    <tr style=\"text-align: right;\">\n",
       "      <th></th>\n",
       "      <th>person_ID</th>\n",
       "      <th>name</th>\n",
       "      <th>first</th>\n",
       "      <th>last</th>\n",
       "      <th>middle</th>\n",
       "      <th>email</th>\n",
       "      <th>phone</th>\n",
       "      <th>fax</th>\n",
       "      <th>title</th>\n",
       "      <th>age</th>\n",
       "    </tr>\n",
       "  </thead>\n",
       "  <tbody>\n",
       "    <tr>\n",
       "      <th>0</th>\n",
       "      <td>3130</td>\n",
       "      <td>Burks, Rosella</td>\n",
       "      <td>Rosella</td>\n",
       "      <td>Burks</td>\n",
       "      <td>NaN</td>\n",
       "      <td>BurksR@univ.edu</td>\n",
       "      <td>963.555.1253</td>\n",
       "      <td>963.777.4065</td>\n",
       "      <td>Professor</td>\n",
       "      <td>25</td>\n",
       "    </tr>\n",
       "    <tr>\n",
       "      <th>1</th>\n",
       "      <td>3297</td>\n",
       "      <td>Avila, Damien</td>\n",
       "      <td>Damien</td>\n",
       "      <td>Avila</td>\n",
       "      <td>NaN</td>\n",
       "      <td>AvilaD@univ.edu</td>\n",
       "      <td>963.555.1352</td>\n",
       "      <td>963.777.7914</td>\n",
       "      <td>Professor</td>\n",
       "      <td>23</td>\n",
       "    </tr>\n",
       "    <tr>\n",
       "      <th>2</th>\n",
       "      <td>3547</td>\n",
       "      <td>Olsen, Robin</td>\n",
       "      <td>Robin</td>\n",
       "      <td>Olsen</td>\n",
       "      <td>NaN</td>\n",
       "      <td>OlsenR@univ.edu</td>\n",
       "      <td>963.555.1378</td>\n",
       "      <td>963.777.9262</td>\n",
       "      <td>Assistant Professor</td>\n",
       "      <td>21</td>\n",
       "    </tr>\n",
       "    <tr>\n",
       "      <th>3</th>\n",
       "      <td>1538</td>\n",
       "      <td>Moises, Edgar Estes</td>\n",
       "      <td>Edgar</td>\n",
       "      <td>Moises</td>\n",
       "      <td>Estes</td>\n",
       "      <td>MoisesE@univ.edu</td>\n",
       "      <td>963.555.2731x3565</td>\n",
       "      <td>963.777.8264</td>\n",
       "      <td>Professor</td>\n",
       "      <td>18</td>\n",
       "    </tr>\n",
       "    <tr>\n",
       "      <th>4</th>\n",
       "      <td>2941</td>\n",
       "      <td>Brian, Heath Pruitt</td>\n",
       "      <td>Heath</td>\n",
       "      <td>Brian</td>\n",
       "      <td>Pruitt</td>\n",
       "      <td>BrianH@univ.edu</td>\n",
       "      <td>963.555.2800</td>\n",
       "      <td>963.777.7249</td>\n",
       "      <td>Associate Curator</td>\n",
       "      <td>30</td>\n",
       "    </tr>\n",
       "  </tbody>\n",
       "</table>\n",
       "</div>"
      ],
      "text/plain": [
       "   person_ID                 name    first    last  middle             email  \\\n",
       "0       3130      Burks, Rosella   Rosella   Burks     NaN   BurksR@univ.edu   \n",
       "1       3297       Avila, Damien    Damien   Avila     NaN   AvilaD@univ.edu   \n",
       "2       3547        Olsen, Robin     Robin   Olsen     NaN   OlsenR@univ.edu   \n",
       "3       1538  Moises, Edgar Estes    Edgar  Moises   Estes  MoisesE@univ.edu   \n",
       "4       2941  Brian, Heath Pruitt    Heath   Brian  Pruitt   BrianH@univ.edu   \n",
       "\n",
       "               phone           fax                title  age  \n",
       "0       963.555.1253  963.777.4065            Professor   25  \n",
       "1       963.555.1352  963.777.7914           Professor    23  \n",
       "2       963.555.1378  963.777.9262  Assistant Professor   21  \n",
       "3  963.555.2731x3565  963.777.8264            Professor   18  \n",
       "4       963.555.2800  963.777.7249   Associate Curator    30  "
      ]
     },
     "execution_count": 1,
     "metadata": {},
     "output_type": "execute_result"
    }
   ],
   "source": [
    "import pandas as pd\n",
    "df = pd.read_csv('people.csv') \n",
    "df.head()"
   ]
  },
  {
   "cell_type": "markdown",
   "metadata": {},
   "source": [
    "### Lấy giá trị trả về numpy arrays"
   ]
  },
  {
   "cell_type": "markdown",
   "metadata": {},
   "source": [
    "Để lấy giá trị của một cột trả về dưới dạng numpy array trong thư viện pandas python, chỉ cần thêm .values vào sau, ví dụ:"
   ]
  },
  {
   "cell_type": "code",
   "execution_count": 2,
   "metadata": {},
   "outputs": [
    {
     "data": {
      "text/plain": [
       "array(['Rosella', 'Damien', 'Robin', 'Edgar', 'Heath', 'Elvin', 'Edmund',\n",
       "       'Antoine', 'Callie', 'Andrea', 'Liz', 'Reba', 'Angelina',\n",
       "       'Kimberly', 'Lloyd', 'Ladonna', 'Johnathan', 'Gilbert', 'Florence',\n",
       "       'Toby', 'Patrica', 'Leila', 'Rose', 'Kathie', 'Shannon', 'Cleo',\n",
       "       'Nellie', 'Ruben', 'Dianne', 'Adam', 'Kurtis', 'Jami', 'Jaime',\n",
       "       'Summer', 'Sam', 'Ann', 'Rich', 'Winnie', 'Ezra', 'Elba'],\n",
       "      dtype=object)"
      ]
     },
     "execution_count": 2,
     "metadata": {},
     "output_type": "execute_result"
    }
   ],
   "source": [
    "df['first'].values"
   ]
  },
  {
   "cell_type": "code",
   "execution_count": null,
   "metadata": {},
   "outputs": [],
   "source": []
  }
 ],
 "metadata": {
  "kernelspec": {
   "display_name": "Python 3",
   "language": "python",
   "name": "python3"
  },
  "language_info": {
   "codemirror_mode": {
    "name": "ipython",
    "version": 3
   },
   "file_extension": ".py",
   "mimetype": "text/x-python",
   "name": "python",
   "nbconvert_exporter": "python",
   "pygments_lexer": "ipython3",
   "version": "3.7.7"
  }
 },
 "nbformat": 4,
 "nbformat_minor": 4
}
