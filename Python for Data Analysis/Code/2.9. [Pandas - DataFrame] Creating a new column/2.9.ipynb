{
 "cells": [
  {
   "cell_type": "code",
   "execution_count": 1,
   "metadata": {},
   "outputs": [],
   "source": [
    "import pandas as pd\n",
    "import numpy as np\n",
    "from numpy.random import randn"
   ]
  },
  {
   "cell_type": "code",
   "execution_count": 2,
   "metadata": {},
   "outputs": [
    {
     "data": {
      "text/html": [
       "<div>\n",
       "<style scoped>\n",
       "    .dataframe tbody tr th:only-of-type {\n",
       "        vertical-align: middle;\n",
       "    }\n",
       "\n",
       "    .dataframe tbody tr th {\n",
       "        vertical-align: top;\n",
       "    }\n",
       "\n",
       "    .dataframe thead th {\n",
       "        text-align: right;\n",
       "    }\n",
       "</style>\n",
       "<table border=\"1\" class=\"dataframe\">\n",
       "  <thead>\n",
       "    <tr style=\"text-align: right;\">\n",
       "      <th></th>\n",
       "      <th>W</th>\n",
       "      <th>X</th>\n",
       "      <th>Y</th>\n",
       "      <th>Z</th>\n",
       "    </tr>\n",
       "  </thead>\n",
       "  <tbody>\n",
       "    <tr>\n",
       "      <th>A</th>\n",
       "      <td>0.021104</td>\n",
       "      <td>-0.903104</td>\n",
       "      <td>1.073647</td>\n",
       "      <td>-0.293750</td>\n",
       "    </tr>\n",
       "    <tr>\n",
       "      <th>B</th>\n",
       "      <td>-2.041254</td>\n",
       "      <td>0.785653</td>\n",
       "      <td>-0.676222</td>\n",
       "      <td>-1.009309</td>\n",
       "    </tr>\n",
       "    <tr>\n",
       "      <th>C</th>\n",
       "      <td>0.803026</td>\n",
       "      <td>0.599595</td>\n",
       "      <td>-0.161614</td>\n",
       "      <td>-0.390506</td>\n",
       "    </tr>\n",
       "    <tr>\n",
       "      <th>D</th>\n",
       "      <td>0.606059</td>\n",
       "      <td>-0.054962</td>\n",
       "      <td>-1.950639</td>\n",
       "      <td>-0.177723</td>\n",
       "    </tr>\n",
       "    <tr>\n",
       "      <th>E</th>\n",
       "      <td>0.615277</td>\n",
       "      <td>-0.218612</td>\n",
       "      <td>-0.077102</td>\n",
       "      <td>0.215579</td>\n",
       "    </tr>\n",
       "  </tbody>\n",
       "</table>\n",
       "</div>"
      ],
      "text/plain": [
       "          W         X         Y         Z\n",
       "A  0.021104 -0.903104  1.073647 -0.293750\n",
       "B -2.041254  0.785653 -0.676222 -1.009309\n",
       "C  0.803026  0.599595 -0.161614 -0.390506\n",
       "D  0.606059 -0.054962 -1.950639 -0.177723\n",
       "E  0.615277 -0.218612 -0.077102  0.215579"
      ]
     },
     "execution_count": 2,
     "metadata": {},
     "output_type": "execute_result"
    }
   ],
   "source": [
    "df = pd.DataFrame(randn(5, 4), index = 'A B C D E'.split(), columns = 'W X Y Z'.split())\n",
    "# or: df = pd.DataFrame(100, ['A', 'B', 'C', 'D', 'E'], ['W', 'X', 'Y', 'Z'])\n",
    "\n",
    "# Show: \n",
    "df"
   ]
  },
  {
   "cell_type": "markdown",
   "metadata": {},
   "source": [
    "### Creating a new column:"
   ]
  },
  {
   "cell_type": "code",
   "execution_count": 3,
   "metadata": {},
   "outputs": [
    {
     "data": {
      "text/html": [
       "<div>\n",
       "<style scoped>\n",
       "    .dataframe tbody tr th:only-of-type {\n",
       "        vertical-align: middle;\n",
       "    }\n",
       "\n",
       "    .dataframe tbody tr th {\n",
       "        vertical-align: top;\n",
       "    }\n",
       "\n",
       "    .dataframe thead th {\n",
       "        text-align: right;\n",
       "    }\n",
       "</style>\n",
       "<table border=\"1\" class=\"dataframe\">\n",
       "  <thead>\n",
       "    <tr style=\"text-align: right;\">\n",
       "      <th></th>\n",
       "      <th>W</th>\n",
       "      <th>X</th>\n",
       "      <th>Y</th>\n",
       "      <th>Z</th>\n",
       "      <th>new</th>\n",
       "    </tr>\n",
       "  </thead>\n",
       "  <tbody>\n",
       "    <tr>\n",
       "      <th>A</th>\n",
       "      <td>0.021104</td>\n",
       "      <td>-0.903104</td>\n",
       "      <td>1.073647</td>\n",
       "      <td>-0.293750</td>\n",
       "      <td>-0.272646</td>\n",
       "    </tr>\n",
       "    <tr>\n",
       "      <th>B</th>\n",
       "      <td>-2.041254</td>\n",
       "      <td>0.785653</td>\n",
       "      <td>-0.676222</td>\n",
       "      <td>-1.009309</td>\n",
       "      <td>-3.050563</td>\n",
       "    </tr>\n",
       "    <tr>\n",
       "      <th>C</th>\n",
       "      <td>0.803026</td>\n",
       "      <td>0.599595</td>\n",
       "      <td>-0.161614</td>\n",
       "      <td>-0.390506</td>\n",
       "      <td>0.412520</td>\n",
       "    </tr>\n",
       "    <tr>\n",
       "      <th>D</th>\n",
       "      <td>0.606059</td>\n",
       "      <td>-0.054962</td>\n",
       "      <td>-1.950639</td>\n",
       "      <td>-0.177723</td>\n",
       "      <td>0.428336</td>\n",
       "    </tr>\n",
       "    <tr>\n",
       "      <th>E</th>\n",
       "      <td>0.615277</td>\n",
       "      <td>-0.218612</td>\n",
       "      <td>-0.077102</td>\n",
       "      <td>0.215579</td>\n",
       "      <td>0.830856</td>\n",
       "    </tr>\n",
       "  </tbody>\n",
       "</table>\n",
       "</div>"
      ],
      "text/plain": [
       "          W         X         Y         Z       new\n",
       "A  0.021104 -0.903104  1.073647 -0.293750 -0.272646\n",
       "B -2.041254  0.785653 -0.676222 -1.009309 -3.050563\n",
       "C  0.803026  0.599595 -0.161614 -0.390506  0.412520\n",
       "D  0.606059 -0.054962 -1.950639 -0.177723  0.428336\n",
       "E  0.615277 -0.218612 -0.077102  0.215579  0.830856"
      ]
     },
     "execution_count": 3,
     "metadata": {},
     "output_type": "execute_result"
    }
   ],
   "source": [
    "df['new'] = df['W'] + df['Z'] \n",
    "# Show:\n",
    "df"
   ]
  },
  {
   "cell_type": "code",
   "execution_count": null,
   "metadata": {},
   "outputs": [],
   "source": []
  }
 ],
 "metadata": {
  "kernelspec": {
   "display_name": "Python 3",
   "language": "python",
   "name": "python3"
  },
  "language_info": {
   "codemirror_mode": {
    "name": "ipython",
    "version": 3
   },
   "file_extension": ".py",
   "mimetype": "text/x-python",
   "name": "python",
   "nbconvert_exporter": "python",
   "pygments_lexer": "ipython3",
   "version": "3.7.7"
  }
 },
 "nbformat": 4,
 "nbformat_minor": 4
}
