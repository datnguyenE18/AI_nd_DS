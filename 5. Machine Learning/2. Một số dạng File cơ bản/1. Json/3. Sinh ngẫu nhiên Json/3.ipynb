{
 "cells": [
  {
   "cell_type": "code",
   "execution_count": 1,
   "metadata": {},
   "outputs": [],
   "source": [
    "import json\n",
    "import random"
   ]
  },
  {
   "cell_type": "code",
   "execution_count": 2,
   "metadata": {},
   "outputs": [],
   "source": [
    "def randomJson():\n",
    "    # Dữ liệu: \n",
    "    Data= {}\n",
    "    \n",
    "    # Gồm 2 keys lớn:\n",
    "    Data[\"name\"] = \"Colors point\"\n",
    "    Data[\"data\"] = []\n",
    "    \n",
    "    # Số bộ dữ liệu sinh trong \"data\":\n",
    "    n = 2\n",
    "    \n",
    "    # bảng màu:\n",
    "    colors = [\"red\", \"green\", \"blue\", \"yellow\", \"purple\", \"gray\"]\n",
    "    \n",
    "    # Các thành phần trong \"data\"\n",
    "    for i in range(n):\n",
    "        tmp = {} # lưu tạm\n",
    "        \n",
    "        # Tọa độ, có key là \"coordinate\", value là 2 giá trị tọa độ (để trong array):\n",
    "        tmp[\"coordinate\"] = [random.random(), random.random()]\n",
    "        \n",
    "        # màu sắc, random từ bảng màu đã khai báo trước đó\n",
    "        tmp[\"color\"] = colors[random.randint( 0, len( colors ) - 1 )]\n",
    "        \n",
    "        # Visible:\n",
    "        tmp[\"visible\"] = random.randint( 0, 1 ) == 1\n",
    "        \n",
    "        # Thêm tất cả tmp vào key Data[\"data\"] lớn:\n",
    "        Data['data'].append( tmp )\n",
    "    \n",
    "    # Sau khi sinh, tạo/ mot file để ghi:\n",
    "    with open('randomColorPoints.json', 'w') as output:\n",
    "        json.dump( Data, output )"
   ]
  },
  {
   "cell_type": "code",
   "execution_count": 3,
   "metadata": {},
   "outputs": [],
   "source": [
    "if __name__ == '__main__':\n",
    "     randomJson()"
   ]
  },
  {
   "cell_type": "code",
   "execution_count": null,
   "metadata": {},
   "outputs": [],
   "source": []
  }
 ],
 "metadata": {
  "kernelspec": {
   "display_name": "Python 3",
   "language": "python",
   "name": "python3"
  },
  "language_info": {
   "codemirror_mode": {
    "name": "ipython",
    "version": 3
   },
   "file_extension": ".py",
   "mimetype": "text/x-python",
   "name": "python",
   "nbconvert_exporter": "python",
   "pygments_lexer": "ipython3",
   "version": "3.8.3"
  }
 },
 "nbformat": 4,
 "nbformat_minor": 4
}
